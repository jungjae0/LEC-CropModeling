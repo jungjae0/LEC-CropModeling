{
 "cells": [
  {
   "cell_type": "markdown",
   "metadata": {},
   "source": [
    "# Lab 06"
   ]
  },
  {
   "cell_type": "markdown",
   "metadata": {},
   "source": [
    "Modeling Canopy Photosynthesis"
   ]
  },
  {
   "cell_type": "markdown",
   "metadata": {},
   "source": [
    "<div class=\"alert alert-warning\">\n",
    "혹시 수식이나 표가 제대로 보이지 않는다면 상단의 View - Actiavte Command Palette 메뉴에서 \"Trust Notebook\" 명령을 찾아서 실행하기 바랍니다.\n",
    "</div>"
   ]
  },
  {
   "cell_type": "markdown",
   "metadata": {},
   "source": [
    "<div class=\"alert alert-info\">\n",
    "일부 코드가 `#= .. =#`와 같은 형태로 비워져 있는 부분이 있다면 실습 시간 혹은 이후에 해당 부분을 채워넣은 다음 LMS의 레포트 제출 게시판을 통해 정해진 기간 내에 제출하기 바랍니다.\n",
    "</div>"
   ]
  },
  {
   "cell_type": "code",
   "execution_count": 104,
   "metadata": {},
   "outputs": [],
   "source": [
    "using Cropbox"
   ]
  },
  {
   "cell_type": "code",
   "execution_count": 105,
   "metadata": {
    "tags": []
   },
   "outputs": [
    {
     "data": {
      "application/vnd.webio.node+json": {
       "children": [],
       "instanceArgs": {
        "namespace": "html",
        "tag": "div"
       },
       "nodeType": "DOM",
       "props": {},
       "type": "node"
      },
      "text/html": [
       "<div style=\"padding: 1em; background-color: #f8d6da; border: 1px solid #f5c6cb; font-weight: bold;\">\n",
       "<p>The WebIO Jupyter extension was not detected. See the\n",
       "<a href=\"https://juliagizmos.github.io/WebIO.jl/latest/providers/ijulia/\" target=\"_blank\">\n",
       "    WebIO Jupyter integration documentation\n",
       "</a>\n",
       "for more information.\n",
       "</div>\n"
      ],
      "text/plain": [
       "WebIO._IJuliaInit()"
      ]
     },
     "metadata": {
      "@webio": {
       "kernelId": "8e039cca-edbb-4143-a266-19cd67851668"
      }
     },
     "output_type": "display_data"
    }
   ],
   "source": [
    "Cropbox.Interact.WebIO.setup(:ijulia)"
   ]
  },
  {
   "cell_type": "markdown",
   "metadata": {},
   "source": [
    "### Ex 5.3"
   ]
  },
  {
   "cell_type": "markdown",
   "metadata": {},
   "source": [
    "Using Cropbox package, create a function to predict leaf net photosynthesis ($A$) as a function of irradiance ($I$) that takes parameters of photochemical efficiency ($\\alpha$), the maximum photosynthetic rate at saturating light ($A_{\\mathrm{max}}$), and dark respiration rate ($R_d$).\n",
    "- Based on rectangular hyperbola (Eqn[5.11])\n",
    "- Based on non-rectangular hyperbola (Eqn[5.12] for $0 < \\theta \\leq 1$)\n",
    "- Using the parameter values in 5.1, plot the light response curves of both functions from 0 to 2000 $\\mathrm{\\mu mol}\\ \\mathrm{m^{-2}}\\ \\mathrm{s^{-1}}$ of photosynthetic photon flux density (PFD).\n",
    "- Evaluate the sensitivity of non-rectangular hyperbola to $\\theta$ graphically and discuss."
   ]
  },
  {
   "cell_type": "markdown",
   "metadata": {},
   "source": [
    "#### Rectangular hyperbola"
   ]
  },
  {
   "cell_type": "markdown",
   "metadata": {},
   "source": [
    "- Eqn 5.11\n",
    "\n",
    "$$\n",
    "\\begin{align}\n",
    "A_g &= \\frac{\\alpha I A_{\\mathrm{max}}}{\\alpha I + A_{\\mathrm{max}}} \\\\\n",
    "A_n &= A_g - R_d\n",
    "\\end{align}\n",
    "$$"
   ]
  },
  {
   "cell_type": "markdown",
   "metadata": {},
   "source": [
    "- Table 5.1\n",
    "\n",
    "| Symbol | Value | Units | Description |\n",
    "|:-------|:------|:------|:------------|\n",
    "| $\\alpha$ | 0.05 | $$\\mathrm{\\mu mol_{CO_2}}\\ \\mathrm{\\mu mol_{photon}^{-1}}$$ | Apparent photochemical efficiency (*a.k.a.* quantum yield) |\n",
    "| $A_{\\mathrm{max}}$ | 25.0 | $\\mathrm{\\mu mol}\\ \\mathrm{m^{-2}}\\ \\mathrm{s^{-1}}$ | Light saturated $A_g$ at ambient $\\mathrm{[CO_2]}$ and standard temperature |\n",
    "| $R_d$ | 1.0, 40 | $\\mathrm{\\mu mol_{CO_2}}\\ \\mathrm{m^{-2}}\\ \\mathrm{s^{-1}}$ | Leaf mitochondrial respiration rate at 25 $\\mathrm{^{\\circ}C}$ |"
   ]
  },
  {
   "cell_type": "markdown",
   "metadata": {},
   "source": [
    "- Table 5.1\n",
    "\n",
    "| Symbol | Units | Description |\n",
    "|:-------|:------|:------------|\n",
    "| $I$ | $\\mathrm{\\mu mol_{photon}}\\ \\mathrm{m^{-2}}$ | Incident PAR on leaf surface |\n",
    "| $A_g$ | $$\\mathrm{\\mu mol_{CO_2}}\\ \\mathrm{m^{-2}}\\ \\mathrm{s^{-1}}$$ | Leaf gross $\\mathrm{CO_2}$ assimilation rate \n",
    "| $A_n$ | $\\mathrm{\\mu mol_{CO_2}}\\ \\mathrm{m^{-2}}\\ \\mathrm{s^{-1}}$ | Leaf net $\\mathrm{CO_2}$ assimilation rate |"
   ]
  },
  {
   "cell_type": "markdown",
   "metadata": {},
   "source": [
    "We first define a mix-in system named `Photosynthesis` which provides a shared template of photosynthesis model which other models will be all based on.\n",
    "\n",
    "We have three common parameters and two variables representing photosynthesis rate. $A_n$ is the net photosynthesis derived from gross photosynthesis ($A_g$) and respiration ($R_d$). As we decided to make $R_d$ a constant parameter, subsequent models would only need to provide a custom definition for $A_g$. Although `Ag` is not defined here, it is still a dependency of `An` and thus we need to make a placeholder for it by creating a `hold` variable. For declaring `hold`, only a name and an optinal alias of the variable are needed. Any variables with `hold` state should be properly defined later in another system which embeds `Photosynthesis` as a mix-in."
   ]
  },
  {
   "cell_type": "code",
   "execution_count": 106,
   "metadata": {},
   "outputs": [
    {
     "data": {
      "text/plain": [
       "Photosynthesis"
      ]
     },
     "execution_count": 106,
     "metadata": {},
     "output_type": "execute_result"
    }
   ],
   "source": [
    "@system Photosynthesis begin\n",
    "    α:    photochemical_efficiency    => 0.05 ~ preserve(parameter)\n",
    "    Amax: maximum_photosynthetic_rate => 25   ~ preserve(parameter, u\"μmol/m^2/s\")\n",
    "    Rd:   dark_respiration            => 1.0  ~ preserve(parameter, u\"μmol/m^2/s\")\n",
    "\n",
    "    Ag: gross_photosynthesis ~ hold\n",
    "\n",
    "    An(Ag, Rd): net_photosynthesis => Ag - Rd ~ track(u\"μmol/m^2/s\")\n",
    "end"
   ]
  },
  {
   "cell_type": "markdown",
   "metadata": {},
   "source": [
    "Here is our first model based on rectangular hyperbola named `PhotosynthesisRH` which consists of two mix-ins, `Photosynthesis` and `Controller`. As you remember, `Controller` is a mix-in that makes a top-level system which can be instantiated by `instance()` or `simulate()`. Note that variables from other mix-in that are used by the system should be declared as `hold` kind of variable to ensure correct bindings between variables. Note that `PhotosynthesisRH` now has a concrete definition of `Ag` with an introduction of additional parameter `I`."
   ]
  },
  {
   "cell_type": "code",
   "execution_count": null,
   "metadata": {},
   "outputs": [],
   "source": [
    "@system PhotosynthesisRH(Photosynthesis, Controller) begin\n",
    "    I: irradiance => 0 ~ preserve(parameter, u\"μmol/m^2/s\")\n",
    "\n",
    "    Ag(I, α, Amax): gross_photosynthesis => begin\n",
    "        α*I * Amax / (α*I + Amax)\n",
    "    end ~ track(u\"μmol/m^2/s\")\n",
    "end"
   ]
  },
  {
   "cell_type": "markdown",
   "metadata": {},
   "source": [
    "We use `visualize()` with a range of `I` value set up for `xstep` in the same way as we saw earlier."
   ]
  },
  {
   "cell_type": "code",
   "execution_count": null,
   "metadata": {},
   "outputs": [],
   "source": [
    "visualize(PhotosynthesisRH, :I, :An;\n",
    "    xstep = :0 => :I => 0:1500,\n",
    "    kind = :line,\n",
    ")"
   ]
  },
  {
   "cell_type": "markdown",
   "metadata": {},
   "source": [
    "#### Non-rectangular hyperbola"
   ]
  },
  {
   "cell_type": "markdown",
   "metadata": {},
   "source": [
    "- Eqn 5.12\n",
    "\n",
    "$$\n",
    "A_g = \\frac{\\alpha I + A_{\\mathrm{max}} - \\sqrt{(\\alpha I + A_{\\mathrm{max}})^2 - 4\\theta\\alpha I A_{\\mathrm{max}}}}{2\\theta} \\\\\n",
    "$$"
   ]
  },
  {
   "cell_type": "markdown",
   "metadata": {},
   "source": [
    "- Table 5.1\n",
    "\n",
    "| Symbol | Value | Units | Description |\n",
    "|:-------|:------|:------|:------------|\n",
    "| $\\theta$ | 0.7 | - | Curvature determining transition between light-limited and saturated photosynthesis |"
   ]
  },
  {
   "cell_type": "markdown",
   "metadata": {},
   "source": [
    "Another variant of the model using non-rectangular hyperbola looks similar to the rectangular model we built earlier, except the addition of new parameter `θ` controlling curvature of transition."
   ]
  },
  {
   "cell_type": "code",
   "execution_count": null,
   "metadata": {},
   "outputs": [],
   "source": [
    "@system PhotosynthesisNRH(Photosynthesis, Controller) begin\n",
    "    θ: transition_curvature => 0.7 ~ preserve(parameter)\n",
    "    I: irradiance           => 0   ~ preserve(parameter, u\"μmol/m^2/s\")\n",
    "\n",
    "    Ag(θ, I, α, Amax): gross_photosynthesis => begin\n",
    "        (α*I + Amax - √((α*I + Amax)^2 - 4θ*α*I*Amax)) / 2θ\n",
    "    end ~ track(u\"μmol/m^2/s\")\n",
    "end"
   ]
  },
  {
   "cell_type": "code",
   "execution_count": null,
   "metadata": {},
   "outputs": [],
   "source": [
    "visualize(PhotosynthesisNRH, :I, :An;\n",
    "    xstep = :0 => :I => 0:1500,\n",
    "    kind = :line,\n",
    ")"
   ]
  },
  {
   "cell_type": "markdown",
   "metadata": {},
   "source": [
    "By the way, instead of solving the quadratic equation for $A_g$ manually as we did above, we can use `solve` variable to let the framework automatically figure it out. In such case, we can use Eqn[5.9] almost as is. When multiple solutions exist, we may need to provide an extra information to guide a solution. Here we may specify a sensible range of $A_g$ from 0 to $A_{\\mathrm{max}}$ with `lower` and `upper` tags."
   ]
  },
  {
   "cell_type": "markdown",
   "metadata": {},
   "source": [
    "- Eqn 5.9.\n",
    "\n",
    "$$\n",
    "\\theta A_g^2 - (\\alpha I + A_{\\mathrm{max}}) A_g + \\alpha I A_{\\mathrm{max}} = 0\n",
    "$$"
   ]
  },
  {
   "cell_type": "code",
   "execution_count": null,
   "metadata": {},
   "outputs": [],
   "source": [
    "@system PhotosynthesisNRH2(Photosynthesis, Controller) begin\n",
    "    θ: transition_curvature => 0.7 ~ preserve(parameter)\n",
    "    I: irradiance           => 0   ~ preserve(parameter, u\"μmol/m^2/s\")\n",
    "\n",
    "    Ag(Ag, θ, I, α, Amax): gross_photosynthesis => begin\n",
    "        θ*Ag^2 - (α*I + Amax)*Ag + α*I*Amax\n",
    "    end ~ solve(pick = :minimum, u\"μmol/m^2/s\")\n",
    "end"
   ]
  },
  {
   "cell_type": "code",
   "execution_count": null,
   "metadata": {},
   "outputs": [],
   "source": [
    "visualize(PhotosynthesisNRH2, :I, :An;\n",
    "    xstep = :0 => :I => 0:1500,\n",
    "    kind = :line,\n",
    ")"
   ]
  },
  {
   "cell_type": "markdown",
   "metadata": {},
   "source": [
    "#### Sensitivity of θ"
   ]
  },
  {
   "cell_type": "markdown",
   "metadata": {},
   "source": [
    "So far we've only made plots with a single line composed of a series of points from multiple simulations triggered by `xstep` option. For drawing multiple lines of simulations for non-rectangular hyperbola, we use `group` option to control another parameter value in the system. For testing sensitivity of `θ`, we want to run simulations with different values of `θ` from 0.2 to 1.0 by increment of 0.2. For convenience of the reader, we use a parameter list in reverse order (`[1, 0.99, 0.9, 0.7, 0.4]`) to show the labels from top to bottom. Additionally, we append a plot for the rectangular hyperbola obtained when `θ` is 0."
   ]
  },
  {
   "cell_type": "code",
   "execution_count": null,
   "metadata": {},
   "outputs": [],
   "source": [
    "let x = :I, y = :An,\n",
    "    xstep = :0 => :I => 0:10:1500,\n",
    "    group = :0 => :θ => [1, 0.99, 0.9, 0.7, 0.4],\n",
    "    kind = :line\n",
    "    p = visualize(PhotosynthesisNRH, x, y; group, xstep, kind)\n",
    "    visualize!(p, PhotosynthesisRH, x, y; xstep, kind, name = \"0\")\n",
    "end"
   ]
  },
  {
   "cell_type": "code",
   "execution_count": null,
   "metadata": {
    "tags": []
   },
   "outputs": [],
   "source": [
    "let x = :I, y = :An,\n",
    "    xstep = :0 => :I => 0:10:1500,\n",
    "    group = :0 => :θ => [1, 0.99, 0.9, 0.7, 0.4],\n",
    "    kind = :line\n",
    "    p = visualize(PhotosynthesisNRH, x, y; group, xstep, kind)\n",
    "    visualize!(p, PhotosynthesisRH, x, y; xstep, kind, name = \"0\")\n",
    "end"
   ]
  },
  {
   "cell_type": "code",
   "execution_count": null,
   "metadata": {
    "tags": []
   },
   "outputs": [],
   "source": [
    "manipulate(PhotosynthesisNRH2, :I, :An;\n",
    "    parameters = :0 => :θ => 0.01:0.01:1,\n",
    "    xstep = :0 => :I => 0:10:1500,\n",
    "    ylim = (-10, 30),\n",
    "    kind = :line,\n",
    ")"
   ]
  },
  {
   "cell_type": "markdown",
   "metadata": {},
   "source": [
    "### Ex 5.4"
   ]
  },
  {
   "cell_type": "markdown",
   "metadata": {},
   "source": [
    "Using Cropbox, you will evaluate three different systems for modeling instantaneous canopy photosynthesis ($A_{g,\\mathrm{can}}$) based on the Appendix (section A.2) of Goudriaan and van Laar (1994) and also Goudriaan (1986):\n",
    "- Build system based on 1) analytical solution, 2) Gaussian 3 point integration method, and 3) Rectangular integration (Eulerian) method over total LAI ($L$) with an increment ($dl$) = 1.0 and 0.1.\n",
    "- Reproduce the results shown in  Appendix (section A.2) of Goudriaan and van Laar(1994) for the same conditions\n",
    "- Plot *gross* canopy photosynthesis ($A_{g,\\mathrm{can}}$) to compare the three approaches in response to LAI ranging from 0 to 10\n",
    "- Plot *net* canopy photosynthesis ($A_{n,\\mathrm{can}}$) to compare the three approaches in response to LAI ranging from 0 to 10. Assume that canopy respiration is 10% of $A_{max}$ integrated over the whole canopy. How do the two plots compare?\n",
    "- Choose one method of integration and experiment with different parameter values for physiological (e.g., $A_{\\mathrm{max}}$, $\\alpha$, $\\theta$) and canopy (e.g., $k$, $L$) traits to evaluate their impacts on canopy productivity. Plot *net* canopy photosynthesis ($A_{n,\\mathrm{can}}$) to compare the changes in these parameters and discuss the results.\n",
    "- Here we are integrating leaf photosynthesis spatially over a canopy but not temporally over a day or over a growing season. Hence the results represent 'instantaneous' canopy photosynthesis at one time point. Please discuss how this method may be incorporated into the growth functions in the form of $dW/dt = rW$ for temporal integration where $r$ is the intrinsic growth rate with respect to  carbon budget determining biomass that we have been discussing in previous units including unit 05. How would you do that? No coding is necessary for this sub-question."
   ]
  },
  {
   "cell_type": "markdown",
   "metadata": {},
   "source": [
    "#### Breaking down the model into components: Irradiance"
   ]
  },
  {
   "cell_type": "markdown",
   "metadata": {},
   "source": [
    "`Irradiance` system contains code related to the calculation of irradiance. Note that `Ih` and `I` are declared as `call` variable which can be *called* like a regular function. It is used when a certain equation needs to be evaluated multiple times with different values within the same time step. **Positional arguments** declared *before* semi-colon (`;`) indicates the list of depending variables and **keyword arguments** declared *after* semi-colon denotes input arguments that has to be supplied when the variable is called. For example, `Ih` depends on `I0` and `k` variables and accepts an argument named `l`. In the declaration of `I`, `Ih` is called with an argument named `l` which is supplied inside parenthesis following the name of variable (`Ih(l)`)."
   ]
  },
  {
   "cell_type": "markdown",
   "metadata": {},
   "source": [
    "- Eqn 5.13 & 14\n",
    "\n",
    "$$\n",
    "\\begin{align}\n",
    "I_h(l) &= I_0 e^{-kl} \\\\\n",
    "I(l) &= k \\cdot I_h(l) = k \\cdot I_0 e^{-k l}\n",
    "\\end{align}\n",
    "$$"
   ]
  },
  {
   "cell_type": "markdown",
   "metadata": {},
   "source": [
    "- Table 5.1\n",
    "\n",
    "| Symbol | Units | Description |\n",
    "|:-------|:------|:------------|\n",
    "| $l$ | $\\mathrm{m_{leaf}^2}\\ \\mathrm{m_{ground}^{-2}}$ | Cumulative leaf area index up to the position of a leaf inside the canopy |\n",
    "| $I_h(l)$ | $$\\mathrm{\\mu mol}\\ \\mathrm{m^{-2}}\\ \\mathrm{s^{-1}}$$ | $I$ incident on a horizontal surface at canopy depth $l$ |\n",
    "| $I(l)$ | $\\mathrm{\\mu mol}\\ \\mathrm{m^{-2}}\\ \\mathrm{s^{-1}}$ | $I$ incident on a leaf surface at canopy depth $l$ |"
   ]
  },
  {
   "cell_type": "markdown",
   "metadata": {},
   "source": [
    "- Table 5.1\n",
    "\n",
    "| Symbol | Value | Units | Description |\n",
    "|:-------|:------|:------|:------------|\n",
    "| $I_0$ | 575 | $$\\mathrm{\\mu mol}\\ \\mathrm{m^{-2}}\\ \\mathrm{s^{-1}}$$ | Irradiance at the top of the canopy |\n",
    "| $k$ | 0.8 | $\\mathrm{m_{ground}^2}\\ \\mathrm{m_{leaf}^{-2}}$ | Light extinction coefficient inside the canopy |"
   ]
  },
  {
   "cell_type": "code",
   "execution_count": null,
   "metadata": {
    "tags": []
   },
   "outputs": [],
   "source": [
    "@system Irradiance begin\n",
    "    I0: irradiance_top   => 575 ~ preserve(parameter, u\"μmol/m^2/s\") # equivalent to 125 W m-2 of PAR\n",
    "    k:  extinction_coeff => 0.8 ~ preserve(parameter, u\"m^2/m^2\")\n",
    "\n",
    "    Ih(I0, k; l) => I0 * exp(-k * l) ~ call(u\"μmol/m^2/s\")\n",
    "    I(Ih, k; l)  => Ih(l) * k ~ call(u\"μmol/m^2/s\")\n",
    "end"
   ]
  },
  {
   "cell_type": "markdown",
   "metadata": {},
   "source": [
    "#### Breaking down the model into components: $A_{can}$"
   ]
  },
  {
   "cell_type": "markdown",
   "metadata": {},
   "source": [
    "`CanopyPhotosynthesis` consists of variables calculated by integrating over a depth of the canopy. Gross photosynthesis (`Ag`) is a `hold` variable implying an actual definition of this variable must be supplied by other systems (mix-ins) which will be later combined to form a complete system. Dark respiration (`Rd`) is calculated by the ratio parameter (`Rdp`) whose initial value is 0.1 assuming 10% of maximum gross photosynthesis (`Amax*L`) is used for canopy respiration (`Rd`).\n",
    "\n",
    "$$R_d = 0.1 \\cdot A_{\\mathrm{max}} L$$"
   ]
  },
  {
   "cell_type": "markdown",
   "metadata": {},
   "source": [
    "- Table 5.1\n",
    "\n",
    "| Symbol | Units | Description |\n",
    "|:-------|:------|:------------|\n",
    "| $L$ | $\\mathrm{m_{leaf}^2}\\ \\mathrm{m_{ground}^{-2}}$ | Total leaf area index of the canopy |\n",
    "| $R_d$ | $$\\mathrm{\\mu mol}\\ \\mathrm{m^{-2}}\\ \\mathrm{s^{-1}}$$ | Canopy respiration rate |"
   ]
  },
  {
   "cell_type": "markdown",
   "metadata": {},
   "source": [
    "- Table 5.1\n",
    "\n",
    "| Symbol | Value | Units | Description |\n",
    "|:-------|:------|:------|:------------|\n",
    "| $\\alpha$ | 0.0494 | $$\\mathrm{\\mu mol_{CO_2}}\\ \\mathrm{\\mu mol_{photon}^{-1}}$$ | Apparent photochemical efficiency (*a.k.a.* quantum yield) |\n",
    "| $A_{\\mathrm{max}}$ | 22.73 | $\\mathrm{\\mu mol}\\ \\mathrm{m^{-2}}\\ \\mathrm{s^{-1}}$ | Light saturated $A_g$ at ambient $\\mathrm{[CO_2]}$ and standard temperature |"
   ]
  },
  {
   "cell_type": "code",
   "execution_count": null,
   "metadata": {},
   "outputs": [],
   "source": [
    "c = @config Photosynthesis => (Amax = 22.73, α = 0.0494)"
   ]
  },
  {
   "cell_type": "code",
   "execution_count": null,
   "metadata": {},
   "outputs": [],
   "source": [
    "@system CanopyPhotosynthesis(Photosynthesis) begin\n",
    "    α:    photochemical_efficiency    => 0.0494 ~ preserve(parameter, u\"μmol/μmol\")\n",
    "    Amax: maximum_photosynthetic_rate => 22.73 ~ preserve(parameter, u\"μmol/m^2/s\")\n",
    "\n",
    "    L: leaf_area_index => 5 ~ preserve(parameter, u\"m^2/m^2\") # for comparison with Gourdriaan and van Laar (1994)\n",
    "\n",
    "    Rdp:              dark_respiration_ratio => 0.1        ~ preserve(parameter)\n",
    "    Rd(Rdp, Amax, L): dark_respiration       => Rdp * Amax * L  ~ track(u\"μmol/m^2/s\")\n",
    "end"
   ]
  },
  {
   "cell_type": "markdown",
   "metadata": {},
   "source": [
    "#### Analytical solution"
   ]
  },
  {
   "cell_type": "markdown",
   "metadata": {},
   "source": [
    "Let's define an anlytical version of the model first. `CanopyPhotosynthesisA` is composed of other systems including `CanopyPhotosynthesis` and `Irradiance` defined above. These mixins provide actual definition of many variables declared to be `hold` here. For example, `α`, `Amax`, and `Rd` `Ag` is provided by this system while other variables are declared to be `hold` meaning provided by other mixins."
   ]
  },
  {
   "cell_type": "markdown",
   "metadata": {},
   "source": [
    "- Eqn 5.16\n",
    "\n",
    "$$\n",
    "A_{g,\\mathrm{can}} = \\int_0^L A(l) \\, dl = \\frac{A_{\\mathrm{max}}}{k} \\cdot \\ln{\\frac{A_{\\mathrm{max}} + \\alpha k I_0}{A_{\\mathrm{max}} + \\alpha k I_0 e^{-k L}}}\n",
    "$$"
   ]
  },
  {
   "cell_type": "code",
   "execution_count": null,
   "metadata": {},
   "outputs": [],
   "source": [
    "@system CanopyPhotosynthesisA(CanopyPhotosynthesis, Irradiance, Controller) begin\n",
    "    Ag(α, Amax, I0, k, L): gross_photosynthesis => begin\n",
    "        (Amax / k) * log((Amax + α * k * I0) / (Amax + α * k * I0 * exp(-k * L)))\n",
    "    end ~ track(u\"μmol/m^2/s\")\n",
    "end"
   ]
  },
  {
   "cell_type": "code",
   "execution_count": null,
   "metadata": {},
   "outputs": [],
   "source": [
    "Cropbox.hierarchy(CanopyPhotosynthesisA)"
   ]
  },
  {
   "cell_type": "markdown",
   "metadata": {},
   "source": [
    "`CanopyPhotosynthesisN` is an intermediate mix-in providing a common ground for Gauss and Euler version of the model. Instead of directly computing `Ag` for the whole canopy, it makes uses a `call` variable `A` for calculating a photosynthesis rate at a certain layer represented by a value of leaf area index (`L`). `A` will be later integrated over a total range of leaf area index from 0 to `L` for computing `Ag`."
   ]
  },
  {
   "cell_type": "markdown",
   "metadata": {},
   "source": [
    "- Eqn 5.15\n",
    "\n",
    "$$\n",
    "A(l) = \\frac{\\alpha I(l) \\cdot A_{\\mathrm{max}}}{\\alpha I(l) + A_{\\mathrm{max}}}\n",
    "$$"
   ]
  },
  {
   "cell_type": "markdown",
   "metadata": {},
   "source": [
    "- Table 5.1\n",
    "\n",
    "| Symbol | Units | Description |\n",
    "|:-------|:------|:------------|\n",
    "| $A(l)$ | $$\\mathrm{\\mu mol}\\ \\mathrm{m^{-2}}\\ \\mathrm{s^{-1}}$$ | Leaf gross $\\mathrm{CO_2}$ assimilation rate ($A_g$) of a leaf inside the canopy at depth $l$ |"
   ]
  },
  {
   "cell_type": "code",
   "execution_count": null,
   "metadata": {},
   "outputs": [],
   "source": [
    "@system CanopyPhotosynthesisN(CanopyPhotosynthesis, Irradiance, Controller) begin\n",
    "    A(α, Amax, I; l) => begin\n",
    "        Il = I(l)\n",
    "        (α * Il * Amax) / (α * Il + Amax) \n",
    "    end ~ call(u\"μmol/m^2/s\")\n",
    "end"
   ]
  },
  {
   "cell_type": "markdown",
   "metadata": {},
   "source": [
    "#### Gaussian integration"
   ]
  },
  {
   "cell_type": "markdown",
   "metadata": {},
   "source": [
    "`CanopyPhotosynthesisG` uses Gaussian integration method to compute `Ag` from `A` defined above. Let's use QuadGK for convenience."
   ]
  },
  {
   "cell_type": "code",
   "execution_count": null,
   "metadata": {},
   "outputs": [],
   "source": [
    "@system CanopyPhotosynthesisG(CanopyPhotosynthesisN, Controller) begin\n",
    "    Ag(A, L): gross_photosynthesis => begin\n",
    "        #Cropbox.QuadGK.quadgk(A, 0, L) |> first\n",
    "        X, W = Cropbox.QuadGK.gauss(3, 0, L)\n",
    "        sum(W .* A.(X))\n",
    "    end ~ track(u\"μmol/m^2/s\")\n",
    "end"
   ]
  },
  {
   "cell_type": "code",
   "execution_count": null,
   "metadata": {},
   "outputs": [],
   "source": [
    "Cropbox.hierarchy(CanopyPhotosynthesisG)"
   ]
  },
  {
   "cell_type": "markdown",
   "metadata": {},
   "source": [
    "#### Rectangular integration (Eulerian)"
   ]
  },
  {
   "cell_type": "markdown",
   "metadata": {},
   "source": [
    "`CanopyPhotosynthesisE` uses Euler integration method to compute `Ag`. Overall structure is close to `CanopyPhotosynthesisG` except that it uses a parameter `dl` to control the size of integration step."
   ]
  },
  {
   "cell_type": "code",
   "execution_count": null,
   "metadata": {},
   "outputs": [],
   "source": [
    "@system CanopyPhotosynthesisE(CanopyPhotosynthesisN, Controller) begin\n",
    "    dl => 1.0 ~ preserve(parameter)\n",
    "    Ag(A, L, dl): gross_photosynthesis => begin\n",
    "        sum([A(l) * dl for l in dl:dl:L])\n",
    "    end ~ track(u\"μmol/m^2/s\")\n",
    "end"
   ]
  },
  {
   "cell_type": "code",
   "execution_count": null,
   "metadata": {},
   "outputs": [],
   "source": [
    "Cropbox.hierarchy(CanopyPhotosynthesisE)"
   ]
  },
  {
   "cell_type": "markdown",
   "metadata": {},
   "source": [
    "Now it's time to make a plot of three models using the same option. We want to plot gross photosynthesis (`Ag`) against a range of leaf area index (`L`) from 0 to 15. `visualize()` function again conveniently provides a feature to draw a series of simulation lines from multiple systems."
   ]
  },
  {
   "cell_type": "markdown",
   "metadata": {},
   "source": [
    "Reproduce the results for three methods and compare them with the values from Gourdriaan and van Laar (1994) p. 181. Their analytical solution was 843.74 $\\mathrm{\\mu g}\\ \\mathrm{m^{-2}}\\ \\mathrm{s^{-1}}$ and Gaussian solution was 844.22 $\\mathrm{\\mu g}\\ \\mathrm{m^{-2}}\\ \\mathrm{s^{-1}}$ respectively. Note that 1 $\\mathrm{\\mu mol_{CO_2}}$ equals to 44 $\\mathrm{\\mu g_{CO_2}}$."
   ]
  },
  {
   "cell_type": "code",
   "execution_count": null,
   "metadata": {},
   "outputs": [],
   "source": [
    "co2_molar_mass = 44u\"μg\" / 1u\"μmol\""
   ]
  },
  {
   "cell_type": "code",
   "execution_count": null,
   "metadata": {},
   "outputs": [],
   "source": [
    "instance(CanopyPhotosynthesisA).Ag' * co2_molar_mass"
   ]
  },
  {
   "cell_type": "code",
   "execution_count": null,
   "metadata": {},
   "outputs": [],
   "source": [
    "instance(CanopyPhotosynthesisG).Ag' * co2_molar_mass"
   ]
  },
  {
   "cell_type": "code",
   "execution_count": null,
   "metadata": {},
   "outputs": [],
   "source": [
    "instance(CanopyPhotosynthesisE).Ag' * co2_molar_mass"
   ]
  },
  {
   "cell_type": "markdown",
   "metadata": {},
   "source": [
    "Let's try a smaller integration step for the rectangular method. $dl$ is now decreased to 0.1 from 1.0 above."
   ]
  },
  {
   "cell_type": "code",
   "execution_count": null,
   "metadata": {},
   "outputs": [],
   "source": [
    "instance(CanopyPhotosynthesisE, config = :0 => :dl => 0.1).Ag' * co2_molar_mass"
   ]
  },
  {
   "cell_type": "code",
   "execution_count": null,
   "metadata": {},
   "outputs": [],
   "source": [
    "models = [CanopyPhotosynthesisA, CanopyPhotosynthesisG, CanopyPhotosynthesisE]\n",
    "xstep = :0 => :L => 0:0.1:10\n",
    "names = [\"Analytic\", \"Gauss\", \"Euler\"]\n",
    "kind = :scatter\n",
    "ylim = (0, 30);"
   ]
  },
  {
   "cell_type": "markdown",
   "metadata": {},
   "source": [
    "Note that the line of Gauss model (yellow) is barely visible since it's mostly overlapped with the line of analytic solution (blue)."
   ]
  },
  {
   "cell_type": "code",
   "execution_count": null,
   "metadata": {},
   "outputs": [],
   "source": [
    "visualize(models, :L, :Ag; xstep, names, kind, ylim)"
   ]
  },
  {
   "cell_type": "markdown",
   "metadata": {},
   "source": [
    "Plotting net photosynthesis (`An`) which takes out 10% of gross respiration (`Ag`) as dark respiration (`Rd`) can be easily done in a similar way."
   ]
  },
  {
   "cell_type": "code",
   "execution_count": null,
   "metadata": {},
   "outputs": [],
   "source": [
    "visualize(models, :L, :An; xstep, names, kind, ylim)"
   ]
  },
  {
   "cell_type": "markdown",
   "metadata": {},
   "source": [
    "Note that Cropbox also implements a special kind of variable named `integrate` to cover the need of numerical integration as we explored in this notebook. Instead of relying on two separate variables, one `call` defining a function to be integrated and another `track` manually doing numerical integration, `integrate` can describe the same logic using a single variable. It takes a similar form as `call` putting the name of internal variable to be integrated (`l` in this case) after semi-colon (`;`) in the argument list. Then the range of integration is specified by `from` and `to` tags defined inside the parenthesis following the state name (`integrate`). As we want to integrate from 0 to `L` and the default value of `from` and `to` are 0, we only need to specify `to` as `L`. As a bonus, unit conversion would be automatically handled if any of these variables were assigned some units. `CanopyPhotosynthesisG2` implemented with `call` should behave in the exactly same way as `CanopyPhotosynthesisG` implemented earlier with `call` and `track`."
   ]
  },
  {
   "cell_type": "code",
   "execution_count": null,
   "metadata": {},
   "outputs": [],
   "source": [
    "@system CanopyPhotosynthesisG2(CanopyPhotosynthesis, Irradiance, Controller) begin\n",
    "    Ag(α, Amax, I; l): gross_photosynthesis => begin\n",
    "        Il = I(l)\n",
    "        α*Il * Amax / (α*Il + Amax)\n",
    "    end ~ integrate(to = L, u\"μmol/m^2/s\")\n",
    "end"
   ]
  },
  {
   "cell_type": "code",
   "execution_count": null,
   "metadata": {},
   "outputs": [],
   "source": [
    "Cropbox.hierarchy(CanopyPhotosynthesisG2)"
   ]
  },
  {
   "cell_type": "code",
   "execution_count": null,
   "metadata": {},
   "outputs": [],
   "source": [
    "Cropbox.dependency(CanopyPhotosynthesisG2)"
   ]
  },
  {
   "cell_type": "code",
   "execution_count": null,
   "metadata": {},
   "outputs": [],
   "source": [
    "instance(CanopyPhotosynthesisG2)"
   ]
  },
  {
   "cell_type": "markdown",
   "metadata": {},
   "source": [
    "#### Sensitivity of Parameters"
   ]
  },
  {
   "cell_type": "markdown",
   "metadata": {},
   "source": [
    "We can test sensitivty of parameters as we did earlier."
   ]
  },
  {
   "cell_type": "code",
   "execution_count": null,
   "metadata": {},
   "outputs": [],
   "source": [
    "visualize(CanopyPhotosynthesisG2, :Amax, :An;\n",
    "    xstep = :0 => :Amax => 1:50,\n",
    "    kind = :line,\n",
    ")"
   ]
  },
  {
   "cell_type": "code",
   "execution_count": null,
   "metadata": {},
   "outputs": [],
   "source": [
    "visualize(CanopyPhotosynthesisG2, :α, :An;\n",
    "    xstep = :0 => :α => 0:0.001:0.1,\n",
    "    xlim = (0, 0.1),\n",
    "    kind = :line,\n",
    ")"
   ]
  },
  {
   "cell_type": "code",
   "execution_count": null,
   "metadata": {},
   "outputs": [],
   "source": [
    "visualize(CanopyPhotosynthesisG2, :k, :An;\n",
    "    xstep = :0 => :k => 0:0.01:1,\n",
    "    kind = :line,\n",
    ")"
   ]
  },
  {
   "cell_type": "code",
   "execution_count": null,
   "metadata": {},
   "outputs": [],
   "source": [
    "visualize(CanopyPhotosynthesisG2, :L, :An;\n",
    "    xstep = :0 => :L => 0:0.1:10,\n",
    "    kind = :line,\n",
    ")"
   ]
  },
  {
   "cell_type": "markdown",
   "metadata": {},
   "source": [
    "#### Light response of leaf and canopy photosynthesis"
   ]
  },
  {
   "cell_type": "code",
   "execution_count": null,
   "metadata": {},
   "outputs": [],
   "source": [
    "p = visualize(CanopyPhotosynthesisG2, :I0, :An;\n",
    "    config = :0 => :L => 5,\n",
    "    xstep = :0 => :I0 => 0:10:2000,\n",
    "    kind = :line,\n",
    "    name = \"An,can (L=5)\",\n",
    ")\n",
    "visualize!(p, PhotosynthesisRH, :I, :An;\n",
    "    xstep = :0 => :I => 0:10:2000,\n",
    "    kind = :line,\n",
    "    name = \"An,leaf\",\n",
    ")"
   ]
  },
  {
   "cell_type": "markdown",
   "metadata": {},
   "source": [
    "We can make an interactive plot using `manipulate()` function."
   ]
  },
  {
   "cell_type": "code",
   "execution_count": null,
   "metadata": {},
   "outputs": [],
   "source": [
    "manipulate(CanopyPhotosynthesisG2, :I0, :An;\n",
    "    parameters = :0 => :L => 0:0.1:10,\n",
    "    xstep = :0 => :I0 => 0:10:2000,\n",
    "    ylim = (-10, 30),\n",
    "    kind = :line,\n",
    ")"
   ]
  },
  {
   "cell_type": "code",
   "execution_count": null,
   "metadata": {
    "tags": []
   },
   "outputs": [],
   "source": [
    "manipulate(parameters = :0 => :L => 0:0.1:10) do c\n",
    "    p = visualize(CanopyPhotosynthesisG2, :I0, :An;\n",
    "        config = c,\n",
    "        xstep = :0 => :I0 => 0:10:2000,\n",
    "        ylim = (-10, 30),\n",
    "        kind = :line,\n",
    "        name = \"An,can\",\n",
    "    )\n",
    "    visualize!(p, PhotosynthesisRH, :I, :An;\n",
    "        xstep = :0 => :I => 0:10:2000,\n",
    "        kind = :line,\n",
    "        name = \"An,leaf\",\n",
    "    )\n",
    "end"
   ]
  }
 ],
 "metadata": {
  "@webio": {
   "lastCommId": "ec829e65-7361-4e0a-b245-2372af15dab8",
   "lastKernelId": "8e039cca-edbb-4143-a266-19cd67851668"
  },
  "kernelspec": {
   "display_name": "Julia 1.9.3",
   "language": "julia",
   "name": "julia-1.9"
  },
  "language_info": {
   "file_extension": ".jl",
   "mimetype": "application/julia",
   "name": "julia",
   "version": "1.9.3"
  }
 },
 "nbformat": 4,
 "nbformat_minor": 4
}
