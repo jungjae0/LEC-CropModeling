{
 "cells": [
  {
   "cell_type": "markdown",
   "metadata": {},
   "source": [
    "# Lab 02"
   ]
  },
  {
   "cell_type": "markdown",
   "metadata": {},
   "source": [
    "<div class=\"alert alert-warning\">\n",
    "혹시 수식이나 표가 제대로 보이지 않는다면 상단의 View - Actiavte Command Palette 메뉴에서 \"Trust Notebook\" 명령을 찾아서 실행하기 바랍니다.\n",
    "</div>"
   ]
  },
  {
   "cell_type": "markdown",
   "metadata": {},
   "source": [
    "<div class=\"alert alert-info\">\n",
    "일부 코드가 `#= .. =#`와 같은 형태로 비워져 있는 부분이 있다면 실습 시간 혹은 이후에 해당 부분을 채워넣은 다음 LMS의 레포트 제출 게시판을 통해 정해진 기간 내에 제출하기 바랍니다.\n",
    "</div>"
   ]
  },
  {
   "cell_type": "markdown",
   "metadata": {},
   "source": [
    "Plant Growth Functions"
   ]
  },
  {
   "cell_type": "code",
   "execution_count": 1,
   "metadata": {
    "tags": []
   },
   "outputs": [],
   "source": [
    "using Cropbox"
   ]
  },
  {
   "cell_type": "code",
   "execution_count": 2,
   "metadata": {
    "tags": []
   },
   "outputs": [
    {
     "data": {
      "application/vnd.webio.node+json": {
       "children": [],
       "instanceArgs": {
        "namespace": "html",
        "tag": "div"
       },
       "nodeType": "DOM",
       "props": {},
       "type": "node"
      },
      "text/html": [
       "<div style=\"padding: 1em; background-color: #f8d6da; border: 1px solid #f5c6cb; font-weight: bold;\">\n",
       "<p>The WebIO Jupyter extension was not detected. See the\n",
       "<a href=\"https://juliagizmos.github.io/WebIO.jl/latest/providers/ijulia/\" target=\"_blank\">\n",
       "    WebIO Jupyter integration documentation\n",
       "</a>\n",
       "for more information.\n",
       "</div>\n"
      ],
      "text/plain": [
       "WebIO._IJuliaInit()"
      ]
     },
     "metadata": {
      "@webio": {
       "kernelId": "a151eabc-a42f-40a5-845a-50f8469e74ba"
      }
     },
     "output_type": "display_data"
    }
   ],
   "source": [
    "Cropbox.Interact.WebIO.setup(:ijulia)"
   ]
  },
  {
   "cell_type": "markdown",
   "metadata": {},
   "source": [
    "## 1. Growth Equations"
   ]
  },
  {
   "cell_type": "markdown",
   "metadata": {},
   "source": [
    "### 1.1. Exponential Growth Equation\n",
    "\n",
    "- Eq\n",
    "\n",
    "$$\n",
    "\\frac{dW}{dt} = \\mu W\n",
    "$$\n",
    "\n",
    "- Table\n",
    "\n",
    "| Symbol | Value | Units | Description |\n",
    "| :- | :- | :- | :- |\n",
    "| $t$ | - | - | Time unit used in the model |\n",
    "| $\\mu$ | 0.3 | - | Specific growth rate |\n",
    "| $W_0$ | 1 | - | Dry mass at time $t = 0$ |\n",
    "| $W$ | - | - | Current dry mass |"
   ]
  },
  {
   "cell_type": "code",
   "execution_count": 7,
   "metadata": {
    "tags": []
   },
   "outputs": [
    {
     "ename": "LoadError",
     "evalue": "UndefVarError: `μ` not defined",
     "output_type": "error",
     "traceback": [
      "UndefVarError: `μ` not defined",
      ""
     ]
    }
   ],
   "source": [
    "# \\mu\n",
    "# W\\_0"
   ]
  },
  {
   "cell_type": "code",
   "execution_count": 8,
   "metadata": {
    "tags": []
   },
   "outputs": [
    {
     "data": {
      "text/plain": [
       "Expo"
      ]
     },
     "execution_count": 8,
     "metadata": {},
     "output_type": "execute_result"
    }
   ],
   "source": [
    "@system Expo(Controller) begin\n",
    "    # numerical form\n",
    "    μ       => 0.3 ~ preserve(parameter)\n",
    "    W0      => 1   ~ preserve(parameter)\n",
    "    W(μ, W) => μ*W ~ accumulate(init = W0)\n",
    "\n",
    "    # analytical form\n",
    "    t(context.clock.tick) ~ track\n",
    "    # t(x = context.clokc.tick) => x ~ track # 위의 내용을 풀어서 쓰면\n",
    "end"
   ]
  },
  {
   "cell_type": "code",
   "execution_count": null,
   "metadata": {},
   "outputs": [],
   "source": [
    "# # track 이해를 위한 예시\n",
    "# @system S(Controller) begin\n",
    "#     # numerical form\n",
    "#     μ       => 0.3 ~ preserve(parameter)\n",
    "#     W0      => 1   ~ preserve(parameter)\n",
    "#     W(μ, W) => μ*W ~ accumulate(init = W0)\n",
    "#     z(W) => 2W ~ track\n",
    "\n",
    "#     # analytical form\n",
    "#     t(context.clock.tick) ~ track\n",
    "#     # t(x = context.clokc.tick) => x ~ track # 위의 내용을 풀어서 쓰면\n",
    "#     # track: 매 timestep마다 t 변수를 update함 -> x 변수도 함께 update (tracking)\n",
    "# end"
   ]
  },
  {
   "cell_type": "code",
   "execution_count": 11,
   "metadata": {
    "tags": []
   },
   "outputs": [
    {
     "data": {
      "text/html": [
       "<div><div style = \"float: left;\"><span>1×5 DataFrame</span></div><div style = \"clear: both;\"></div></div><div class = \"data-frame\" style = \"overflow-x: scroll;\"><table class = \"data-frame\" style = \"margin-bottom: 6px;\"><thead><tr class = \"header\"><th class = \"rowNumber\" style = \"font-weight: bold; text-align: right;\">Row</th><th style = \"text-align: left;\">time</th><th style = \"text-align: left;\">μ</th><th style = \"text-align: left;\">W0</th><th style = \"text-align: left;\">W</th><th style = \"text-align: left;\">t</th></tr><tr class = \"subheader headerLastRow\"><th class = \"rowNumber\" style = \"font-weight: bold; text-align: right;\"></th><th title = \"Unitful.Quantity{Float64, 𝐓, Unitful.FreeUnits{(hr,), 𝐓, nothing}}\" style = \"text-align: left;\">Quantity…</th><th title = \"Float64\" style = \"text-align: left;\">Float64</th><th title = \"Float64\" style = \"text-align: left;\">Float64</th><th title = \"Float64\" style = \"text-align: left;\">Float64</th><th title = \"Float64\" style = \"text-align: left;\">Float64</th></tr></thead><tbody><tr><td class = \"rowNumber\" style = \"font-weight: bold; text-align: right;\">1</td><td style = \"text-align: right;\">0.0 hr</td><td style = \"text-align: right;\">0.3</td><td style = \"text-align: right;\">1.0</td><td style = \"text-align: right;\">1.0</td><td style = \"text-align: right;\">0.0</td></tr></tbody></table></div>"
      ],
      "text/latex": [
       "\\begin{tabular}{r|ccccc}\n",
       "\t& time & μ & W0 & W & t\\\\\n",
       "\t\\hline\n",
       "\t& Quantity… & Float64 & Float64 & Float64 & Float64\\\\\n",
       "\t\\hline\n",
       "\t1 & 0.0 hr & 0.3 & 1.0 & 1.0 & 0.0 \\\\\n",
       "\\end{tabular}\n"
      ],
      "text/plain": [
       "\u001b[1m1×5 DataFrame\n",
       "\u001b[1m Row │\u001b[1m time      \u001b[1m μ       \u001b[1m W0      \u001b[1m W       \u001b[1m t\n",
       "     │\u001b[90m Quantity… \u001b[90m Float64 \u001b[90m Float64 \u001b[90m Float64 \u001b[90m Float64\n",
       "─────┼───────────────────────────────────────────────\n",
       "   1 │    0.0 hr      0.3      1.0      1.0      0.0"
      ]
     },
     "execution_count": 11,
     "metadata": {},
     "output_type": "execute_result"
    }
   ],
   "source": [
    "simulate(Expo) # 초기 상태"
   ]
  },
  {
   "cell_type": "code",
   "execution_count": 9,
   "metadata": {
    "tags": []
   },
   "outputs": [
    {
     "data": {
      "text/html": [
       "<div><div style = \"float: left;\"><span>11×5 DataFrame</span></div><div style = \"clear: both;\"></div></div><div class = \"data-frame\" style = \"overflow-x: scroll;\"><table class = \"data-frame\" style = \"margin-bottom: 6px;\"><thead><tr class = \"header\"><th class = \"rowNumber\" style = \"font-weight: bold; text-align: right;\">Row</th><th style = \"text-align: left;\">time</th><th style = \"text-align: left;\">μ</th><th style = \"text-align: left;\">W0</th><th style = \"text-align: left;\">W</th><th style = \"text-align: left;\">t</th></tr><tr class = \"subheader headerLastRow\"><th class = \"rowNumber\" style = \"font-weight: bold; text-align: right;\"></th><th title = \"Unitful.Quantity{Float64, 𝐓, Unitful.FreeUnits{(hr,), 𝐓, nothing}}\" style = \"text-align: left;\">Quantity…</th><th title = \"Float64\" style = \"text-align: left;\">Float64</th><th title = \"Float64\" style = \"text-align: left;\">Float64</th><th title = \"Float64\" style = \"text-align: left;\">Float64</th><th title = \"Float64\" style = \"text-align: left;\">Float64</th></tr></thead><tbody><tr><td class = \"rowNumber\" style = \"font-weight: bold; text-align: right;\">1</td><td style = \"text-align: right;\">0.0 hr</td><td style = \"text-align: right;\">0.3</td><td style = \"text-align: right;\">1.0</td><td style = \"text-align: right;\">1.0</td><td style = \"text-align: right;\">0.0</td></tr><tr><td class = \"rowNumber\" style = \"font-weight: bold; text-align: right;\">2</td><td style = \"text-align: right;\">1.0 hr</td><td style = \"text-align: right;\">0.3</td><td style = \"text-align: right;\">1.0</td><td style = \"text-align: right;\">1.3</td><td style = \"text-align: right;\">1.0</td></tr><tr><td class = \"rowNumber\" style = \"font-weight: bold; text-align: right;\">3</td><td style = \"text-align: right;\">2.0 hr</td><td style = \"text-align: right;\">0.3</td><td style = \"text-align: right;\">1.0</td><td style = \"text-align: right;\">1.69</td><td style = \"text-align: right;\">2.0</td></tr><tr><td class = \"rowNumber\" style = \"font-weight: bold; text-align: right;\">4</td><td style = \"text-align: right;\">3.0 hr</td><td style = \"text-align: right;\">0.3</td><td style = \"text-align: right;\">1.0</td><td style = \"text-align: right;\">2.197</td><td style = \"text-align: right;\">3.0</td></tr><tr><td class = \"rowNumber\" style = \"font-weight: bold; text-align: right;\">5</td><td style = \"text-align: right;\">4.0 hr</td><td style = \"text-align: right;\">0.3</td><td style = \"text-align: right;\">1.0</td><td style = \"text-align: right;\">2.8561</td><td style = \"text-align: right;\">4.0</td></tr><tr><td class = \"rowNumber\" style = \"font-weight: bold; text-align: right;\">6</td><td style = \"text-align: right;\">5.0 hr</td><td style = \"text-align: right;\">0.3</td><td style = \"text-align: right;\">1.0</td><td style = \"text-align: right;\">3.71293</td><td style = \"text-align: right;\">5.0</td></tr><tr><td class = \"rowNumber\" style = \"font-weight: bold; text-align: right;\">7</td><td style = \"text-align: right;\">6.0 hr</td><td style = \"text-align: right;\">0.3</td><td style = \"text-align: right;\">1.0</td><td style = \"text-align: right;\">4.82681</td><td style = \"text-align: right;\">6.0</td></tr><tr><td class = \"rowNumber\" style = \"font-weight: bold; text-align: right;\">8</td><td style = \"text-align: right;\">7.0 hr</td><td style = \"text-align: right;\">0.3</td><td style = \"text-align: right;\">1.0</td><td style = \"text-align: right;\">6.27485</td><td style = \"text-align: right;\">7.0</td></tr><tr><td class = \"rowNumber\" style = \"font-weight: bold; text-align: right;\">9</td><td style = \"text-align: right;\">8.0 hr</td><td style = \"text-align: right;\">0.3</td><td style = \"text-align: right;\">1.0</td><td style = \"text-align: right;\">8.15731</td><td style = \"text-align: right;\">8.0</td></tr><tr><td class = \"rowNumber\" style = \"font-weight: bold; text-align: right;\">10</td><td style = \"text-align: right;\">9.0 hr</td><td style = \"text-align: right;\">0.3</td><td style = \"text-align: right;\">1.0</td><td style = \"text-align: right;\">10.6045</td><td style = \"text-align: right;\">9.0</td></tr><tr><td class = \"rowNumber\" style = \"font-weight: bold; text-align: right;\">11</td><td style = \"text-align: right;\">10.0 hr</td><td style = \"text-align: right;\">0.3</td><td style = \"text-align: right;\">1.0</td><td style = \"text-align: right;\">13.7858</td><td style = \"text-align: right;\">10.0</td></tr></tbody></table></div>"
      ],
      "text/latex": [
       "\\begin{tabular}{r|ccccc}\n",
       "\t& time & μ & W0 & W & t\\\\\n",
       "\t\\hline\n",
       "\t& Quantity… & Float64 & Float64 & Float64 & Float64\\\\\n",
       "\t\\hline\n",
       "\t1 & 0.0 hr & 0.3 & 1.0 & 1.0 & 0.0 \\\\\n",
       "\t2 & 1.0 hr & 0.3 & 1.0 & 1.3 & 1.0 \\\\\n",
       "\t3 & 2.0 hr & 0.3 & 1.0 & 1.69 & 2.0 \\\\\n",
       "\t4 & 3.0 hr & 0.3 & 1.0 & 2.197 & 3.0 \\\\\n",
       "\t5 & 4.0 hr & 0.3 & 1.0 & 2.8561 & 4.0 \\\\\n",
       "\t6 & 5.0 hr & 0.3 & 1.0 & 3.71293 & 5.0 \\\\\n",
       "\t7 & 6.0 hr & 0.3 & 1.0 & 4.82681 & 6.0 \\\\\n",
       "\t8 & 7.0 hr & 0.3 & 1.0 & 6.27485 & 7.0 \\\\\n",
       "\t9 & 8.0 hr & 0.3 & 1.0 & 8.15731 & 8.0 \\\\\n",
       "\t10 & 9.0 hr & 0.3 & 1.0 & 10.6045 & 9.0 \\\\\n",
       "\t11 & 10.0 hr & 0.3 & 1.0 & 13.7858 & 10.0 \\\\\n",
       "\\end{tabular}\n"
      ],
      "text/plain": [
       "\u001b[1m11×5 DataFrame\n",
       "\u001b[1m Row │\u001b[1m time      \u001b[1m μ       \u001b[1m W0      \u001b[1m W        \u001b[1m t\n",
       "     │\u001b[90m Quantity… \u001b[90m Float64 \u001b[90m Float64 \u001b[90m Float64  \u001b[90m Float64\n",
       "─────┼────────────────────────────────────────────────\n",
       "   1 │    0.0 hr      0.3      1.0   1.0          0.0\n",
       "   2 │    1.0 hr      0.3      1.0   1.3          1.0\n",
       "   3 │    2.0 hr      0.3      1.0   1.69         2.0\n",
       "   4 │    3.0 hr      0.3      1.0   2.197        3.0\n",
       "   5 │    4.0 hr      0.3      1.0   2.8561       4.0\n",
       "   6 │    5.0 hr      0.3      1.0   3.71293      5.0\n",
       "   7 │    6.0 hr      0.3      1.0   4.82681      6.0\n",
       "   8 │    7.0 hr      0.3      1.0   6.27485      7.0\n",
       "   9 │    8.0 hr      0.3      1.0   8.15731      8.0\n",
       "  10 │    9.0 hr      0.3      1.0  10.6045       9.0\n",
       "  11 │   10.0 hr      0.3      1.0  13.7858      10.0"
      ]
     },
     "execution_count": 9,
     "metadata": {},
     "output_type": "execute_result"
    }
   ],
   "source": [
    "r11 = simulate(Expo, stop = 10)"
   ]
  },
  {
   "cell_type": "code",
   "execution_count": 12,
   "metadata": {
    "tags": []
   },
   "outputs": [
    {
     "data": {
      "image/svg+xml": [
       "<?xml version=\"1.0\" encoding=\"UTF-8\"?>\n",
       "<svg xmlns=\"http://www.w3.org/2000/svg\"\n",
       "     xmlns:xlink=\"http://www.w3.org/1999/xlink\"\n",
       "     xmlns:gadfly=\"http://www.gadflyjl.org/ns\"\n",
       "     version=\"1.2\"\n",
       "     width=\"141.42mm\" height=\"100mm\" viewBox=\"0 0 141.42 100\"\n",
       "     stroke=\"none\"\n",
       "     fill=\"#000000\"\n",
       "     stroke-width=\"0.3\"\n",
       "     font-size=\"3.88\"\n",
       ">\n",
       "<defs>\n",
       "  <marker id=\"arrow\" markerWidth=\"15\" markerHeight=\"7\" refX=\"5\" refY=\"3.5\" orient=\"auto\" markerUnits=\"strokeWidth\">\n",
       "    <path d=\"M0,0 L15,3.5 L0,7 z\" stroke=\"context-stroke\" fill=\"context-stroke\"/>\n",
       "  </marker>\n",
       "</defs>\n",
       "<g stroke=\"#000000\" stroke-opacity=\"0.000\" fill=\"#FFFFFF\" id=\"img-7baa8787-1\">\n",
       "  <g transform=\"translate(70.71,50)\">\n",
       "    <path d=\"M-70.71,-50 L70.71,-50 70.71,50 -70.71,50  z\" class=\"primitive\"/>\n",
       "  </g>\n",
       "</g>\n",
       "<g class=\"plotroot xscalable yscalable\" id=\"img-7baa8787-2\">\n",
       "  <g font-size=\"3.53\" font-family=\"'PT Sans','Helvetica Neue','Helvetica',sans-serif\" fill=\"#564A55\" stroke=\"#000000\" stroke-opacity=\"0.000\" id=\"img-7baa8787-3\">\n",
       "    <g transform=\"translate(69.9,93.72)\">\n",
       "      <g class=\"primitive\">\n",
       "        <text text-anchor=\"middle\" dy=\"0.6em\">t</text>\n",
       "      </g>\n",
       "    </g>\n",
       "  </g>\n",
       "  <g class=\"guide xlabels\" font-size=\"2.82\" font-family=\"'PT Sans Caption','Helvetica Neue','Helvetica',sans-serif\" fill=\"#6C606B\" id=\"img-7baa8787-4\">\n",
       "    <g transform=\"translate(12.35,87.04)\">\n",
       "      <g class=\"primitive\">\n",
       "        <text text-anchor=\"middle\" dy=\"0.6em\">0</text>\n",
       "      </g>\n",
       "    </g>\n",
       "    <g transform=\"translate(69.9,87.04)\">\n",
       "      <g class=\"primitive\">\n",
       "        <text text-anchor=\"middle\" dy=\"0.6em\">5</text>\n",
       "      </g>\n",
       "    </g>\n",
       "    <g transform=\"translate(127.46,87.04)\">\n",
       "      <g class=\"primitive\">\n",
       "        <text text-anchor=\"middle\" dy=\"0.6em\">10</text>\n",
       "      </g>\n",
       "    </g>\n",
       "  </g>\n",
       "  <g class=\"guide colorkey\" id=\"img-7baa8787-5\">\n",
       "    <g fill=\"#4C404B\" font-size=\"2.82\" font-family=\"'PT Sans','Helvetica Neue','Helvetica',sans-serif\" id=\"img-7baa8787-6\">\n",
       "      <g transform=\"translate(134.09,47.75)\" id=\"img-7baa8787-7\">\n",
       "        <g class=\"primitive\">\n",
       "          <text dy=\"0.35em\">W</text>\n",
       "        </g>\n",
       "      </g>\n",
       "    </g>\n",
       "    <g stroke-width=\"0.3\" id=\"img-7baa8787-8\">\n",
       "      <g stroke=\"#FFFFFF\" stroke-opacity=\"0.000\" fill-opacity=\"1\" fill=\"#00BFFF\" id=\"img-7baa8787-9\">\n",
       "        <g transform=\"translate(131.27,47.75)\" id=\"img-7baa8787-10\">\n",
       "          <circle cx=\"0\" cy=\"0\" r=\"0.7\" class=\"primitive\"/>\n",
       "        </g>\n",
       "      </g>\n",
       "    </g>\n",
       "    <g fill=\"#362A35\" font-size=\"3.18\" font-family=\"'PT Sans','Helvetica Neue','Helvetica',sans-serif\" stroke=\"#000000\" stroke-opacity=\"0.000\" id=\"img-7baa8787-11\">\n",
       "      <g transform=\"translate(130.46,44.44)\" id=\"img-7baa8787-12\">\n",
       "        <g class=\"primitive\">\n",
       "          <text dy=\"-0em\"></text>\n",
       "        </g>\n",
       "      </g>\n",
       "    </g>\n",
       "  </g>\n",
       "  <g clip-path=\"url(#img-7baa8787-13)\">\n",
       "    <g id=\"img-7baa8787-14\">\n",
       "      <g pointer-events=\"visible\" stroke-width=\"0.3\" fill=\"#000000\" fill-opacity=\"0.000\" stroke=\"#000000\" stroke-opacity=\"0.000\" class=\"guide background\" id=\"img-7baa8787-15\">\n",
       "        <g transform=\"translate(69.9,45.52)\" id=\"img-7baa8787-16\">\n",
       "          <path d=\"M-59.56,-40.52 L59.56,-40.52 59.56,40.52 -59.56,40.52  z\" class=\"primitive\"/>\n",
       "        </g>\n",
       "      </g>\n",
       "      <g class=\"guide ygridlines xfixed\" stroke-dasharray=\"0.5,0.5\" stroke-width=\"0.2\" stroke=\"#D0D0E0\" id=\"img-7baa8787-17\">\n",
       "        <g transform=\"translate(69.9,60.34)\" id=\"img-7baa8787-18\">\n",
       "          <path fill=\"none\" d=\"M-59.56,0 L59.56,0 \" class=\"primitive\"/>\n",
       "        </g>\n",
       "        <g transform=\"translate(69.9,30.71)\" id=\"img-7baa8787-19\">\n",
       "          <path fill=\"none\" d=\"M-59.56,0 L59.56,0 \" class=\"primitive\"/>\n",
       "        </g>\n",
       "      </g>\n",
       "      <g class=\"guide xgridlines yfixed\" stroke-dasharray=\"0.5,0.5\" stroke-width=\"0.2\" stroke=\"#D0D0E0\" id=\"img-7baa8787-20\">\n",
       "        <g transform=\"translate(12.35,45.52)\" id=\"img-7baa8787-21\">\n",
       "          <path fill=\"none\" d=\"M0,-40.52 L0,40.52 \" class=\"primitive\"/>\n",
       "        </g>\n",
       "        <g transform=\"translate(69.9,45.52)\" id=\"img-7baa8787-22\">\n",
       "          <path fill=\"none\" d=\"M0,-40.52 L0,40.52 \" class=\"primitive\"/>\n",
       "        </g>\n",
       "        <g transform=\"translate(127.46,45.52)\" id=\"img-7baa8787-23\">\n",
       "          <path fill=\"none\" d=\"M0,-40.52 L0,40.52 \" class=\"primitive\"/>\n",
       "        </g>\n",
       "      </g>\n",
       "      <g class=\"plotpanel\" id=\"img-7baa8787-24\">\n",
       "        <metadata>\n",
       "          <boundingbox value=\"10.346666666666664mm 5.0mm 119.11468957064285mm 81.04333333333334mm\"/>\n",
       "          <unitbox value=\"-0.1737397726962251 14.337472418119672 10.347479545392451 -13.674944836239346\"/>\n",
       "        </metadata>\n",
       "        <g stroke-width=\"0.3\" fill=\"#000000\" fill-opacity=\"0.000\" class=\"geometry\" id=\"img-7baa8787-25\">\n",
       "          <g class=\"color_LCHab{Float32}(70.0f0,60.0f0,240.0f0)\" stroke-dasharray=\"none\" stroke-opacity=\"1\" stroke=\"#00BFFF\" id=\"img-7baa8787-26\">\n",
       "            <g transform=\"translate(69.9,59.58)\" id=\"img-7baa8787-27\">\n",
       "              <path fill=\"none\" d=\"M-57.56,24.46 L-46.05,22.68 -34.53,20.37 -23.02,17.37 -11.51,13.46 0,8.38 11.51,1.78 23.02,-6.8 34.53,-17.95 46.05,-32.46 57.56,-51.31 \" class=\"primitive\"/>\n",
       "            </g>\n",
       "          </g>\n",
       "        </g>\n",
       "      </g>\n",
       "    </g>\n",
       "  </g>\n",
       "  <g class=\"guide ylabels\" font-size=\"2.82\" font-family=\"'PT Sans Caption','Helvetica Neue','Helvetica',sans-serif\" fill=\"#6C606B\" id=\"img-7baa8787-28\">\n",
       "    <g transform=\"translate(9.35,60.34)\" id=\"img-7baa8787-29\">\n",
       "      <g class=\"primitive\">\n",
       "        <text text-anchor=\"end\" dy=\"0.35em\">5</text>\n",
       "      </g>\n",
       "    </g>\n",
       "    <g transform=\"translate(9.35,30.71)\" id=\"img-7baa8787-30\">\n",
       "      <g class=\"primitive\">\n",
       "        <text text-anchor=\"end\" dy=\"0.35em\">10</text>\n",
       "      </g>\n",
       "    </g>\n",
       "  </g>\n",
       "</g>\n",
       "<defs>\n",
       "  <clipPath id=\"img-7baa8787-13\">\n",
       "    <path d=\"M10.35,5 L129.46,5 129.46,86.04 10.35,86.04 \" />\n",
       "  </clipPath>\n",
       "</defs>\n",
       "</svg>\n"
      ],
      "text/html": [
       "<?xml version=\"1.0\" encoding=\"UTF-8\"?>\n",
       "<svg xmlns=\"http://www.w3.org/2000/svg\"\n",
       "     xmlns:xlink=\"http://www.w3.org/1999/xlink\"\n",
       "     xmlns:gadfly=\"http://www.gadflyjl.org/ns\"\n",
       "     version=\"1.2\"\n",
       "     width=\"141.42mm\" height=\"100mm\" viewBox=\"0 0 141.42 100\"\n",
       "     stroke=\"none\"\n",
       "     fill=\"#000000\"\n",
       "     stroke-width=\"0.3\"\n",
       "     font-size=\"3.88\"\n",
       ">\n",
       "<defs>\n",
       "  <marker id=\"arrow\" markerWidth=\"15\" markerHeight=\"7\" refX=\"5\" refY=\"3.5\" orient=\"auto\" markerUnits=\"strokeWidth\">\n",
       "    <path d=\"M0,0 L15,3.5 L0,7 z\" stroke=\"context-stroke\" fill=\"context-stroke\"/>\n",
       "  </marker>\n",
       "</defs>\n",
       "<g stroke=\"#000000\" stroke-opacity=\"0.000\" fill=\"#FFFFFF\" id=\"img-c50e625a-1\">\n",
       "  <g transform=\"translate(70.71,50)\">\n",
       "    <path d=\"M-70.71,-50 L70.71,-50 70.71,50 -70.71,50  z\" class=\"primitive\"/>\n",
       "  </g>\n",
       "</g>\n",
       "<g class=\"plotroot xscalable yscalable\" id=\"img-c50e625a-2\">\n",
       "  <g font-size=\"3.53\" font-family=\"'PT Sans','Helvetica Neue','Helvetica',sans-serif\" fill=\"#564A55\" stroke=\"#000000\" stroke-opacity=\"0.000\" id=\"img-c50e625a-3\">\n",
       "    <g transform=\"translate(69.9,93.72)\">\n",
       "      <g class=\"primitive\">\n",
       "        <text text-anchor=\"middle\" dy=\"0.6em\">t</text>\n",
       "      </g>\n",
       "    </g>\n",
       "  </g>\n",
       "  <g class=\"guide xlabels\" font-size=\"2.82\" font-family=\"'PT Sans Caption','Helvetica Neue','Helvetica',sans-serif\" fill=\"#6C606B\" id=\"img-c50e625a-4\">\n",
       "    <g transform=\"translate(12.35,87.04)\">\n",
       "      <g class=\"primitive\">\n",
       "        <text text-anchor=\"middle\" dy=\"0.6em\">0</text>\n",
       "      </g>\n",
       "    </g>\n",
       "    <g transform=\"translate(69.9,87.04)\">\n",
       "      <g class=\"primitive\">\n",
       "        <text text-anchor=\"middle\" dy=\"0.6em\">5</text>\n",
       "      </g>\n",
       "    </g>\n",
       "    <g transform=\"translate(127.46,87.04)\">\n",
       "      <g class=\"primitive\">\n",
       "        <text text-anchor=\"middle\" dy=\"0.6em\">10</text>\n",
       "      </g>\n",
       "    </g>\n",
       "  </g>\n",
       "  <g class=\"guide colorkey\" id=\"img-c50e625a-5\">\n",
       "    <g fill=\"#4C404B\" font-size=\"2.82\" font-family=\"'PT Sans','Helvetica Neue','Helvetica',sans-serif\" id=\"img-c50e625a-6\">\n",
       "      <g transform=\"translate(134.09,47.75)\" id=\"img-c50e625a-7\">\n",
       "        <g class=\"primitive\">\n",
       "          <text dy=\"0.35em\">W</text>\n",
       "        </g>\n",
       "      </g>\n",
       "    </g>\n",
       "    <g stroke-width=\"0.3\" id=\"img-c50e625a-8\">\n",
       "      <g stroke=\"#FFFFFF\" stroke-opacity=\"0.000\" fill-opacity=\"1\" fill=\"#00BFFF\" id=\"img-c50e625a-9\">\n",
       "        <g transform=\"translate(131.27,47.75)\" id=\"img-c50e625a-10\">\n",
       "          <circle cx=\"0\" cy=\"0\" r=\"0.7\" class=\"primitive\"/>\n",
       "        </g>\n",
       "      </g>\n",
       "    </g>\n",
       "    <g fill=\"#362A35\" font-size=\"3.18\" font-family=\"'PT Sans','Helvetica Neue','Helvetica',sans-serif\" stroke=\"#000000\" stroke-opacity=\"0.000\" id=\"img-c50e625a-11\">\n",
       "      <g transform=\"translate(130.46,44.44)\" id=\"img-c50e625a-12\">\n",
       "        <g class=\"primitive\">\n",
       "          <text dy=\"-0em\"></text>\n",
       "        </g>\n",
       "      </g>\n",
       "    </g>\n",
       "  </g>\n",
       "  <g clip-path=\"url(#img-c50e625a-13)\">\n",
       "    <g id=\"img-c50e625a-14\">\n",
       "      <g pointer-events=\"visible\" stroke-width=\"0.3\" fill=\"#000000\" fill-opacity=\"0.000\" stroke=\"#000000\" stroke-opacity=\"0.000\" class=\"guide background\" id=\"img-c50e625a-15\">\n",
       "        <g transform=\"translate(69.9,45.52)\" id=\"img-c50e625a-16\">\n",
       "          <path d=\"M-59.56,-40.52 L59.56,-40.52 59.56,40.52 -59.56,40.52  z\" class=\"primitive\"/>\n",
       "        </g>\n",
       "      </g>\n",
       "      <g class=\"guide ygridlines xfixed\" stroke-dasharray=\"0.5,0.5\" stroke-width=\"0.2\" stroke=\"#D0D0E0\" id=\"img-c50e625a-17\">\n",
       "        <g transform=\"translate(69.9,60.34)\" id=\"img-c50e625a-18\">\n",
       "          <path fill=\"none\" d=\"M-59.56,0 L59.56,0 \" class=\"primitive\"/>\n",
       "        </g>\n",
       "        <g transform=\"translate(69.9,30.71)\" id=\"img-c50e625a-19\">\n",
       "          <path fill=\"none\" d=\"M-59.56,0 L59.56,0 \" class=\"primitive\"/>\n",
       "        </g>\n",
       "      </g>\n",
       "      <g class=\"guide xgridlines yfixed\" stroke-dasharray=\"0.5,0.5\" stroke-width=\"0.2\" stroke=\"#D0D0E0\" id=\"img-c50e625a-20\">\n",
       "        <g transform=\"translate(12.35,45.52)\" id=\"img-c50e625a-21\">\n",
       "          <path fill=\"none\" d=\"M0,-40.52 L0,40.52 \" class=\"primitive\"/>\n",
       "        </g>\n",
       "        <g transform=\"translate(69.9,45.52)\" id=\"img-c50e625a-22\">\n",
       "          <path fill=\"none\" d=\"M0,-40.52 L0,40.52 \" class=\"primitive\"/>\n",
       "        </g>\n",
       "        <g transform=\"translate(127.46,45.52)\" id=\"img-c50e625a-23\">\n",
       "          <path fill=\"none\" d=\"M0,-40.52 L0,40.52 \" class=\"primitive\"/>\n",
       "        </g>\n",
       "      </g>\n",
       "      <g class=\"plotpanel\" id=\"img-c50e625a-24\">\n",
       "        <metadata>\n",
       "          <boundingbox value=\"10.346666666666664mm 5.0mm 119.11468957064285mm 81.04333333333334mm\"/>\n",
       "          <unitbox value=\"-0.1737397726962251 14.337472418119672 10.347479545392451 -13.674944836239346\"/>\n",
       "        </metadata>\n",
       "        <g stroke-width=\"0.3\" fill=\"#000000\" fill-opacity=\"0.000\" class=\"geometry\" id=\"img-c50e625a-25\">\n",
       "          <g class=\"color_LCHab{Float32}(70.0f0,60.0f0,240.0f0)\" stroke-dasharray=\"none\" stroke-opacity=\"1\" stroke=\"#00BFFF\" id=\"img-c50e625a-26\">\n",
       "            <g transform=\"translate(69.9,59.58)\" id=\"img-c50e625a-27\">\n",
       "              <path fill=\"none\" d=\"M-57.56,24.46 L-46.05,22.68 -34.53,20.37 -23.02,17.37 -11.51,13.46 0,8.38 11.51,1.78 23.02,-6.8 34.53,-17.95 46.05,-32.46 57.56,-51.31 \" class=\"primitive\"/>\n",
       "            </g>\n",
       "          </g>\n",
       "        </g>\n",
       "      </g>\n",
       "    </g>\n",
       "  </g>\n",
       "  <g class=\"guide ylabels\" font-size=\"2.82\" font-family=\"'PT Sans Caption','Helvetica Neue','Helvetica',sans-serif\" fill=\"#6C606B\" id=\"img-c50e625a-28\">\n",
       "    <g transform=\"translate(9.35,60.34)\" id=\"img-c50e625a-29\">\n",
       "      <g class=\"primitive\">\n",
       "        <text text-anchor=\"end\" dy=\"0.35em\">5</text>\n",
       "      </g>\n",
       "    </g>\n",
       "    <g transform=\"translate(9.35,30.71)\" id=\"img-c50e625a-30\">\n",
       "      <g class=\"primitive\">\n",
       "        <text text-anchor=\"end\" dy=\"0.35em\">10</text>\n",
       "      </g>\n",
       "    </g>\n",
       "  </g>\n",
       "</g>\n",
       "<defs>\n",
       "  <clipPath id=\"img-c50e625a-13\">\n",
       "    <path d=\"M10.35,5 L129.46,5 129.46,86.04 10.35,86.04 \" />\n",
       "  </clipPath>\n",
       "</defs>\n",
       "</svg>\n"
      ],
      "text/plain": [
       "\"<Cropbox.Plot{Gadfly.Plot}>\""
      ]
     },
     "execution_count": 12,
     "metadata": {},
     "output_type": "execute_result"
    }
   ],
   "source": [
    "visualize(r11, :t, :W, kind = :line)"
   ]
  },
  {
   "cell_type": "code",
   "execution_count": 13,
   "metadata": {
    "tags": []
   },
   "outputs": [
    {
     "data": {
      "text/html": [
       "<p style=\"font-family: monospace\">Config for 1 system:</p>\n",
       "<table style=\"font-family: monospace\">\n",
       "<tr style=\"background-color: transparent\">\n",
       "<td colspan=\"3\" style=\"text-align: left; padding: 2px; padding-left: 20px; color: rebeccapurple\">Expo</th>\n",
       "</tr>\n",
       "<tr style=\"background-color: transparent\"><td style=\"text-align: left; padding: 2px; padding-left: 40px; color: royalblue\">μ</td><td style=\"text-align: center; padding: 2px 10px 2px 10px; color: gray\">=</td><td style=\"text-align: left; padding: 2px;\">0.5</td></tr>\n",
       "<tr style=\"background-color: transparent\"><td style=\"text-align: left; padding: 2px; padding-left: 40px; color: royalblue\">W0</td><td style=\"text-align: center; padding: 2px 10px 2px 10px; color: gray\">=</td><td style=\"text-align: left; padding: 2px;\">0.1</td></tr>\n",
       "</table>\n"
      ],
      "text/plain": [
       "Config for 1 system:\n",
       "  \u001b[95mExpo\u001b[39m\n",
       "    \u001b[94mμ \u001b[39m\u001b[90m = \u001b[39m0.5\n",
       "    \u001b[94mW0\u001b[39m\u001b[90m = \u001b[39m0.1"
      ]
     },
     "execution_count": 13,
     "metadata": {},
     "output_type": "execute_result"
    }
   ],
   "source": [
    "c11 = @config Expo => (\n",
    "    :μ  => 0.5,\n",
    "    :W0 => 0.1,\n",
    ")"
   ]
  },
  {
   "cell_type": "code",
   "execution_count": 14,
   "metadata": {
    "tags": []
   },
   "outputs": [
    {
     "data": {
      "image/svg+xml": [
       "<?xml version=\"1.0\" encoding=\"UTF-8\"?>\n",
       "<svg xmlns=\"http://www.w3.org/2000/svg\"\n",
       "     xmlns:xlink=\"http://www.w3.org/1999/xlink\"\n",
       "     xmlns:gadfly=\"http://www.gadflyjl.org/ns\"\n",
       "     version=\"1.2\"\n",
       "     width=\"141.42mm\" height=\"100mm\" viewBox=\"0 0 141.42 100\"\n",
       "     stroke=\"none\"\n",
       "     fill=\"#000000\"\n",
       "     stroke-width=\"0.3\"\n",
       "     font-size=\"3.88\"\n",
       ">\n",
       "<defs>\n",
       "  <marker id=\"arrow\" markerWidth=\"15\" markerHeight=\"7\" refX=\"5\" refY=\"3.5\" orient=\"auto\" markerUnits=\"strokeWidth\">\n",
       "    <path d=\"M0,0 L15,3.5 L0,7 z\" stroke=\"context-stroke\" fill=\"context-stroke\"/>\n",
       "  </marker>\n",
       "</defs>\n",
       "<g stroke=\"#000000\" stroke-opacity=\"0.000\" fill=\"#FFFFFF\" id=\"img-f24069fb-1\">\n",
       "  <g transform=\"translate(70.71,50)\">\n",
       "    <path d=\"M-70.71,-50 L70.71,-50 70.71,50 -70.71,50  z\" class=\"primitive\"/>\n",
       "  </g>\n",
       "</g>\n",
       "<g class=\"plotroot xscalable yscalable\" id=\"img-f24069fb-2\">\n",
       "  <g font-size=\"3.53\" font-family=\"'PT Sans','Helvetica Neue','Helvetica',sans-serif\" fill=\"#564A55\" stroke=\"#000000\" stroke-opacity=\"0.000\" id=\"img-f24069fb-3\">\n",
       "    <g transform=\"translate(76.01,93.72)\">\n",
       "      <g class=\"primitive\">\n",
       "        <text text-anchor=\"middle\" dy=\"0.6em\">t</text>\n",
       "      </g>\n",
       "    </g>\n",
       "  </g>\n",
       "  <g class=\"guide xlabels\" font-size=\"2.82\" font-family=\"'PT Sans Caption','Helvetica Neue','Helvetica',sans-serif\" fill=\"#6C606B\" id=\"img-f24069fb-4\">\n",
       "    <g transform=\"translate(17.59,87.04)\">\n",
       "      <g class=\"primitive\">\n",
       "        <text text-anchor=\"middle\" dy=\"0.6em\">0</text>\n",
       "      </g>\n",
       "    </g>\n",
       "    <g transform=\"translate(76.01,87.04)\">\n",
       "      <g class=\"primitive\">\n",
       "        <text text-anchor=\"middle\" dy=\"0.6em\">5</text>\n",
       "      </g>\n",
       "    </g>\n",
       "    <g transform=\"translate(134.42,87.04)\">\n",
       "      <g class=\"primitive\">\n",
       "        <text text-anchor=\"middle\" dy=\"0.6em\">10</text>\n",
       "      </g>\n",
       "    </g>\n",
       "  </g>\n",
       "  <g clip-path=\"url(#img-f24069fb-5)\">\n",
       "    <g id=\"img-f24069fb-6\">\n",
       "      <g pointer-events=\"visible\" stroke-width=\"0.3\" fill=\"#000000\" fill-opacity=\"0.000\" stroke=\"#000000\" stroke-opacity=\"0.000\" class=\"guide background\" id=\"img-f24069fb-7\">\n",
       "        <g transform=\"translate(76.01,45.52)\" id=\"img-f24069fb-8\">\n",
       "          <path d=\"M-60.42,-40.52 L60.42,-40.52 60.42,40.52 -60.42,40.52  z\" class=\"primitive\"/>\n",
       "        </g>\n",
       "      </g>\n",
       "      <g class=\"guide ygridlines xfixed\" stroke-dasharray=\"0.5,0.5\" stroke-width=\"0.2\" stroke=\"#D0D0E0\" id=\"img-f24069fb-9\">\n",
       "        <g transform=\"translate(76.01,84.04)\" id=\"img-f24069fb-10\">\n",
       "          <path fill=\"none\" d=\"M-60.42,0 L60.42,0 \" class=\"primitive\"/>\n",
       "        </g>\n",
       "        <g transform=\"translate(76.01,71.2)\" id=\"img-f24069fb-11\">\n",
       "          <path fill=\"none\" d=\"M-60.42,0 L60.42,0 \" class=\"primitive\"/>\n",
       "        </g>\n",
       "        <g transform=\"translate(76.01,58.36)\" id=\"img-f24069fb-12\">\n",
       "          <path fill=\"none\" d=\"M-60.42,0 L60.42,0 \" class=\"primitive\"/>\n",
       "        </g>\n",
       "        <g transform=\"translate(76.01,45.52)\" id=\"img-f24069fb-13\">\n",
       "          <path fill=\"none\" d=\"M-60.42,0 L60.42,0 \" class=\"primitive\"/>\n",
       "        </g>\n",
       "        <g transform=\"translate(76.01,32.68)\" id=\"img-f24069fb-14\">\n",
       "          <path fill=\"none\" d=\"M-60.42,0 L60.42,0 \" class=\"primitive\"/>\n",
       "        </g>\n",
       "        <g transform=\"translate(76.01,19.84)\" id=\"img-f24069fb-15\">\n",
       "          <path fill=\"none\" d=\"M-60.42,0 L60.42,0 \" class=\"primitive\"/>\n",
       "        </g>\n",
       "        <g transform=\"translate(76.01,7)\" id=\"img-f24069fb-16\">\n",
       "          <path fill=\"none\" d=\"M-60.42,0 L60.42,0 \" class=\"primitive\"/>\n",
       "        </g>\n",
       "      </g>\n",
       "      <g class=\"guide xgridlines yfixed\" stroke-dasharray=\"0.5,0.5\" stroke-width=\"0.2\" stroke=\"#D0D0E0\" id=\"img-f24069fb-17\">\n",
       "        <g transform=\"translate(17.59,45.52)\" id=\"img-f24069fb-18\">\n",
       "          <path fill=\"none\" d=\"M0,-40.52 L0,40.52 \" class=\"primitive\"/>\n",
       "        </g>\n",
       "        <g transform=\"translate(76.01,45.52)\" id=\"img-f24069fb-19\">\n",
       "          <path fill=\"none\" d=\"M0,-40.52 L0,40.52 \" class=\"primitive\"/>\n",
       "        </g>\n",
       "        <g transform=\"translate(134.42,45.52)\" id=\"img-f24069fb-20\">\n",
       "          <path fill=\"none\" d=\"M0,-40.52 L0,40.52 \" class=\"primitive\"/>\n",
       "        </g>\n",
       "      </g>\n",
       "      <g class=\"plotpanel\" id=\"img-f24069fb-21\">\n",
       "        <metadata>\n",
       "          <boundingbox value=\"15.58999999999999mm 5.0mm 120.83135623730952mm 81.04333333333334mm\"/>\n",
       "          <unitbox value=\"-0.17118691971165442 6.155756500670618 10.34237383942331 -6.311513001341236\"/>\n",
       "        </metadata>\n",
       "        <g stroke-width=\"0.3\" fill=\"#000000\" fill-opacity=\"0.000\" class=\"geometry\" id=\"img-f24069fb-22\">\n",
       "          <g class=\"color_LCHab{Float32}(70.0f0,60.0f0,240.0f0)\" stroke-dasharray=\"none\" stroke-opacity=\"1\" stroke=\"#00BFFF\" id=\"img-f24069fb-23\">\n",
       "            <g transform=\"translate(76.01,64.08)\" id=\"img-f24069fb-24\">\n",
       "              <path fill=\"none\" d=\"M-58.42,18.68 L-46.73,18.03 -35.05,17.07 -23.37,15.63 -11.68,13.46 0,10.21 11.68,5.33 23.37,-1.98 35.05,-12.95 46.73,-29.4 58.42,-54.08 \" class=\"primitive\"/>\n",
       "            </g>\n",
       "          </g>\n",
       "        </g>\n",
       "      </g>\n",
       "    </g>\n",
       "  </g>\n",
       "  <g class=\"guide ylabels\" font-size=\"2.82\" font-family=\"'PT Sans Caption','Helvetica Neue','Helvetica',sans-serif\" fill=\"#6C606B\" id=\"img-f24069fb-25\">\n",
       "    <g transform=\"translate(14.59,84.04)\" id=\"img-f24069fb-26\">\n",
       "      <g class=\"primitive\">\n",
       "        <text text-anchor=\"end\" dy=\"0.35em\">0</text>\n",
       "      </g>\n",
       "    </g>\n",
       "    <g transform=\"translate(14.59,71.2)\" id=\"img-f24069fb-27\">\n",
       "      <g class=\"primitive\">\n",
       "        <text text-anchor=\"end\" dy=\"0.35em\">1</text>\n",
       "      </g>\n",
       "    </g>\n",
       "    <g transform=\"translate(14.59,58.36)\" id=\"img-f24069fb-28\">\n",
       "      <g class=\"primitive\">\n",
       "        <text text-anchor=\"end\" dy=\"0.35em\">2</text>\n",
       "      </g>\n",
       "    </g>\n",
       "    <g transform=\"translate(14.59,45.52)\" id=\"img-f24069fb-29\">\n",
       "      <g class=\"primitive\">\n",
       "        <text text-anchor=\"end\" dy=\"0.35em\">3</text>\n",
       "      </g>\n",
       "    </g>\n",
       "    <g transform=\"translate(14.59,32.68)\" id=\"img-f24069fb-30\">\n",
       "      <g class=\"primitive\">\n",
       "        <text text-anchor=\"end\" dy=\"0.35em\">4</text>\n",
       "      </g>\n",
       "    </g>\n",
       "    <g transform=\"translate(14.59,19.84)\" id=\"img-f24069fb-31\">\n",
       "      <g class=\"primitive\">\n",
       "        <text text-anchor=\"end\" dy=\"0.35em\">5</text>\n",
       "      </g>\n",
       "    </g>\n",
       "    <g transform=\"translate(14.59,7)\" id=\"img-f24069fb-32\">\n",
       "      <g class=\"primitive\">\n",
       "        <text text-anchor=\"end\" dy=\"0.35em\">6</text>\n",
       "      </g>\n",
       "    </g>\n",
       "  </g>\n",
       "  <g font-size=\"3.53\" font-family=\"'PT Sans','Helvetica Neue','Helvetica',sans-serif\" fill=\"#564A55\" stroke=\"#000000\" stroke-opacity=\"0.000\" id=\"img-f24069fb-33\">\n",
       "    <g transform=\"translate(9.92,45.52)\" id=\"img-f24069fb-34\">\n",
       "      <g class=\"primitive\">\n",
       "        <text text-anchor=\"end\" dy=\"0.35em\">W</text>\n",
       "      </g>\n",
       "    </g>\n",
       "  </g>\n",
       "</g>\n",
       "<defs>\n",
       "  <clipPath id=\"img-f24069fb-5\">\n",
       "    <path d=\"M15.59,5 L136.42,5 136.42,86.04 15.59,86.04 \" />\n",
       "  </clipPath>\n",
       "</defs>\n",
       "</svg>\n"
      ],
      "text/html": [
       "<?xml version=\"1.0\" encoding=\"UTF-8\"?>\n",
       "<svg xmlns=\"http://www.w3.org/2000/svg\"\n",
       "     xmlns:xlink=\"http://www.w3.org/1999/xlink\"\n",
       "     xmlns:gadfly=\"http://www.gadflyjl.org/ns\"\n",
       "     version=\"1.2\"\n",
       "     width=\"141.42mm\" height=\"100mm\" viewBox=\"0 0 141.42 100\"\n",
       "     stroke=\"none\"\n",
       "     fill=\"#000000\"\n",
       "     stroke-width=\"0.3\"\n",
       "     font-size=\"3.88\"\n",
       ">\n",
       "<defs>\n",
       "  <marker id=\"arrow\" markerWidth=\"15\" markerHeight=\"7\" refX=\"5\" refY=\"3.5\" orient=\"auto\" markerUnits=\"strokeWidth\">\n",
       "    <path d=\"M0,0 L15,3.5 L0,7 z\" stroke=\"context-stroke\" fill=\"context-stroke\"/>\n",
       "  </marker>\n",
       "</defs>\n",
       "<g stroke=\"#000000\" stroke-opacity=\"0.000\" fill=\"#FFFFFF\" id=\"img-6efd9791-1\">\n",
       "  <g transform=\"translate(70.71,50)\">\n",
       "    <path d=\"M-70.71,-50 L70.71,-50 70.71,50 -70.71,50  z\" class=\"primitive\"/>\n",
       "  </g>\n",
       "</g>\n",
       "<g class=\"plotroot xscalable yscalable\" id=\"img-6efd9791-2\">\n",
       "  <g font-size=\"3.53\" font-family=\"'PT Sans','Helvetica Neue','Helvetica',sans-serif\" fill=\"#564A55\" stroke=\"#000000\" stroke-opacity=\"0.000\" id=\"img-6efd9791-3\">\n",
       "    <g transform=\"translate(76.01,93.72)\">\n",
       "      <g class=\"primitive\">\n",
       "        <text text-anchor=\"middle\" dy=\"0.6em\">t</text>\n",
       "      </g>\n",
       "    </g>\n",
       "  </g>\n",
       "  <g class=\"guide xlabels\" font-size=\"2.82\" font-family=\"'PT Sans Caption','Helvetica Neue','Helvetica',sans-serif\" fill=\"#6C606B\" id=\"img-6efd9791-4\">\n",
       "    <g transform=\"translate(17.59,87.04)\">\n",
       "      <g class=\"primitive\">\n",
       "        <text text-anchor=\"middle\" dy=\"0.6em\">0</text>\n",
       "      </g>\n",
       "    </g>\n",
       "    <g transform=\"translate(76.01,87.04)\">\n",
       "      <g class=\"primitive\">\n",
       "        <text text-anchor=\"middle\" dy=\"0.6em\">5</text>\n",
       "      </g>\n",
       "    </g>\n",
       "    <g transform=\"translate(134.42,87.04)\">\n",
       "      <g class=\"primitive\">\n",
       "        <text text-anchor=\"middle\" dy=\"0.6em\">10</text>\n",
       "      </g>\n",
       "    </g>\n",
       "  </g>\n",
       "  <g clip-path=\"url(#img-6efd9791-5)\">\n",
       "    <g id=\"img-6efd9791-6\">\n",
       "      <g pointer-events=\"visible\" stroke-width=\"0.3\" fill=\"#000000\" fill-opacity=\"0.000\" stroke=\"#000000\" stroke-opacity=\"0.000\" class=\"guide background\" id=\"img-6efd9791-7\">\n",
       "        <g transform=\"translate(76.01,45.52)\" id=\"img-6efd9791-8\">\n",
       "          <path d=\"M-60.42,-40.52 L60.42,-40.52 60.42,40.52 -60.42,40.52  z\" class=\"primitive\"/>\n",
       "        </g>\n",
       "      </g>\n",
       "      <g class=\"guide ygridlines xfixed\" stroke-dasharray=\"0.5,0.5\" stroke-width=\"0.2\" stroke=\"#D0D0E0\" id=\"img-6efd9791-9\">\n",
       "        <g transform=\"translate(76.01,84.04)\" id=\"img-6efd9791-10\">\n",
       "          <path fill=\"none\" d=\"M-60.42,0 L60.42,0 \" class=\"primitive\"/>\n",
       "        </g>\n",
       "        <g transform=\"translate(76.01,71.2)\" id=\"img-6efd9791-11\">\n",
       "          <path fill=\"none\" d=\"M-60.42,0 L60.42,0 \" class=\"primitive\"/>\n",
       "        </g>\n",
       "        <g transform=\"translate(76.01,58.36)\" id=\"img-6efd9791-12\">\n",
       "          <path fill=\"none\" d=\"M-60.42,0 L60.42,0 \" class=\"primitive\"/>\n",
       "        </g>\n",
       "        <g transform=\"translate(76.01,45.52)\" id=\"img-6efd9791-13\">\n",
       "          <path fill=\"none\" d=\"M-60.42,0 L60.42,0 \" class=\"primitive\"/>\n",
       "        </g>\n",
       "        <g transform=\"translate(76.01,32.68)\" id=\"img-6efd9791-14\">\n",
       "          <path fill=\"none\" d=\"M-60.42,0 L60.42,0 \" class=\"primitive\"/>\n",
       "        </g>\n",
       "        <g transform=\"translate(76.01,19.84)\" id=\"img-6efd9791-15\">\n",
       "          <path fill=\"none\" d=\"M-60.42,0 L60.42,0 \" class=\"primitive\"/>\n",
       "        </g>\n",
       "        <g transform=\"translate(76.01,7)\" id=\"img-6efd9791-16\">\n",
       "          <path fill=\"none\" d=\"M-60.42,0 L60.42,0 \" class=\"primitive\"/>\n",
       "        </g>\n",
       "      </g>\n",
       "      <g class=\"guide xgridlines yfixed\" stroke-dasharray=\"0.5,0.5\" stroke-width=\"0.2\" stroke=\"#D0D0E0\" id=\"img-6efd9791-17\">\n",
       "        <g transform=\"translate(17.59,45.52)\" id=\"img-6efd9791-18\">\n",
       "          <path fill=\"none\" d=\"M0,-40.52 L0,40.52 \" class=\"primitive\"/>\n",
       "        </g>\n",
       "        <g transform=\"translate(76.01,45.52)\" id=\"img-6efd9791-19\">\n",
       "          <path fill=\"none\" d=\"M0,-40.52 L0,40.52 \" class=\"primitive\"/>\n",
       "        </g>\n",
       "        <g transform=\"translate(134.42,45.52)\" id=\"img-6efd9791-20\">\n",
       "          <path fill=\"none\" d=\"M0,-40.52 L0,40.52 \" class=\"primitive\"/>\n",
       "        </g>\n",
       "      </g>\n",
       "      <g class=\"plotpanel\" id=\"img-6efd9791-21\">\n",
       "        <metadata>\n",
       "          <boundingbox value=\"15.58999999999999mm 5.0mm 120.83135623730952mm 81.04333333333334mm\"/>\n",
       "          <unitbox value=\"-0.17118691971165442 6.155756500670618 10.34237383942331 -6.311513001341236\"/>\n",
       "        </metadata>\n",
       "        <g stroke-width=\"0.3\" fill=\"#000000\" fill-opacity=\"0.000\" class=\"geometry\" id=\"img-6efd9791-22\">\n",
       "          <g class=\"color_LCHab{Float32}(70.0f0,60.0f0,240.0f0)\" stroke-dasharray=\"none\" stroke-opacity=\"1\" stroke=\"#00BFFF\" id=\"img-6efd9791-23\">\n",
       "            <g transform=\"translate(76.01,64.08)\" id=\"img-6efd9791-24\">\n",
       "              <path fill=\"none\" d=\"M-58.42,18.68 L-46.73,18.03 -35.05,17.07 -23.37,15.63 -11.68,13.46 0,10.21 11.68,5.33 23.37,-1.98 35.05,-12.95 46.73,-29.4 58.42,-54.08 \" class=\"primitive\"/>\n",
       "            </g>\n",
       "          </g>\n",
       "        </g>\n",
       "      </g>\n",
       "    </g>\n",
       "  </g>\n",
       "  <g class=\"guide ylabels\" font-size=\"2.82\" font-family=\"'PT Sans Caption','Helvetica Neue','Helvetica',sans-serif\" fill=\"#6C606B\" id=\"img-6efd9791-25\">\n",
       "    <g transform=\"translate(14.59,84.04)\" id=\"img-6efd9791-26\">\n",
       "      <g class=\"primitive\">\n",
       "        <text text-anchor=\"end\" dy=\"0.35em\">0</text>\n",
       "      </g>\n",
       "    </g>\n",
       "    <g transform=\"translate(14.59,71.2)\" id=\"img-6efd9791-27\">\n",
       "      <g class=\"primitive\">\n",
       "        <text text-anchor=\"end\" dy=\"0.35em\">1</text>\n",
       "      </g>\n",
       "    </g>\n",
       "    <g transform=\"translate(14.59,58.36)\" id=\"img-6efd9791-28\">\n",
       "      <g class=\"primitive\">\n",
       "        <text text-anchor=\"end\" dy=\"0.35em\">2</text>\n",
       "      </g>\n",
       "    </g>\n",
       "    <g transform=\"translate(14.59,45.52)\" id=\"img-6efd9791-29\">\n",
       "      <g class=\"primitive\">\n",
       "        <text text-anchor=\"end\" dy=\"0.35em\">3</text>\n",
       "      </g>\n",
       "    </g>\n",
       "    <g transform=\"translate(14.59,32.68)\" id=\"img-6efd9791-30\">\n",
       "      <g class=\"primitive\">\n",
       "        <text text-anchor=\"end\" dy=\"0.35em\">4</text>\n",
       "      </g>\n",
       "    </g>\n",
       "    <g transform=\"translate(14.59,19.84)\" id=\"img-6efd9791-31\">\n",
       "      <g class=\"primitive\">\n",
       "        <text text-anchor=\"end\" dy=\"0.35em\">5</text>\n",
       "      </g>\n",
       "    </g>\n",
       "    <g transform=\"translate(14.59,7)\" id=\"img-6efd9791-32\">\n",
       "      <g class=\"primitive\">\n",
       "        <text text-anchor=\"end\" dy=\"0.35em\">6</text>\n",
       "      </g>\n",
       "    </g>\n",
       "  </g>\n",
       "  <g font-size=\"3.53\" font-family=\"'PT Sans','Helvetica Neue','Helvetica',sans-serif\" fill=\"#564A55\" stroke=\"#000000\" stroke-opacity=\"0.000\" id=\"img-6efd9791-33\">\n",
       "    <g transform=\"translate(9.92,45.52)\" id=\"img-6efd9791-34\">\n",
       "      <g class=\"primitive\">\n",
       "        <text text-anchor=\"end\" dy=\"0.35em\">W</text>\n",
       "      </g>\n",
       "    </g>\n",
       "  </g>\n",
       "</g>\n",
       "<defs>\n",
       "  <clipPath id=\"img-6efd9791-5\">\n",
       "    <path d=\"M15.59,5 L136.42,5 136.42,86.04 15.59,86.04 \" />\n",
       "  </clipPath>\n",
       "</defs>\n",
       "</svg>\n"
      ],
      "text/plain": [
       "\"<Cropbox.Plot{Gadfly.Plot}>\""
      ]
     },
     "execution_count": 14,
     "metadata": {},
     "output_type": "execute_result"
    }
   ],
   "source": [
    "visualize(Expo, :t, :W, config = c11, stop = 10, kind = :line)"
   ]
  },
  {
   "cell_type": "code",
   "execution_count": 16,
   "metadata": {
    "tags": []
   },
   "outputs": [
    {
     "data": {
      "application/vnd.webio.node+json": {
       "children": [
        {
         "children": [
          "Expo"
         ],
         "instanceArgs": {
          "namespace": "html",
          "tag": "div"
         },
         "nodeType": "DOM",
         "props": {
          "style": {
           "color": "rebeccapurple",
           "font-family": "monospace"
          }
         },
         "type": "node"
        },
        {
         "children": [
          {
           "children": [
            {
             "children": [
              {
               "children": [
                {
                 "children": [
                  "μ"
                 ],
                 "instanceArgs": {
                  "namespace": "html",
                  "tag": "label"
                 },
                 "nodeType": "DOM",
                 "props": {
                  "className": "interact ",
                  "style": {
                   "color": "royalblue",
                   "padding": "5px 10px 0px 10px",
                   "white-space": "nowrap"
                  }
                 },
                 "type": "node"
                }
               ],
               "instanceArgs": {
                "namespace": "html",
                "tag": "div"
               },
               "nodeType": "DOM",
               "props": {
                "className": "interact-flex-row-left"
               },
               "type": "node"
              },
              {
               "children": [
                {
                 "children": [],
                 "instanceArgs": {
                  "namespace": "html",
                  "tag": "input"
                 },
                 "nodeType": "DOM",
                 "props": {
                  "attributes": {
                   "data-bind": "numericValue: index, valueUpdate: 'input', event: {change: function (){this.changes(this.changes()+1)}}",
                   "orient": "horizontal",
                   "type": "range"
                  },
                  "className": "slider slider is-fullwidth",
                  "max": 11,
                  "min": 1,
                  "step": 1,
                  "style": {}
                 },
                 "type": "node"
                }
               ],
               "instanceArgs": {
                "namespace": "html",
                "tag": "div"
               },
               "nodeType": "DOM",
               "props": {
                "className": "interact-flex-row-center"
               },
               "type": "node"
              },
              {
               "children": [
                {
                 "children": [],
                 "instanceArgs": {
                  "namespace": "html",
                  "tag": "p"
                 },
                 "nodeType": "DOM",
                 "props": {
                  "attributes": {
                   "data-bind": "text: formatted_val"
                  }
                 },
                 "type": "node"
                }
               ],
               "instanceArgs": {
                "namespace": "html",
                "tag": "div"
               },
               "nodeType": "DOM",
               "props": {
                "className": "interact-flex-row-right"
               },
               "type": "node"
              }
             ],
             "instanceArgs": {
              "namespace": "html",
              "tag": "div"
             },
             "nodeType": "DOM",
             "props": {
              "className": "interact-flex-row interact-widget",
              "style": {
               "font-family": "monospace",
               "width": "80%"
              }
             },
             "type": "node"
            }
           ],
           "instanceArgs": {
            "handlers": {
             "changes": [
              "(function (val){return (val!=this.model[\"changes\"]()) ? (this.valueFromJulia[\"changes\"]=true, this.model[\"changes\"](val)) : undefined})"
             ],
             "index": [
              "(function (val){return (val!=this.model[\"index\"]()) ? (this.valueFromJulia[\"index\"]=true, this.model[\"index\"](val)) : undefined})"
             ]
            },
            "id": "3244204851106168735",
            "imports": {
             "data": [
              {
               "name": "knockout",
               "type": "js",
               "url": "/assetserver/d749de49a15576291e39755d819be2408bf7f995-knockout.js"
              },
              {
               "name": "knockout_punches",
               "type": "js",
               "url": "/assetserver/9f5c86158cf79faf331cfb32636cb08a9b1f0dc2-knockout_punches.js"
              },
              {
               "name": null,
               "type": "js",
               "url": "/assetserver/96a65e6078e018eef9bba5cd6ed02b2635164c53-all.js"
              },
              {
               "name": null,
               "type": "css",
               "url": "/assetserver/98c9b8e9cfeaa0be2a6f3aa79abc5da0680c3037-style.css"
              },
              {
               "name": null,
               "type": "css",
               "url": "/assetserver/c5a1211d10b2f10049d85486a98c5e9063cad849-bulma_confined.min.css"
              }
             ],
             "type": "async_block"
            },
            "mount_callbacks": [
             "function () {\n    var handler = (function (ko, koPunches) {\n    ko.punches.enableAll();\n    ko.bindingHandlers.numericValue = {\n        init: function(element, valueAccessor, allBindings, data, context) {\n            var stringified = ko.observable(ko.unwrap(valueAccessor()));\n            stringified.subscribe(function(value) {\n                var val = parseFloat(value);\n                if (!isNaN(val)) {\n                    valueAccessor()(val);\n                }\n            });\n            valueAccessor().subscribe(function(value) {\n                var str = JSON.stringify(value);\n                if ((str == \"0\") && ([\"-0\", \"-0.\"].indexOf(stringified()) >= 0))\n                     return;\n                 if ([\"null\", \"\"].indexOf(str) >= 0)\n                     return;\n                stringified(str);\n            });\n            ko.applyBindingsToNode(\n                element,\n                {\n                    value: stringified,\n                    valueUpdate: allBindings.get('valueUpdate'),\n                },\n                context,\n            );\n        }\n    };\n    var json_data = {\"formatted_vals\":[\"0.0\",\"0.01\",\"0.02\",\"0.03\",\"0.04\",\"0.05\",\"0.06\",\"0.07\",\"0.08\",\"0.09\",\"0.1\"],\"changes\":WebIO.getval({\"name\":\"changes\",\"scope\":\"3244204851106168735\",\"id\":\"11586498204595637074\",\"type\":\"observable\"}),\"index\":WebIO.getval({\"name\":\"index\",\"scope\":\"3244204851106168735\",\"id\":\"14767140560014126383\",\"type\":\"observable\"})};\n    var self = this;\n    function AppViewModel() {\n        for (var key in json_data) {\n            var el = json_data[key];\n            this[key] = Array.isArray(el) ? ko.observableArray(el) : ko.observable(el);\n        }\n        \n        [this[\"formatted_val\"]=ko.computed(    function(){\n        return this.formatted_vals()[parseInt(this.index())-(1)];\n    }\n,this)]\n        [this[\"changes\"].subscribe((function (val){!(this.valueFromJulia[\"changes\"]) ? (WebIO.setval({\"name\":\"changes\",\"scope\":\"3244204851106168735\",\"id\":\"11586498204595637074\",\"type\":\"observable\"},val)) : undefined; return this.valueFromJulia[\"changes\"]=false}),self),this[\"index\"].subscribe((function (val){!(this.valueFromJulia[\"index\"]) ? (WebIO.setval({\"name\":\"index\",\"scope\":\"3244204851106168735\",\"id\":\"14767140560014126383\",\"type\":\"observable\"},val)) : undefined; return this.valueFromJulia[\"index\"]=false}),self)]\n        \n    }\n    self.model = new AppViewModel();\n    self.valueFromJulia = {};\n    for (var key in json_data) {\n        self.valueFromJulia[key] = false;\n    }\n    ko.applyBindings(self.model, self.dom);\n}\n);\n    (WebIO.importBlock({\"data\":[{\"name\":\"knockout\",\"type\":\"js\",\"url\":\"/assetserver/d749de49a15576291e39755d819be2408bf7f995-knockout.js\"},{\"name\":\"knockout_punches\",\"type\":\"js\",\"url\":\"/assetserver/9f5c86158cf79faf331cfb32636cb08a9b1f0dc2-knockout_punches.js\"}],\"type\":\"async_block\"})).then((imports) => handler.apply(this, imports));\n}\n"
            ],
            "observables": {
             "changes": {
              "id": "11586498204595637074",
              "sync": true,
              "value": 0
             },
             "index": {
              "id": "14767140560014126383",
              "sync": true,
              "value": 6
             }
            },
            "systemjs_options": null
           },
           "nodeType": "Scope",
           "props": {},
           "type": "node"
          }
         ],
         "instanceArgs": {
          "namespace": "html",
          "tag": "div"
         },
         "nodeType": "DOM",
         "props": {
          "className": "field interact-widget"
         },
         "type": "node"
        },
        {
         "children": [
          {
           "children": [
            {
             "children": [
              {
               "children": [
                {
                 "children": [
                  "W0"
                 ],
                 "instanceArgs": {
                  "namespace": "html",
                  "tag": "label"
                 },
                 "nodeType": "DOM",
                 "props": {
                  "className": "interact ",
                  "style": {
                   "color": "royalblue",
                   "padding": "5px 10px 0px 10px",
                   "white-space": "nowrap"
                  }
                 },
                 "type": "node"
                }
               ],
               "instanceArgs": {
                "namespace": "html",
                "tag": "div"
               },
               "nodeType": "DOM",
               "props": {
                "className": "interact-flex-row-left"
               },
               "type": "node"
              },
              {
               "children": [
                {
                 "children": [],
                 "instanceArgs": {
                  "namespace": "html",
                  "tag": "input"
                 },
                 "nodeType": "DOM",
                 "props": {
                  "attributes": {
                   "data-bind": "numericValue: index, valueUpdate: 'input', event: {change: function (){this.changes(this.changes()+1)}}",
                   "orient": "horizontal",
                   "type": "range"
                  },
                  "className": "slider slider is-fullwidth",
                  "max": 101,
                  "min": 1,
                  "step": 1,
                  "style": {}
                 },
                 "type": "node"
                }
               ],
               "instanceArgs": {
                "namespace": "html",
                "tag": "div"
               },
               "nodeType": "DOM",
               "props": {
                "className": "interact-flex-row-center"
               },
               "type": "node"
              },
              {
               "children": [
                {
                 "children": [],
                 "instanceArgs": {
                  "namespace": "html",
                  "tag": "p"
                 },
                 "nodeType": "DOM",
                 "props": {
                  "attributes": {
                   "data-bind": "text: formatted_val"
                  }
                 },
                 "type": "node"
                }
               ],
               "instanceArgs": {
                "namespace": "html",
                "tag": "div"
               },
               "nodeType": "DOM",
               "props": {
                "className": "interact-flex-row-right"
               },
               "type": "node"
              }
             ],
             "instanceArgs": {
              "namespace": "html",
              "tag": "div"
             },
             "nodeType": "DOM",
             "props": {
              "className": "interact-flex-row interact-widget",
              "style": {
               "font-family": "monospace",
               "width": "80%"
              }
             },
             "type": "node"
            }
           ],
           "instanceArgs": {
            "handlers": {
             "changes": [
              "(function (val){return (val!=this.model[\"changes\"]()) ? (this.valueFromJulia[\"changes\"]=true, this.model[\"changes\"](val)) : undefined})"
             ],
             "index": [
              "(function (val){return (val!=this.model[\"index\"]()) ? (this.valueFromJulia[\"index\"]=true, this.model[\"index\"](val)) : undefined})"
             ]
            },
            "id": "8621964287894330220",
            "imports": {
             "data": [
              {
               "name": "knockout",
               "type": "js",
               "url": "/assetserver/d749de49a15576291e39755d819be2408bf7f995-knockout.js"
              },
              {
               "name": "knockout_punches",
               "type": "js",
               "url": "/assetserver/9f5c86158cf79faf331cfb32636cb08a9b1f0dc2-knockout_punches.js"
              },
              {
               "name": null,
               "type": "js",
               "url": "/assetserver/96a65e6078e018eef9bba5cd6ed02b2635164c53-all.js"
              },
              {
               "name": null,
               "type": "css",
               "url": "/assetserver/98c9b8e9cfeaa0be2a6f3aa79abc5da0680c3037-style.css"
              },
              {
               "name": null,
               "type": "css",
               "url": "/assetserver/c5a1211d10b2f10049d85486a98c5e9063cad849-bulma_confined.min.css"
              }
             ],
             "type": "async_block"
            },
            "mount_callbacks": [
             "function () {\n    var handler = (function (ko, koPunches) {\n    ko.punches.enableAll();\n    ko.bindingHandlers.numericValue = {\n        init: function(element, valueAccessor, allBindings, data, context) {\n            var stringified = ko.observable(ko.unwrap(valueAccessor()));\n            stringified.subscribe(function(value) {\n                var val = parseFloat(value);\n                if (!isNaN(val)) {\n                    valueAccessor()(val);\n                }\n            });\n            valueAccessor().subscribe(function(value) {\n                var str = JSON.stringify(value);\n                if ((str == \"0\") && ([\"-0\", \"-0.\"].indexOf(stringified()) >= 0))\n                     return;\n                 if ([\"null\", \"\"].indexOf(str) >= 0)\n                     return;\n                stringified(str);\n            });\n            ko.applyBindingsToNode(\n                element,\n                {\n                    value: stringified,\n                    valueUpdate: allBindings.get('valueUpdate'),\n                },\n                context,\n            );\n        }\n    };\n    var json_data = {\"formatted_vals\":[\"0.0\",\"0.1\",\"0.2\",\"0.3\",\"0.4\",\"0.5\",\"0.6\",\"0.7\",\"0.8\",\"0.9\",\"1.0\",\"1.1\",\"1.2\",\"1.3\",\"1.4\",\"1.5\",\"1.6\",\"1.7\",\"1.8\",\"1.9\",\"2.0\",\"2.1\",\"2.2\",\"2.3\",\"2.4\",\"2.5\",\"2.6\",\"2.7\",\"2.8\",\"2.9\",\"3.0\",\"3.1\",\"3.2\",\"3.3\",\"3.4\",\"3.5\",\"3.6\",\"3.7\",\"3.8\",\"3.9\",\"4.0\",\"4.1\",\"4.2\",\"4.3\",\"4.4\",\"4.5\",\"4.6\",\"4.7\",\"4.8\",\"4.9\",\"5.0\",\"5.1\",\"5.2\",\"5.3\",\"5.4\",\"5.5\",\"5.6\",\"5.7\",\"5.8\",\"5.9\",\"6.0\",\"6.1\",\"6.2\",\"6.3\",\"6.4\",\"6.5\",\"6.6\",\"6.7\",\"6.8\",\"6.9\",\"7.0\",\"7.1\",\"7.2\",\"7.3\",\"7.4\",\"7.5\",\"7.6\",\"7.7\",\"7.8\",\"7.9\",\"8.0\",\"8.1\",\"8.2\",\"8.3\",\"8.4\",\"8.5\",\"8.6\",\"8.7\",\"8.8\",\"8.9\",\"9.0\",\"9.1\",\"9.2\",\"9.3\",\"9.4\",\"9.5\",\"9.6\",\"9.7\",\"9.8\",\"9.9\",\"10.0\"],\"changes\":WebIO.getval({\"name\":\"changes\",\"scope\":\"8621964287894330220\",\"id\":\"16645545459129751670\",\"type\":\"observable\"}),\"index\":WebIO.getval({\"name\":\"index\",\"scope\":\"8621964287894330220\",\"id\":\"14833405870993288789\",\"type\":\"observable\"})};\n    var self = this;\n    function AppViewModel() {\n        for (var key in json_data) {\n            var el = json_data[key];\n            this[key] = Array.isArray(el) ? ko.observableArray(el) : ko.observable(el);\n        }\n        \n        [this[\"formatted_val\"]=ko.computed(    function(){\n        return this.formatted_vals()[parseInt(this.index())-(1)];\n    }\n,this)]\n        [this[\"changes\"].subscribe((function (val){!(this.valueFromJulia[\"changes\"]) ? (WebIO.setval({\"name\":\"changes\",\"scope\":\"8621964287894330220\",\"id\":\"16645545459129751670\",\"type\":\"observable\"},val)) : undefined; return this.valueFromJulia[\"changes\"]=false}),self),this[\"index\"].subscribe((function (val){!(this.valueFromJulia[\"index\"]) ? (WebIO.setval({\"name\":\"index\",\"scope\":\"8621964287894330220\",\"id\":\"14833405870993288789\",\"type\":\"observable\"},val)) : undefined; return this.valueFromJulia[\"index\"]=false}),self)]\n        \n    }\n    self.model = new AppViewModel();\n    self.valueFromJulia = {};\n    for (var key in json_data) {\n        self.valueFromJulia[key] = false;\n    }\n    ko.applyBindings(self.model, self.dom);\n}\n);\n    (WebIO.importBlock({\"data\":[{\"name\":\"knockout\",\"type\":\"js\",\"url\":\"/assetserver/d749de49a15576291e39755d819be2408bf7f995-knockout.js\"},{\"name\":\"knockout_punches\",\"type\":\"js\",\"url\":\"/assetserver/9f5c86158cf79faf331cfb32636cb08a9b1f0dc2-knockout_punches.js\"}],\"type\":\"async_block\"})).then((imports) => handler.apply(this, imports));\n}\n"
            ],
            "observables": {
             "changes": {
              "id": "16645545459129751670",
              "sync": true,
              "value": 0
             },
             "index": {
              "id": "14833405870993288789",
              "sync": true,
              "value": 51
             }
            },
            "systemjs_options": null
           },
           "nodeType": "Scope",
           "props": {},
           "type": "node"
          }
         ],
         "instanceArgs": {
          "namespace": "html",
          "tag": "div"
         },
         "nodeType": "DOM",
         "props": {
          "className": "field interact-widget"
         },
         "type": "node"
        },
        {
         "children": [
          {
           "children": [],
           "instanceArgs": {
            "namespace": "html",
            "tag": "div"
           },
           "nodeType": "DOM",
           "props": {
            "className": "webio-observable",
            "setInnerHtml": "<?xml version=\"1.0\" encoding=\"UTF-8\"?>\n<svg xmlns=\"http://www.w3.org/2000/svg\"\n     xmlns:xlink=\"http://www.w3.org/1999/xlink\"\n     xmlns:gadfly=\"http://www.gadflyjl.org/ns\"\n     version=\"1.2\"\n     width=\"141.42mm\" height=\"100mm\" viewBox=\"0 0 141.42 100\"\n     stroke=\"none\"\n     fill=\"#000000\"\n     stroke-width=\"0.3\"\n     font-size=\"3.88\"\n>\n<defs>\n  <marker id=\"arrow\" markerWidth=\"15\" markerHeight=\"7\" refX=\"5\" refY=\"3.5\" orient=\"auto\" markerUnits=\"strokeWidth\">\n    <path d=\"M0,0 L15,3.5 L0,7 z\" stroke=\"context-stroke\" fill=\"context-stroke\"/>\n  </marker>\n</defs>\n<g stroke=\"#000000\" stroke-opacity=\"0.000\" fill=\"#FFFFFF\" id=\"img-001aab6f-1\">\n  <g transform=\"translate(70.71,50)\">\n    <path d=\"M-70.71,-50 L70.71,-50 70.71,50 -70.71,50  z\" class=\"primitive\"/>\n  </g>\n</g>\n<g class=\"plotroot xscalable yscalable\" id=\"img-001aab6f-2\">\n  <g font-size=\"3.53\" font-family=\"'PT Sans','Helvetica Neue','Helvetica',sans-serif\" fill=\"#564A55\" stroke=\"#000000\" stroke-opacity=\"0.000\" id=\"img-001aab6f-3\">\n    <g transform=\"translate(77.68,93.72)\">\n      <g class=\"primitive\">\n        <text text-anchor=\"middle\" dy=\"0.6em\">t</text>\n      </g>\n    </g>\n  </g>\n  <g class=\"guide xlabels\" font-size=\"2.82\" font-family=\"'PT Sans Caption','Helvetica Neue','Helvetica',sans-serif\" fill=\"#6C606B\" id=\"img-001aab6f-4\">\n    <g transform=\"translate(20.94,87.04)\">\n      <g class=\"primitive\">\n        <text text-anchor=\"middle\" dy=\"0.6em\">0</text>\n      </g>\n    </g>\n    <g transform=\"translate(77.68,87.04)\">\n      <g class=\"primitive\">\n        <text text-anchor=\"middle\" dy=\"0.6em\">50</text>\n      </g>\n    </g>\n    <g transform=\"translate(134.42,87.04)\">\n      <g class=\"primitive\">\n        <text text-anchor=\"middle\" dy=\"0.6em\">100</text>\n      </g>\n    </g>\n  </g>\n  <g clip-path=\"url(#img-001aab6f-5)\">\n    <g id=\"img-001aab6f-6\">\n      <g pointer-events=\"visible\" stroke-width=\"0.3\" fill=\"#000000\" fill-opacity=\"0.000\" stroke=\"#000000\" stroke-opacity=\"0.000\" class=\"guide background\" id=\"img-001aab6f-7\">\n        <g transform=\"translate(77.68,45.52)\" id=\"img-001aab6f-8\">\n          <path d=\"M-58.74,-40.52 L58.74,-40.52 58.74,40.52 -58.74,40.52  z\" class=\"primitive\"/>\n        </g>\n      </g>\n      <g class=\"guide ygridlines xfixed\" stroke-dasharray=\"0.5,0.5\" stroke-width=\"0.2\" stroke=\"#D0D0E0\" id=\"img-001aab6f-9\">\n        <g transform=\"translate(77.68,84.04)\" id=\"img-001aab6f-10\">\n          <path fill=\"none\" d=\"M-58.74,0 L58.74,0 \" class=\"primitive\"/>\n        </g>\n        <g transform=\"translate(77.68,45.52)\" id=\"img-001aab6f-11\">\n          <path fill=\"none\" d=\"M-58.74,0 L58.74,0 \" class=\"primitive\"/>\n        </g>\n        <g transform=\"translate(77.68,7)\" id=\"img-001aab6f-12\">\n          <path fill=\"none\" d=\"M-58.74,0 L58.74,0 \" class=\"primitive\"/>\n        </g>\n      </g>\n      <g class=\"guide xgridlines yfixed\" stroke-dasharray=\"0.5,0.5\" stroke-width=\"0.2\" stroke=\"#D0D0E0\" id=\"img-001aab6f-13\">\n        <g transform=\"translate(20.94,45.52)\" id=\"img-001aab6f-14\">\n          <path fill=\"none\" d=\"M0,-40.52 L0,40.52 \" class=\"primitive\"/>\n        </g>\n        <g transform=\"translate(77.68,45.52)\" id=\"img-001aab6f-15\">\n          <path fill=\"none\" d=\"M0,-40.52 L0,40.52 \" class=\"primitive\"/>\n        </g>\n        <g transform=\"translate(134.42,45.52)\" id=\"img-001aab6f-16\">\n          <path fill=\"none\" d=\"M0,-40.52 L0,40.52 \" class=\"primitive\"/>\n        </g>\n      </g>\n      <g class=\"plotpanel\" id=\"img-001aab6f-17\">\n        <metadata>\n          <boundingbox value=\"18.936666666666667mm 5.0mm 117.48468957064284mm 81.04333333333334mm\"/>\n          <unitbox value=\"-1.762352267576169 102.59594167784364 103.52470453515235 -105.19188335568728\"/>\n        </metadata>\n        <g stroke-width=\"0.3\" fill=\"#000000\" fill-opacity=\"0.000\" class=\"geometry\" id=\"img-001aab6f-18\">\n          <g class=\"color_LCHab{Float32}(70.0f0,60.0f0,240.0f0)\" stroke-dasharray=\"none\" stroke-opacity=\"1\" stroke=\"#00BFFF\" id=\"img-001aab6f-19\">\n            <g transform=\"translate(77.68,-20.52)\" id=\"img-001aab6f-20\">\n              <path fill=\"none\" d=\"M-56.74,100.71 L-55.61,100.52 -54.47,100.32 -53.34,100.1 -52.2,99.88 -51.07,99.65 -49.93,99.4 -48.8,99.14 -47.66,98.87 -46.53,98.59 -45.39,98.29 -44.26,97.97 -43.12,97.64 -41.99,97.3 -40.85,96.94 -39.72,96.55 -38.58,96.15 -37.45,95.73 -36.32,95.29 -35.18,94.83 -34.05,94.34 -32.91,93.83 -31.78,93.29 -30.64,92.73 -29.51,92.14 -28.37,91.52 -27.24,90.87 -26.1,90.18 -24.97,89.46 -23.83,88.71 -22.7,87.91 -21.56,87.08 -20.43,86.21 -19.29,85.29 -18.16,84.33 -17.02,83.31 -15.89,82.25 -14.75,81.14 -13.62,79.96 -12.48,78.73 -11.35,77.44 -10.21,76.09 -9.08,74.66 -7.94,73.17 -6.81,71.6 -5.67,69.95 -4.54,68.22 -3.4,66.4 -2.27,64.5 -1.13,62.49 0,60.39 1.13,58.18 2.27,55.86 3.4,53.43 4.54,50.87 5.67,48.18 6.81,45.36 7.94,42.4 9.08,39.3 10.21,36.03 11.35,32.61 12.48,29.01 13.62,25.23 14.75,21.27 15.89,17.1 17.02,12.73 18.16,8.14 19.29,3.31 20.43,-1.75 21.56,-7.06 22.7,-12.65 23.83,-18.51 24.97,-24.66 26.1,-31.12 27.24,-37.9 28.37,-45.03 29.51,-52.51 30.64,-60.36 31.78,-68.61 32.91,-77.27 34.05,-86.36 35.18,-95.9 36.32,-105.93 37.45,-116.45 38.58,-127.5 39.72,-139.1 40.85,-151.29 41.99,-164.08 43.12,-177.51 44.26,-191.62 45.39,-206.42 46.53,-221.97 47.66,-238.3 48.8,-255.44 49.93,-273.44 51.07,-292.34 52.2,-312.19 53.34,-333.03 54.47,-354.91 55.61,-377.88 56.74,-402 \" class=\"primitive\"/>\n            </g>\n          </g>\n        </g>\n      </g>\n    </g>\n  </g>\n  <g class=\"guide ylabels\" font-size=\"2.82\" font-family=\"'PT Sans Caption','Helvetica Neue','Helvetica',sans-serif\" fill=\"#6C606B\" id=\"img-001aab6f-21\">\n    <g transform=\"translate(17.94,84.04)\" id=\"img-001aab6f-22\">\n      <g class=\"primitive\">\n        <text text-anchor=\"end\" dy=\"0.35em\">0</text>\n      </g>\n    </g>\n    <g transform=\"translate(17.94,45.52)\" id=\"img-001aab6f-23\">\n      <g class=\"primitive\">\n        <text text-anchor=\"end\" dy=\"0.35em\">50</text>\n      </g>\n    </g>\n    <g transform=\"translate(17.94,7)\" id=\"img-001aab6f-24\">\n      <g class=\"primitive\">\n        <text text-anchor=\"end\" dy=\"0.35em\">100</text>\n      </g>\n    </g>\n  </g>\n  <g font-size=\"3.53\" font-family=\"'PT Sans','Helvetica Neue','Helvetica',sans-serif\" fill=\"#564A55\" stroke=\"#000000\" stroke-opacity=\"0.000\" id=\"img-001aab6f-25\">\n    <g transform=\"translate(9.92,45.52)\" id=\"img-001aab6f-26\">\n      <g class=\"primitive\">\n        <text text-anchor=\"end\" dy=\"0.35em\">W</text>\n      </g>\n    </g>\n  </g>\n</g>\n<defs>\n  <clipPath id=\"img-001aab6f-5\">\n    <path d=\"M18.94,5 L136.42,5 136.42,86.04 18.94,86.04 \" />\n  </clipPath>\n</defs>\n</svg>\n"
           },
           "type": "node"
          }
         ],
         "instanceArgs": {
          "handlers": {
           "obs-output": [
            "function (value, scope) {\n    scope.setInnerHTML(value);\n}\n"
           ]
          },
          "id": "5136208542236007749",
          "imports": {
           "data": [],
           "type": "async_block"
          },
          "mount_callbacks": [],
          "observables": {
           "obs-output": {
            "id": "851318814385750886",
            "sync": false,
            "value": "<?xml version=\"1.0\" encoding=\"UTF-8\"?>\n<svg xmlns=\"http://www.w3.org/2000/svg\"\n     xmlns:xlink=\"http://www.w3.org/1999/xlink\"\n     xmlns:gadfly=\"http://www.gadflyjl.org/ns\"\n     version=\"1.2\"\n     width=\"141.42mm\" height=\"100mm\" viewBox=\"0 0 141.42 100\"\n     stroke=\"none\"\n     fill=\"#000000\"\n     stroke-width=\"0.3\"\n     font-size=\"3.88\"\n>\n<defs>\n  <marker id=\"arrow\" markerWidth=\"15\" markerHeight=\"7\" refX=\"5\" refY=\"3.5\" orient=\"auto\" markerUnits=\"strokeWidth\">\n    <path d=\"M0,0 L15,3.5 L0,7 z\" stroke=\"context-stroke\" fill=\"context-stroke\"/>\n  </marker>\n</defs>\n<g stroke=\"#000000\" stroke-opacity=\"0.000\" fill=\"#FFFFFF\" id=\"img-001aab6f-1\">\n  <g transform=\"translate(70.71,50)\">\n    <path d=\"M-70.71,-50 L70.71,-50 70.71,50 -70.71,50  z\" class=\"primitive\"/>\n  </g>\n</g>\n<g class=\"plotroot xscalable yscalable\" id=\"img-001aab6f-2\">\n  <g font-size=\"3.53\" font-family=\"'PT Sans','Helvetica Neue','Helvetica',sans-serif\" fill=\"#564A55\" stroke=\"#000000\" stroke-opacity=\"0.000\" id=\"img-001aab6f-3\">\n    <g transform=\"translate(77.68,93.72)\">\n      <g class=\"primitive\">\n        <text text-anchor=\"middle\" dy=\"0.6em\">t</text>\n      </g>\n    </g>\n  </g>\n  <g class=\"guide xlabels\" font-size=\"2.82\" font-family=\"'PT Sans Caption','Helvetica Neue','Helvetica',sans-serif\" fill=\"#6C606B\" id=\"img-001aab6f-4\">\n    <g transform=\"translate(20.94,87.04)\">\n      <g class=\"primitive\">\n        <text text-anchor=\"middle\" dy=\"0.6em\">0</text>\n      </g>\n    </g>\n    <g transform=\"translate(77.68,87.04)\">\n      <g class=\"primitive\">\n        <text text-anchor=\"middle\" dy=\"0.6em\">50</text>\n      </g>\n    </g>\n    <g transform=\"translate(134.42,87.04)\">\n      <g class=\"primitive\">\n        <text text-anchor=\"middle\" dy=\"0.6em\">100</text>\n      </g>\n    </g>\n  </g>\n  <g clip-path=\"url(#img-001aab6f-5)\">\n    <g id=\"img-001aab6f-6\">\n      <g pointer-events=\"visible\" stroke-width=\"0.3\" fill=\"#000000\" fill-opacity=\"0.000\" stroke=\"#000000\" stroke-opacity=\"0.000\" class=\"guide background\" id=\"img-001aab6f-7\">\n        <g transform=\"translate(77.68,45.52)\" id=\"img-001aab6f-8\">\n          <path d=\"M-58.74,-40.52 L58.74,-40.52 58.74,40.52 -58.74,40.52  z\" class=\"primitive\"/>\n        </g>\n      </g>\n      <g class=\"guide ygridlines xfixed\" stroke-dasharray=\"0.5,0.5\" stroke-width=\"0.2\" stroke=\"#D0D0E0\" id=\"img-001aab6f-9\">\n        <g transform=\"translate(77.68,84.04)\" id=\"img-001aab6f-10\">\n          <path fill=\"none\" d=\"M-58.74,0 L58.74,0 \" class=\"primitive\"/>\n        </g>\n        <g transform=\"translate(77.68,45.52)\" id=\"img-001aab6f-11\">\n          <path fill=\"none\" d=\"M-58.74,0 L58.74,0 \" class=\"primitive\"/>\n        </g>\n        <g transform=\"translate(77.68,7)\" id=\"img-001aab6f-12\">\n          <path fill=\"none\" d=\"M-58.74,0 L58.74,0 \" class=\"primitive\"/>\n        </g>\n      </g>\n      <g class=\"guide xgridlines yfixed\" stroke-dasharray=\"0.5,0.5\" stroke-width=\"0.2\" stroke=\"#D0D0E0\" id=\"img-001aab6f-13\">\n        <g transform=\"translate(20.94,45.52)\" id=\"img-001aab6f-14\">\n          <path fill=\"none\" d=\"M0,-40.52 L0,40.52 \" class=\"primitive\"/>\n        </g>\n        <g transform=\"translate(77.68,45.52)\" id=\"img-001aab6f-15\">\n          <path fill=\"none\" d=\"M0,-40.52 L0,40.52 \" class=\"primitive\"/>\n        </g>\n        <g transform=\"translate(134.42,45.52)\" id=\"img-001aab6f-16\">\n          <path fill=\"none\" d=\"M0,-40.52 L0,40.52 \" class=\"primitive\"/>\n        </g>\n      </g>\n      <g class=\"plotpanel\" id=\"img-001aab6f-17\">\n        <metadata>\n          <boundingbox value=\"18.936666666666667mm 5.0mm 117.48468957064284mm 81.04333333333334mm\"/>\n          <unitbox value=\"-1.762352267576169 102.59594167784364 103.52470453515235 -105.19188335568728\"/>\n        </metadata>\n        <g stroke-width=\"0.3\" fill=\"#000000\" fill-opacity=\"0.000\" class=\"geometry\" id=\"img-001aab6f-18\">\n          <g class=\"color_LCHab{Float32}(70.0f0,60.0f0,240.0f0)\" stroke-dasharray=\"none\" stroke-opacity=\"1\" stroke=\"#00BFFF\" id=\"img-001aab6f-19\">\n            <g transform=\"translate(77.68,-20.52)\" id=\"img-001aab6f-20\">\n              <path fill=\"none\" d=\"M-56.74,100.71 L-55.61,100.52 -54.47,100.32 -53.34,100.1 -52.2,99.88 -51.07,99.65 -49.93,99.4 -48.8,99.14 -47.66,98.87 -46.53,98.59 -45.39,98.29 -44.26,97.97 -43.12,97.64 -41.99,97.3 -40.85,96.94 -39.72,96.55 -38.58,96.15 -37.45,95.73 -36.32,95.29 -35.18,94.83 -34.05,94.34 -32.91,93.83 -31.78,93.29 -30.64,92.73 -29.51,92.14 -28.37,91.52 -27.24,90.87 -26.1,90.18 -24.97,89.46 -23.83,88.71 -22.7,87.91 -21.56,87.08 -20.43,86.21 -19.29,85.29 -18.16,84.33 -17.02,83.31 -15.89,82.25 -14.75,81.14 -13.62,79.96 -12.48,78.73 -11.35,77.44 -10.21,76.09 -9.08,74.66 -7.94,73.17 -6.81,71.6 -5.67,69.95 -4.54,68.22 -3.4,66.4 -2.27,64.5 -1.13,62.49 0,60.39 1.13,58.18 2.27,55.86 3.4,53.43 4.54,50.87 5.67,48.18 6.81,45.36 7.94,42.4 9.08,39.3 10.21,36.03 11.35,32.61 12.48,29.01 13.62,25.23 14.75,21.27 15.89,17.1 17.02,12.73 18.16,8.14 19.29,3.31 20.43,-1.75 21.56,-7.06 22.7,-12.65 23.83,-18.51 24.97,-24.66 26.1,-31.12 27.24,-37.9 28.37,-45.03 29.51,-52.51 30.64,-60.36 31.78,-68.61 32.91,-77.27 34.05,-86.36 35.18,-95.9 36.32,-105.93 37.45,-116.45 38.58,-127.5 39.72,-139.1 40.85,-151.29 41.99,-164.08 43.12,-177.51 44.26,-191.62 45.39,-206.42 46.53,-221.97 47.66,-238.3 48.8,-255.44 49.93,-273.44 51.07,-292.34 52.2,-312.19 53.34,-333.03 54.47,-354.91 55.61,-377.88 56.74,-402 \" class=\"primitive\"/>\n            </g>\n          </g>\n        </g>\n      </g>\n    </g>\n  </g>\n  <g class=\"guide ylabels\" font-size=\"2.82\" font-family=\"'PT Sans Caption','Helvetica Neue','Helvetica',sans-serif\" fill=\"#6C606B\" id=\"img-001aab6f-21\">\n    <g transform=\"translate(17.94,84.04)\" id=\"img-001aab6f-22\">\n      <g class=\"primitive\">\n        <text text-anchor=\"end\" dy=\"0.35em\">0</text>\n      </g>\n    </g>\n    <g transform=\"translate(17.94,45.52)\" id=\"img-001aab6f-23\">\n      <g class=\"primitive\">\n        <text text-anchor=\"end\" dy=\"0.35em\">50</text>\n      </g>\n    </g>\n    <g transform=\"translate(17.94,7)\" id=\"img-001aab6f-24\">\n      <g class=\"primitive\">\n        <text text-anchor=\"end\" dy=\"0.35em\">100</text>\n      </g>\n    </g>\n  </g>\n  <g font-size=\"3.53\" font-family=\"'PT Sans','Helvetica Neue','Helvetica',sans-serif\" fill=\"#564A55\" stroke=\"#000000\" stroke-opacity=\"0.000\" id=\"img-001aab6f-25\">\n    <g transform=\"translate(9.92,45.52)\" id=\"img-001aab6f-26\">\n      <g class=\"primitive\">\n        <text text-anchor=\"end\" dy=\"0.35em\">W</text>\n      </g>\n    </g>\n  </g>\n</g>\n<defs>\n  <clipPath id=\"img-001aab6f-5\">\n    <path d=\"M18.94,5 L136.42,5 136.42,86.04 18.94,86.04 \" />\n  </clipPath>\n</defs>\n</svg>\n"
           }
          },
          "systemjs_options": null
         },
         "nodeType": "Scope",
         "props": {},
         "type": "node"
        }
       ],
       "instanceArgs": {
        "namespace": "html",
        "tag": "div"
       },
       "nodeType": "DOM",
       "props": {
        "style": {
         "display": "flex",
         "flex-direction": "column"
        }
       },
       "type": "node"
      },
      "text/html": [
       "<div\n",
       "    class=\"webio-mountpoint\"\n",
       "    data-webio-mountpoint=\"16987018331971492207\"\n",
       ">\n",
       "    <script>\n",
       "    (function(){\n",
       "    // Some integrations (namely, IJulia/Jupyter) use an alternate render pathway than\n",
       "    // just putting the html on the page. If WebIO isn't defined, then it's pretty likely\n",
       "    // that we're in one of those situations and the integration just isn't installed\n",
       "    // correctly.\n",
       "    if (typeof window.WebIO === \"undefined\") {\n",
       "        document\n",
       "            .querySelector('[data-webio-mountpoint=\"16987018331971492207\"]')\n",
       "            .innerHTML = (\n",
       "                '<div style=\"padding: 1em; background-color: #f8d6da; border: 1px solid #f5c6cb; font-weight: bold;\">' +\n",
       "                '<p><strong>WebIO not detected.</strong></p>' +\n",
       "                '<p>Please read ' +\n",
       "                '<a href=\"https://juliagizmos.github.io/WebIO.jl/latest/troubleshooting/not-detected/\" target=\"_blank\">the troubleshooting guide</a> ' +\n",
       "                'for more information on how to resolve this issue.</p>' +\n",
       "                '<p><a href=\"https://juliagizmos.github.io/WebIO.jl/latest/troubleshooting/not-detected/\" target=\"_blank\">https://juliagizmos.github.io/WebIO.jl/latest/troubleshooting/not-detected/</a></p>' +\n",
       "                '</div>'\n",
       "            );\n",
       "        return;\n",
       "    }\n",
       "    WebIO.mount(\n",
       "        document.querySelector('[data-webio-mountpoint=\"16987018331971492207\"]'),\n",
       "        {\"props\":{\"style\":{\"display\":\"flex\",\"flex-direction\":\"column\"}},\"nodeType\":\"DOM\",\"type\":\"node\",\"instanceArgs\":{\"namespace\":\"html\",\"tag\":\"div\"},\"children\":[{\"props\":{\"style\":{\"color\":\"rebeccapurple\",\"font-family\":\"monospace\"}},\"nodeType\":\"DOM\",\"type\":\"node\",\"instanceArgs\":{\"namespace\":\"html\",\"tag\":\"div\"},\"children\":[\"Expo\"]},{\"props\":{\"className\":\"field interact-widget\"},\"nodeType\":\"DOM\",\"type\":\"node\",\"instanceArgs\":{\"namespace\":\"html\",\"tag\":\"div\"},\"children\":[{\"props\":{},\"nodeType\":\"Scope\",\"type\":\"node\",\"instanceArgs\":{\"imports\":{\"data\":[{\"name\":\"knockout\",\"type\":\"js\",\"url\":\"\\/assetserver\\/d749de49a15576291e39755d819be2408bf7f995-knockout.js\"},{\"name\":\"knockout_punches\",\"type\":\"js\",\"url\":\"\\/assetserver\\/9f5c86158cf79faf331cfb32636cb08a9b1f0dc2-knockout_punches.js\"},{\"name\":null,\"type\":\"js\",\"url\":\"\\/assetserver\\/96a65e6078e018eef9bba5cd6ed02b2635164c53-all.js\"},{\"name\":null,\"type\":\"css\",\"url\":\"\\/assetserver\\/98c9b8e9cfeaa0be2a6f3aa79abc5da0680c3037-style.css\"},{\"name\":null,\"type\":\"css\",\"url\":\"\\/assetserver\\/c5a1211d10b2f10049d85486a98c5e9063cad849-bulma_confined.min.css\"}],\"type\":\"async_block\"},\"id\":\"3244204851106168735\",\"handlers\":{\"changes\":[\"(function (val){return (val!=this.model[\\\"changes\\\"]()) ? (this.valueFromJulia[\\\"changes\\\"]=true, this.model[\\\"changes\\\"](val)) : undefined})\"],\"index\":[\"(function (val){return (val!=this.model[\\\"index\\\"]()) ? (this.valueFromJulia[\\\"index\\\"]=true, this.model[\\\"index\\\"](val)) : undefined})\"]},\"systemjs_options\":null,\"mount_callbacks\":[\"function () {\\n    var handler = (function (ko, koPunches) {\\n    ko.punches.enableAll();\\n    ko.bindingHandlers.numericValue = {\\n        init: function(element, valueAccessor, allBindings, data, context) {\\n            var stringified = ko.observable(ko.unwrap(valueAccessor()));\\n            stringified.subscribe(function(value) {\\n                var val = parseFloat(value);\\n                if (!isNaN(val)) {\\n                    valueAccessor()(val);\\n                }\\n            });\\n            valueAccessor().subscribe(function(value) {\\n                var str = JSON.stringify(value);\\n                if ((str == \\\"0\\\") && ([\\\"-0\\\", \\\"-0.\\\"].indexOf(stringified()) >= 0))\\n                     return;\\n                 if ([\\\"null\\\", \\\"\\\"].indexOf(str) >= 0)\\n                     return;\\n                stringified(str);\\n            });\\n            ko.applyBindingsToNode(\\n                element,\\n                {\\n                    value: stringified,\\n                    valueUpdate: allBindings.get('valueUpdate'),\\n                },\\n                context,\\n            );\\n        }\\n    };\\n    var json_data = {\\\"formatted_vals\\\":[\\\"0.0\\\",\\\"0.01\\\",\\\"0.02\\\",\\\"0.03\\\",\\\"0.04\\\",\\\"0.05\\\",\\\"0.06\\\",\\\"0.07\\\",\\\"0.08\\\",\\\"0.09\\\",\\\"0.1\\\"],\\\"changes\\\":WebIO.getval({\\\"name\\\":\\\"changes\\\",\\\"scope\\\":\\\"3244204851106168735\\\",\\\"id\\\":\\\"11586498204595637074\\\",\\\"type\\\":\\\"observable\\\"}),\\\"index\\\":WebIO.getval({\\\"name\\\":\\\"index\\\",\\\"scope\\\":\\\"3244204851106168735\\\",\\\"id\\\":\\\"14767140560014126383\\\",\\\"type\\\":\\\"observable\\\"})};\\n    var self = this;\\n    function AppViewModel() {\\n        for (var key in json_data) {\\n            var el = json_data[key];\\n            this[key] = Array.isArray(el) ? ko.observableArray(el) : ko.observable(el);\\n        }\\n        \\n        [this[\\\"formatted_val\\\"]=ko.computed(    function(){\\n        return this.formatted_vals()[parseInt(this.index())-(1)];\\n    }\\n,this)]\\n        [this[\\\"changes\\\"].subscribe((function (val){!(this.valueFromJulia[\\\"changes\\\"]) ? (WebIO.setval({\\\"name\\\":\\\"changes\\\",\\\"scope\\\":\\\"3244204851106168735\\\",\\\"id\\\":\\\"11586498204595637074\\\",\\\"type\\\":\\\"observable\\\"},val)) : undefined; return this.valueFromJulia[\\\"changes\\\"]=false}),self),this[\\\"index\\\"].subscribe((function (val){!(this.valueFromJulia[\\\"index\\\"]) ? (WebIO.setval({\\\"name\\\":\\\"index\\\",\\\"scope\\\":\\\"3244204851106168735\\\",\\\"id\\\":\\\"14767140560014126383\\\",\\\"type\\\":\\\"observable\\\"},val)) : undefined; return this.valueFromJulia[\\\"index\\\"]=false}),self)]\\n        \\n    }\\n    self.model = new AppViewModel();\\n    self.valueFromJulia = {};\\n    for (var key in json_data) {\\n        self.valueFromJulia[key] = false;\\n    }\\n    ko.applyBindings(self.model, self.dom);\\n}\\n);\\n    (WebIO.importBlock({\\\"data\\\":[{\\\"name\\\":\\\"knockout\\\",\\\"type\\\":\\\"js\\\",\\\"url\\\":\\\"\\/assetserver\\/d749de49a15576291e39755d819be2408bf7f995-knockout.js\\\"},{\\\"name\\\":\\\"knockout_punches\\\",\\\"type\\\":\\\"js\\\",\\\"url\\\":\\\"\\/assetserver\\/9f5c86158cf79faf331cfb32636cb08a9b1f0dc2-knockout_punches.js\\\"}],\\\"type\\\":\\\"async_block\\\"})).then((imports) => handler.apply(this, imports));\\n}\\n\"],\"observables\":{\"changes\":{\"sync\":true,\"id\":\"11586498204595637074\",\"value\":0},\"index\":{\"sync\":true,\"id\":\"14767140560014126383\",\"value\":6}}},\"children\":[{\"props\":{\"className\":\"interact-flex-row interact-widget\",\"style\":{\"font-family\":\"monospace\",\"width\":\"80%\"}},\"nodeType\":\"DOM\",\"type\":\"node\",\"instanceArgs\":{\"namespace\":\"html\",\"tag\":\"div\"},\"children\":[{\"props\":{\"className\":\"interact-flex-row-left\"},\"nodeType\":\"DOM\",\"type\":\"node\",\"instanceArgs\":{\"namespace\":\"html\",\"tag\":\"div\"},\"children\":[{\"props\":{\"className\":\"interact \",\"style\":{\"padding\":\"5px 10px 0px 10px\",\"white-space\":\"nowrap\",\"color\":\"royalblue\"}},\"nodeType\":\"DOM\",\"type\":\"node\",\"instanceArgs\":{\"namespace\":\"html\",\"tag\":\"label\"},\"children\":[\"μ\"]}]},{\"props\":{\"className\":\"interact-flex-row-center\"},\"nodeType\":\"DOM\",\"type\":\"node\",\"instanceArgs\":{\"namespace\":\"html\",\"tag\":\"div\"},\"children\":[{\"props\":{\"max\":11,\"min\":1,\"attributes\":{\"type\":\"range\",\"data-bind\":\"numericValue: index, valueUpdate: 'input', event: {change: function (){this.changes(this.changes()+1)}}\",\"orient\":\"horizontal\"},\"step\":1,\"className\":\"slider slider is-fullwidth\",\"style\":{}},\"nodeType\":\"DOM\",\"type\":\"node\",\"instanceArgs\":{\"namespace\":\"html\",\"tag\":\"input\"},\"children\":[]}]},{\"props\":{\"className\":\"interact-flex-row-right\"},\"nodeType\":\"DOM\",\"type\":\"node\",\"instanceArgs\":{\"namespace\":\"html\",\"tag\":\"div\"},\"children\":[{\"props\":{\"attributes\":{\"data-bind\":\"text: formatted_val\"}},\"nodeType\":\"DOM\",\"type\":\"node\",\"instanceArgs\":{\"namespace\":\"html\",\"tag\":\"p\"},\"children\":[]}]}]}]}]},{\"props\":{\"className\":\"field interact-widget\"},\"nodeType\":\"DOM\",\"type\":\"node\",\"instanceArgs\":{\"namespace\":\"html\",\"tag\":\"div\"},\"children\":[{\"props\":{},\"nodeType\":\"Scope\",\"type\":\"node\",\"instanceArgs\":{\"imports\":{\"data\":[{\"name\":\"knockout\",\"type\":\"js\",\"url\":\"\\/assetserver\\/d749de49a15576291e39755d819be2408bf7f995-knockout.js\"},{\"name\":\"knockout_punches\",\"type\":\"js\",\"url\":\"\\/assetserver\\/9f5c86158cf79faf331cfb32636cb08a9b1f0dc2-knockout_punches.js\"},{\"name\":null,\"type\":\"js\",\"url\":\"\\/assetserver\\/96a65e6078e018eef9bba5cd6ed02b2635164c53-all.js\"},{\"name\":null,\"type\":\"css\",\"url\":\"\\/assetserver\\/98c9b8e9cfeaa0be2a6f3aa79abc5da0680c3037-style.css\"},{\"name\":null,\"type\":\"css\",\"url\":\"\\/assetserver\\/c5a1211d10b2f10049d85486a98c5e9063cad849-bulma_confined.min.css\"}],\"type\":\"async_block\"},\"id\":\"8621964287894330220\",\"handlers\":{\"changes\":[\"(function (val){return (val!=this.model[\\\"changes\\\"]()) ? (this.valueFromJulia[\\\"changes\\\"]=true, this.model[\\\"changes\\\"](val)) : undefined})\"],\"index\":[\"(function (val){return (val!=this.model[\\\"index\\\"]()) ? (this.valueFromJulia[\\\"index\\\"]=true, this.model[\\\"index\\\"](val)) : undefined})\"]},\"systemjs_options\":null,\"mount_callbacks\":[\"function () {\\n    var handler = (function (ko, koPunches) {\\n    ko.punches.enableAll();\\n    ko.bindingHandlers.numericValue = {\\n        init: function(element, valueAccessor, allBindings, data, context) {\\n            var stringified = ko.observable(ko.unwrap(valueAccessor()));\\n            stringified.subscribe(function(value) {\\n                var val = parseFloat(value);\\n                if (!isNaN(val)) {\\n                    valueAccessor()(val);\\n                }\\n            });\\n            valueAccessor().subscribe(function(value) {\\n                var str = JSON.stringify(value);\\n                if ((str == \\\"0\\\") && ([\\\"-0\\\", \\\"-0.\\\"].indexOf(stringified()) >= 0))\\n                     return;\\n                 if ([\\\"null\\\", \\\"\\\"].indexOf(str) >= 0)\\n                     return;\\n                stringified(str);\\n            });\\n            ko.applyBindingsToNode(\\n                element,\\n                {\\n                    value: stringified,\\n                    valueUpdate: allBindings.get('valueUpdate'),\\n                },\\n                context,\\n            );\\n        }\\n    };\\n    var json_data = {\\\"formatted_vals\\\":[\\\"0.0\\\",\\\"0.1\\\",\\\"0.2\\\",\\\"0.3\\\",\\\"0.4\\\",\\\"0.5\\\",\\\"0.6\\\",\\\"0.7\\\",\\\"0.8\\\",\\\"0.9\\\",\\\"1.0\\\",\\\"1.1\\\",\\\"1.2\\\",\\\"1.3\\\",\\\"1.4\\\",\\\"1.5\\\",\\\"1.6\\\",\\\"1.7\\\",\\\"1.8\\\",\\\"1.9\\\",\\\"2.0\\\",\\\"2.1\\\",\\\"2.2\\\",\\\"2.3\\\",\\\"2.4\\\",\\\"2.5\\\",\\\"2.6\\\",\\\"2.7\\\",\\\"2.8\\\",\\\"2.9\\\",\\\"3.0\\\",\\\"3.1\\\",\\\"3.2\\\",\\\"3.3\\\",\\\"3.4\\\",\\\"3.5\\\",\\\"3.6\\\",\\\"3.7\\\",\\\"3.8\\\",\\\"3.9\\\",\\\"4.0\\\",\\\"4.1\\\",\\\"4.2\\\",\\\"4.3\\\",\\\"4.4\\\",\\\"4.5\\\",\\\"4.6\\\",\\\"4.7\\\",\\\"4.8\\\",\\\"4.9\\\",\\\"5.0\\\",\\\"5.1\\\",\\\"5.2\\\",\\\"5.3\\\",\\\"5.4\\\",\\\"5.5\\\",\\\"5.6\\\",\\\"5.7\\\",\\\"5.8\\\",\\\"5.9\\\",\\\"6.0\\\",\\\"6.1\\\",\\\"6.2\\\",\\\"6.3\\\",\\\"6.4\\\",\\\"6.5\\\",\\\"6.6\\\",\\\"6.7\\\",\\\"6.8\\\",\\\"6.9\\\",\\\"7.0\\\",\\\"7.1\\\",\\\"7.2\\\",\\\"7.3\\\",\\\"7.4\\\",\\\"7.5\\\",\\\"7.6\\\",\\\"7.7\\\",\\\"7.8\\\",\\\"7.9\\\",\\\"8.0\\\",\\\"8.1\\\",\\\"8.2\\\",\\\"8.3\\\",\\\"8.4\\\",\\\"8.5\\\",\\\"8.6\\\",\\\"8.7\\\",\\\"8.8\\\",\\\"8.9\\\",\\\"9.0\\\",\\\"9.1\\\",\\\"9.2\\\",\\\"9.3\\\",\\\"9.4\\\",\\\"9.5\\\",\\\"9.6\\\",\\\"9.7\\\",\\\"9.8\\\",\\\"9.9\\\",\\\"10.0\\\"],\\\"changes\\\":WebIO.getval({\\\"name\\\":\\\"changes\\\",\\\"scope\\\":\\\"8621964287894330220\\\",\\\"id\\\":\\\"16645545459129751670\\\",\\\"type\\\":\\\"observable\\\"}),\\\"index\\\":WebIO.getval({\\\"name\\\":\\\"index\\\",\\\"scope\\\":\\\"8621964287894330220\\\",\\\"id\\\":\\\"14833405870993288789\\\",\\\"type\\\":\\\"observable\\\"})};\\n    var self = this;\\n    function AppViewModel() {\\n        for (var key in json_data) {\\n            var el = json_data[key];\\n            this[key] = Array.isArray(el) ? ko.observableArray(el) : ko.observable(el);\\n        }\\n        \\n        [this[\\\"formatted_val\\\"]=ko.computed(    function(){\\n        return this.formatted_vals()[parseInt(this.index())-(1)];\\n    }\\n,this)]\\n        [this[\\\"changes\\\"].subscribe((function (val){!(this.valueFromJulia[\\\"changes\\\"]) ? (WebIO.setval({\\\"name\\\":\\\"changes\\\",\\\"scope\\\":\\\"8621964287894330220\\\",\\\"id\\\":\\\"16645545459129751670\\\",\\\"type\\\":\\\"observable\\\"},val)) : undefined; return this.valueFromJulia[\\\"changes\\\"]=false}),self),this[\\\"index\\\"].subscribe((function (val){!(this.valueFromJulia[\\\"index\\\"]) ? (WebIO.setval({\\\"name\\\":\\\"index\\\",\\\"scope\\\":\\\"8621964287894330220\\\",\\\"id\\\":\\\"14833405870993288789\\\",\\\"type\\\":\\\"observable\\\"},val)) : undefined; return this.valueFromJulia[\\\"index\\\"]=false}),self)]\\n        \\n    }\\n    self.model = new AppViewModel();\\n    self.valueFromJulia = {};\\n    for (var key in json_data) {\\n        self.valueFromJulia[key] = false;\\n    }\\n    ko.applyBindings(self.model, self.dom);\\n}\\n);\\n    (WebIO.importBlock({\\\"data\\\":[{\\\"name\\\":\\\"knockout\\\",\\\"type\\\":\\\"js\\\",\\\"url\\\":\\\"\\/assetserver\\/d749de49a15576291e39755d819be2408bf7f995-knockout.js\\\"},{\\\"name\\\":\\\"knockout_punches\\\",\\\"type\\\":\\\"js\\\",\\\"url\\\":\\\"\\/assetserver\\/9f5c86158cf79faf331cfb32636cb08a9b1f0dc2-knockout_punches.js\\\"}],\\\"type\\\":\\\"async_block\\\"})).then((imports) => handler.apply(this, imports));\\n}\\n\"],\"observables\":{\"changes\":{\"sync\":true,\"id\":\"16645545459129751670\",\"value\":0},\"index\":{\"sync\":true,\"id\":\"14833405870993288789\",\"value\":51}}},\"children\":[{\"props\":{\"className\":\"interact-flex-row interact-widget\",\"style\":{\"font-family\":\"monospace\",\"width\":\"80%\"}},\"nodeType\":\"DOM\",\"type\":\"node\",\"instanceArgs\":{\"namespace\":\"html\",\"tag\":\"div\"},\"children\":[{\"props\":{\"className\":\"interact-flex-row-left\"},\"nodeType\":\"DOM\",\"type\":\"node\",\"instanceArgs\":{\"namespace\":\"html\",\"tag\":\"div\"},\"children\":[{\"props\":{\"className\":\"interact \",\"style\":{\"padding\":\"5px 10px 0px 10px\",\"white-space\":\"nowrap\",\"color\":\"royalblue\"}},\"nodeType\":\"DOM\",\"type\":\"node\",\"instanceArgs\":{\"namespace\":\"html\",\"tag\":\"label\"},\"children\":[\"W0\"]}]},{\"props\":{\"className\":\"interact-flex-row-center\"},\"nodeType\":\"DOM\",\"type\":\"node\",\"instanceArgs\":{\"namespace\":\"html\",\"tag\":\"div\"},\"children\":[{\"props\":{\"max\":101,\"min\":1,\"attributes\":{\"type\":\"range\",\"data-bind\":\"numericValue: index, valueUpdate: 'input', event: {change: function (){this.changes(this.changes()+1)}}\",\"orient\":\"horizontal\"},\"step\":1,\"className\":\"slider slider is-fullwidth\",\"style\":{}},\"nodeType\":\"DOM\",\"type\":\"node\",\"instanceArgs\":{\"namespace\":\"html\",\"tag\":\"input\"},\"children\":[]}]},{\"props\":{\"className\":\"interact-flex-row-right\"},\"nodeType\":\"DOM\",\"type\":\"node\",\"instanceArgs\":{\"namespace\":\"html\",\"tag\":\"div\"},\"children\":[{\"props\":{\"attributes\":{\"data-bind\":\"text: formatted_val\"}},\"nodeType\":\"DOM\",\"type\":\"node\",\"instanceArgs\":{\"namespace\":\"html\",\"tag\":\"p\"},\"children\":[]}]}]}]}]},{\"props\":{},\"nodeType\":\"Scope\",\"type\":\"node\",\"instanceArgs\":{\"imports\":{\"data\":[],\"type\":\"async_block\"},\"id\":\"16937678907838968697\",\"handlers\":{\"obs-output\":[\"function (value, scope) {\\n    scope.setInnerHTML(value);\\n}\\n\"]},\"systemjs_options\":null,\"mount_callbacks\":[],\"observables\":{\"obs-output\":{\"sync\":false,\"id\":\"12639319739460818861\",\"value\":\"<?xml version=\\\"1.0\\\" encoding=\\\"UTF-8\\\"?>\\n<svg xmlns=\\\"http:\\/\\/www.w3.org\\/2000\\/svg\\\"\\n     xmlns:xlink=\\\"http:\\/\\/www.w3.org\\/1999\\/xlink\\\"\\n     xmlns:gadfly=\\\"http:\\/\\/www.gadflyjl.org\\/ns\\\"\\n     version=\\\"1.2\\\"\\n     width=\\\"141.42mm\\\" height=\\\"100mm\\\" viewBox=\\\"0 0 141.42 100\\\"\\n     stroke=\\\"none\\\"\\n     fill=\\\"#000000\\\"\\n     stroke-width=\\\"0.3\\\"\\n     font-size=\\\"3.88\\\"\\n>\\n<defs>\\n  <marker id=\\\"arrow\\\" markerWidth=\\\"15\\\" markerHeight=\\\"7\\\" refX=\\\"5\\\" refY=\\\"3.5\\\" orient=\\\"auto\\\" markerUnits=\\\"strokeWidth\\\">\\n    <path d=\\\"M0,0 L15,3.5 L0,7 z\\\" stroke=\\\"context-stroke\\\" fill=\\\"context-stroke\\\"\\/>\\n  <\\/marker>\\n<\\/defs>\\n<g stroke=\\\"#000000\\\" stroke-opacity=\\\"0.000\\\" fill=\\\"#FFFFFF\\\" id=\\\"img-578c102b-1\\\">\\n  <g transform=\\\"translate(70.71,50)\\\">\\n    <path d=\\\"M-70.71,-50 L70.71,-50 70.71,50 -70.71,50  z\\\" class=\\\"primitive\\\"\\/>\\n  <\\/g>\\n<\\/g>\\n<g class=\\\"plotroot xscalable yscalable\\\" id=\\\"img-578c102b-2\\\">\\n  <g font-size=\\\"3.53\\\" font-family=\\\"'PT Sans','Helvetica Neue','Helvetica',sans-serif\\\" fill=\\\"#564A55\\\" stroke=\\\"#000000\\\" stroke-opacity=\\\"0.000\\\" id=\\\"img-578c102b-3\\\">\\n    <g transform=\\\"translate(77.68,93.72)\\\">\\n      <g class=\\\"primitive\\\">\\n        <text text-anchor=\\\"middle\\\" dy=\\\"0.6em\\\">t<\\/text>\\n      <\\/g>\\n    <\\/g>\\n  <\\/g>\\n  <g class=\\\"guide xlabels\\\" font-size=\\\"2.82\\\" font-family=\\\"'PT Sans Caption','Helvetica Neue','Helvetica',sans-serif\\\" fill=\\\"#6C606B\\\" id=\\\"img-578c102b-4\\\">\\n    <g transform=\\\"translate(20.94,87.04)\\\">\\n      <g class=\\\"primitive\\\">\\n        <text text-anchor=\\\"middle\\\" dy=\\\"0.6em\\\">0<\\/text>\\n      <\\/g>\\n    <\\/g>\\n    <g transform=\\\"translate(77.68,87.04)\\\">\\n      <g class=\\\"primitive\\\">\\n        <text text-anchor=\\\"middle\\\" dy=\\\"0.6em\\\">50<\\/text>\\n      <\\/g>\\n    <\\/g>\\n    <g transform=\\\"translate(134.42,87.04)\\\">\\n      <g class=\\\"primitive\\\">\\n        <text text-anchor=\\\"middle\\\" dy=\\\"0.6em\\\">100<\\/text>\\n      <\\/g>\\n    <\\/g>\\n  <\\/g>\\n  <g clip-path=\\\"url(#img-578c102b-5)\\\">\\n    <g id=\\\"img-578c102b-6\\\">\\n      <g pointer-events=\\\"visible\\\" stroke-width=\\\"0.3\\\" fill=\\\"#000000\\\" fill-opacity=\\\"0.000\\\" stroke=\\\"#000000\\\" stroke-opacity=\\\"0.000\\\" class=\\\"guide background\\\" id=\\\"img-578c102b-7\\\">\\n        <g transform=\\\"translate(77.68,45.52)\\\" id=\\\"img-578c102b-8\\\">\\n          <path d=\\\"M-58.74,-40.52 L58.74,-40.52 58.74,40.52 -58.74,40.52  z\\\" class=\\\"primitive\\\"\\/>\\n        <\\/g>\\n      <\\/g>\\n      <g class=\\\"guide ygridlines xfixed\\\" stroke-dasharray=\\\"0.5,0.5\\\" stroke-width=\\\"0.2\\\" stroke=\\\"#D0D0E0\\\" id=\\\"img-578c102b-9\\\">\\n        <g transform=\\\"translate(77.68,84.04)\\\" id=\\\"img-578c102b-10\\\">\\n          <path fill=\\\"none\\\" d=\\\"M-58.74,0 L58.74,0 \\\" class=\\\"primitive\\\"\\/>\\n        <\\/g>\\n        <g transform=\\\"translate(77.68,45.52)\\\" id=\\\"img-578c102b-11\\\">\\n          <path fill=\\\"none\\\" d=\\\"M-58.74,0 L58.74,0 \\\" class=\\\"primitive\\\"\\/>\\n        <\\/g>\\n        <g transform=\\\"translate(77.68,7)\\\" id=\\\"img-578c102b-12\\\">\\n          <path fill=\\\"none\\\" d=\\\"M-58.74,0 L58.74,0 \\\" class=\\\"primitive\\\"\\/>\\n        <\\/g>\\n      <\\/g>\\n      <g class=\\\"guide xgridlines yfixed\\\" stroke-dasharray=\\\"0.5,0.5\\\" stroke-width=\\\"0.2\\\" stroke=\\\"#D0D0E0\\\" id=\\\"img-578c102b-13\\\">\\n        <g transform=\\\"translate(20.94,45.52)\\\" id=\\\"img-578c102b-14\\\">\\n          <path fill=\\\"none\\\" d=\\\"M0,-40.52 L0,40.52 \\\" class=\\\"primitive\\\"\\/>\\n        <\\/g>\\n        <g transform=\\\"translate(77.68,45.52)\\\" id=\\\"img-578c102b-15\\\">\\n          <path fill=\\\"none\\\" d=\\\"M0,-40.52 L0,40.52 \\\" class=\\\"primitive\\\"\\/>\\n        <\\/g>\\n        <g transform=\\\"translate(134.42,45.52)\\\" id=\\\"img-578c102b-16\\\">\\n          <path fill=\\\"none\\\" d=\\\"M0,-40.52 L0,40.52 \\\" class=\\\"primitive\\\"\\/>\\n        <\\/g>\\n      <\\/g>\\n      <g class=\\\"plotpanel\\\" id=\\\"img-578c102b-17\\\">\\n        <metadata>\\n          <boundingbox value=\\\"18.936666666666667mm 5.0mm 117.48468957064284mm 81.04333333333334mm\\\"\\/>\\n          <unitbox value=\\\"-1.762352267576169 102.59594167784364 103.52470453515235 -105.19188335568728\\\"\\/>\\n        <\\/metadata>\\n        <g stroke-width=\\\"0.3\\\" fill=\\\"#000000\\\" fill-opacity=\\\"0.000\\\" class=\\\"geometry\\\" id=\\\"img-578c102b-18\\\">\\n          <g class=\\\"color_LCHab{Float32}(70.0f0,60.0f0,240.0f0)\\\" stroke-dasharray=\\\"none\\\" stroke-opacity=\\\"1\\\" stroke=\\\"#00BFFF\\\" id=\\\"img-578c102b-19\\\">\\n            <g transform=\\\"translate(77.68,-20.52)\\\" id=\\\"img-578c102b-20\\\">\\n              <path fill=\\\"none\\\" d=\\\"M-56.74,100.71 L-55.61,100.52 -54.47,100.32 -53.34,100.1 -52.2,99.88 -51.07,99.65 -49.93,99.4 -48.8,99.14 -47.66,98.87 -46.53,98.59 -45.39,98.29 -44.26,97.97 -43.12,97.64 -41.99,97.3 -40.85,96.94 -39.72,96.55 -38.58,96.15 -37.45,95.73 -36.32,95.29 -35.18,94.83 -34.05,94.34 -32.91,93.83 -31.78,93.29 -30.64,92.73 -29.51,92.14 -28.37,91.52 -27.24,90.87 -26.1,90.18 -24.97,89.46 -23.83,88.71 -22.7,87.91 -21.56,87.08 -20.43,86.21 -19.29,85.29 -18.16,84.33 -17.02,83.31 -15.89,82.25 -14.75,81.14 -13.62,79.96 -12.48,78.73 -11.35,77.44 -10.21,76.09 -9.08,74.66 -7.94,73.17 -6.81,71.6 -5.67,69.95 -4.54,68.22 -3.4,66.4 -2.27,64.5 -1.13,62.49 0,60.39 1.13,58.18 2.27,55.86 3.4,53.43 4.54,50.87 5.67,48.18 6.81,45.36 7.94,42.4 9.08,39.3 10.21,36.03 11.35,32.61 12.48,29.01 13.62,25.23 14.75,21.27 15.89,17.1 17.02,12.73 18.16,8.14 19.29,3.31 20.43,-1.75 21.56,-7.06 22.7,-12.65 23.83,-18.51 24.97,-24.66 26.1,-31.12 27.24,-37.9 28.37,-45.03 29.51,-52.51 30.64,-60.36 31.78,-68.61 32.91,-77.27 34.05,-86.36 35.18,-95.9 36.32,-105.93 37.45,-116.45 38.58,-127.5 39.72,-139.1 40.85,-151.29 41.99,-164.08 43.12,-177.51 44.26,-191.62 45.39,-206.42 46.53,-221.97 47.66,-238.3 48.8,-255.44 49.93,-273.44 51.07,-292.34 52.2,-312.19 53.34,-333.03 54.47,-354.91 55.61,-377.88 56.74,-402 \\\" class=\\\"primitive\\\"\\/>\\n            <\\/g>\\n          <\\/g>\\n        <\\/g>\\n      <\\/g>\\n    <\\/g>\\n  <\\/g>\\n  <g class=\\\"guide ylabels\\\" font-size=\\\"2.82\\\" font-family=\\\"'PT Sans Caption','Helvetica Neue','Helvetica',sans-serif\\\" fill=\\\"#6C606B\\\" id=\\\"img-578c102b-21\\\">\\n    <g transform=\\\"translate(17.94,84.04)\\\" id=\\\"img-578c102b-22\\\">\\n      <g class=\\\"primitive\\\">\\n        <text text-anchor=\\\"end\\\" dy=\\\"0.35em\\\">0<\\/text>\\n      <\\/g>\\n    <\\/g>\\n    <g transform=\\\"translate(17.94,45.52)\\\" id=\\\"img-578c102b-23\\\">\\n      <g class=\\\"primitive\\\">\\n        <text text-anchor=\\\"end\\\" dy=\\\"0.35em\\\">50<\\/text>\\n      <\\/g>\\n    <\\/g>\\n    <g transform=\\\"translate(17.94,7)\\\" id=\\\"img-578c102b-24\\\">\\n      <g class=\\\"primitive\\\">\\n        <text text-anchor=\\\"end\\\" dy=\\\"0.35em\\\">100<\\/text>\\n      <\\/g>\\n    <\\/g>\\n  <\\/g>\\n  <g font-size=\\\"3.53\\\" font-family=\\\"'PT Sans','Helvetica Neue','Helvetica',sans-serif\\\" fill=\\\"#564A55\\\" stroke=\\\"#000000\\\" stroke-opacity=\\\"0.000\\\" id=\\\"img-578c102b-25\\\">\\n    <g transform=\\\"translate(9.92,45.52)\\\" id=\\\"img-578c102b-26\\\">\\n      <g class=\\\"primitive\\\">\\n        <text text-anchor=\\\"end\\\" dy=\\\"0.35em\\\">W<\\/text>\\n      <\\/g>\\n    <\\/g>\\n  <\\/g>\\n<\\/g>\\n<defs>\\n  <clipPath id=\\\"img-578c102b-5\\\">\\n    <path d=\\\"M18.94,5 L136.42,5 136.42,86.04 18.94,86.04 \\\" \\/>\\n  <\\/clipPath>\\n<\\/defs>\\n<\\/svg>\\n\"}}},\"children\":[{\"props\":{\"className\":\"webio-observable\",\"setInnerHtml\":\"<?xml version=\\\"1.0\\\" encoding=\\\"UTF-8\\\"?>\\n<svg xmlns=\\\"http:\\/\\/www.w3.org\\/2000\\/svg\\\"\\n     xmlns:xlink=\\\"http:\\/\\/www.w3.org\\/1999\\/xlink\\\"\\n     xmlns:gadfly=\\\"http:\\/\\/www.gadflyjl.org\\/ns\\\"\\n     version=\\\"1.2\\\"\\n     width=\\\"141.42mm\\\" height=\\\"100mm\\\" viewBox=\\\"0 0 141.42 100\\\"\\n     stroke=\\\"none\\\"\\n     fill=\\\"#000000\\\"\\n     stroke-width=\\\"0.3\\\"\\n     font-size=\\\"3.88\\\"\\n>\\n<defs>\\n  <marker id=\\\"arrow\\\" markerWidth=\\\"15\\\" markerHeight=\\\"7\\\" refX=\\\"5\\\" refY=\\\"3.5\\\" orient=\\\"auto\\\" markerUnits=\\\"strokeWidth\\\">\\n    <path d=\\\"M0,0 L15,3.5 L0,7 z\\\" stroke=\\\"context-stroke\\\" fill=\\\"context-stroke\\\"\\/>\\n  <\\/marker>\\n<\\/defs>\\n<g stroke=\\\"#000000\\\" stroke-opacity=\\\"0.000\\\" fill=\\\"#FFFFFF\\\" id=\\\"img-578c102b-1\\\">\\n  <g transform=\\\"translate(70.71,50)\\\">\\n    <path d=\\\"M-70.71,-50 L70.71,-50 70.71,50 -70.71,50  z\\\" class=\\\"primitive\\\"\\/>\\n  <\\/g>\\n<\\/g>\\n<g class=\\\"plotroot xscalable yscalable\\\" id=\\\"img-578c102b-2\\\">\\n  <g font-size=\\\"3.53\\\" font-family=\\\"'PT Sans','Helvetica Neue','Helvetica',sans-serif\\\" fill=\\\"#564A55\\\" stroke=\\\"#000000\\\" stroke-opacity=\\\"0.000\\\" id=\\\"img-578c102b-3\\\">\\n    <g transform=\\\"translate(77.68,93.72)\\\">\\n      <g class=\\\"primitive\\\">\\n        <text text-anchor=\\\"middle\\\" dy=\\\"0.6em\\\">t<\\/text>\\n      <\\/g>\\n    <\\/g>\\n  <\\/g>\\n  <g class=\\\"guide xlabels\\\" font-size=\\\"2.82\\\" font-family=\\\"'PT Sans Caption','Helvetica Neue','Helvetica',sans-serif\\\" fill=\\\"#6C606B\\\" id=\\\"img-578c102b-4\\\">\\n    <g transform=\\\"translate(20.94,87.04)\\\">\\n      <g class=\\\"primitive\\\">\\n        <text text-anchor=\\\"middle\\\" dy=\\\"0.6em\\\">0<\\/text>\\n      <\\/g>\\n    <\\/g>\\n    <g transform=\\\"translate(77.68,87.04)\\\">\\n      <g class=\\\"primitive\\\">\\n        <text text-anchor=\\\"middle\\\" dy=\\\"0.6em\\\">50<\\/text>\\n      <\\/g>\\n    <\\/g>\\n    <g transform=\\\"translate(134.42,87.04)\\\">\\n      <g class=\\\"primitive\\\">\\n        <text text-anchor=\\\"middle\\\" dy=\\\"0.6em\\\">100<\\/text>\\n      <\\/g>\\n    <\\/g>\\n  <\\/g>\\n  <g clip-path=\\\"url(#img-578c102b-5)\\\">\\n    <g id=\\\"img-578c102b-6\\\">\\n      <g pointer-events=\\\"visible\\\" stroke-width=\\\"0.3\\\" fill=\\\"#000000\\\" fill-opacity=\\\"0.000\\\" stroke=\\\"#000000\\\" stroke-opacity=\\\"0.000\\\" class=\\\"guide background\\\" id=\\\"img-578c102b-7\\\">\\n        <g transform=\\\"translate(77.68,45.52)\\\" id=\\\"img-578c102b-8\\\">\\n          <path d=\\\"M-58.74,-40.52 L58.74,-40.52 58.74,40.52 -58.74,40.52  z\\\" class=\\\"primitive\\\"\\/>\\n        <\\/g>\\n      <\\/g>\\n      <g class=\\\"guide ygridlines xfixed\\\" stroke-dasharray=\\\"0.5,0.5\\\" stroke-width=\\\"0.2\\\" stroke=\\\"#D0D0E0\\\" id=\\\"img-578c102b-9\\\">\\n        <g transform=\\\"translate(77.68,84.04)\\\" id=\\\"img-578c102b-10\\\">\\n          <path fill=\\\"none\\\" d=\\\"M-58.74,0 L58.74,0 \\\" class=\\\"primitive\\\"\\/>\\n        <\\/g>\\n        <g transform=\\\"translate(77.68,45.52)\\\" id=\\\"img-578c102b-11\\\">\\n          <path fill=\\\"none\\\" d=\\\"M-58.74,0 L58.74,0 \\\" class=\\\"primitive\\\"\\/>\\n        <\\/g>\\n        <g transform=\\\"translate(77.68,7)\\\" id=\\\"img-578c102b-12\\\">\\n          <path fill=\\\"none\\\" d=\\\"M-58.74,0 L58.74,0 \\\" class=\\\"primitive\\\"\\/>\\n        <\\/g>\\n      <\\/g>\\n      <g class=\\\"guide xgridlines yfixed\\\" stroke-dasharray=\\\"0.5,0.5\\\" stroke-width=\\\"0.2\\\" stroke=\\\"#D0D0E0\\\" id=\\\"img-578c102b-13\\\">\\n        <g transform=\\\"translate(20.94,45.52)\\\" id=\\\"img-578c102b-14\\\">\\n          <path fill=\\\"none\\\" d=\\\"M0,-40.52 L0,40.52 \\\" class=\\\"primitive\\\"\\/>\\n        <\\/g>\\n        <g transform=\\\"translate(77.68,45.52)\\\" id=\\\"img-578c102b-15\\\">\\n          <path fill=\\\"none\\\" d=\\\"M0,-40.52 L0,40.52 \\\" class=\\\"primitive\\\"\\/>\\n        <\\/g>\\n        <g transform=\\\"translate(134.42,45.52)\\\" id=\\\"img-578c102b-16\\\">\\n          <path fill=\\\"none\\\" d=\\\"M0,-40.52 L0,40.52 \\\" class=\\\"primitive\\\"\\/>\\n        <\\/g>\\n      <\\/g>\\n      <g class=\\\"plotpanel\\\" id=\\\"img-578c102b-17\\\">\\n        <metadata>\\n          <boundingbox value=\\\"18.936666666666667mm 5.0mm 117.48468957064284mm 81.04333333333334mm\\\"\\/>\\n          <unitbox value=\\\"-1.762352267576169 102.59594167784364 103.52470453515235 -105.19188335568728\\\"\\/>\\n        <\\/metadata>\\n        <g stroke-width=\\\"0.3\\\" fill=\\\"#000000\\\" fill-opacity=\\\"0.000\\\" class=\\\"geometry\\\" id=\\\"img-578c102b-18\\\">\\n          <g class=\\\"color_LCHab{Float32}(70.0f0,60.0f0,240.0f0)\\\" stroke-dasharray=\\\"none\\\" stroke-opacity=\\\"1\\\" stroke=\\\"#00BFFF\\\" id=\\\"img-578c102b-19\\\">\\n            <g transform=\\\"translate(77.68,-20.52)\\\" id=\\\"img-578c102b-20\\\">\\n              <path fill=\\\"none\\\" d=\\\"M-56.74,100.71 L-55.61,100.52 -54.47,100.32 -53.34,100.1 -52.2,99.88 -51.07,99.65 -49.93,99.4 -48.8,99.14 -47.66,98.87 -46.53,98.59 -45.39,98.29 -44.26,97.97 -43.12,97.64 -41.99,97.3 -40.85,96.94 -39.72,96.55 -38.58,96.15 -37.45,95.73 -36.32,95.29 -35.18,94.83 -34.05,94.34 -32.91,93.83 -31.78,93.29 -30.64,92.73 -29.51,92.14 -28.37,91.52 -27.24,90.87 -26.1,90.18 -24.97,89.46 -23.83,88.71 -22.7,87.91 -21.56,87.08 -20.43,86.21 -19.29,85.29 -18.16,84.33 -17.02,83.31 -15.89,82.25 -14.75,81.14 -13.62,79.96 -12.48,78.73 -11.35,77.44 -10.21,76.09 -9.08,74.66 -7.94,73.17 -6.81,71.6 -5.67,69.95 -4.54,68.22 -3.4,66.4 -2.27,64.5 -1.13,62.49 0,60.39 1.13,58.18 2.27,55.86 3.4,53.43 4.54,50.87 5.67,48.18 6.81,45.36 7.94,42.4 9.08,39.3 10.21,36.03 11.35,32.61 12.48,29.01 13.62,25.23 14.75,21.27 15.89,17.1 17.02,12.73 18.16,8.14 19.29,3.31 20.43,-1.75 21.56,-7.06 22.7,-12.65 23.83,-18.51 24.97,-24.66 26.1,-31.12 27.24,-37.9 28.37,-45.03 29.51,-52.51 30.64,-60.36 31.78,-68.61 32.91,-77.27 34.05,-86.36 35.18,-95.9 36.32,-105.93 37.45,-116.45 38.58,-127.5 39.72,-139.1 40.85,-151.29 41.99,-164.08 43.12,-177.51 44.26,-191.62 45.39,-206.42 46.53,-221.97 47.66,-238.3 48.8,-255.44 49.93,-273.44 51.07,-292.34 52.2,-312.19 53.34,-333.03 54.47,-354.91 55.61,-377.88 56.74,-402 \\\" class=\\\"primitive\\\"\\/>\\n            <\\/g>\\n          <\\/g>\\n        <\\/g>\\n      <\\/g>\\n    <\\/g>\\n  <\\/g>\\n  <g class=\\\"guide ylabels\\\" font-size=\\\"2.82\\\" font-family=\\\"'PT Sans Caption','Helvetica Neue','Helvetica',sans-serif\\\" fill=\\\"#6C606B\\\" id=\\\"img-578c102b-21\\\">\\n    <g transform=\\\"translate(17.94,84.04)\\\" id=\\\"img-578c102b-22\\\">\\n      <g class=\\\"primitive\\\">\\n        <text text-anchor=\\\"end\\\" dy=\\\"0.35em\\\">0<\\/text>\\n      <\\/g>\\n    <\\/g>\\n    <g transform=\\\"translate(17.94,45.52)\\\" id=\\\"img-578c102b-23\\\">\\n      <g class=\\\"primitive\\\">\\n        <text text-anchor=\\\"end\\\" dy=\\\"0.35em\\\">50<\\/text>\\n      <\\/g>\\n    <\\/g>\\n    <g transform=\\\"translate(17.94,7)\\\" id=\\\"img-578c102b-24\\\">\\n      <g class=\\\"primitive\\\">\\n        <text text-anchor=\\\"end\\\" dy=\\\"0.35em\\\">100<\\/text>\\n      <\\/g>\\n    <\\/g>\\n  <\\/g>\\n  <g font-size=\\\"3.53\\\" font-family=\\\"'PT Sans','Helvetica Neue','Helvetica',sans-serif\\\" fill=\\\"#564A55\\\" stroke=\\\"#000000\\\" stroke-opacity=\\\"0.000\\\" id=\\\"img-578c102b-25\\\">\\n    <g transform=\\\"translate(9.92,45.52)\\\" id=\\\"img-578c102b-26\\\">\\n      <g class=\\\"primitive\\\">\\n        <text text-anchor=\\\"end\\\" dy=\\\"0.35em\\\">W<\\/text>\\n      <\\/g>\\n    <\\/g>\\n  <\\/g>\\n<\\/g>\\n<defs>\\n  <clipPath id=\\\"img-578c102b-5\\\">\\n    <path d=\\\"M18.94,5 L136.42,5 136.42,86.04 18.94,86.04 \\\" \\/>\\n  <\\/clipPath>\\n<\\/defs>\\n<\\/svg>\\n\"},\"nodeType\":\"DOM\",\"type\":\"node\",\"instanceArgs\":{\"namespace\":\"html\",\"tag\":\"div\"},\"children\":[]}]}]},\n",
       "        window,\n",
       "    );\n",
       "    })()\n",
       "    </script>\n",
       "</div>\n"
      ],
      "text/plain": [
       "WebIO.Node{WebIO.DOM}(WebIO.DOM(:html, :div), Any[WebIO.Node{WebIO.DOM}(WebIO.DOM(:html, :div), Any[\"Expo\"], Dict{Symbol, Any}(:style => Dict{String, Any}(\"color\" => :rebeccapurple, \"font-family\" => \"monospace\"))), WebIO.Node{WebIO.DOM}(WebIO.DOM(:html, :div), Any[WebIO.Scope(WebIO.Node{WebIO.DOM}(WebIO.DOM(:html, :div), Any[WebIO.Node{WebIO.DOM}(WebIO.DOM(:html, :div), Any[WebIO.Node{WebIO.DOM}(WebIO.DOM(:html, :label), Any[\"μ\"], Dict{Symbol, Any}(:className => \"interact \", :style => Dict{Any, Any}(:padding => \"5px 10px 0px 10px\", \"white-space\" => :nowrap, \"color\" => :royalblue)))], Dict{Symbol, Any}(:className => \"interact-flex-row-left\")), WebIO.Node{WebIO.DOM}(WebIO.DOM(:html, :div), Any[WebIO.Node{WebIO.DOM}(WebIO.DOM(:html, :input), Any[], Dict{Symbol, Any}(:max => 11, :min => 1, :attributes => Dict{Any, Any}(:type => \"range\", Symbol(\"data-bind\") => \"numericValue: index, valueUpdate: 'input', event: {change: function (){this.changes(this.changes()+1)}}\", \"orient\" => \"horizontal\"), :step => 1, :className => \"slider slider is-fullwidth\", :style => Dict{Any, Any}()))], Dict{Symbol, Any}(:className => \"interact-flex-row-center\")), WebIO.Node{WebIO.DOM}(WebIO.DOM(:html, :div), Any[WebIO.Node{WebIO.DOM}(WebIO.DOM(:html, :p), Any[], Dict{Symbol, Any}(:attributes => Dict(\"data-bind\" => \"text: formatted_val\")))], Dict{Symbol, Any}(:className => \"interact-flex-row-right\"))], Dict{Symbol, Any}(:className => \"interact-flex-row interact-widget\", :style => Dict(\"font-family\" => \"monospace\", \"width\" => \"80%\"))), Dict{String, Tuple{Observables.AbstractObservable, Union{Nothing, Bool}}}(\"changes\" => (Observable(0), nothing), \"index\" => (Observable{Any}(6), nothing)), Set{String}(), nothing, WebIO.Asset[WebIO.Asset(\"js\", \"knockout\", \"/opt/julia/packages/Knockout/HReiN/src/../assets/knockout.js\"), WebIO.Asset(\"js\", \"knockout_punches\", \"/opt/julia/packages/Knockout/HReiN/src/../assets/knockout_punches.js\"), WebIO.Asset(\"js\", nothing, \"/opt/julia/packages/InteractBase/LJXv3/src/../assets/all.js\"), WebIO.Asset(\"css\", nothing, \"/opt/julia/packages/InteractBase/LJXv3/src/../assets/style.css\"), WebIO.Asset(\"css\", nothing, \"/opt/julia/packages/Interact/PENUy/src/../assets/bulma_confined.min.css\")], Dict{Any, Any}(\"changes\" => Any[WebIO.JSString(\"(function (val){return (val!=this.model[\\\"changes\\\"]()) ? (this.valueFromJulia[\\\"changes\\\"]=true, this.model[\\\"changes\\\"](val)) : undefined})\")], \"index\" => Any[WebIO.JSString(\"(function (val){return (val!=this.model[\\\"index\\\"]()) ? (this.valueFromJulia[\\\"index\\\"]=true, this.model[\\\"index\\\"](val)) : undefined})\")]), WebIO.ConnectionPool(Channel{Any}(32), Set{WebIO.AbstractConnection}(), Base.GenericCondition{ReentrantLock}(Base.IntrusiveLinkedList{Task}(Task (runnable) @0x00007f0de84b8010, Task (runnable) @0x00007f0de84b8010), ReentrantLock(nothing, 0x00000000, 0x00, Base.GenericCondition{Base.Threads.SpinLock}(Base.IntrusiveLinkedList{Task}(nothing, nothing), Base.Threads.SpinLock(0)), (8, 139697186184192, 141733920768)))), WebIO.JSString[WebIO.JSString(\"function () {\\n    var handler = (function (ko, koPunches) {\\n    ko.punches.enableAll();\\n    ko.bindingHandlers.numericValue = {\\n        init: function(element, valueAccessor, allBindings, data, context) {\\n            var stringified = ko.observable(ko.unwrap(valueAccessor()));\\n            stringified.subscribe(function(value) {\\n                var val = parseFloat(value);\\n                if (!isNaN(val)) {\\n                    valueAccessor()(val);\\n                }\\n            });\\n            valueAccessor().subscribe(function(value) {\\n                var str = JSON.stringify(value);\\n                if ((str == \\\"0\\\") && ([\\\"-0\\\", \\\"-0.\\\"].indexOf(stringified()) >= 0))\\n                     return;\\n                 if ([\\\"null\\\", \\\"\\\"].indexOf(str) >= 0)\\n                     return;\\n                stringified(str);\\n            });\\n            ko.applyBindingsToNode(\\n                element,\\n                {\\n                    value: stringified,\\n                    valueUpdate: allBindings.get('valueUpdate'),\\n                },\\n                context,\\n            );\\n        }\\n    };\\n    var json_data = {\\\"formatted_vals\\\":[\\\"0.0\\\",\\\"0.01\\\",\\\"0.02\\\",\\\"0.03\\\",\\\"0.04\\\",\\\"0.05\\\",\\\"0.06\\\",\\\"0.07\\\",\\\"0.08\\\",\\\"0.09\\\",\\\"0.1\\\"],\\\"changes\\\":WebIO.getval({\\\"name\\\":\\\"changes\\\",\\\"scope\\\":\\\"3244204851106168735\\\",\\\"id\\\":\\\"11586498204595637074\\\",\\\"type\\\":\\\"observable\\\"}),\\\"index\\\":WebIO.getval({\\\"name\\\":\\\"index\\\",\\\"scope\\\":\\\"3244204851106168735\\\",\\\"id\\\":\\\"14767140560014126383\\\",\\\"type\\\":\\\"observable\\\"})};\\n    var self = this;\\n    function AppViewModel() {\\n        for (var key in json_data) {\\n            var el = json_data[key];\\n            this[key] = Array.isArray(el) ? ko.observableArray(el) : ko.observable(el);\\n        }\\n        \\n        [this[\\\"formatted_val\\\"]=ko.computed(    function(){\\n        return this.formatted_vals()[parseInt(this.index())-(1)];\\n    }\\n,this)]\\n        [this[\\\"changes\\\"].subscribe((function (val){!(this.valueFromJulia[\\\"changes\\\"]) ? (WebIO.setval({\\\"name\\\":\\\"changes\\\",\\\"scope\\\":\\\"3244204851106168735\\\",\\\"id\\\":\\\"11586498204595637074\\\",\\\"type\\\":\\\"observable\\\"},val)) : undefined; return this.valueFromJulia[\\\"changes\\\"]=false}),self),this[\\\"index\\\"].subscribe((function (val){!(this.valueFromJulia[\\\"index\\\"]) ? (WebIO.setval({\\\"name\\\":\\\"index\\\",\\\"scope\\\":\\\"3244204851106168735\\\",\\\"id\\\":\\\"14767140560014126383\\\",\\\"type\\\":\\\"observable\\\"},val)) : undefined; return this.valueFromJulia[\\\"index\\\"]=false}),self)]\\n        \\n    }\\n    self.model = new AppViewModel();\\n    self.valueFromJulia = {};\\n    for (var key in json_data) {\\n        self.valueFromJulia[key] = false;\\n    }\\n    ko.applyBindings(self.model, self.dom);\\n}\\n);\\n    (WebIO.importBlock({\\\"data\\\":[{\\\"name\\\":\\\"knockout\\\",\\\"type\\\":\\\"js\\\",\\\"url\\\":\\\"/assetserver/d749de49a15576291e39755d819be2408bf7f995-knockout.js\\\"},{\\\"name\\\":\\\"knockout_punches\\\",\\\"type\\\":\\\"js\\\",\\\"url\\\":\\\"/assetserver/9f5c86158cf79faf331cfb32636cb08a9b1f0dc2-knockout_punches.js\\\"}],\\\"type\\\":\\\"async_block\\\"})).then((imports) => handler.apply(this, imports));\\n}\\n\")])], Dict{Symbol, Any}(:className => \"field interact-widget\")), WebIO.Node{WebIO.DOM}(WebIO.DOM(:html, :div), Any[WebIO.Scope(WebIO.Node{WebIO.DOM}(WebIO.DOM(:html, :div), Any[WebIO.Node{WebIO.DOM}(WebIO.DOM(:html, :div), Any[WebIO.Node{WebIO.DOM}(WebIO.DOM(:html, :label), Any[\"W0\"], Dict{Symbol, Any}(:className => \"interact \", :style => Dict{Any, Any}(:padding => \"5px 10px 0px 10px\", \"white-space\" => :nowrap, \"color\" => :royalblue)))], Dict{Symbol, Any}(:className => \"interact-flex-row-left\")), WebIO.Node{WebIO.DOM}(WebIO.DOM(:html, :div), Any[WebIO.Node{WebIO.DOM}(WebIO.DOM(:html, :input), Any[], Dict{Symbol, Any}(:max => 101, :min => 1, :attributes => Dict{Any, Any}(:type => \"range\", Symbol(\"data-bind\") => \"numericValue: index, valueUpdate: 'input', event: {change: function (){this.changes(this.changes()+1)}}\", \"orient\" => \"horizontal\"), :step => 1, :className => \"slider slider is-fullwidth\", :style => Dict{Any, Any}()))], Dict{Symbol, Any}(:className => \"interact-flex-row-center\")), WebIO.Node{WebIO.DOM}(WebIO.DOM(:html, :div), Any[WebIO.Node{WebIO.DOM}(WebIO.DOM(:html, :p), Any[], Dict{Symbol, Any}(:attributes => Dict(\"data-bind\" => \"text: formatted_val\")))], Dict{Symbol, Any}(:className => \"interact-flex-row-right\"))], Dict{Symbol, Any}(:className => \"interact-flex-row interact-widget\", :style => Dict(\"font-family\" => \"monospace\", \"width\" => \"80%\"))), Dict{String, Tuple{Observables.AbstractObservable, Union{Nothing, Bool}}}(\"changes\" => (Observable(0), nothing), \"index\" => (Observable{Any}(51), nothing)), Set{String}(), nothing, WebIO.Asset[WebIO.Asset(\"js\", \"knockout\", \"/opt/julia/packages/Knockout/HReiN/src/../assets/knockout.js\"), WebIO.Asset(\"js\", \"knockout_punches\", \"/opt/julia/packages/Knockout/HReiN/src/../assets/knockout_punches.js\"), WebIO.Asset(\"js\", nothing, \"/opt/julia/packages/InteractBase/LJXv3/src/../assets/all.js\"), WebIO.Asset(\"css\", nothing, \"/opt/julia/packages/InteractBase/LJXv3/src/../assets/style.css\"), WebIO.Asset(\"css\", nothing, \"/opt/julia/packages/Interact/PENUy/src/../assets/bulma_confined.min.css\")], Dict{Any, Any}(\"changes\" => Any[WebIO.JSString(\"(function (val){return (val!=this.model[\\\"changes\\\"]()) ? (this.valueFromJulia[\\\"changes\\\"]=true, this.model[\\\"changes\\\"](val)) : undefined})\")], \"index\" => Any[WebIO.JSString(\"(function (val){return (val!=this.model[\\\"index\\\"]()) ? (this.valueFromJulia[\\\"index\\\"]=true, this.model[\\\"index\\\"](val)) : undefined})\")]), WebIO.ConnectionPool(Channel{Any}(32), Set{WebIO.AbstractConnection}(), Base.GenericCondition{ReentrantLock}(Base.IntrusiveLinkedList{Task}(Task (runnable) @0x00007f0de84ba8b0, Task (runnable) @0x00007f0de84ba8b0), ReentrantLock(nothing, 0x00000000, 0x00, Base.GenericCondition{Base.Threads.SpinLock}(Base.IntrusiveLinkedList{Task}(nothing, nothing), Base.Threads.SpinLock(0)), (0, 139697704372768, 3)))), WebIO.JSString[WebIO.JSString(\"function () {\\n    var handler = (function (ko, koPunches) {\\n    ko.punches.enableAll();\\n    ko.bindingHandlers.numericValue = {\\n        init: function(element, valueAccessor, allBindings, data, context) {\\n            var stringified = ko.observable(ko.unwrap(valueAccessor()));\\n            stringified.subscribe(function(value) {\\n                var val = parseFloat(value);\\n                if (!isNaN(val)) {\\n                    valueAccessor()(val);\\n                }\\n            });\\n            valueAccessor().subscribe(function(value) {\\n                var str = JSON.stringify(value);\\n                if ((str == \\\"0\\\") && ([\\\"-0\\\", \\\"-0.\\\"].indexOf(stringified()) >= 0))\\n                     return;\\n                 if ([\\\"null\\\", \\\"\\\"].indexOf(str) >= 0)\\n                     return;\\n                stringified(str);\\n            });\\n            ko.applyBindingsToNode(\\n                element,\\n                {\\n                    value: stringified,\\n                    valueUpdate: allBindings.get('valueUpdate'),\\n                },\\n                context,\\n            );\\n        }\\n    };\\n    var json_data = {\\\"formatted_vals\\\":[\\\"0.0\\\",\\\"0.1\\\",\\\"0.2\\\",\\\"0.3\\\",\\\"0.4\\\",\\\"0.5\\\",\\\"0.6\\\",\\\"0.7\\\",\\\"0.8\\\",\\\"0.9\\\",\\\"1.0\\\",\\\"1.1\\\",\\\"1.2\\\",\\\"1.3\\\",\\\"1.4\\\",\\\"1.5\\\",\\\"1.6\\\",\\\"1.7\\\",\\\"1.8\\\",\\\"1.9\\\",\\\"2.0\\\",\\\"2.1\\\",\\\"2.2\\\",\\\"2.3\\\",\\\"2.4\\\",\\\"2.5\\\",\\\"2.6\\\",\\\"2.7\\\",\\\"2.8\\\",\\\"2.9\\\",\\\"3.0\\\",\\\"3.1\\\",\\\"3.2\\\",\\\"3.3\\\",\\\"3.4\\\",\\\"3.5\\\",\\\"3.6\\\",\\\"3.7\\\",\\\"3.8\\\",\\\"3.9\\\",\\\"4.0\\\",\\\"4.1\\\",\\\"4.2\\\",\\\"4.3\\\",\\\"4.4\\\",\\\"4.5\\\",\\\"4.6\\\",\\\"4.7\\\",\\\"4.8\\\",\\\"4.9\\\",\\\"5.0\\\",\\\"5.1\\\",\\\"5.2\\\",\\\"5.3\\\",\\\"5.4\\\",\\\"5.5\\\",\\\"5.6\\\",\\\"5.7\\\",\\\"5.8\\\",\\\"5.9\\\",\\\"6.0\\\",\\\"6.1\\\",\\\"6.2\\\",\\\"6.3\\\",\\\"6.4\\\",\\\"6.5\\\",\\\"6.6\\\",\\\"6.7\\\",\\\"6.8\\\",\\\"6.9\\\",\\\"7.0\\\",\\\"7.1\\\",\\\"7.2\\\",\\\"7.3\\\",\\\"7.4\\\",\\\"7.5\\\",\\\"7.6\\\",\\\"7.7\\\",\\\"7.8\\\",\\\"7.9\\\",\\\"8.0\\\",\\\"8.1\\\",\\\"8.2\\\",\\\"8.3\\\",\\\"8.4\\\",\\\"8.5\\\",\\\"8.6\\\",\\\"8.7\\\",\\\"8.8\\\",\\\"8.9\\\",\\\"9.0\\\",\\\"9.1\\\",\\\"9.2\\\",\\\"9.3\\\",\\\"9.4\\\",\\\"9.5\\\",\\\"9.6\\\",\\\"9.7\\\",\\\"9.8\\\",\\\"9.9\\\",\\\"10.0\\\"],\\\"changes\\\":WebIO.getval({\\\"name\\\":\\\"changes\\\",\\\"scope\\\":\\\"8621964287894330220\\\",\\\"id\\\":\\\"16645545459129751670\\\",\\\"type\\\":\\\"observable\\\"}),\\\"index\\\":WebIO.getval({\\\"name\\\":\\\"index\\\",\\\"scope\\\":\\\"8621964287894330220\\\",\\\"id\\\":\\\"14833405870993288789\\\",\\\"type\\\":\\\"observable\\\"})};\\n    var self = this;\\n    function AppViewModel() {\\n        for (var key in json_data) {\\n            var el = json_data[key];\\n            this[key] = Array.isArray(el) ? ko.observableArray(el) : ko.observable(el);\\n        }\\n        \\n        [this[\\\"formatted_val\\\"]=ko.computed(    function(){\\n        return this.formatted_vals()[parseInt(this.index())-(1)];\\n    }\\n,this)]\\n        [this[\\\"changes\\\"].subscribe((function (val){!(this.valueFromJulia[\\\"changes\\\"]) ? (WebIO.setval({\\\"name\\\":\\\"changes\\\",\\\"scope\\\":\\\"8621964287894330220\\\",\\\"id\\\":\\\"16645545459129751670\\\",\\\"type\\\":\\\"observable\\\"},val)) : undefined; return this.valueFromJulia[\\\"changes\\\"]=false}),self),this[\\\"index\\\"].subscribe((function (val){!(this.valueFromJulia[\\\"index\\\"]) ? (WebIO.setval({\\\"name\\\":\\\"index\\\",\\\"scope\\\":\\\"8621964287894330220\\\",\\\"id\\\":\\\"14833405870993288789\\\",\\\"type\\\":\\\"observable\\\"},val)) : undefined; return this.valueFromJulia[\\\"index\\\"]=false}),self)]\\n        \\n    }\\n    self.model = new AppViewModel();\\n    self.valueFromJulia = {};\\n    for (var key in json_data) {\\n        self.valueFromJulia[key] = false;\\n    }\\n    ko.applyBindings(self.model, self.dom);\\n}\\n);\\n    (WebIO.importBlock({\\\"data\\\":[{\\\"name\\\":\\\"knockout\\\",\\\"type\\\":\\\"js\\\",\\\"url\\\":\\\"/assetserver/d749de49a15576291e39755d819be2408bf7f995-knockout.js\\\"},{\\\"name\\\":\\\"knockout_punches\\\",\\\"type\\\":\\\"js\\\",\\\"url\\\":\\\"/assetserver/9f5c86158cf79faf331cfb32636cb08a9b1f0dc2-knockout_punches.js\\\"}],\\\"type\\\":\\\"async_block\\\"})).then((imports) => handler.apply(this, imports));\\n}\\n\")])], Dict{Symbol, Any}(:className => \"field interact-widget\")), Observable(Gadfly.Plot(Gadfly.Layer[Gadfly.Layer(nothing, Dict{Symbol, Any}(:y => [5.0, 5.25, 5.5125, 5.788125, 6.07753125, 6.3814078125, 6.700478203125, 7.03550211328125, 7.387277218945313, 7.756641079892578  …  423.83441650791406, 445.02613733330975, 467.2774441999752, 490.64131640997397, 515.1733822304727, 540.9320513419964, 567.9786539090962, 596.3775866045511, 626.1964659347786, 657.5062892315176], :x => [0.0, 1.0, 2.0, 3.0, 4.0, 5.0, 6.0, 7.0, 8.0, 9.0  …  91.0, 92.0, 93.0, 94.0, 95.0, 96.0, 97.0, 98.0, 99.0, 100.0]), Gadfly.StatisticElement[], Gadfly.Geom.LineGeometry(Gadfly.Stat.Identity(), false, 2, Symbol(\"\")), Gadfly.Theme(LCHab{Float32}(70.0f0,60.0f0,240.0f0), 0.7mm, 0.45mm, 1.8mm, Gadfly.Scale.default_discrete_sizes, Gadfly.Scale.default_continuous_sizes, Gadfly.Scale.default_discrete_colors, Function[Compose.circle, Gadfly.Shape.square, Gadfly.Shape.diamond, Gadfly.Shape.cross, Gadfly.Shape.xcross, Gadfly.Shape.utriangle, Gadfly.Shape.dtriangle, Gadfly.Shape.star1, Gadfly.Shape.star2, Gadfly.Shape.hexagon, Gadfly.Shape.octagon, Gadfly.Shape.hline, Gadfly.Shape.vline, Gadfly.Shape.ltriangle, Gadfly.Shape.rtriangle], 0.3mm, [:solid, :dash, :dot, :dashdot, :dashdotdot, :ldash, :ldashdash, :ldashdot, :ldashdashdot], [1.0, 0.9, 0.8, 0.7, 0.6, 0.5, 0.4, 0.3, 0.2, 0.1, 0.0], nothing, nothing, 0.3mm, 0.0, RGB{N0f8}(1.0,1.0,1.0), Measures.AbsoluteLength[5.0mm, 5.0mm, 5.0mm, 0.0mm], RGB{N0f8}(0.816,0.816,0.878), Measures.AbsoluteLength[0.5mm, 0.5mm], RGB{N0f8}(0.627,0.627,0.627), 0.2mm, 0, \"'PT Sans Caption','Helvetica Neue','Helvetica',sans-serif\", 2.822222222222222mm, RGB{N0f8}(0.424,0.376,0.42), \"'PT Sans','Helvetica Neue','Helvetica',sans-serif\", 3.5277777777777777mm, RGB{N0f8}(0.337,0.29,0.333), \"'PT Sans Caption','Helvetica Neue','Helvetica',sans-serif\", 2.822222222222222mm, RGB{N0f8}(0.298,0.251,0.294), \"'PT Sans','Helvetica Neue','Helvetica',sans-serif\", 3.175mm, RGB{N0f8}(0.212,0.165,0.208), \"'PT Sans','Helvetica Neue','Helvetica',sans-serif\", 2.822222222222222mm, RGB{N0f8}(0.298,0.251,0.294), 40, -0.05mm, 1.0mm, 3.0mm, Gadfly.default_stroke_color, 0.3mm, Cropbox.var\"#603#612\"(), Gadfly.default_continuous_highlight_color, Gadfly.default_lowlight_color, Gadfly.default_middle_color, 0.6mm, :left, :square, nothing, nothing, nothing, :right, nothing, 2.0mm, 1000, 10.0, 0.5, 0.2, 1.0mm, 4, Gadfly.Scale.DiscreteColorScale(Gadfly.Scale.default_discrete_colors, nothing, nothing, true), Gadfly.Scale.ContinuousColorScale(Gadfly.Scale.var\"#73#77\"{Int64, Int64, Int64, Int64, Float64, Int64}(100, 40, 260, 10, 1.5, 70), Gadfly.Scale.ContinuousScaleTransform(identity, identity, Gadfly.Scale.identity_formatter), nothing, nothing)), 1)], nothing, Data(\n",
       "  titles=Dict{Symbol, AbstractString}()\n",
       ")\n",
       ", Gadfly.ScaleElement[], Gadfly.StatisticElement[], Gadfly.Coord.Cartesian([:x, :xmin, :xmax, :xintercept], [:y, :ymin, :ymax, :yintercept, :middle, :lower_hinge, :upper_hinge, :lower_fence, :upper_fence, :outliers], 0.0, 100.0, 0, 100, false, false, false, nothing, false), Gadfly.GuideElement[Gadfly.Guide.Title(\"\"), Gadfly.Guide.XLabel(\"t\", :auto), Gadfly.Guide.YLabel(\"W\", :auto)], Gadfly.Theme(LCHab{Float32}(70.0f0,60.0f0,240.0f0), 0.7mm, 0.45mm, 1.8mm, Gadfly.Scale.default_discrete_sizes, Gadfly.Scale.default_continuous_sizes, Gadfly.Scale.default_discrete_colors, Function[Compose.circle, Gadfly.Shape.square, Gadfly.Shape.diamond, Gadfly.Shape.cross, Gadfly.Shape.xcross, Gadfly.Shape.utriangle, Gadfly.Shape.dtriangle, Gadfly.Shape.star1, Gadfly.Shape.star2, Gadfly.Shape.hexagon, Gadfly.Shape.octagon, Gadfly.Shape.hline, Gadfly.Shape.vline, Gadfly.Shape.ltriangle, Gadfly.Shape.rtriangle], 0.3mm, [:solid, :dash, :dot, :dashdot, :dashdotdot, :ldash, :ldashdash, :ldashdot, :ldashdashdot], [1.0, 0.9, 0.8, 0.7, 0.6, 0.5, 0.4, 0.3, 0.2, 0.1, 0.0], nothing, nothing, 0.3mm, 0.0, RGB{N0f8}(1.0,1.0,1.0), Measures.AbsoluteLength[5.0mm, 5.0mm, 5.0mm, 0.0mm], RGB{N0f8}(0.816,0.816,0.878), Measures.AbsoluteLength[0.5mm, 0.5mm], RGB{N0f8}(0.627,0.627,0.627), 0.2mm, 0, \"'PT Sans Caption','Helvetica Neue','Helvetica',sans-serif\", 2.822222222222222mm, RGB{N0f8}(0.424,0.376,0.42), \"'PT Sans','Helvetica Neue','Helvetica',sans-serif\", 3.5277777777777777mm, RGB{N0f8}(0.337,0.29,0.333), \"'PT Sans Caption','Helvetica Neue','Helvetica',sans-serif\", 2.822222222222222mm, RGB{N0f8}(0.298,0.251,0.294), \"'PT Sans','Helvetica Neue','Helvetica',sans-serif\", 3.175mm, RGB{N0f8}(0.212,0.165,0.208), \"'PT Sans','Helvetica Neue','Helvetica',sans-serif\", 2.822222222222222mm, RGB{N0f8}(0.298,0.251,0.294), 40, -0.05mm, 1.0mm, 3.0mm, Gadfly.default_stroke_color, 0.3mm, Cropbox.var\"#603#612\"(), Gadfly.default_continuous_highlight_color, Gadfly.default_lowlight_color, Gadfly.default_middle_color, 0.6mm, :left, :square, nothing, nothing, nothing, :right, nothing, 2.0mm, 1000, 10.0, 0.5, 0.2, 1.0mm, 4, Gadfly.Scale.DiscreteColorScale(Gadfly.Scale.default_discrete_colors, nothing, nothing, true), Gadfly.Scale.ContinuousColorScale(Gadfly.Scale.var\"#73#77\"{Int64, Int64, Int64, Int64, Float64, Int64}(100, 40, 260, 10, 1.5, 70), Gadfly.Scale.ContinuousScaleTransform(identity, identity, Gadfly.Scale.identity_formatter), nothing, nothing)), Dict{Symbol, Any}()))], Dict{Symbol, Any}(:style => Dict(\"display\" => \"flex\", \"flex-direction\" => \"column\")))"
      ]
     },
     "execution_count": 16,
     "metadata": {
      "@webio": {
       "kernelId": "a151eabc-a42f-40a5-845a-50f8469e74ba"
      }
     },
     "output_type": "execute_result"
    }
   ],
   "source": [
    "manipulate(Expo, :t, :W;\n",
    "    parameters = Expo => (;\n",
    "        :μ  => 0:0.01:0.1, # 끝에를 0.2로 바꾸면 μ값의 최대가 0.2로\n",
    "        :W0 => 0:0.1:10,\n",
    "    ),\n",
    "    stop = 100,\n",
    "    kind = :line,\n",
    "    ylim = (0, 100),\n",
    ")"
   ]
  },
  {
   "cell_type": "markdown",
   "metadata": {},
   "source": [
    "## 1.2. Monomolecular Equation\n",
    "\n",
    "- Eq\n",
    "\n",
    "$$\n",
    "\\begin{align}\n",
    "\\frac{dW}{dt} &= k S \\\\\n",
    "S &= W_f - W\n",
    "\\end{align}\n",
    "$$\n",
    "\n",
    "- Table\n",
    "\n",
    "| Symbol | Value | Units | Description |\n",
    "| :- | :- | :- | :- |\n",
    "| $t$ | - | - | Time unit used in the model |\n",
    "| $k$ | 0.2 | - | Proportion of substrate ($S$) utilized per unit time |\n",
    "| $W_0$ | 1 | - | Dry mass at time $t = 0$ |\n",
    "| $W_f$ | 100 | - | Final value of $W$ as $t$ approaches $\\infty$ |\n",
    "| $W$ | - | - | Current dry mass |"
   ]
  },
  {
   "cell_type": "code",
   "execution_count": 17,
   "metadata": {
    "tags": []
   },
   "outputs": [
    {
     "data": {
      "text/plain": [
       "Mono"
      ]
     },
     "execution_count": 17,
     "metadata": {},
     "output_type": "execute_result"
    }
   ],
   "source": [
    "@system Mono(Controller) begin\n",
    "    t(context.clock.tick) ~ track\n",
    "\n",
    "    k        => 0.2  ~ preserve(parameter)\n",
    "    W0       => 1    ~ preserve(parameter)\n",
    "    Wf       => 100  ~ preserve(parameter)\n",
    "\n",
    "    W(k, S)  => k*S    ~ accumulate(init = W0)\n",
    "    S(Wf, W) => Wf - W ~ track\n",
    "end"
   ]
  },
  {
   "cell_type": "code",
   "execution_count": 18,
   "metadata": {
    "tags": []
   },
   "outputs": [
    {
     "data": {
      "image/svg+xml": [
       "<?xml version=\"1.0\" encoding=\"UTF-8\" standalone=\"no\"?>\n",
       "<!DOCTYPE svg PUBLIC \"-//W3C//DTD SVG 1.1//EN\"\n",
       " \"http://www.w3.org/Graphics/SVG/1.1/DTD/svg11.dtd\">\n",
       "<!-- Generated by graphviz version 2.50.0 (20211204.2007)\n",
       " -->\n",
       "<!-- Pages: 1 -->\n",
       "<svg width=\"451pt\" height=\"190pt\"\n",
       " viewBox=\"0.00 0.00 450.85 190.00\" xmlns=\"http://www.w3.org/2000/svg\" xmlns:xlink=\"http://www.w3.org/1999/xlink\">\n",
       "<g id=\"graph0\" class=\"graph\" transform=\"scale(1 1) rotate(0) translate(4 186)\">\n",
       "<polygon fill=\"white\" stroke=\"transparent\" points=\"-4,4 -4,-186 446.85,-186 446.85,4 -4,4\"/>\n",
       "<!-- 1 -->\n",
       "<g id=\"node1\" class=\"node\">\n",
       "<title>1</title>\n",
       "<text text-anchor=\"middle\" x=\"211\" y=\"-144.8\" font-family=\"Courier,monospace\" font-size=\"9.00\">∘context</text>\n",
       "</g>\n",
       "<!-- 2 -->\n",
       "<g id=\"node2\" class=\"node\">\n",
       "<title>2</title>\n",
       "<text text-anchor=\"middle\" x=\"169\" y=\"-116.8\" font-family=\"Courier,monospace\" font-size=\"9.00\">context</text>\n",
       "</g>\n",
       "<!-- 1&#45;&gt;2 -->\n",
       "<g id=\"edge1\" class=\"edge\">\n",
       "<title>1&#45;&gt;2</title>\n",
       "<path fill=\"none\" stroke=\"black\" stroke-width=\"0.2\" d=\"M201.26,-139.97C195.2,-136.22 187.36,-131.37 180.93,-127.38\"/>\n",
       "<polygon fill=\"black\" stroke=\"black\" stroke-width=\"0.2\" points=\"181.05,-126.64 178.98,-126.18 180.31,-127.83 181.05,-126.64\"/>\n",
       "</g>\n",
       "<!-- 3 -->\n",
       "<g id=\"node3\" class=\"node\">\n",
       "<title>3</title>\n",
       "<text text-anchor=\"middle\" x=\"113\" y=\"-4.8\" font-family=\"Courier,monospace\" font-size=\"9.00\">⋆context</text>\n",
       "</g>\n",
       "<!-- 2&#45;&gt;3 -->\n",
       "<g id=\"edge2\" class=\"edge\">\n",
       "<title>2&#45;&gt;3</title>\n",
       "<path fill=\"none\" stroke=\"black\" stroke-width=\"0.2\" d=\"M158.84,-111.84C153.25,-108.19 146.38,-103.26 141,-98 118.75,-76.26 108.84,-71.51 99,-42 97.03,-36.1 97.13,-33.93 99,-28 100.38,-23.63 103.08,-19.39 105.75,-15.95\"/>\n",
       "<polygon fill=\"black\" stroke=\"black\" stroke-width=\"0.2\" points=\"106.51,-16.12 107.22,-14.12 105.42,-15.24 106.51,-16.12\"/>\n",
       "</g>\n",
       "<!-- 5 -->\n",
       "<g id=\"node5\" class=\"node\">\n",
       "<title>5</title>\n",
       "<text text-anchor=\"middle\" x=\"113\" y=\"-32.8\" font-family=\"Courier,monospace\" font-size=\"9.00\">t</text>\n",
       "</g>\n",
       "<!-- 2&#45;&gt;5 -->\n",
       "<g id=\"edge3\" class=\"edge\">\n",
       "<title>2&#45;&gt;5</title>\n",
       "<path fill=\"none\" stroke=\"black\" stroke-width=\"0.2\" d=\"M164.56,-111.71C161.8,-107.78 158.17,-102.61 155,-98 141.76,-78.77 126.42,-56 118.45,-44.13\"/>\n",
       "<polygon fill=\"black\" stroke=\"black\" stroke-width=\"0.2\" points=\"118.84,-43.45 117.14,-42.18 117.68,-44.23 118.84,-43.45\"/>\n",
       "</g>\n",
       "<!-- 9 -->\n",
       "<g id=\"node9\" class=\"node\">\n",
       "<title>9</title>\n",
       "<text text-anchor=\"middle\" x=\"282\" y=\"-88.8\" font-family=\"Courier,monospace\" font-size=\"9.00\">W</text>\n",
       "</g>\n",
       "<!-- 2&#45;&gt;9 -->\n",
       "<g id=\"edge4\" class=\"edge\">\n",
       "<title>2&#45;&gt;9</title>\n",
       "<path fill=\"none\" stroke=\"black\" stroke-width=\"0.2\" d=\"M189.73,-113.23C215.23,-107.36 257.26,-97.69 274.38,-93.75\"/>\n",
       "<polygon fill=\"black\" stroke=\"black\" stroke-width=\"0.2\" points=\"274.93,-94.34 276.72,-93.21 274.62,-92.98 274.93,-94.34\"/>\n",
       "</g>\n",
       "<!-- 10 -->\n",
       "<g id=\"node10\" class=\"node\">\n",
       "<title>10</title>\n",
       "<text text-anchor=\"middle\" x=\"310\" y=\"-32.8\" font-family=\"Courier,monospace\" font-size=\"9.00\">⋆W</text>\n",
       "</g>\n",
       "<!-- 2&#45;&gt;10 -->\n",
       "<g id=\"edge5\" class=\"edge\">\n",
       "<title>2&#45;&gt;10</title>\n",
       "<path fill=\"none\" stroke=\"black\" stroke-width=\"0.2\" d=\"M179.6,-111.84C206.12,-96.41 275.03,-56.34 300.42,-41.57\"/>\n",
       "<polygon fill=\"black\" stroke=\"black\" stroke-width=\"0.2\" points=\"300.8,-42.16 302.17,-40.55 300.09,-40.95 300.8,-42.16\"/>\n",
       "</g>\n",
       "<!-- 4 -->\n",
       "<g id=\"node4\" class=\"node\">\n",
       "<title>4</title>\n",
       "<text text-anchor=\"middle\" x=\"305\" y=\"-172.8\" font-family=\"Courier,monospace\" font-size=\"9.00\">config</text>\n",
       "</g>\n",
       "<!-- 4&#45;&gt;1 -->\n",
       "<g id=\"edge6\" class=\"edge\">\n",
       "<title>4&#45;&gt;1</title>\n",
       "<path fill=\"none\" stroke=\"black\" stroke-width=\"0.2\" d=\"M286.88,-168.99C272.01,-164.87 250.85,-159.02 234.65,-154.54\"/>\n",
       "<polygon fill=\"black\" stroke=\"black\" stroke-width=\"0.2\" points=\"234.81,-153.86 232.7,-154 234.44,-155.21 234.81,-153.86\"/>\n",
       "</g>\n",
       "<!-- 4&#45;&gt;3 -->\n",
       "<g id=\"edge7\" class=\"edge\">\n",
       "<title>4&#45;&gt;3</title>\n",
       "<path fill=\"none\" stroke=\"black\" stroke-width=\"0.2\" d=\"M286.83,-172.72C221.17,-167.86 0,-149.31 0,-120 0,-120 0,-120 0,-62 0,-23.67 53.57,-12.53 86.94,-9.3\"/>\n",
       "<polygon fill=\"black\" stroke=\"black\" stroke-width=\"0.2\" points=\"87.38,-9.96 89.31,-9.08 87.26,-8.57 87.38,-9.96\"/>\n",
       "</g>\n",
       "<!-- 6 -->\n",
       "<g id=\"node6\" class=\"node\">\n",
       "<title>6</title>\n",
       "<text text-anchor=\"middle\" x=\"435\" y=\"-60.8\" font-family=\"Courier,monospace\" font-size=\"9.00\">k</text>\n",
       "</g>\n",
       "<!-- 4&#45;&gt;6 -->\n",
       "<g id=\"edge8\" class=\"edge\">\n",
       "<title>4&#45;&gt;6</title>\n",
       "<path fill=\"none\" stroke=\"black\" stroke-width=\"0.2\" d=\"M323.17,-174.05C341.82,-173.2 370.74,-169.23 390,-154 417.12,-132.55 429.21,-90.46 433.29,-72.47\"/>\n",
       "<polygon fill=\"black\" stroke=\"black\" stroke-width=\"0.2\" points=\"434,-72.51 433.75,-70.4 432.63,-72.21 434,-72.51\"/>\n",
       "</g>\n",
       "<!-- 7 -->\n",
       "<g id=\"node7\" class=\"node\">\n",
       "<title>7</title>\n",
       "<text text-anchor=\"middle\" x=\"305\" y=\"-116.8\" font-family=\"Courier,monospace\" font-size=\"9.00\">W0</text>\n",
       "</g>\n",
       "<!-- 4&#45;&gt;7 -->\n",
       "<g id=\"edge9\" class=\"edge\">\n",
       "<title>4&#45;&gt;7</title>\n",
       "<path fill=\"none\" stroke=\"black\" stroke-width=\"0.2\" d=\"M305,-167.81C305,-158.04 305,-139.06 305,-128.18\"/>\n",
       "<polygon fill=\"black\" stroke=\"black\" stroke-width=\"0.2\" points=\"305.7,-128.12 305,-126.12 304.3,-128.12 305.7,-128.12\"/>\n",
       "</g>\n",
       "<!-- 8 -->\n",
       "<g id=\"node8\" class=\"node\">\n",
       "<title>8</title>\n",
       "<text text-anchor=\"middle\" x=\"373\" y=\"-144.8\" font-family=\"Courier,monospace\" font-size=\"9.00\">Wf</text>\n",
       "</g>\n",
       "<!-- 4&#45;&gt;8 -->\n",
       "<g id=\"edge10\" class=\"edge\">\n",
       "<title>4&#45;&gt;8</title>\n",
       "<path fill=\"none\" stroke=\"black\" stroke-width=\"0.2\" d=\"M320.77,-167.97C333.87,-162.96 352.08,-156 363.18,-151.76\"/>\n",
       "<polygon fill=\"black\" stroke=\"black\" stroke-width=\"0.2\" points=\"363.68,-152.31 365.3,-150.94 363.18,-151.01 363.68,-152.31\"/>\n",
       "</g>\n",
       "<!-- 5&#45;&gt;3 -->\n",
       "<g id=\"edge11\" class=\"edge\">\n",
       "<title>5&#45;&gt;3</title>\n",
       "<path fill=\"none\" stroke=\"black\" stroke-width=\"0.2\" d=\"M113,-27.97C113,-24.53 113,-20.16 113,-16.39\"/>\n",
       "<polygon fill=\"black\" stroke=\"black\" stroke-width=\"0.2\" points=\"113.7,-16.36 113,-14.36 112.3,-16.36 113.7,-16.36\"/>\n",
       "</g>\n",
       "<!-- 6&#45;&gt;10 -->\n",
       "<g id=\"edge12\" class=\"edge\">\n",
       "<title>6&#45;&gt;10</title>\n",
       "<path fill=\"none\" stroke=\"black\" stroke-width=\"0.2\" d=\"M429.95,-60.95C411.11,-57.03 344.8,-43.24 319.71,-38.02\"/>\n",
       "<polygon fill=\"black\" stroke=\"black\" stroke-width=\"0.2\" points=\"319.8,-37.32 317.7,-37.6 319.51,-38.69 319.8,-37.32\"/>\n",
       "</g>\n",
       "<!-- 7&#45;&gt;9 -->\n",
       "<g id=\"edge13\" class=\"edge\">\n",
       "<title>7&#45;&gt;9</title>\n",
       "<path fill=\"none\" stroke=\"black\" stroke-width=\"0.2\" d=\"M299.67,-111.97C296.41,-108.29 292.23,-103.56 288.75,-99.63\"/>\n",
       "<polygon fill=\"black\" stroke=\"black\" stroke-width=\"0.2\" points=\"289.16,-99.03 287.31,-98 288.11,-99.96 289.16,-99.03\"/>\n",
       "</g>\n",
       "<!-- 7&#45;&gt;10 -->\n",
       "<g id=\"edge14\" class=\"edge\">\n",
       "<title>7&#45;&gt;10</title>\n",
       "<path fill=\"none\" stroke=\"black\" stroke-width=\"0.2\" d=\"M305.85,-111.8C307.06,-102.67 309.22,-85.06 310,-70 310.46,-61.24 310.38,-51.19 310.24,-44.3\"/>\n",
       "<polygon fill=\"black\" stroke=\"black\" stroke-width=\"0.2\" points=\"310.94,-44.26 310.19,-42.27 309.54,-44.29 310.94,-44.26\"/>\n",
       "</g>\n",
       "<!-- 11 -->\n",
       "<g id=\"node11\" class=\"node\">\n",
       "<title>11</title>\n",
       "<text text-anchor=\"middle\" x=\"387\" y=\"-60.8\" font-family=\"Courier,monospace\" font-size=\"9.00\">S</text>\n",
       "</g>\n",
       "<!-- 8&#45;&gt;11 -->\n",
       "<g id=\"edge15\" class=\"edge\">\n",
       "<title>8&#45;&gt;11</title>\n",
       "<path fill=\"none\" stroke=\"black\" stroke-width=\"0.2\" d=\"M374.05,-139.84C376.53,-125.35 382.71,-89.12 385.54,-72.53\"/>\n",
       "<polygon fill=\"black\" stroke=\"black\" stroke-width=\"0.2\" points=\"386.29,-72.32 385.94,-70.23 384.91,-72.09 386.29,-72.32\"/>\n",
       "</g>\n",
       "<!-- 9&#45;&gt;3 -->\n",
       "<g id=\"edge16\" class=\"edge\">\n",
       "<title>9&#45;&gt;3</title>\n",
       "<path fill=\"none\" stroke=\"black\" stroke-width=\"0.2\" d=\"M276.76,-87.46C254.03,-76.43 163.59,-32.55 127.74,-15.15\"/>\n",
       "<polygon fill=\"black\" stroke=\"black\" stroke-width=\"0.2\" points=\"127.77,-14.39 125.67,-14.15 127.16,-15.65 127.77,-14.39\"/>\n",
       "</g>\n",
       "<!-- 9&#45;&gt;10 -->\n",
       "<g id=\"edge17\" class=\"edge\">\n",
       "<title>9&#45;&gt;10</title>\n",
       "<path fill=\"none\" stroke=\"black\" stroke-width=\"0.2\" d=\"M285.21,-83.81C290.32,-73.96 300.28,-54.74 305.9,-43.91\"/>\n",
       "<polygon fill=\"black\" stroke=\"black\" stroke-width=\"0.2\" points=\"306.53,-44.22 306.83,-42.12 305.28,-43.58 306.53,-44.22\"/>\n",
       "</g>\n",
       "<!-- 9&#45;&gt;11 -->\n",
       "<g id=\"edge18\" class=\"edge\">\n",
       "<title>9&#45;&gt;11</title>\n",
       "<path fill=\"none\" stroke=\"black\" stroke-width=\"0.2\" d=\"M287.06,-88.75C304.14,-84.52 359.64,-70.77 379.69,-65.81\"/>\n",
       "<polygon fill=\"black\" stroke=\"black\" stroke-width=\"0.2\" points=\"379.97,-66.46 381.74,-65.3 379.63,-65.1 379.97,-66.46\"/>\n",
       "</g>\n",
       "<!-- 10&#45;&gt;3 -->\n",
       "<g id=\"edge19\" class=\"edge\">\n",
       "<title>10&#45;&gt;3</title>\n",
       "<path fill=\"none\" stroke=\"black\" stroke-width=\"0.2\" d=\"M302.03,-32.95C274.68,-29.34 183.82,-17.35 138.77,-11.4\"/>\n",
       "<polygon fill=\"black\" stroke=\"black\" stroke-width=\"0.2\" points=\"138.74,-10.69 136.66,-11.12 138.55,-12.08 138.74,-10.69\"/>\n",
       "</g>\n",
       "<!-- 11&#45;&gt;10 -->\n",
       "<g id=\"edge20\" class=\"edge\">\n",
       "<title>11&#45;&gt;10</title>\n",
       "<path fill=\"none\" stroke=\"black\" stroke-width=\"0.2\" d=\"M381.95,-60.29C369.34,-56.04 336.34,-44.89 319.78,-39.3\"/>\n",
       "<polygon fill=\"black\" stroke=\"black\" stroke-width=\"0.2\" points=\"319.96,-38.62 317.84,-38.65 319.51,-39.95 319.96,-38.62\"/>\n",
       "</g>\n",
       "</g>\n",
       "</svg>\n"
      ],
      "text/plain": [
       "\u001b[90m[\u001b[39m\u001b[94mconfig\u001b[39m\u001b[90m → \u001b[39m\u001b[94mWf\u001b[39m\u001b[90m → \u001b[39m\u001b[94mW0\u001b[39m\u001b[90m → \u001b[39m\u001b[94mk\u001b[39m\u001b[90m → \u001b[39m\u001b[94m∘context\u001b[39m\u001b[90m → \u001b[39m\u001b[94mcontext\u001b[39m\u001b[90m → \u001b[39m\u001b[94mW\u001b[39m\u001b[90m → \u001b[39m\u001b[94mS\u001b[39m\u001b[90m → \u001b[39m\u001b[94m⋆W\u001b[39m\u001b[90m → \u001b[39m\u001b[94mt\u001b[39m\u001b[90m → \u001b[39m\u001b[94m⋆context\u001b[39m\u001b[90m]\u001b[39m"
      ]
     },
     "execution_count": 18,
     "metadata": {},
     "output_type": "execute_result"
    }
   ],
   "source": [
    "# S와 W가 서로 맞물려도 실행되는 이유\n",
    "Cropbox.dependency(Mono)"
   ]
  },
  {
   "cell_type": "markdown",
   "metadata": {},
   "source": [
    "업데이트 되는 W는 *W\n",
    "S가 계산될 때의 W는 전 timestep의 W\n",
    "*W는 새로 계산된 S를 가지고 계산된 W\n",
    "따라서 S와 W가 서로 맞물려도 실행이 됨"
   ]
  },
  {
   "cell_type": "code",
   "execution_count": 20,
   "metadata": {
    "tags": []
   },
   "outputs": [
    {
     "data": {
      "text/html": [
       "<div><div style = \"float: left;\"><span>21×7 DataFrame</span></div><div style = \"clear: both;\"></div></div><div class = \"data-frame\" style = \"overflow-x: scroll;\"><table class = \"data-frame\" style = \"margin-bottom: 6px;\"><thead><tr class = \"header\"><th class = \"rowNumber\" style = \"font-weight: bold; text-align: right;\">Row</th><th style = \"text-align: left;\">time</th><th style = \"text-align: left;\">t</th><th style = \"text-align: left;\">k</th><th style = \"text-align: left;\">W0</th><th style = \"text-align: left;\">Wf</th><th style = \"text-align: left;\">W</th><th style = \"text-align: left;\">S</th></tr><tr class = \"subheader headerLastRow\"><th class = \"rowNumber\" style = \"font-weight: bold; text-align: right;\"></th><th title = \"Unitful.Quantity{Float64, 𝐓, Unitful.FreeUnits{(hr,), 𝐓, nothing}}\" style = \"text-align: left;\">Quantity…</th><th title = \"Float64\" style = \"text-align: left;\">Float64</th><th title = \"Float64\" style = \"text-align: left;\">Float64</th><th title = \"Float64\" style = \"text-align: left;\">Float64</th><th title = \"Float64\" style = \"text-align: left;\">Float64</th><th title = \"Float64\" style = \"text-align: left;\">Float64</th><th title = \"Float64\" style = \"text-align: left;\">Float64</th></tr></thead><tbody><tr><td class = \"rowNumber\" style = \"font-weight: bold; text-align: right;\">1</td><td style = \"text-align: right;\">0.0 hr</td><td style = \"text-align: right;\">0.0</td><td style = \"text-align: right;\">0.2</td><td style = \"text-align: right;\">1.0</td><td style = \"text-align: right;\">100.0</td><td style = \"text-align: right;\">1.0</td><td style = \"text-align: right;\">99.0</td></tr><tr><td class = \"rowNumber\" style = \"font-weight: bold; text-align: right;\">2</td><td style = \"text-align: right;\">1.0 hr</td><td style = \"text-align: right;\">1.0</td><td style = \"text-align: right;\">0.2</td><td style = \"text-align: right;\">1.0</td><td style = \"text-align: right;\">100.0</td><td style = \"text-align: right;\">20.8</td><td style = \"text-align: right;\">79.2</td></tr><tr><td class = \"rowNumber\" style = \"font-weight: bold; text-align: right;\">3</td><td style = \"text-align: right;\">2.0 hr</td><td style = \"text-align: right;\">2.0</td><td style = \"text-align: right;\">0.2</td><td style = \"text-align: right;\">1.0</td><td style = \"text-align: right;\">100.0</td><td style = \"text-align: right;\">36.64</td><td style = \"text-align: right;\">63.36</td></tr><tr><td class = \"rowNumber\" style = \"font-weight: bold; text-align: right;\">4</td><td style = \"text-align: right;\">3.0 hr</td><td style = \"text-align: right;\">3.0</td><td style = \"text-align: right;\">0.2</td><td style = \"text-align: right;\">1.0</td><td style = \"text-align: right;\">100.0</td><td style = \"text-align: right;\">49.312</td><td style = \"text-align: right;\">50.688</td></tr><tr><td class = \"rowNumber\" style = \"font-weight: bold; text-align: right;\">5</td><td style = \"text-align: right;\">4.0 hr</td><td style = \"text-align: right;\">4.0</td><td style = \"text-align: right;\">0.2</td><td style = \"text-align: right;\">1.0</td><td style = \"text-align: right;\">100.0</td><td style = \"text-align: right;\">59.4496</td><td style = \"text-align: right;\">40.5504</td></tr><tr><td class = \"rowNumber\" style = \"font-weight: bold; text-align: right;\">6</td><td style = \"text-align: right;\">5.0 hr</td><td style = \"text-align: right;\">5.0</td><td style = \"text-align: right;\">0.2</td><td style = \"text-align: right;\">1.0</td><td style = \"text-align: right;\">100.0</td><td style = \"text-align: right;\">67.5597</td><td style = \"text-align: right;\">32.4403</td></tr><tr><td class = \"rowNumber\" style = \"font-weight: bold; text-align: right;\">7</td><td style = \"text-align: right;\">6.0 hr</td><td style = \"text-align: right;\">6.0</td><td style = \"text-align: right;\">0.2</td><td style = \"text-align: right;\">1.0</td><td style = \"text-align: right;\">100.0</td><td style = \"text-align: right;\">74.0477</td><td style = \"text-align: right;\">25.9523</td></tr><tr><td class = \"rowNumber\" style = \"font-weight: bold; text-align: right;\">8</td><td style = \"text-align: right;\">7.0 hr</td><td style = \"text-align: right;\">7.0</td><td style = \"text-align: right;\">0.2</td><td style = \"text-align: right;\">1.0</td><td style = \"text-align: right;\">100.0</td><td style = \"text-align: right;\">79.2382</td><td style = \"text-align: right;\">20.7618</td></tr><tr><td class = \"rowNumber\" style = \"font-weight: bold; text-align: right;\">9</td><td style = \"text-align: right;\">8.0 hr</td><td style = \"text-align: right;\">8.0</td><td style = \"text-align: right;\">0.2</td><td style = \"text-align: right;\">1.0</td><td style = \"text-align: right;\">100.0</td><td style = \"text-align: right;\">83.3906</td><td style = \"text-align: right;\">16.6094</td></tr><tr><td class = \"rowNumber\" style = \"font-weight: bold; text-align: right;\">10</td><td style = \"text-align: right;\">9.0 hr</td><td style = \"text-align: right;\">9.0</td><td style = \"text-align: right;\">0.2</td><td style = \"text-align: right;\">1.0</td><td style = \"text-align: right;\">100.0</td><td style = \"text-align: right;\">86.7124</td><td style = \"text-align: right;\">13.2876</td></tr><tr><td class = \"rowNumber\" style = \"font-weight: bold; text-align: right;\">11</td><td style = \"text-align: right;\">10.0 hr</td><td style = \"text-align: right;\">10.0</td><td style = \"text-align: right;\">0.2</td><td style = \"text-align: right;\">1.0</td><td style = \"text-align: right;\">100.0</td><td style = \"text-align: right;\">89.37</td><td style = \"text-align: right;\">10.63</td></tr><tr><td class = \"rowNumber\" style = \"font-weight: bold; text-align: right;\">12</td><td style = \"text-align: right;\">11.0 hr</td><td style = \"text-align: right;\">11.0</td><td style = \"text-align: right;\">0.2</td><td style = \"text-align: right;\">1.0</td><td style = \"text-align: right;\">100.0</td><td style = \"text-align: right;\">91.496</td><td style = \"text-align: right;\">8.50404</td></tr><tr><td class = \"rowNumber\" style = \"font-weight: bold; text-align: right;\">13</td><td style = \"text-align: right;\">12.0 hr</td><td style = \"text-align: right;\">12.0</td><td style = \"text-align: right;\">0.2</td><td style = \"text-align: right;\">1.0</td><td style = \"text-align: right;\">100.0</td><td style = \"text-align: right;\">93.1968</td><td style = \"text-align: right;\">6.80323</td></tr><tr><td class = \"rowNumber\" style = \"font-weight: bold; text-align: right;\">14</td><td style = \"text-align: right;\">13.0 hr</td><td style = \"text-align: right;\">13.0</td><td style = \"text-align: right;\">0.2</td><td style = \"text-align: right;\">1.0</td><td style = \"text-align: right;\">100.0</td><td style = \"text-align: right;\">94.5574</td><td style = \"text-align: right;\">5.44258</td></tr><tr><td class = \"rowNumber\" style = \"font-weight: bold; text-align: right;\">15</td><td style = \"text-align: right;\">14.0 hr</td><td style = \"text-align: right;\">14.0</td><td style = \"text-align: right;\">0.2</td><td style = \"text-align: right;\">1.0</td><td style = \"text-align: right;\">100.0</td><td style = \"text-align: right;\">95.6459</td><td style = \"text-align: right;\">4.35407</td></tr><tr><td class = \"rowNumber\" style = \"font-weight: bold; text-align: right;\">16</td><td style = \"text-align: right;\">15.0 hr</td><td style = \"text-align: right;\">15.0</td><td style = \"text-align: right;\">0.2</td><td style = \"text-align: right;\">1.0</td><td style = \"text-align: right;\">100.0</td><td style = \"text-align: right;\">96.5167</td><td style = \"text-align: right;\">3.48325</td></tr><tr><td class = \"rowNumber\" style = \"font-weight: bold; text-align: right;\">17</td><td style = \"text-align: right;\">16.0 hr</td><td style = \"text-align: right;\">16.0</td><td style = \"text-align: right;\">0.2</td><td style = \"text-align: right;\">1.0</td><td style = \"text-align: right;\">100.0</td><td style = \"text-align: right;\">97.2134</td><td style = \"text-align: right;\">2.7866</td></tr><tr><td class = \"rowNumber\" style = \"font-weight: bold; text-align: right;\">18</td><td style = \"text-align: right;\">17.0 hr</td><td style = \"text-align: right;\">17.0</td><td style = \"text-align: right;\">0.2</td><td style = \"text-align: right;\">1.0</td><td style = \"text-align: right;\">100.0</td><td style = \"text-align: right;\">97.7707</td><td style = \"text-align: right;\">2.22928</td></tr><tr><td class = \"rowNumber\" style = \"font-weight: bold; text-align: right;\">19</td><td style = \"text-align: right;\">18.0 hr</td><td style = \"text-align: right;\">18.0</td><td style = \"text-align: right;\">0.2</td><td style = \"text-align: right;\">1.0</td><td style = \"text-align: right;\">100.0</td><td style = \"text-align: right;\">98.2166</td><td style = \"text-align: right;\">1.78343</td></tr><tr><td class = \"rowNumber\" style = \"font-weight: bold; text-align: right;\">20</td><td style = \"text-align: right;\">19.0 hr</td><td style = \"text-align: right;\">19.0</td><td style = \"text-align: right;\">0.2</td><td style = \"text-align: right;\">1.0</td><td style = \"text-align: right;\">100.0</td><td style = \"text-align: right;\">98.5733</td><td style = \"text-align: right;\">1.42674</td></tr><tr><td class = \"rowNumber\" style = \"font-weight: bold; text-align: right;\">21</td><td style = \"text-align: right;\">20.0 hr</td><td style = \"text-align: right;\">20.0</td><td style = \"text-align: right;\">0.2</td><td style = \"text-align: right;\">1.0</td><td style = \"text-align: right;\">100.0</td><td style = \"text-align: right;\">98.8586</td><td style = \"text-align: right;\">1.14139</td></tr></tbody></table></div>"
      ],
      "text/latex": [
       "\\begin{tabular}{r|ccccccc}\n",
       "\t& time & t & k & W0 & Wf & W & S\\\\\n",
       "\t\\hline\n",
       "\t& Quantity… & Float64 & Float64 & Float64 & Float64 & Float64 & Float64\\\\\n",
       "\t\\hline\n",
       "\t1 & 0.0 hr & 0.0 & 0.2 & 1.0 & 100.0 & 1.0 & 99.0 \\\\\n",
       "\t2 & 1.0 hr & 1.0 & 0.2 & 1.0 & 100.0 & 20.8 & 79.2 \\\\\n",
       "\t3 & 2.0 hr & 2.0 & 0.2 & 1.0 & 100.0 & 36.64 & 63.36 \\\\\n",
       "\t4 & 3.0 hr & 3.0 & 0.2 & 1.0 & 100.0 & 49.312 & 50.688 \\\\\n",
       "\t5 & 4.0 hr & 4.0 & 0.2 & 1.0 & 100.0 & 59.4496 & 40.5504 \\\\\n",
       "\t6 & 5.0 hr & 5.0 & 0.2 & 1.0 & 100.0 & 67.5597 & 32.4403 \\\\\n",
       "\t7 & 6.0 hr & 6.0 & 0.2 & 1.0 & 100.0 & 74.0477 & 25.9523 \\\\\n",
       "\t8 & 7.0 hr & 7.0 & 0.2 & 1.0 & 100.0 & 79.2382 & 20.7618 \\\\\n",
       "\t9 & 8.0 hr & 8.0 & 0.2 & 1.0 & 100.0 & 83.3906 & 16.6094 \\\\\n",
       "\t10 & 9.0 hr & 9.0 & 0.2 & 1.0 & 100.0 & 86.7124 & 13.2876 \\\\\n",
       "\t11 & 10.0 hr & 10.0 & 0.2 & 1.0 & 100.0 & 89.37 & 10.63 \\\\\n",
       "\t12 & 11.0 hr & 11.0 & 0.2 & 1.0 & 100.0 & 91.496 & 8.50404 \\\\\n",
       "\t13 & 12.0 hr & 12.0 & 0.2 & 1.0 & 100.0 & 93.1968 & 6.80323 \\\\\n",
       "\t14 & 13.0 hr & 13.0 & 0.2 & 1.0 & 100.0 & 94.5574 & 5.44258 \\\\\n",
       "\t15 & 14.0 hr & 14.0 & 0.2 & 1.0 & 100.0 & 95.6459 & 4.35407 \\\\\n",
       "\t16 & 15.0 hr & 15.0 & 0.2 & 1.0 & 100.0 & 96.5167 & 3.48325 \\\\\n",
       "\t17 & 16.0 hr & 16.0 & 0.2 & 1.0 & 100.0 & 97.2134 & 2.7866 \\\\\n",
       "\t18 & 17.0 hr & 17.0 & 0.2 & 1.0 & 100.0 & 97.7707 & 2.22928 \\\\\n",
       "\t19 & 18.0 hr & 18.0 & 0.2 & 1.0 & 100.0 & 98.2166 & 1.78343 \\\\\n",
       "\t20 & 19.0 hr & 19.0 & 0.2 & 1.0 & 100.0 & 98.5733 & 1.42674 \\\\\n",
       "\t21 & 20.0 hr & 20.0 & 0.2 & 1.0 & 100.0 & 98.8586 & 1.14139 \\\\\n",
       "\\end{tabular}\n"
      ],
      "text/plain": [
       "\u001b[1m21×7 DataFrame\n",
       "\u001b[1m Row │\u001b[1m time      \u001b[1m t       \u001b[1m k       \u001b[1m W0      \u001b[1m Wf      \u001b[1m W       \u001b[1m S\n",
       "     │\u001b[90m Quantity… \u001b[90m Float64 \u001b[90m Float64 \u001b[90m Float64 \u001b[90m Float64 \u001b[90m Float64 \u001b[90m Float64\n",
       "─────┼──────────────────────────────────────────────────────────────────\n",
       "   1 │    0.0 hr      0.0      0.2      1.0    100.0   1.0     99.0\n",
       "   2 │    1.0 hr      1.0      0.2      1.0    100.0  20.8     79.2\n",
       "   3 │    2.0 hr      2.0      0.2      1.0    100.0  36.64    63.36\n",
       "   4 │    3.0 hr      3.0      0.2      1.0    100.0  49.312   50.688\n",
       "   5 │    4.0 hr      4.0      0.2      1.0    100.0  59.4496  40.5504\n",
       "   6 │    5.0 hr      5.0      0.2      1.0    100.0  67.5597  32.4403\n",
       "   7 │    6.0 hr      6.0      0.2      1.0    100.0  74.0477  25.9523\n",
       "   8 │    7.0 hr      7.0      0.2      1.0    100.0  79.2382  20.7618\n",
       "   9 │    8.0 hr      8.0      0.2      1.0    100.0  83.3906  16.6094\n",
       "  10 │    9.0 hr      9.0      0.2      1.0    100.0  86.7124  13.2876\n",
       "  11 │   10.0 hr     10.0      0.2      1.0    100.0  89.37    10.63\n",
       "  12 │   11.0 hr     11.0      0.2      1.0    100.0  91.496    8.50404\n",
       "  13 │   12.0 hr     12.0      0.2      1.0    100.0  93.1968   6.80323\n",
       "  14 │   13.0 hr     13.0      0.2      1.0    100.0  94.5574   5.44258\n",
       "  15 │   14.0 hr     14.0      0.2      1.0    100.0  95.6459   4.35407\n",
       "  16 │   15.0 hr     15.0      0.2      1.0    100.0  96.5167   3.48325\n",
       "  17 │   16.0 hr     16.0      0.2      1.0    100.0  97.2134   2.7866\n",
       "  18 │   17.0 hr     17.0      0.2      1.0    100.0  97.7707   2.22928\n",
       "  19 │   18.0 hr     18.0      0.2      1.0    100.0  98.2166   1.78343\n",
       "  20 │   19.0 hr     19.0      0.2      1.0    100.0  98.5733   1.42674\n",
       "  21 │   20.0 hr     20.0      0.2      1.0    100.0  98.8586   1.14139"
      ]
     },
     "execution_count": 20,
     "metadata": {},
     "output_type": "execute_result"
    }
   ],
   "source": [
    "r12 = simulate(Mono, stop = 20)"
   ]
  },
  {
   "cell_type": "code",
   "execution_count": 21,
   "metadata": {
    "tags": []
   },
   "outputs": [
    {
     "data": {
      "image/svg+xml": [
       "<?xml version=\"1.0\" encoding=\"UTF-8\"?>\n",
       "<svg xmlns=\"http://www.w3.org/2000/svg\"\n",
       "     xmlns:xlink=\"http://www.w3.org/1999/xlink\"\n",
       "     xmlns:gadfly=\"http://www.gadflyjl.org/ns\"\n",
       "     version=\"1.2\"\n",
       "     width=\"141.42mm\" height=\"100mm\" viewBox=\"0 0 141.42 100\"\n",
       "     stroke=\"none\"\n",
       "     fill=\"#000000\"\n",
       "     stroke-width=\"0.3\"\n",
       "     font-size=\"3.88\"\n",
       ">\n",
       "<defs>\n",
       "  <marker id=\"arrow\" markerWidth=\"15\" markerHeight=\"7\" refX=\"5\" refY=\"3.5\" orient=\"auto\" markerUnits=\"strokeWidth\">\n",
       "    <path d=\"M0,0 L15,3.5 L0,7 z\" stroke=\"context-stroke\" fill=\"context-stroke\"/>\n",
       "  </marker>\n",
       "</defs>\n",
       "<g stroke=\"#000000\" stroke-opacity=\"0.000\" fill=\"#FFFFFF\" id=\"img-57557a9a-1\">\n",
       "  <g transform=\"translate(70.71,50)\">\n",
       "    <path d=\"M-70.71,-50 L70.71,-50 70.71,50 -70.71,50  z\" class=\"primitive\"/>\n",
       "  </g>\n",
       "</g>\n",
       "<g class=\"plotroot xscalable yscalable\" id=\"img-57557a9a-2\">\n",
       "  <g font-size=\"3.53\" font-family=\"'PT Sans','Helvetica Neue','Helvetica',sans-serif\" fill=\"#564A55\" stroke=\"#000000\" stroke-opacity=\"0.000\" id=\"img-57557a9a-3\">\n",
       "    <g transform=\"translate(69.9,93.72)\">\n",
       "      <g class=\"primitive\">\n",
       "        <text text-anchor=\"middle\" dy=\"0.6em\">t</text>\n",
       "      </g>\n",
       "    </g>\n",
       "  </g>\n",
       "  <g class=\"guide xlabels\" font-size=\"2.82\" font-family=\"'PT Sans Caption','Helvetica Neue','Helvetica',sans-serif\" fill=\"#6C606B\" id=\"img-57557a9a-4\">\n",
       "    <g transform=\"translate(12.35,87.04)\">\n",
       "      <g class=\"primitive\">\n",
       "        <text text-anchor=\"middle\" dy=\"0.6em\">0</text>\n",
       "      </g>\n",
       "    </g>\n",
       "    <g transform=\"translate(41.13,87.04)\">\n",
       "      <g class=\"primitive\">\n",
       "        <text text-anchor=\"middle\" dy=\"0.6em\">5</text>\n",
       "      </g>\n",
       "    </g>\n",
       "    <g transform=\"translate(69.9,87.04)\">\n",
       "      <g class=\"primitive\">\n",
       "        <text text-anchor=\"middle\" dy=\"0.6em\">10</text>\n",
       "      </g>\n",
       "    </g>\n",
       "    <g transform=\"translate(98.68,87.04)\">\n",
       "      <g class=\"primitive\">\n",
       "        <text text-anchor=\"middle\" dy=\"0.6em\">15</text>\n",
       "      </g>\n",
       "    </g>\n",
       "    <g transform=\"translate(127.46,87.04)\">\n",
       "      <g class=\"primitive\">\n",
       "        <text text-anchor=\"middle\" dy=\"0.6em\">20</text>\n",
       "      </g>\n",
       "    </g>\n",
       "  </g>\n",
       "  <g class=\"guide colorkey\" id=\"img-57557a9a-5\">\n",
       "    <g fill=\"#4C404B\" font-size=\"2.82\" font-family=\"'PT Sans','Helvetica Neue','Helvetica',sans-serif\" id=\"img-57557a9a-6\">\n",
       "      <g transform=\"translate(134.09,47.75)\" id=\"img-57557a9a-7\">\n",
       "        <g class=\"primitive\">\n",
       "          <text dy=\"0.35em\">W</text>\n",
       "        </g>\n",
       "      </g>\n",
       "    </g>\n",
       "    <g stroke-width=\"0.3\" id=\"img-57557a9a-8\">\n",
       "      <g stroke=\"#FFFFFF\" stroke-opacity=\"0.000\" fill-opacity=\"1\" fill=\"#00BFFF\" id=\"img-57557a9a-9\">\n",
       "        <g transform=\"translate(131.27,47.75)\" id=\"img-57557a9a-10\">\n",
       "          <circle cx=\"0\" cy=\"0\" r=\"0.7\" class=\"primitive\"/>\n",
       "        </g>\n",
       "      </g>\n",
       "    </g>\n",
       "    <g fill=\"#362A35\" font-size=\"3.18\" font-family=\"'PT Sans','Helvetica Neue','Helvetica',sans-serif\" stroke=\"#000000\" stroke-opacity=\"0.000\" id=\"img-57557a9a-11\">\n",
       "      <g transform=\"translate(130.46,44.44)\" id=\"img-57557a9a-12\">\n",
       "        <g class=\"primitive\">\n",
       "          <text dy=\"-0em\"></text>\n",
       "        </g>\n",
       "      </g>\n",
       "    </g>\n",
       "  </g>\n",
       "  <g clip-path=\"url(#img-57557a9a-13)\">\n",
       "    <g id=\"img-57557a9a-14\">\n",
       "      <g pointer-events=\"visible\" stroke-width=\"0.3\" fill=\"#000000\" fill-opacity=\"0.000\" stroke=\"#000000\" stroke-opacity=\"0.000\" class=\"guide background\" id=\"img-57557a9a-15\">\n",
       "        <g transform=\"translate(69.9,45.52)\" id=\"img-57557a9a-16\">\n",
       "          <path d=\"M-59.56,-40.52 L59.56,-40.52 59.56,40.52 -59.56,40.52  z\" class=\"primitive\"/>\n",
       "        </g>\n",
       "      </g>\n",
       "      <g class=\"guide ygridlines xfixed\" stroke-dasharray=\"0.5,0.5\" stroke-width=\"0.2\" stroke=\"#D0D0E0\" id=\"img-57557a9a-17\">\n",
       "        <g transform=\"translate(69.9,45.52)\" id=\"img-57557a9a-18\">\n",
       "          <path fill=\"none\" d=\"M-59.56,0 L59.56,0 \" class=\"primitive\"/>\n",
       "        </g>\n",
       "      </g>\n",
       "      <g class=\"guide xgridlines yfixed\" stroke-dasharray=\"0.5,0.5\" stroke-width=\"0.2\" stroke=\"#D0D0E0\" id=\"img-57557a9a-19\">\n",
       "        <g transform=\"translate(12.35,45.52)\" id=\"img-57557a9a-20\">\n",
       "          <path fill=\"none\" d=\"M0,-40.52 L0,40.52 \" class=\"primitive\"/>\n",
       "        </g>\n",
       "        <g transform=\"translate(41.13,45.52)\" id=\"img-57557a9a-21\">\n",
       "          <path fill=\"none\" d=\"M0,-40.52 L0,40.52 \" class=\"primitive\"/>\n",
       "        </g>\n",
       "        <g transform=\"translate(69.9,45.52)\" id=\"img-57557a9a-22\">\n",
       "          <path fill=\"none\" d=\"M0,-40.52 L0,40.52 \" class=\"primitive\"/>\n",
       "        </g>\n",
       "        <g transform=\"translate(98.68,45.52)\" id=\"img-57557a9a-23\">\n",
       "          <path fill=\"none\" d=\"M0,-40.52 L0,40.52 \" class=\"primitive\"/>\n",
       "        </g>\n",
       "        <g transform=\"translate(127.46,45.52)\" id=\"img-57557a9a-24\">\n",
       "          <path fill=\"none\" d=\"M0,-40.52 L0,40.52 \" class=\"primitive\"/>\n",
       "        </g>\n",
       "      </g>\n",
       "      <g class=\"plotpanel\" id=\"img-57557a9a-25\">\n",
       "        <metadata>\n",
       "          <boundingbox value=\"10.346666666666664mm 5.0mm 119.11468957064285mm 81.04333333333334mm\"/>\n",
       "          <unitbox value=\"-0.3474795453924502 101.54402284428676 20.694959090784902 -103.08804568857353\"/>\n",
       "        </metadata>\n",
       "        <g stroke-width=\"0.3\" fill=\"#000000\" fill-opacity=\"0.000\" class=\"geometry\" id=\"img-57557a9a-26\">\n",
       "          <g class=\"color_LCHab{Float32}(70.0f0,60.0f0,240.0f0)\" stroke-dasharray=\"none\" stroke-opacity=\"1\" stroke=\"#00BFFF\" id=\"img-57557a9a-27\">\n",
       "            <g transform=\"translate(69.9,24.57)\" id=\"img-57557a9a-28\">\n",
       "              <path fill=\"none\" d=\"M-57.56,59.47 L-51.8,43.9 -46.05,31.45 -40.29,21.49 -34.53,13.52 -28.78,7.14 -23.02,2.04 -17.27,-2.04 -11.51,-5.3 -5.76,-7.91 0,-10 5.76,-11.67 11.51,-13.01 17.27,-14.08 23.02,-14.94 28.78,-15.62 34.53,-16.17 40.29,-16.61 46.05,-16.96 51.8,-17.24 57.56,-17.46 \" class=\"primitive\"/>\n",
       "            </g>\n",
       "          </g>\n",
       "        </g>\n",
       "      </g>\n",
       "    </g>\n",
       "  </g>\n",
       "  <g class=\"guide ylabels\" font-size=\"2.82\" font-family=\"'PT Sans Caption','Helvetica Neue','Helvetica',sans-serif\" fill=\"#6C606B\" id=\"img-57557a9a-29\">\n",
       "    <g transform=\"translate(9.35,45.52)\" id=\"img-57557a9a-30\">\n",
       "      <g class=\"primitive\">\n",
       "        <text text-anchor=\"end\" dy=\"0.35em\">50</text>\n",
       "      </g>\n",
       "    </g>\n",
       "  </g>\n",
       "</g>\n",
       "<defs>\n",
       "  <clipPath id=\"img-57557a9a-13\">\n",
       "    <path d=\"M10.35,5 L129.46,5 129.46,86.04 10.35,86.04 \" />\n",
       "  </clipPath>\n",
       "</defs>\n",
       "</svg>\n"
      ],
      "text/html": [
       "<?xml version=\"1.0\" encoding=\"UTF-8\"?>\n",
       "<svg xmlns=\"http://www.w3.org/2000/svg\"\n",
       "     xmlns:xlink=\"http://www.w3.org/1999/xlink\"\n",
       "     xmlns:gadfly=\"http://www.gadflyjl.org/ns\"\n",
       "     version=\"1.2\"\n",
       "     width=\"141.42mm\" height=\"100mm\" viewBox=\"0 0 141.42 100\"\n",
       "     stroke=\"none\"\n",
       "     fill=\"#000000\"\n",
       "     stroke-width=\"0.3\"\n",
       "     font-size=\"3.88\"\n",
       ">\n",
       "<defs>\n",
       "  <marker id=\"arrow\" markerWidth=\"15\" markerHeight=\"7\" refX=\"5\" refY=\"3.5\" orient=\"auto\" markerUnits=\"strokeWidth\">\n",
       "    <path d=\"M0,0 L15,3.5 L0,7 z\" stroke=\"context-stroke\" fill=\"context-stroke\"/>\n",
       "  </marker>\n",
       "</defs>\n",
       "<g stroke=\"#000000\" stroke-opacity=\"0.000\" fill=\"#FFFFFF\" id=\"img-9623747d-1\">\n",
       "  <g transform=\"translate(70.71,50)\">\n",
       "    <path d=\"M-70.71,-50 L70.71,-50 70.71,50 -70.71,50  z\" class=\"primitive\"/>\n",
       "  </g>\n",
       "</g>\n",
       "<g class=\"plotroot xscalable yscalable\" id=\"img-9623747d-2\">\n",
       "  <g font-size=\"3.53\" font-family=\"'PT Sans','Helvetica Neue','Helvetica',sans-serif\" fill=\"#564A55\" stroke=\"#000000\" stroke-opacity=\"0.000\" id=\"img-9623747d-3\">\n",
       "    <g transform=\"translate(69.9,93.72)\">\n",
       "      <g class=\"primitive\">\n",
       "        <text text-anchor=\"middle\" dy=\"0.6em\">t</text>\n",
       "      </g>\n",
       "    </g>\n",
       "  </g>\n",
       "  <g class=\"guide xlabels\" font-size=\"2.82\" font-family=\"'PT Sans Caption','Helvetica Neue','Helvetica',sans-serif\" fill=\"#6C606B\" id=\"img-9623747d-4\">\n",
       "    <g transform=\"translate(12.35,87.04)\">\n",
       "      <g class=\"primitive\">\n",
       "        <text text-anchor=\"middle\" dy=\"0.6em\">0</text>\n",
       "      </g>\n",
       "    </g>\n",
       "    <g transform=\"translate(41.13,87.04)\">\n",
       "      <g class=\"primitive\">\n",
       "        <text text-anchor=\"middle\" dy=\"0.6em\">5</text>\n",
       "      </g>\n",
       "    </g>\n",
       "    <g transform=\"translate(69.9,87.04)\">\n",
       "      <g class=\"primitive\">\n",
       "        <text text-anchor=\"middle\" dy=\"0.6em\">10</text>\n",
       "      </g>\n",
       "    </g>\n",
       "    <g transform=\"translate(98.68,87.04)\">\n",
       "      <g class=\"primitive\">\n",
       "        <text text-anchor=\"middle\" dy=\"0.6em\">15</text>\n",
       "      </g>\n",
       "    </g>\n",
       "    <g transform=\"translate(127.46,87.04)\">\n",
       "      <g class=\"primitive\">\n",
       "        <text text-anchor=\"middle\" dy=\"0.6em\">20</text>\n",
       "      </g>\n",
       "    </g>\n",
       "  </g>\n",
       "  <g class=\"guide colorkey\" id=\"img-9623747d-5\">\n",
       "    <g fill=\"#4C404B\" font-size=\"2.82\" font-family=\"'PT Sans','Helvetica Neue','Helvetica',sans-serif\" id=\"img-9623747d-6\">\n",
       "      <g transform=\"translate(134.09,47.75)\" id=\"img-9623747d-7\">\n",
       "        <g class=\"primitive\">\n",
       "          <text dy=\"0.35em\">W</text>\n",
       "        </g>\n",
       "      </g>\n",
       "    </g>\n",
       "    <g stroke-width=\"0.3\" id=\"img-9623747d-8\">\n",
       "      <g stroke=\"#FFFFFF\" stroke-opacity=\"0.000\" fill-opacity=\"1\" fill=\"#00BFFF\" id=\"img-9623747d-9\">\n",
       "        <g transform=\"translate(131.27,47.75)\" id=\"img-9623747d-10\">\n",
       "          <circle cx=\"0\" cy=\"0\" r=\"0.7\" class=\"primitive\"/>\n",
       "        </g>\n",
       "      </g>\n",
       "    </g>\n",
       "    <g fill=\"#362A35\" font-size=\"3.18\" font-family=\"'PT Sans','Helvetica Neue','Helvetica',sans-serif\" stroke=\"#000000\" stroke-opacity=\"0.000\" id=\"img-9623747d-11\">\n",
       "      <g transform=\"translate(130.46,44.44)\" id=\"img-9623747d-12\">\n",
       "        <g class=\"primitive\">\n",
       "          <text dy=\"-0em\"></text>\n",
       "        </g>\n",
       "      </g>\n",
       "    </g>\n",
       "  </g>\n",
       "  <g clip-path=\"url(#img-9623747d-13)\">\n",
       "    <g id=\"img-9623747d-14\">\n",
       "      <g pointer-events=\"visible\" stroke-width=\"0.3\" fill=\"#000000\" fill-opacity=\"0.000\" stroke=\"#000000\" stroke-opacity=\"0.000\" class=\"guide background\" id=\"img-9623747d-15\">\n",
       "        <g transform=\"translate(69.9,45.52)\" id=\"img-9623747d-16\">\n",
       "          <path d=\"M-59.56,-40.52 L59.56,-40.52 59.56,40.52 -59.56,40.52  z\" class=\"primitive\"/>\n",
       "        </g>\n",
       "      </g>\n",
       "      <g class=\"guide ygridlines xfixed\" stroke-dasharray=\"0.5,0.5\" stroke-width=\"0.2\" stroke=\"#D0D0E0\" id=\"img-9623747d-17\">\n",
       "        <g transform=\"translate(69.9,45.52)\" id=\"img-9623747d-18\">\n",
       "          <path fill=\"none\" d=\"M-59.56,0 L59.56,0 \" class=\"primitive\"/>\n",
       "        </g>\n",
       "      </g>\n",
       "      <g class=\"guide xgridlines yfixed\" stroke-dasharray=\"0.5,0.5\" stroke-width=\"0.2\" stroke=\"#D0D0E0\" id=\"img-9623747d-19\">\n",
       "        <g transform=\"translate(12.35,45.52)\" id=\"img-9623747d-20\">\n",
       "          <path fill=\"none\" d=\"M0,-40.52 L0,40.52 \" class=\"primitive\"/>\n",
       "        </g>\n",
       "        <g transform=\"translate(41.13,45.52)\" id=\"img-9623747d-21\">\n",
       "          <path fill=\"none\" d=\"M0,-40.52 L0,40.52 \" class=\"primitive\"/>\n",
       "        </g>\n",
       "        <g transform=\"translate(69.9,45.52)\" id=\"img-9623747d-22\">\n",
       "          <path fill=\"none\" d=\"M0,-40.52 L0,40.52 \" class=\"primitive\"/>\n",
       "        </g>\n",
       "        <g transform=\"translate(98.68,45.52)\" id=\"img-9623747d-23\">\n",
       "          <path fill=\"none\" d=\"M0,-40.52 L0,40.52 \" class=\"primitive\"/>\n",
       "        </g>\n",
       "        <g transform=\"translate(127.46,45.52)\" id=\"img-9623747d-24\">\n",
       "          <path fill=\"none\" d=\"M0,-40.52 L0,40.52 \" class=\"primitive\"/>\n",
       "        </g>\n",
       "      </g>\n",
       "      <g class=\"plotpanel\" id=\"img-9623747d-25\">\n",
       "        <metadata>\n",
       "          <boundingbox value=\"10.346666666666664mm 5.0mm 119.11468957064285mm 81.04333333333334mm\"/>\n",
       "          <unitbox value=\"-0.3474795453924502 101.54402284428676 20.694959090784902 -103.08804568857353\"/>\n",
       "        </metadata>\n",
       "        <g stroke-width=\"0.3\" fill=\"#000000\" fill-opacity=\"0.000\" class=\"geometry\" id=\"img-9623747d-26\">\n",
       "          <g class=\"color_LCHab{Float32}(70.0f0,60.0f0,240.0f0)\" stroke-dasharray=\"none\" stroke-opacity=\"1\" stroke=\"#00BFFF\" id=\"img-9623747d-27\">\n",
       "            <g transform=\"translate(69.9,24.57)\" id=\"img-9623747d-28\">\n",
       "              <path fill=\"none\" d=\"M-57.56,59.47 L-51.8,43.9 -46.05,31.45 -40.29,21.49 -34.53,13.52 -28.78,7.14 -23.02,2.04 -17.27,-2.04 -11.51,-5.3 -5.76,-7.91 0,-10 5.76,-11.67 11.51,-13.01 17.27,-14.08 23.02,-14.94 28.78,-15.62 34.53,-16.17 40.29,-16.61 46.05,-16.96 51.8,-17.24 57.56,-17.46 \" class=\"primitive\"/>\n",
       "            </g>\n",
       "          </g>\n",
       "        </g>\n",
       "      </g>\n",
       "    </g>\n",
       "  </g>\n",
       "  <g class=\"guide ylabels\" font-size=\"2.82\" font-family=\"'PT Sans Caption','Helvetica Neue','Helvetica',sans-serif\" fill=\"#6C606B\" id=\"img-9623747d-29\">\n",
       "    <g transform=\"translate(9.35,45.52)\" id=\"img-9623747d-30\">\n",
       "      <g class=\"primitive\">\n",
       "        <text text-anchor=\"end\" dy=\"0.35em\">50</text>\n",
       "      </g>\n",
       "    </g>\n",
       "  </g>\n",
       "</g>\n",
       "<defs>\n",
       "  <clipPath id=\"img-9623747d-13\">\n",
       "    <path d=\"M10.35,5 L129.46,5 129.46,86.04 10.35,86.04 \" />\n",
       "  </clipPath>\n",
       "</defs>\n",
       "</svg>\n"
      ],
      "text/plain": [
       "\"<Cropbox.Plot{Gadfly.Plot}>\""
      ]
     },
     "execution_count": 21,
     "metadata": {},
     "output_type": "execute_result"
    }
   ],
   "source": [
    "visualize(r12, :t, :W, kind = :line)"
   ]
  },
  {
   "cell_type": "code",
   "execution_count": 22,
   "metadata": {
    "tags": []
   },
   "outputs": [
    {
     "data": {
      "application/vnd.webio.node+json": {
       "children": [
        {
         "children": [
          "Mono"
         ],
         "instanceArgs": {
          "namespace": "html",
          "tag": "div"
         },
         "nodeType": "DOM",
         "props": {
          "style": {
           "color": "rebeccapurple",
           "font-family": "monospace"
          }
         },
         "type": "node"
        },
        {
         "children": [
          {
           "children": [
            {
             "children": [
              {
               "children": [
                {
                 "children": [
                  "k"
                 ],
                 "instanceArgs": {
                  "namespace": "html",
                  "tag": "label"
                 },
                 "nodeType": "DOM",
                 "props": {
                  "className": "interact ",
                  "style": {
                   "color": "royalblue",
                   "padding": "5px 10px 0px 10px",
                   "white-space": "nowrap"
                  }
                 },
                 "type": "node"
                }
               ],
               "instanceArgs": {
                "namespace": "html",
                "tag": "div"
               },
               "nodeType": "DOM",
               "props": {
                "className": "interact-flex-row-left"
               },
               "type": "node"
              },
              {
               "children": [
                {
                 "children": [],
                 "instanceArgs": {
                  "namespace": "html",
                  "tag": "input"
                 },
                 "nodeType": "DOM",
                 "props": {
                  "attributes": {
                   "data-bind": "numericValue: index, valueUpdate: 'input', event: {change: function (){this.changes(this.changes()+1)}}",
                   "orient": "horizontal",
                   "type": "range"
                  },
                  "className": "slider slider is-fullwidth",
                  "max": 51,
                  "min": 1,
                  "step": 1,
                  "style": {}
                 },
                 "type": "node"
                }
               ],
               "instanceArgs": {
                "namespace": "html",
                "tag": "div"
               },
               "nodeType": "DOM",
               "props": {
                "className": "interact-flex-row-center"
               },
               "type": "node"
              },
              {
               "children": [
                {
                 "children": [],
                 "instanceArgs": {
                  "namespace": "html",
                  "tag": "p"
                 },
                 "nodeType": "DOM",
                 "props": {
                  "attributes": {
                   "data-bind": "text: formatted_val"
                  }
                 },
                 "type": "node"
                }
               ],
               "instanceArgs": {
                "namespace": "html",
                "tag": "div"
               },
               "nodeType": "DOM",
               "props": {
                "className": "interact-flex-row-right"
               },
               "type": "node"
              }
             ],
             "instanceArgs": {
              "namespace": "html",
              "tag": "div"
             },
             "nodeType": "DOM",
             "props": {
              "className": "interact-flex-row interact-widget",
              "style": {
               "font-family": "monospace",
               "width": "80%"
              }
             },
             "type": "node"
            }
           ],
           "instanceArgs": {
            "handlers": {
             "changes": [
              "(function (val){return (val!=this.model[\"changes\"]()) ? (this.valueFromJulia[\"changes\"]=true, this.model[\"changes\"](val)) : undefined})"
             ],
             "index": [
              "(function (val){return (val!=this.model[\"index\"]()) ? (this.valueFromJulia[\"index\"]=true, this.model[\"index\"](val)) : undefined})"
             ]
            },
            "id": "12203114021784563749",
            "imports": {
             "data": [
              {
               "name": "knockout",
               "type": "js",
               "url": "/assetserver/d749de49a15576291e39755d819be2408bf7f995-knockout.js"
              },
              {
               "name": "knockout_punches",
               "type": "js",
               "url": "/assetserver/9f5c86158cf79faf331cfb32636cb08a9b1f0dc2-knockout_punches.js"
              },
              {
               "name": null,
               "type": "js",
               "url": "/assetserver/96a65e6078e018eef9bba5cd6ed02b2635164c53-all.js"
              },
              {
               "name": null,
               "type": "css",
               "url": "/assetserver/98c9b8e9cfeaa0be2a6f3aa79abc5da0680c3037-style.css"
              },
              {
               "name": null,
               "type": "css",
               "url": "/assetserver/c5a1211d10b2f10049d85486a98c5e9063cad849-bulma_confined.min.css"
              }
             ],
             "type": "async_block"
            },
            "mount_callbacks": [
             "function () {\n    var handler = (function (ko, koPunches) {\n    ko.punches.enableAll();\n    ko.bindingHandlers.numericValue = {\n        init: function(element, valueAccessor, allBindings, data, context) {\n            var stringified = ko.observable(ko.unwrap(valueAccessor()));\n            stringified.subscribe(function(value) {\n                var val = parseFloat(value);\n                if (!isNaN(val)) {\n                    valueAccessor()(val);\n                }\n            });\n            valueAccessor().subscribe(function(value) {\n                var str = JSON.stringify(value);\n                if ((str == \"0\") && ([\"-0\", \"-0.\"].indexOf(stringified()) >= 0))\n                     return;\n                 if ([\"null\", \"\"].indexOf(str) >= 0)\n                     return;\n                stringified(str);\n            });\n            ko.applyBindingsToNode(\n                element,\n                {\n                    value: stringified,\n                    valueUpdate: allBindings.get('valueUpdate'),\n                },\n                context,\n            );\n        }\n    };\n    var json_data = {\"formatted_vals\":[\"0.0\",\"0.01\",\"0.02\",\"0.03\",\"0.04\",\"0.05\",\"0.06\",\"0.07\",\"0.08\",\"0.09\",\"0.1\",\"0.11\",\"0.12\",\"0.13\",\"0.14\",\"0.15\",\"0.16\",\"0.17\",\"0.18\",\"0.19\",\"0.2\",\"0.21\",\"0.22\",\"0.23\",\"0.24\",\"0.25\",\"0.26\",\"0.27\",\"0.28\",\"0.29\",\"0.3\",\"0.31\",\"0.32\",\"0.33\",\"0.34\",\"0.35\",\"0.36\",\"0.37\",\"0.38\",\"0.39\",\"0.4\",\"0.41\",\"0.42\",\"0.43\",\"0.44\",\"0.45\",\"0.46\",\"0.47\",\"0.48\",\"0.49\",\"0.5\"],\"changes\":WebIO.getval({\"name\":\"changes\",\"scope\":\"12203114021784563749\",\"id\":\"317692348598560463\",\"type\":\"observable\"}),\"index\":WebIO.getval({\"name\":\"index\",\"scope\":\"12203114021784563749\",\"id\":\"15772704696651355713\",\"type\":\"observable\"})};\n    var self = this;\n    function AppViewModel() {\n        for (var key in json_data) {\n            var el = json_data[key];\n            this[key] = Array.isArray(el) ? ko.observableArray(el) : ko.observable(el);\n        }\n        \n        [this[\"formatted_val\"]=ko.computed(    function(){\n        return this.formatted_vals()[parseInt(this.index())-(1)];\n    }\n,this)]\n        [this[\"changes\"].subscribe((function (val){!(this.valueFromJulia[\"changes\"]) ? (WebIO.setval({\"name\":\"changes\",\"scope\":\"12203114021784563749\",\"id\":\"317692348598560463\",\"type\":\"observable\"},val)) : undefined; return this.valueFromJulia[\"changes\"]=false}),self),this[\"index\"].subscribe((function (val){!(this.valueFromJulia[\"index\"]) ? (WebIO.setval({\"name\":\"index\",\"scope\":\"12203114021784563749\",\"id\":\"15772704696651355713\",\"type\":\"observable\"},val)) : undefined; return this.valueFromJulia[\"index\"]=false}),self)]\n        \n    }\n    self.model = new AppViewModel();\n    self.valueFromJulia = {};\n    for (var key in json_data) {\n        self.valueFromJulia[key] = false;\n    }\n    ko.applyBindings(self.model, self.dom);\n}\n);\n    (WebIO.importBlock({\"data\":[{\"name\":\"knockout\",\"type\":\"js\",\"url\":\"/assetserver/d749de49a15576291e39755d819be2408bf7f995-knockout.js\"},{\"name\":\"knockout_punches\",\"type\":\"js\",\"url\":\"/assetserver/9f5c86158cf79faf331cfb32636cb08a9b1f0dc2-knockout_punches.js\"}],\"type\":\"async_block\"})).then((imports) => handler.apply(this, imports));\n}\n"
            ],
            "observables": {
             "changes": {
              "id": "317692348598560463",
              "sync": true,
              "value": 0
             },
             "index": {
              "id": "15772704696651355713",
              "sync": true,
              "value": 26
             }
            },
            "systemjs_options": null
           },
           "nodeType": "Scope",
           "props": {},
           "type": "node"
          }
         ],
         "instanceArgs": {
          "namespace": "html",
          "tag": "div"
         },
         "nodeType": "DOM",
         "props": {
          "className": "field interact-widget"
         },
         "type": "node"
        },
        {
         "children": [
          {
           "children": [
            {
             "children": [
              {
               "children": [
                {
                 "children": [
                  "W0"
                 ],
                 "instanceArgs": {
                  "namespace": "html",
                  "tag": "label"
                 },
                 "nodeType": "DOM",
                 "props": {
                  "className": "interact ",
                  "style": {
                   "color": "royalblue",
                   "padding": "5px 10px 0px 10px",
                   "white-space": "nowrap"
                  }
                 },
                 "type": "node"
                }
               ],
               "instanceArgs": {
                "namespace": "html",
                "tag": "div"
               },
               "nodeType": "DOM",
               "props": {
                "className": "interact-flex-row-left"
               },
               "type": "node"
              },
              {
               "children": [
                {
                 "children": [],
                 "instanceArgs": {
                  "namespace": "html",
                  "tag": "input"
                 },
                 "nodeType": "DOM",
                 "props": {
                  "attributes": {
                   "data-bind": "numericValue: index, valueUpdate: 'input', event: {change: function (){this.changes(this.changes()+1)}}",
                   "orient": "horizontal",
                   "type": "range"
                  },
                  "className": "slider slider is-fullwidth",
                  "max": 101,
                  "min": 1,
                  "step": 1,
                  "style": {}
                 },
                 "type": "node"
                }
               ],
               "instanceArgs": {
                "namespace": "html",
                "tag": "div"
               },
               "nodeType": "DOM",
               "props": {
                "className": "interact-flex-row-center"
               },
               "type": "node"
              },
              {
               "children": [
                {
                 "children": [],
                 "instanceArgs": {
                  "namespace": "html",
                  "tag": "p"
                 },
                 "nodeType": "DOM",
                 "props": {
                  "attributes": {
                   "data-bind": "text: formatted_val"
                  }
                 },
                 "type": "node"
                }
               ],
               "instanceArgs": {
                "namespace": "html",
                "tag": "div"
               },
               "nodeType": "DOM",
               "props": {
                "className": "interact-flex-row-right"
               },
               "type": "node"
              }
             ],
             "instanceArgs": {
              "namespace": "html",
              "tag": "div"
             },
             "nodeType": "DOM",
             "props": {
              "className": "interact-flex-row interact-widget",
              "style": {
               "font-family": "monospace",
               "width": "80%"
              }
             },
             "type": "node"
            }
           ],
           "instanceArgs": {
            "handlers": {
             "changes": [
              "(function (val){return (val!=this.model[\"changes\"]()) ? (this.valueFromJulia[\"changes\"]=true, this.model[\"changes\"](val)) : undefined})"
             ],
             "index": [
              "(function (val){return (val!=this.model[\"index\"]()) ? (this.valueFromJulia[\"index\"]=true, this.model[\"index\"](val)) : undefined})"
             ]
            },
            "id": "12037821930443123817",
            "imports": {
             "data": [
              {
               "name": "knockout",
               "type": "js",
               "url": "/assetserver/d749de49a15576291e39755d819be2408bf7f995-knockout.js"
              },
              {
               "name": "knockout_punches",
               "type": "js",
               "url": "/assetserver/9f5c86158cf79faf331cfb32636cb08a9b1f0dc2-knockout_punches.js"
              },
              {
               "name": null,
               "type": "js",
               "url": "/assetserver/96a65e6078e018eef9bba5cd6ed02b2635164c53-all.js"
              },
              {
               "name": null,
               "type": "css",
               "url": "/assetserver/98c9b8e9cfeaa0be2a6f3aa79abc5da0680c3037-style.css"
              },
              {
               "name": null,
               "type": "css",
               "url": "/assetserver/c5a1211d10b2f10049d85486a98c5e9063cad849-bulma_confined.min.css"
              }
             ],
             "type": "async_block"
            },
            "mount_callbacks": [
             "function () {\n    var handler = (function (ko, koPunches) {\n    ko.punches.enableAll();\n    ko.bindingHandlers.numericValue = {\n        init: function(element, valueAccessor, allBindings, data, context) {\n            var stringified = ko.observable(ko.unwrap(valueAccessor()));\n            stringified.subscribe(function(value) {\n                var val = parseFloat(value);\n                if (!isNaN(val)) {\n                    valueAccessor()(val);\n                }\n            });\n            valueAccessor().subscribe(function(value) {\n                var str = JSON.stringify(value);\n                if ((str == \"0\") && ([\"-0\", \"-0.\"].indexOf(stringified()) >= 0))\n                     return;\n                 if ([\"null\", \"\"].indexOf(str) >= 0)\n                     return;\n                stringified(str);\n            });\n            ko.applyBindingsToNode(\n                element,\n                {\n                    value: stringified,\n                    valueUpdate: allBindings.get('valueUpdate'),\n                },\n                context,\n            );\n        }\n    };\n    var json_data = {\"formatted_vals\":[\"0.0\",\"0.1\",\"0.2\",\"0.3\",\"0.4\",\"0.5\",\"0.6\",\"0.7\",\"0.8\",\"0.9\",\"1.0\",\"1.1\",\"1.2\",\"1.3\",\"1.4\",\"1.5\",\"1.6\",\"1.7\",\"1.8\",\"1.9\",\"2.0\",\"2.1\",\"2.2\",\"2.3\",\"2.4\",\"2.5\",\"2.6\",\"2.7\",\"2.8\",\"2.9\",\"3.0\",\"3.1\",\"3.2\",\"3.3\",\"3.4\",\"3.5\",\"3.6\",\"3.7\",\"3.8\",\"3.9\",\"4.0\",\"4.1\",\"4.2\",\"4.3\",\"4.4\",\"4.5\",\"4.6\",\"4.7\",\"4.8\",\"4.9\",\"5.0\",\"5.1\",\"5.2\",\"5.3\",\"5.4\",\"5.5\",\"5.6\",\"5.7\",\"5.8\",\"5.9\",\"6.0\",\"6.1\",\"6.2\",\"6.3\",\"6.4\",\"6.5\",\"6.6\",\"6.7\",\"6.8\",\"6.9\",\"7.0\",\"7.1\",\"7.2\",\"7.3\",\"7.4\",\"7.5\",\"7.6\",\"7.7\",\"7.8\",\"7.9\",\"8.0\",\"8.1\",\"8.2\",\"8.3\",\"8.4\",\"8.5\",\"8.6\",\"8.7\",\"8.8\",\"8.9\",\"9.0\",\"9.1\",\"9.2\",\"9.3\",\"9.4\",\"9.5\",\"9.6\",\"9.7\",\"9.8\",\"9.9\",\"10.0\"],\"changes\":WebIO.getval({\"name\":\"changes\",\"scope\":\"12037821930443123817\",\"id\":\"7470520918070639021\",\"type\":\"observable\"}),\"index\":WebIO.getval({\"name\":\"index\",\"scope\":\"12037821930443123817\",\"id\":\"11464433054547962239\",\"type\":\"observable\"})};\n    var self = this;\n    function AppViewModel() {\n        for (var key in json_data) {\n            var el = json_data[key];\n            this[key] = Array.isArray(el) ? ko.observableArray(el) : ko.observable(el);\n        }\n        \n        [this[\"formatted_val\"]=ko.computed(    function(){\n        return this.formatted_vals()[parseInt(this.index())-(1)];\n    }\n,this)]\n        [this[\"changes\"].subscribe((function (val){!(this.valueFromJulia[\"changes\"]) ? (WebIO.setval({\"name\":\"changes\",\"scope\":\"12037821930443123817\",\"id\":\"7470520918070639021\",\"type\":\"observable\"},val)) : undefined; return this.valueFromJulia[\"changes\"]=false}),self),this[\"index\"].subscribe((function (val){!(this.valueFromJulia[\"index\"]) ? (WebIO.setval({\"name\":\"index\",\"scope\":\"12037821930443123817\",\"id\":\"11464433054547962239\",\"type\":\"observable\"},val)) : undefined; return this.valueFromJulia[\"index\"]=false}),self)]\n        \n    }\n    self.model = new AppViewModel();\n    self.valueFromJulia = {};\n    for (var key in json_data) {\n        self.valueFromJulia[key] = false;\n    }\n    ko.applyBindings(self.model, self.dom);\n}\n);\n    (WebIO.importBlock({\"data\":[{\"name\":\"knockout\",\"type\":\"js\",\"url\":\"/assetserver/d749de49a15576291e39755d819be2408bf7f995-knockout.js\"},{\"name\":\"knockout_punches\",\"type\":\"js\",\"url\":\"/assetserver/9f5c86158cf79faf331cfb32636cb08a9b1f0dc2-knockout_punches.js\"}],\"type\":\"async_block\"})).then((imports) => handler.apply(this, imports));\n}\n"
            ],
            "observables": {
             "changes": {
              "id": "7470520918070639021",
              "sync": true,
              "value": 0
             },
             "index": {
              "id": "11464433054547962239",
              "sync": true,
              "value": 51
             }
            },
            "systemjs_options": null
           },
           "nodeType": "Scope",
           "props": {},
           "type": "node"
          }
         ],
         "instanceArgs": {
          "namespace": "html",
          "tag": "div"
         },
         "nodeType": "DOM",
         "props": {
          "className": "field interact-widget"
         },
         "type": "node"
        },
        {
         "children": [
          {
           "children": [
            {
             "children": [
              {
               "children": [
                {
                 "children": [
                  "Wf"
                 ],
                 "instanceArgs": {
                  "namespace": "html",
                  "tag": "label"
                 },
                 "nodeType": "DOM",
                 "props": {
                  "className": "interact ",
                  "style": {
                   "color": "royalblue",
                   "padding": "5px 10px 0px 10px",
                   "white-space": "nowrap"
                  }
                 },
                 "type": "node"
                }
               ],
               "instanceArgs": {
                "namespace": "html",
                "tag": "div"
               },
               "nodeType": "DOM",
               "props": {
                "className": "interact-flex-row-left"
               },
               "type": "node"
              },
              {
               "children": [
                {
                 "children": [],
                 "instanceArgs": {
                  "namespace": "html",
                  "tag": "input"
                 },
                 "nodeType": "DOM",
                 "props": {
                  "attributes": {
                   "data-bind": "numericValue: index, valueUpdate: 'input', event: {change: function (){this.changes(this.changes()+1)}}",
                   "orient": "horizontal",
                   "type": "range"
                  },
                  "className": "slider slider is-fullwidth",
                  "max": 20,
                  "min": 1,
                  "step": 1,
                  "style": {}
                 },
                 "type": "node"
                }
               ],
               "instanceArgs": {
                "namespace": "html",
                "tag": "div"
               },
               "nodeType": "DOM",
               "props": {
                "className": "interact-flex-row-center"
               },
               "type": "node"
              },
              {
               "children": [
                {
                 "children": [],
                 "instanceArgs": {
                  "namespace": "html",
                  "tag": "p"
                 },
                 "nodeType": "DOM",
                 "props": {
                  "attributes": {
                   "data-bind": "text: formatted_val"
                  }
                 },
                 "type": "node"
                }
               ],
               "instanceArgs": {
                "namespace": "html",
                "tag": "div"
               },
               "nodeType": "DOM",
               "props": {
                "className": "interact-flex-row-right"
               },
               "type": "node"
              }
             ],
             "instanceArgs": {
              "namespace": "html",
              "tag": "div"
             },
             "nodeType": "DOM",
             "props": {
              "className": "interact-flex-row interact-widget",
              "style": {
               "font-family": "monospace",
               "width": "80%"
              }
             },
             "type": "node"
            }
           ],
           "instanceArgs": {
            "handlers": {
             "changes": [
              "(function (val){return (val!=this.model[\"changes\"]()) ? (this.valueFromJulia[\"changes\"]=true, this.model[\"changes\"](val)) : undefined})"
             ],
             "index": [
              "(function (val){return (val!=this.model[\"index\"]()) ? (this.valueFromJulia[\"index\"]=true, this.model[\"index\"](val)) : undefined})"
             ]
            },
            "id": "14802725600465107276",
            "imports": {
             "data": [
              {
               "name": "knockout",
               "type": "js",
               "url": "/assetserver/d749de49a15576291e39755d819be2408bf7f995-knockout.js"
              },
              {
               "name": "knockout_punches",
               "type": "js",
               "url": "/assetserver/9f5c86158cf79faf331cfb32636cb08a9b1f0dc2-knockout_punches.js"
              },
              {
               "name": null,
               "type": "js",
               "url": "/assetserver/96a65e6078e018eef9bba5cd6ed02b2635164c53-all.js"
              },
              {
               "name": null,
               "type": "css",
               "url": "/assetserver/98c9b8e9cfeaa0be2a6f3aa79abc5da0680c3037-style.css"
              },
              {
               "name": null,
               "type": "css",
               "url": "/assetserver/c5a1211d10b2f10049d85486a98c5e9063cad849-bulma_confined.min.css"
              }
             ],
             "type": "async_block"
            },
            "mount_callbacks": [
             "function () {\n    var handler = (function (ko, koPunches) {\n    ko.punches.enableAll();\n    ko.bindingHandlers.numericValue = {\n        init: function(element, valueAccessor, allBindings, data, context) {\n            var stringified = ko.observable(ko.unwrap(valueAccessor()));\n            stringified.subscribe(function(value) {\n                var val = parseFloat(value);\n                if (!isNaN(val)) {\n                    valueAccessor()(val);\n                }\n            });\n            valueAccessor().subscribe(function(value) {\n                var str = JSON.stringify(value);\n                if ((str == \"0\") && ([\"-0\", \"-0.\"].indexOf(stringified()) >= 0))\n                     return;\n                 if ([\"null\", \"\"].indexOf(str) >= 0)\n                     return;\n                stringified(str);\n            });\n            ko.applyBindingsToNode(\n                element,\n                {\n                    value: stringified,\n                    valueUpdate: allBindings.get('valueUpdate'),\n                },\n                context,\n            );\n        }\n    };\n    var json_data = {\"formatted_vals\":[\"10\",\"20\",\"30\",\"40\",\"50\",\"60\",\"70\",\"80\",\"90\",\"100\",\"110\",\"120\",\"130\",\"140\",\"150\",\"160\",\"170\",\"180\",\"190\",\"200\"],\"changes\":WebIO.getval({\"name\":\"changes\",\"scope\":\"14802725600465107276\",\"id\":\"4446353287741361030\",\"type\":\"observable\"}),\"index\":WebIO.getval({\"name\":\"index\",\"scope\":\"14802725600465107276\",\"id\":\"12429458308611016213\",\"type\":\"observable\"})};\n    var self = this;\n    function AppViewModel() {\n        for (var key in json_data) {\n            var el = json_data[key];\n            this[key] = Array.isArray(el) ? ko.observableArray(el) : ko.observable(el);\n        }\n        \n        [this[\"formatted_val\"]=ko.computed(    function(){\n        return this.formatted_vals()[parseInt(this.index())-(1)];\n    }\n,this)]\n        [this[\"changes\"].subscribe((function (val){!(this.valueFromJulia[\"changes\"]) ? (WebIO.setval({\"name\":\"changes\",\"scope\":\"14802725600465107276\",\"id\":\"4446353287741361030\",\"type\":\"observable\"},val)) : undefined; return this.valueFromJulia[\"changes\"]=false}),self),this[\"index\"].subscribe((function (val){!(this.valueFromJulia[\"index\"]) ? (WebIO.setval({\"name\":\"index\",\"scope\":\"14802725600465107276\",\"id\":\"12429458308611016213\",\"type\":\"observable\"},val)) : undefined; return this.valueFromJulia[\"index\"]=false}),self)]\n        \n    }\n    self.model = new AppViewModel();\n    self.valueFromJulia = {};\n    for (var key in json_data) {\n        self.valueFromJulia[key] = false;\n    }\n    ko.applyBindings(self.model, self.dom);\n}\n);\n    (WebIO.importBlock({\"data\":[{\"name\":\"knockout\",\"type\":\"js\",\"url\":\"/assetserver/d749de49a15576291e39755d819be2408bf7f995-knockout.js\"},{\"name\":\"knockout_punches\",\"type\":\"js\",\"url\":\"/assetserver/9f5c86158cf79faf331cfb32636cb08a9b1f0dc2-knockout_punches.js\"}],\"type\":\"async_block\"})).then((imports) => handler.apply(this, imports));\n}\n"
            ],
            "observables": {
             "changes": {
              "id": "4446353287741361030",
              "sync": true,
              "value": 0
             },
             "index": {
              "id": "12429458308611016213",
              "sync": true,
              "value": 10
             }
            },
            "systemjs_options": null
           },
           "nodeType": "Scope",
           "props": {},
           "type": "node"
          }
         ],
         "instanceArgs": {
          "namespace": "html",
          "tag": "div"
         },
         "nodeType": "DOM",
         "props": {
          "className": "field interact-widget"
         },
         "type": "node"
        },
        {
         "children": [
          {
           "children": [],
           "instanceArgs": {
            "namespace": "html",
            "tag": "div"
           },
           "nodeType": "DOM",
           "props": {
            "className": "webio-observable",
            "setInnerHtml": "<?xml version=\"1.0\" encoding=\"UTF-8\"?>\n<svg xmlns=\"http://www.w3.org/2000/svg\"\n     xmlns:xlink=\"http://www.w3.org/1999/xlink\"\n     xmlns:gadfly=\"http://www.gadflyjl.org/ns\"\n     version=\"1.2\"\n     width=\"141.42mm\" height=\"100mm\" viewBox=\"0 0 141.42 100\"\n     stroke=\"none\"\n     fill=\"#000000\"\n     stroke-width=\"0.3\"\n     font-size=\"3.88\"\n>\n<defs>\n  <marker id=\"arrow\" markerWidth=\"15\" markerHeight=\"7\" refX=\"5\" refY=\"3.5\" orient=\"auto\" markerUnits=\"strokeWidth\">\n    <path d=\"M0,0 L15,3.5 L0,7 z\" stroke=\"context-stroke\" fill=\"context-stroke\"/>\n  </marker>\n</defs>\n<g stroke=\"#000000\" stroke-opacity=\"0.000\" fill=\"#FFFFFF\" id=\"img-e3fd6d88-1\">\n  <g transform=\"translate(70.71,50)\">\n    <path d=\"M-70.71,-50 L70.71,-50 70.71,50 -70.71,50  z\" class=\"primitive\"/>\n  </g>\n</g>\n<g class=\"plotroot xscalable yscalable\" id=\"img-e3fd6d88-2\">\n  <g font-size=\"3.53\" font-family=\"'PT Sans','Helvetica Neue','Helvetica',sans-serif\" fill=\"#564A55\" stroke=\"#000000\" stroke-opacity=\"0.000\" id=\"img-e3fd6d88-3\">\n    <g transform=\"translate(77.68,93.72)\">\n      <g class=\"primitive\">\n        <text text-anchor=\"middle\" dy=\"0.6em\">t</text>\n      </g>\n    </g>\n  </g>\n  <g class=\"guide xlabels\" font-size=\"2.82\" font-family=\"'PT Sans Caption','Helvetica Neue','Helvetica',sans-serif\" fill=\"#6C606B\" id=\"img-e3fd6d88-4\">\n    <g transform=\"translate(20.94,87.04)\">\n      <g class=\"primitive\">\n        <text text-anchor=\"middle\" dy=\"0.6em\">0</text>\n      </g>\n    </g>\n    <g transform=\"translate(77.68,87.04)\">\n      <g class=\"primitive\">\n        <text text-anchor=\"middle\" dy=\"0.6em\">50</text>\n      </g>\n    </g>\n    <g transform=\"translate(134.42,87.04)\">\n      <g class=\"primitive\">\n        <text text-anchor=\"middle\" dy=\"0.6em\">100</text>\n      </g>\n    </g>\n  </g>\n  <g clip-path=\"url(#img-e3fd6d88-5)\">\n    <g id=\"img-e3fd6d88-6\">\n      <g pointer-events=\"visible\" stroke-width=\"0.3\" fill=\"#000000\" fill-opacity=\"0.000\" stroke=\"#000000\" stroke-opacity=\"0.000\" class=\"guide background\" id=\"img-e3fd6d88-7\">\n        <g transform=\"translate(77.68,45.52)\" id=\"img-e3fd6d88-8\">\n          <path d=\"M-58.74,-40.52 L58.74,-40.52 58.74,40.52 -58.74,40.52  z\" class=\"primitive\"/>\n        </g>\n      </g>\n      <g class=\"guide ygridlines xfixed\" stroke-dasharray=\"0.5,0.5\" stroke-width=\"0.2\" stroke=\"#D0D0E0\" id=\"img-e3fd6d88-9\">\n        <g transform=\"translate(77.68,84.04)\" id=\"img-e3fd6d88-10\">\n          <path fill=\"none\" d=\"M-58.74,0 L58.74,0 \" class=\"primitive\"/>\n        </g>\n        <g transform=\"translate(77.68,64.78)\" id=\"img-e3fd6d88-11\">\n          <path fill=\"none\" d=\"M-58.74,0 L58.74,0 \" class=\"primitive\"/>\n        </g>\n        <g transform=\"translate(77.68,45.52)\" id=\"img-e3fd6d88-12\">\n          <path fill=\"none\" d=\"M-58.74,0 L58.74,0 \" class=\"primitive\"/>\n        </g>\n        <g transform=\"translate(77.68,26.26)\" id=\"img-e3fd6d88-13\">\n          <path fill=\"none\" d=\"M-58.74,0 L58.74,0 \" class=\"primitive\"/>\n        </g>\n        <g transform=\"translate(77.68,7)\" id=\"img-e3fd6d88-14\">\n          <path fill=\"none\" d=\"M-58.74,0 L58.74,0 \" class=\"primitive\"/>\n        </g>\n      </g>\n      <g class=\"guide xgridlines yfixed\" stroke-dasharray=\"0.5,0.5\" stroke-width=\"0.2\" stroke=\"#D0D0E0\" id=\"img-e3fd6d88-15\">\n        <g transform=\"translate(20.94,45.52)\" id=\"img-e3fd6d88-16\">\n          <path fill=\"none\" d=\"M0,-40.52 L0,40.52 \" class=\"primitive\"/>\n        </g>\n        <g transform=\"translate(77.68,45.52)\" id=\"img-e3fd6d88-17\">\n          <path fill=\"none\" d=\"M0,-40.52 L0,40.52 \" class=\"primitive\"/>\n        </g>\n        <g transform=\"translate(134.42,45.52)\" id=\"img-e3fd6d88-18\">\n          <path fill=\"none\" d=\"M0,-40.52 L0,40.52 \" class=\"primitive\"/>\n        </g>\n      </g>\n      <g class=\"plotpanel\" id=\"img-e3fd6d88-19\">\n        <metadata>\n          <boundingbox value=\"18.936666666666667mm 5.0mm 117.48468957064284mm 81.04333333333335mm\"/>\n          <unitbox value=\"-1.762352267576169 205.19188335568728 103.52470453515235 -210.38376671137456\"/>\n        </metadata>\n        <g stroke-width=\"0.3\" fill=\"#000000\" fill-opacity=\"0.000\" class=\"geometry\" id=\"img-e3fd6d88-20\">\n          <g class=\"color_LCHab{Float32}(70.0f0,60.0f0,240.0f0)\" stroke-dasharray=\"none\" stroke-opacity=\"1\" stroke=\"#00BFFF\" id=\"img-e3fd6d88-21\">\n            <g transform=\"translate(77.68,46.97)\" id=\"img-e3fd6d88-22\">\n              <path fill=\"none\" d=\"M-56.74,35.15 L-55.61,26 -54.47,19.14 -53.34,13.99 -52.2,10.13 -51.07,7.23 -49.93,5.06 -48.8,3.44 -47.66,2.21 -46.53,1.3 -45.39,0.61 -44.26,0.1 -43.12,-0.29 -41.99,-0.58 -40.85,-0.8 -39.72,-0.96 -38.58,-1.08 -37.45,-1.17 -36.32,-1.24 -35.18,-1.29 -34.05,-1.33 -32.91,-1.36 -31.78,-1.38 -30.64,-1.4 -29.51,-1.41 -28.37,-1.42 -27.24,-1.43 -26.1,-1.43 -24.97,-1.44 -23.83,-1.44 -22.7,-1.44 -21.56,-1.44 -20.43,-1.45 -19.29,-1.45 -18.16,-1.45 -17.02,-1.45 -15.89,-1.45 -14.75,-1.45 -13.62,-1.45 -12.48,-1.45 -11.35,-1.45 -10.21,-1.45 -9.08,-1.45 -7.94,-1.45 -6.81,-1.45 -5.67,-1.45 -4.54,-1.45 -3.4,-1.45 -2.27,-1.45 -1.13,-1.45 0,-1.45 1.13,-1.45 2.27,-1.45 3.4,-1.45 4.54,-1.45 5.67,-1.45 6.81,-1.45 7.94,-1.45 9.08,-1.45 10.21,-1.45 11.35,-1.45 12.48,-1.45 13.62,-1.45 14.75,-1.45 15.89,-1.45 17.02,-1.45 18.16,-1.45 19.29,-1.45 20.43,-1.45 21.56,-1.45 22.7,-1.45 23.83,-1.45 24.97,-1.45 26.1,-1.45 27.24,-1.45 28.37,-1.45 29.51,-1.45 30.64,-1.45 31.78,-1.45 32.91,-1.45 34.05,-1.45 35.18,-1.45 36.32,-1.45 37.45,-1.45 38.58,-1.45 39.72,-1.45 40.85,-1.45 41.99,-1.45 43.12,-1.45 44.26,-1.45 45.39,-1.45 46.53,-1.45 47.66,-1.45 48.8,-1.45 49.93,-1.45 51.07,-1.45 52.2,-1.45 53.34,-1.45 54.47,-1.45 55.61,-1.45 56.74,-1.45 \" class=\"primitive\"/>\n            </g>\n          </g>\n        </g>\n      </g>\n    </g>\n  </g>\n  <g class=\"guide ylabels\" font-size=\"2.82\" font-family=\"'PT Sans Caption','Helvetica Neue','Helvetica',sans-serif\" fill=\"#6C606B\" id=\"img-e3fd6d88-23\">\n    <g transform=\"translate(17.94,84.04)\" id=\"img-e3fd6d88-24\">\n      <g class=\"primitive\">\n        <text text-anchor=\"end\" dy=\"0.35em\">0</text>\n      </g>\n    </g>\n    <g transform=\"translate(17.94,64.78)\" id=\"img-e3fd6d88-25\">\n      <g class=\"primitive\">\n        <text text-anchor=\"end\" dy=\"0.35em\">50</text>\n      </g>\n    </g>\n    <g transform=\"translate(17.94,45.52)\" id=\"img-e3fd6d88-26\">\n      <g class=\"primitive\">\n        <text text-anchor=\"end\" dy=\"0.35em\">100</text>\n      </g>\n    </g>\n    <g transform=\"translate(17.94,26.26)\" id=\"img-e3fd6d88-27\">\n      <g class=\"primitive\">\n        <text text-anchor=\"end\" dy=\"0.35em\">150</text>\n      </g>\n    </g>\n    <g transform=\"translate(17.94,7)\" id=\"img-e3fd6d88-28\">\n      <g class=\"primitive\">\n        <text text-anchor=\"end\" dy=\"0.35em\">200</text>\n      </g>\n    </g>\n  </g>\n  <g font-size=\"3.53\" font-family=\"'PT Sans','Helvetica Neue','Helvetica',sans-serif\" fill=\"#564A55\" stroke=\"#000000\" stroke-opacity=\"0.000\" id=\"img-e3fd6d88-29\">\n    <g transform=\"translate(9.92,45.52)\" id=\"img-e3fd6d88-30\">\n      <g class=\"primitive\">\n        <text text-anchor=\"end\" dy=\"0.35em\">W</text>\n      </g>\n    </g>\n  </g>\n</g>\n<defs>\n  <clipPath id=\"img-e3fd6d88-5\">\n    <path d=\"M18.94,5 L136.42,5 136.42,86.04 18.94,86.04 \" />\n  </clipPath>\n</defs>\n</svg>\n"
           },
           "type": "node"
          }
         ],
         "instanceArgs": {
          "handlers": {
           "obs-output": [
            "function (value, scope) {\n    scope.setInnerHTML(value);\n}\n"
           ]
          },
          "id": "16157239139567005954",
          "imports": {
           "data": [],
           "type": "async_block"
          },
          "mount_callbacks": [],
          "observables": {
           "obs-output": {
            "id": "6964672547916831090",
            "sync": false,
            "value": "<?xml version=\"1.0\" encoding=\"UTF-8\"?>\n<svg xmlns=\"http://www.w3.org/2000/svg\"\n     xmlns:xlink=\"http://www.w3.org/1999/xlink\"\n     xmlns:gadfly=\"http://www.gadflyjl.org/ns\"\n     version=\"1.2\"\n     width=\"141.42mm\" height=\"100mm\" viewBox=\"0 0 141.42 100\"\n     stroke=\"none\"\n     fill=\"#000000\"\n     stroke-width=\"0.3\"\n     font-size=\"3.88\"\n>\n<defs>\n  <marker id=\"arrow\" markerWidth=\"15\" markerHeight=\"7\" refX=\"5\" refY=\"3.5\" orient=\"auto\" markerUnits=\"strokeWidth\">\n    <path d=\"M0,0 L15,3.5 L0,7 z\" stroke=\"context-stroke\" fill=\"context-stroke\"/>\n  </marker>\n</defs>\n<g stroke=\"#000000\" stroke-opacity=\"0.000\" fill=\"#FFFFFF\" id=\"img-e3fd6d88-1\">\n  <g transform=\"translate(70.71,50)\">\n    <path d=\"M-70.71,-50 L70.71,-50 70.71,50 -70.71,50  z\" class=\"primitive\"/>\n  </g>\n</g>\n<g class=\"plotroot xscalable yscalable\" id=\"img-e3fd6d88-2\">\n  <g font-size=\"3.53\" font-family=\"'PT Sans','Helvetica Neue','Helvetica',sans-serif\" fill=\"#564A55\" stroke=\"#000000\" stroke-opacity=\"0.000\" id=\"img-e3fd6d88-3\">\n    <g transform=\"translate(77.68,93.72)\">\n      <g class=\"primitive\">\n        <text text-anchor=\"middle\" dy=\"0.6em\">t</text>\n      </g>\n    </g>\n  </g>\n  <g class=\"guide xlabels\" font-size=\"2.82\" font-family=\"'PT Sans Caption','Helvetica Neue','Helvetica',sans-serif\" fill=\"#6C606B\" id=\"img-e3fd6d88-4\">\n    <g transform=\"translate(20.94,87.04)\">\n      <g class=\"primitive\">\n        <text text-anchor=\"middle\" dy=\"0.6em\">0</text>\n      </g>\n    </g>\n    <g transform=\"translate(77.68,87.04)\">\n      <g class=\"primitive\">\n        <text text-anchor=\"middle\" dy=\"0.6em\">50</text>\n      </g>\n    </g>\n    <g transform=\"translate(134.42,87.04)\">\n      <g class=\"primitive\">\n        <text text-anchor=\"middle\" dy=\"0.6em\">100</text>\n      </g>\n    </g>\n  </g>\n  <g clip-path=\"url(#img-e3fd6d88-5)\">\n    <g id=\"img-e3fd6d88-6\">\n      <g pointer-events=\"visible\" stroke-width=\"0.3\" fill=\"#000000\" fill-opacity=\"0.000\" stroke=\"#000000\" stroke-opacity=\"0.000\" class=\"guide background\" id=\"img-e3fd6d88-7\">\n        <g transform=\"translate(77.68,45.52)\" id=\"img-e3fd6d88-8\">\n          <path d=\"M-58.74,-40.52 L58.74,-40.52 58.74,40.52 -58.74,40.52  z\" class=\"primitive\"/>\n        </g>\n      </g>\n      <g class=\"guide ygridlines xfixed\" stroke-dasharray=\"0.5,0.5\" stroke-width=\"0.2\" stroke=\"#D0D0E0\" id=\"img-e3fd6d88-9\">\n        <g transform=\"translate(77.68,84.04)\" id=\"img-e3fd6d88-10\">\n          <path fill=\"none\" d=\"M-58.74,0 L58.74,0 \" class=\"primitive\"/>\n        </g>\n        <g transform=\"translate(77.68,64.78)\" id=\"img-e3fd6d88-11\">\n          <path fill=\"none\" d=\"M-58.74,0 L58.74,0 \" class=\"primitive\"/>\n        </g>\n        <g transform=\"translate(77.68,45.52)\" id=\"img-e3fd6d88-12\">\n          <path fill=\"none\" d=\"M-58.74,0 L58.74,0 \" class=\"primitive\"/>\n        </g>\n        <g transform=\"translate(77.68,26.26)\" id=\"img-e3fd6d88-13\">\n          <path fill=\"none\" d=\"M-58.74,0 L58.74,0 \" class=\"primitive\"/>\n        </g>\n        <g transform=\"translate(77.68,7)\" id=\"img-e3fd6d88-14\">\n          <path fill=\"none\" d=\"M-58.74,0 L58.74,0 \" class=\"primitive\"/>\n        </g>\n      </g>\n      <g class=\"guide xgridlines yfixed\" stroke-dasharray=\"0.5,0.5\" stroke-width=\"0.2\" stroke=\"#D0D0E0\" id=\"img-e3fd6d88-15\">\n        <g transform=\"translate(20.94,45.52)\" id=\"img-e3fd6d88-16\">\n          <path fill=\"none\" d=\"M0,-40.52 L0,40.52 \" class=\"primitive\"/>\n        </g>\n        <g transform=\"translate(77.68,45.52)\" id=\"img-e3fd6d88-17\">\n          <path fill=\"none\" d=\"M0,-40.52 L0,40.52 \" class=\"primitive\"/>\n        </g>\n        <g transform=\"translate(134.42,45.52)\" id=\"img-e3fd6d88-18\">\n          <path fill=\"none\" d=\"M0,-40.52 L0,40.52 \" class=\"primitive\"/>\n        </g>\n      </g>\n      <g class=\"plotpanel\" id=\"img-e3fd6d88-19\">\n        <metadata>\n          <boundingbox value=\"18.936666666666667mm 5.0mm 117.48468957064284mm 81.04333333333335mm\"/>\n          <unitbox value=\"-1.762352267576169 205.19188335568728 103.52470453515235 -210.38376671137456\"/>\n        </metadata>\n        <g stroke-width=\"0.3\" fill=\"#000000\" fill-opacity=\"0.000\" class=\"geometry\" id=\"img-e3fd6d88-20\">\n          <g class=\"color_LCHab{Float32}(70.0f0,60.0f0,240.0f0)\" stroke-dasharray=\"none\" stroke-opacity=\"1\" stroke=\"#00BFFF\" id=\"img-e3fd6d88-21\">\n            <g transform=\"translate(77.68,46.97)\" id=\"img-e3fd6d88-22\">\n              <path fill=\"none\" d=\"M-56.74,35.15 L-55.61,26 -54.47,19.14 -53.34,13.99 -52.2,10.13 -51.07,7.23 -49.93,5.06 -48.8,3.44 -47.66,2.21 -46.53,1.3 -45.39,0.61 -44.26,0.1 -43.12,-0.29 -41.99,-0.58 -40.85,-0.8 -39.72,-0.96 -38.58,-1.08 -37.45,-1.17 -36.32,-1.24 -35.18,-1.29 -34.05,-1.33 -32.91,-1.36 -31.78,-1.38 -30.64,-1.4 -29.51,-1.41 -28.37,-1.42 -27.24,-1.43 -26.1,-1.43 -24.97,-1.44 -23.83,-1.44 -22.7,-1.44 -21.56,-1.44 -20.43,-1.45 -19.29,-1.45 -18.16,-1.45 -17.02,-1.45 -15.89,-1.45 -14.75,-1.45 -13.62,-1.45 -12.48,-1.45 -11.35,-1.45 -10.21,-1.45 -9.08,-1.45 -7.94,-1.45 -6.81,-1.45 -5.67,-1.45 -4.54,-1.45 -3.4,-1.45 -2.27,-1.45 -1.13,-1.45 0,-1.45 1.13,-1.45 2.27,-1.45 3.4,-1.45 4.54,-1.45 5.67,-1.45 6.81,-1.45 7.94,-1.45 9.08,-1.45 10.21,-1.45 11.35,-1.45 12.48,-1.45 13.62,-1.45 14.75,-1.45 15.89,-1.45 17.02,-1.45 18.16,-1.45 19.29,-1.45 20.43,-1.45 21.56,-1.45 22.7,-1.45 23.83,-1.45 24.97,-1.45 26.1,-1.45 27.24,-1.45 28.37,-1.45 29.51,-1.45 30.64,-1.45 31.78,-1.45 32.91,-1.45 34.05,-1.45 35.18,-1.45 36.32,-1.45 37.45,-1.45 38.58,-1.45 39.72,-1.45 40.85,-1.45 41.99,-1.45 43.12,-1.45 44.26,-1.45 45.39,-1.45 46.53,-1.45 47.66,-1.45 48.8,-1.45 49.93,-1.45 51.07,-1.45 52.2,-1.45 53.34,-1.45 54.47,-1.45 55.61,-1.45 56.74,-1.45 \" class=\"primitive\"/>\n            </g>\n          </g>\n        </g>\n      </g>\n    </g>\n  </g>\n  <g class=\"guide ylabels\" font-size=\"2.82\" font-family=\"'PT Sans Caption','Helvetica Neue','Helvetica',sans-serif\" fill=\"#6C606B\" id=\"img-e3fd6d88-23\">\n    <g transform=\"translate(17.94,84.04)\" id=\"img-e3fd6d88-24\">\n      <g class=\"primitive\">\n        <text text-anchor=\"end\" dy=\"0.35em\">0</text>\n      </g>\n    </g>\n    <g transform=\"translate(17.94,64.78)\" id=\"img-e3fd6d88-25\">\n      <g class=\"primitive\">\n        <text text-anchor=\"end\" dy=\"0.35em\">50</text>\n      </g>\n    </g>\n    <g transform=\"translate(17.94,45.52)\" id=\"img-e3fd6d88-26\">\n      <g class=\"primitive\">\n        <text text-anchor=\"end\" dy=\"0.35em\">100</text>\n      </g>\n    </g>\n    <g transform=\"translate(17.94,26.26)\" id=\"img-e3fd6d88-27\">\n      <g class=\"primitive\">\n        <text text-anchor=\"end\" dy=\"0.35em\">150</text>\n      </g>\n    </g>\n    <g transform=\"translate(17.94,7)\" id=\"img-e3fd6d88-28\">\n      <g class=\"primitive\">\n        <text text-anchor=\"end\" dy=\"0.35em\">200</text>\n      </g>\n    </g>\n  </g>\n  <g font-size=\"3.53\" font-family=\"'PT Sans','Helvetica Neue','Helvetica',sans-serif\" fill=\"#564A55\" stroke=\"#000000\" stroke-opacity=\"0.000\" id=\"img-e3fd6d88-29\">\n    <g transform=\"translate(9.92,45.52)\" id=\"img-e3fd6d88-30\">\n      <g class=\"primitive\">\n        <text text-anchor=\"end\" dy=\"0.35em\">W</text>\n      </g>\n    </g>\n  </g>\n</g>\n<defs>\n  <clipPath id=\"img-e3fd6d88-5\">\n    <path d=\"M18.94,5 L136.42,5 136.42,86.04 18.94,86.04 \" />\n  </clipPath>\n</defs>\n</svg>\n"
           }
          },
          "systemjs_options": null
         },
         "nodeType": "Scope",
         "props": {},
         "type": "node"
        }
       ],
       "instanceArgs": {
        "namespace": "html",
        "tag": "div"
       },
       "nodeType": "DOM",
       "props": {
        "style": {
         "display": "flex",
         "flex-direction": "column"
        }
       },
       "type": "node"
      },
      "text/html": [
       "<div\n",
       "    class=\"webio-mountpoint\"\n",
       "    data-webio-mountpoint=\"18439231069257647350\"\n",
       ">\n",
       "    <script>\n",
       "    (function(){\n",
       "    // Some integrations (namely, IJulia/Jupyter) use an alternate render pathway than\n",
       "    // just putting the html on the page. If WebIO isn't defined, then it's pretty likely\n",
       "    // that we're in one of those situations and the integration just isn't installed\n",
       "    // correctly.\n",
       "    if (typeof window.WebIO === \"undefined\") {\n",
       "        document\n",
       "            .querySelector('[data-webio-mountpoint=\"18439231069257647350\"]')\n",
       "            .innerHTML = (\n",
       "                '<div style=\"padding: 1em; background-color: #f8d6da; border: 1px solid #f5c6cb; font-weight: bold;\">' +\n",
       "                '<p><strong>WebIO not detected.</strong></p>' +\n",
       "                '<p>Please read ' +\n",
       "                '<a href=\"https://juliagizmos.github.io/WebIO.jl/latest/troubleshooting/not-detected/\" target=\"_blank\">the troubleshooting guide</a> ' +\n",
       "                'for more information on how to resolve this issue.</p>' +\n",
       "                '<p><a href=\"https://juliagizmos.github.io/WebIO.jl/latest/troubleshooting/not-detected/\" target=\"_blank\">https://juliagizmos.github.io/WebIO.jl/latest/troubleshooting/not-detected/</a></p>' +\n",
       "                '</div>'\n",
       "            );\n",
       "        return;\n",
       "    }\n",
       "    WebIO.mount(\n",
       "        document.querySelector('[data-webio-mountpoint=\"18439231069257647350\"]'),\n",
       "        {\"props\":{\"style\":{\"display\":\"flex\",\"flex-direction\":\"column\"}},\"nodeType\":\"DOM\",\"type\":\"node\",\"instanceArgs\":{\"namespace\":\"html\",\"tag\":\"div\"},\"children\":[{\"props\":{\"style\":{\"color\":\"rebeccapurple\",\"font-family\":\"monospace\"}},\"nodeType\":\"DOM\",\"type\":\"node\",\"instanceArgs\":{\"namespace\":\"html\",\"tag\":\"div\"},\"children\":[\"Mono\"]},{\"props\":{\"className\":\"field interact-widget\"},\"nodeType\":\"DOM\",\"type\":\"node\",\"instanceArgs\":{\"namespace\":\"html\",\"tag\":\"div\"},\"children\":[{\"props\":{},\"nodeType\":\"Scope\",\"type\":\"node\",\"instanceArgs\":{\"imports\":{\"data\":[{\"name\":\"knockout\",\"type\":\"js\",\"url\":\"\\/assetserver\\/d749de49a15576291e39755d819be2408bf7f995-knockout.js\"},{\"name\":\"knockout_punches\",\"type\":\"js\",\"url\":\"\\/assetserver\\/9f5c86158cf79faf331cfb32636cb08a9b1f0dc2-knockout_punches.js\"},{\"name\":null,\"type\":\"js\",\"url\":\"\\/assetserver\\/96a65e6078e018eef9bba5cd6ed02b2635164c53-all.js\"},{\"name\":null,\"type\":\"css\",\"url\":\"\\/assetserver\\/98c9b8e9cfeaa0be2a6f3aa79abc5da0680c3037-style.css\"},{\"name\":null,\"type\":\"css\",\"url\":\"\\/assetserver\\/c5a1211d10b2f10049d85486a98c5e9063cad849-bulma_confined.min.css\"}],\"type\":\"async_block\"},\"id\":\"12203114021784563749\",\"handlers\":{\"changes\":[\"(function (val){return (val!=this.model[\\\"changes\\\"]()) ? (this.valueFromJulia[\\\"changes\\\"]=true, this.model[\\\"changes\\\"](val)) : undefined})\"],\"index\":[\"(function (val){return (val!=this.model[\\\"index\\\"]()) ? (this.valueFromJulia[\\\"index\\\"]=true, this.model[\\\"index\\\"](val)) : undefined})\"]},\"systemjs_options\":null,\"mount_callbacks\":[\"function () {\\n    var handler = (function (ko, koPunches) {\\n    ko.punches.enableAll();\\n    ko.bindingHandlers.numericValue = {\\n        init: function(element, valueAccessor, allBindings, data, context) {\\n            var stringified = ko.observable(ko.unwrap(valueAccessor()));\\n            stringified.subscribe(function(value) {\\n                var val = parseFloat(value);\\n                if (!isNaN(val)) {\\n                    valueAccessor()(val);\\n                }\\n            });\\n            valueAccessor().subscribe(function(value) {\\n                var str = JSON.stringify(value);\\n                if ((str == \\\"0\\\") && ([\\\"-0\\\", \\\"-0.\\\"].indexOf(stringified()) >= 0))\\n                     return;\\n                 if ([\\\"null\\\", \\\"\\\"].indexOf(str) >= 0)\\n                     return;\\n                stringified(str);\\n            });\\n            ko.applyBindingsToNode(\\n                element,\\n                {\\n                    value: stringified,\\n                    valueUpdate: allBindings.get('valueUpdate'),\\n                },\\n                context,\\n            );\\n        }\\n    };\\n    var json_data = {\\\"formatted_vals\\\":[\\\"0.0\\\",\\\"0.01\\\",\\\"0.02\\\",\\\"0.03\\\",\\\"0.04\\\",\\\"0.05\\\",\\\"0.06\\\",\\\"0.07\\\",\\\"0.08\\\",\\\"0.09\\\",\\\"0.1\\\",\\\"0.11\\\",\\\"0.12\\\",\\\"0.13\\\",\\\"0.14\\\",\\\"0.15\\\",\\\"0.16\\\",\\\"0.17\\\",\\\"0.18\\\",\\\"0.19\\\",\\\"0.2\\\",\\\"0.21\\\",\\\"0.22\\\",\\\"0.23\\\",\\\"0.24\\\",\\\"0.25\\\",\\\"0.26\\\",\\\"0.27\\\",\\\"0.28\\\",\\\"0.29\\\",\\\"0.3\\\",\\\"0.31\\\",\\\"0.32\\\",\\\"0.33\\\",\\\"0.34\\\",\\\"0.35\\\",\\\"0.36\\\",\\\"0.37\\\",\\\"0.38\\\",\\\"0.39\\\",\\\"0.4\\\",\\\"0.41\\\",\\\"0.42\\\",\\\"0.43\\\",\\\"0.44\\\",\\\"0.45\\\",\\\"0.46\\\",\\\"0.47\\\",\\\"0.48\\\",\\\"0.49\\\",\\\"0.5\\\"],\\\"changes\\\":WebIO.getval({\\\"name\\\":\\\"changes\\\",\\\"scope\\\":\\\"12203114021784563749\\\",\\\"id\\\":\\\"317692348598560463\\\",\\\"type\\\":\\\"observable\\\"}),\\\"index\\\":WebIO.getval({\\\"name\\\":\\\"index\\\",\\\"scope\\\":\\\"12203114021784563749\\\",\\\"id\\\":\\\"15772704696651355713\\\",\\\"type\\\":\\\"observable\\\"})};\\n    var self = this;\\n    function AppViewModel() {\\n        for (var key in json_data) {\\n            var el = json_data[key];\\n            this[key] = Array.isArray(el) ? ko.observableArray(el) : ko.observable(el);\\n        }\\n        \\n        [this[\\\"formatted_val\\\"]=ko.computed(    function(){\\n        return this.formatted_vals()[parseInt(this.index())-(1)];\\n    }\\n,this)]\\n        [this[\\\"changes\\\"].subscribe((function (val){!(this.valueFromJulia[\\\"changes\\\"]) ? (WebIO.setval({\\\"name\\\":\\\"changes\\\",\\\"scope\\\":\\\"12203114021784563749\\\",\\\"id\\\":\\\"317692348598560463\\\",\\\"type\\\":\\\"observable\\\"},val)) : undefined; return this.valueFromJulia[\\\"changes\\\"]=false}),self),this[\\\"index\\\"].subscribe((function (val){!(this.valueFromJulia[\\\"index\\\"]) ? (WebIO.setval({\\\"name\\\":\\\"index\\\",\\\"scope\\\":\\\"12203114021784563749\\\",\\\"id\\\":\\\"15772704696651355713\\\",\\\"type\\\":\\\"observable\\\"},val)) : undefined; return this.valueFromJulia[\\\"index\\\"]=false}),self)]\\n        \\n    }\\n    self.model = new AppViewModel();\\n    self.valueFromJulia = {};\\n    for (var key in json_data) {\\n        self.valueFromJulia[key] = false;\\n    }\\n    ko.applyBindings(self.model, self.dom);\\n}\\n);\\n    (WebIO.importBlock({\\\"data\\\":[{\\\"name\\\":\\\"knockout\\\",\\\"type\\\":\\\"js\\\",\\\"url\\\":\\\"\\/assetserver\\/d749de49a15576291e39755d819be2408bf7f995-knockout.js\\\"},{\\\"name\\\":\\\"knockout_punches\\\",\\\"type\\\":\\\"js\\\",\\\"url\\\":\\\"\\/assetserver\\/9f5c86158cf79faf331cfb32636cb08a9b1f0dc2-knockout_punches.js\\\"}],\\\"type\\\":\\\"async_block\\\"})).then((imports) => handler.apply(this, imports));\\n}\\n\"],\"observables\":{\"changes\":{\"sync\":true,\"id\":\"317692348598560463\",\"value\":0},\"index\":{\"sync\":true,\"id\":\"15772704696651355713\",\"value\":26}}},\"children\":[{\"props\":{\"className\":\"interact-flex-row interact-widget\",\"style\":{\"font-family\":\"monospace\",\"width\":\"80%\"}},\"nodeType\":\"DOM\",\"type\":\"node\",\"instanceArgs\":{\"namespace\":\"html\",\"tag\":\"div\"},\"children\":[{\"props\":{\"className\":\"interact-flex-row-left\"},\"nodeType\":\"DOM\",\"type\":\"node\",\"instanceArgs\":{\"namespace\":\"html\",\"tag\":\"div\"},\"children\":[{\"props\":{\"className\":\"interact \",\"style\":{\"padding\":\"5px 10px 0px 10px\",\"white-space\":\"nowrap\",\"color\":\"royalblue\"}},\"nodeType\":\"DOM\",\"type\":\"node\",\"instanceArgs\":{\"namespace\":\"html\",\"tag\":\"label\"},\"children\":[\"k\"]}]},{\"props\":{\"className\":\"interact-flex-row-center\"},\"nodeType\":\"DOM\",\"type\":\"node\",\"instanceArgs\":{\"namespace\":\"html\",\"tag\":\"div\"},\"children\":[{\"props\":{\"max\":51,\"min\":1,\"attributes\":{\"type\":\"range\",\"data-bind\":\"numericValue: index, valueUpdate: 'input', event: {change: function (){this.changes(this.changes()+1)}}\",\"orient\":\"horizontal\"},\"step\":1,\"className\":\"slider slider is-fullwidth\",\"style\":{}},\"nodeType\":\"DOM\",\"type\":\"node\",\"instanceArgs\":{\"namespace\":\"html\",\"tag\":\"input\"},\"children\":[]}]},{\"props\":{\"className\":\"interact-flex-row-right\"},\"nodeType\":\"DOM\",\"type\":\"node\",\"instanceArgs\":{\"namespace\":\"html\",\"tag\":\"div\"},\"children\":[{\"props\":{\"attributes\":{\"data-bind\":\"text: formatted_val\"}},\"nodeType\":\"DOM\",\"type\":\"node\",\"instanceArgs\":{\"namespace\":\"html\",\"tag\":\"p\"},\"children\":[]}]}]}]}]},{\"props\":{\"className\":\"field interact-widget\"},\"nodeType\":\"DOM\",\"type\":\"node\",\"instanceArgs\":{\"namespace\":\"html\",\"tag\":\"div\"},\"children\":[{\"props\":{},\"nodeType\":\"Scope\",\"type\":\"node\",\"instanceArgs\":{\"imports\":{\"data\":[{\"name\":\"knockout\",\"type\":\"js\",\"url\":\"\\/assetserver\\/d749de49a15576291e39755d819be2408bf7f995-knockout.js\"},{\"name\":\"knockout_punches\",\"type\":\"js\",\"url\":\"\\/assetserver\\/9f5c86158cf79faf331cfb32636cb08a9b1f0dc2-knockout_punches.js\"},{\"name\":null,\"type\":\"js\",\"url\":\"\\/assetserver\\/96a65e6078e018eef9bba5cd6ed02b2635164c53-all.js\"},{\"name\":null,\"type\":\"css\",\"url\":\"\\/assetserver\\/98c9b8e9cfeaa0be2a6f3aa79abc5da0680c3037-style.css\"},{\"name\":null,\"type\":\"css\",\"url\":\"\\/assetserver\\/c5a1211d10b2f10049d85486a98c5e9063cad849-bulma_confined.min.css\"}],\"type\":\"async_block\"},\"id\":\"12037821930443123817\",\"handlers\":{\"changes\":[\"(function (val){return (val!=this.model[\\\"changes\\\"]()) ? (this.valueFromJulia[\\\"changes\\\"]=true, this.model[\\\"changes\\\"](val)) : undefined})\"],\"index\":[\"(function (val){return (val!=this.model[\\\"index\\\"]()) ? (this.valueFromJulia[\\\"index\\\"]=true, this.model[\\\"index\\\"](val)) : undefined})\"]},\"systemjs_options\":null,\"mount_callbacks\":[\"function () {\\n    var handler = (function (ko, koPunches) {\\n    ko.punches.enableAll();\\n    ko.bindingHandlers.numericValue = {\\n        init: function(element, valueAccessor, allBindings, data, context) {\\n            var stringified = ko.observable(ko.unwrap(valueAccessor()));\\n            stringified.subscribe(function(value) {\\n                var val = parseFloat(value);\\n                if (!isNaN(val)) {\\n                    valueAccessor()(val);\\n                }\\n            });\\n            valueAccessor().subscribe(function(value) {\\n                var str = JSON.stringify(value);\\n                if ((str == \\\"0\\\") && ([\\\"-0\\\", \\\"-0.\\\"].indexOf(stringified()) >= 0))\\n                     return;\\n                 if ([\\\"null\\\", \\\"\\\"].indexOf(str) >= 0)\\n                     return;\\n                stringified(str);\\n            });\\n            ko.applyBindingsToNode(\\n                element,\\n                {\\n                    value: stringified,\\n                    valueUpdate: allBindings.get('valueUpdate'),\\n                },\\n                context,\\n            );\\n        }\\n    };\\n    var json_data = {\\\"formatted_vals\\\":[\\\"0.0\\\",\\\"0.1\\\",\\\"0.2\\\",\\\"0.3\\\",\\\"0.4\\\",\\\"0.5\\\",\\\"0.6\\\",\\\"0.7\\\",\\\"0.8\\\",\\\"0.9\\\",\\\"1.0\\\",\\\"1.1\\\",\\\"1.2\\\",\\\"1.3\\\",\\\"1.4\\\",\\\"1.5\\\",\\\"1.6\\\",\\\"1.7\\\",\\\"1.8\\\",\\\"1.9\\\",\\\"2.0\\\",\\\"2.1\\\",\\\"2.2\\\",\\\"2.3\\\",\\\"2.4\\\",\\\"2.5\\\",\\\"2.6\\\",\\\"2.7\\\",\\\"2.8\\\",\\\"2.9\\\",\\\"3.0\\\",\\\"3.1\\\",\\\"3.2\\\",\\\"3.3\\\",\\\"3.4\\\",\\\"3.5\\\",\\\"3.6\\\",\\\"3.7\\\",\\\"3.8\\\",\\\"3.9\\\",\\\"4.0\\\",\\\"4.1\\\",\\\"4.2\\\",\\\"4.3\\\",\\\"4.4\\\",\\\"4.5\\\",\\\"4.6\\\",\\\"4.7\\\",\\\"4.8\\\",\\\"4.9\\\",\\\"5.0\\\",\\\"5.1\\\",\\\"5.2\\\",\\\"5.3\\\",\\\"5.4\\\",\\\"5.5\\\",\\\"5.6\\\",\\\"5.7\\\",\\\"5.8\\\",\\\"5.9\\\",\\\"6.0\\\",\\\"6.1\\\",\\\"6.2\\\",\\\"6.3\\\",\\\"6.4\\\",\\\"6.5\\\",\\\"6.6\\\",\\\"6.7\\\",\\\"6.8\\\",\\\"6.9\\\",\\\"7.0\\\",\\\"7.1\\\",\\\"7.2\\\",\\\"7.3\\\",\\\"7.4\\\",\\\"7.5\\\",\\\"7.6\\\",\\\"7.7\\\",\\\"7.8\\\",\\\"7.9\\\",\\\"8.0\\\",\\\"8.1\\\",\\\"8.2\\\",\\\"8.3\\\",\\\"8.4\\\",\\\"8.5\\\",\\\"8.6\\\",\\\"8.7\\\",\\\"8.8\\\",\\\"8.9\\\",\\\"9.0\\\",\\\"9.1\\\",\\\"9.2\\\",\\\"9.3\\\",\\\"9.4\\\",\\\"9.5\\\",\\\"9.6\\\",\\\"9.7\\\",\\\"9.8\\\",\\\"9.9\\\",\\\"10.0\\\"],\\\"changes\\\":WebIO.getval({\\\"name\\\":\\\"changes\\\",\\\"scope\\\":\\\"12037821930443123817\\\",\\\"id\\\":\\\"7470520918070639021\\\",\\\"type\\\":\\\"observable\\\"}),\\\"index\\\":WebIO.getval({\\\"name\\\":\\\"index\\\",\\\"scope\\\":\\\"12037821930443123817\\\",\\\"id\\\":\\\"11464433054547962239\\\",\\\"type\\\":\\\"observable\\\"})};\\n    var self = this;\\n    function AppViewModel() {\\n        for (var key in json_data) {\\n            var el = json_data[key];\\n            this[key] = Array.isArray(el) ? ko.observableArray(el) : ko.observable(el);\\n        }\\n        \\n        [this[\\\"formatted_val\\\"]=ko.computed(    function(){\\n        return this.formatted_vals()[parseInt(this.index())-(1)];\\n    }\\n,this)]\\n        [this[\\\"changes\\\"].subscribe((function (val){!(this.valueFromJulia[\\\"changes\\\"]) ? (WebIO.setval({\\\"name\\\":\\\"changes\\\",\\\"scope\\\":\\\"12037821930443123817\\\",\\\"id\\\":\\\"7470520918070639021\\\",\\\"type\\\":\\\"observable\\\"},val)) : undefined; return this.valueFromJulia[\\\"changes\\\"]=false}),self),this[\\\"index\\\"].subscribe((function (val){!(this.valueFromJulia[\\\"index\\\"]) ? (WebIO.setval({\\\"name\\\":\\\"index\\\",\\\"scope\\\":\\\"12037821930443123817\\\",\\\"id\\\":\\\"11464433054547962239\\\",\\\"type\\\":\\\"observable\\\"},val)) : undefined; return this.valueFromJulia[\\\"index\\\"]=false}),self)]\\n        \\n    }\\n    self.model = new AppViewModel();\\n    self.valueFromJulia = {};\\n    for (var key in json_data) {\\n        self.valueFromJulia[key] = false;\\n    }\\n    ko.applyBindings(self.model, self.dom);\\n}\\n);\\n    (WebIO.importBlock({\\\"data\\\":[{\\\"name\\\":\\\"knockout\\\",\\\"type\\\":\\\"js\\\",\\\"url\\\":\\\"\\/assetserver\\/d749de49a15576291e39755d819be2408bf7f995-knockout.js\\\"},{\\\"name\\\":\\\"knockout_punches\\\",\\\"type\\\":\\\"js\\\",\\\"url\\\":\\\"\\/assetserver\\/9f5c86158cf79faf331cfb32636cb08a9b1f0dc2-knockout_punches.js\\\"}],\\\"type\\\":\\\"async_block\\\"})).then((imports) => handler.apply(this, imports));\\n}\\n\"],\"observables\":{\"changes\":{\"sync\":true,\"id\":\"7470520918070639021\",\"value\":0},\"index\":{\"sync\":true,\"id\":\"11464433054547962239\",\"value\":51}}},\"children\":[{\"props\":{\"className\":\"interact-flex-row interact-widget\",\"style\":{\"font-family\":\"monospace\",\"width\":\"80%\"}},\"nodeType\":\"DOM\",\"type\":\"node\",\"instanceArgs\":{\"namespace\":\"html\",\"tag\":\"div\"},\"children\":[{\"props\":{\"className\":\"interact-flex-row-left\"},\"nodeType\":\"DOM\",\"type\":\"node\",\"instanceArgs\":{\"namespace\":\"html\",\"tag\":\"div\"},\"children\":[{\"props\":{\"className\":\"interact \",\"style\":{\"padding\":\"5px 10px 0px 10px\",\"white-space\":\"nowrap\",\"color\":\"royalblue\"}},\"nodeType\":\"DOM\",\"type\":\"node\",\"instanceArgs\":{\"namespace\":\"html\",\"tag\":\"label\"},\"children\":[\"W0\"]}]},{\"props\":{\"className\":\"interact-flex-row-center\"},\"nodeType\":\"DOM\",\"type\":\"node\",\"instanceArgs\":{\"namespace\":\"html\",\"tag\":\"div\"},\"children\":[{\"props\":{\"max\":101,\"min\":1,\"attributes\":{\"type\":\"range\",\"data-bind\":\"numericValue: index, valueUpdate: 'input', event: {change: function (){this.changes(this.changes()+1)}}\",\"orient\":\"horizontal\"},\"step\":1,\"className\":\"slider slider is-fullwidth\",\"style\":{}},\"nodeType\":\"DOM\",\"type\":\"node\",\"instanceArgs\":{\"namespace\":\"html\",\"tag\":\"input\"},\"children\":[]}]},{\"props\":{\"className\":\"interact-flex-row-right\"},\"nodeType\":\"DOM\",\"type\":\"node\",\"instanceArgs\":{\"namespace\":\"html\",\"tag\":\"div\"},\"children\":[{\"props\":{\"attributes\":{\"data-bind\":\"text: formatted_val\"}},\"nodeType\":\"DOM\",\"type\":\"node\",\"instanceArgs\":{\"namespace\":\"html\",\"tag\":\"p\"},\"children\":[]}]}]}]}]},{\"props\":{\"className\":\"field interact-widget\"},\"nodeType\":\"DOM\",\"type\":\"node\",\"instanceArgs\":{\"namespace\":\"html\",\"tag\":\"div\"},\"children\":[{\"props\":{},\"nodeType\":\"Scope\",\"type\":\"node\",\"instanceArgs\":{\"imports\":{\"data\":[{\"name\":\"knockout\",\"type\":\"js\",\"url\":\"\\/assetserver\\/d749de49a15576291e39755d819be2408bf7f995-knockout.js\"},{\"name\":\"knockout_punches\",\"type\":\"js\",\"url\":\"\\/assetserver\\/9f5c86158cf79faf331cfb32636cb08a9b1f0dc2-knockout_punches.js\"},{\"name\":null,\"type\":\"js\",\"url\":\"\\/assetserver\\/96a65e6078e018eef9bba5cd6ed02b2635164c53-all.js\"},{\"name\":null,\"type\":\"css\",\"url\":\"\\/assetserver\\/98c9b8e9cfeaa0be2a6f3aa79abc5da0680c3037-style.css\"},{\"name\":null,\"type\":\"css\",\"url\":\"\\/assetserver\\/c5a1211d10b2f10049d85486a98c5e9063cad849-bulma_confined.min.css\"}],\"type\":\"async_block\"},\"id\":\"14802725600465107276\",\"handlers\":{\"changes\":[\"(function (val){return (val!=this.model[\\\"changes\\\"]()) ? (this.valueFromJulia[\\\"changes\\\"]=true, this.model[\\\"changes\\\"](val)) : undefined})\"],\"index\":[\"(function (val){return (val!=this.model[\\\"index\\\"]()) ? (this.valueFromJulia[\\\"index\\\"]=true, this.model[\\\"index\\\"](val)) : undefined})\"]},\"systemjs_options\":null,\"mount_callbacks\":[\"function () {\\n    var handler = (function (ko, koPunches) {\\n    ko.punches.enableAll();\\n    ko.bindingHandlers.numericValue = {\\n        init: function(element, valueAccessor, allBindings, data, context) {\\n            var stringified = ko.observable(ko.unwrap(valueAccessor()));\\n            stringified.subscribe(function(value) {\\n                var val = parseFloat(value);\\n                if (!isNaN(val)) {\\n                    valueAccessor()(val);\\n                }\\n            });\\n            valueAccessor().subscribe(function(value) {\\n                var str = JSON.stringify(value);\\n                if ((str == \\\"0\\\") && ([\\\"-0\\\", \\\"-0.\\\"].indexOf(stringified()) >= 0))\\n                     return;\\n                 if ([\\\"null\\\", \\\"\\\"].indexOf(str) >= 0)\\n                     return;\\n                stringified(str);\\n            });\\n            ko.applyBindingsToNode(\\n                element,\\n                {\\n                    value: stringified,\\n                    valueUpdate: allBindings.get('valueUpdate'),\\n                },\\n                context,\\n            );\\n        }\\n    };\\n    var json_data = {\\\"formatted_vals\\\":[\\\"10\\\",\\\"20\\\",\\\"30\\\",\\\"40\\\",\\\"50\\\",\\\"60\\\",\\\"70\\\",\\\"80\\\",\\\"90\\\",\\\"100\\\",\\\"110\\\",\\\"120\\\",\\\"130\\\",\\\"140\\\",\\\"150\\\",\\\"160\\\",\\\"170\\\",\\\"180\\\",\\\"190\\\",\\\"200\\\"],\\\"changes\\\":WebIO.getval({\\\"name\\\":\\\"changes\\\",\\\"scope\\\":\\\"14802725600465107276\\\",\\\"id\\\":\\\"4446353287741361030\\\",\\\"type\\\":\\\"observable\\\"}),\\\"index\\\":WebIO.getval({\\\"name\\\":\\\"index\\\",\\\"scope\\\":\\\"14802725600465107276\\\",\\\"id\\\":\\\"12429458308611016213\\\",\\\"type\\\":\\\"observable\\\"})};\\n    var self = this;\\n    function AppViewModel() {\\n        for (var key in json_data) {\\n            var el = json_data[key];\\n            this[key] = Array.isArray(el) ? ko.observableArray(el) : ko.observable(el);\\n        }\\n        \\n        [this[\\\"formatted_val\\\"]=ko.computed(    function(){\\n        return this.formatted_vals()[parseInt(this.index())-(1)];\\n    }\\n,this)]\\n        [this[\\\"changes\\\"].subscribe((function (val){!(this.valueFromJulia[\\\"changes\\\"]) ? (WebIO.setval({\\\"name\\\":\\\"changes\\\",\\\"scope\\\":\\\"14802725600465107276\\\",\\\"id\\\":\\\"4446353287741361030\\\",\\\"type\\\":\\\"observable\\\"},val)) : undefined; return this.valueFromJulia[\\\"changes\\\"]=false}),self),this[\\\"index\\\"].subscribe((function (val){!(this.valueFromJulia[\\\"index\\\"]) ? (WebIO.setval({\\\"name\\\":\\\"index\\\",\\\"scope\\\":\\\"14802725600465107276\\\",\\\"id\\\":\\\"12429458308611016213\\\",\\\"type\\\":\\\"observable\\\"},val)) : undefined; return this.valueFromJulia[\\\"index\\\"]=false}),self)]\\n        \\n    }\\n    self.model = new AppViewModel();\\n    self.valueFromJulia = {};\\n    for (var key in json_data) {\\n        self.valueFromJulia[key] = false;\\n    }\\n    ko.applyBindings(self.model, self.dom);\\n}\\n);\\n    (WebIO.importBlock({\\\"data\\\":[{\\\"name\\\":\\\"knockout\\\",\\\"type\\\":\\\"js\\\",\\\"url\\\":\\\"\\/assetserver\\/d749de49a15576291e39755d819be2408bf7f995-knockout.js\\\"},{\\\"name\\\":\\\"knockout_punches\\\",\\\"type\\\":\\\"js\\\",\\\"url\\\":\\\"\\/assetserver\\/9f5c86158cf79faf331cfb32636cb08a9b1f0dc2-knockout_punches.js\\\"}],\\\"type\\\":\\\"async_block\\\"})).then((imports) => handler.apply(this, imports));\\n}\\n\"],\"observables\":{\"changes\":{\"sync\":true,\"id\":\"4446353287741361030\",\"value\":0},\"index\":{\"sync\":true,\"id\":\"12429458308611016213\",\"value\":10}}},\"children\":[{\"props\":{\"className\":\"interact-flex-row interact-widget\",\"style\":{\"font-family\":\"monospace\",\"width\":\"80%\"}},\"nodeType\":\"DOM\",\"type\":\"node\",\"instanceArgs\":{\"namespace\":\"html\",\"tag\":\"div\"},\"children\":[{\"props\":{\"className\":\"interact-flex-row-left\"},\"nodeType\":\"DOM\",\"type\":\"node\",\"instanceArgs\":{\"namespace\":\"html\",\"tag\":\"div\"},\"children\":[{\"props\":{\"className\":\"interact \",\"style\":{\"padding\":\"5px 10px 0px 10px\",\"white-space\":\"nowrap\",\"color\":\"royalblue\"}},\"nodeType\":\"DOM\",\"type\":\"node\",\"instanceArgs\":{\"namespace\":\"html\",\"tag\":\"label\"},\"children\":[\"Wf\"]}]},{\"props\":{\"className\":\"interact-flex-row-center\"},\"nodeType\":\"DOM\",\"type\":\"node\",\"instanceArgs\":{\"namespace\":\"html\",\"tag\":\"div\"},\"children\":[{\"props\":{\"max\":20,\"min\":1,\"attributes\":{\"type\":\"range\",\"data-bind\":\"numericValue: index, valueUpdate: 'input', event: {change: function (){this.changes(this.changes()+1)}}\",\"orient\":\"horizontal\"},\"step\":1,\"className\":\"slider slider is-fullwidth\",\"style\":{}},\"nodeType\":\"DOM\",\"type\":\"node\",\"instanceArgs\":{\"namespace\":\"html\",\"tag\":\"input\"},\"children\":[]}]},{\"props\":{\"className\":\"interact-flex-row-right\"},\"nodeType\":\"DOM\",\"type\":\"node\",\"instanceArgs\":{\"namespace\":\"html\",\"tag\":\"div\"},\"children\":[{\"props\":{\"attributes\":{\"data-bind\":\"text: formatted_val\"}},\"nodeType\":\"DOM\",\"type\":\"node\",\"instanceArgs\":{\"namespace\":\"html\",\"tag\":\"p\"},\"children\":[]}]}]}]}]},{\"props\":{},\"nodeType\":\"Scope\",\"type\":\"node\",\"instanceArgs\":{\"imports\":{\"data\":[],\"type\":\"async_block\"},\"id\":\"12898709560100397136\",\"handlers\":{\"obs-output\":[\"function (value, scope) {\\n    scope.setInnerHTML(value);\\n}\\n\"]},\"systemjs_options\":null,\"mount_callbacks\":[],\"observables\":{\"obs-output\":{\"sync\":false,\"id\":\"16872094173665486436\",\"value\":\"<?xml version=\\\"1.0\\\" encoding=\\\"UTF-8\\\"?>\\n<svg xmlns=\\\"http:\\/\\/www.w3.org\\/2000\\/svg\\\"\\n     xmlns:xlink=\\\"http:\\/\\/www.w3.org\\/1999\\/xlink\\\"\\n     xmlns:gadfly=\\\"http:\\/\\/www.gadflyjl.org\\/ns\\\"\\n     version=\\\"1.2\\\"\\n     width=\\\"141.42mm\\\" height=\\\"100mm\\\" viewBox=\\\"0 0 141.42 100\\\"\\n     stroke=\\\"none\\\"\\n     fill=\\\"#000000\\\"\\n     stroke-width=\\\"0.3\\\"\\n     font-size=\\\"3.88\\\"\\n>\\n<defs>\\n  <marker id=\\\"arrow\\\" markerWidth=\\\"15\\\" markerHeight=\\\"7\\\" refX=\\\"5\\\" refY=\\\"3.5\\\" orient=\\\"auto\\\" markerUnits=\\\"strokeWidth\\\">\\n    <path d=\\\"M0,0 L15,3.5 L0,7 z\\\" stroke=\\\"context-stroke\\\" fill=\\\"context-stroke\\\"\\/>\\n  <\\/marker>\\n<\\/defs>\\n<g stroke=\\\"#000000\\\" stroke-opacity=\\\"0.000\\\" fill=\\\"#FFFFFF\\\" id=\\\"img-94aeed0a-1\\\">\\n  <g transform=\\\"translate(70.71,50)\\\">\\n    <path d=\\\"M-70.71,-50 L70.71,-50 70.71,50 -70.71,50  z\\\" class=\\\"primitive\\\"\\/>\\n  <\\/g>\\n<\\/g>\\n<g class=\\\"plotroot xscalable yscalable\\\" id=\\\"img-94aeed0a-2\\\">\\n  <g font-size=\\\"3.53\\\" font-family=\\\"'PT Sans','Helvetica Neue','Helvetica',sans-serif\\\" fill=\\\"#564A55\\\" stroke=\\\"#000000\\\" stroke-opacity=\\\"0.000\\\" id=\\\"img-94aeed0a-3\\\">\\n    <g transform=\\\"translate(77.68,93.72)\\\">\\n      <g class=\\\"primitive\\\">\\n        <text text-anchor=\\\"middle\\\" dy=\\\"0.6em\\\">t<\\/text>\\n      <\\/g>\\n    <\\/g>\\n  <\\/g>\\n  <g class=\\\"guide xlabels\\\" font-size=\\\"2.82\\\" font-family=\\\"'PT Sans Caption','Helvetica Neue','Helvetica',sans-serif\\\" fill=\\\"#6C606B\\\" id=\\\"img-94aeed0a-4\\\">\\n    <g transform=\\\"translate(20.94,87.04)\\\">\\n      <g class=\\\"primitive\\\">\\n        <text text-anchor=\\\"middle\\\" dy=\\\"0.6em\\\">0<\\/text>\\n      <\\/g>\\n    <\\/g>\\n    <g transform=\\\"translate(77.68,87.04)\\\">\\n      <g class=\\\"primitive\\\">\\n        <text text-anchor=\\\"middle\\\" dy=\\\"0.6em\\\">50<\\/text>\\n      <\\/g>\\n    <\\/g>\\n    <g transform=\\\"translate(134.42,87.04)\\\">\\n      <g class=\\\"primitive\\\">\\n        <text text-anchor=\\\"middle\\\" dy=\\\"0.6em\\\">100<\\/text>\\n      <\\/g>\\n    <\\/g>\\n  <\\/g>\\n  <g clip-path=\\\"url(#img-94aeed0a-5)\\\">\\n    <g id=\\\"img-94aeed0a-6\\\">\\n      <g pointer-events=\\\"visible\\\" stroke-width=\\\"0.3\\\" fill=\\\"#000000\\\" fill-opacity=\\\"0.000\\\" stroke=\\\"#000000\\\" stroke-opacity=\\\"0.000\\\" class=\\\"guide background\\\" id=\\\"img-94aeed0a-7\\\">\\n        <g transform=\\\"translate(77.68,45.52)\\\" id=\\\"img-94aeed0a-8\\\">\\n          <path d=\\\"M-58.74,-40.52 L58.74,-40.52 58.74,40.52 -58.74,40.52  z\\\" class=\\\"primitive\\\"\\/>\\n        <\\/g>\\n      <\\/g>\\n      <g class=\\\"guide ygridlines xfixed\\\" stroke-dasharray=\\\"0.5,0.5\\\" stroke-width=\\\"0.2\\\" stroke=\\\"#D0D0E0\\\" id=\\\"img-94aeed0a-9\\\">\\n        <g transform=\\\"translate(77.68,84.04)\\\" id=\\\"img-94aeed0a-10\\\">\\n          <path fill=\\\"none\\\" d=\\\"M-58.74,0 L58.74,0 \\\" class=\\\"primitive\\\"\\/>\\n        <\\/g>\\n        <g transform=\\\"translate(77.68,64.78)\\\" id=\\\"img-94aeed0a-11\\\">\\n          <path fill=\\\"none\\\" d=\\\"M-58.74,0 L58.74,0 \\\" class=\\\"primitive\\\"\\/>\\n        <\\/g>\\n        <g transform=\\\"translate(77.68,45.52)\\\" id=\\\"img-94aeed0a-12\\\">\\n          <path fill=\\\"none\\\" d=\\\"M-58.74,0 L58.74,0 \\\" class=\\\"primitive\\\"\\/>\\n        <\\/g>\\n        <g transform=\\\"translate(77.68,26.26)\\\" id=\\\"img-94aeed0a-13\\\">\\n          <path fill=\\\"none\\\" d=\\\"M-58.74,0 L58.74,0 \\\" class=\\\"primitive\\\"\\/>\\n        <\\/g>\\n        <g transform=\\\"translate(77.68,7)\\\" id=\\\"img-94aeed0a-14\\\">\\n          <path fill=\\\"none\\\" d=\\\"M-58.74,0 L58.74,0 \\\" class=\\\"primitive\\\"\\/>\\n        <\\/g>\\n      <\\/g>\\n      <g class=\\\"guide xgridlines yfixed\\\" stroke-dasharray=\\\"0.5,0.5\\\" stroke-width=\\\"0.2\\\" stroke=\\\"#D0D0E0\\\" id=\\\"img-94aeed0a-15\\\">\\n        <g transform=\\\"translate(20.94,45.52)\\\" id=\\\"img-94aeed0a-16\\\">\\n          <path fill=\\\"none\\\" d=\\\"M0,-40.52 L0,40.52 \\\" class=\\\"primitive\\\"\\/>\\n        <\\/g>\\n        <g transform=\\\"translate(77.68,45.52)\\\" id=\\\"img-94aeed0a-17\\\">\\n          <path fill=\\\"none\\\" d=\\\"M0,-40.52 L0,40.52 \\\" class=\\\"primitive\\\"\\/>\\n        <\\/g>\\n        <g transform=\\\"translate(134.42,45.52)\\\" id=\\\"img-94aeed0a-18\\\">\\n          <path fill=\\\"none\\\" d=\\\"M0,-40.52 L0,40.52 \\\" class=\\\"primitive\\\"\\/>\\n        <\\/g>\\n      <\\/g>\\n      <g class=\\\"plotpanel\\\" id=\\\"img-94aeed0a-19\\\">\\n        <metadata>\\n          <boundingbox value=\\\"18.936666666666667mm 5.0mm 117.48468957064284mm 81.04333333333335mm\\\"\\/>\\n          <unitbox value=\\\"-1.762352267576169 205.19188335568728 103.52470453515235 -210.38376671137456\\\"\\/>\\n        <\\/metadata>\\n        <g stroke-width=\\\"0.3\\\" fill=\\\"#000000\\\" fill-opacity=\\\"0.000\\\" class=\\\"geometry\\\" id=\\\"img-94aeed0a-20\\\">\\n          <g class=\\\"color_LCHab{Float32}(70.0f0,60.0f0,240.0f0)\\\" stroke-dasharray=\\\"none\\\" stroke-opacity=\\\"1\\\" stroke=\\\"#00BFFF\\\" id=\\\"img-94aeed0a-21\\\">\\n            <g transform=\\\"translate(77.68,46.97)\\\" id=\\\"img-94aeed0a-22\\\">\\n              <path fill=\\\"none\\\" d=\\\"M-56.74,35.15 L-55.61,26 -54.47,19.14 -53.34,13.99 -52.2,10.13 -51.07,7.23 -49.93,5.06 -48.8,3.44 -47.66,2.21 -46.53,1.3 -45.39,0.61 -44.26,0.1 -43.12,-0.29 -41.99,-0.58 -40.85,-0.8 -39.72,-0.96 -38.58,-1.08 -37.45,-1.17 -36.32,-1.24 -35.18,-1.29 -34.05,-1.33 -32.91,-1.36 -31.78,-1.38 -30.64,-1.4 -29.51,-1.41 -28.37,-1.42 -27.24,-1.43 -26.1,-1.43 -24.97,-1.44 -23.83,-1.44 -22.7,-1.44 -21.56,-1.44 -20.43,-1.45 -19.29,-1.45 -18.16,-1.45 -17.02,-1.45 -15.89,-1.45 -14.75,-1.45 -13.62,-1.45 -12.48,-1.45 -11.35,-1.45 -10.21,-1.45 -9.08,-1.45 -7.94,-1.45 -6.81,-1.45 -5.67,-1.45 -4.54,-1.45 -3.4,-1.45 -2.27,-1.45 -1.13,-1.45 0,-1.45 1.13,-1.45 2.27,-1.45 3.4,-1.45 4.54,-1.45 5.67,-1.45 6.81,-1.45 7.94,-1.45 9.08,-1.45 10.21,-1.45 11.35,-1.45 12.48,-1.45 13.62,-1.45 14.75,-1.45 15.89,-1.45 17.02,-1.45 18.16,-1.45 19.29,-1.45 20.43,-1.45 21.56,-1.45 22.7,-1.45 23.83,-1.45 24.97,-1.45 26.1,-1.45 27.24,-1.45 28.37,-1.45 29.51,-1.45 30.64,-1.45 31.78,-1.45 32.91,-1.45 34.05,-1.45 35.18,-1.45 36.32,-1.45 37.45,-1.45 38.58,-1.45 39.72,-1.45 40.85,-1.45 41.99,-1.45 43.12,-1.45 44.26,-1.45 45.39,-1.45 46.53,-1.45 47.66,-1.45 48.8,-1.45 49.93,-1.45 51.07,-1.45 52.2,-1.45 53.34,-1.45 54.47,-1.45 55.61,-1.45 56.74,-1.45 \\\" class=\\\"primitive\\\"\\/>\\n            <\\/g>\\n          <\\/g>\\n        <\\/g>\\n      <\\/g>\\n    <\\/g>\\n  <\\/g>\\n  <g class=\\\"guide ylabels\\\" font-size=\\\"2.82\\\" font-family=\\\"'PT Sans Caption','Helvetica Neue','Helvetica',sans-serif\\\" fill=\\\"#6C606B\\\" id=\\\"img-94aeed0a-23\\\">\\n    <g transform=\\\"translate(17.94,84.04)\\\" id=\\\"img-94aeed0a-24\\\">\\n      <g class=\\\"primitive\\\">\\n        <text text-anchor=\\\"end\\\" dy=\\\"0.35em\\\">0<\\/text>\\n      <\\/g>\\n    <\\/g>\\n    <g transform=\\\"translate(17.94,64.78)\\\" id=\\\"img-94aeed0a-25\\\">\\n      <g class=\\\"primitive\\\">\\n        <text text-anchor=\\\"end\\\" dy=\\\"0.35em\\\">50<\\/text>\\n      <\\/g>\\n    <\\/g>\\n    <g transform=\\\"translate(17.94,45.52)\\\" id=\\\"img-94aeed0a-26\\\">\\n      <g class=\\\"primitive\\\">\\n        <text text-anchor=\\\"end\\\" dy=\\\"0.35em\\\">100<\\/text>\\n      <\\/g>\\n    <\\/g>\\n    <g transform=\\\"translate(17.94,26.26)\\\" id=\\\"img-94aeed0a-27\\\">\\n      <g class=\\\"primitive\\\">\\n        <text text-anchor=\\\"end\\\" dy=\\\"0.35em\\\">150<\\/text>\\n      <\\/g>\\n    <\\/g>\\n    <g transform=\\\"translate(17.94,7)\\\" id=\\\"img-94aeed0a-28\\\">\\n      <g class=\\\"primitive\\\">\\n        <text text-anchor=\\\"end\\\" dy=\\\"0.35em\\\">200<\\/text>\\n      <\\/g>\\n    <\\/g>\\n  <\\/g>\\n  <g font-size=\\\"3.53\\\" font-family=\\\"'PT Sans','Helvetica Neue','Helvetica',sans-serif\\\" fill=\\\"#564A55\\\" stroke=\\\"#000000\\\" stroke-opacity=\\\"0.000\\\" id=\\\"img-94aeed0a-29\\\">\\n    <g transform=\\\"translate(9.92,45.52)\\\" id=\\\"img-94aeed0a-30\\\">\\n      <g class=\\\"primitive\\\">\\n        <text text-anchor=\\\"end\\\" dy=\\\"0.35em\\\">W<\\/text>\\n      <\\/g>\\n    <\\/g>\\n  <\\/g>\\n<\\/g>\\n<defs>\\n  <clipPath id=\\\"img-94aeed0a-5\\\">\\n    <path d=\\\"M18.94,5 L136.42,5 136.42,86.04 18.94,86.04 \\\" \\/>\\n  <\\/clipPath>\\n<\\/defs>\\n<\\/svg>\\n\"}}},\"children\":[{\"props\":{\"className\":\"webio-observable\",\"setInnerHtml\":\"<?xml version=\\\"1.0\\\" encoding=\\\"UTF-8\\\"?>\\n<svg xmlns=\\\"http:\\/\\/www.w3.org\\/2000\\/svg\\\"\\n     xmlns:xlink=\\\"http:\\/\\/www.w3.org\\/1999\\/xlink\\\"\\n     xmlns:gadfly=\\\"http:\\/\\/www.gadflyjl.org\\/ns\\\"\\n     version=\\\"1.2\\\"\\n     width=\\\"141.42mm\\\" height=\\\"100mm\\\" viewBox=\\\"0 0 141.42 100\\\"\\n     stroke=\\\"none\\\"\\n     fill=\\\"#000000\\\"\\n     stroke-width=\\\"0.3\\\"\\n     font-size=\\\"3.88\\\"\\n>\\n<defs>\\n  <marker id=\\\"arrow\\\" markerWidth=\\\"15\\\" markerHeight=\\\"7\\\" refX=\\\"5\\\" refY=\\\"3.5\\\" orient=\\\"auto\\\" markerUnits=\\\"strokeWidth\\\">\\n    <path d=\\\"M0,0 L15,3.5 L0,7 z\\\" stroke=\\\"context-stroke\\\" fill=\\\"context-stroke\\\"\\/>\\n  <\\/marker>\\n<\\/defs>\\n<g stroke=\\\"#000000\\\" stroke-opacity=\\\"0.000\\\" fill=\\\"#FFFFFF\\\" id=\\\"img-94aeed0a-1\\\">\\n  <g transform=\\\"translate(70.71,50)\\\">\\n    <path d=\\\"M-70.71,-50 L70.71,-50 70.71,50 -70.71,50  z\\\" class=\\\"primitive\\\"\\/>\\n  <\\/g>\\n<\\/g>\\n<g class=\\\"plotroot xscalable yscalable\\\" id=\\\"img-94aeed0a-2\\\">\\n  <g font-size=\\\"3.53\\\" font-family=\\\"'PT Sans','Helvetica Neue','Helvetica',sans-serif\\\" fill=\\\"#564A55\\\" stroke=\\\"#000000\\\" stroke-opacity=\\\"0.000\\\" id=\\\"img-94aeed0a-3\\\">\\n    <g transform=\\\"translate(77.68,93.72)\\\">\\n      <g class=\\\"primitive\\\">\\n        <text text-anchor=\\\"middle\\\" dy=\\\"0.6em\\\">t<\\/text>\\n      <\\/g>\\n    <\\/g>\\n  <\\/g>\\n  <g class=\\\"guide xlabels\\\" font-size=\\\"2.82\\\" font-family=\\\"'PT Sans Caption','Helvetica Neue','Helvetica',sans-serif\\\" fill=\\\"#6C606B\\\" id=\\\"img-94aeed0a-4\\\">\\n    <g transform=\\\"translate(20.94,87.04)\\\">\\n      <g class=\\\"primitive\\\">\\n        <text text-anchor=\\\"middle\\\" dy=\\\"0.6em\\\">0<\\/text>\\n      <\\/g>\\n    <\\/g>\\n    <g transform=\\\"translate(77.68,87.04)\\\">\\n      <g class=\\\"primitive\\\">\\n        <text text-anchor=\\\"middle\\\" dy=\\\"0.6em\\\">50<\\/text>\\n      <\\/g>\\n    <\\/g>\\n    <g transform=\\\"translate(134.42,87.04)\\\">\\n      <g class=\\\"primitive\\\">\\n        <text text-anchor=\\\"middle\\\" dy=\\\"0.6em\\\">100<\\/text>\\n      <\\/g>\\n    <\\/g>\\n  <\\/g>\\n  <g clip-path=\\\"url(#img-94aeed0a-5)\\\">\\n    <g id=\\\"img-94aeed0a-6\\\">\\n      <g pointer-events=\\\"visible\\\" stroke-width=\\\"0.3\\\" fill=\\\"#000000\\\" fill-opacity=\\\"0.000\\\" stroke=\\\"#000000\\\" stroke-opacity=\\\"0.000\\\" class=\\\"guide background\\\" id=\\\"img-94aeed0a-7\\\">\\n        <g transform=\\\"translate(77.68,45.52)\\\" id=\\\"img-94aeed0a-8\\\">\\n          <path d=\\\"M-58.74,-40.52 L58.74,-40.52 58.74,40.52 -58.74,40.52  z\\\" class=\\\"primitive\\\"\\/>\\n        <\\/g>\\n      <\\/g>\\n      <g class=\\\"guide ygridlines xfixed\\\" stroke-dasharray=\\\"0.5,0.5\\\" stroke-width=\\\"0.2\\\" stroke=\\\"#D0D0E0\\\" id=\\\"img-94aeed0a-9\\\">\\n        <g transform=\\\"translate(77.68,84.04)\\\" id=\\\"img-94aeed0a-10\\\">\\n          <path fill=\\\"none\\\" d=\\\"M-58.74,0 L58.74,0 \\\" class=\\\"primitive\\\"\\/>\\n        <\\/g>\\n        <g transform=\\\"translate(77.68,64.78)\\\" id=\\\"img-94aeed0a-11\\\">\\n          <path fill=\\\"none\\\" d=\\\"M-58.74,0 L58.74,0 \\\" class=\\\"primitive\\\"\\/>\\n        <\\/g>\\n        <g transform=\\\"translate(77.68,45.52)\\\" id=\\\"img-94aeed0a-12\\\">\\n          <path fill=\\\"none\\\" d=\\\"M-58.74,0 L58.74,0 \\\" class=\\\"primitive\\\"\\/>\\n        <\\/g>\\n        <g transform=\\\"translate(77.68,26.26)\\\" id=\\\"img-94aeed0a-13\\\">\\n          <path fill=\\\"none\\\" d=\\\"M-58.74,0 L58.74,0 \\\" class=\\\"primitive\\\"\\/>\\n        <\\/g>\\n        <g transform=\\\"translate(77.68,7)\\\" id=\\\"img-94aeed0a-14\\\">\\n          <path fill=\\\"none\\\" d=\\\"M-58.74,0 L58.74,0 \\\" class=\\\"primitive\\\"\\/>\\n        <\\/g>\\n      <\\/g>\\n      <g class=\\\"guide xgridlines yfixed\\\" stroke-dasharray=\\\"0.5,0.5\\\" stroke-width=\\\"0.2\\\" stroke=\\\"#D0D0E0\\\" id=\\\"img-94aeed0a-15\\\">\\n        <g transform=\\\"translate(20.94,45.52)\\\" id=\\\"img-94aeed0a-16\\\">\\n          <path fill=\\\"none\\\" d=\\\"M0,-40.52 L0,40.52 \\\" class=\\\"primitive\\\"\\/>\\n        <\\/g>\\n        <g transform=\\\"translate(77.68,45.52)\\\" id=\\\"img-94aeed0a-17\\\">\\n          <path fill=\\\"none\\\" d=\\\"M0,-40.52 L0,40.52 \\\" class=\\\"primitive\\\"\\/>\\n        <\\/g>\\n        <g transform=\\\"translate(134.42,45.52)\\\" id=\\\"img-94aeed0a-18\\\">\\n          <path fill=\\\"none\\\" d=\\\"M0,-40.52 L0,40.52 \\\" class=\\\"primitive\\\"\\/>\\n        <\\/g>\\n      <\\/g>\\n      <g class=\\\"plotpanel\\\" id=\\\"img-94aeed0a-19\\\">\\n        <metadata>\\n          <boundingbox value=\\\"18.936666666666667mm 5.0mm 117.48468957064284mm 81.04333333333335mm\\\"\\/>\\n          <unitbox value=\\\"-1.762352267576169 205.19188335568728 103.52470453515235 -210.38376671137456\\\"\\/>\\n        <\\/metadata>\\n        <g stroke-width=\\\"0.3\\\" fill=\\\"#000000\\\" fill-opacity=\\\"0.000\\\" class=\\\"geometry\\\" id=\\\"img-94aeed0a-20\\\">\\n          <g class=\\\"color_LCHab{Float32}(70.0f0,60.0f0,240.0f0)\\\" stroke-dasharray=\\\"none\\\" stroke-opacity=\\\"1\\\" stroke=\\\"#00BFFF\\\" id=\\\"img-94aeed0a-21\\\">\\n            <g transform=\\\"translate(77.68,46.97)\\\" id=\\\"img-94aeed0a-22\\\">\\n              <path fill=\\\"none\\\" d=\\\"M-56.74,35.15 L-55.61,26 -54.47,19.14 -53.34,13.99 -52.2,10.13 -51.07,7.23 -49.93,5.06 -48.8,3.44 -47.66,2.21 -46.53,1.3 -45.39,0.61 -44.26,0.1 -43.12,-0.29 -41.99,-0.58 -40.85,-0.8 -39.72,-0.96 -38.58,-1.08 -37.45,-1.17 -36.32,-1.24 -35.18,-1.29 -34.05,-1.33 -32.91,-1.36 -31.78,-1.38 -30.64,-1.4 -29.51,-1.41 -28.37,-1.42 -27.24,-1.43 -26.1,-1.43 -24.97,-1.44 -23.83,-1.44 -22.7,-1.44 -21.56,-1.44 -20.43,-1.45 -19.29,-1.45 -18.16,-1.45 -17.02,-1.45 -15.89,-1.45 -14.75,-1.45 -13.62,-1.45 -12.48,-1.45 -11.35,-1.45 -10.21,-1.45 -9.08,-1.45 -7.94,-1.45 -6.81,-1.45 -5.67,-1.45 -4.54,-1.45 -3.4,-1.45 -2.27,-1.45 -1.13,-1.45 0,-1.45 1.13,-1.45 2.27,-1.45 3.4,-1.45 4.54,-1.45 5.67,-1.45 6.81,-1.45 7.94,-1.45 9.08,-1.45 10.21,-1.45 11.35,-1.45 12.48,-1.45 13.62,-1.45 14.75,-1.45 15.89,-1.45 17.02,-1.45 18.16,-1.45 19.29,-1.45 20.43,-1.45 21.56,-1.45 22.7,-1.45 23.83,-1.45 24.97,-1.45 26.1,-1.45 27.24,-1.45 28.37,-1.45 29.51,-1.45 30.64,-1.45 31.78,-1.45 32.91,-1.45 34.05,-1.45 35.18,-1.45 36.32,-1.45 37.45,-1.45 38.58,-1.45 39.72,-1.45 40.85,-1.45 41.99,-1.45 43.12,-1.45 44.26,-1.45 45.39,-1.45 46.53,-1.45 47.66,-1.45 48.8,-1.45 49.93,-1.45 51.07,-1.45 52.2,-1.45 53.34,-1.45 54.47,-1.45 55.61,-1.45 56.74,-1.45 \\\" class=\\\"primitive\\\"\\/>\\n            <\\/g>\\n          <\\/g>\\n        <\\/g>\\n      <\\/g>\\n    <\\/g>\\n  <\\/g>\\n  <g class=\\\"guide ylabels\\\" font-size=\\\"2.82\\\" font-family=\\\"'PT Sans Caption','Helvetica Neue','Helvetica',sans-serif\\\" fill=\\\"#6C606B\\\" id=\\\"img-94aeed0a-23\\\">\\n    <g transform=\\\"translate(17.94,84.04)\\\" id=\\\"img-94aeed0a-24\\\">\\n      <g class=\\\"primitive\\\">\\n        <text text-anchor=\\\"end\\\" dy=\\\"0.35em\\\">0<\\/text>\\n      <\\/g>\\n    <\\/g>\\n    <g transform=\\\"translate(17.94,64.78)\\\" id=\\\"img-94aeed0a-25\\\">\\n      <g class=\\\"primitive\\\">\\n        <text text-anchor=\\\"end\\\" dy=\\\"0.35em\\\">50<\\/text>\\n      <\\/g>\\n    <\\/g>\\n    <g transform=\\\"translate(17.94,45.52)\\\" id=\\\"img-94aeed0a-26\\\">\\n      <g class=\\\"primitive\\\">\\n        <text text-anchor=\\\"end\\\" dy=\\\"0.35em\\\">100<\\/text>\\n      <\\/g>\\n    <\\/g>\\n    <g transform=\\\"translate(17.94,26.26)\\\" id=\\\"img-94aeed0a-27\\\">\\n      <g class=\\\"primitive\\\">\\n        <text text-anchor=\\\"end\\\" dy=\\\"0.35em\\\">150<\\/text>\\n      <\\/g>\\n    <\\/g>\\n    <g transform=\\\"translate(17.94,7)\\\" id=\\\"img-94aeed0a-28\\\">\\n      <g class=\\\"primitive\\\">\\n        <text text-anchor=\\\"end\\\" dy=\\\"0.35em\\\">200<\\/text>\\n      <\\/g>\\n    <\\/g>\\n  <\\/g>\\n  <g font-size=\\\"3.53\\\" font-family=\\\"'PT Sans','Helvetica Neue','Helvetica',sans-serif\\\" fill=\\\"#564A55\\\" stroke=\\\"#000000\\\" stroke-opacity=\\\"0.000\\\" id=\\\"img-94aeed0a-29\\\">\\n    <g transform=\\\"translate(9.92,45.52)\\\" id=\\\"img-94aeed0a-30\\\">\\n      <g class=\\\"primitive\\\">\\n        <text text-anchor=\\\"end\\\" dy=\\\"0.35em\\\">W<\\/text>\\n      <\\/g>\\n    <\\/g>\\n  <\\/g>\\n<\\/g>\\n<defs>\\n  <clipPath id=\\\"img-94aeed0a-5\\\">\\n    <path d=\\\"M18.94,5 L136.42,5 136.42,86.04 18.94,86.04 \\\" \\/>\\n  <\\/clipPath>\\n<\\/defs>\\n<\\/svg>\\n\"},\"nodeType\":\"DOM\",\"type\":\"node\",\"instanceArgs\":{\"namespace\":\"html\",\"tag\":\"div\"},\"children\":[]}]}]},\n",
       "        window,\n",
       "    );\n",
       "    })()\n",
       "    </script>\n",
       "</div>\n"
      ],
      "text/plain": [
       "WebIO.Node{WebIO.DOM}(WebIO.DOM(:html, :div), Any[WebIO.Node{WebIO.DOM}(WebIO.DOM(:html, :div), Any[\"Mono\"], Dict{Symbol, Any}(:style => Dict{String, Any}(\"color\" => :rebeccapurple, \"font-family\" => \"monospace\"))), WebIO.Node{WebIO.DOM}(WebIO.DOM(:html, :div), Any[WebIO.Scope(WebIO.Node{WebIO.DOM}(WebIO.DOM(:html, :div), Any[WebIO.Node{WebIO.DOM}(WebIO.DOM(:html, :div), Any[WebIO.Node{WebIO.DOM}(WebIO.DOM(:html, :label), Any[\"k\"], Dict{Symbol, Any}(:className => \"interact \", :style => Dict{Any, Any}(:padding => \"5px 10px 0px 10px\", \"white-space\" => :nowrap, \"color\" => :royalblue)))], Dict{Symbol, Any}(:className => \"interact-flex-row-left\")), WebIO.Node{WebIO.DOM}(WebIO.DOM(:html, :div), Any[WebIO.Node{WebIO.DOM}(WebIO.DOM(:html, :input), Any[], Dict{Symbol, Any}(:max => 51, :min => 1, :attributes => Dict{Any, Any}(:type => \"range\", Symbol(\"data-bind\") => \"numericValue: index, valueUpdate: 'input', event: {change: function (){this.changes(this.changes()+1)}}\", \"orient\" => \"horizontal\"), :step => 1, :className => \"slider slider is-fullwidth\", :style => Dict{Any, Any}()))], Dict{Symbol, Any}(:className => \"interact-flex-row-center\")), WebIO.Node{WebIO.DOM}(WebIO.DOM(:html, :div), Any[WebIO.Node{WebIO.DOM}(WebIO.DOM(:html, :p), Any[], Dict{Symbol, Any}(:attributes => Dict(\"data-bind\" => \"text: formatted_val\")))], Dict{Symbol, Any}(:className => \"interact-flex-row-right\"))], Dict{Symbol, Any}(:className => \"interact-flex-row interact-widget\", :style => Dict(\"font-family\" => \"monospace\", \"width\" => \"80%\"))), Dict{String, Tuple{Observables.AbstractObservable, Union{Nothing, Bool}}}(\"changes\" => (Observable(0), nothing), \"index\" => (Observable{Any}(26), nothing)), Set{String}(), nothing, WebIO.Asset[WebIO.Asset(\"js\", \"knockout\", \"/opt/julia/packages/Knockout/HReiN/src/../assets/knockout.js\"), WebIO.Asset(\"js\", \"knockout_punches\", \"/opt/julia/packages/Knockout/HReiN/src/../assets/knockout_punches.js\"), WebIO.Asset(\"js\", nothing, \"/opt/julia/packages/InteractBase/LJXv3/src/../assets/all.js\"), WebIO.Asset(\"css\", nothing, \"/opt/julia/packages/InteractBase/LJXv3/src/../assets/style.css\"), WebIO.Asset(\"css\", nothing, \"/opt/julia/packages/Interact/PENUy/src/../assets/bulma_confined.min.css\")], Dict{Any, Any}(\"changes\" => Any[WebIO.JSString(\"(function (val){return (val!=this.model[\\\"changes\\\"]()) ? (this.valueFromJulia[\\\"changes\\\"]=true, this.model[\\\"changes\\\"](val)) : undefined})\")], \"index\" => Any[WebIO.JSString(\"(function (val){return (val!=this.model[\\\"index\\\"]()) ? (this.valueFromJulia[\\\"index\\\"]=true, this.model[\\\"index\\\"](val)) : undefined})\")]), WebIO.ConnectionPool(Channel{Any}(32), Set{WebIO.AbstractConnection}(), Base.GenericCondition{ReentrantLock}(Base.IntrusiveLinkedList{Task}(Task (runnable) @0x00007f0de7c276c0, Task (runnable) @0x00007f0de7c276c0), ReentrantLock(nothing, 0x00000000, 0x00, Base.GenericCondition{Base.Threads.SpinLock}(Base.IntrusiveLinkedList{Task}(nothing, nothing), Base.Threads.SpinLock(0)), (0, 0, 139779710648320)))), WebIO.JSString[WebIO.JSString(\"function () {\\n    var handler = (function (ko, koPunches) {\\n    ko.punches.enableAll();\\n    ko.bindingHandlers.numericValue = {\\n        init: function(element, valueAccessor, allBindings, data, context) {\\n            var stringified = ko.observable(ko.unwrap(valueAccessor()));\\n            stringified.subscribe(function(value) {\\n                var val = parseFloat(value);\\n                if (!isNaN(val)) {\\n                    valueAccessor()(val);\\n                }\\n            });\\n            valueAccessor().subscribe(function(value) {\\n                var str = JSON.stringify(value);\\n                if ((str == \\\"0\\\") && ([\\\"-0\\\", \\\"-0.\\\"].indexOf(stringified()) >= 0))\\n                     return;\\n                 if ([\\\"null\\\", \\\"\\\"].indexOf(str) >= 0)\\n                     return;\\n                stringified(str);\\n            });\\n            ko.applyBindingsToNode(\\n                element,\\n                {\\n                    value: stringified,\\n                    valueUpdate: allBindings.get('valueUpdate'),\\n                },\\n                context,\\n            );\\n        }\\n    };\\n    var json_data = {\\\"formatted_vals\\\":[\\\"0.0\\\",\\\"0.01\\\",\\\"0.02\\\",\\\"0.03\\\",\\\"0.04\\\",\\\"0.05\\\",\\\"0.06\\\",\\\"0.07\\\",\\\"0.08\\\",\\\"0.09\\\",\\\"0.1\\\",\\\"0.11\\\",\\\"0.12\\\",\\\"0.13\\\",\\\"0.14\\\",\\\"0.15\\\",\\\"0.16\\\",\\\"0.17\\\",\\\"0.18\\\",\\\"0.19\\\",\\\"0.2\\\",\\\"0.21\\\",\\\"0.22\\\",\\\"0.23\\\",\\\"0.24\\\",\\\"0.25\\\",\\\"0.26\\\",\\\"0.27\\\",\\\"0.28\\\",\\\"0.29\\\",\\\"0.3\\\",\\\"0.31\\\",\\\"0.32\\\",\\\"0.33\\\",\\\"0.34\\\",\\\"0.35\\\",\\\"0.36\\\",\\\"0.37\\\",\\\"0.38\\\",\\\"0.39\\\",\\\"0.4\\\",\\\"0.41\\\",\\\"0.42\\\",\\\"0.43\\\",\\\"0.44\\\",\\\"0.45\\\",\\\"0.46\\\",\\\"0.47\\\",\\\"0.48\\\",\\\"0.49\\\",\\\"0.5\\\"],\\\"changes\\\":WebIO.getval({\\\"name\\\":\\\"changes\\\",\\\"scope\\\":\\\"12203114021784563749\\\",\\\"id\\\":\\\"317692348598560463\\\",\\\"type\\\":\\\"observable\\\"}),\\\"index\\\":WebIO.getval({\\\"name\\\":\\\"index\\\",\\\"scope\\\":\\\"12203114021784563749\\\",\\\"id\\\":\\\"15772704696651355713\\\",\\\"type\\\":\\\"observable\\\"})};\\n    var self = this;\\n    function AppViewModel() {\\n        for (var key in json_data) {\\n            var el = json_data[key];\\n            this[key] = Array.isArray(el) ? ko.observableArray(el) : ko.observable(el);\\n        }\\n        \\n        [this[\\\"formatted_val\\\"]=ko.computed(    function(){\\n        return this.formatted_vals()[parseInt(this.index())-(1)];\\n    }\\n,this)]\\n        [this[\\\"changes\\\"].subscribe((function (val){!(this.valueFromJulia[\\\"changes\\\"]) ? (WebIO.setval({\\\"name\\\":\\\"changes\\\",\\\"scope\\\":\\\"12203114021784563749\\\",\\\"id\\\":\\\"317692348598560463\\\",\\\"type\\\":\\\"observable\\\"},val)) : undefined; return this.valueFromJulia[\\\"changes\\\"]=false}),self),this[\\\"index\\\"].subscribe((function (val){!(this.valueFromJulia[\\\"index\\\"]) ? (WebIO.setval({\\\"name\\\":\\\"index\\\",\\\"scope\\\":\\\"12203114021784563749\\\",\\\"id\\\":\\\"15772704696651355713\\\",\\\"type\\\":\\\"observable\\\"},val)) : undefined; return this.valueFromJulia[\\\"index\\\"]=false}),self)]\\n        \\n    }\\n    self.model = new AppViewModel();\\n    self.valueFromJulia = {};\\n    for (var key in json_data) {\\n        self.valueFromJulia[key] = false;\\n    }\\n    ko.applyBindings(self.model, self.dom);\\n}\\n);\\n    (WebIO.importBlock({\\\"data\\\":[{\\\"name\\\":\\\"knockout\\\",\\\"type\\\":\\\"js\\\",\\\"url\\\":\\\"/assetserver/d749de49a15576291e39755d819be2408bf7f995-knockout.js\\\"},{\\\"name\\\":\\\"knockout_punches\\\",\\\"type\\\":\\\"js\\\",\\\"url\\\":\\\"/assetserver/9f5c86158cf79faf331cfb32636cb08a9b1f0dc2-knockout_punches.js\\\"}],\\\"type\\\":\\\"async_block\\\"})).then((imports) => handler.apply(this, imports));\\n}\\n\")])], Dict{Symbol, Any}(:className => \"field interact-widget\")), WebIO.Node{WebIO.DOM}(WebIO.DOM(:html, :div), Any[WebIO.Scope(WebIO.Node{WebIO.DOM}(WebIO.DOM(:html, :div), Any[WebIO.Node{WebIO.DOM}(WebIO.DOM(:html, :div), Any[WebIO.Node{WebIO.DOM}(WebIO.DOM(:html, :label), Any[\"W0\"], Dict{Symbol, Any}(:className => \"interact \", :style => Dict{Any, Any}(:padding => \"5px 10px 0px 10px\", \"white-space\" => :nowrap, \"color\" => :royalblue)))], Dict{Symbol, Any}(:className => \"interact-flex-row-left\")), WebIO.Node{WebIO.DOM}(WebIO.DOM(:html, :div), Any[WebIO.Node{WebIO.DOM}(WebIO.DOM(:html, :input), Any[], Dict{Symbol, Any}(:max => 101, :min => 1, :attributes => Dict{Any, Any}(:type => \"range\", Symbol(\"data-bind\") => \"numericValue: index, valueUpdate: 'input', event: {change: function (){this.changes(this.changes()+1)}}\", \"orient\" => \"horizontal\"), :step => 1, :className => \"slider slider is-fullwidth\", :style => Dict{Any, Any}()))], Dict{Symbol, Any}(:className => \"interact-flex-row-center\")), WebIO.Node{WebIO.DOM}(WebIO.DOM(:html, :div), Any[WebIO.Node{WebIO.DOM}(WebIO.DOM(:html, :p), Any[], Dict{Symbol, Any}(:attributes => Dict(\"data-bind\" => \"text: formatted_val\")))], Dict{Symbol, Any}(:className => \"interact-flex-row-right\"))], Dict{Symbol, Any}(:className => \"interact-flex-row interact-widget\", :style => Dict(\"font-family\" => \"monospace\", \"width\" => \"80%\"))), Dict{String, Tuple{Observables.AbstractObservable, Union{Nothing, Bool}}}(\"changes\" => (Observable(0), nothing), \"index\" => (Observable{Any}(51), nothing)), Set{String}(), nothing, WebIO.Asset[WebIO.Asset(\"js\", \"knockout\", \"/opt/julia/packages/Knockout/HReiN/src/../assets/knockout.js\"), WebIO.Asset(\"js\", \"knockout_punches\", \"/opt/julia/packages/Knockout/HReiN/src/../assets/knockout_punches.js\"), WebIO.Asset(\"js\", nothing, \"/opt/julia/packages/InteractBase/LJXv3/src/../assets/all.js\"), WebIO.Asset(\"css\", nothing, \"/opt/julia/packages/InteractBase/LJXv3/src/../assets/style.css\"), WebIO.Asset(\"css\", nothing, \"/opt/julia/packages/Interact/PENUy/src/../assets/bulma_confined.min.css\")], Dict{Any, Any}(\"changes\" => Any[WebIO.JSString(\"(function (val){return (val!=this.model[\\\"changes\\\"]()) ? (this.valueFromJulia[\\\"changes\\\"]=true, this.model[\\\"changes\\\"](val)) : undefined})\")], \"index\" => Any[WebIO.JSString(\"(function (val){return (val!=this.model[\\\"index\\\"]()) ? (this.valueFromJulia[\\\"index\\\"]=true, this.model[\\\"index\\\"](val)) : undefined})\")]), WebIO.ConnectionPool(Channel{Any}(32), Set{WebIO.AbstractConnection}(), Base.GenericCondition{ReentrantLock}(Base.IntrusiveLinkedList{Task}(Task (runnable) @0x00007f0de7c75dc0, Task (runnable) @0x00007f0de7c75dc0), ReentrantLock(nothing, 0x00000000, 0x00, Base.GenericCondition{Base.Threads.SpinLock}(Base.IntrusiveLinkedList{Task}(nothing, nothing), Base.Threads.SpinLock(0)), (0, 0, 139779710648320)))), WebIO.JSString[WebIO.JSString(\"function () {\\n    var handler = (function (ko, koPunches) {\\n    ko.punches.enableAll();\\n    ko.bindingHandlers.numericValue = {\\n        init: function(element, valueAccessor, allBindings, data, context) {\\n            var stringified = ko.observable(ko.unwrap(valueAccessor()));\\n            stringified.subscribe(function(value) {\\n                var val = parseFloat(value);\\n                if (!isNaN(val)) {\\n                    valueAccessor()(val);\\n                }\\n            });\\n            valueAccessor().subscribe(function(value) {\\n                var str = JSON.stringify(value);\\n                if ((str == \\\"0\\\") && ([\\\"-0\\\", \\\"-0.\\\"].indexOf(stringified()) >= 0))\\n                     return;\\n                 if ([\\\"null\\\", \\\"\\\"].indexOf(str) >= 0)\\n                     return;\\n                stringified(str);\\n            });\\n            ko.applyBindingsToNode(\\n                element,\\n                {\\n                    value: stringified,\\n                    valueUpdate: allBindings.get('valueUpdate'),\\n                },\\n                context,\\n            );\\n        }\\n    };\\n    var json_data = {\\\"formatted_vals\\\":[\\\"0.0\\\",\\\"0.1\\\",\\\"0.2\\\",\\\"0.3\\\",\\\"0.4\\\",\\\"0.5\\\",\\\"0.6\\\",\\\"0.7\\\",\\\"0.8\\\",\\\"0.9\\\",\\\"1.0\\\",\\\"1.1\\\",\\\"1.2\\\",\\\"1.3\\\",\\\"1.4\\\",\\\"1.5\\\",\\\"1.6\\\",\\\"1.7\\\",\\\"1.8\\\",\\\"1.9\\\",\\\"2.0\\\",\\\"2.1\\\",\\\"2.2\\\",\\\"2.3\\\",\\\"2.4\\\",\\\"2.5\\\",\\\"2.6\\\",\\\"2.7\\\",\\\"2.8\\\",\\\"2.9\\\",\\\"3.0\\\",\\\"3.1\\\",\\\"3.2\\\",\\\"3.3\\\",\\\"3.4\\\",\\\"3.5\\\",\\\"3.6\\\",\\\"3.7\\\",\\\"3.8\\\",\\\"3.9\\\",\\\"4.0\\\",\\\"4.1\\\",\\\"4.2\\\",\\\"4.3\\\",\\\"4.4\\\",\\\"4.5\\\",\\\"4.6\\\",\\\"4.7\\\",\\\"4.8\\\",\\\"4.9\\\",\\\"5.0\\\",\\\"5.1\\\",\\\"5.2\\\",\\\"5.3\\\",\\\"5.4\\\",\\\"5.5\\\",\\\"5.6\\\",\\\"5.7\\\",\\\"5.8\\\",\\\"5.9\\\",\\\"6.0\\\",\\\"6.1\\\",\\\"6.2\\\",\\\"6.3\\\",\\\"6.4\\\",\\\"6.5\\\",\\\"6.6\\\",\\\"6.7\\\",\\\"6.8\\\",\\\"6.9\\\",\\\"7.0\\\",\\\"7.1\\\",\\\"7.2\\\",\\\"7.3\\\",\\\"7.4\\\",\\\"7.5\\\",\\\"7.6\\\",\\\"7.7\\\",\\\"7.8\\\",\\\"7.9\\\",\\\"8.0\\\",\\\"8.1\\\",\\\"8.2\\\",\\\"8.3\\\",\\\"8.4\\\",\\\"8.5\\\",\\\"8.6\\\",\\\"8.7\\\",\\\"8.8\\\",\\\"8.9\\\",\\\"9.0\\\",\\\"9.1\\\",\\\"9.2\\\",\\\"9.3\\\",\\\"9.4\\\",\\\"9.5\\\",\\\"9.6\\\",\\\"9.7\\\",\\\"9.8\\\",\\\"9.9\\\",\\\"10.0\\\"],\\\"changes\\\":WebIO.getval({\\\"name\\\":\\\"changes\\\",\\\"scope\\\":\\\"12037821930443123817\\\",\\\"id\\\":\\\"7470520918070639021\\\",\\\"type\\\":\\\"observable\\\"}),\\\"index\\\":WebIO.getval({\\\"name\\\":\\\"index\\\",\\\"scope\\\":\\\"12037821930443123817\\\",\\\"id\\\":\\\"11464433054547962239\\\",\\\"type\\\":\\\"observable\\\"})};\\n    var self = this;\\n    function AppViewModel() {\\n        for (var key in json_data) {\\n            var el = json_data[key];\\n            this[key] = Array.isArray(el) ? ko.observableArray(el) : ko.observable(el);\\n        }\\n        \\n        [this[\\\"formatted_val\\\"]=ko.computed(    function(){\\n        return this.formatted_vals()[parseInt(this.index())-(1)];\\n    }\\n,this)]\\n        [this[\\\"changes\\\"].subscribe((function (val){!(this.valueFromJulia[\\\"changes\\\"]) ? (WebIO.setval({\\\"name\\\":\\\"changes\\\",\\\"scope\\\":\\\"12037821930443123817\\\",\\\"id\\\":\\\"7470520918070639021\\\",\\\"type\\\":\\\"observable\\\"},val)) : undefined; return this.valueFromJulia[\\\"changes\\\"]=false}),self),this[\\\"index\\\"].subscribe((function (val){!(this.valueFromJulia[\\\"index\\\"]) ? (WebIO.setval({\\\"name\\\":\\\"index\\\",\\\"scope\\\":\\\"12037821930443123817\\\",\\\"id\\\":\\\"11464433054547962239\\\",\\\"type\\\":\\\"observable\\\"},val)) : undefined; return this.valueFromJulia[\\\"index\\\"]=false}),self)]\\n        \\n    }\\n    self.model = new AppViewModel();\\n    self.valueFromJulia = {};\\n    for (var key in json_data) {\\n        self.valueFromJulia[key] = false;\\n    }\\n    ko.applyBindings(self.model, self.dom);\\n}\\n);\\n    (WebIO.importBlock({\\\"data\\\":[{\\\"name\\\":\\\"knockout\\\",\\\"type\\\":\\\"js\\\",\\\"url\\\":\\\"/assetserver/d749de49a15576291e39755d819be2408bf7f995-knockout.js\\\"},{\\\"name\\\":\\\"knockout_punches\\\",\\\"type\\\":\\\"js\\\",\\\"url\\\":\\\"/assetserver/9f5c86158cf79faf331cfb32636cb08a9b1f0dc2-knockout_punches.js\\\"}],\\\"type\\\":\\\"async_block\\\"})).then((imports) => handler.apply(this, imports));\\n}\\n\")])], Dict{Symbol, Any}(:className => \"field interact-widget\")), WebIO.Node{WebIO.DOM}(WebIO.DOM(:html, :div), Any[WebIO.Scope(WebIO.Node{WebIO.DOM}(WebIO.DOM(:html, :div), Any[WebIO.Node{WebIO.DOM}(WebIO.DOM(:html, :div), Any[WebIO.Node{WebIO.DOM}(WebIO.DOM(:html, :label), Any[\"Wf\"], Dict{Symbol, Any}(:className => \"interact \", :style => Dict{Any, Any}(:padding => \"5px 10px 0px 10px\", \"white-space\" => :nowrap, \"color\" => :royalblue)))], Dict{Symbol, Any}(:className => \"interact-flex-row-left\")), WebIO.Node{WebIO.DOM}(WebIO.DOM(:html, :div), Any[WebIO.Node{WebIO.DOM}(WebIO.DOM(:html, :input), Any[], Dict{Symbol, Any}(:max => 20, :min => 1, :attributes => Dict{Any, Any}(:type => \"range\", Symbol(\"data-bind\") => \"numericValue: index, valueUpdate: 'input', event: {change: function (){this.changes(this.changes()+1)}}\", \"orient\" => \"horizontal\"), :step => 1, :className => \"slider slider is-fullwidth\", :style => Dict{Any, Any}()))], Dict{Symbol, Any}(:className => \"interact-flex-row-center\")), WebIO.Node{WebIO.DOM}(WebIO.DOM(:html, :div), Any[WebIO.Node{WebIO.DOM}(WebIO.DOM(:html, :p), Any[], Dict{Symbol, Any}(:attributes => Dict(\"data-bind\" => \"text: formatted_val\")))], Dict{Symbol, Any}(:className => \"interact-flex-row-right\"))], Dict{Symbol, Any}(:className => \"interact-flex-row interact-widget\", :style => Dict(\"font-family\" => \"monospace\", \"width\" => \"80%\"))), Dict{String, Tuple{Observables.AbstractObservable, Union{Nothing, Bool}}}(\"changes\" => (Observable(0), nothing), \"index\" => (Observable{Any}(10), nothing)), Set{String}(), nothing, WebIO.Asset[WebIO.Asset(\"js\", \"knockout\", \"/opt/julia/packages/Knockout/HReiN/src/../assets/knockout.js\"), WebIO.Asset(\"js\", \"knockout_punches\", \"/opt/julia/packages/Knockout/HReiN/src/../assets/knockout_punches.js\"), WebIO.Asset(\"js\", nothing, \"/opt/julia/packages/InteractBase/LJXv3/src/../assets/all.js\"), WebIO.Asset(\"css\", nothing, \"/opt/julia/packages/InteractBase/LJXv3/src/../assets/style.css\"), WebIO.Asset(\"css\", nothing, \"/opt/julia/packages/Interact/PENUy/src/../assets/bulma_confined.min.css\")], Dict{Any, Any}(\"changes\" => Any[WebIO.JSString(\"(function (val){return (val!=this.model[\\\"changes\\\"]()) ? (this.valueFromJulia[\\\"changes\\\"]=true, this.model[\\\"changes\\\"](val)) : undefined})\")], \"index\" => Any[WebIO.JSString(\"(function (val){return (val!=this.model[\\\"index\\\"]()) ? (this.valueFromJulia[\\\"index\\\"]=true, this.model[\\\"index\\\"](val)) : undefined})\")]), WebIO.ConnectionPool(Channel{Any}(32), Set{WebIO.AbstractConnection}(), Base.GenericCondition{ReentrantLock}(Base.IntrusiveLinkedList{Task}(Task (runnable) @0x00007f0de9a84e20, Task (runnable) @0x00007f0de9a84e20), ReentrantLock(nothing, 0x00000000, 0x00, Base.GenericCondition{Base.Threads.SpinLock}(Base.IntrusiveLinkedList{Task}(nothing, nothing), Base.Threads.SpinLock(0)), (1, 0, 0)))), WebIO.JSString[WebIO.JSString(\"function () {\\n    var handler = (function (ko, koPunches) {\\n    ko.punches.enableAll();\\n    ko.bindingHandlers.numericValue = {\\n        init: function(element, valueAccessor, allBindings, data, context) {\\n            var stringified = ko.observable(ko.unwrap(valueAccessor()));\\n            stringified.subscribe(function(value) {\\n                var val = parseFloat(value);\\n                if (!isNaN(val)) {\\n                    valueAccessor()(val);\\n                }\\n            });\\n            valueAccessor().subscribe(function(value) {\\n                var str = JSON.stringify(value);\\n                if ((str == \\\"0\\\") && ([\\\"-0\\\", \\\"-0.\\\"].indexOf(stringified()) >= 0))\\n                     return;\\n                 if ([\\\"null\\\", \\\"\\\"].indexOf(str) >= 0)\\n                     return;\\n                stringified(str);\\n            });\\n            ko.applyBindingsToNode(\\n                element,\\n                {\\n                    value: stringified,\\n                    valueUpdate: allBindings.get('valueUpdate'),\\n                },\\n                context,\\n            );\\n        }\\n    };\\n    var json_data = {\\\"formatted_vals\\\":[\\\"10\\\",\\\"20\\\",\\\"30\\\",\\\"40\\\",\\\"50\\\",\\\"60\\\",\\\"70\\\",\\\"80\\\",\\\"90\\\",\\\"100\\\",\\\"110\\\",\\\"120\\\",\\\"130\\\",\\\"140\\\",\\\"150\\\",\\\"160\\\",\\\"170\\\",\\\"180\\\",\\\"190\\\",\\\"200\\\"],\\\"changes\\\":WebIO.getval({\\\"name\\\":\\\"changes\\\",\\\"scope\\\":\\\"14802725600465107276\\\",\\\"id\\\":\\\"4446353287741361030\\\",\\\"type\\\":\\\"observable\\\"}),\\\"index\\\":WebIO.getval({\\\"name\\\":\\\"index\\\",\\\"scope\\\":\\\"14802725600465107276\\\",\\\"id\\\":\\\"12429458308611016213\\\",\\\"type\\\":\\\"observable\\\"})};\\n    var self = this;\\n    function AppViewModel() {\\n        for (var key in json_data) {\\n            var el = json_data[key];\\n            this[key] = Array.isArray(el) ? ko.observableArray(el) : ko.observable(el);\\n        }\\n        \\n        [this[\\\"formatted_val\\\"]=ko.computed(    function(){\\n        return this.formatted_vals()[parseInt(this.index())-(1)];\\n    }\\n,this)]\\n        [this[\\\"changes\\\"].subscribe((function (val){!(this.valueFromJulia[\\\"changes\\\"]) ? (WebIO.setval({\\\"name\\\":\\\"changes\\\",\\\"scope\\\":\\\"14802725600465107276\\\",\\\"id\\\":\\\"4446353287741361030\\\",\\\"type\\\":\\\"observable\\\"},val)) : undefined; return this.valueFromJulia[\\\"changes\\\"]=false}),self),this[\\\"index\\\"].subscribe((function (val){!(this.valueFromJulia[\\\"index\\\"]) ? (WebIO.setval({\\\"name\\\":\\\"index\\\",\\\"scope\\\":\\\"14802725600465107276\\\",\\\"id\\\":\\\"12429458308611016213\\\",\\\"type\\\":\\\"observable\\\"},val)) : undefined; return this.valueFromJulia[\\\"index\\\"]=false}),self)]\\n        \\n    }\\n    self.model = new AppViewModel();\\n    self.valueFromJulia = {};\\n    for (var key in json_data) {\\n        self.valueFromJulia[key] = false;\\n    }\\n    ko.applyBindings(self.model, self.dom);\\n}\\n);\\n    (WebIO.importBlock({\\\"data\\\":[{\\\"name\\\":\\\"knockout\\\",\\\"type\\\":\\\"js\\\",\\\"url\\\":\\\"/assetserver/d749de49a15576291e39755d819be2408bf7f995-knockout.js\\\"},{\\\"name\\\":\\\"knockout_punches\\\",\\\"type\\\":\\\"js\\\",\\\"url\\\":\\\"/assetserver/9f5c86158cf79faf331cfb32636cb08a9b1f0dc2-knockout_punches.js\\\"}],\\\"type\\\":\\\"async_block\\\"})).then((imports) => handler.apply(this, imports));\\n}\\n\")])], Dict{Symbol, Any}(:className => \"field interact-widget\")), Observable(Gadfly.Plot(Gadfly.Layer[Gadfly.Layer(nothing, Dict{Symbol, Any}(:y => [5.0, 28.75, 46.5625, 59.921875, 69.94140625, 77.4560546875, 83.092041015625, 87.31903076171875, 90.48927307128906, 92.8669548034668  …  99.99999999959421, 99.99999999969566, 99.99999999977175, 99.99999999982882, 99.99999999987162, 99.99999999990371, 99.99999999992778, 99.99999999994583, 99.99999999995937, 99.99999999996953], :x => [0.0, 1.0, 2.0, 3.0, 4.0, 5.0, 6.0, 7.0, 8.0, 9.0  …  91.0, 92.0, 93.0, 94.0, 95.0, 96.0, 97.0, 98.0, 99.0, 100.0]), Gadfly.StatisticElement[], Gadfly.Geom.LineGeometry(Gadfly.Stat.Identity(), false, 2, Symbol(\"\")), Gadfly.Theme(LCHab{Float32}(70.0f0,60.0f0,240.0f0), 0.7mm, 0.45mm, 1.8mm, Gadfly.Scale.default_discrete_sizes, Gadfly.Scale.default_continuous_sizes, Gadfly.Scale.default_discrete_colors, Function[Compose.circle, Gadfly.Shape.square, Gadfly.Shape.diamond, Gadfly.Shape.cross, Gadfly.Shape.xcross, Gadfly.Shape.utriangle, Gadfly.Shape.dtriangle, Gadfly.Shape.star1, Gadfly.Shape.star2, Gadfly.Shape.hexagon, Gadfly.Shape.octagon, Gadfly.Shape.hline, Gadfly.Shape.vline, Gadfly.Shape.ltriangle, Gadfly.Shape.rtriangle], 0.3mm, [:solid, :dash, :dot, :dashdot, :dashdotdot, :ldash, :ldashdash, :ldashdot, :ldashdashdot], [1.0, 0.9, 0.8, 0.7, 0.6, 0.5, 0.4, 0.3, 0.2, 0.1, 0.0], nothing, nothing, 0.3mm, 0.0, RGB{N0f8}(1.0,1.0,1.0), Measures.AbsoluteLength[5.0mm, 5.0mm, 5.0mm, 0.0mm], RGB{N0f8}(0.816,0.816,0.878), Measures.AbsoluteLength[0.5mm, 0.5mm], RGB{N0f8}(0.627,0.627,0.627), 0.2mm, 0, \"'PT Sans Caption','Helvetica Neue','Helvetica',sans-serif\", 2.822222222222222mm, RGB{N0f8}(0.424,0.376,0.42), \"'PT Sans','Helvetica Neue','Helvetica',sans-serif\", 3.5277777777777777mm, RGB{N0f8}(0.337,0.29,0.333), \"'PT Sans Caption','Helvetica Neue','Helvetica',sans-serif\", 2.822222222222222mm, RGB{N0f8}(0.298,0.251,0.294), \"'PT Sans','Helvetica Neue','Helvetica',sans-serif\", 3.175mm, RGB{N0f8}(0.212,0.165,0.208), \"'PT Sans','Helvetica Neue','Helvetica',sans-serif\", 2.822222222222222mm, RGB{N0f8}(0.298,0.251,0.294), 40, -0.05mm, 1.0mm, 3.0mm, Gadfly.default_stroke_color, 0.3mm, Cropbox.var\"#603#612\"(), Gadfly.default_continuous_highlight_color, Gadfly.default_lowlight_color, Gadfly.default_middle_color, 0.6mm, :left, :square, nothing, nothing, nothing, :right, nothing, 2.0mm, 1000, 10.0, 0.5, 0.2, 1.0mm, 4, Gadfly.Scale.DiscreteColorScale(Gadfly.Scale.default_discrete_colors, nothing, nothing, true), Gadfly.Scale.ContinuousColorScale(Gadfly.Scale.var\"#73#77\"{Int64, Int64, Int64, Int64, Float64, Int64}(100, 40, 260, 10, 1.5, 70), Gadfly.Scale.ContinuousScaleTransform(identity, identity, Gadfly.Scale.identity_formatter), nothing, nothing)), 1)], nothing, Data(\n",
       "  titles=Dict{Symbol, AbstractString}()\n",
       ")\n",
       ", Gadfly.ScaleElement[], Gadfly.StatisticElement[], Gadfly.Coord.Cartesian([:x, :xmin, :xmax, :xintercept], [:y, :ymin, :ymax, :yintercept, :middle, :lower_hinge, :upper_hinge, :lower_fence, :upper_fence, :outliers], 0.0, 100.0, 0, 200, false, false, false, nothing, false), Gadfly.GuideElement[Gadfly.Guide.Title(\"\"), Gadfly.Guide.XLabel(\"t\", :auto), Gadfly.Guide.YLabel(\"W\", :auto)], Gadfly.Theme(LCHab{Float32}(70.0f0,60.0f0,240.0f0), 0.7mm, 0.45mm, 1.8mm, Gadfly.Scale.default_discrete_sizes, Gadfly.Scale.default_continuous_sizes, Gadfly.Scale.default_discrete_colors, Function[Compose.circle, Gadfly.Shape.square, Gadfly.Shape.diamond, Gadfly.Shape.cross, Gadfly.Shape.xcross, Gadfly.Shape.utriangle, Gadfly.Shape.dtriangle, Gadfly.Shape.star1, Gadfly.Shape.star2, Gadfly.Shape.hexagon, Gadfly.Shape.octagon, Gadfly.Shape.hline, Gadfly.Shape.vline, Gadfly.Shape.ltriangle, Gadfly.Shape.rtriangle], 0.3mm, [:solid, :dash, :dot, :dashdot, :dashdotdot, :ldash, :ldashdash, :ldashdot, :ldashdashdot], [1.0, 0.9, 0.8, 0.7, 0.6, 0.5, 0.4, 0.3, 0.2, 0.1, 0.0], nothing, nothing, 0.3mm, 0.0, RGB{N0f8}(1.0,1.0,1.0), Measures.AbsoluteLength[5.0mm, 5.0mm, 5.0mm, 0.0mm], RGB{N0f8}(0.816,0.816,0.878), Measures.AbsoluteLength[0.5mm, 0.5mm], RGB{N0f8}(0.627,0.627,0.627), 0.2mm, 0, \"'PT Sans Caption','Helvetica Neue','Helvetica',sans-serif\", 2.822222222222222mm, RGB{N0f8}(0.424,0.376,0.42), \"'PT Sans','Helvetica Neue','Helvetica',sans-serif\", 3.5277777777777777mm, RGB{N0f8}(0.337,0.29,0.333), \"'PT Sans Caption','Helvetica Neue','Helvetica',sans-serif\", 2.822222222222222mm, RGB{N0f8}(0.298,0.251,0.294), \"'PT Sans','Helvetica Neue','Helvetica',sans-serif\", 3.175mm, RGB{N0f8}(0.212,0.165,0.208), \"'PT Sans','Helvetica Neue','Helvetica',sans-serif\", 2.822222222222222mm, RGB{N0f8}(0.298,0.251,0.294), 40, -0.05mm, 1.0mm, 3.0mm, Gadfly.default_stroke_color, 0.3mm, Cropbox.var\"#603#612\"(), Gadfly.default_continuous_highlight_color, Gadfly.default_lowlight_color, Gadfly.default_middle_color, 0.6mm, :left, :square, nothing, nothing, nothing, :right, nothing, 2.0mm, 1000, 10.0, 0.5, 0.2, 1.0mm, 4, Gadfly.Scale.DiscreteColorScale(Gadfly.Scale.default_discrete_colors, nothing, nothing, true), Gadfly.Scale.ContinuousColorScale(Gadfly.Scale.var\"#73#77\"{Int64, Int64, Int64, Int64, Float64, Int64}(100, 40, 260, 10, 1.5, 70), Gadfly.Scale.ContinuousScaleTransform(identity, identity, Gadfly.Scale.identity_formatter), nothing, nothing)), Dict{Symbol, Any}()))], Dict{Symbol, Any}(:style => Dict(\"display\" => \"flex\", \"flex-direction\" => \"column\")))"
      ]
     },
     "execution_count": 22,
     "metadata": {
      "@webio": {
       "kernelId": "a151eabc-a42f-40a5-845a-50f8469e74ba"
      }
     },
     "output_type": "execute_result"
    }
   ],
   "source": [
    "manipulate(Mono, :t, :W;\n",
    "    parameters = Mono => (;\n",
    "        :k  => 0:0.01:0.5,\n",
    "        :W0 => 0:0.1:10,\n",
    "        :Wf => 10:10:200,\n",
    "    ),\n",
    "    stop = 100,\n",
    "    kind = :line,\n",
    "    ylim = (0, 200),\n",
    ")"
   ]
  },
  {
   "cell_type": "markdown",
   "metadata": {},
   "source": [
    "## 1.3. Logistic Growth Equation\n",
    "\n",
    "- Eq\n",
    "\n",
    "$$\n",
    "\\frac{dW}{dt} = \\mu W \\left( 1 - \\frac{W}{W_f} \\right)\n",
    "$$\n",
    "\n",
    "- Table\n",
    "\n",
    "| Symbol | Value | Units | Description |\n",
    "| :- | :- | :- | :- |\n",
    "| $t$ | - | - | Time unit used in the model |\n",
    "| $\\mu$ | 0.3 | - | Specific growth rate |\n",
    "| $W_0$ | 1 | - | Dry mass at time $t = 0$ |\n",
    "| $W_f$ | 100 | - | Final value of $W$ as $t$ approaches $\\infty$ |\n",
    "| $W$ | - | - | Current dry mass |"
   ]
  },
  {
   "cell_type": "code",
   "execution_count": 23,
   "metadata": {
    "tags": []
   },
   "outputs": [
    {
     "data": {
      "text/plain": [
       "Logi"
      ]
     },
     "execution_count": 23,
     "metadata": {},
     "output_type": "execute_result"
    }
   ],
   "source": [
    "@system Logi(Controller) begin\n",
    "    t(context.clock.tick) ~ track\n",
    "\n",
    "    μ        => 0.3  ~ preserve(parameter)\n",
    "    W0       => 1    ~ preserve(parameter)\n",
    "    Wf       => 100  ~ preserve(parameter)\n",
    "\n",
    "    W(μ, W, Wf) => μ*W * (1 - W/Wf) ~ accumulate(init = W0)\n",
    "end"
   ]
  },
  {
   "cell_type": "code",
   "execution_count": null,
   "metadata": {},
   "outputs": [],
   "source": [
    "# @system Logi(Controller) begin\n",
    "#     t(context.clock.tick) ~ track\n",
    "#     μ => 0.3 ~preserve(parameter)\n",
    "#     W0 => 1 ~preserve(parameter)\n",
    "#     Wf => 100 ~preserve(parameter)\n",
    "    \n",
    "#     W(μ, W, Wf) => μ * W * (1 - W/Wf) ~ accumulate(init=W0)\n",
    "# end"
   ]
  },
  {
   "cell_type": "code",
   "execution_count": 26,
   "metadata": {
    "tags": []
   },
   "outputs": [
    {
     "data": {
      "image/svg+xml": [
       "<?xml version=\"1.0\" encoding=\"UTF-8\" standalone=\"no\"?>\n",
       "<!DOCTYPE svg PUBLIC \"-//W3C//DTD SVG 1.1//EN\"\n",
       " \"http://www.w3.org/Graphics/SVG/1.1/DTD/svg11.dtd\">\n",
       "<!-- Generated by graphviz version 2.50.0 (20211204.2007)\n",
       " -->\n",
       "<!-- Pages: 1 -->\n",
       "<svg width=\"395pt\" height=\"162pt\"\n",
       " viewBox=\"0.00 0.00 394.51 162.00\" xmlns=\"http://www.w3.org/2000/svg\" xmlns:xlink=\"http://www.w3.org/1999/xlink\">\n",
       "<g id=\"graph0\" class=\"graph\" transform=\"scale(1 1) rotate(0) translate(4 158)\">\n",
       "<polygon fill=\"white\" stroke=\"transparent\" points=\"-4,4 -4,-158 390.51,-158 390.51,4 -4,4\"/>\n",
       "<!-- 1 -->\n",
       "<g id=\"node1\" class=\"node\">\n",
       "<title>1</title>\n",
       "<text text-anchor=\"middle\" x=\"175\" y=\"-116.8\" font-family=\"Courier,monospace\" font-size=\"9.00\">∘context</text>\n",
       "</g>\n",
       "<!-- 2 -->\n",
       "<g id=\"node2\" class=\"node\">\n",
       "<title>2</title>\n",
       "<text text-anchor=\"middle\" x=\"170\" y=\"-88.8\" font-family=\"Courier,monospace\" font-size=\"9.00\">context</text>\n",
       "</g>\n",
       "<!-- 1&#45;&gt;2 -->\n",
       "<g id=\"edge1\" class=\"edge\">\n",
       "<title>1&#45;&gt;2</title>\n",
       "<path fill=\"none\" stroke=\"black\" stroke-width=\"0.2\" d=\"M173.84,-111.97C173.18,-108.53 172.34,-104.16 171.61,-100.39\"/>\n",
       "<polygon fill=\"black\" stroke=\"black\" stroke-width=\"0.2\" points=\"172.29,-100.19 171.22,-98.36 170.91,-100.46 172.29,-100.19\"/>\n",
       "</g>\n",
       "<!-- 3 -->\n",
       "<g id=\"node3\" class=\"node\">\n",
       "<title>3</title>\n",
       "<text text-anchor=\"middle\" x=\"114\" y=\"-4.8\" font-family=\"Courier,monospace\" font-size=\"9.00\">⋆context</text>\n",
       "</g>\n",
       "<!-- 2&#45;&gt;3 -->\n",
       "<g id=\"edge2\" class=\"edge\">\n",
       "<title>2&#45;&gt;3</title>\n",
       "<path fill=\"none\" stroke=\"black\" stroke-width=\"0.2\" d=\"M151.89,-83.9C134.52,-76.91 109.57,-63.55 100,-42 97.47,-36.31 98.13,-33.93 100,-28 101.38,-23.63 104.08,-19.39 106.75,-15.95\"/>\n",
       "<polygon fill=\"black\" stroke=\"black\" stroke-width=\"0.2\" points=\"107.51,-16.12 108.22,-14.12 106.42,-15.24 107.51,-16.12\"/>\n",
       "</g>\n",
       "<!-- 5 -->\n",
       "<g id=\"node5\" class=\"node\">\n",
       "<title>5</title>\n",
       "<text text-anchor=\"middle\" x=\"114\" y=\"-32.8\" font-family=\"Courier,monospace\" font-size=\"9.00\">t</text>\n",
       "</g>\n",
       "<!-- 2&#45;&gt;5 -->\n",
       "<g id=\"edge3\" class=\"edge\">\n",
       "<title>2&#45;&gt;5</title>\n",
       "<path fill=\"none\" stroke=\"black\" stroke-width=\"0.2\" d=\"M163.58,-83.81C152.84,-73.45 131.37,-52.75 120.55,-42.32\"/>\n",
       "<polygon fill=\"black\" stroke=\"black\" stroke-width=\"0.2\" points=\"120.96,-41.74 119.04,-40.86 119.99,-42.75 120.96,-41.74\"/>\n",
       "</g>\n",
       "<!-- 9 -->\n",
       "<g id=\"node9\" class=\"node\">\n",
       "<title>9</title>\n",
       "<text text-anchor=\"middle\" x=\"220\" y=\"-60.8\" font-family=\"Courier,monospace\" font-size=\"9.00\">W</text>\n",
       "</g>\n",
       "<!-- 2&#45;&gt;9 -->\n",
       "<g id=\"edge4\" class=\"edge\">\n",
       "<title>2&#45;&gt;9</title>\n",
       "<path fill=\"none\" stroke=\"black\" stroke-width=\"0.2\" d=\"M181.6,-83.97C191.28,-78.94 204.76,-71.92 212.91,-67.69\"/>\n",
       "<polygon fill=\"black\" stroke=\"black\" stroke-width=\"0.2\" points=\"213.41,-68.22 214.86,-66.67 212.76,-66.97 213.41,-68.22\"/>\n",
       "</g>\n",
       "<!-- 10 -->\n",
       "<g id=\"node10\" class=\"node\">\n",
       "<title>10</title>\n",
       "<text text-anchor=\"middle\" x=\"244\" y=\"-32.8\" font-family=\"Courier,monospace\" font-size=\"9.00\">⋆W</text>\n",
       "</g>\n",
       "<!-- 2&#45;&gt;10 -->\n",
       "<g id=\"edge5\" class=\"edge\">\n",
       "<title>2&#45;&gt;10</title>\n",
       "<path fill=\"none\" stroke=\"black\" stroke-width=\"0.2\" d=\"M175.43,-83.94C182.14,-76.7 194.11,-64.5 206,-56 215.06,-49.52 226.48,-43.8 234.42,-40.15\"/>\n",
       "<polygon fill=\"black\" stroke=\"black\" stroke-width=\"0.2\" points=\"234.83,-40.73 236.37,-39.27 234.26,-39.46 234.83,-40.73\"/>\n",
       "</g>\n",
       "<!-- 4 -->\n",
       "<g id=\"node4\" class=\"node\">\n",
       "<title>4</title>\n",
       "<text text-anchor=\"middle\" x=\"254\" y=\"-144.8\" font-family=\"Courier,monospace\" font-size=\"9.00\">config</text>\n",
       "</g>\n",
       "<!-- 4&#45;&gt;1 -->\n",
       "<g id=\"edge6\" class=\"edge\">\n",
       "<title>4&#45;&gt;1</title>\n",
       "<path fill=\"none\" stroke=\"black\" stroke-width=\"0.2\" d=\"M235.68,-139.97C223.7,-136.03 208.03,-130.87 195.62,-126.79\"/>\n",
       "<polygon fill=\"black\" stroke=\"black\" stroke-width=\"0.2\" points=\"195.62,-126.05 193.5,-126.09 195.18,-127.38 195.62,-126.05\"/>\n",
       "</g>\n",
       "<!-- 4&#45;&gt;3 -->\n",
       "<g id=\"edge7\" class=\"edge\">\n",
       "<title>4&#45;&gt;3</title>\n",
       "<path fill=\"none\" stroke=\"black\" stroke-width=\"0.2\" d=\"M235.73,-146.01C177.49,-145.56 0,-140.24 0,-92 0,-92 0,-92 0,-62 0,-23.29 54.35,-12.29 87.99,-9.19\"/>\n",
       "<polygon fill=\"black\" stroke=\"black\" stroke-width=\"0.2\" points=\"88.45,-9.85 90.38,-8.98 88.33,-8.46 88.45,-9.85\"/>\n",
       "</g>\n",
       "<!-- 6 -->\n",
       "<g id=\"node6\" class=\"node\">\n",
       "<title>6</title>\n",
       "<text text-anchor=\"middle\" x=\"315\" y=\"-88.8\" font-family=\"Courier,monospace\" font-size=\"9.00\">μ</text>\n",
       "</g>\n",
       "<!-- 4&#45;&gt;6 -->\n",
       "<g id=\"edge8\" class=\"edge\">\n",
       "<title>4&#45;&gt;6</title>\n",
       "<path fill=\"none\" stroke=\"black\" stroke-width=\"0.2\" d=\"M261,-139.81C272.81,-129.35 296.55,-108.33 308.22,-98\"/>\n",
       "<polygon fill=\"black\" stroke=\"black\" stroke-width=\"0.2\" points=\"308.81,-98.41 309.85,-96.56 307.89,-97.36 308.81,-98.41\"/>\n",
       "</g>\n",
       "<!-- 7 -->\n",
       "<g id=\"node7\" class=\"node\">\n",
       "<title>7</title>\n",
       "<text text-anchor=\"middle\" x=\"254\" y=\"-88.8\" font-family=\"Courier,monospace\" font-size=\"9.00\">W0</text>\n",
       "</g>\n",
       "<!-- 4&#45;&gt;7 -->\n",
       "<g id=\"edge9\" class=\"edge\">\n",
       "<title>4&#45;&gt;7</title>\n",
       "<path fill=\"none\" stroke=\"black\" stroke-width=\"0.2\" d=\"M254,-139.81C254,-130.04 254,-111.06 254,-100.18\"/>\n",
       "<polygon fill=\"black\" stroke=\"black\" stroke-width=\"0.2\" points=\"254.7,-100.12 254,-98.12 253.3,-100.12 254.7,-100.12\"/>\n",
       "</g>\n",
       "<!-- 8 -->\n",
       "<g id=\"node8\" class=\"node\">\n",
       "<title>8</title>\n",
       "<text text-anchor=\"middle\" x=\"375\" y=\"-116.8\" font-family=\"Courier,monospace\" font-size=\"9.00\">Wf</text>\n",
       "</g>\n",
       "<!-- 4&#45;&gt;8 -->\n",
       "<g id=\"edge10\" class=\"edge\">\n",
       "<title>4&#45;&gt;8</title>\n",
       "<path fill=\"none\" stroke=\"black\" stroke-width=\"0.2\" d=\"M272.11,-142.11C298.07,-136.53 344.93,-126.46 365.21,-122.1\"/>\n",
       "<polygon fill=\"black\" stroke=\"black\" stroke-width=\"0.2\" points=\"365.51,-122.76 367.32,-121.65 365.22,-121.39 365.51,-122.76\"/>\n",
       "</g>\n",
       "<!-- 5&#45;&gt;3 -->\n",
       "<g id=\"edge11\" class=\"edge\">\n",
       "<title>5&#45;&gt;3</title>\n",
       "<path fill=\"none\" stroke=\"black\" stroke-width=\"0.2\" d=\"M114,-27.97C114,-24.53 114,-20.16 114,-16.39\"/>\n",
       "<polygon fill=\"black\" stroke=\"black\" stroke-width=\"0.2\" points=\"114.7,-16.36 114,-14.36 113.3,-16.36 114.7,-16.36\"/>\n",
       "</g>\n",
       "<!-- 6&#45;&gt;10 -->\n",
       "<g id=\"edge12\" class=\"edge\">\n",
       "<title>6&#45;&gt;10</title>\n",
       "<path fill=\"none\" stroke=\"black\" stroke-width=\"0.2\" d=\"M309.89,-86.12C298.04,-77.1 268.51,-54.64 253.33,-43.1\"/>\n",
       "<polygon fill=\"black\" stroke=\"black\" stroke-width=\"0.2\" points=\"253.57,-42.4 251.55,-41.74 252.72,-43.51 253.57,-42.4\"/>\n",
       "</g>\n",
       "<!-- 7&#45;&gt;9 -->\n",
       "<g id=\"edge13\" class=\"edge\">\n",
       "<title>7&#45;&gt;9</title>\n",
       "<path fill=\"none\" stroke=\"black\" stroke-width=\"0.2\" d=\"M246.45,-84.23C240.64,-79.78 232.66,-73.68 226.99,-69.34\"/>\n",
       "<polygon fill=\"black\" stroke=\"black\" stroke-width=\"0.2\" points=\"227.32,-68.72 225.31,-68.06 226.47,-69.83 227.32,-68.72\"/>\n",
       "</g>\n",
       "<!-- 7&#45;&gt;10 -->\n",
       "<g id=\"edge14\" class=\"edge\">\n",
       "<title>7&#45;&gt;10</title>\n",
       "<path fill=\"none\" stroke=\"black\" stroke-width=\"0.2\" d=\"M252.85,-83.81C251.04,-74.04 247.53,-55.06 245.52,-44.18\"/>\n",
       "<polygon fill=\"black\" stroke=\"black\" stroke-width=\"0.2\" points=\"246.19,-43.96 245.13,-42.12 244.81,-44.22 246.19,-43.96\"/>\n",
       "</g>\n",
       "<!-- 8&#45;&gt;10 -->\n",
       "<g id=\"edge15\" class=\"edge\">\n",
       "<title>8&#45;&gt;10</title>\n",
       "<path fill=\"none\" stroke=\"black\" stroke-width=\"0.2\" d=\"M368.2,-111.87C354.67,-99.9 323.09,-73.13 293,-56 279.97,-48.59 263.65,-42.5 253.52,-39.06\"/>\n",
       "<polygon fill=\"black\" stroke=\"black\" stroke-width=\"0.2\" points=\"253.7,-38.38 251.58,-38.41 253.26,-39.71 253.7,-38.38\"/>\n",
       "</g>\n",
       "<!-- 9&#45;&gt;3 -->\n",
       "<g id=\"edge16\" class=\"edge\">\n",
       "<title>9&#45;&gt;3</title>\n",
       "<path fill=\"none\" stroke=\"black\" stroke-width=\"0.2\" d=\"M214.89,-59.4C199.28,-51.44 151.87,-27.29 128.02,-15.14\"/>\n",
       "<polygon fill=\"black\" stroke=\"black\" stroke-width=\"0.2\" points=\"128.16,-14.43 126.06,-14.15 127.53,-15.68 128.16,-14.43\"/>\n",
       "</g>\n",
       "<!-- 9&#45;&gt;10 -->\n",
       "<g id=\"edge17\" class=\"edge\">\n",
       "<title>9&#45;&gt;10</title>\n",
       "<path fill=\"none\" stroke=\"black\" stroke-width=\"0.2\" d=\"M225.09,-56.49C228.46,-52.83 232.94,-47.99 236.69,-43.92\"/>\n",
       "<polygon fill=\"black\" stroke=\"black\" stroke-width=\"0.2\" points=\"237.4,-44.18 238.24,-42.24 236.37,-43.23 237.4,-44.18\"/>\n",
       "</g>\n",
       "<!-- 10&#45;&gt;3 -->\n",
       "<g id=\"edge18\" class=\"edge\">\n",
       "<title>10&#45;&gt;3</title>\n",
       "<path fill=\"none\" stroke=\"black\" stroke-width=\"0.2\" d=\"M236.26,-32.45C217.68,-28.74 169.9,-19.18 139.87,-13.17\"/>\n",
       "<polygon fill=\"black\" stroke=\"black\" stroke-width=\"0.2\" points=\"139.84,-12.45 137.74,-12.75 139.56,-13.83 139.84,-12.45\"/>\n",
       "</g>\n",
       "</g>\n",
       "</svg>\n"
      ],
      "text/plain": [
       "\u001b[90m[\u001b[39m\u001b[94mconfig\u001b[39m\u001b[90m → \u001b[39m\u001b[94mWf\u001b[39m\u001b[90m → \u001b[39m\u001b[94mW0\u001b[39m\u001b[90m → \u001b[39m\u001b[94mμ\u001b[39m\u001b[90m → \u001b[39m\u001b[94m∘context\u001b[39m\u001b[90m → \u001b[39m\u001b[94mcontext\u001b[39m\u001b[90m → \u001b[39m\u001b[94mW\u001b[39m\u001b[90m → \u001b[39m\u001b[94m⋆W\u001b[39m\u001b[90m → \u001b[39m\u001b[94mt\u001b[39m\u001b[90m → \u001b[39m\u001b[94m⋆context\u001b[39m\u001b[90m]\u001b[39m"
      ]
     },
     "execution_count": 26,
     "metadata": {},
     "output_type": "execute_result"
    }
   ],
   "source": [
    "Cropbox.dependency(Logi)"
   ]
  },
  {
   "cell_type": "code",
   "execution_count": 30,
   "metadata": {
    "tags": []
   },
   "outputs": [
    {
     "data": {
      "text/html": [
       "<div><div style = \"float: left;\"><span>51×6 DataFrame</span></div><div style = \"float: right;\"><span style = \"font-style: italic;\">26 rows omitted</span></div><div style = \"clear: both;\"></div></div><div class = \"data-frame\" style = \"overflow-x: scroll;\"><table class = \"data-frame\" style = \"margin-bottom: 6px;\"><thead><tr class = \"header\"><th class = \"rowNumber\" style = \"font-weight: bold; text-align: right;\">Row</th><th style = \"text-align: left;\">time</th><th style = \"text-align: left;\">t</th><th style = \"text-align: left;\">μ</th><th style = \"text-align: left;\">W0</th><th style = \"text-align: left;\">Wf</th><th style = \"text-align: left;\">W</th></tr><tr class = \"subheader headerLastRow\"><th class = \"rowNumber\" style = \"font-weight: bold; text-align: right;\"></th><th title = \"Unitful.Quantity{Float64, 𝐓, Unitful.FreeUnits{(hr,), 𝐓, nothing}}\" style = \"text-align: left;\">Quantity…</th><th title = \"Float64\" style = \"text-align: left;\">Float64</th><th title = \"Float64\" style = \"text-align: left;\">Float64</th><th title = \"Float64\" style = \"text-align: left;\">Float64</th><th title = \"Float64\" style = \"text-align: left;\">Float64</th><th title = \"Float64\" style = \"text-align: left;\">Float64</th></tr></thead><tbody><tr><td class = \"rowNumber\" style = \"font-weight: bold; text-align: right;\">1</td><td style = \"text-align: right;\">0.0 hr</td><td style = \"text-align: right;\">0.0</td><td style = \"text-align: right;\">0.3</td><td style = \"text-align: right;\">1.0</td><td style = \"text-align: right;\">100.0</td><td style = \"text-align: right;\">1.0</td></tr><tr><td class = \"rowNumber\" style = \"font-weight: bold; text-align: right;\">2</td><td style = \"text-align: right;\">1.0 hr</td><td style = \"text-align: right;\">1.0</td><td style = \"text-align: right;\">0.3</td><td style = \"text-align: right;\">1.0</td><td style = \"text-align: right;\">100.0</td><td style = \"text-align: right;\">1.297</td></tr><tr><td class = \"rowNumber\" style = \"font-weight: bold; text-align: right;\">3</td><td style = \"text-align: right;\">2.0 hr</td><td style = \"text-align: right;\">2.0</td><td style = \"text-align: right;\">0.3</td><td style = \"text-align: right;\">1.0</td><td style = \"text-align: right;\">100.0</td><td style = \"text-align: right;\">1.68105</td></tr><tr><td class = \"rowNumber\" style = \"font-weight: bold; text-align: right;\">4</td><td style = \"text-align: right;\">3.0 hr</td><td style = \"text-align: right;\">3.0</td><td style = \"text-align: right;\">0.3</td><td style = \"text-align: right;\">1.0</td><td style = \"text-align: right;\">100.0</td><td style = \"text-align: right;\">2.17689</td></tr><tr><td class = \"rowNumber\" style = \"font-weight: bold; text-align: right;\">5</td><td style = \"text-align: right;\">4.0 hr</td><td style = \"text-align: right;\">4.0</td><td style = \"text-align: right;\">0.3</td><td style = \"text-align: right;\">1.0</td><td style = \"text-align: right;\">100.0</td><td style = \"text-align: right;\">2.81574</td></tr><tr><td class = \"rowNumber\" style = \"font-weight: bold; text-align: right;\">6</td><td style = \"text-align: right;\">5.0 hr</td><td style = \"text-align: right;\">5.0</td><td style = \"text-align: right;\">0.3</td><td style = \"text-align: right;\">1.0</td><td style = \"text-align: right;\">100.0</td><td style = \"text-align: right;\">3.63668</td></tr><tr><td class = \"rowNumber\" style = \"font-weight: bold; text-align: right;\">7</td><td style = \"text-align: right;\">6.0 hr</td><td style = \"text-align: right;\">6.0</td><td style = \"text-align: right;\">0.3</td><td style = \"text-align: right;\">1.0</td><td style = \"text-align: right;\">100.0</td><td style = \"text-align: right;\">4.68801</td></tr><tr><td class = \"rowNumber\" style = \"font-weight: bold; text-align: right;\">8</td><td style = \"text-align: right;\">7.0 hr</td><td style = \"text-align: right;\">7.0</td><td style = \"text-align: right;\">0.3</td><td style = \"text-align: right;\">1.0</td><td style = \"text-align: right;\">100.0</td><td style = \"text-align: right;\">6.02848</td></tr><tr><td class = \"rowNumber\" style = \"font-weight: bold; text-align: right;\">9</td><td style = \"text-align: right;\">8.0 hr</td><td style = \"text-align: right;\">8.0</td><td style = \"text-align: right;\">0.3</td><td style = \"text-align: right;\">1.0</td><td style = \"text-align: right;\">100.0</td><td style = \"text-align: right;\">7.72799</td></tr><tr><td class = \"rowNumber\" style = \"font-weight: bold; text-align: right;\">10</td><td style = \"text-align: right;\">9.0 hr</td><td style = \"text-align: right;\">9.0</td><td style = \"text-align: right;\">0.3</td><td style = \"text-align: right;\">1.0</td><td style = \"text-align: right;\">100.0</td><td style = \"text-align: right;\">9.86723</td></tr><tr><td class = \"rowNumber\" style = \"font-weight: bold; text-align: right;\">11</td><td style = \"text-align: right;\">10.0 hr</td><td style = \"text-align: right;\">10.0</td><td style = \"text-align: right;\">0.3</td><td style = \"text-align: right;\">1.0</td><td style = \"text-align: right;\">100.0</td><td style = \"text-align: right;\">12.5353</td></tr><tr><td class = \"rowNumber\" style = \"font-weight: bold; text-align: right;\">12</td><td style = \"text-align: right;\">11.0 hr</td><td style = \"text-align: right;\">11.0</td><td style = \"text-align: right;\">0.3</td><td style = \"text-align: right;\">1.0</td><td style = \"text-align: right;\">100.0</td><td style = \"text-align: right;\">15.8245</td></tr><tr><td class = \"rowNumber\" style = \"font-weight: bold; text-align: right;\">13</td><td style = \"text-align: right;\">12.0 hr</td><td style = \"text-align: right;\">12.0</td><td style = \"text-align: right;\">0.3</td><td style = \"text-align: right;\">1.0</td><td style = \"text-align: right;\">100.0</td><td style = \"text-align: right;\">19.8206</td></tr><tr><td style = \"text-align: right;\">&vellip;</td><td style = \"text-align: right;\">&vellip;</td><td style = \"text-align: right;\">&vellip;</td><td style = \"text-align: right;\">&vellip;</td><td style = \"text-align: right;\">&vellip;</td><td style = \"text-align: right;\">&vellip;</td><td style = \"text-align: right;\">&vellip;</td></tr><tr><td class = \"rowNumber\" style = \"font-weight: bold; text-align: right;\">40</td><td style = \"text-align: right;\">39.0 hr</td><td style = \"text-align: right;\">39.0</td><td style = \"text-align: right;\">0.3</td><td style = \"text-align: right;\">1.0</td><td style = \"text-align: right;\">100.0</td><td style = \"text-align: right;\">99.9502</td></tr><tr><td class = \"rowNumber\" style = \"font-weight: bold; text-align: right;\">41</td><td style = \"text-align: right;\">40.0 hr</td><td style = \"text-align: right;\">40.0</td><td style = \"text-align: right;\">0.3</td><td style = \"text-align: right;\">1.0</td><td style = \"text-align: right;\">100.0</td><td style = \"text-align: right;\">99.9652</td></tr><tr><td class = \"rowNumber\" style = \"font-weight: bold; text-align: right;\">42</td><td style = \"text-align: right;\">41.0 hr</td><td style = \"text-align: right;\">41.0</td><td style = \"text-align: right;\">0.3</td><td style = \"text-align: right;\">1.0</td><td style = \"text-align: right;\">100.0</td><td style = \"text-align: right;\">99.9756</td></tr><tr><td class = \"rowNumber\" style = \"font-weight: bold; text-align: right;\">43</td><td style = \"text-align: right;\">42.0 hr</td><td style = \"text-align: right;\">42.0</td><td style = \"text-align: right;\">0.3</td><td style = \"text-align: right;\">1.0</td><td style = \"text-align: right;\">100.0</td><td style = \"text-align: right;\">99.9829</td></tr><tr><td class = \"rowNumber\" style = \"font-weight: bold; text-align: right;\">44</td><td style = \"text-align: right;\">43.0 hr</td><td style = \"text-align: right;\">43.0</td><td style = \"text-align: right;\">0.3</td><td style = \"text-align: right;\">1.0</td><td style = \"text-align: right;\">100.0</td><td style = \"text-align: right;\">99.988</td></tr><tr><td class = \"rowNumber\" style = \"font-weight: bold; text-align: right;\">45</td><td style = \"text-align: right;\">44.0 hr</td><td style = \"text-align: right;\">44.0</td><td style = \"text-align: right;\">0.3</td><td style = \"text-align: right;\">1.0</td><td style = \"text-align: right;\">100.0</td><td style = \"text-align: right;\">99.9916</td></tr><tr><td class = \"rowNumber\" style = \"font-weight: bold; text-align: right;\">46</td><td style = \"text-align: right;\">45.0 hr</td><td style = \"text-align: right;\">45.0</td><td style = \"text-align: right;\">0.3</td><td style = \"text-align: right;\">1.0</td><td style = \"text-align: right;\">100.0</td><td style = \"text-align: right;\">99.9941</td></tr><tr><td class = \"rowNumber\" style = \"font-weight: bold; text-align: right;\">47</td><td style = \"text-align: right;\">46.0 hr</td><td style = \"text-align: right;\">46.0</td><td style = \"text-align: right;\">0.3</td><td style = \"text-align: right;\">1.0</td><td style = \"text-align: right;\">100.0</td><td style = \"text-align: right;\">99.9959</td></tr><tr><td class = \"rowNumber\" style = \"font-weight: bold; text-align: right;\">48</td><td style = \"text-align: right;\">47.0 hr</td><td style = \"text-align: right;\">47.0</td><td style = \"text-align: right;\">0.3</td><td style = \"text-align: right;\">1.0</td><td style = \"text-align: right;\">100.0</td><td style = \"text-align: right;\">99.9971</td></tr><tr><td class = \"rowNumber\" style = \"font-weight: bold; text-align: right;\">49</td><td style = \"text-align: right;\">48.0 hr</td><td style = \"text-align: right;\">48.0</td><td style = \"text-align: right;\">0.3</td><td style = \"text-align: right;\">1.0</td><td style = \"text-align: right;\">100.0</td><td style = \"text-align: right;\">99.998</td></tr><tr><td class = \"rowNumber\" style = \"font-weight: bold; text-align: right;\">50</td><td style = \"text-align: right;\">49.0 hr</td><td style = \"text-align: right;\">49.0</td><td style = \"text-align: right;\">0.3</td><td style = \"text-align: right;\">1.0</td><td style = \"text-align: right;\">100.0</td><td style = \"text-align: right;\">99.9986</td></tr><tr><td class = \"rowNumber\" style = \"font-weight: bold; text-align: right;\">51</td><td style = \"text-align: right;\">50.0 hr</td><td style = \"text-align: right;\">50.0</td><td style = \"text-align: right;\">0.3</td><td style = \"text-align: right;\">1.0</td><td style = \"text-align: right;\">100.0</td><td style = \"text-align: right;\">99.999</td></tr></tbody></table></div>"
      ],
      "text/latex": [
       "\\begin{tabular}{r|cccccc}\n",
       "\t& time & t & μ & W0 & Wf & W\\\\\n",
       "\t\\hline\n",
       "\t& Quantity… & Float64 & Float64 & Float64 & Float64 & Float64\\\\\n",
       "\t\\hline\n",
       "\t1 & 0.0 hr & 0.0 & 0.3 & 1.0 & 100.0 & 1.0 \\\\\n",
       "\t2 & 1.0 hr & 1.0 & 0.3 & 1.0 & 100.0 & 1.297 \\\\\n",
       "\t3 & 2.0 hr & 2.0 & 0.3 & 1.0 & 100.0 & 1.68105 \\\\\n",
       "\t4 & 3.0 hr & 3.0 & 0.3 & 1.0 & 100.0 & 2.17689 \\\\\n",
       "\t5 & 4.0 hr & 4.0 & 0.3 & 1.0 & 100.0 & 2.81574 \\\\\n",
       "\t6 & 5.0 hr & 5.0 & 0.3 & 1.0 & 100.0 & 3.63668 \\\\\n",
       "\t7 & 6.0 hr & 6.0 & 0.3 & 1.0 & 100.0 & 4.68801 \\\\\n",
       "\t8 & 7.0 hr & 7.0 & 0.3 & 1.0 & 100.0 & 6.02848 \\\\\n",
       "\t9 & 8.0 hr & 8.0 & 0.3 & 1.0 & 100.0 & 7.72799 \\\\\n",
       "\t10 & 9.0 hr & 9.0 & 0.3 & 1.0 & 100.0 & 9.86723 \\\\\n",
       "\t11 & 10.0 hr & 10.0 & 0.3 & 1.0 & 100.0 & 12.5353 \\\\\n",
       "\t12 & 11.0 hr & 11.0 & 0.3 & 1.0 & 100.0 & 15.8245 \\\\\n",
       "\t13 & 12.0 hr & 12.0 & 0.3 & 1.0 & 100.0 & 19.8206 \\\\\n",
       "\t14 & 13.0 hr & 13.0 & 0.3 & 1.0 & 100.0 & 24.5882 \\\\\n",
       "\t15 & 14.0 hr & 14.0 & 0.3 & 1.0 & 100.0 & 30.1509 \\\\\n",
       "\t16 & 15.0 hr & 15.0 & 0.3 & 1.0 & 100.0 & 36.469 \\\\\n",
       "\t17 & 16.0 hr & 16.0 & 0.3 & 1.0 & 100.0 & 43.4197 \\\\\n",
       "\t18 & 17.0 hr & 17.0 & 0.3 & 1.0 & 100.0 & 50.7898 \\\\\n",
       "\t19 & 18.0 hr & 18.0 & 0.3 & 1.0 & 100.0 & 58.2879 \\\\\n",
       "\t20 & 19.0 hr & 19.0 & 0.3 & 1.0 & 100.0 & 65.5819 \\\\\n",
       "\t21 & 20.0 hr & 20.0 & 0.3 & 1.0 & 100.0 & 72.3535 \\\\\n",
       "\t22 & 21.0 hr & 21.0 & 0.3 & 1.0 & 100.0 & 78.3545 \\\\\n",
       "\t23 & 22.0 hr & 22.0 & 0.3 & 1.0 & 100.0 & 83.4425 \\\\\n",
       "\t24 & 23.0 hr & 23.0 & 0.3 & 1.0 & 100.0 & 87.5873 \\\\\n",
       "\t25 & 24.0 hr & 24.0 & 0.3 & 1.0 & 100.0 & 90.8489 \\\\\n",
       "\t26 & 25.0 hr & 25.0 & 0.3 & 1.0 & 100.0 & 93.343 \\\\\n",
       "\t27 & 26.0 hr & 26.0 & 0.3 & 1.0 & 100.0 & 95.2072 \\\\\n",
       "\t28 & 27.0 hr & 27.0 & 0.3 & 1.0 & 100.0 & 96.5761 \\\\\n",
       "\t29 & 28.0 hr & 28.0 & 0.3 & 1.0 & 100.0 & 97.5681 \\\\\n",
       "\t30 & 29.0 hr & 29.0 & 0.3 & 1.0 & 100.0 & 98.2799 \\\\\n",
       "\t$\\dots$ & $\\dots$ & $\\dots$ & $\\dots$ & $\\dots$ & $\\dots$ & $\\dots$ \\\\\n",
       "\\end{tabular}\n"
      ],
      "text/plain": [
       "\u001b[1m51×6 DataFrame\n",
       "\u001b[1m Row │\u001b[1m time      \u001b[1m t       \u001b[1m μ       \u001b[1m W0      \u001b[1m Wf      \u001b[1m W\n",
       "     │\u001b[90m Quantity… \u001b[90m Float64 \u001b[90m Float64 \u001b[90m Float64 \u001b[90m Float64 \u001b[90m Float64\n",
       "─────┼─────────────────────────────────────────────────────────\n",
       "   1 │    0.0 hr      0.0      0.3      1.0    100.0   1.0\n",
       "   2 │    1.0 hr      1.0      0.3      1.0    100.0   1.297\n",
       "   3 │    2.0 hr      2.0      0.3      1.0    100.0   1.68105\n",
       "   4 │    3.0 hr      3.0      0.3      1.0    100.0   2.17689\n",
       "   5 │    4.0 hr      4.0      0.3      1.0    100.0   2.81574\n",
       "   6 │    5.0 hr      5.0      0.3      1.0    100.0   3.63668\n",
       "   7 │    6.0 hr      6.0      0.3      1.0    100.0   4.68801\n",
       "   8 │    7.0 hr      7.0      0.3      1.0    100.0   6.02848\n",
       "   9 │    8.0 hr      8.0      0.3      1.0    100.0   7.72799\n",
       "  10 │    9.0 hr      9.0      0.3      1.0    100.0   9.86723\n",
       "  11 │   10.0 hr     10.0      0.3      1.0    100.0  12.5353\n",
       "  ⋮  │     ⋮         ⋮        ⋮        ⋮        ⋮        ⋮\n",
       "  42 │   41.0 hr     41.0      0.3      1.0    100.0  99.9756\n",
       "  43 │   42.0 hr     42.0      0.3      1.0    100.0  99.9829\n",
       "  44 │   43.0 hr     43.0      0.3      1.0    100.0  99.988\n",
       "  45 │   44.0 hr     44.0      0.3      1.0    100.0  99.9916\n",
       "  46 │   45.0 hr     45.0      0.3      1.0    100.0  99.9941\n",
       "  47 │   46.0 hr     46.0      0.3      1.0    100.0  99.9959\n",
       "  48 │   47.0 hr     47.0      0.3      1.0    100.0  99.9971\n",
       "  49 │   48.0 hr     48.0      0.3      1.0    100.0  99.998\n",
       "  50 │   49.0 hr     49.0      0.3      1.0    100.0  99.9986\n",
       "  51 │   50.0 hr     50.0      0.3      1.0    100.0  99.999\n",
       "\u001b[36m                                                30 rows omitted"
      ]
     },
     "execution_count": 30,
     "metadata": {},
     "output_type": "execute_result"
    }
   ],
   "source": [
    "r13 = simulate(Logi, stop = 50)"
   ]
  },
  {
   "cell_type": "code",
   "execution_count": 31,
   "metadata": {
    "tags": []
   },
   "outputs": [],
   "source": [
    "# r13 = simulate(Logi, stop = 50)"
   ]
  },
  {
   "cell_type": "code",
   "execution_count": 32,
   "metadata": {
    "tags": []
   },
   "outputs": [
    {
     "data": {
      "image/svg+xml": [
       "<?xml version=\"1.0\" encoding=\"UTF-8\"?>\n",
       "<svg xmlns=\"http://www.w3.org/2000/svg\"\n",
       "     xmlns:xlink=\"http://www.w3.org/1999/xlink\"\n",
       "     xmlns:gadfly=\"http://www.gadflyjl.org/ns\"\n",
       "     version=\"1.2\"\n",
       "     width=\"141.42mm\" height=\"100mm\" viewBox=\"0 0 141.42 100\"\n",
       "     stroke=\"none\"\n",
       "     fill=\"#000000\"\n",
       "     stroke-width=\"0.3\"\n",
       "     font-size=\"3.88\"\n",
       ">\n",
       "<defs>\n",
       "  <marker id=\"arrow\" markerWidth=\"15\" markerHeight=\"7\" refX=\"5\" refY=\"3.5\" orient=\"auto\" markerUnits=\"strokeWidth\">\n",
       "    <path d=\"M0,0 L15,3.5 L0,7 z\" stroke=\"context-stroke\" fill=\"context-stroke\"/>\n",
       "  </marker>\n",
       "</defs>\n",
       "<g stroke=\"#000000\" stroke-opacity=\"0.000\" fill=\"#FFFFFF\" id=\"img-99de2337-1\">\n",
       "  <g transform=\"translate(70.71,50)\">\n",
       "    <path d=\"M-70.71,-50 L70.71,-50 70.71,50 -70.71,50  z\" class=\"primitive\"/>\n",
       "  </g>\n",
       "</g>\n",
       "<g class=\"plotroot xscalable yscalable\" id=\"img-99de2337-2\">\n",
       "  <g font-size=\"3.53\" font-family=\"'PT Sans','Helvetica Neue','Helvetica',sans-serif\" fill=\"#564A55\" stroke=\"#000000\" stroke-opacity=\"0.000\" id=\"img-99de2337-3\">\n",
       "    <g transform=\"translate(70.74,93.72)\">\n",
       "      <g class=\"primitive\">\n",
       "        <text text-anchor=\"middle\" dy=\"0.6em\">t</text>\n",
       "      </g>\n",
       "    </g>\n",
       "  </g>\n",
       "  <g class=\"guide xlabels\" font-size=\"2.82\" font-family=\"'PT Sans Caption','Helvetica Neue','Helvetica',sans-serif\" fill=\"#6C606B\" id=\"img-99de2337-4\">\n",
       "    <g transform=\"translate(14.02,87.04)\">\n",
       "      <g class=\"primitive\">\n",
       "        <text text-anchor=\"middle\" dy=\"0.6em\">0</text>\n",
       "      </g>\n",
       "    </g>\n",
       "    <g transform=\"translate(36.71,87.04)\">\n",
       "      <g class=\"primitive\">\n",
       "        <text text-anchor=\"middle\" dy=\"0.6em\">10</text>\n",
       "      </g>\n",
       "    </g>\n",
       "    <g transform=\"translate(59.4,87.04)\">\n",
       "      <g class=\"primitive\">\n",
       "        <text text-anchor=\"middle\" dy=\"0.6em\">20</text>\n",
       "      </g>\n",
       "    </g>\n",
       "    <g transform=\"translate(82.08,87.04)\">\n",
       "      <g class=\"primitive\">\n",
       "        <text text-anchor=\"middle\" dy=\"0.6em\">30</text>\n",
       "      </g>\n",
       "    </g>\n",
       "    <g transform=\"translate(104.77,87.04)\">\n",
       "      <g class=\"primitive\">\n",
       "        <text text-anchor=\"middle\" dy=\"0.6em\">40</text>\n",
       "      </g>\n",
       "    </g>\n",
       "    <g transform=\"translate(127.46,87.04)\">\n",
       "      <g class=\"primitive\">\n",
       "        <text text-anchor=\"middle\" dy=\"0.6em\">50</text>\n",
       "      </g>\n",
       "    </g>\n",
       "  </g>\n",
       "  <g class=\"guide colorkey\" id=\"img-99de2337-5\">\n",
       "    <g fill=\"#4C404B\" font-size=\"2.82\" font-family=\"'PT Sans','Helvetica Neue','Helvetica',sans-serif\" id=\"img-99de2337-6\">\n",
       "      <g transform=\"translate(134.09,47.75)\" id=\"img-99de2337-7\">\n",
       "        <g class=\"primitive\">\n",
       "          <text dy=\"0.35em\">W</text>\n",
       "        </g>\n",
       "      </g>\n",
       "    </g>\n",
       "    <g stroke-width=\"0.3\" id=\"img-99de2337-8\">\n",
       "      <g stroke=\"#FFFFFF\" stroke-opacity=\"0.000\" fill-opacity=\"1\" fill=\"#00BFFF\" id=\"img-99de2337-9\">\n",
       "        <g transform=\"translate(131.27,47.75)\" id=\"img-99de2337-10\">\n",
       "          <circle cx=\"0\" cy=\"0\" r=\"0.7\" class=\"primitive\"/>\n",
       "        </g>\n",
       "      </g>\n",
       "    </g>\n",
       "    <g fill=\"#362A35\" font-size=\"3.18\" font-family=\"'PT Sans','Helvetica Neue','Helvetica',sans-serif\" stroke=\"#000000\" stroke-opacity=\"0.000\" id=\"img-99de2337-11\">\n",
       "      <g transform=\"translate(130.46,44.44)\" id=\"img-99de2337-12\">\n",
       "        <g class=\"primitive\">\n",
       "          <text dy=\"-0em\"></text>\n",
       "        </g>\n",
       "      </g>\n",
       "    </g>\n",
       "  </g>\n",
       "  <g clip-path=\"url(#img-99de2337-13)\">\n",
       "    <g id=\"img-99de2337-14\">\n",
       "      <g pointer-events=\"visible\" stroke-width=\"0.3\" fill=\"#000000\" fill-opacity=\"0.000\" stroke=\"#000000\" stroke-opacity=\"0.000\" class=\"guide background\" id=\"img-99de2337-15\">\n",
       "        <g transform=\"translate(70.74,45.52)\" id=\"img-99de2337-16\">\n",
       "          <path d=\"M-58.72,-40.52 L58.72,-40.52 58.72,40.52 -58.72,40.52  z\" class=\"primitive\"/>\n",
       "        </g>\n",
       "      </g>\n",
       "      <g class=\"guide ygridlines xfixed\" stroke-dasharray=\"0.5,0.5\" stroke-width=\"0.2\" stroke=\"#D0D0E0\" id=\"img-99de2337-17\">\n",
       "        <g transform=\"translate(70.74,45.91)\" id=\"img-99de2337-18\">\n",
       "          <path fill=\"none\" d=\"M-58.72,0 L58.72,0 \" class=\"primitive\"/>\n",
       "        </g>\n",
       "        <g transform=\"translate(70.74,7)\" id=\"img-99de2337-19\">\n",
       "          <path fill=\"none\" d=\"M-58.72,0 L58.72,0 \" class=\"primitive\"/>\n",
       "        </g>\n",
       "      </g>\n",
       "      <g class=\"guide xgridlines yfixed\" stroke-dasharray=\"0.5,0.5\" stroke-width=\"0.2\" stroke=\"#D0D0E0\" id=\"img-99de2337-20\">\n",
       "        <g transform=\"translate(14.02,45.52)\" id=\"img-99de2337-21\">\n",
       "          <path fill=\"none\" d=\"M0,-40.52 L0,40.52 \" class=\"primitive\"/>\n",
       "        </g>\n",
       "        <g transform=\"translate(36.71,45.52)\" id=\"img-99de2337-22\">\n",
       "          <path fill=\"none\" d=\"M0,-40.52 L0,40.52 \" class=\"primitive\"/>\n",
       "        </g>\n",
       "        <g transform=\"translate(59.4,45.52)\" id=\"img-99de2337-23\">\n",
       "          <path fill=\"none\" d=\"M0,-40.52 L0,40.52 \" class=\"primitive\"/>\n",
       "        </g>\n",
       "        <g transform=\"translate(82.08,45.52)\" id=\"img-99de2337-24\">\n",
       "          <path fill=\"none\" d=\"M0,-40.52 L0,40.52 \" class=\"primitive\"/>\n",
       "        </g>\n",
       "        <g transform=\"translate(104.77,45.52)\" id=\"img-99de2337-25\">\n",
       "          <path fill=\"none\" d=\"M0,-40.52 L0,40.52 \" class=\"primitive\"/>\n",
       "        </g>\n",
       "        <g transform=\"translate(127.46,45.52)\" id=\"img-99de2337-26\">\n",
       "          <path fill=\"none\" d=\"M0,-40.52 L0,40.52 \" class=\"primitive\"/>\n",
       "        </g>\n",
       "      </g>\n",
       "      <g class=\"plotpanel\" id=\"img-99de2337-27\">\n",
       "        <metadata>\n",
       "          <boundingbox value=\"12.019999999999996mm 5.0mm 117.4413562373095mm 81.04333333333334mm\"/>\n",
       "          <unitbox value=\"-0.8815127332470237 102.5699822610652 51.76302546649405 -104.1399645221304\"/>\n",
       "        </metadata>\n",
       "        <g stroke-width=\"0.3\" fill=\"#000000\" fill-opacity=\"0.000\" class=\"geometry\" id=\"img-99de2337-28\">\n",
       "          <g class=\"color_LCHab{Float32}(70.0f0,60.0f0,240.0f0)\" stroke-dasharray=\"none\" stroke-opacity=\"1\" stroke=\"#00BFFF\" id=\"img-99de2337-29\">\n",
       "            <g transform=\"translate(70.74,33.13)\" id=\"img-99de2337-30\">\n",
       "              <path fill=\"none\" d=\"M-56.72,50.92 L-54.45,50.69 -52.18,50.39 -49.91,50 -47.65,49.5 -45.38,48.87 -43.11,48.05 -40.84,47 -38.57,45.68 -36.3,44.02 -34.03,41.94 -31.76,39.38 -29.49,36.27 -27.23,32.56 -24.96,28.23 -22.69,23.32 -20.42,17.91 -18.15,12.17 -15.88,6.34 -13.61,0.66 -11.34,-4.61 -9.08,-9.28 -6.81,-13.24 -4.54,-16.47 -2.27,-19 0,-20.94 2.27,-22.4 4.54,-23.46 6.81,-24.23 9.08,-24.79 11.34,-25.18 13.61,-25.46 15.88,-25.66 18.15,-25.8 20.42,-25.9 22.69,-25.96 24.96,-26.01 27.23,-26.05 29.49,-26.07 31.76,-26.09 34.03,-26.1 36.3,-26.11 38.57,-26.11 40.84,-26.12 43.11,-26.12 45.38,-26.12 47.65,-26.12 49.91,-26.12 52.18,-26.12 54.45,-26.12 56.72,-26.12 \" class=\"primitive\"/>\n",
       "            </g>\n",
       "          </g>\n",
       "        </g>\n",
       "      </g>\n",
       "    </g>\n",
       "  </g>\n",
       "  <g class=\"guide ylabels\" font-size=\"2.82\" font-family=\"'PT Sans Caption','Helvetica Neue','Helvetica',sans-serif\" fill=\"#6C606B\" id=\"img-99de2337-31\">\n",
       "    <g transform=\"translate(11.02,45.91)\" id=\"img-99de2337-32\">\n",
       "      <g class=\"primitive\">\n",
       "        <text text-anchor=\"end\" dy=\"0.35em\">50</text>\n",
       "      </g>\n",
       "    </g>\n",
       "    <g transform=\"translate(11.02,7)\" id=\"img-99de2337-33\">\n",
       "      <g class=\"primitive\">\n",
       "        <text text-anchor=\"end\" dy=\"0.35em\">100</text>\n",
       "      </g>\n",
       "    </g>\n",
       "  </g>\n",
       "</g>\n",
       "<defs>\n",
       "  <clipPath id=\"img-99de2337-13\">\n",
       "    <path d=\"M12.02,5 L129.46,5 129.46,86.04 12.02,86.04 \" />\n",
       "  </clipPath>\n",
       "</defs>\n",
       "</svg>\n"
      ],
      "text/html": [
       "<?xml version=\"1.0\" encoding=\"UTF-8\"?>\n",
       "<svg xmlns=\"http://www.w3.org/2000/svg\"\n",
       "     xmlns:xlink=\"http://www.w3.org/1999/xlink\"\n",
       "     xmlns:gadfly=\"http://www.gadflyjl.org/ns\"\n",
       "     version=\"1.2\"\n",
       "     width=\"141.42mm\" height=\"100mm\" viewBox=\"0 0 141.42 100\"\n",
       "     stroke=\"none\"\n",
       "     fill=\"#000000\"\n",
       "     stroke-width=\"0.3\"\n",
       "     font-size=\"3.88\"\n",
       ">\n",
       "<defs>\n",
       "  <marker id=\"arrow\" markerWidth=\"15\" markerHeight=\"7\" refX=\"5\" refY=\"3.5\" orient=\"auto\" markerUnits=\"strokeWidth\">\n",
       "    <path d=\"M0,0 L15,3.5 L0,7 z\" stroke=\"context-stroke\" fill=\"context-stroke\"/>\n",
       "  </marker>\n",
       "</defs>\n",
       "<g stroke=\"#000000\" stroke-opacity=\"0.000\" fill=\"#FFFFFF\" id=\"img-e4bd3921-1\">\n",
       "  <g transform=\"translate(70.71,50)\">\n",
       "    <path d=\"M-70.71,-50 L70.71,-50 70.71,50 -70.71,50  z\" class=\"primitive\"/>\n",
       "  </g>\n",
       "</g>\n",
       "<g class=\"plotroot xscalable yscalable\" id=\"img-e4bd3921-2\">\n",
       "  <g font-size=\"3.53\" font-family=\"'PT Sans','Helvetica Neue','Helvetica',sans-serif\" fill=\"#564A55\" stroke=\"#000000\" stroke-opacity=\"0.000\" id=\"img-e4bd3921-3\">\n",
       "    <g transform=\"translate(70.74,93.72)\">\n",
       "      <g class=\"primitive\">\n",
       "        <text text-anchor=\"middle\" dy=\"0.6em\">t</text>\n",
       "      </g>\n",
       "    </g>\n",
       "  </g>\n",
       "  <g class=\"guide xlabels\" font-size=\"2.82\" font-family=\"'PT Sans Caption','Helvetica Neue','Helvetica',sans-serif\" fill=\"#6C606B\" id=\"img-e4bd3921-4\">\n",
       "    <g transform=\"translate(14.02,87.04)\">\n",
       "      <g class=\"primitive\">\n",
       "        <text text-anchor=\"middle\" dy=\"0.6em\">0</text>\n",
       "      </g>\n",
       "    </g>\n",
       "    <g transform=\"translate(36.71,87.04)\">\n",
       "      <g class=\"primitive\">\n",
       "        <text text-anchor=\"middle\" dy=\"0.6em\">10</text>\n",
       "      </g>\n",
       "    </g>\n",
       "    <g transform=\"translate(59.4,87.04)\">\n",
       "      <g class=\"primitive\">\n",
       "        <text text-anchor=\"middle\" dy=\"0.6em\">20</text>\n",
       "      </g>\n",
       "    </g>\n",
       "    <g transform=\"translate(82.08,87.04)\">\n",
       "      <g class=\"primitive\">\n",
       "        <text text-anchor=\"middle\" dy=\"0.6em\">30</text>\n",
       "      </g>\n",
       "    </g>\n",
       "    <g transform=\"translate(104.77,87.04)\">\n",
       "      <g class=\"primitive\">\n",
       "        <text text-anchor=\"middle\" dy=\"0.6em\">40</text>\n",
       "      </g>\n",
       "    </g>\n",
       "    <g transform=\"translate(127.46,87.04)\">\n",
       "      <g class=\"primitive\">\n",
       "        <text text-anchor=\"middle\" dy=\"0.6em\">50</text>\n",
       "      </g>\n",
       "    </g>\n",
       "  </g>\n",
       "  <g class=\"guide colorkey\" id=\"img-e4bd3921-5\">\n",
       "    <g fill=\"#4C404B\" font-size=\"2.82\" font-family=\"'PT Sans','Helvetica Neue','Helvetica',sans-serif\" id=\"img-e4bd3921-6\">\n",
       "      <g transform=\"translate(134.09,47.75)\" id=\"img-e4bd3921-7\">\n",
       "        <g class=\"primitive\">\n",
       "          <text dy=\"0.35em\">W</text>\n",
       "        </g>\n",
       "      </g>\n",
       "    </g>\n",
       "    <g stroke-width=\"0.3\" id=\"img-e4bd3921-8\">\n",
       "      <g stroke=\"#FFFFFF\" stroke-opacity=\"0.000\" fill-opacity=\"1\" fill=\"#00BFFF\" id=\"img-e4bd3921-9\">\n",
       "        <g transform=\"translate(131.27,47.75)\" id=\"img-e4bd3921-10\">\n",
       "          <circle cx=\"0\" cy=\"0\" r=\"0.7\" class=\"primitive\"/>\n",
       "        </g>\n",
       "      </g>\n",
       "    </g>\n",
       "    <g fill=\"#362A35\" font-size=\"3.18\" font-family=\"'PT Sans','Helvetica Neue','Helvetica',sans-serif\" stroke=\"#000000\" stroke-opacity=\"0.000\" id=\"img-e4bd3921-11\">\n",
       "      <g transform=\"translate(130.46,44.44)\" id=\"img-e4bd3921-12\">\n",
       "        <g class=\"primitive\">\n",
       "          <text dy=\"-0em\"></text>\n",
       "        </g>\n",
       "      </g>\n",
       "    </g>\n",
       "  </g>\n",
       "  <g clip-path=\"url(#img-e4bd3921-13)\">\n",
       "    <g id=\"img-e4bd3921-14\">\n",
       "      <g pointer-events=\"visible\" stroke-width=\"0.3\" fill=\"#000000\" fill-opacity=\"0.000\" stroke=\"#000000\" stroke-opacity=\"0.000\" class=\"guide background\" id=\"img-e4bd3921-15\">\n",
       "        <g transform=\"translate(70.74,45.52)\" id=\"img-e4bd3921-16\">\n",
       "          <path d=\"M-58.72,-40.52 L58.72,-40.52 58.72,40.52 -58.72,40.52  z\" class=\"primitive\"/>\n",
       "        </g>\n",
       "      </g>\n",
       "      <g class=\"guide ygridlines xfixed\" stroke-dasharray=\"0.5,0.5\" stroke-width=\"0.2\" stroke=\"#D0D0E0\" id=\"img-e4bd3921-17\">\n",
       "        <g transform=\"translate(70.74,45.91)\" id=\"img-e4bd3921-18\">\n",
       "          <path fill=\"none\" d=\"M-58.72,0 L58.72,0 \" class=\"primitive\"/>\n",
       "        </g>\n",
       "        <g transform=\"translate(70.74,7)\" id=\"img-e4bd3921-19\">\n",
       "          <path fill=\"none\" d=\"M-58.72,0 L58.72,0 \" class=\"primitive\"/>\n",
       "        </g>\n",
       "      </g>\n",
       "      <g class=\"guide xgridlines yfixed\" stroke-dasharray=\"0.5,0.5\" stroke-width=\"0.2\" stroke=\"#D0D0E0\" id=\"img-e4bd3921-20\">\n",
       "        <g transform=\"translate(14.02,45.52)\" id=\"img-e4bd3921-21\">\n",
       "          <path fill=\"none\" d=\"M0,-40.52 L0,40.52 \" class=\"primitive\"/>\n",
       "        </g>\n",
       "        <g transform=\"translate(36.71,45.52)\" id=\"img-e4bd3921-22\">\n",
       "          <path fill=\"none\" d=\"M0,-40.52 L0,40.52 \" class=\"primitive\"/>\n",
       "        </g>\n",
       "        <g transform=\"translate(59.4,45.52)\" id=\"img-e4bd3921-23\">\n",
       "          <path fill=\"none\" d=\"M0,-40.52 L0,40.52 \" class=\"primitive\"/>\n",
       "        </g>\n",
       "        <g transform=\"translate(82.08,45.52)\" id=\"img-e4bd3921-24\">\n",
       "          <path fill=\"none\" d=\"M0,-40.52 L0,40.52 \" class=\"primitive\"/>\n",
       "        </g>\n",
       "        <g transform=\"translate(104.77,45.52)\" id=\"img-e4bd3921-25\">\n",
       "          <path fill=\"none\" d=\"M0,-40.52 L0,40.52 \" class=\"primitive\"/>\n",
       "        </g>\n",
       "        <g transform=\"translate(127.46,45.52)\" id=\"img-e4bd3921-26\">\n",
       "          <path fill=\"none\" d=\"M0,-40.52 L0,40.52 \" class=\"primitive\"/>\n",
       "        </g>\n",
       "      </g>\n",
       "      <g class=\"plotpanel\" id=\"img-e4bd3921-27\">\n",
       "        <metadata>\n",
       "          <boundingbox value=\"12.019999999999996mm 5.0mm 117.4413562373095mm 81.04333333333334mm\"/>\n",
       "          <unitbox value=\"-0.8815127332470237 102.5699822610652 51.76302546649405 -104.1399645221304\"/>\n",
       "        </metadata>\n",
       "        <g stroke-width=\"0.3\" fill=\"#000000\" fill-opacity=\"0.000\" class=\"geometry\" id=\"img-e4bd3921-28\">\n",
       "          <g class=\"color_LCHab{Float32}(70.0f0,60.0f0,240.0f0)\" stroke-dasharray=\"none\" stroke-opacity=\"1\" stroke=\"#00BFFF\" id=\"img-e4bd3921-29\">\n",
       "            <g transform=\"translate(70.74,33.13)\" id=\"img-e4bd3921-30\">\n",
       "              <path fill=\"none\" d=\"M-56.72,50.92 L-54.45,50.69 -52.18,50.39 -49.91,50 -47.65,49.5 -45.38,48.87 -43.11,48.05 -40.84,47 -38.57,45.68 -36.3,44.02 -34.03,41.94 -31.76,39.38 -29.49,36.27 -27.23,32.56 -24.96,28.23 -22.69,23.32 -20.42,17.91 -18.15,12.17 -15.88,6.34 -13.61,0.66 -11.34,-4.61 -9.08,-9.28 -6.81,-13.24 -4.54,-16.47 -2.27,-19 0,-20.94 2.27,-22.4 4.54,-23.46 6.81,-24.23 9.08,-24.79 11.34,-25.18 13.61,-25.46 15.88,-25.66 18.15,-25.8 20.42,-25.9 22.69,-25.96 24.96,-26.01 27.23,-26.05 29.49,-26.07 31.76,-26.09 34.03,-26.1 36.3,-26.11 38.57,-26.11 40.84,-26.12 43.11,-26.12 45.38,-26.12 47.65,-26.12 49.91,-26.12 52.18,-26.12 54.45,-26.12 56.72,-26.12 \" class=\"primitive\"/>\n",
       "            </g>\n",
       "          </g>\n",
       "        </g>\n",
       "      </g>\n",
       "    </g>\n",
       "  </g>\n",
       "  <g class=\"guide ylabels\" font-size=\"2.82\" font-family=\"'PT Sans Caption','Helvetica Neue','Helvetica',sans-serif\" fill=\"#6C606B\" id=\"img-e4bd3921-31\">\n",
       "    <g transform=\"translate(11.02,45.91)\" id=\"img-e4bd3921-32\">\n",
       "      <g class=\"primitive\">\n",
       "        <text text-anchor=\"end\" dy=\"0.35em\">50</text>\n",
       "      </g>\n",
       "    </g>\n",
       "    <g transform=\"translate(11.02,7)\" id=\"img-e4bd3921-33\">\n",
       "      <g class=\"primitive\">\n",
       "        <text text-anchor=\"end\" dy=\"0.35em\">100</text>\n",
       "      </g>\n",
       "    </g>\n",
       "  </g>\n",
       "</g>\n",
       "<defs>\n",
       "  <clipPath id=\"img-e4bd3921-13\">\n",
       "    <path d=\"M12.02,5 L129.46,5 129.46,86.04 12.02,86.04 \" />\n",
       "  </clipPath>\n",
       "</defs>\n",
       "</svg>\n"
      ],
      "text/plain": [
       "\"<Cropbox.Plot{Gadfly.Plot}>\""
      ]
     },
     "execution_count": 32,
     "metadata": {},
     "output_type": "execute_result"
    }
   ],
   "source": [
    "visualize(r13, :t, :W, kind = :line)"
   ]
  },
  {
   "cell_type": "code",
   "execution_count": 33,
   "metadata": {
    "tags": []
   },
   "outputs": [],
   "source": [
    "# visualize(r13, :t, :W, kind = :line)"
   ]
  },
  {
   "cell_type": "code",
   "execution_count": 29,
   "metadata": {
    "tags": []
   },
   "outputs": [
    {
     "data": {
      "application/vnd.webio.node+json": {
       "children": [
        {
         "children": [
          "Logi"
         ],
         "instanceArgs": {
          "namespace": "html",
          "tag": "div"
         },
         "nodeType": "DOM",
         "props": {
          "style": {
           "color": "rebeccapurple",
           "font-family": "monospace"
          }
         },
         "type": "node"
        },
        {
         "children": [
          {
           "children": [
            {
             "children": [
              {
               "children": [
                {
                 "children": [
                  "μ"
                 ],
                 "instanceArgs": {
                  "namespace": "html",
                  "tag": "label"
                 },
                 "nodeType": "DOM",
                 "props": {
                  "className": "interact ",
                  "style": {
                   "color": "royalblue",
                   "padding": "5px 10px 0px 10px",
                   "white-space": "nowrap"
                  }
                 },
                 "type": "node"
                }
               ],
               "instanceArgs": {
                "namespace": "html",
                "tag": "div"
               },
               "nodeType": "DOM",
               "props": {
                "className": "interact-flex-row-left"
               },
               "type": "node"
              },
              {
               "children": [
                {
                 "children": [],
                 "instanceArgs": {
                  "namespace": "html",
                  "tag": "input"
                 },
                 "nodeType": "DOM",
                 "props": {
                  "attributes": {
                   "data-bind": "numericValue: index, valueUpdate: 'input', event: {change: function (){this.changes(this.changes()+1)}}",
                   "orient": "horizontal",
                   "type": "range"
                  },
                  "className": "slider slider is-fullwidth",
                  "max": 51,
                  "min": 1,
                  "step": 1,
                  "style": {}
                 },
                 "type": "node"
                }
               ],
               "instanceArgs": {
                "namespace": "html",
                "tag": "div"
               },
               "nodeType": "DOM",
               "props": {
                "className": "interact-flex-row-center"
               },
               "type": "node"
              },
              {
               "children": [
                {
                 "children": [],
                 "instanceArgs": {
                  "namespace": "html",
                  "tag": "p"
                 },
                 "nodeType": "DOM",
                 "props": {
                  "attributes": {
                   "data-bind": "text: formatted_val"
                  }
                 },
                 "type": "node"
                }
               ],
               "instanceArgs": {
                "namespace": "html",
                "tag": "div"
               },
               "nodeType": "DOM",
               "props": {
                "className": "interact-flex-row-right"
               },
               "type": "node"
              }
             ],
             "instanceArgs": {
              "namespace": "html",
              "tag": "div"
             },
             "nodeType": "DOM",
             "props": {
              "className": "interact-flex-row interact-widget",
              "style": {
               "font-family": "monospace",
               "width": "80%"
              }
             },
             "type": "node"
            }
           ],
           "instanceArgs": {
            "handlers": {
             "changes": [
              "(function (val){return (val!=this.model[\"changes\"]()) ? (this.valueFromJulia[\"changes\"]=true, this.model[\"changes\"](val)) : undefined})"
             ],
             "index": [
              "(function (val){return (val!=this.model[\"index\"]()) ? (this.valueFromJulia[\"index\"]=true, this.model[\"index\"](val)) : undefined})"
             ]
            },
            "id": "13278503994798966176",
            "imports": {
             "data": [
              {
               "name": "knockout",
               "type": "js",
               "url": "/assetserver/d749de49a15576291e39755d819be2408bf7f995-knockout.js"
              },
              {
               "name": "knockout_punches",
               "type": "js",
               "url": "/assetserver/9f5c86158cf79faf331cfb32636cb08a9b1f0dc2-knockout_punches.js"
              },
              {
               "name": null,
               "type": "js",
               "url": "/assetserver/96a65e6078e018eef9bba5cd6ed02b2635164c53-all.js"
              },
              {
               "name": null,
               "type": "css",
               "url": "/assetserver/98c9b8e9cfeaa0be2a6f3aa79abc5da0680c3037-style.css"
              },
              {
               "name": null,
               "type": "css",
               "url": "/assetserver/c5a1211d10b2f10049d85486a98c5e9063cad849-bulma_confined.min.css"
              }
             ],
             "type": "async_block"
            },
            "mount_callbacks": [
             "function () {\n    var handler = (function (ko, koPunches) {\n    ko.punches.enableAll();\n    ko.bindingHandlers.numericValue = {\n        init: function(element, valueAccessor, allBindings, data, context) {\n            var stringified = ko.observable(ko.unwrap(valueAccessor()));\n            stringified.subscribe(function(value) {\n                var val = parseFloat(value);\n                if (!isNaN(val)) {\n                    valueAccessor()(val);\n                }\n            });\n            valueAccessor().subscribe(function(value) {\n                var str = JSON.stringify(value);\n                if ((str == \"0\") && ([\"-0\", \"-0.\"].indexOf(stringified()) >= 0))\n                     return;\n                 if ([\"null\", \"\"].indexOf(str) >= 0)\n                     return;\n                stringified(str);\n            });\n            ko.applyBindingsToNode(\n                element,\n                {\n                    value: stringified,\n                    valueUpdate: allBindings.get('valueUpdate'),\n                },\n                context,\n            );\n        }\n    };\n    var json_data = {\"formatted_vals\":[\"0.0\",\"0.01\",\"0.02\",\"0.03\",\"0.04\",\"0.05\",\"0.06\",\"0.07\",\"0.08\",\"0.09\",\"0.1\",\"0.11\",\"0.12\",\"0.13\",\"0.14\",\"0.15\",\"0.16\",\"0.17\",\"0.18\",\"0.19\",\"0.2\",\"0.21\",\"0.22\",\"0.23\",\"0.24\",\"0.25\",\"0.26\",\"0.27\",\"0.28\",\"0.29\",\"0.3\",\"0.31\",\"0.32\",\"0.33\",\"0.34\",\"0.35\",\"0.36\",\"0.37\",\"0.38\",\"0.39\",\"0.4\",\"0.41\",\"0.42\",\"0.43\",\"0.44\",\"0.45\",\"0.46\",\"0.47\",\"0.48\",\"0.49\",\"0.5\"],\"changes\":WebIO.getval({\"name\":\"changes\",\"scope\":\"13278503994798966176\",\"id\":\"2314725558663479098\",\"type\":\"observable\"}),\"index\":WebIO.getval({\"name\":\"index\",\"scope\":\"13278503994798966176\",\"id\":\"10612459828433716838\",\"type\":\"observable\"})};\n    var self = this;\n    function AppViewModel() {\n        for (var key in json_data) {\n            var el = json_data[key];\n            this[key] = Array.isArray(el) ? ko.observableArray(el) : ko.observable(el);\n        }\n        \n        [this[\"formatted_val\"]=ko.computed(    function(){\n        return this.formatted_vals()[parseInt(this.index())-(1)];\n    }\n,this)]\n        [this[\"changes\"].subscribe((function (val){!(this.valueFromJulia[\"changes\"]) ? (WebIO.setval({\"name\":\"changes\",\"scope\":\"13278503994798966176\",\"id\":\"2314725558663479098\",\"type\":\"observable\"},val)) : undefined; return this.valueFromJulia[\"changes\"]=false}),self),this[\"index\"].subscribe((function (val){!(this.valueFromJulia[\"index\"]) ? (WebIO.setval({\"name\":\"index\",\"scope\":\"13278503994798966176\",\"id\":\"10612459828433716838\",\"type\":\"observable\"},val)) : undefined; return this.valueFromJulia[\"index\"]=false}),self)]\n        \n    }\n    self.model = new AppViewModel();\n    self.valueFromJulia = {};\n    for (var key in json_data) {\n        self.valueFromJulia[key] = false;\n    }\n    ko.applyBindings(self.model, self.dom);\n}\n);\n    (WebIO.importBlock({\"data\":[{\"name\":\"knockout\",\"type\":\"js\",\"url\":\"/assetserver/d749de49a15576291e39755d819be2408bf7f995-knockout.js\"},{\"name\":\"knockout_punches\",\"type\":\"js\",\"url\":\"/assetserver/9f5c86158cf79faf331cfb32636cb08a9b1f0dc2-knockout_punches.js\"}],\"type\":\"async_block\"})).then((imports) => handler.apply(this, imports));\n}\n"
            ],
            "observables": {
             "changes": {
              "id": "2314725558663479098",
              "sync": true,
              "value": 0
             },
             "index": {
              "id": "10612459828433716838",
              "sync": true,
              "value": 26
             }
            },
            "systemjs_options": null
           },
           "nodeType": "Scope",
           "props": {},
           "type": "node"
          }
         ],
         "instanceArgs": {
          "namespace": "html",
          "tag": "div"
         },
         "nodeType": "DOM",
         "props": {
          "className": "field interact-widget"
         },
         "type": "node"
        },
        {
         "children": [
          {
           "children": [
            {
             "children": [
              {
               "children": [
                {
                 "children": [
                  "W0"
                 ],
                 "instanceArgs": {
                  "namespace": "html",
                  "tag": "label"
                 },
                 "nodeType": "DOM",
                 "props": {
                  "className": "interact ",
                  "style": {
                   "color": "royalblue",
                   "padding": "5px 10px 0px 10px",
                   "white-space": "nowrap"
                  }
                 },
                 "type": "node"
                }
               ],
               "instanceArgs": {
                "namespace": "html",
                "tag": "div"
               },
               "nodeType": "DOM",
               "props": {
                "className": "interact-flex-row-left"
               },
               "type": "node"
              },
              {
               "children": [
                {
                 "children": [],
                 "instanceArgs": {
                  "namespace": "html",
                  "tag": "input"
                 },
                 "nodeType": "DOM",
                 "props": {
                  "attributes": {
                   "data-bind": "numericValue: index, valueUpdate: 'input', event: {change: function (){this.changes(this.changes()+1)}}",
                   "orient": "horizontal",
                   "type": "range"
                  },
                  "className": "slider slider is-fullwidth",
                  "max": 101,
                  "min": 1,
                  "step": 1,
                  "style": {}
                 },
                 "type": "node"
                }
               ],
               "instanceArgs": {
                "namespace": "html",
                "tag": "div"
               },
               "nodeType": "DOM",
               "props": {
                "className": "interact-flex-row-center"
               },
               "type": "node"
              },
              {
               "children": [
                {
                 "children": [],
                 "instanceArgs": {
                  "namespace": "html",
                  "tag": "p"
                 },
                 "nodeType": "DOM",
                 "props": {
                  "attributes": {
                   "data-bind": "text: formatted_val"
                  }
                 },
                 "type": "node"
                }
               ],
               "instanceArgs": {
                "namespace": "html",
                "tag": "div"
               },
               "nodeType": "DOM",
               "props": {
                "className": "interact-flex-row-right"
               },
               "type": "node"
              }
             ],
             "instanceArgs": {
              "namespace": "html",
              "tag": "div"
             },
             "nodeType": "DOM",
             "props": {
              "className": "interact-flex-row interact-widget",
              "style": {
               "font-family": "monospace",
               "width": "80%"
              }
             },
             "type": "node"
            }
           ],
           "instanceArgs": {
            "handlers": {
             "changes": [
              "(function (val){return (val!=this.model[\"changes\"]()) ? (this.valueFromJulia[\"changes\"]=true, this.model[\"changes\"](val)) : undefined})"
             ],
             "index": [
              "(function (val){return (val!=this.model[\"index\"]()) ? (this.valueFromJulia[\"index\"]=true, this.model[\"index\"](val)) : undefined})"
             ]
            },
            "id": "6909320385981904995",
            "imports": {
             "data": [
              {
               "name": "knockout",
               "type": "js",
               "url": "/assetserver/d749de49a15576291e39755d819be2408bf7f995-knockout.js"
              },
              {
               "name": "knockout_punches",
               "type": "js",
               "url": "/assetserver/9f5c86158cf79faf331cfb32636cb08a9b1f0dc2-knockout_punches.js"
              },
              {
               "name": null,
               "type": "js",
               "url": "/assetserver/96a65e6078e018eef9bba5cd6ed02b2635164c53-all.js"
              },
              {
               "name": null,
               "type": "css",
               "url": "/assetserver/98c9b8e9cfeaa0be2a6f3aa79abc5da0680c3037-style.css"
              },
              {
               "name": null,
               "type": "css",
               "url": "/assetserver/c5a1211d10b2f10049d85486a98c5e9063cad849-bulma_confined.min.css"
              }
             ],
             "type": "async_block"
            },
            "mount_callbacks": [
             "function () {\n    var handler = (function (ko, koPunches) {\n    ko.punches.enableAll();\n    ko.bindingHandlers.numericValue = {\n        init: function(element, valueAccessor, allBindings, data, context) {\n            var stringified = ko.observable(ko.unwrap(valueAccessor()));\n            stringified.subscribe(function(value) {\n                var val = parseFloat(value);\n                if (!isNaN(val)) {\n                    valueAccessor()(val);\n                }\n            });\n            valueAccessor().subscribe(function(value) {\n                var str = JSON.stringify(value);\n                if ((str == \"0\") && ([\"-0\", \"-0.\"].indexOf(stringified()) >= 0))\n                     return;\n                 if ([\"null\", \"\"].indexOf(str) >= 0)\n                     return;\n                stringified(str);\n            });\n            ko.applyBindingsToNode(\n                element,\n                {\n                    value: stringified,\n                    valueUpdate: allBindings.get('valueUpdate'),\n                },\n                context,\n            );\n        }\n    };\n    var json_data = {\"formatted_vals\":[\"0.0\",\"0.1\",\"0.2\",\"0.3\",\"0.4\",\"0.5\",\"0.6\",\"0.7\",\"0.8\",\"0.9\",\"1.0\",\"1.1\",\"1.2\",\"1.3\",\"1.4\",\"1.5\",\"1.6\",\"1.7\",\"1.8\",\"1.9\",\"2.0\",\"2.1\",\"2.2\",\"2.3\",\"2.4\",\"2.5\",\"2.6\",\"2.7\",\"2.8\",\"2.9\",\"3.0\",\"3.1\",\"3.2\",\"3.3\",\"3.4\",\"3.5\",\"3.6\",\"3.7\",\"3.8\",\"3.9\",\"4.0\",\"4.1\",\"4.2\",\"4.3\",\"4.4\",\"4.5\",\"4.6\",\"4.7\",\"4.8\",\"4.9\",\"5.0\",\"5.1\",\"5.2\",\"5.3\",\"5.4\",\"5.5\",\"5.6\",\"5.7\",\"5.8\",\"5.9\",\"6.0\",\"6.1\",\"6.2\",\"6.3\",\"6.4\",\"6.5\",\"6.6\",\"6.7\",\"6.8\",\"6.9\",\"7.0\",\"7.1\",\"7.2\",\"7.3\",\"7.4\",\"7.5\",\"7.6\",\"7.7\",\"7.8\",\"7.9\",\"8.0\",\"8.1\",\"8.2\",\"8.3\",\"8.4\",\"8.5\",\"8.6\",\"8.7\",\"8.8\",\"8.9\",\"9.0\",\"9.1\",\"9.2\",\"9.3\",\"9.4\",\"9.5\",\"9.6\",\"9.7\",\"9.8\",\"9.9\",\"10.0\"],\"changes\":WebIO.getval({\"name\":\"changes\",\"scope\":\"6909320385981904995\",\"id\":\"10944228928166335628\",\"type\":\"observable\"}),\"index\":WebIO.getval({\"name\":\"index\",\"scope\":\"6909320385981904995\",\"id\":\"14489644198381242378\",\"type\":\"observable\"})};\n    var self = this;\n    function AppViewModel() {\n        for (var key in json_data) {\n            var el = json_data[key];\n            this[key] = Array.isArray(el) ? ko.observableArray(el) : ko.observable(el);\n        }\n        \n        [this[\"formatted_val\"]=ko.computed(    function(){\n        return this.formatted_vals()[parseInt(this.index())-(1)];\n    }\n,this)]\n        [this[\"changes\"].subscribe((function (val){!(this.valueFromJulia[\"changes\"]) ? (WebIO.setval({\"name\":\"changes\",\"scope\":\"6909320385981904995\",\"id\":\"10944228928166335628\",\"type\":\"observable\"},val)) : undefined; return this.valueFromJulia[\"changes\"]=false}),self),this[\"index\"].subscribe((function (val){!(this.valueFromJulia[\"index\"]) ? (WebIO.setval({\"name\":\"index\",\"scope\":\"6909320385981904995\",\"id\":\"14489644198381242378\",\"type\":\"observable\"},val)) : undefined; return this.valueFromJulia[\"index\"]=false}),self)]\n        \n    }\n    self.model = new AppViewModel();\n    self.valueFromJulia = {};\n    for (var key in json_data) {\n        self.valueFromJulia[key] = false;\n    }\n    ko.applyBindings(self.model, self.dom);\n}\n);\n    (WebIO.importBlock({\"data\":[{\"name\":\"knockout\",\"type\":\"js\",\"url\":\"/assetserver/d749de49a15576291e39755d819be2408bf7f995-knockout.js\"},{\"name\":\"knockout_punches\",\"type\":\"js\",\"url\":\"/assetserver/9f5c86158cf79faf331cfb32636cb08a9b1f0dc2-knockout_punches.js\"}],\"type\":\"async_block\"})).then((imports) => handler.apply(this, imports));\n}\n"
            ],
            "observables": {
             "changes": {
              "id": "10944228928166335628",
              "sync": true,
              "value": 0
             },
             "index": {
              "id": "14489644198381242378",
              "sync": true,
              "value": 51
             }
            },
            "systemjs_options": null
           },
           "nodeType": "Scope",
           "props": {},
           "type": "node"
          }
         ],
         "instanceArgs": {
          "namespace": "html",
          "tag": "div"
         },
         "nodeType": "DOM",
         "props": {
          "className": "field interact-widget"
         },
         "type": "node"
        },
        {
         "children": [
          {
           "children": [
            {
             "children": [
              {
               "children": [
                {
                 "children": [
                  "Wf"
                 ],
                 "instanceArgs": {
                  "namespace": "html",
                  "tag": "label"
                 },
                 "nodeType": "DOM",
                 "props": {
                  "className": "interact ",
                  "style": {
                   "color": "royalblue",
                   "padding": "5px 10px 0px 10px",
                   "white-space": "nowrap"
                  }
                 },
                 "type": "node"
                }
               ],
               "instanceArgs": {
                "namespace": "html",
                "tag": "div"
               },
               "nodeType": "DOM",
               "props": {
                "className": "interact-flex-row-left"
               },
               "type": "node"
              },
              {
               "children": [
                {
                 "children": [],
                 "instanceArgs": {
                  "namespace": "html",
                  "tag": "input"
                 },
                 "nodeType": "DOM",
                 "props": {
                  "attributes": {
                   "data-bind": "numericValue: index, valueUpdate: 'input', event: {change: function (){this.changes(this.changes()+1)}}",
                   "orient": "horizontal",
                   "type": "range"
                  },
                  "className": "slider slider is-fullwidth",
                  "max": 20,
                  "min": 1,
                  "step": 1,
                  "style": {}
                 },
                 "type": "node"
                }
               ],
               "instanceArgs": {
                "namespace": "html",
                "tag": "div"
               },
               "nodeType": "DOM",
               "props": {
                "className": "interact-flex-row-center"
               },
               "type": "node"
              },
              {
               "children": [
                {
                 "children": [],
                 "instanceArgs": {
                  "namespace": "html",
                  "tag": "p"
                 },
                 "nodeType": "DOM",
                 "props": {
                  "attributes": {
                   "data-bind": "text: formatted_val"
                  }
                 },
                 "type": "node"
                }
               ],
               "instanceArgs": {
                "namespace": "html",
                "tag": "div"
               },
               "nodeType": "DOM",
               "props": {
                "className": "interact-flex-row-right"
               },
               "type": "node"
              }
             ],
             "instanceArgs": {
              "namespace": "html",
              "tag": "div"
             },
             "nodeType": "DOM",
             "props": {
              "className": "interact-flex-row interact-widget",
              "style": {
               "font-family": "monospace",
               "width": "80%"
              }
             },
             "type": "node"
            }
           ],
           "instanceArgs": {
            "handlers": {
             "changes": [
              "(function (val){return (val!=this.model[\"changes\"]()) ? (this.valueFromJulia[\"changes\"]=true, this.model[\"changes\"](val)) : undefined})"
             ],
             "index": [
              "(function (val){return (val!=this.model[\"index\"]()) ? (this.valueFromJulia[\"index\"]=true, this.model[\"index\"](val)) : undefined})"
             ]
            },
            "id": "7909979115658618519",
            "imports": {
             "data": [
              {
               "name": "knockout",
               "type": "js",
               "url": "/assetserver/d749de49a15576291e39755d819be2408bf7f995-knockout.js"
              },
              {
               "name": "knockout_punches",
               "type": "js",
               "url": "/assetserver/9f5c86158cf79faf331cfb32636cb08a9b1f0dc2-knockout_punches.js"
              },
              {
               "name": null,
               "type": "js",
               "url": "/assetserver/96a65e6078e018eef9bba5cd6ed02b2635164c53-all.js"
              },
              {
               "name": null,
               "type": "css",
               "url": "/assetserver/98c9b8e9cfeaa0be2a6f3aa79abc5da0680c3037-style.css"
              },
              {
               "name": null,
               "type": "css",
               "url": "/assetserver/c5a1211d10b2f10049d85486a98c5e9063cad849-bulma_confined.min.css"
              }
             ],
             "type": "async_block"
            },
            "mount_callbacks": [
             "function () {\n    var handler = (function (ko, koPunches) {\n    ko.punches.enableAll();\n    ko.bindingHandlers.numericValue = {\n        init: function(element, valueAccessor, allBindings, data, context) {\n            var stringified = ko.observable(ko.unwrap(valueAccessor()));\n            stringified.subscribe(function(value) {\n                var val = parseFloat(value);\n                if (!isNaN(val)) {\n                    valueAccessor()(val);\n                }\n            });\n            valueAccessor().subscribe(function(value) {\n                var str = JSON.stringify(value);\n                if ((str == \"0\") && ([\"-0\", \"-0.\"].indexOf(stringified()) >= 0))\n                     return;\n                 if ([\"null\", \"\"].indexOf(str) >= 0)\n                     return;\n                stringified(str);\n            });\n            ko.applyBindingsToNode(\n                element,\n                {\n                    value: stringified,\n                    valueUpdate: allBindings.get('valueUpdate'),\n                },\n                context,\n            );\n        }\n    };\n    var json_data = {\"formatted_vals\":[\"10\",\"20\",\"30\",\"40\",\"50\",\"60\",\"70\",\"80\",\"90\",\"100\",\"110\",\"120\",\"130\",\"140\",\"150\",\"160\",\"170\",\"180\",\"190\",\"200\"],\"changes\":WebIO.getval({\"name\":\"changes\",\"scope\":\"7909979115658618519\",\"id\":\"7878447014194851764\",\"type\":\"observable\"}),\"index\":WebIO.getval({\"name\":\"index\",\"scope\":\"7909979115658618519\",\"id\":\"15594052581162785255\",\"type\":\"observable\"})};\n    var self = this;\n    function AppViewModel() {\n        for (var key in json_data) {\n            var el = json_data[key];\n            this[key] = Array.isArray(el) ? ko.observableArray(el) : ko.observable(el);\n        }\n        \n        [this[\"formatted_val\"]=ko.computed(    function(){\n        return this.formatted_vals()[parseInt(this.index())-(1)];\n    }\n,this)]\n        [this[\"changes\"].subscribe((function (val){!(this.valueFromJulia[\"changes\"]) ? (WebIO.setval({\"name\":\"changes\",\"scope\":\"7909979115658618519\",\"id\":\"7878447014194851764\",\"type\":\"observable\"},val)) : undefined; return this.valueFromJulia[\"changes\"]=false}),self),this[\"index\"].subscribe((function (val){!(this.valueFromJulia[\"index\"]) ? (WebIO.setval({\"name\":\"index\",\"scope\":\"7909979115658618519\",\"id\":\"15594052581162785255\",\"type\":\"observable\"},val)) : undefined; return this.valueFromJulia[\"index\"]=false}),self)]\n        \n    }\n    self.model = new AppViewModel();\n    self.valueFromJulia = {};\n    for (var key in json_data) {\n        self.valueFromJulia[key] = false;\n    }\n    ko.applyBindings(self.model, self.dom);\n}\n);\n    (WebIO.importBlock({\"data\":[{\"name\":\"knockout\",\"type\":\"js\",\"url\":\"/assetserver/d749de49a15576291e39755d819be2408bf7f995-knockout.js\"},{\"name\":\"knockout_punches\",\"type\":\"js\",\"url\":\"/assetserver/9f5c86158cf79faf331cfb32636cb08a9b1f0dc2-knockout_punches.js\"}],\"type\":\"async_block\"})).then((imports) => handler.apply(this, imports));\n}\n"
            ],
            "observables": {
             "changes": {
              "id": "7878447014194851764",
              "sync": true,
              "value": 0
             },
             "index": {
              "id": "15594052581162785255",
              "sync": true,
              "value": 10
             }
            },
            "systemjs_options": null
           },
           "nodeType": "Scope",
           "props": {},
           "type": "node"
          }
         ],
         "instanceArgs": {
          "namespace": "html",
          "tag": "div"
         },
         "nodeType": "DOM",
         "props": {
          "className": "field interact-widget"
         },
         "type": "node"
        },
        {
         "children": [
          {
           "children": [],
           "instanceArgs": {
            "namespace": "html",
            "tag": "div"
           },
           "nodeType": "DOM",
           "props": {
            "className": "webio-observable",
            "setInnerHtml": "<?xml version=\"1.0\" encoding=\"UTF-8\"?>\n<svg xmlns=\"http://www.w3.org/2000/svg\"\n     xmlns:xlink=\"http://www.w3.org/1999/xlink\"\n     xmlns:gadfly=\"http://www.gadflyjl.org/ns\"\n     version=\"1.2\"\n     width=\"141.42mm\" height=\"100mm\" viewBox=\"0 0 141.42 100\"\n     stroke=\"none\"\n     fill=\"#000000\"\n     stroke-width=\"0.3\"\n     font-size=\"3.88\"\n>\n<defs>\n  <marker id=\"arrow\" markerWidth=\"15\" markerHeight=\"7\" refX=\"5\" refY=\"3.5\" orient=\"auto\" markerUnits=\"strokeWidth\">\n    <path d=\"M0,0 L15,3.5 L0,7 z\" stroke=\"context-stroke\" fill=\"context-stroke\"/>\n  </marker>\n</defs>\n<g stroke=\"#000000\" stroke-opacity=\"0.000\" fill=\"#FFFFFF\" id=\"img-de7ac720-1\">\n  <g transform=\"translate(70.71,50)\">\n    <path d=\"M-70.71,-50 L70.71,-50 70.71,50 -70.71,50  z\" class=\"primitive\"/>\n  </g>\n</g>\n<g class=\"plotroot xscalable yscalable\" id=\"img-de7ac720-2\">\n  <g font-size=\"3.53\" font-family=\"'PT Sans','Helvetica Neue','Helvetica',sans-serif\" fill=\"#564A55\" stroke=\"#000000\" stroke-opacity=\"0.000\" id=\"img-de7ac720-3\">\n    <g transform=\"translate(77.68,93.72)\">\n      <g class=\"primitive\">\n        <text text-anchor=\"middle\" dy=\"0.6em\">t</text>\n      </g>\n    </g>\n  </g>\n  <g class=\"guide xlabels\" font-size=\"2.82\" font-family=\"'PT Sans Caption','Helvetica Neue','Helvetica',sans-serif\" fill=\"#6C606B\" id=\"img-de7ac720-4\">\n    <g transform=\"translate(20.94,87.04)\">\n      <g class=\"primitive\">\n        <text text-anchor=\"middle\" dy=\"0.6em\">0</text>\n      </g>\n    </g>\n    <g transform=\"translate(77.68,87.04)\">\n      <g class=\"primitive\">\n        <text text-anchor=\"middle\" dy=\"0.6em\">50</text>\n      </g>\n    </g>\n    <g transform=\"translate(134.42,87.04)\">\n      <g class=\"primitive\">\n        <text text-anchor=\"middle\" dy=\"0.6em\">100</text>\n      </g>\n    </g>\n  </g>\n  <g clip-path=\"url(#img-de7ac720-5)\">\n    <g id=\"img-de7ac720-6\">\n      <g pointer-events=\"visible\" stroke-width=\"0.3\" fill=\"#000000\" fill-opacity=\"0.000\" stroke=\"#000000\" stroke-opacity=\"0.000\" class=\"guide background\" id=\"img-de7ac720-7\">\n        <g transform=\"translate(77.68,45.52)\" id=\"img-de7ac720-8\">\n          <path d=\"M-58.74,-40.52 L58.74,-40.52 58.74,40.52 -58.74,40.52  z\" class=\"primitive\"/>\n        </g>\n      </g>\n      <g class=\"guide ygridlines xfixed\" stroke-dasharray=\"0.5,0.5\" stroke-width=\"0.2\" stroke=\"#D0D0E0\" id=\"img-de7ac720-9\">\n        <g transform=\"translate(77.68,84.04)\" id=\"img-de7ac720-10\">\n          <path fill=\"none\" d=\"M-58.74,0 L58.74,0 \" class=\"primitive\"/>\n        </g>\n        <g transform=\"translate(77.68,64.78)\" id=\"img-de7ac720-11\">\n          <path fill=\"none\" d=\"M-58.74,0 L58.74,0 \" class=\"primitive\"/>\n        </g>\n        <g transform=\"translate(77.68,45.52)\" id=\"img-de7ac720-12\">\n          <path fill=\"none\" d=\"M-58.74,0 L58.74,0 \" class=\"primitive\"/>\n        </g>\n        <g transform=\"translate(77.68,26.26)\" id=\"img-de7ac720-13\">\n          <path fill=\"none\" d=\"M-58.74,0 L58.74,0 \" class=\"primitive\"/>\n        </g>\n        <g transform=\"translate(77.68,7)\" id=\"img-de7ac720-14\">\n          <path fill=\"none\" d=\"M-58.74,0 L58.74,0 \" class=\"primitive\"/>\n        </g>\n      </g>\n      <g class=\"guide xgridlines yfixed\" stroke-dasharray=\"0.5,0.5\" stroke-width=\"0.2\" stroke=\"#D0D0E0\" id=\"img-de7ac720-15\">\n        <g transform=\"translate(20.94,45.52)\" id=\"img-de7ac720-16\">\n          <path fill=\"none\" d=\"M0,-40.52 L0,40.52 \" class=\"primitive\"/>\n        </g>\n        <g transform=\"translate(77.68,45.52)\" id=\"img-de7ac720-17\">\n          <path fill=\"none\" d=\"M0,-40.52 L0,40.52 \" class=\"primitive\"/>\n        </g>\n        <g transform=\"translate(134.42,45.52)\" id=\"img-de7ac720-18\">\n          <path fill=\"none\" d=\"M0,-40.52 L0,40.52 \" class=\"primitive\"/>\n        </g>\n      </g>\n      <g class=\"plotpanel\" id=\"img-de7ac720-19\">\n        <metadata>\n          <boundingbox value=\"18.936666666666667mm 5.0mm 117.48468957064284mm 81.04333333333335mm\"/>\n          <unitbox value=\"-1.762352267576169 205.19188335568728 103.52470453515235 -210.38376671137456\"/>\n        </metadata>\n        <g stroke-width=\"0.3\" fill=\"#000000\" fill-opacity=\"0.000\" class=\"geometry\" id=\"img-de7ac720-20\">\n          <g class=\"color_LCHab{Float32}(70.0f0,60.0f0,240.0f0)\" stroke-dasharray=\"none\" stroke-opacity=\"1\" stroke=\"#00BFFF\" id=\"img-de7ac720-21\">\n            <g transform=\"translate(77.68,50.48)\" id=\"img-de7ac720-22\">\n              <path fill=\"none\" d=\"M-56.74,31.64 L-55.61,31.18 -54.47,30.62 -53.34,29.94 -52.2,29.12 -51.07,28.14 -49.93,26.97 -48.8,25.61 -47.66,24.03 -46.53,22.24 -45.39,20.24 -44.26,18.06 -43.12,15.74 -41.99,13.35 -40.85,10.95 -39.72,8.61 -38.58,6.41 -37.45,4.41 -36.32,2.64 -35.18,1.11 -34.05,-0.17 -32.91,-1.21 -31.78,-2.06 -30.64,-2.73 -29.51,-3.25 -28.37,-3.66 -27.24,-3.98 -26.1,-4.21 -24.97,-4.4 -23.83,-4.54 -22.7,-4.64 -21.56,-4.72 -20.43,-4.78 -19.29,-4.82 -18.16,-4.86 -17.02,-4.88 -15.89,-4.9 -14.75,-4.92 -13.62,-4.93 -12.48,-4.93 -11.35,-4.94 -10.21,-4.95 -9.08,-4.95 -7.94,-4.95 -6.81,-4.95 -5.67,-4.95 -4.54,-4.96 -3.4,-4.96 -2.27,-4.96 -1.13,-4.96 0,-4.96 1.13,-4.96 2.27,-4.96 3.4,-4.96 4.54,-4.96 5.67,-4.96 6.81,-4.96 7.94,-4.96 9.08,-4.96 10.21,-4.96 11.35,-4.96 12.48,-4.96 13.62,-4.96 14.75,-4.96 15.89,-4.96 17.02,-4.96 18.16,-4.96 19.29,-4.96 20.43,-4.96 21.56,-4.96 22.7,-4.96 23.83,-4.96 24.97,-4.96 26.1,-4.96 27.24,-4.96 28.37,-4.96 29.51,-4.96 30.64,-4.96 31.78,-4.96 32.91,-4.96 34.05,-4.96 35.18,-4.96 36.32,-4.96 37.45,-4.96 38.58,-4.96 39.72,-4.96 40.85,-4.96 41.99,-4.96 43.12,-4.96 44.26,-4.96 45.39,-4.96 46.53,-4.96 47.66,-4.96 48.8,-4.96 49.93,-4.96 51.07,-4.96 52.2,-4.96 53.34,-4.96 54.47,-4.96 55.61,-4.96 56.74,-4.96 \" class=\"primitive\"/>\n            </g>\n          </g>\n        </g>\n      </g>\n    </g>\n  </g>\n  <g class=\"guide ylabels\" font-size=\"2.82\" font-family=\"'PT Sans Caption','Helvetica Neue','Helvetica',sans-serif\" fill=\"#6C606B\" id=\"img-de7ac720-23\">\n    <g transform=\"translate(17.94,84.04)\" id=\"img-de7ac720-24\">\n      <g class=\"primitive\">\n        <text text-anchor=\"end\" dy=\"0.35em\">0</text>\n      </g>\n    </g>\n    <g transform=\"translate(17.94,64.78)\" id=\"img-de7ac720-25\">\n      <g class=\"primitive\">\n        <text text-anchor=\"end\" dy=\"0.35em\">50</text>\n      </g>\n    </g>\n    <g transform=\"translate(17.94,45.52)\" id=\"img-de7ac720-26\">\n      <g class=\"primitive\">\n        <text text-anchor=\"end\" dy=\"0.35em\">100</text>\n      </g>\n    </g>\n    <g transform=\"translate(17.94,26.26)\" id=\"img-de7ac720-27\">\n      <g class=\"primitive\">\n        <text text-anchor=\"end\" dy=\"0.35em\">150</text>\n      </g>\n    </g>\n    <g transform=\"translate(17.94,7)\" id=\"img-de7ac720-28\">\n      <g class=\"primitive\">\n        <text text-anchor=\"end\" dy=\"0.35em\">200</text>\n      </g>\n    </g>\n  </g>\n  <g font-size=\"3.53\" font-family=\"'PT Sans','Helvetica Neue','Helvetica',sans-serif\" fill=\"#564A55\" stroke=\"#000000\" stroke-opacity=\"0.000\" id=\"img-de7ac720-29\">\n    <g transform=\"translate(9.92,45.52)\" id=\"img-de7ac720-30\">\n      <g class=\"primitive\">\n        <text text-anchor=\"end\" dy=\"0.35em\">W</text>\n      </g>\n    </g>\n  </g>\n</g>\n<defs>\n  <clipPath id=\"img-de7ac720-5\">\n    <path d=\"M18.94,5 L136.42,5 136.42,86.04 18.94,86.04 \" />\n  </clipPath>\n</defs>\n</svg>\n"
           },
           "type": "node"
          }
         ],
         "instanceArgs": {
          "handlers": {
           "obs-output": [
            "function (value, scope) {\n    scope.setInnerHTML(value);\n}\n"
           ]
          },
          "id": "3454255698376924923",
          "imports": {
           "data": [],
           "type": "async_block"
          },
          "mount_callbacks": [],
          "observables": {
           "obs-output": {
            "id": "6939835734060669203",
            "sync": false,
            "value": "<?xml version=\"1.0\" encoding=\"UTF-8\"?>\n<svg xmlns=\"http://www.w3.org/2000/svg\"\n     xmlns:xlink=\"http://www.w3.org/1999/xlink\"\n     xmlns:gadfly=\"http://www.gadflyjl.org/ns\"\n     version=\"1.2\"\n     width=\"141.42mm\" height=\"100mm\" viewBox=\"0 0 141.42 100\"\n     stroke=\"none\"\n     fill=\"#000000\"\n     stroke-width=\"0.3\"\n     font-size=\"3.88\"\n>\n<defs>\n  <marker id=\"arrow\" markerWidth=\"15\" markerHeight=\"7\" refX=\"5\" refY=\"3.5\" orient=\"auto\" markerUnits=\"strokeWidth\">\n    <path d=\"M0,0 L15,3.5 L0,7 z\" stroke=\"context-stroke\" fill=\"context-stroke\"/>\n  </marker>\n</defs>\n<g stroke=\"#000000\" stroke-opacity=\"0.000\" fill=\"#FFFFFF\" id=\"img-de7ac720-1\">\n  <g transform=\"translate(70.71,50)\">\n    <path d=\"M-70.71,-50 L70.71,-50 70.71,50 -70.71,50  z\" class=\"primitive\"/>\n  </g>\n</g>\n<g class=\"plotroot xscalable yscalable\" id=\"img-de7ac720-2\">\n  <g font-size=\"3.53\" font-family=\"'PT Sans','Helvetica Neue','Helvetica',sans-serif\" fill=\"#564A55\" stroke=\"#000000\" stroke-opacity=\"0.000\" id=\"img-de7ac720-3\">\n    <g transform=\"translate(77.68,93.72)\">\n      <g class=\"primitive\">\n        <text text-anchor=\"middle\" dy=\"0.6em\">t</text>\n      </g>\n    </g>\n  </g>\n  <g class=\"guide xlabels\" font-size=\"2.82\" font-family=\"'PT Sans Caption','Helvetica Neue','Helvetica',sans-serif\" fill=\"#6C606B\" id=\"img-de7ac720-4\">\n    <g transform=\"translate(20.94,87.04)\">\n      <g class=\"primitive\">\n        <text text-anchor=\"middle\" dy=\"0.6em\">0</text>\n      </g>\n    </g>\n    <g transform=\"translate(77.68,87.04)\">\n      <g class=\"primitive\">\n        <text text-anchor=\"middle\" dy=\"0.6em\">50</text>\n      </g>\n    </g>\n    <g transform=\"translate(134.42,87.04)\">\n      <g class=\"primitive\">\n        <text text-anchor=\"middle\" dy=\"0.6em\">100</text>\n      </g>\n    </g>\n  </g>\n  <g clip-path=\"url(#img-de7ac720-5)\">\n    <g id=\"img-de7ac720-6\">\n      <g pointer-events=\"visible\" stroke-width=\"0.3\" fill=\"#000000\" fill-opacity=\"0.000\" stroke=\"#000000\" stroke-opacity=\"0.000\" class=\"guide background\" id=\"img-de7ac720-7\">\n        <g transform=\"translate(77.68,45.52)\" id=\"img-de7ac720-8\">\n          <path d=\"M-58.74,-40.52 L58.74,-40.52 58.74,40.52 -58.74,40.52  z\" class=\"primitive\"/>\n        </g>\n      </g>\n      <g class=\"guide ygridlines xfixed\" stroke-dasharray=\"0.5,0.5\" stroke-width=\"0.2\" stroke=\"#D0D0E0\" id=\"img-de7ac720-9\">\n        <g transform=\"translate(77.68,84.04)\" id=\"img-de7ac720-10\">\n          <path fill=\"none\" d=\"M-58.74,0 L58.74,0 \" class=\"primitive\"/>\n        </g>\n        <g transform=\"translate(77.68,64.78)\" id=\"img-de7ac720-11\">\n          <path fill=\"none\" d=\"M-58.74,0 L58.74,0 \" class=\"primitive\"/>\n        </g>\n        <g transform=\"translate(77.68,45.52)\" id=\"img-de7ac720-12\">\n          <path fill=\"none\" d=\"M-58.74,0 L58.74,0 \" class=\"primitive\"/>\n        </g>\n        <g transform=\"translate(77.68,26.26)\" id=\"img-de7ac720-13\">\n          <path fill=\"none\" d=\"M-58.74,0 L58.74,0 \" class=\"primitive\"/>\n        </g>\n        <g transform=\"translate(77.68,7)\" id=\"img-de7ac720-14\">\n          <path fill=\"none\" d=\"M-58.74,0 L58.74,0 \" class=\"primitive\"/>\n        </g>\n      </g>\n      <g class=\"guide xgridlines yfixed\" stroke-dasharray=\"0.5,0.5\" stroke-width=\"0.2\" stroke=\"#D0D0E0\" id=\"img-de7ac720-15\">\n        <g transform=\"translate(20.94,45.52)\" id=\"img-de7ac720-16\">\n          <path fill=\"none\" d=\"M0,-40.52 L0,40.52 \" class=\"primitive\"/>\n        </g>\n        <g transform=\"translate(77.68,45.52)\" id=\"img-de7ac720-17\">\n          <path fill=\"none\" d=\"M0,-40.52 L0,40.52 \" class=\"primitive\"/>\n        </g>\n        <g transform=\"translate(134.42,45.52)\" id=\"img-de7ac720-18\">\n          <path fill=\"none\" d=\"M0,-40.52 L0,40.52 \" class=\"primitive\"/>\n        </g>\n      </g>\n      <g class=\"plotpanel\" id=\"img-de7ac720-19\">\n        <metadata>\n          <boundingbox value=\"18.936666666666667mm 5.0mm 117.48468957064284mm 81.04333333333335mm\"/>\n          <unitbox value=\"-1.762352267576169 205.19188335568728 103.52470453515235 -210.38376671137456\"/>\n        </metadata>\n        <g stroke-width=\"0.3\" fill=\"#000000\" fill-opacity=\"0.000\" class=\"geometry\" id=\"img-de7ac720-20\">\n          <g class=\"color_LCHab{Float32}(70.0f0,60.0f0,240.0f0)\" stroke-dasharray=\"none\" stroke-opacity=\"1\" stroke=\"#00BFFF\" id=\"img-de7ac720-21\">\n            <g transform=\"translate(77.68,50.48)\" id=\"img-de7ac720-22\">\n              <path fill=\"none\" d=\"M-56.74,31.64 L-55.61,31.18 -54.47,30.62 -53.34,29.94 -52.2,29.12 -51.07,28.14 -49.93,26.97 -48.8,25.61 -47.66,24.03 -46.53,22.24 -45.39,20.24 -44.26,18.06 -43.12,15.74 -41.99,13.35 -40.85,10.95 -39.72,8.61 -38.58,6.41 -37.45,4.41 -36.32,2.64 -35.18,1.11 -34.05,-0.17 -32.91,-1.21 -31.78,-2.06 -30.64,-2.73 -29.51,-3.25 -28.37,-3.66 -27.24,-3.98 -26.1,-4.21 -24.97,-4.4 -23.83,-4.54 -22.7,-4.64 -21.56,-4.72 -20.43,-4.78 -19.29,-4.82 -18.16,-4.86 -17.02,-4.88 -15.89,-4.9 -14.75,-4.92 -13.62,-4.93 -12.48,-4.93 -11.35,-4.94 -10.21,-4.95 -9.08,-4.95 -7.94,-4.95 -6.81,-4.95 -5.67,-4.95 -4.54,-4.96 -3.4,-4.96 -2.27,-4.96 -1.13,-4.96 0,-4.96 1.13,-4.96 2.27,-4.96 3.4,-4.96 4.54,-4.96 5.67,-4.96 6.81,-4.96 7.94,-4.96 9.08,-4.96 10.21,-4.96 11.35,-4.96 12.48,-4.96 13.62,-4.96 14.75,-4.96 15.89,-4.96 17.02,-4.96 18.16,-4.96 19.29,-4.96 20.43,-4.96 21.56,-4.96 22.7,-4.96 23.83,-4.96 24.97,-4.96 26.1,-4.96 27.24,-4.96 28.37,-4.96 29.51,-4.96 30.64,-4.96 31.78,-4.96 32.91,-4.96 34.05,-4.96 35.18,-4.96 36.32,-4.96 37.45,-4.96 38.58,-4.96 39.72,-4.96 40.85,-4.96 41.99,-4.96 43.12,-4.96 44.26,-4.96 45.39,-4.96 46.53,-4.96 47.66,-4.96 48.8,-4.96 49.93,-4.96 51.07,-4.96 52.2,-4.96 53.34,-4.96 54.47,-4.96 55.61,-4.96 56.74,-4.96 \" class=\"primitive\"/>\n            </g>\n          </g>\n        </g>\n      </g>\n    </g>\n  </g>\n  <g class=\"guide ylabels\" font-size=\"2.82\" font-family=\"'PT Sans Caption','Helvetica Neue','Helvetica',sans-serif\" fill=\"#6C606B\" id=\"img-de7ac720-23\">\n    <g transform=\"translate(17.94,84.04)\" id=\"img-de7ac720-24\">\n      <g class=\"primitive\">\n        <text text-anchor=\"end\" dy=\"0.35em\">0</text>\n      </g>\n    </g>\n    <g transform=\"translate(17.94,64.78)\" id=\"img-de7ac720-25\">\n      <g class=\"primitive\">\n        <text text-anchor=\"end\" dy=\"0.35em\">50</text>\n      </g>\n    </g>\n    <g transform=\"translate(17.94,45.52)\" id=\"img-de7ac720-26\">\n      <g class=\"primitive\">\n        <text text-anchor=\"end\" dy=\"0.35em\">100</text>\n      </g>\n    </g>\n    <g transform=\"translate(17.94,26.26)\" id=\"img-de7ac720-27\">\n      <g class=\"primitive\">\n        <text text-anchor=\"end\" dy=\"0.35em\">150</text>\n      </g>\n    </g>\n    <g transform=\"translate(17.94,7)\" id=\"img-de7ac720-28\">\n      <g class=\"primitive\">\n        <text text-anchor=\"end\" dy=\"0.35em\">200</text>\n      </g>\n    </g>\n  </g>\n  <g font-size=\"3.53\" font-family=\"'PT Sans','Helvetica Neue','Helvetica',sans-serif\" fill=\"#564A55\" stroke=\"#000000\" stroke-opacity=\"0.000\" id=\"img-de7ac720-29\">\n    <g transform=\"translate(9.92,45.52)\" id=\"img-de7ac720-30\">\n      <g class=\"primitive\">\n        <text text-anchor=\"end\" dy=\"0.35em\">W</text>\n      </g>\n    </g>\n  </g>\n</g>\n<defs>\n  <clipPath id=\"img-de7ac720-5\">\n    <path d=\"M18.94,5 L136.42,5 136.42,86.04 18.94,86.04 \" />\n  </clipPath>\n</defs>\n</svg>\n"
           }
          },
          "systemjs_options": null
         },
         "nodeType": "Scope",
         "props": {},
         "type": "node"
        }
       ],
       "instanceArgs": {
        "namespace": "html",
        "tag": "div"
       },
       "nodeType": "DOM",
       "props": {
        "style": {
         "display": "flex",
         "flex-direction": "column"
        }
       },
       "type": "node"
      },
      "text/html": [
       "<div\n",
       "    class=\"webio-mountpoint\"\n",
       "    data-webio-mountpoint=\"4792986511097160208\"\n",
       ">\n",
       "    <script>\n",
       "    (function(){\n",
       "    // Some integrations (namely, IJulia/Jupyter) use an alternate render pathway than\n",
       "    // just putting the html on the page. If WebIO isn't defined, then it's pretty likely\n",
       "    // that we're in one of those situations and the integration just isn't installed\n",
       "    // correctly.\n",
       "    if (typeof window.WebIO === \"undefined\") {\n",
       "        document\n",
       "            .querySelector('[data-webio-mountpoint=\"4792986511097160208\"]')\n",
       "            .innerHTML = (\n",
       "                '<div style=\"padding: 1em; background-color: #f8d6da; border: 1px solid #f5c6cb; font-weight: bold;\">' +\n",
       "                '<p><strong>WebIO not detected.</strong></p>' +\n",
       "                '<p>Please read ' +\n",
       "                '<a href=\"https://juliagizmos.github.io/WebIO.jl/latest/troubleshooting/not-detected/\" target=\"_blank\">the troubleshooting guide</a> ' +\n",
       "                'for more information on how to resolve this issue.</p>' +\n",
       "                '<p><a href=\"https://juliagizmos.github.io/WebIO.jl/latest/troubleshooting/not-detected/\" target=\"_blank\">https://juliagizmos.github.io/WebIO.jl/latest/troubleshooting/not-detected/</a></p>' +\n",
       "                '</div>'\n",
       "            );\n",
       "        return;\n",
       "    }\n",
       "    WebIO.mount(\n",
       "        document.querySelector('[data-webio-mountpoint=\"4792986511097160208\"]'),\n",
       "        {\"props\":{\"style\":{\"display\":\"flex\",\"flex-direction\":\"column\"}},\"nodeType\":\"DOM\",\"type\":\"node\",\"instanceArgs\":{\"namespace\":\"html\",\"tag\":\"div\"},\"children\":[{\"props\":{\"style\":{\"color\":\"rebeccapurple\",\"font-family\":\"monospace\"}},\"nodeType\":\"DOM\",\"type\":\"node\",\"instanceArgs\":{\"namespace\":\"html\",\"tag\":\"div\"},\"children\":[\"Logi\"]},{\"props\":{\"className\":\"field interact-widget\"},\"nodeType\":\"DOM\",\"type\":\"node\",\"instanceArgs\":{\"namespace\":\"html\",\"tag\":\"div\"},\"children\":[{\"props\":{},\"nodeType\":\"Scope\",\"type\":\"node\",\"instanceArgs\":{\"imports\":{\"data\":[{\"name\":\"knockout\",\"type\":\"js\",\"url\":\"\\/assetserver\\/d749de49a15576291e39755d819be2408bf7f995-knockout.js\"},{\"name\":\"knockout_punches\",\"type\":\"js\",\"url\":\"\\/assetserver\\/9f5c86158cf79faf331cfb32636cb08a9b1f0dc2-knockout_punches.js\"},{\"name\":null,\"type\":\"js\",\"url\":\"\\/assetserver\\/96a65e6078e018eef9bba5cd6ed02b2635164c53-all.js\"},{\"name\":null,\"type\":\"css\",\"url\":\"\\/assetserver\\/98c9b8e9cfeaa0be2a6f3aa79abc5da0680c3037-style.css\"},{\"name\":null,\"type\":\"css\",\"url\":\"\\/assetserver\\/c5a1211d10b2f10049d85486a98c5e9063cad849-bulma_confined.min.css\"}],\"type\":\"async_block\"},\"id\":\"13278503994798966176\",\"handlers\":{\"changes\":[\"(function (val){return (val!=this.model[\\\"changes\\\"]()) ? (this.valueFromJulia[\\\"changes\\\"]=true, this.model[\\\"changes\\\"](val)) : undefined})\"],\"index\":[\"(function (val){return (val!=this.model[\\\"index\\\"]()) ? (this.valueFromJulia[\\\"index\\\"]=true, this.model[\\\"index\\\"](val)) : undefined})\"]},\"systemjs_options\":null,\"mount_callbacks\":[\"function () {\\n    var handler = (function (ko, koPunches) {\\n    ko.punches.enableAll();\\n    ko.bindingHandlers.numericValue = {\\n        init: function(element, valueAccessor, allBindings, data, context) {\\n            var stringified = ko.observable(ko.unwrap(valueAccessor()));\\n            stringified.subscribe(function(value) {\\n                var val = parseFloat(value);\\n                if (!isNaN(val)) {\\n                    valueAccessor()(val);\\n                }\\n            });\\n            valueAccessor().subscribe(function(value) {\\n                var str = JSON.stringify(value);\\n                if ((str == \\\"0\\\") && ([\\\"-0\\\", \\\"-0.\\\"].indexOf(stringified()) >= 0))\\n                     return;\\n                 if ([\\\"null\\\", \\\"\\\"].indexOf(str) >= 0)\\n                     return;\\n                stringified(str);\\n            });\\n            ko.applyBindingsToNode(\\n                element,\\n                {\\n                    value: stringified,\\n                    valueUpdate: allBindings.get('valueUpdate'),\\n                },\\n                context,\\n            );\\n        }\\n    };\\n    var json_data = {\\\"formatted_vals\\\":[\\\"0.0\\\",\\\"0.01\\\",\\\"0.02\\\",\\\"0.03\\\",\\\"0.04\\\",\\\"0.05\\\",\\\"0.06\\\",\\\"0.07\\\",\\\"0.08\\\",\\\"0.09\\\",\\\"0.1\\\",\\\"0.11\\\",\\\"0.12\\\",\\\"0.13\\\",\\\"0.14\\\",\\\"0.15\\\",\\\"0.16\\\",\\\"0.17\\\",\\\"0.18\\\",\\\"0.19\\\",\\\"0.2\\\",\\\"0.21\\\",\\\"0.22\\\",\\\"0.23\\\",\\\"0.24\\\",\\\"0.25\\\",\\\"0.26\\\",\\\"0.27\\\",\\\"0.28\\\",\\\"0.29\\\",\\\"0.3\\\",\\\"0.31\\\",\\\"0.32\\\",\\\"0.33\\\",\\\"0.34\\\",\\\"0.35\\\",\\\"0.36\\\",\\\"0.37\\\",\\\"0.38\\\",\\\"0.39\\\",\\\"0.4\\\",\\\"0.41\\\",\\\"0.42\\\",\\\"0.43\\\",\\\"0.44\\\",\\\"0.45\\\",\\\"0.46\\\",\\\"0.47\\\",\\\"0.48\\\",\\\"0.49\\\",\\\"0.5\\\"],\\\"changes\\\":WebIO.getval({\\\"name\\\":\\\"changes\\\",\\\"scope\\\":\\\"13278503994798966176\\\",\\\"id\\\":\\\"2314725558663479098\\\",\\\"type\\\":\\\"observable\\\"}),\\\"index\\\":WebIO.getval({\\\"name\\\":\\\"index\\\",\\\"scope\\\":\\\"13278503994798966176\\\",\\\"id\\\":\\\"10612459828433716838\\\",\\\"type\\\":\\\"observable\\\"})};\\n    var self = this;\\n    function AppViewModel() {\\n        for (var key in json_data) {\\n            var el = json_data[key];\\n            this[key] = Array.isArray(el) ? ko.observableArray(el) : ko.observable(el);\\n        }\\n        \\n        [this[\\\"formatted_val\\\"]=ko.computed(    function(){\\n        return this.formatted_vals()[parseInt(this.index())-(1)];\\n    }\\n,this)]\\n        [this[\\\"changes\\\"].subscribe((function (val){!(this.valueFromJulia[\\\"changes\\\"]) ? (WebIO.setval({\\\"name\\\":\\\"changes\\\",\\\"scope\\\":\\\"13278503994798966176\\\",\\\"id\\\":\\\"2314725558663479098\\\",\\\"type\\\":\\\"observable\\\"},val)) : undefined; return this.valueFromJulia[\\\"changes\\\"]=false}),self),this[\\\"index\\\"].subscribe((function (val){!(this.valueFromJulia[\\\"index\\\"]) ? (WebIO.setval({\\\"name\\\":\\\"index\\\",\\\"scope\\\":\\\"13278503994798966176\\\",\\\"id\\\":\\\"10612459828433716838\\\",\\\"type\\\":\\\"observable\\\"},val)) : undefined; return this.valueFromJulia[\\\"index\\\"]=false}),self)]\\n        \\n    }\\n    self.model = new AppViewModel();\\n    self.valueFromJulia = {};\\n    for (var key in json_data) {\\n        self.valueFromJulia[key] = false;\\n    }\\n    ko.applyBindings(self.model, self.dom);\\n}\\n);\\n    (WebIO.importBlock({\\\"data\\\":[{\\\"name\\\":\\\"knockout\\\",\\\"type\\\":\\\"js\\\",\\\"url\\\":\\\"\\/assetserver\\/d749de49a15576291e39755d819be2408bf7f995-knockout.js\\\"},{\\\"name\\\":\\\"knockout_punches\\\",\\\"type\\\":\\\"js\\\",\\\"url\\\":\\\"\\/assetserver\\/9f5c86158cf79faf331cfb32636cb08a9b1f0dc2-knockout_punches.js\\\"}],\\\"type\\\":\\\"async_block\\\"})).then((imports) => handler.apply(this, imports));\\n}\\n\"],\"observables\":{\"changes\":{\"sync\":true,\"id\":\"2314725558663479098\",\"value\":0},\"index\":{\"sync\":true,\"id\":\"10612459828433716838\",\"value\":26}}},\"children\":[{\"props\":{\"className\":\"interact-flex-row interact-widget\",\"style\":{\"font-family\":\"monospace\",\"width\":\"80%\"}},\"nodeType\":\"DOM\",\"type\":\"node\",\"instanceArgs\":{\"namespace\":\"html\",\"tag\":\"div\"},\"children\":[{\"props\":{\"className\":\"interact-flex-row-left\"},\"nodeType\":\"DOM\",\"type\":\"node\",\"instanceArgs\":{\"namespace\":\"html\",\"tag\":\"div\"},\"children\":[{\"props\":{\"className\":\"interact \",\"style\":{\"padding\":\"5px 10px 0px 10px\",\"white-space\":\"nowrap\",\"color\":\"royalblue\"}},\"nodeType\":\"DOM\",\"type\":\"node\",\"instanceArgs\":{\"namespace\":\"html\",\"tag\":\"label\"},\"children\":[\"μ\"]}]},{\"props\":{\"className\":\"interact-flex-row-center\"},\"nodeType\":\"DOM\",\"type\":\"node\",\"instanceArgs\":{\"namespace\":\"html\",\"tag\":\"div\"},\"children\":[{\"props\":{\"max\":51,\"min\":1,\"attributes\":{\"type\":\"range\",\"data-bind\":\"numericValue: index, valueUpdate: 'input', event: {change: function (){this.changes(this.changes()+1)}}\",\"orient\":\"horizontal\"},\"step\":1,\"className\":\"slider slider is-fullwidth\",\"style\":{}},\"nodeType\":\"DOM\",\"type\":\"node\",\"instanceArgs\":{\"namespace\":\"html\",\"tag\":\"input\"},\"children\":[]}]},{\"props\":{\"className\":\"interact-flex-row-right\"},\"nodeType\":\"DOM\",\"type\":\"node\",\"instanceArgs\":{\"namespace\":\"html\",\"tag\":\"div\"},\"children\":[{\"props\":{\"attributes\":{\"data-bind\":\"text: formatted_val\"}},\"nodeType\":\"DOM\",\"type\":\"node\",\"instanceArgs\":{\"namespace\":\"html\",\"tag\":\"p\"},\"children\":[]}]}]}]}]},{\"props\":{\"className\":\"field interact-widget\"},\"nodeType\":\"DOM\",\"type\":\"node\",\"instanceArgs\":{\"namespace\":\"html\",\"tag\":\"div\"},\"children\":[{\"props\":{},\"nodeType\":\"Scope\",\"type\":\"node\",\"instanceArgs\":{\"imports\":{\"data\":[{\"name\":\"knockout\",\"type\":\"js\",\"url\":\"\\/assetserver\\/d749de49a15576291e39755d819be2408bf7f995-knockout.js\"},{\"name\":\"knockout_punches\",\"type\":\"js\",\"url\":\"\\/assetserver\\/9f5c86158cf79faf331cfb32636cb08a9b1f0dc2-knockout_punches.js\"},{\"name\":null,\"type\":\"js\",\"url\":\"\\/assetserver\\/96a65e6078e018eef9bba5cd6ed02b2635164c53-all.js\"},{\"name\":null,\"type\":\"css\",\"url\":\"\\/assetserver\\/98c9b8e9cfeaa0be2a6f3aa79abc5da0680c3037-style.css\"},{\"name\":null,\"type\":\"css\",\"url\":\"\\/assetserver\\/c5a1211d10b2f10049d85486a98c5e9063cad849-bulma_confined.min.css\"}],\"type\":\"async_block\"},\"id\":\"6909320385981904995\",\"handlers\":{\"changes\":[\"(function (val){return (val!=this.model[\\\"changes\\\"]()) ? (this.valueFromJulia[\\\"changes\\\"]=true, this.model[\\\"changes\\\"](val)) : undefined})\"],\"index\":[\"(function (val){return (val!=this.model[\\\"index\\\"]()) ? (this.valueFromJulia[\\\"index\\\"]=true, this.model[\\\"index\\\"](val)) : undefined})\"]},\"systemjs_options\":null,\"mount_callbacks\":[\"function () {\\n    var handler = (function (ko, koPunches) {\\n    ko.punches.enableAll();\\n    ko.bindingHandlers.numericValue = {\\n        init: function(element, valueAccessor, allBindings, data, context) {\\n            var stringified = ko.observable(ko.unwrap(valueAccessor()));\\n            stringified.subscribe(function(value) {\\n                var val = parseFloat(value);\\n                if (!isNaN(val)) {\\n                    valueAccessor()(val);\\n                }\\n            });\\n            valueAccessor().subscribe(function(value) {\\n                var str = JSON.stringify(value);\\n                if ((str == \\\"0\\\") && ([\\\"-0\\\", \\\"-0.\\\"].indexOf(stringified()) >= 0))\\n                     return;\\n                 if ([\\\"null\\\", \\\"\\\"].indexOf(str) >= 0)\\n                     return;\\n                stringified(str);\\n            });\\n            ko.applyBindingsToNode(\\n                element,\\n                {\\n                    value: stringified,\\n                    valueUpdate: allBindings.get('valueUpdate'),\\n                },\\n                context,\\n            );\\n        }\\n    };\\n    var json_data = {\\\"formatted_vals\\\":[\\\"0.0\\\",\\\"0.1\\\",\\\"0.2\\\",\\\"0.3\\\",\\\"0.4\\\",\\\"0.5\\\",\\\"0.6\\\",\\\"0.7\\\",\\\"0.8\\\",\\\"0.9\\\",\\\"1.0\\\",\\\"1.1\\\",\\\"1.2\\\",\\\"1.3\\\",\\\"1.4\\\",\\\"1.5\\\",\\\"1.6\\\",\\\"1.7\\\",\\\"1.8\\\",\\\"1.9\\\",\\\"2.0\\\",\\\"2.1\\\",\\\"2.2\\\",\\\"2.3\\\",\\\"2.4\\\",\\\"2.5\\\",\\\"2.6\\\",\\\"2.7\\\",\\\"2.8\\\",\\\"2.9\\\",\\\"3.0\\\",\\\"3.1\\\",\\\"3.2\\\",\\\"3.3\\\",\\\"3.4\\\",\\\"3.5\\\",\\\"3.6\\\",\\\"3.7\\\",\\\"3.8\\\",\\\"3.9\\\",\\\"4.0\\\",\\\"4.1\\\",\\\"4.2\\\",\\\"4.3\\\",\\\"4.4\\\",\\\"4.5\\\",\\\"4.6\\\",\\\"4.7\\\",\\\"4.8\\\",\\\"4.9\\\",\\\"5.0\\\",\\\"5.1\\\",\\\"5.2\\\",\\\"5.3\\\",\\\"5.4\\\",\\\"5.5\\\",\\\"5.6\\\",\\\"5.7\\\",\\\"5.8\\\",\\\"5.9\\\",\\\"6.0\\\",\\\"6.1\\\",\\\"6.2\\\",\\\"6.3\\\",\\\"6.4\\\",\\\"6.5\\\",\\\"6.6\\\",\\\"6.7\\\",\\\"6.8\\\",\\\"6.9\\\",\\\"7.0\\\",\\\"7.1\\\",\\\"7.2\\\",\\\"7.3\\\",\\\"7.4\\\",\\\"7.5\\\",\\\"7.6\\\",\\\"7.7\\\",\\\"7.8\\\",\\\"7.9\\\",\\\"8.0\\\",\\\"8.1\\\",\\\"8.2\\\",\\\"8.3\\\",\\\"8.4\\\",\\\"8.5\\\",\\\"8.6\\\",\\\"8.7\\\",\\\"8.8\\\",\\\"8.9\\\",\\\"9.0\\\",\\\"9.1\\\",\\\"9.2\\\",\\\"9.3\\\",\\\"9.4\\\",\\\"9.5\\\",\\\"9.6\\\",\\\"9.7\\\",\\\"9.8\\\",\\\"9.9\\\",\\\"10.0\\\"],\\\"changes\\\":WebIO.getval({\\\"name\\\":\\\"changes\\\",\\\"scope\\\":\\\"6909320385981904995\\\",\\\"id\\\":\\\"10944228928166335628\\\",\\\"type\\\":\\\"observable\\\"}),\\\"index\\\":WebIO.getval({\\\"name\\\":\\\"index\\\",\\\"scope\\\":\\\"6909320385981904995\\\",\\\"id\\\":\\\"14489644198381242378\\\",\\\"type\\\":\\\"observable\\\"})};\\n    var self = this;\\n    function AppViewModel() {\\n        for (var key in json_data) {\\n            var el = json_data[key];\\n            this[key] = Array.isArray(el) ? ko.observableArray(el) : ko.observable(el);\\n        }\\n        \\n        [this[\\\"formatted_val\\\"]=ko.computed(    function(){\\n        return this.formatted_vals()[parseInt(this.index())-(1)];\\n    }\\n,this)]\\n        [this[\\\"changes\\\"].subscribe((function (val){!(this.valueFromJulia[\\\"changes\\\"]) ? (WebIO.setval({\\\"name\\\":\\\"changes\\\",\\\"scope\\\":\\\"6909320385981904995\\\",\\\"id\\\":\\\"10944228928166335628\\\",\\\"type\\\":\\\"observable\\\"},val)) : undefined; return this.valueFromJulia[\\\"changes\\\"]=false}),self),this[\\\"index\\\"].subscribe((function (val){!(this.valueFromJulia[\\\"index\\\"]) ? (WebIO.setval({\\\"name\\\":\\\"index\\\",\\\"scope\\\":\\\"6909320385981904995\\\",\\\"id\\\":\\\"14489644198381242378\\\",\\\"type\\\":\\\"observable\\\"},val)) : undefined; return this.valueFromJulia[\\\"index\\\"]=false}),self)]\\n        \\n    }\\n    self.model = new AppViewModel();\\n    self.valueFromJulia = {};\\n    for (var key in json_data) {\\n        self.valueFromJulia[key] = false;\\n    }\\n    ko.applyBindings(self.model, self.dom);\\n}\\n);\\n    (WebIO.importBlock({\\\"data\\\":[{\\\"name\\\":\\\"knockout\\\",\\\"type\\\":\\\"js\\\",\\\"url\\\":\\\"\\/assetserver\\/d749de49a15576291e39755d819be2408bf7f995-knockout.js\\\"},{\\\"name\\\":\\\"knockout_punches\\\",\\\"type\\\":\\\"js\\\",\\\"url\\\":\\\"\\/assetserver\\/9f5c86158cf79faf331cfb32636cb08a9b1f0dc2-knockout_punches.js\\\"}],\\\"type\\\":\\\"async_block\\\"})).then((imports) => handler.apply(this, imports));\\n}\\n\"],\"observables\":{\"changes\":{\"sync\":true,\"id\":\"10944228928166335628\",\"value\":0},\"index\":{\"sync\":true,\"id\":\"14489644198381242378\",\"value\":51}}},\"children\":[{\"props\":{\"className\":\"interact-flex-row interact-widget\",\"style\":{\"font-family\":\"monospace\",\"width\":\"80%\"}},\"nodeType\":\"DOM\",\"type\":\"node\",\"instanceArgs\":{\"namespace\":\"html\",\"tag\":\"div\"},\"children\":[{\"props\":{\"className\":\"interact-flex-row-left\"},\"nodeType\":\"DOM\",\"type\":\"node\",\"instanceArgs\":{\"namespace\":\"html\",\"tag\":\"div\"},\"children\":[{\"props\":{\"className\":\"interact \",\"style\":{\"padding\":\"5px 10px 0px 10px\",\"white-space\":\"nowrap\",\"color\":\"royalblue\"}},\"nodeType\":\"DOM\",\"type\":\"node\",\"instanceArgs\":{\"namespace\":\"html\",\"tag\":\"label\"},\"children\":[\"W0\"]}]},{\"props\":{\"className\":\"interact-flex-row-center\"},\"nodeType\":\"DOM\",\"type\":\"node\",\"instanceArgs\":{\"namespace\":\"html\",\"tag\":\"div\"},\"children\":[{\"props\":{\"max\":101,\"min\":1,\"attributes\":{\"type\":\"range\",\"data-bind\":\"numericValue: index, valueUpdate: 'input', event: {change: function (){this.changes(this.changes()+1)}}\",\"orient\":\"horizontal\"},\"step\":1,\"className\":\"slider slider is-fullwidth\",\"style\":{}},\"nodeType\":\"DOM\",\"type\":\"node\",\"instanceArgs\":{\"namespace\":\"html\",\"tag\":\"input\"},\"children\":[]}]},{\"props\":{\"className\":\"interact-flex-row-right\"},\"nodeType\":\"DOM\",\"type\":\"node\",\"instanceArgs\":{\"namespace\":\"html\",\"tag\":\"div\"},\"children\":[{\"props\":{\"attributes\":{\"data-bind\":\"text: formatted_val\"}},\"nodeType\":\"DOM\",\"type\":\"node\",\"instanceArgs\":{\"namespace\":\"html\",\"tag\":\"p\"},\"children\":[]}]}]}]}]},{\"props\":{\"className\":\"field interact-widget\"},\"nodeType\":\"DOM\",\"type\":\"node\",\"instanceArgs\":{\"namespace\":\"html\",\"tag\":\"div\"},\"children\":[{\"props\":{},\"nodeType\":\"Scope\",\"type\":\"node\",\"instanceArgs\":{\"imports\":{\"data\":[{\"name\":\"knockout\",\"type\":\"js\",\"url\":\"\\/assetserver\\/d749de49a15576291e39755d819be2408bf7f995-knockout.js\"},{\"name\":\"knockout_punches\",\"type\":\"js\",\"url\":\"\\/assetserver\\/9f5c86158cf79faf331cfb32636cb08a9b1f0dc2-knockout_punches.js\"},{\"name\":null,\"type\":\"js\",\"url\":\"\\/assetserver\\/96a65e6078e018eef9bba5cd6ed02b2635164c53-all.js\"},{\"name\":null,\"type\":\"css\",\"url\":\"\\/assetserver\\/98c9b8e9cfeaa0be2a6f3aa79abc5da0680c3037-style.css\"},{\"name\":null,\"type\":\"css\",\"url\":\"\\/assetserver\\/c5a1211d10b2f10049d85486a98c5e9063cad849-bulma_confined.min.css\"}],\"type\":\"async_block\"},\"id\":\"7909979115658618519\",\"handlers\":{\"changes\":[\"(function (val){return (val!=this.model[\\\"changes\\\"]()) ? (this.valueFromJulia[\\\"changes\\\"]=true, this.model[\\\"changes\\\"](val)) : undefined})\"],\"index\":[\"(function (val){return (val!=this.model[\\\"index\\\"]()) ? (this.valueFromJulia[\\\"index\\\"]=true, this.model[\\\"index\\\"](val)) : undefined})\"]},\"systemjs_options\":null,\"mount_callbacks\":[\"function () {\\n    var handler = (function (ko, koPunches) {\\n    ko.punches.enableAll();\\n    ko.bindingHandlers.numericValue = {\\n        init: function(element, valueAccessor, allBindings, data, context) {\\n            var stringified = ko.observable(ko.unwrap(valueAccessor()));\\n            stringified.subscribe(function(value) {\\n                var val = parseFloat(value);\\n                if (!isNaN(val)) {\\n                    valueAccessor()(val);\\n                }\\n            });\\n            valueAccessor().subscribe(function(value) {\\n                var str = JSON.stringify(value);\\n                if ((str == \\\"0\\\") && ([\\\"-0\\\", \\\"-0.\\\"].indexOf(stringified()) >= 0))\\n                     return;\\n                 if ([\\\"null\\\", \\\"\\\"].indexOf(str) >= 0)\\n                     return;\\n                stringified(str);\\n            });\\n            ko.applyBindingsToNode(\\n                element,\\n                {\\n                    value: stringified,\\n                    valueUpdate: allBindings.get('valueUpdate'),\\n                },\\n                context,\\n            );\\n        }\\n    };\\n    var json_data = {\\\"formatted_vals\\\":[\\\"10\\\",\\\"20\\\",\\\"30\\\",\\\"40\\\",\\\"50\\\",\\\"60\\\",\\\"70\\\",\\\"80\\\",\\\"90\\\",\\\"100\\\",\\\"110\\\",\\\"120\\\",\\\"130\\\",\\\"140\\\",\\\"150\\\",\\\"160\\\",\\\"170\\\",\\\"180\\\",\\\"190\\\",\\\"200\\\"],\\\"changes\\\":WebIO.getval({\\\"name\\\":\\\"changes\\\",\\\"scope\\\":\\\"7909979115658618519\\\",\\\"id\\\":\\\"7878447014194851764\\\",\\\"type\\\":\\\"observable\\\"}),\\\"index\\\":WebIO.getval({\\\"name\\\":\\\"index\\\",\\\"scope\\\":\\\"7909979115658618519\\\",\\\"id\\\":\\\"15594052581162785255\\\",\\\"type\\\":\\\"observable\\\"})};\\n    var self = this;\\n    function AppViewModel() {\\n        for (var key in json_data) {\\n            var el = json_data[key];\\n            this[key] = Array.isArray(el) ? ko.observableArray(el) : ko.observable(el);\\n        }\\n        \\n        [this[\\\"formatted_val\\\"]=ko.computed(    function(){\\n        return this.formatted_vals()[parseInt(this.index())-(1)];\\n    }\\n,this)]\\n        [this[\\\"changes\\\"].subscribe((function (val){!(this.valueFromJulia[\\\"changes\\\"]) ? (WebIO.setval({\\\"name\\\":\\\"changes\\\",\\\"scope\\\":\\\"7909979115658618519\\\",\\\"id\\\":\\\"7878447014194851764\\\",\\\"type\\\":\\\"observable\\\"},val)) : undefined; return this.valueFromJulia[\\\"changes\\\"]=false}),self),this[\\\"index\\\"].subscribe((function (val){!(this.valueFromJulia[\\\"index\\\"]) ? (WebIO.setval({\\\"name\\\":\\\"index\\\",\\\"scope\\\":\\\"7909979115658618519\\\",\\\"id\\\":\\\"15594052581162785255\\\",\\\"type\\\":\\\"observable\\\"},val)) : undefined; return this.valueFromJulia[\\\"index\\\"]=false}),self)]\\n        \\n    }\\n    self.model = new AppViewModel();\\n    self.valueFromJulia = {};\\n    for (var key in json_data) {\\n        self.valueFromJulia[key] = false;\\n    }\\n    ko.applyBindings(self.model, self.dom);\\n}\\n);\\n    (WebIO.importBlock({\\\"data\\\":[{\\\"name\\\":\\\"knockout\\\",\\\"type\\\":\\\"js\\\",\\\"url\\\":\\\"\\/assetserver\\/d749de49a15576291e39755d819be2408bf7f995-knockout.js\\\"},{\\\"name\\\":\\\"knockout_punches\\\",\\\"type\\\":\\\"js\\\",\\\"url\\\":\\\"\\/assetserver\\/9f5c86158cf79faf331cfb32636cb08a9b1f0dc2-knockout_punches.js\\\"}],\\\"type\\\":\\\"async_block\\\"})).then((imports) => handler.apply(this, imports));\\n}\\n\"],\"observables\":{\"changes\":{\"sync\":true,\"id\":\"7878447014194851764\",\"value\":0},\"index\":{\"sync\":true,\"id\":\"15594052581162785255\",\"value\":10}}},\"children\":[{\"props\":{\"className\":\"interact-flex-row interact-widget\",\"style\":{\"font-family\":\"monospace\",\"width\":\"80%\"}},\"nodeType\":\"DOM\",\"type\":\"node\",\"instanceArgs\":{\"namespace\":\"html\",\"tag\":\"div\"},\"children\":[{\"props\":{\"className\":\"interact-flex-row-left\"},\"nodeType\":\"DOM\",\"type\":\"node\",\"instanceArgs\":{\"namespace\":\"html\",\"tag\":\"div\"},\"children\":[{\"props\":{\"className\":\"interact \",\"style\":{\"padding\":\"5px 10px 0px 10px\",\"white-space\":\"nowrap\",\"color\":\"royalblue\"}},\"nodeType\":\"DOM\",\"type\":\"node\",\"instanceArgs\":{\"namespace\":\"html\",\"tag\":\"label\"},\"children\":[\"Wf\"]}]},{\"props\":{\"className\":\"interact-flex-row-center\"},\"nodeType\":\"DOM\",\"type\":\"node\",\"instanceArgs\":{\"namespace\":\"html\",\"tag\":\"div\"},\"children\":[{\"props\":{\"max\":20,\"min\":1,\"attributes\":{\"type\":\"range\",\"data-bind\":\"numericValue: index, valueUpdate: 'input', event: {change: function (){this.changes(this.changes()+1)}}\",\"orient\":\"horizontal\"},\"step\":1,\"className\":\"slider slider is-fullwidth\",\"style\":{}},\"nodeType\":\"DOM\",\"type\":\"node\",\"instanceArgs\":{\"namespace\":\"html\",\"tag\":\"input\"},\"children\":[]}]},{\"props\":{\"className\":\"interact-flex-row-right\"},\"nodeType\":\"DOM\",\"type\":\"node\",\"instanceArgs\":{\"namespace\":\"html\",\"tag\":\"div\"},\"children\":[{\"props\":{\"attributes\":{\"data-bind\":\"text: formatted_val\"}},\"nodeType\":\"DOM\",\"type\":\"node\",\"instanceArgs\":{\"namespace\":\"html\",\"tag\":\"p\"},\"children\":[]}]}]}]}]},{\"props\":{},\"nodeType\":\"Scope\",\"type\":\"node\",\"instanceArgs\":{\"imports\":{\"data\":[],\"type\":\"async_block\"},\"id\":\"9466143812358291460\",\"handlers\":{\"obs-output\":[\"function (value, scope) {\\n    scope.setInnerHTML(value);\\n}\\n\"]},\"systemjs_options\":null,\"mount_callbacks\":[],\"observables\":{\"obs-output\":{\"sync\":false,\"id\":\"17537106762402628346\",\"value\":\"<?xml version=\\\"1.0\\\" encoding=\\\"UTF-8\\\"?>\\n<svg xmlns=\\\"http:\\/\\/www.w3.org\\/2000\\/svg\\\"\\n     xmlns:xlink=\\\"http:\\/\\/www.w3.org\\/1999\\/xlink\\\"\\n     xmlns:gadfly=\\\"http:\\/\\/www.gadflyjl.org\\/ns\\\"\\n     version=\\\"1.2\\\"\\n     width=\\\"141.42mm\\\" height=\\\"100mm\\\" viewBox=\\\"0 0 141.42 100\\\"\\n     stroke=\\\"none\\\"\\n     fill=\\\"#000000\\\"\\n     stroke-width=\\\"0.3\\\"\\n     font-size=\\\"3.88\\\"\\n>\\n<defs>\\n  <marker id=\\\"arrow\\\" markerWidth=\\\"15\\\" markerHeight=\\\"7\\\" refX=\\\"5\\\" refY=\\\"3.5\\\" orient=\\\"auto\\\" markerUnits=\\\"strokeWidth\\\">\\n    <path d=\\\"M0,0 L15,3.5 L0,7 z\\\" stroke=\\\"context-stroke\\\" fill=\\\"context-stroke\\\"\\/>\\n  <\\/marker>\\n<\\/defs>\\n<g stroke=\\\"#000000\\\" stroke-opacity=\\\"0.000\\\" fill=\\\"#FFFFFF\\\" id=\\\"img-f9820eda-1\\\">\\n  <g transform=\\\"translate(70.71,50)\\\">\\n    <path d=\\\"M-70.71,-50 L70.71,-50 70.71,50 -70.71,50  z\\\" class=\\\"primitive\\\"\\/>\\n  <\\/g>\\n<\\/g>\\n<g class=\\\"plotroot xscalable yscalable\\\" id=\\\"img-f9820eda-2\\\">\\n  <g font-size=\\\"3.53\\\" font-family=\\\"'PT Sans','Helvetica Neue','Helvetica',sans-serif\\\" fill=\\\"#564A55\\\" stroke=\\\"#000000\\\" stroke-opacity=\\\"0.000\\\" id=\\\"img-f9820eda-3\\\">\\n    <g transform=\\\"translate(77.68,93.72)\\\">\\n      <g class=\\\"primitive\\\">\\n        <text text-anchor=\\\"middle\\\" dy=\\\"0.6em\\\">t<\\/text>\\n      <\\/g>\\n    <\\/g>\\n  <\\/g>\\n  <g class=\\\"guide xlabels\\\" font-size=\\\"2.82\\\" font-family=\\\"'PT Sans Caption','Helvetica Neue','Helvetica',sans-serif\\\" fill=\\\"#6C606B\\\" id=\\\"img-f9820eda-4\\\">\\n    <g transform=\\\"translate(20.94,87.04)\\\">\\n      <g class=\\\"primitive\\\">\\n        <text text-anchor=\\\"middle\\\" dy=\\\"0.6em\\\">0<\\/text>\\n      <\\/g>\\n    <\\/g>\\n    <g transform=\\\"translate(77.68,87.04)\\\">\\n      <g class=\\\"primitive\\\">\\n        <text text-anchor=\\\"middle\\\" dy=\\\"0.6em\\\">50<\\/text>\\n      <\\/g>\\n    <\\/g>\\n    <g transform=\\\"translate(134.42,87.04)\\\">\\n      <g class=\\\"primitive\\\">\\n        <text text-anchor=\\\"middle\\\" dy=\\\"0.6em\\\">100<\\/text>\\n      <\\/g>\\n    <\\/g>\\n  <\\/g>\\n  <g clip-path=\\\"url(#img-f9820eda-5)\\\">\\n    <g id=\\\"img-f9820eda-6\\\">\\n      <g pointer-events=\\\"visible\\\" stroke-width=\\\"0.3\\\" fill=\\\"#000000\\\" fill-opacity=\\\"0.000\\\" stroke=\\\"#000000\\\" stroke-opacity=\\\"0.000\\\" class=\\\"guide background\\\" id=\\\"img-f9820eda-7\\\">\\n        <g transform=\\\"translate(77.68,45.52)\\\" id=\\\"img-f9820eda-8\\\">\\n          <path d=\\\"M-58.74,-40.52 L58.74,-40.52 58.74,40.52 -58.74,40.52  z\\\" class=\\\"primitive\\\"\\/>\\n        <\\/g>\\n      <\\/g>\\n      <g class=\\\"guide ygridlines xfixed\\\" stroke-dasharray=\\\"0.5,0.5\\\" stroke-width=\\\"0.2\\\" stroke=\\\"#D0D0E0\\\" id=\\\"img-f9820eda-9\\\">\\n        <g transform=\\\"translate(77.68,84.04)\\\" id=\\\"img-f9820eda-10\\\">\\n          <path fill=\\\"none\\\" d=\\\"M-58.74,0 L58.74,0 \\\" class=\\\"primitive\\\"\\/>\\n        <\\/g>\\n        <g transform=\\\"translate(77.68,64.78)\\\" id=\\\"img-f9820eda-11\\\">\\n          <path fill=\\\"none\\\" d=\\\"M-58.74,0 L58.74,0 \\\" class=\\\"primitive\\\"\\/>\\n        <\\/g>\\n        <g transform=\\\"translate(77.68,45.52)\\\" id=\\\"img-f9820eda-12\\\">\\n          <path fill=\\\"none\\\" d=\\\"M-58.74,0 L58.74,0 \\\" class=\\\"primitive\\\"\\/>\\n        <\\/g>\\n        <g transform=\\\"translate(77.68,26.26)\\\" id=\\\"img-f9820eda-13\\\">\\n          <path fill=\\\"none\\\" d=\\\"M-58.74,0 L58.74,0 \\\" class=\\\"primitive\\\"\\/>\\n        <\\/g>\\n        <g transform=\\\"translate(77.68,7)\\\" id=\\\"img-f9820eda-14\\\">\\n          <path fill=\\\"none\\\" d=\\\"M-58.74,0 L58.74,0 \\\" class=\\\"primitive\\\"\\/>\\n        <\\/g>\\n      <\\/g>\\n      <g class=\\\"guide xgridlines yfixed\\\" stroke-dasharray=\\\"0.5,0.5\\\" stroke-width=\\\"0.2\\\" stroke=\\\"#D0D0E0\\\" id=\\\"img-f9820eda-15\\\">\\n        <g transform=\\\"translate(20.94,45.52)\\\" id=\\\"img-f9820eda-16\\\">\\n          <path fill=\\\"none\\\" d=\\\"M0,-40.52 L0,40.52 \\\" class=\\\"primitive\\\"\\/>\\n        <\\/g>\\n        <g transform=\\\"translate(77.68,45.52)\\\" id=\\\"img-f9820eda-17\\\">\\n          <path fill=\\\"none\\\" d=\\\"M0,-40.52 L0,40.52 \\\" class=\\\"primitive\\\"\\/>\\n        <\\/g>\\n        <g transform=\\\"translate(134.42,45.52)\\\" id=\\\"img-f9820eda-18\\\">\\n          <path fill=\\\"none\\\" d=\\\"M0,-40.52 L0,40.52 \\\" class=\\\"primitive\\\"\\/>\\n        <\\/g>\\n      <\\/g>\\n      <g class=\\\"plotpanel\\\" id=\\\"img-f9820eda-19\\\">\\n        <metadata>\\n          <boundingbox value=\\\"18.936666666666667mm 5.0mm 117.48468957064284mm 81.04333333333335mm\\\"\\/>\\n          <unitbox value=\\\"-1.762352267576169 205.19188335568728 103.52470453515235 -210.38376671137456\\\"\\/>\\n        <\\/metadata>\\n        <g stroke-width=\\\"0.3\\\" fill=\\\"#000000\\\" fill-opacity=\\\"0.000\\\" class=\\\"geometry\\\" id=\\\"img-f9820eda-20\\\">\\n          <g class=\\\"color_LCHab{Float32}(70.0f0,60.0f0,240.0f0)\\\" stroke-dasharray=\\\"none\\\" stroke-opacity=\\\"1\\\" stroke=\\\"#00BFFF\\\" id=\\\"img-f9820eda-21\\\">\\n            <g transform=\\\"translate(77.68,50.48)\\\" id=\\\"img-f9820eda-22\\\">\\n              <path fill=\\\"none\\\" d=\\\"M-56.74,31.64 L-55.61,31.18 -54.47,30.62 -53.34,29.94 -52.2,29.12 -51.07,28.14 -49.93,26.97 -48.8,25.61 -47.66,24.03 -46.53,22.24 -45.39,20.24 -44.26,18.06 -43.12,15.74 -41.99,13.35 -40.85,10.95 -39.72,8.61 -38.58,6.41 -37.45,4.41 -36.32,2.64 -35.18,1.11 -34.05,-0.17 -32.91,-1.21 -31.78,-2.06 -30.64,-2.73 -29.51,-3.25 -28.37,-3.66 -27.24,-3.98 -26.1,-4.21 -24.97,-4.4 -23.83,-4.54 -22.7,-4.64 -21.56,-4.72 -20.43,-4.78 -19.29,-4.82 -18.16,-4.86 -17.02,-4.88 -15.89,-4.9 -14.75,-4.92 -13.62,-4.93 -12.48,-4.93 -11.35,-4.94 -10.21,-4.95 -9.08,-4.95 -7.94,-4.95 -6.81,-4.95 -5.67,-4.95 -4.54,-4.96 -3.4,-4.96 -2.27,-4.96 -1.13,-4.96 0,-4.96 1.13,-4.96 2.27,-4.96 3.4,-4.96 4.54,-4.96 5.67,-4.96 6.81,-4.96 7.94,-4.96 9.08,-4.96 10.21,-4.96 11.35,-4.96 12.48,-4.96 13.62,-4.96 14.75,-4.96 15.89,-4.96 17.02,-4.96 18.16,-4.96 19.29,-4.96 20.43,-4.96 21.56,-4.96 22.7,-4.96 23.83,-4.96 24.97,-4.96 26.1,-4.96 27.24,-4.96 28.37,-4.96 29.51,-4.96 30.64,-4.96 31.78,-4.96 32.91,-4.96 34.05,-4.96 35.18,-4.96 36.32,-4.96 37.45,-4.96 38.58,-4.96 39.72,-4.96 40.85,-4.96 41.99,-4.96 43.12,-4.96 44.26,-4.96 45.39,-4.96 46.53,-4.96 47.66,-4.96 48.8,-4.96 49.93,-4.96 51.07,-4.96 52.2,-4.96 53.34,-4.96 54.47,-4.96 55.61,-4.96 56.74,-4.96 \\\" class=\\\"primitive\\\"\\/>\\n            <\\/g>\\n          <\\/g>\\n        <\\/g>\\n      <\\/g>\\n    <\\/g>\\n  <\\/g>\\n  <g class=\\\"guide ylabels\\\" font-size=\\\"2.82\\\" font-family=\\\"'PT Sans Caption','Helvetica Neue','Helvetica',sans-serif\\\" fill=\\\"#6C606B\\\" id=\\\"img-f9820eda-23\\\">\\n    <g transform=\\\"translate(17.94,84.04)\\\" id=\\\"img-f9820eda-24\\\">\\n      <g class=\\\"primitive\\\">\\n        <text text-anchor=\\\"end\\\" dy=\\\"0.35em\\\">0<\\/text>\\n      <\\/g>\\n    <\\/g>\\n    <g transform=\\\"translate(17.94,64.78)\\\" id=\\\"img-f9820eda-25\\\">\\n      <g class=\\\"primitive\\\">\\n        <text text-anchor=\\\"end\\\" dy=\\\"0.35em\\\">50<\\/text>\\n      <\\/g>\\n    <\\/g>\\n    <g transform=\\\"translate(17.94,45.52)\\\" id=\\\"img-f9820eda-26\\\">\\n      <g class=\\\"primitive\\\">\\n        <text text-anchor=\\\"end\\\" dy=\\\"0.35em\\\">100<\\/text>\\n      <\\/g>\\n    <\\/g>\\n    <g transform=\\\"translate(17.94,26.26)\\\" id=\\\"img-f9820eda-27\\\">\\n      <g class=\\\"primitive\\\">\\n        <text text-anchor=\\\"end\\\" dy=\\\"0.35em\\\">150<\\/text>\\n      <\\/g>\\n    <\\/g>\\n    <g transform=\\\"translate(17.94,7)\\\" id=\\\"img-f9820eda-28\\\">\\n      <g class=\\\"primitive\\\">\\n        <text text-anchor=\\\"end\\\" dy=\\\"0.35em\\\">200<\\/text>\\n      <\\/g>\\n    <\\/g>\\n  <\\/g>\\n  <g font-size=\\\"3.53\\\" font-family=\\\"'PT Sans','Helvetica Neue','Helvetica',sans-serif\\\" fill=\\\"#564A55\\\" stroke=\\\"#000000\\\" stroke-opacity=\\\"0.000\\\" id=\\\"img-f9820eda-29\\\">\\n    <g transform=\\\"translate(9.92,45.52)\\\" id=\\\"img-f9820eda-30\\\">\\n      <g class=\\\"primitive\\\">\\n        <text text-anchor=\\\"end\\\" dy=\\\"0.35em\\\">W<\\/text>\\n      <\\/g>\\n    <\\/g>\\n  <\\/g>\\n<\\/g>\\n<defs>\\n  <clipPath id=\\\"img-f9820eda-5\\\">\\n    <path d=\\\"M18.94,5 L136.42,5 136.42,86.04 18.94,86.04 \\\" \\/>\\n  <\\/clipPath>\\n<\\/defs>\\n<\\/svg>\\n\"}}},\"children\":[{\"props\":{\"className\":\"webio-observable\",\"setInnerHtml\":\"<?xml version=\\\"1.0\\\" encoding=\\\"UTF-8\\\"?>\\n<svg xmlns=\\\"http:\\/\\/www.w3.org\\/2000\\/svg\\\"\\n     xmlns:xlink=\\\"http:\\/\\/www.w3.org\\/1999\\/xlink\\\"\\n     xmlns:gadfly=\\\"http:\\/\\/www.gadflyjl.org\\/ns\\\"\\n     version=\\\"1.2\\\"\\n     width=\\\"141.42mm\\\" height=\\\"100mm\\\" viewBox=\\\"0 0 141.42 100\\\"\\n     stroke=\\\"none\\\"\\n     fill=\\\"#000000\\\"\\n     stroke-width=\\\"0.3\\\"\\n     font-size=\\\"3.88\\\"\\n>\\n<defs>\\n  <marker id=\\\"arrow\\\" markerWidth=\\\"15\\\" markerHeight=\\\"7\\\" refX=\\\"5\\\" refY=\\\"3.5\\\" orient=\\\"auto\\\" markerUnits=\\\"strokeWidth\\\">\\n    <path d=\\\"M0,0 L15,3.5 L0,7 z\\\" stroke=\\\"context-stroke\\\" fill=\\\"context-stroke\\\"\\/>\\n  <\\/marker>\\n<\\/defs>\\n<g stroke=\\\"#000000\\\" stroke-opacity=\\\"0.000\\\" fill=\\\"#FFFFFF\\\" id=\\\"img-f9820eda-1\\\">\\n  <g transform=\\\"translate(70.71,50)\\\">\\n    <path d=\\\"M-70.71,-50 L70.71,-50 70.71,50 -70.71,50  z\\\" class=\\\"primitive\\\"\\/>\\n  <\\/g>\\n<\\/g>\\n<g class=\\\"plotroot xscalable yscalable\\\" id=\\\"img-f9820eda-2\\\">\\n  <g font-size=\\\"3.53\\\" font-family=\\\"'PT Sans','Helvetica Neue','Helvetica',sans-serif\\\" fill=\\\"#564A55\\\" stroke=\\\"#000000\\\" stroke-opacity=\\\"0.000\\\" id=\\\"img-f9820eda-3\\\">\\n    <g transform=\\\"translate(77.68,93.72)\\\">\\n      <g class=\\\"primitive\\\">\\n        <text text-anchor=\\\"middle\\\" dy=\\\"0.6em\\\">t<\\/text>\\n      <\\/g>\\n    <\\/g>\\n  <\\/g>\\n  <g class=\\\"guide xlabels\\\" font-size=\\\"2.82\\\" font-family=\\\"'PT Sans Caption','Helvetica Neue','Helvetica',sans-serif\\\" fill=\\\"#6C606B\\\" id=\\\"img-f9820eda-4\\\">\\n    <g transform=\\\"translate(20.94,87.04)\\\">\\n      <g class=\\\"primitive\\\">\\n        <text text-anchor=\\\"middle\\\" dy=\\\"0.6em\\\">0<\\/text>\\n      <\\/g>\\n    <\\/g>\\n    <g transform=\\\"translate(77.68,87.04)\\\">\\n      <g class=\\\"primitive\\\">\\n        <text text-anchor=\\\"middle\\\" dy=\\\"0.6em\\\">50<\\/text>\\n      <\\/g>\\n    <\\/g>\\n    <g transform=\\\"translate(134.42,87.04)\\\">\\n      <g class=\\\"primitive\\\">\\n        <text text-anchor=\\\"middle\\\" dy=\\\"0.6em\\\">100<\\/text>\\n      <\\/g>\\n    <\\/g>\\n  <\\/g>\\n  <g clip-path=\\\"url(#img-f9820eda-5)\\\">\\n    <g id=\\\"img-f9820eda-6\\\">\\n      <g pointer-events=\\\"visible\\\" stroke-width=\\\"0.3\\\" fill=\\\"#000000\\\" fill-opacity=\\\"0.000\\\" stroke=\\\"#000000\\\" stroke-opacity=\\\"0.000\\\" class=\\\"guide background\\\" id=\\\"img-f9820eda-7\\\">\\n        <g transform=\\\"translate(77.68,45.52)\\\" id=\\\"img-f9820eda-8\\\">\\n          <path d=\\\"M-58.74,-40.52 L58.74,-40.52 58.74,40.52 -58.74,40.52  z\\\" class=\\\"primitive\\\"\\/>\\n        <\\/g>\\n      <\\/g>\\n      <g class=\\\"guide ygridlines xfixed\\\" stroke-dasharray=\\\"0.5,0.5\\\" stroke-width=\\\"0.2\\\" stroke=\\\"#D0D0E0\\\" id=\\\"img-f9820eda-9\\\">\\n        <g transform=\\\"translate(77.68,84.04)\\\" id=\\\"img-f9820eda-10\\\">\\n          <path fill=\\\"none\\\" d=\\\"M-58.74,0 L58.74,0 \\\" class=\\\"primitive\\\"\\/>\\n        <\\/g>\\n        <g transform=\\\"translate(77.68,64.78)\\\" id=\\\"img-f9820eda-11\\\">\\n          <path fill=\\\"none\\\" d=\\\"M-58.74,0 L58.74,0 \\\" class=\\\"primitive\\\"\\/>\\n        <\\/g>\\n        <g transform=\\\"translate(77.68,45.52)\\\" id=\\\"img-f9820eda-12\\\">\\n          <path fill=\\\"none\\\" d=\\\"M-58.74,0 L58.74,0 \\\" class=\\\"primitive\\\"\\/>\\n        <\\/g>\\n        <g transform=\\\"translate(77.68,26.26)\\\" id=\\\"img-f9820eda-13\\\">\\n          <path fill=\\\"none\\\" d=\\\"M-58.74,0 L58.74,0 \\\" class=\\\"primitive\\\"\\/>\\n        <\\/g>\\n        <g transform=\\\"translate(77.68,7)\\\" id=\\\"img-f9820eda-14\\\">\\n          <path fill=\\\"none\\\" d=\\\"M-58.74,0 L58.74,0 \\\" class=\\\"primitive\\\"\\/>\\n        <\\/g>\\n      <\\/g>\\n      <g class=\\\"guide xgridlines yfixed\\\" stroke-dasharray=\\\"0.5,0.5\\\" stroke-width=\\\"0.2\\\" stroke=\\\"#D0D0E0\\\" id=\\\"img-f9820eda-15\\\">\\n        <g transform=\\\"translate(20.94,45.52)\\\" id=\\\"img-f9820eda-16\\\">\\n          <path fill=\\\"none\\\" d=\\\"M0,-40.52 L0,40.52 \\\" class=\\\"primitive\\\"\\/>\\n        <\\/g>\\n        <g transform=\\\"translate(77.68,45.52)\\\" id=\\\"img-f9820eda-17\\\">\\n          <path fill=\\\"none\\\" d=\\\"M0,-40.52 L0,40.52 \\\" class=\\\"primitive\\\"\\/>\\n        <\\/g>\\n        <g transform=\\\"translate(134.42,45.52)\\\" id=\\\"img-f9820eda-18\\\">\\n          <path fill=\\\"none\\\" d=\\\"M0,-40.52 L0,40.52 \\\" class=\\\"primitive\\\"\\/>\\n        <\\/g>\\n      <\\/g>\\n      <g class=\\\"plotpanel\\\" id=\\\"img-f9820eda-19\\\">\\n        <metadata>\\n          <boundingbox value=\\\"18.936666666666667mm 5.0mm 117.48468957064284mm 81.04333333333335mm\\\"\\/>\\n          <unitbox value=\\\"-1.762352267576169 205.19188335568728 103.52470453515235 -210.38376671137456\\\"\\/>\\n        <\\/metadata>\\n        <g stroke-width=\\\"0.3\\\" fill=\\\"#000000\\\" fill-opacity=\\\"0.000\\\" class=\\\"geometry\\\" id=\\\"img-f9820eda-20\\\">\\n          <g class=\\\"color_LCHab{Float32}(70.0f0,60.0f0,240.0f0)\\\" stroke-dasharray=\\\"none\\\" stroke-opacity=\\\"1\\\" stroke=\\\"#00BFFF\\\" id=\\\"img-f9820eda-21\\\">\\n            <g transform=\\\"translate(77.68,50.48)\\\" id=\\\"img-f9820eda-22\\\">\\n              <path fill=\\\"none\\\" d=\\\"M-56.74,31.64 L-55.61,31.18 -54.47,30.62 -53.34,29.94 -52.2,29.12 -51.07,28.14 -49.93,26.97 -48.8,25.61 -47.66,24.03 -46.53,22.24 -45.39,20.24 -44.26,18.06 -43.12,15.74 -41.99,13.35 -40.85,10.95 -39.72,8.61 -38.58,6.41 -37.45,4.41 -36.32,2.64 -35.18,1.11 -34.05,-0.17 -32.91,-1.21 -31.78,-2.06 -30.64,-2.73 -29.51,-3.25 -28.37,-3.66 -27.24,-3.98 -26.1,-4.21 -24.97,-4.4 -23.83,-4.54 -22.7,-4.64 -21.56,-4.72 -20.43,-4.78 -19.29,-4.82 -18.16,-4.86 -17.02,-4.88 -15.89,-4.9 -14.75,-4.92 -13.62,-4.93 -12.48,-4.93 -11.35,-4.94 -10.21,-4.95 -9.08,-4.95 -7.94,-4.95 -6.81,-4.95 -5.67,-4.95 -4.54,-4.96 -3.4,-4.96 -2.27,-4.96 -1.13,-4.96 0,-4.96 1.13,-4.96 2.27,-4.96 3.4,-4.96 4.54,-4.96 5.67,-4.96 6.81,-4.96 7.94,-4.96 9.08,-4.96 10.21,-4.96 11.35,-4.96 12.48,-4.96 13.62,-4.96 14.75,-4.96 15.89,-4.96 17.02,-4.96 18.16,-4.96 19.29,-4.96 20.43,-4.96 21.56,-4.96 22.7,-4.96 23.83,-4.96 24.97,-4.96 26.1,-4.96 27.24,-4.96 28.37,-4.96 29.51,-4.96 30.64,-4.96 31.78,-4.96 32.91,-4.96 34.05,-4.96 35.18,-4.96 36.32,-4.96 37.45,-4.96 38.58,-4.96 39.72,-4.96 40.85,-4.96 41.99,-4.96 43.12,-4.96 44.26,-4.96 45.39,-4.96 46.53,-4.96 47.66,-4.96 48.8,-4.96 49.93,-4.96 51.07,-4.96 52.2,-4.96 53.34,-4.96 54.47,-4.96 55.61,-4.96 56.74,-4.96 \\\" class=\\\"primitive\\\"\\/>\\n            <\\/g>\\n          <\\/g>\\n        <\\/g>\\n      <\\/g>\\n    <\\/g>\\n  <\\/g>\\n  <g class=\\\"guide ylabels\\\" font-size=\\\"2.82\\\" font-family=\\\"'PT Sans Caption','Helvetica Neue','Helvetica',sans-serif\\\" fill=\\\"#6C606B\\\" id=\\\"img-f9820eda-23\\\">\\n    <g transform=\\\"translate(17.94,84.04)\\\" id=\\\"img-f9820eda-24\\\">\\n      <g class=\\\"primitive\\\">\\n        <text text-anchor=\\\"end\\\" dy=\\\"0.35em\\\">0<\\/text>\\n      <\\/g>\\n    <\\/g>\\n    <g transform=\\\"translate(17.94,64.78)\\\" id=\\\"img-f9820eda-25\\\">\\n      <g class=\\\"primitive\\\">\\n        <text text-anchor=\\\"end\\\" dy=\\\"0.35em\\\">50<\\/text>\\n      <\\/g>\\n    <\\/g>\\n    <g transform=\\\"translate(17.94,45.52)\\\" id=\\\"img-f9820eda-26\\\">\\n      <g class=\\\"primitive\\\">\\n        <text text-anchor=\\\"end\\\" dy=\\\"0.35em\\\">100<\\/text>\\n      <\\/g>\\n    <\\/g>\\n    <g transform=\\\"translate(17.94,26.26)\\\" id=\\\"img-f9820eda-27\\\">\\n      <g class=\\\"primitive\\\">\\n        <text text-anchor=\\\"end\\\" dy=\\\"0.35em\\\">150<\\/text>\\n      <\\/g>\\n    <\\/g>\\n    <g transform=\\\"translate(17.94,7)\\\" id=\\\"img-f9820eda-28\\\">\\n      <g class=\\\"primitive\\\">\\n        <text text-anchor=\\\"end\\\" dy=\\\"0.35em\\\">200<\\/text>\\n      <\\/g>\\n    <\\/g>\\n  <\\/g>\\n  <g font-size=\\\"3.53\\\" font-family=\\\"'PT Sans','Helvetica Neue','Helvetica',sans-serif\\\" fill=\\\"#564A55\\\" stroke=\\\"#000000\\\" stroke-opacity=\\\"0.000\\\" id=\\\"img-f9820eda-29\\\">\\n    <g transform=\\\"translate(9.92,45.52)\\\" id=\\\"img-f9820eda-30\\\">\\n      <g class=\\\"primitive\\\">\\n        <text text-anchor=\\\"end\\\" dy=\\\"0.35em\\\">W<\\/text>\\n      <\\/g>\\n    <\\/g>\\n  <\\/g>\\n<\\/g>\\n<defs>\\n  <clipPath id=\\\"img-f9820eda-5\\\">\\n    <path d=\\\"M18.94,5 L136.42,5 136.42,86.04 18.94,86.04 \\\" \\/>\\n  <\\/clipPath>\\n<\\/defs>\\n<\\/svg>\\n\"},\"nodeType\":\"DOM\",\"type\":\"node\",\"instanceArgs\":{\"namespace\":\"html\",\"tag\":\"div\"},\"children\":[]}]}]},\n",
       "        window,\n",
       "    );\n",
       "    })()\n",
       "    </script>\n",
       "</div>\n"
      ],
      "text/plain": [
       "WebIO.Node{WebIO.DOM}(WebIO.DOM(:html, :div), Any[WebIO.Node{WebIO.DOM}(WebIO.DOM(:html, :div), Any[\"Logi\"], Dict{Symbol, Any}(:style => Dict{String, Any}(\"color\" => :rebeccapurple, \"font-family\" => \"monospace\"))), WebIO.Node{WebIO.DOM}(WebIO.DOM(:html, :div), Any[WebIO.Scope(WebIO.Node{WebIO.DOM}(WebIO.DOM(:html, :div), Any[WebIO.Node{WebIO.DOM}(WebIO.DOM(:html, :div), Any[WebIO.Node{WebIO.DOM}(WebIO.DOM(:html, :label), Any[\"μ\"], Dict{Symbol, Any}(:className => \"interact \", :style => Dict{Any, Any}(:padding => \"5px 10px 0px 10px\", \"white-space\" => :nowrap, \"color\" => :royalblue)))], Dict{Symbol, Any}(:className => \"interact-flex-row-left\")), WebIO.Node{WebIO.DOM}(WebIO.DOM(:html, :div), Any[WebIO.Node{WebIO.DOM}(WebIO.DOM(:html, :input), Any[], Dict{Symbol, Any}(:max => 51, :min => 1, :attributes => Dict{Any, Any}(:type => \"range\", Symbol(\"data-bind\") => \"numericValue: index, valueUpdate: 'input', event: {change: function (){this.changes(this.changes()+1)}}\", \"orient\" => \"horizontal\"), :step => 1, :className => \"slider slider is-fullwidth\", :style => Dict{Any, Any}()))], Dict{Symbol, Any}(:className => \"interact-flex-row-center\")), WebIO.Node{WebIO.DOM}(WebIO.DOM(:html, :div), Any[WebIO.Node{WebIO.DOM}(WebIO.DOM(:html, :p), Any[], Dict{Symbol, Any}(:attributes => Dict(\"data-bind\" => \"text: formatted_val\")))], Dict{Symbol, Any}(:className => \"interact-flex-row-right\"))], Dict{Symbol, Any}(:className => \"interact-flex-row interact-widget\", :style => Dict(\"font-family\" => \"monospace\", \"width\" => \"80%\"))), Dict{String, Tuple{Observables.AbstractObservable, Union{Nothing, Bool}}}(\"changes\" => (Observable(0), nothing), \"index\" => (Observable{Any}(26), nothing)), Set{String}(), nothing, WebIO.Asset[WebIO.Asset(\"js\", \"knockout\", \"/opt/julia/packages/Knockout/HReiN/src/../assets/knockout.js\"), WebIO.Asset(\"js\", \"knockout_punches\", \"/opt/julia/packages/Knockout/HReiN/src/../assets/knockout_punches.js\"), WebIO.Asset(\"js\", nothing, \"/opt/julia/packages/InteractBase/LJXv3/src/../assets/all.js\"), WebIO.Asset(\"css\", nothing, \"/opt/julia/packages/InteractBase/LJXv3/src/../assets/style.css\"), WebIO.Asset(\"css\", nothing, \"/opt/julia/packages/Interact/PENUy/src/../assets/bulma_confined.min.css\")], Dict{Any, Any}(\"changes\" => Any[WebIO.JSString(\"(function (val){return (val!=this.model[\\\"changes\\\"]()) ? (this.valueFromJulia[\\\"changes\\\"]=true, this.model[\\\"changes\\\"](val)) : undefined})\")], \"index\" => Any[WebIO.JSString(\"(function (val){return (val!=this.model[\\\"index\\\"]()) ? (this.valueFromJulia[\\\"index\\\"]=true, this.model[\\\"index\\\"](val)) : undefined})\")]), WebIO.ConnectionPool(Channel{Any}(32), Set{WebIO.AbstractConnection}(), Base.GenericCondition{ReentrantLock}(Base.IntrusiveLinkedList{Task}(Task (runnable) @0x00007f0de84b9910, Task (runnable) @0x00007f0de84b9910), ReentrantLock(nothing, 0x00000000, 0x00, Base.GenericCondition{Base.Threads.SpinLock}(Base.IntrusiveLinkedList{Task}(nothing, nothing), Base.Threads.SpinLock(0)), (0, 0, 141733920768)))), WebIO.JSString[WebIO.JSString(\"function () {\\n    var handler = (function (ko, koPunches) {\\n    ko.punches.enableAll();\\n    ko.bindingHandlers.numericValue = {\\n        init: function(element, valueAccessor, allBindings, data, context) {\\n            var stringified = ko.observable(ko.unwrap(valueAccessor()));\\n            stringified.subscribe(function(value) {\\n                var val = parseFloat(value);\\n                if (!isNaN(val)) {\\n                    valueAccessor()(val);\\n                }\\n            });\\n            valueAccessor().subscribe(function(value) {\\n                var str = JSON.stringify(value);\\n                if ((str == \\\"0\\\") && ([\\\"-0\\\", \\\"-0.\\\"].indexOf(stringified()) >= 0))\\n                     return;\\n                 if ([\\\"null\\\", \\\"\\\"].indexOf(str) >= 0)\\n                     return;\\n                stringified(str);\\n            });\\n            ko.applyBindingsToNode(\\n                element,\\n                {\\n                    value: stringified,\\n                    valueUpdate: allBindings.get('valueUpdate'),\\n                },\\n                context,\\n            );\\n        }\\n    };\\n    var json_data = {\\\"formatted_vals\\\":[\\\"0.0\\\",\\\"0.01\\\",\\\"0.02\\\",\\\"0.03\\\",\\\"0.04\\\",\\\"0.05\\\",\\\"0.06\\\",\\\"0.07\\\",\\\"0.08\\\",\\\"0.09\\\",\\\"0.1\\\",\\\"0.11\\\",\\\"0.12\\\",\\\"0.13\\\",\\\"0.14\\\",\\\"0.15\\\",\\\"0.16\\\",\\\"0.17\\\",\\\"0.18\\\",\\\"0.19\\\",\\\"0.2\\\",\\\"0.21\\\",\\\"0.22\\\",\\\"0.23\\\",\\\"0.24\\\",\\\"0.25\\\",\\\"0.26\\\",\\\"0.27\\\",\\\"0.28\\\",\\\"0.29\\\",\\\"0.3\\\",\\\"0.31\\\",\\\"0.32\\\",\\\"0.33\\\",\\\"0.34\\\",\\\"0.35\\\",\\\"0.36\\\",\\\"0.37\\\",\\\"0.38\\\",\\\"0.39\\\",\\\"0.4\\\",\\\"0.41\\\",\\\"0.42\\\",\\\"0.43\\\",\\\"0.44\\\",\\\"0.45\\\",\\\"0.46\\\",\\\"0.47\\\",\\\"0.48\\\",\\\"0.49\\\",\\\"0.5\\\"],\\\"changes\\\":WebIO.getval({\\\"name\\\":\\\"changes\\\",\\\"scope\\\":\\\"13278503994798966176\\\",\\\"id\\\":\\\"2314725558663479098\\\",\\\"type\\\":\\\"observable\\\"}),\\\"index\\\":WebIO.getval({\\\"name\\\":\\\"index\\\",\\\"scope\\\":\\\"13278503994798966176\\\",\\\"id\\\":\\\"10612459828433716838\\\",\\\"type\\\":\\\"observable\\\"})};\\n    var self = this;\\n    function AppViewModel() {\\n        for (var key in json_data) {\\n            var el = json_data[key];\\n            this[key] = Array.isArray(el) ? ko.observableArray(el) : ko.observable(el);\\n        }\\n        \\n        [this[\\\"formatted_val\\\"]=ko.computed(    function(){\\n        return this.formatted_vals()[parseInt(this.index())-(1)];\\n    }\\n,this)]\\n        [this[\\\"changes\\\"].subscribe((function (val){!(this.valueFromJulia[\\\"changes\\\"]) ? (WebIO.setval({\\\"name\\\":\\\"changes\\\",\\\"scope\\\":\\\"13278503994798966176\\\",\\\"id\\\":\\\"2314725558663479098\\\",\\\"type\\\":\\\"observable\\\"},val)) : undefined; return this.valueFromJulia[\\\"changes\\\"]=false}),self),this[\\\"index\\\"].subscribe((function (val){!(this.valueFromJulia[\\\"index\\\"]) ? (WebIO.setval({\\\"name\\\":\\\"index\\\",\\\"scope\\\":\\\"13278503994798966176\\\",\\\"id\\\":\\\"10612459828433716838\\\",\\\"type\\\":\\\"observable\\\"},val)) : undefined; return this.valueFromJulia[\\\"index\\\"]=false}),self)]\\n        \\n    }\\n    self.model = new AppViewModel();\\n    self.valueFromJulia = {};\\n    for (var key in json_data) {\\n        self.valueFromJulia[key] = false;\\n    }\\n    ko.applyBindings(self.model, self.dom);\\n}\\n);\\n    (WebIO.importBlock({\\\"data\\\":[{\\\"name\\\":\\\"knockout\\\",\\\"type\\\":\\\"js\\\",\\\"url\\\":\\\"/assetserver/d749de49a15576291e39755d819be2408bf7f995-knockout.js\\\"},{\\\"name\\\":\\\"knockout_punches\\\",\\\"type\\\":\\\"js\\\",\\\"url\\\":\\\"/assetserver/9f5c86158cf79faf331cfb32636cb08a9b1f0dc2-knockout_punches.js\\\"}],\\\"type\\\":\\\"async_block\\\"})).then((imports) => handler.apply(this, imports));\\n}\\n\")])], Dict{Symbol, Any}(:className => \"field interact-widget\")), WebIO.Node{WebIO.DOM}(WebIO.DOM(:html, :div), Any[WebIO.Scope(WebIO.Node{WebIO.DOM}(WebIO.DOM(:html, :div), Any[WebIO.Node{WebIO.DOM}(WebIO.DOM(:html, :div), Any[WebIO.Node{WebIO.DOM}(WebIO.DOM(:html, :label), Any[\"W0\"], Dict{Symbol, Any}(:className => \"interact \", :style => Dict{Any, Any}(:padding => \"5px 10px 0px 10px\", \"white-space\" => :nowrap, \"color\" => :royalblue)))], Dict{Symbol, Any}(:className => \"interact-flex-row-left\")), WebIO.Node{WebIO.DOM}(WebIO.DOM(:html, :div), Any[WebIO.Node{WebIO.DOM}(WebIO.DOM(:html, :input), Any[], Dict{Symbol, Any}(:max => 101, :min => 1, :attributes => Dict{Any, Any}(:type => \"range\", Symbol(\"data-bind\") => \"numericValue: index, valueUpdate: 'input', event: {change: function (){this.changes(this.changes()+1)}}\", \"orient\" => \"horizontal\"), :step => 1, :className => \"slider slider is-fullwidth\", :style => Dict{Any, Any}()))], Dict{Symbol, Any}(:className => \"interact-flex-row-center\")), WebIO.Node{WebIO.DOM}(WebIO.DOM(:html, :div), Any[WebIO.Node{WebIO.DOM}(WebIO.DOM(:html, :p), Any[], Dict{Symbol, Any}(:attributes => Dict(\"data-bind\" => \"text: formatted_val\")))], Dict{Symbol, Any}(:className => \"interact-flex-row-right\"))], Dict{Symbol, Any}(:className => \"interact-flex-row interact-widget\", :style => Dict(\"font-family\" => \"monospace\", \"width\" => \"80%\"))), Dict{String, Tuple{Observables.AbstractObservable, Union{Nothing, Bool}}}(\"changes\" => (Observable(0), nothing), \"index\" => (Observable{Any}(51), nothing)), Set{String}(), nothing, WebIO.Asset[WebIO.Asset(\"js\", \"knockout\", \"/opt/julia/packages/Knockout/HReiN/src/../assets/knockout.js\"), WebIO.Asset(\"js\", \"knockout_punches\", \"/opt/julia/packages/Knockout/HReiN/src/../assets/knockout_punches.js\"), WebIO.Asset(\"js\", nothing, \"/opt/julia/packages/InteractBase/LJXv3/src/../assets/all.js\"), WebIO.Asset(\"css\", nothing, \"/opt/julia/packages/InteractBase/LJXv3/src/../assets/style.css\"), WebIO.Asset(\"css\", nothing, \"/opt/julia/packages/Interact/PENUy/src/../assets/bulma_confined.min.css\")], Dict{Any, Any}(\"changes\" => Any[WebIO.JSString(\"(function (val){return (val!=this.model[\\\"changes\\\"]()) ? (this.valueFromJulia[\\\"changes\\\"]=true, this.model[\\\"changes\\\"](val)) : undefined})\")], \"index\" => Any[WebIO.JSString(\"(function (val){return (val!=this.model[\\\"index\\\"]()) ? (this.valueFromJulia[\\\"index\\\"]=true, this.model[\\\"index\\\"](val)) : undefined})\")]), WebIO.ConnectionPool(Channel{Any}(32), Set{WebIO.AbstractConnection}(), Base.GenericCondition{ReentrantLock}(Base.IntrusiveLinkedList{Task}(Task (runnable) @0x00007f0de854c4c0, Task (runnable) @0x00007f0de854c4c0), ReentrantLock(nothing, 0x00000000, 0x00, Base.GenericCondition{Base.Threads.SpinLock}(Base.IntrusiveLinkedList{Task}(nothing, nothing), Base.Threads.SpinLock(0)), (0, 0, 141733920768)))), WebIO.JSString[WebIO.JSString(\"function () {\\n    var handler = (function (ko, koPunches) {\\n    ko.punches.enableAll();\\n    ko.bindingHandlers.numericValue = {\\n        init: function(element, valueAccessor, allBindings, data, context) {\\n            var stringified = ko.observable(ko.unwrap(valueAccessor()));\\n            stringified.subscribe(function(value) {\\n                var val = parseFloat(value);\\n                if (!isNaN(val)) {\\n                    valueAccessor()(val);\\n                }\\n            });\\n            valueAccessor().subscribe(function(value) {\\n                var str = JSON.stringify(value);\\n                if ((str == \\\"0\\\") && ([\\\"-0\\\", \\\"-0.\\\"].indexOf(stringified()) >= 0))\\n                     return;\\n                 if ([\\\"null\\\", \\\"\\\"].indexOf(str) >= 0)\\n                     return;\\n                stringified(str);\\n            });\\n            ko.applyBindingsToNode(\\n                element,\\n                {\\n                    value: stringified,\\n                    valueUpdate: allBindings.get('valueUpdate'),\\n                },\\n                context,\\n            );\\n        }\\n    };\\n    var json_data = {\\\"formatted_vals\\\":[\\\"0.0\\\",\\\"0.1\\\",\\\"0.2\\\",\\\"0.3\\\",\\\"0.4\\\",\\\"0.5\\\",\\\"0.6\\\",\\\"0.7\\\",\\\"0.8\\\",\\\"0.9\\\",\\\"1.0\\\",\\\"1.1\\\",\\\"1.2\\\",\\\"1.3\\\",\\\"1.4\\\",\\\"1.5\\\",\\\"1.6\\\",\\\"1.7\\\",\\\"1.8\\\",\\\"1.9\\\",\\\"2.0\\\",\\\"2.1\\\",\\\"2.2\\\",\\\"2.3\\\",\\\"2.4\\\",\\\"2.5\\\",\\\"2.6\\\",\\\"2.7\\\",\\\"2.8\\\",\\\"2.9\\\",\\\"3.0\\\",\\\"3.1\\\",\\\"3.2\\\",\\\"3.3\\\",\\\"3.4\\\",\\\"3.5\\\",\\\"3.6\\\",\\\"3.7\\\",\\\"3.8\\\",\\\"3.9\\\",\\\"4.0\\\",\\\"4.1\\\",\\\"4.2\\\",\\\"4.3\\\",\\\"4.4\\\",\\\"4.5\\\",\\\"4.6\\\",\\\"4.7\\\",\\\"4.8\\\",\\\"4.9\\\",\\\"5.0\\\",\\\"5.1\\\",\\\"5.2\\\",\\\"5.3\\\",\\\"5.4\\\",\\\"5.5\\\",\\\"5.6\\\",\\\"5.7\\\",\\\"5.8\\\",\\\"5.9\\\",\\\"6.0\\\",\\\"6.1\\\",\\\"6.2\\\",\\\"6.3\\\",\\\"6.4\\\",\\\"6.5\\\",\\\"6.6\\\",\\\"6.7\\\",\\\"6.8\\\",\\\"6.9\\\",\\\"7.0\\\",\\\"7.1\\\",\\\"7.2\\\",\\\"7.3\\\",\\\"7.4\\\",\\\"7.5\\\",\\\"7.6\\\",\\\"7.7\\\",\\\"7.8\\\",\\\"7.9\\\",\\\"8.0\\\",\\\"8.1\\\",\\\"8.2\\\",\\\"8.3\\\",\\\"8.4\\\",\\\"8.5\\\",\\\"8.6\\\",\\\"8.7\\\",\\\"8.8\\\",\\\"8.9\\\",\\\"9.0\\\",\\\"9.1\\\",\\\"9.2\\\",\\\"9.3\\\",\\\"9.4\\\",\\\"9.5\\\",\\\"9.6\\\",\\\"9.7\\\",\\\"9.8\\\",\\\"9.9\\\",\\\"10.0\\\"],\\\"changes\\\":WebIO.getval({\\\"name\\\":\\\"changes\\\",\\\"scope\\\":\\\"6909320385981904995\\\",\\\"id\\\":\\\"10944228928166335628\\\",\\\"type\\\":\\\"observable\\\"}),\\\"index\\\":WebIO.getval({\\\"name\\\":\\\"index\\\",\\\"scope\\\":\\\"6909320385981904995\\\",\\\"id\\\":\\\"14489644198381242378\\\",\\\"type\\\":\\\"observable\\\"})};\\n    var self = this;\\n    function AppViewModel() {\\n        for (var key in json_data) {\\n            var el = json_data[key];\\n            this[key] = Array.isArray(el) ? ko.observableArray(el) : ko.observable(el);\\n        }\\n        \\n        [this[\\\"formatted_val\\\"]=ko.computed(    function(){\\n        return this.formatted_vals()[parseInt(this.index())-(1)];\\n    }\\n,this)]\\n        [this[\\\"changes\\\"].subscribe((function (val){!(this.valueFromJulia[\\\"changes\\\"]) ? (WebIO.setval({\\\"name\\\":\\\"changes\\\",\\\"scope\\\":\\\"6909320385981904995\\\",\\\"id\\\":\\\"10944228928166335628\\\",\\\"type\\\":\\\"observable\\\"},val)) : undefined; return this.valueFromJulia[\\\"changes\\\"]=false}),self),this[\\\"index\\\"].subscribe((function (val){!(this.valueFromJulia[\\\"index\\\"]) ? (WebIO.setval({\\\"name\\\":\\\"index\\\",\\\"scope\\\":\\\"6909320385981904995\\\",\\\"id\\\":\\\"14489644198381242378\\\",\\\"type\\\":\\\"observable\\\"},val)) : undefined; return this.valueFromJulia[\\\"index\\\"]=false}),self)]\\n        \\n    }\\n    self.model = new AppViewModel();\\n    self.valueFromJulia = {};\\n    for (var key in json_data) {\\n        self.valueFromJulia[key] = false;\\n    }\\n    ko.applyBindings(self.model, self.dom);\\n}\\n);\\n    (WebIO.importBlock({\\\"data\\\":[{\\\"name\\\":\\\"knockout\\\",\\\"type\\\":\\\"js\\\",\\\"url\\\":\\\"/assetserver/d749de49a15576291e39755d819be2408bf7f995-knockout.js\\\"},{\\\"name\\\":\\\"knockout_punches\\\",\\\"type\\\":\\\"js\\\",\\\"url\\\":\\\"/assetserver/9f5c86158cf79faf331cfb32636cb08a9b1f0dc2-knockout_punches.js\\\"}],\\\"type\\\":\\\"async_block\\\"})).then((imports) => handler.apply(this, imports));\\n}\\n\")])], Dict{Symbol, Any}(:className => \"field interact-widget\")), WebIO.Node{WebIO.DOM}(WebIO.DOM(:html, :div), Any[WebIO.Scope(WebIO.Node{WebIO.DOM}(WebIO.DOM(:html, :div), Any[WebIO.Node{WebIO.DOM}(WebIO.DOM(:html, :div), Any[WebIO.Node{WebIO.DOM}(WebIO.DOM(:html, :label), Any[\"Wf\"], Dict{Symbol, Any}(:className => \"interact \", :style => Dict{Any, Any}(:padding => \"5px 10px 0px 10px\", \"white-space\" => :nowrap, \"color\" => :royalblue)))], Dict{Symbol, Any}(:className => \"interact-flex-row-left\")), WebIO.Node{WebIO.DOM}(WebIO.DOM(:html, :div), Any[WebIO.Node{WebIO.DOM}(WebIO.DOM(:html, :input), Any[], Dict{Symbol, Any}(:max => 20, :min => 1, :attributes => Dict{Any, Any}(:type => \"range\", Symbol(\"data-bind\") => \"numericValue: index, valueUpdate: 'input', event: {change: function (){this.changes(this.changes()+1)}}\", \"orient\" => \"horizontal\"), :step => 1, :className => \"slider slider is-fullwidth\", :style => Dict{Any, Any}()))], Dict{Symbol, Any}(:className => \"interact-flex-row-center\")), WebIO.Node{WebIO.DOM}(WebIO.DOM(:html, :div), Any[WebIO.Node{WebIO.DOM}(WebIO.DOM(:html, :p), Any[], Dict{Symbol, Any}(:attributes => Dict(\"data-bind\" => \"text: formatted_val\")))], Dict{Symbol, Any}(:className => \"interact-flex-row-right\"))], Dict{Symbol, Any}(:className => \"interact-flex-row interact-widget\", :style => Dict(\"font-family\" => \"monospace\", \"width\" => \"80%\"))), Dict{String, Tuple{Observables.AbstractObservable, Union{Nothing, Bool}}}(\"changes\" => (Observable(0), nothing), \"index\" => (Observable{Any}(10), nothing)), Set{String}(), nothing, WebIO.Asset[WebIO.Asset(\"js\", \"knockout\", \"/opt/julia/packages/Knockout/HReiN/src/../assets/knockout.js\"), WebIO.Asset(\"js\", \"knockout_punches\", \"/opt/julia/packages/Knockout/HReiN/src/../assets/knockout_punches.js\"), WebIO.Asset(\"js\", nothing, \"/opt/julia/packages/InteractBase/LJXv3/src/../assets/all.js\"), WebIO.Asset(\"css\", nothing, \"/opt/julia/packages/InteractBase/LJXv3/src/../assets/style.css\"), WebIO.Asset(\"css\", nothing, \"/opt/julia/packages/Interact/PENUy/src/../assets/bulma_confined.min.css\")], Dict{Any, Any}(\"changes\" => Any[WebIO.JSString(\"(function (val){return (val!=this.model[\\\"changes\\\"]()) ? (this.valueFromJulia[\\\"changes\\\"]=true, this.model[\\\"changes\\\"](val)) : undefined})\")], \"index\" => Any[WebIO.JSString(\"(function (val){return (val!=this.model[\\\"index\\\"]()) ? (this.valueFromJulia[\\\"index\\\"]=true, this.model[\\\"index\\\"](val)) : undefined})\")]), WebIO.ConnectionPool(Channel{Any}(32), Set{WebIO.AbstractConnection}(), Base.GenericCondition{ReentrantLock}(Base.IntrusiveLinkedList{Task}(Task (runnable) @0x00007f0de854eef0, Task (runnable) @0x00007f0de854eef0), ReentrantLock(nothing, 0x00000000, 0x00, Base.GenericCondition{Base.Threads.SpinLock}(Base.IntrusiveLinkedList{Task}(nothing, nothing), Base.Threads.SpinLock(0)), (0, 0, 141733920768)))), WebIO.JSString[WebIO.JSString(\"function () {\\n    var handler = (function (ko, koPunches) {\\n    ko.punches.enableAll();\\n    ko.bindingHandlers.numericValue = {\\n        init: function(element, valueAccessor, allBindings, data, context) {\\n            var stringified = ko.observable(ko.unwrap(valueAccessor()));\\n            stringified.subscribe(function(value) {\\n                var val = parseFloat(value);\\n                if (!isNaN(val)) {\\n                    valueAccessor()(val);\\n                }\\n            });\\n            valueAccessor().subscribe(function(value) {\\n                var str = JSON.stringify(value);\\n                if ((str == \\\"0\\\") && ([\\\"-0\\\", \\\"-0.\\\"].indexOf(stringified()) >= 0))\\n                     return;\\n                 if ([\\\"null\\\", \\\"\\\"].indexOf(str) >= 0)\\n                     return;\\n                stringified(str);\\n            });\\n            ko.applyBindingsToNode(\\n                element,\\n                {\\n                    value: stringified,\\n                    valueUpdate: allBindings.get('valueUpdate'),\\n                },\\n                context,\\n            );\\n        }\\n    };\\n    var json_data = {\\\"formatted_vals\\\":[\\\"10\\\",\\\"20\\\",\\\"30\\\",\\\"40\\\",\\\"50\\\",\\\"60\\\",\\\"70\\\",\\\"80\\\",\\\"90\\\",\\\"100\\\",\\\"110\\\",\\\"120\\\",\\\"130\\\",\\\"140\\\",\\\"150\\\",\\\"160\\\",\\\"170\\\",\\\"180\\\",\\\"190\\\",\\\"200\\\"],\\\"changes\\\":WebIO.getval({\\\"name\\\":\\\"changes\\\",\\\"scope\\\":\\\"7909979115658618519\\\",\\\"id\\\":\\\"7878447014194851764\\\",\\\"type\\\":\\\"observable\\\"}),\\\"index\\\":WebIO.getval({\\\"name\\\":\\\"index\\\",\\\"scope\\\":\\\"7909979115658618519\\\",\\\"id\\\":\\\"15594052581162785255\\\",\\\"type\\\":\\\"observable\\\"})};\\n    var self = this;\\n    function AppViewModel() {\\n        for (var key in json_data) {\\n            var el = json_data[key];\\n            this[key] = Array.isArray(el) ? ko.observableArray(el) : ko.observable(el);\\n        }\\n        \\n        [this[\\\"formatted_val\\\"]=ko.computed(    function(){\\n        return this.formatted_vals()[parseInt(this.index())-(1)];\\n    }\\n,this)]\\n        [this[\\\"changes\\\"].subscribe((function (val){!(this.valueFromJulia[\\\"changes\\\"]) ? (WebIO.setval({\\\"name\\\":\\\"changes\\\",\\\"scope\\\":\\\"7909979115658618519\\\",\\\"id\\\":\\\"7878447014194851764\\\",\\\"type\\\":\\\"observable\\\"},val)) : undefined; return this.valueFromJulia[\\\"changes\\\"]=false}),self),this[\\\"index\\\"].subscribe((function (val){!(this.valueFromJulia[\\\"index\\\"]) ? (WebIO.setval({\\\"name\\\":\\\"index\\\",\\\"scope\\\":\\\"7909979115658618519\\\",\\\"id\\\":\\\"15594052581162785255\\\",\\\"type\\\":\\\"observable\\\"},val)) : undefined; return this.valueFromJulia[\\\"index\\\"]=false}),self)]\\n        \\n    }\\n    self.model = new AppViewModel();\\n    self.valueFromJulia = {};\\n    for (var key in json_data) {\\n        self.valueFromJulia[key] = false;\\n    }\\n    ko.applyBindings(self.model, self.dom);\\n}\\n);\\n    (WebIO.importBlock({\\\"data\\\":[{\\\"name\\\":\\\"knockout\\\",\\\"type\\\":\\\"js\\\",\\\"url\\\":\\\"/assetserver/d749de49a15576291e39755d819be2408bf7f995-knockout.js\\\"},{\\\"name\\\":\\\"knockout_punches\\\",\\\"type\\\":\\\"js\\\",\\\"url\\\":\\\"/assetserver/9f5c86158cf79faf331cfb32636cb08a9b1f0dc2-knockout_punches.js\\\"}],\\\"type\\\":\\\"async_block\\\"})).then((imports) => handler.apply(this, imports));\\n}\\n\")])], Dict{Symbol, Any}(:className => \"field interact-widget\")), Observable(Gadfly.Plot(Gadfly.Layer[Gadfly.Layer(nothing, Dict{Symbol, Any}(:y => [5.0, 6.1875, 7.638662109375, 9.402454739665746, 11.532053036753526, 14.082595677835666, 17.107445844731092, 20.65264554758785, 24.74947751419906, 29.405505299684215  …  99.99999998000396, 99.99999998500297, 99.99999998875222, 99.99999999156417, 99.99999999367313, 99.99999999525485, 99.99999999644115, 99.99999999733086, 99.99999999799815, 99.99999999849861], :x => [0.0, 1.0, 2.0, 3.0, 4.0, 5.0, 6.0, 7.0, 8.0, 9.0  …  91.0, 92.0, 93.0, 94.0, 95.0, 96.0, 97.0, 98.0, 99.0, 100.0]), Gadfly.StatisticElement[], Gadfly.Geom.LineGeometry(Gadfly.Stat.Identity(), false, 2, Symbol(\"\")), Gadfly.Theme(LCHab{Float32}(70.0f0,60.0f0,240.0f0), 0.7mm, 0.45mm, 1.8mm, Gadfly.Scale.default_discrete_sizes, Gadfly.Scale.default_continuous_sizes, Gadfly.Scale.default_discrete_colors, Function[Compose.circle, Gadfly.Shape.square, Gadfly.Shape.diamond, Gadfly.Shape.cross, Gadfly.Shape.xcross, Gadfly.Shape.utriangle, Gadfly.Shape.dtriangle, Gadfly.Shape.star1, Gadfly.Shape.star2, Gadfly.Shape.hexagon, Gadfly.Shape.octagon, Gadfly.Shape.hline, Gadfly.Shape.vline, Gadfly.Shape.ltriangle, Gadfly.Shape.rtriangle], 0.3mm, [:solid, :dash, :dot, :dashdot, :dashdotdot, :ldash, :ldashdash, :ldashdot, :ldashdashdot], [1.0, 0.9, 0.8, 0.7, 0.6, 0.5, 0.4, 0.3, 0.2, 0.1, 0.0], nothing, nothing, 0.3mm, 0.0, RGB{N0f8}(1.0,1.0,1.0), Measures.AbsoluteLength[5.0mm, 5.0mm, 5.0mm, 0.0mm], RGB{N0f8}(0.816,0.816,0.878), Measures.AbsoluteLength[0.5mm, 0.5mm], RGB{N0f8}(0.627,0.627,0.627), 0.2mm, 0, \"'PT Sans Caption','Helvetica Neue','Helvetica',sans-serif\", 2.822222222222222mm, RGB{N0f8}(0.424,0.376,0.42), \"'PT Sans','Helvetica Neue','Helvetica',sans-serif\", 3.5277777777777777mm, RGB{N0f8}(0.337,0.29,0.333), \"'PT Sans Caption','Helvetica Neue','Helvetica',sans-serif\", 2.822222222222222mm, RGB{N0f8}(0.298,0.251,0.294), \"'PT Sans','Helvetica Neue','Helvetica',sans-serif\", 3.175mm, RGB{N0f8}(0.212,0.165,0.208), \"'PT Sans','Helvetica Neue','Helvetica',sans-serif\", 2.822222222222222mm, RGB{N0f8}(0.298,0.251,0.294), 40, -0.05mm, 1.0mm, 3.0mm, Gadfly.default_stroke_color, 0.3mm, Cropbox.var\"#603#612\"(), Gadfly.default_continuous_highlight_color, Gadfly.default_lowlight_color, Gadfly.default_middle_color, 0.6mm, :left, :square, nothing, nothing, nothing, :right, nothing, 2.0mm, 1000, 10.0, 0.5, 0.2, 1.0mm, 4, Gadfly.Scale.DiscreteColorScale(Gadfly.Scale.default_discrete_colors, nothing, nothing, true), Gadfly.Scale.ContinuousColorScale(Gadfly.Scale.var\"#73#77\"{Int64, Int64, Int64, Int64, Float64, Int64}(100, 40, 260, 10, 1.5, 70), Gadfly.Scale.ContinuousScaleTransform(identity, identity, Gadfly.Scale.identity_formatter), nothing, nothing)), 1)], nothing, Data(\n",
       "  titles=Dict{Symbol, AbstractString}()\n",
       ")\n",
       ", Gadfly.ScaleElement[], Gadfly.StatisticElement[], Gadfly.Coord.Cartesian([:x, :xmin, :xmax, :xintercept], [:y, :ymin, :ymax, :yintercept, :middle, :lower_hinge, :upper_hinge, :lower_fence, :upper_fence, :outliers], 0.0, 100.0, 0, 200, false, false, false, nothing, false), Gadfly.GuideElement[Gadfly.Guide.Title(\"\"), Gadfly.Guide.XLabel(\"t\", :auto), Gadfly.Guide.YLabel(\"W\", :auto)], Gadfly.Theme(LCHab{Float32}(70.0f0,60.0f0,240.0f0), 0.7mm, 0.45mm, 1.8mm, Gadfly.Scale.default_discrete_sizes, Gadfly.Scale.default_continuous_sizes, Gadfly.Scale.default_discrete_colors, Function[Compose.circle, Gadfly.Shape.square, Gadfly.Shape.diamond, Gadfly.Shape.cross, Gadfly.Shape.xcross, Gadfly.Shape.utriangle, Gadfly.Shape.dtriangle, Gadfly.Shape.star1, Gadfly.Shape.star2, Gadfly.Shape.hexagon, Gadfly.Shape.octagon, Gadfly.Shape.hline, Gadfly.Shape.vline, Gadfly.Shape.ltriangle, Gadfly.Shape.rtriangle], 0.3mm, [:solid, :dash, :dot, :dashdot, :dashdotdot, :ldash, :ldashdash, :ldashdot, :ldashdashdot], [1.0, 0.9, 0.8, 0.7, 0.6, 0.5, 0.4, 0.3, 0.2, 0.1, 0.0], nothing, nothing, 0.3mm, 0.0, RGB{N0f8}(1.0,1.0,1.0), Measures.AbsoluteLength[5.0mm, 5.0mm, 5.0mm, 0.0mm], RGB{N0f8}(0.816,0.816,0.878), Measures.AbsoluteLength[0.5mm, 0.5mm], RGB{N0f8}(0.627,0.627,0.627), 0.2mm, 0, \"'PT Sans Caption','Helvetica Neue','Helvetica',sans-serif\", 2.822222222222222mm, RGB{N0f8}(0.424,0.376,0.42), \"'PT Sans','Helvetica Neue','Helvetica',sans-serif\", 3.5277777777777777mm, RGB{N0f8}(0.337,0.29,0.333), \"'PT Sans Caption','Helvetica Neue','Helvetica',sans-serif\", 2.822222222222222mm, RGB{N0f8}(0.298,0.251,0.294), \"'PT Sans','Helvetica Neue','Helvetica',sans-serif\", 3.175mm, RGB{N0f8}(0.212,0.165,0.208), \"'PT Sans','Helvetica Neue','Helvetica',sans-serif\", 2.822222222222222mm, RGB{N0f8}(0.298,0.251,0.294), 40, -0.05mm, 1.0mm, 3.0mm, Gadfly.default_stroke_color, 0.3mm, Cropbox.var\"#603#612\"(), Gadfly.default_continuous_highlight_color, Gadfly.default_lowlight_color, Gadfly.default_middle_color, 0.6mm, :left, :square, nothing, nothing, nothing, :right, nothing, 2.0mm, 1000, 10.0, 0.5, 0.2, 1.0mm, 4, Gadfly.Scale.DiscreteColorScale(Gadfly.Scale.default_discrete_colors, nothing, nothing, true), Gadfly.Scale.ContinuousColorScale(Gadfly.Scale.var\"#73#77\"{Int64, Int64, Int64, Int64, Float64, Int64}(100, 40, 260, 10, 1.5, 70), Gadfly.Scale.ContinuousScaleTransform(identity, identity, Gadfly.Scale.identity_formatter), nothing, nothing)), Dict{Symbol, Any}()))], Dict{Symbol, Any}(:style => Dict(\"display\" => \"flex\", \"flex-direction\" => \"column\")))"
      ]
     },
     "execution_count": 29,
     "metadata": {
      "@webio": {
       "kernelId": "a151eabc-a42f-40a5-845a-50f8469e74ba"
      }
     },
     "output_type": "execute_result"
    }
   ],
   "source": [
    "manipulate(Logi, :t, :W;\n",
    "    parameters = Logi => (;\n",
    "        :μ  => 0:0.01:0.5,\n",
    "        :W0 => 0:0.1:10,\n",
    "        :Wf => 10:10:200,\n",
    "    ),\n",
    "    stop = 100,\n",
    "    kind = :line,\n",
    "    ylim = (0, 200),\n",
    ")"
   ]
  },
  {
   "cell_type": "markdown",
   "metadata": {},
   "source": [
    "## 1.4. Gompertz Growth Equation\n",
    "\n",
    "- Eq\n",
    "\n",
    "$$\n",
    "\\begin{align}\n",
    "\\frac{dW}{dt} &= \\mu W \\\\\n",
    "\\frac{d\\mu}{dt} &= -D \\mu\n",
    "\\end{align}\n",
    "$$\n",
    "\n",
    "- Table\n",
    "\n",
    "| Symbol | Value | Units | Description |\n",
    "| :- | :- | :- | :- |\n",
    "| $t$ | - | - | Time unit used in the model |\n",
    "| $\\mu$ | - | - | Specific growth rate (no longer constant) |\n",
    "| $\\mu_0$ | 0.3 | - | Initial growth rate at time $t = 0$ |\n",
    "| $D$ | 0.03 | - | Decay in the specific growth rate |\n",
    "| $W_0$ | 1 | - | Dry mass at time $t = 0$ |\n",
    "| $W$ | - | - | Current dry mass |"
   ]
  },
  {
   "cell_type": "code",
   "execution_count": 34,
   "metadata": {
    "tags": []
   },
   "outputs": [
    {
     "data": {
      "text/plain": [
       "Gomp"
      ]
     },
     "execution_count": 34,
     "metadata": {},
     "output_type": "execute_result"
    }
   ],
   "source": [
    "@system Gomp(Controller) begin\n",
    "    t(context.clock.tick) ~ track\n",
    "    \n",
    "    D       => 0.06 ~ preserve(parameter)\n",
    "    μ0      => 0.3  ~ preserve(parameter)\n",
    "\n",
    "    μ(D, μ) => -D*μ ~ accumulate(init = μ0)\n",
    "\n",
    "    W0      => 1   ~ preserve(parameter)\n",
    "\n",
    "    W(μ, W) => μ*W ~ accumulate(init = W0)\n",
    "end"
   ]
  },
  {
   "cell_type": "code",
   "execution_count": null,
   "metadata": {},
   "outputs": [],
   "source": [
    "# @system Gomp(Controller) begin\n",
    "#     t(context.clock.tick) ~ track\n",
    "    \n",
    "#     μ0 => 0.3 ~preserve(parameter)\n",
    "#     D => 0.03 ~preserve(parameter)\n",
    "#     W0 => 1 ~preserve(parameter)\n",
    "    \n",
    "#     μ(D, μ) => -D*μ ~accumulate(init = μ0)\n",
    "#     W(μ, W) => μ*W ~accumulate(init = W0)"
   ]
  },
  {
   "cell_type": "code",
   "execution_count": 35,
   "metadata": {
    "tags": []
   },
   "outputs": [
    {
     "data": {
      "text/html": [
       "<div><div style = \"float: left;\"><span>51×7 DataFrame</span></div><div style = \"float: right;\"><span style = \"font-style: italic;\">26 rows omitted</span></div><div style = \"clear: both;\"></div></div><div class = \"data-frame\" style = \"overflow-x: scroll;\"><table class = \"data-frame\" style = \"margin-bottom: 6px;\"><thead><tr class = \"header\"><th class = \"rowNumber\" style = \"font-weight: bold; text-align: right;\">Row</th><th style = \"text-align: left;\">time</th><th style = \"text-align: left;\">t</th><th style = \"text-align: left;\">D</th><th style = \"text-align: left;\">μ0</th><th style = \"text-align: left;\">μ</th><th style = \"text-align: left;\">W0</th><th style = \"text-align: left;\">W</th></tr><tr class = \"subheader headerLastRow\"><th class = \"rowNumber\" style = \"font-weight: bold; text-align: right;\"></th><th title = \"Unitful.Quantity{Float64, 𝐓, Unitful.FreeUnits{(hr,), 𝐓, nothing}}\" style = \"text-align: left;\">Quantity…</th><th title = \"Float64\" style = \"text-align: left;\">Float64</th><th title = \"Float64\" style = \"text-align: left;\">Float64</th><th title = \"Float64\" style = \"text-align: left;\">Float64</th><th title = \"Float64\" style = \"text-align: left;\">Float64</th><th title = \"Float64\" style = \"text-align: left;\">Float64</th><th title = \"Float64\" style = \"text-align: left;\">Float64</th></tr></thead><tbody><tr><td class = \"rowNumber\" style = \"font-weight: bold; text-align: right;\">1</td><td style = \"text-align: right;\">0.0 hr</td><td style = \"text-align: right;\">0.0</td><td style = \"text-align: right;\">0.06</td><td style = \"text-align: right;\">0.3</td><td style = \"text-align: right;\">0.3</td><td style = \"text-align: right;\">1.0</td><td style = \"text-align: right;\">1.0</td></tr><tr><td class = \"rowNumber\" style = \"font-weight: bold; text-align: right;\">2</td><td style = \"text-align: right;\">1.0 hr</td><td style = \"text-align: right;\">1.0</td><td style = \"text-align: right;\">0.06</td><td style = \"text-align: right;\">0.3</td><td style = \"text-align: right;\">0.282</td><td style = \"text-align: right;\">1.0</td><td style = \"text-align: right;\">1.3</td></tr><tr><td class = \"rowNumber\" style = \"font-weight: bold; text-align: right;\">3</td><td style = \"text-align: right;\">2.0 hr</td><td style = \"text-align: right;\">2.0</td><td style = \"text-align: right;\">0.06</td><td style = \"text-align: right;\">0.3</td><td style = \"text-align: right;\">0.26508</td><td style = \"text-align: right;\">1.0</td><td style = \"text-align: right;\">1.6666</td></tr><tr><td class = \"rowNumber\" style = \"font-weight: bold; text-align: right;\">4</td><td style = \"text-align: right;\">3.0 hr</td><td style = \"text-align: right;\">3.0</td><td style = \"text-align: right;\">0.06</td><td style = \"text-align: right;\">0.3</td><td style = \"text-align: right;\">0.249175</td><td style = \"text-align: right;\">1.0</td><td style = \"text-align: right;\">2.10838</td></tr><tr><td class = \"rowNumber\" style = \"font-weight: bold; text-align: right;\">5</td><td style = \"text-align: right;\">4.0 hr</td><td style = \"text-align: right;\">4.0</td><td style = \"text-align: right;\">0.06</td><td style = \"text-align: right;\">0.3</td><td style = \"text-align: right;\">0.234225</td><td style = \"text-align: right;\">1.0</td><td style = \"text-align: right;\">2.63374</td></tr><tr><td class = \"rowNumber\" style = \"font-weight: bold; text-align: right;\">6</td><td style = \"text-align: right;\">5.0 hr</td><td style = \"text-align: right;\">5.0</td><td style = \"text-align: right;\">0.06</td><td style = \"text-align: right;\">0.3</td><td style = \"text-align: right;\">0.220171</td><td style = \"text-align: right;\">1.0</td><td style = \"text-align: right;\">3.25063</td></tr><tr><td class = \"rowNumber\" style = \"font-weight: bold; text-align: right;\">7</td><td style = \"text-align: right;\">6.0 hr</td><td style = \"text-align: right;\">6.0</td><td style = \"text-align: right;\">0.06</td><td style = \"text-align: right;\">0.3</td><td style = \"text-align: right;\">0.206961</td><td style = \"text-align: right;\">1.0</td><td style = \"text-align: right;\">3.96632</td></tr><tr><td class = \"rowNumber\" style = \"font-weight: bold; text-align: right;\">8</td><td style = \"text-align: right;\">7.0 hr</td><td style = \"text-align: right;\">7.0</td><td style = \"text-align: right;\">0.06</td><td style = \"text-align: right;\">0.3</td><td style = \"text-align: right;\">0.194543</td><td style = \"text-align: right;\">1.0</td><td style = \"text-align: right;\">4.78719</td></tr><tr><td class = \"rowNumber\" style = \"font-weight: bold; text-align: right;\">9</td><td style = \"text-align: right;\">8.0 hr</td><td style = \"text-align: right;\">8.0</td><td style = \"text-align: right;\">0.06</td><td style = \"text-align: right;\">0.3</td><td style = \"text-align: right;\">0.182871</td><td style = \"text-align: right;\">1.0</td><td style = \"text-align: right;\">5.71851</td></tr><tr><td class = \"rowNumber\" style = \"font-weight: bold; text-align: right;\">10</td><td style = \"text-align: right;\">9.0 hr</td><td style = \"text-align: right;\">9.0</td><td style = \"text-align: right;\">0.06</td><td style = \"text-align: right;\">0.3</td><td style = \"text-align: right;\">0.171898</td><td style = \"text-align: right;\">1.0</td><td style = \"text-align: right;\">6.76426</td></tr><tr><td class = \"rowNumber\" style = \"font-weight: bold; text-align: right;\">11</td><td style = \"text-align: right;\">10.0 hr</td><td style = \"text-align: right;\">10.0</td><td style = \"text-align: right;\">0.06</td><td style = \"text-align: right;\">0.3</td><td style = \"text-align: right;\">0.161585</td><td style = \"text-align: right;\">1.0</td><td style = \"text-align: right;\">7.92702</td></tr><tr><td class = \"rowNumber\" style = \"font-weight: bold; text-align: right;\">12</td><td style = \"text-align: right;\">11.0 hr</td><td style = \"text-align: right;\">11.0</td><td style = \"text-align: right;\">0.06</td><td style = \"text-align: right;\">0.3</td><td style = \"text-align: right;\">0.151889</td><td style = \"text-align: right;\">1.0</td><td style = \"text-align: right;\">9.20791</td></tr><tr><td class = \"rowNumber\" style = \"font-weight: bold; text-align: right;\">13</td><td style = \"text-align: right;\">12.0 hr</td><td style = \"text-align: right;\">12.0</td><td style = \"text-align: right;\">0.06</td><td style = \"text-align: right;\">0.3</td><td style = \"text-align: right;\">0.142776</td><td style = \"text-align: right;\">1.0</td><td style = \"text-align: right;\">10.6065</td></tr><tr><td style = \"text-align: right;\">&vellip;</td><td style = \"text-align: right;\">&vellip;</td><td style = \"text-align: right;\">&vellip;</td><td style = \"text-align: right;\">&vellip;</td><td style = \"text-align: right;\">&vellip;</td><td style = \"text-align: right;\">&vellip;</td><td style = \"text-align: right;\">&vellip;</td><td style = \"text-align: right;\">&vellip;</td></tr><tr><td class = \"rowNumber\" style = \"font-weight: bold; text-align: right;\">40</td><td style = \"text-align: right;\">39.0 hr</td><td style = \"text-align: right;\">39.0</td><td style = \"text-align: right;\">0.06</td><td style = \"text-align: right;\">0.3</td><td style = \"text-align: right;\">0.0268601</td><td style = \"text-align: right;\">1.0</td><td style = \"text-align: right;\">67.6393</td></tr><tr><td class = \"rowNumber\" style = \"font-weight: bold; text-align: right;\">41</td><td style = \"text-align: right;\">40.0 hr</td><td style = \"text-align: right;\">40.0</td><td style = \"text-align: right;\">0.06</td><td style = \"text-align: right;\">0.3</td><td style = \"text-align: right;\">0.0252485</td><td style = \"text-align: right;\">1.0</td><td style = \"text-align: right;\">69.4561</td></tr><tr><td class = \"rowNumber\" style = \"font-weight: bold; text-align: right;\">42</td><td style = \"text-align: right;\">41.0 hr</td><td style = \"text-align: right;\">41.0</td><td style = \"text-align: right;\">0.06</td><td style = \"text-align: right;\">0.3</td><td style = \"text-align: right;\">0.0237336</td><td style = \"text-align: right;\">1.0</td><td style = \"text-align: right;\">71.2098</td></tr><tr><td class = \"rowNumber\" style = \"font-weight: bold; text-align: right;\">43</td><td style = \"text-align: right;\">42.0 hr</td><td style = \"text-align: right;\">42.0</td><td style = \"text-align: right;\">0.06</td><td style = \"text-align: right;\">0.3</td><td style = \"text-align: right;\">0.0223096</td><td style = \"text-align: right;\">1.0</td><td style = \"text-align: right;\">72.8999</td></tr><tr><td class = \"rowNumber\" style = \"font-weight: bold; text-align: right;\">44</td><td style = \"text-align: right;\">43.0 hr</td><td style = \"text-align: right;\">43.0</td><td style = \"text-align: right;\">0.06</td><td style = \"text-align: right;\">0.3</td><td style = \"text-align: right;\">0.020971</td><td style = \"text-align: right;\">1.0</td><td style = \"text-align: right;\">74.5262</td></tr><tr><td class = \"rowNumber\" style = \"font-weight: bold; text-align: right;\">45</td><td style = \"text-align: right;\">44.0 hr</td><td style = \"text-align: right;\">44.0</td><td style = \"text-align: right;\">0.06</td><td style = \"text-align: right;\">0.3</td><td style = \"text-align: right;\">0.0197127</td><td style = \"text-align: right;\">1.0</td><td style = \"text-align: right;\">76.0891</td></tr><tr><td class = \"rowNumber\" style = \"font-weight: bold; text-align: right;\">46</td><td style = \"text-align: right;\">45.0 hr</td><td style = \"text-align: right;\">45.0</td><td style = \"text-align: right;\">0.06</td><td style = \"text-align: right;\">0.3</td><td style = \"text-align: right;\">0.01853</td><td style = \"text-align: right;\">1.0</td><td style = \"text-align: right;\">77.589</td></tr><tr><td class = \"rowNumber\" style = \"font-weight: bold; text-align: right;\">47</td><td style = \"text-align: right;\">46.0 hr</td><td style = \"text-align: right;\">46.0</td><td style = \"text-align: right;\">0.06</td><td style = \"text-align: right;\">0.3</td><td style = \"text-align: right;\">0.0174182</td><td style = \"text-align: right;\">1.0</td><td style = \"text-align: right;\">79.0268</td></tr><tr><td class = \"rowNumber\" style = \"font-weight: bold; text-align: right;\">48</td><td style = \"text-align: right;\">47.0 hr</td><td style = \"text-align: right;\">47.0</td><td style = \"text-align: right;\">0.06</td><td style = \"text-align: right;\">0.3</td><td style = \"text-align: right;\">0.0163731</td><td style = \"text-align: right;\">1.0</td><td style = \"text-align: right;\">80.4033</td></tr><tr><td class = \"rowNumber\" style = \"font-weight: bold; text-align: right;\">49</td><td style = \"text-align: right;\">48.0 hr</td><td style = \"text-align: right;\">48.0</td><td style = \"text-align: right;\">0.06</td><td style = \"text-align: right;\">0.3</td><td style = \"text-align: right;\">0.0153907</td><td style = \"text-align: right;\">1.0</td><td style = \"text-align: right;\">81.7197</td></tr><tr><td class = \"rowNumber\" style = \"font-weight: bold; text-align: right;\">50</td><td style = \"text-align: right;\">49.0 hr</td><td style = \"text-align: right;\">49.0</td><td style = \"text-align: right;\">0.06</td><td style = \"text-align: right;\">0.3</td><td style = \"text-align: right;\">0.0144673</td><td style = \"text-align: right;\">1.0</td><td style = \"text-align: right;\">82.9774</td></tr><tr><td class = \"rowNumber\" style = \"font-weight: bold; text-align: right;\">51</td><td style = \"text-align: right;\">50.0 hr</td><td style = \"text-align: right;\">50.0</td><td style = \"text-align: right;\">0.06</td><td style = \"text-align: right;\">0.3</td><td style = \"text-align: right;\">0.0135992</td><td style = \"text-align: right;\">1.0</td><td style = \"text-align: right;\">84.1779</td></tr></tbody></table></div>"
      ],
      "text/latex": [
       "\\begin{tabular}{r|ccccccc}\n",
       "\t& time & t & D & μ0 & μ & W0 & W\\\\\n",
       "\t\\hline\n",
       "\t& Quantity… & Float64 & Float64 & Float64 & Float64 & Float64 & Float64\\\\\n",
       "\t\\hline\n",
       "\t1 & 0.0 hr & 0.0 & 0.06 & 0.3 & 0.3 & 1.0 & 1.0 \\\\\n",
       "\t2 & 1.0 hr & 1.0 & 0.06 & 0.3 & 0.282 & 1.0 & 1.3 \\\\\n",
       "\t3 & 2.0 hr & 2.0 & 0.06 & 0.3 & 0.26508 & 1.0 & 1.6666 \\\\\n",
       "\t4 & 3.0 hr & 3.0 & 0.06 & 0.3 & 0.249175 & 1.0 & 2.10838 \\\\\n",
       "\t5 & 4.0 hr & 4.0 & 0.06 & 0.3 & 0.234225 & 1.0 & 2.63374 \\\\\n",
       "\t6 & 5.0 hr & 5.0 & 0.06 & 0.3 & 0.220171 & 1.0 & 3.25063 \\\\\n",
       "\t7 & 6.0 hr & 6.0 & 0.06 & 0.3 & 0.206961 & 1.0 & 3.96632 \\\\\n",
       "\t8 & 7.0 hr & 7.0 & 0.06 & 0.3 & 0.194543 & 1.0 & 4.78719 \\\\\n",
       "\t9 & 8.0 hr & 8.0 & 0.06 & 0.3 & 0.182871 & 1.0 & 5.71851 \\\\\n",
       "\t10 & 9.0 hr & 9.0 & 0.06 & 0.3 & 0.171898 & 1.0 & 6.76426 \\\\\n",
       "\t11 & 10.0 hr & 10.0 & 0.06 & 0.3 & 0.161585 & 1.0 & 7.92702 \\\\\n",
       "\t12 & 11.0 hr & 11.0 & 0.06 & 0.3 & 0.151889 & 1.0 & 9.20791 \\\\\n",
       "\t13 & 12.0 hr & 12.0 & 0.06 & 0.3 & 0.142776 & 1.0 & 10.6065 \\\\\n",
       "\t14 & 13.0 hr & 13.0 & 0.06 & 0.3 & 0.13421 & 1.0 & 12.1208 \\\\\n",
       "\t15 & 14.0 hr & 14.0 & 0.06 & 0.3 & 0.126157 & 1.0 & 13.7476 \\\\\n",
       "\t16 & 15.0 hr & 15.0 & 0.06 & 0.3 & 0.118588 & 1.0 & 15.4819 \\\\\n",
       "\t17 & 16.0 hr & 16.0 & 0.06 & 0.3 & 0.111472 & 1.0 & 17.3179 \\\\\n",
       "\t18 & 17.0 hr & 17.0 & 0.06 & 0.3 & 0.104784 & 1.0 & 19.2484 \\\\\n",
       "\t19 & 18.0 hr & 18.0 & 0.06 & 0.3 & 0.0984969 & 1.0 & 21.2653 \\\\\n",
       "\t20 & 19.0 hr & 19.0 & 0.06 & 0.3 & 0.0925871 & 1.0 & 23.3598 \\\\\n",
       "\t21 & 20.0 hr & 20.0 & 0.06 & 0.3 & 0.0870319 & 1.0 & 25.5227 \\\\\n",
       "\t22 & 21.0 hr & 21.0 & 0.06 & 0.3 & 0.08181 & 1.0 & 27.7439 \\\\\n",
       "\t23 & 22.0 hr & 22.0 & 0.06 & 0.3 & 0.0769014 & 1.0 & 30.0137 \\\\\n",
       "\t24 & 23.0 hr & 23.0 & 0.06 & 0.3 & 0.0722873 & 1.0 & 32.3218 \\\\\n",
       "\t25 & 24.0 hr & 24.0 & 0.06 & 0.3 & 0.06795 & 1.0 & 34.6582 \\\\\n",
       "\t26 & 25.0 hr & 25.0 & 0.06 & 0.3 & 0.063873 & 1.0 & 37.0132 \\\\\n",
       "\t27 & 26.0 hr & 26.0 & 0.06 & 0.3 & 0.0600407 & 1.0 & 39.3774 \\\\\n",
       "\t28 & 27.0 hr & 27.0 & 0.06 & 0.3 & 0.0564382 & 1.0 & 41.7416 \\\\\n",
       "\t29 & 28.0 hr & 28.0 & 0.06 & 0.3 & 0.0530519 & 1.0 & 44.0975 \\\\\n",
       "\t30 & 29.0 hr & 29.0 & 0.06 & 0.3 & 0.0498688 & 1.0 & 46.4369 \\\\\n",
       "\t$\\dots$ & $\\dots$ & $\\dots$ & $\\dots$ & $\\dots$ & $\\dots$ & $\\dots$ & $\\dots$ \\\\\n",
       "\\end{tabular}\n"
      ],
      "text/plain": [
       "\u001b[1m51×7 DataFrame\n",
       "\u001b[1m Row │\u001b[1m time      \u001b[1m t       \u001b[1m D       \u001b[1m μ0      \u001b[1m μ         \u001b[1m W0      \u001b[1m W\n",
       "     │\u001b[90m Quantity… \u001b[90m Float64 \u001b[90m Float64 \u001b[90m Float64 \u001b[90m Float64   \u001b[90m Float64 \u001b[90m Float64\n",
       "─────┼────────────────────────────────────────────────────────────────────\n",
       "   1 │    0.0 hr      0.0     0.06      0.3  0.3            1.0   1.0\n",
       "   2 │    1.0 hr      1.0     0.06      0.3  0.282          1.0   1.3\n",
       "   3 │    2.0 hr      2.0     0.06      0.3  0.26508        1.0   1.6666\n",
       "   4 │    3.0 hr      3.0     0.06      0.3  0.249175       1.0   2.10838\n",
       "   5 │    4.0 hr      4.0     0.06      0.3  0.234225       1.0   2.63374\n",
       "   6 │    5.0 hr      5.0     0.06      0.3  0.220171       1.0   3.25063\n",
       "   7 │    6.0 hr      6.0     0.06      0.3  0.206961       1.0   3.96632\n",
       "   8 │    7.0 hr      7.0     0.06      0.3  0.194543       1.0   4.78719\n",
       "   9 │    8.0 hr      8.0     0.06      0.3  0.182871       1.0   5.71851\n",
       "  10 │    9.0 hr      9.0     0.06      0.3  0.171898       1.0   6.76426\n",
       "  11 │   10.0 hr     10.0     0.06      0.3  0.161585       1.0   7.92702\n",
       "  ⋮  │     ⋮         ⋮        ⋮        ⋮         ⋮         ⋮        ⋮\n",
       "  42 │   41.0 hr     41.0     0.06      0.3  0.0237336      1.0  71.2098\n",
       "  43 │   42.0 hr     42.0     0.06      0.3  0.0223096      1.0  72.8999\n",
       "  44 │   43.0 hr     43.0     0.06      0.3  0.020971       1.0  74.5262\n",
       "  45 │   44.0 hr     44.0     0.06      0.3  0.0197127      1.0  76.0891\n",
       "  46 │   45.0 hr     45.0     0.06      0.3  0.01853        1.0  77.589\n",
       "  47 │   46.0 hr     46.0     0.06      0.3  0.0174182      1.0  79.0268\n",
       "  48 │   47.0 hr     47.0     0.06      0.3  0.0163731      1.0  80.4033\n",
       "  49 │   48.0 hr     48.0     0.06      0.3  0.0153907      1.0  81.7197\n",
       "  50 │   49.0 hr     49.0     0.06      0.3  0.0144673      1.0  82.9774\n",
       "  51 │   50.0 hr     50.0     0.06      0.3  0.0135992      1.0  84.1779\n",
       "\u001b[36m                                                           30 rows omitted"
      ]
     },
     "execution_count": 35,
     "metadata": {},
     "output_type": "execute_result"
    }
   ],
   "source": [
    "r14 = simulate(Gomp, stop = 50)"
   ]
  },
  {
   "cell_type": "code",
   "execution_count": 37,
   "metadata": {
    "tags": []
   },
   "outputs": [
    {
     "data": {
      "image/svg+xml": [
       "<?xml version=\"1.0\" encoding=\"UTF-8\" standalone=\"no\"?>\n",
       "<!DOCTYPE svg PUBLIC \"-//W3C//DTD SVG 1.1//EN\"\n",
       " \"http://www.w3.org/Graphics/SVG/1.1/DTD/svg11.dtd\">\n",
       "<!-- Generated by graphviz version 2.50.0 (20211204.2007)\n",
       " -->\n",
       "<!-- Pages: 1 -->\n",
       "<svg width=\"403pt\" height=\"162pt\"\n",
       " viewBox=\"0.00 0.00 403.33 162.00\" xmlns=\"http://www.w3.org/2000/svg\" xmlns:xlink=\"http://www.w3.org/1999/xlink\">\n",
       "<g id=\"graph0\" class=\"graph\" transform=\"scale(1 1) rotate(0) translate(4 158)\">\n",
       "<polygon fill=\"white\" stroke=\"transparent\" points=\"-4,4 -4,-158 399.33,-158 399.33,4 -4,4\"/>\n",
       "<!-- 1 -->\n",
       "<g id=\"node1\" class=\"node\">\n",
       "<title>1</title>\n",
       "<text text-anchor=\"middle\" x=\"206\" y=\"-116.8\" font-family=\"Courier,monospace\" font-size=\"9.00\">∘context</text>\n",
       "</g>\n",
       "<!-- 2 -->\n",
       "<g id=\"node2\" class=\"node\">\n",
       "<title>2</title>\n",
       "<text text-anchor=\"middle\" x=\"206\" y=\"-88.8\" font-family=\"Courier,monospace\" font-size=\"9.00\">context</text>\n",
       "</g>\n",
       "<!-- 1&#45;&gt;2 -->\n",
       "<g id=\"edge1\" class=\"edge\">\n",
       "<title>1&#45;&gt;2</title>\n",
       "<path fill=\"none\" stroke=\"black\" stroke-width=\"0.2\" d=\"M206,-111.97C206,-108.53 206,-104.16 206,-100.39\"/>\n",
       "<polygon fill=\"black\" stroke=\"black\" stroke-width=\"0.2\" points=\"206.7,-100.36 206,-98.36 205.3,-100.36 206.7,-100.36\"/>\n",
       "</g>\n",
       "<!-- 3 -->\n",
       "<g id=\"node3\" class=\"node\">\n",
       "<title>3</title>\n",
       "<text text-anchor=\"middle\" x=\"194\" y=\"-4.8\" font-family=\"Courier,monospace\" font-size=\"9.00\">⋆context</text>\n",
       "</g>\n",
       "<!-- 2&#45;&gt;3 -->\n",
       "<g id=\"edge2\" class=\"edge\">\n",
       "<title>2&#45;&gt;3</title>\n",
       "<path fill=\"none\" stroke=\"black\" stroke-width=\"0.2\" d=\"M209.16,-83.88C210.97,-80.01 213.07,-74.85 214,-70 215.18,-63.89 214.66,-62.19 214,-56 212.66,-43.34 213.08,-39.67 208,-28 206.17,-23.8 203.39,-19.59 200.79,-16.12\"/>\n",
       "<polygon fill=\"black\" stroke=\"black\" stroke-width=\"0.2\" points=\"201.15,-15.43 199.37,-14.27 200.04,-16.28 201.15,-15.43\"/>\n",
       "</g>\n",
       "<!-- 5 -->\n",
       "<g id=\"node5\" class=\"node\">\n",
       "<title>5</title>\n",
       "<text text-anchor=\"middle\" x=\"194\" y=\"-32.8\" font-family=\"Courier,monospace\" font-size=\"9.00\">t</text>\n",
       "</g>\n",
       "<!-- 2&#45;&gt;5 -->\n",
       "<g id=\"edge3\" class=\"edge\">\n",
       "<title>2&#45;&gt;5</title>\n",
       "<path fill=\"none\" stroke=\"black\" stroke-width=\"0.2\" d=\"M204.62,-83.81C202.45,-74.04 198.24,-55.06 195.82,-44.18\"/>\n",
       "<polygon fill=\"black\" stroke=\"black\" stroke-width=\"0.2\" points=\"196.48,-43.92 195.36,-42.12 195.11,-44.23 196.48,-43.92\"/>\n",
       "</g>\n",
       "<!-- 8 -->\n",
       "<g id=\"node8\" class=\"node\">\n",
       "<title>8</title>\n",
       "<text text-anchor=\"middle\" x=\"291\" y=\"-60.8\" font-family=\"Courier,monospace\" font-size=\"9.00\">μ</text>\n",
       "</g>\n",
       "<!-- 2&#45;&gt;8 -->\n",
       "<g id=\"edge4\" class=\"edge\">\n",
       "<title>2&#45;&gt;8</title>\n",
       "<path fill=\"none\" stroke=\"black\" stroke-width=\"0.2\" d=\"M225.71,-83.97C244.26,-78.3 271.02,-70.11 283.75,-66.22\"/>\n",
       "<polygon fill=\"black\" stroke=\"black\" stroke-width=\"0.2\" points=\"284.1,-66.84 285.81,-65.59 283.69,-65.5 284.1,-66.84\"/>\n",
       "</g>\n",
       "<!-- 9 -->\n",
       "<g id=\"node9\" class=\"node\">\n",
       "<title>9</title>\n",
       "<text text-anchor=\"middle\" x=\"343\" y=\"-32.8\" font-family=\"Courier,monospace\" font-size=\"9.00\">⋆μ</text>\n",
       "</g>\n",
       "<!-- 2&#45;&gt;9 -->\n",
       "<g id=\"edge5\" class=\"edge\">\n",
       "<title>2&#45;&gt;9</title>\n",
       "<path fill=\"none\" stroke=\"black\" stroke-width=\"0.2\" d=\"M226.74,-88.98C247.52,-87.24 279.92,-82.57 305,-70 317.91,-63.53 329.8,-51.5 336.72,-43.62\"/>\n",
       "<polygon fill=\"black\" stroke=\"black\" stroke-width=\"0.2\" points=\"337.26,-44.08 338.04,-42.11 336.2,-43.16 337.26,-44.08\"/>\n",
       "</g>\n",
       "<!-- 11 -->\n",
       "<g id=\"node11\" class=\"node\">\n",
       "<title>11</title>\n",
       "<text text-anchor=\"middle\" x=\"97\" y=\"-60.8\" font-family=\"Courier,monospace\" font-size=\"9.00\">W</text>\n",
       "</g>\n",
       "<!-- 2&#45;&gt;11 -->\n",
       "<g id=\"edge6\" class=\"edge\">\n",
       "<title>2&#45;&gt;11</title>\n",
       "<path fill=\"none\" stroke=\"black\" stroke-width=\"0.2\" d=\"M185.5,-85.11C160.81,-79.22 120.63,-69.64 104.27,-65.73\"/>\n",
       "<polygon fill=\"black\" stroke=\"black\" stroke-width=\"0.2\" points=\"104.14,-64.98 102.04,-65.2 103.82,-66.35 104.14,-64.98\"/>\n",
       "</g>\n",
       "<!-- 12 -->\n",
       "<g id=\"node12\" class=\"node\">\n",
       "<title>12</title>\n",
       "<text text-anchor=\"middle\" x=\"146\" y=\"-32.8\" font-family=\"Courier,monospace\" font-size=\"9.00\">⋆W</text>\n",
       "</g>\n",
       "<!-- 2&#45;&gt;12 -->\n",
       "<g id=\"edge7\" class=\"edge\">\n",
       "<title>2&#45;&gt;12</title>\n",
       "<path fill=\"none\" stroke=\"black\" stroke-width=\"0.2\" d=\"M199.12,-83.81C188.09,-73.88 166.47,-54.43 154.5,-43.65\"/>\n",
       "<polygon fill=\"black\" stroke=\"black\" stroke-width=\"0.2\" points=\"154.76,-42.94 152.8,-42.12 153.82,-43.98 154.76,-42.94\"/>\n",
       "</g>\n",
       "<!-- 4 -->\n",
       "<g id=\"node4\" class=\"node\">\n",
       "<title>4</title>\n",
       "<text text-anchor=\"middle\" x=\"206\" y=\"-144.8\" font-family=\"Courier,monospace\" font-size=\"9.00\">config</text>\n",
       "</g>\n",
       "<!-- 4&#45;&gt;1 -->\n",
       "<g id=\"edge8\" class=\"edge\">\n",
       "<title>4&#45;&gt;1</title>\n",
       "<path fill=\"none\" stroke=\"black\" stroke-width=\"0.2\" d=\"M206,-139.97C206,-136.53 206,-132.16 206,-128.39\"/>\n",
       "<polygon fill=\"black\" stroke=\"black\" stroke-width=\"0.2\" points=\"206.7,-128.36 206,-126.36 205.3,-128.36 206.7,-128.36\"/>\n",
       "</g>\n",
       "<!-- 4&#45;&gt;3 -->\n",
       "<g id=\"edge9\" class=\"edge\">\n",
       "<title>4&#45;&gt;3</title>\n",
       "<path fill=\"none\" stroke=\"black\" stroke-width=\"0.2\" d=\"M187.72,-145.11C137.3,-142.18 0,-130.64 0,-92 0,-92 0,-92 0,-62 0,-27.52 115.19,-14.11 168.05,-9.78\"/>\n",
       "<polygon fill=\"black\" stroke=\"black\" stroke-width=\"0.2\" points=\"168.27,-10.46 170.21,-9.6 168.16,-9.07 168.27,-10.46\"/>\n",
       "</g>\n",
       "<!-- 6 -->\n",
       "<g id=\"node6\" class=\"node\">\n",
       "<title>6</title>\n",
       "<text text-anchor=\"middle\" x=\"388\" y=\"-116.8\" font-family=\"Courier,monospace\" font-size=\"9.00\">D</text>\n",
       "</g>\n",
       "<!-- 4&#45;&gt;6 -->\n",
       "<g id=\"edge10\" class=\"edge\">\n",
       "<title>4&#45;&gt;6</title>\n",
       "<path fill=\"none\" stroke=\"black\" stroke-width=\"0.2\" d=\"M224.12,-143.41C263.3,-137.81 354.49,-124.79 380.79,-121.03\"/>\n",
       "<polygon fill=\"black\" stroke=\"black\" stroke-width=\"0.2\" points=\"380.97,-121.71 382.85,-120.74 380.77,-120.33 380.97,-121.71\"/>\n",
       "</g>\n",
       "<!-- 7 -->\n",
       "<g id=\"node7\" class=\"node\">\n",
       "<title>7</title>\n",
       "<text text-anchor=\"middle\" x=\"291\" y=\"-88.8\" font-family=\"Courier,monospace\" font-size=\"9.00\">μ0</text>\n",
       "</g>\n",
       "<!-- 4&#45;&gt;7 -->\n",
       "<g id=\"edge11\" class=\"edge\">\n",
       "<title>4&#45;&gt;7</title>\n",
       "<path fill=\"none\" stroke=\"black\" stroke-width=\"0.2\" d=\"M216.17,-139.96C222.72,-136.04 231.4,-130.78 239,-126 254.01,-116.55 271.2,-105.2 281.57,-98.3\"/>\n",
       "<polygon fill=\"black\" stroke=\"black\" stroke-width=\"0.2\" points=\"282.02,-98.84 283.3,-97.15 281.25,-97.68 282.02,-98.84\"/>\n",
       "</g>\n",
       "<!-- 10 -->\n",
       "<g id=\"node10\" class=\"node\">\n",
       "<title>10</title>\n",
       "<text text-anchor=\"middle\" x=\"97\" y=\"-88.8\" font-family=\"Courier,monospace\" font-size=\"9.00\">W0</text>\n",
       "</g>\n",
       "<!-- 4&#45;&gt;10 -->\n",
       "<g id=\"edge12\" class=\"edge\">\n",
       "<title>4&#45;&gt;10</title>\n",
       "<path fill=\"none\" stroke=\"black\" stroke-width=\"0.2\" d=\"M193.5,-139.81C171.39,-128.86 125.91,-106.32 106.32,-96.62\"/>\n",
       "<polygon fill=\"black\" stroke=\"black\" stroke-width=\"0.2\" points=\"106.61,-95.98 104.5,-95.72 105.98,-97.23 106.61,-95.98\"/>\n",
       "</g>\n",
       "<!-- 5&#45;&gt;3 -->\n",
       "<g id=\"edge13\" class=\"edge\">\n",
       "<title>5&#45;&gt;3</title>\n",
       "<path fill=\"none\" stroke=\"black\" stroke-width=\"0.2\" d=\"M194,-27.97C194,-24.53 194,-20.16 194,-16.39\"/>\n",
       "<polygon fill=\"black\" stroke=\"black\" stroke-width=\"0.2\" points=\"194.7,-16.36 194,-14.36 193.3,-16.36 194.7,-16.36\"/>\n",
       "</g>\n",
       "<!-- 6&#45;&gt;9 -->\n",
       "<g id=\"edge14\" class=\"edge\">\n",
       "<title>6&#45;&gt;9</title>\n",
       "<path fill=\"none\" stroke=\"black\" stroke-width=\"0.2\" d=\"M386.72,-111.74C384.11,-100.01 377.34,-74.27 365,-56 361.66,-51.06 356.86,-46.51 352.59,-43\"/>\n",
       "<polygon fill=\"black\" stroke=\"black\" stroke-width=\"0.2\" points=\"352.8,-42.26 350.8,-41.56 351.92,-43.36 352.8,-42.26\"/>\n",
       "</g>\n",
       "<!-- 7&#45;&gt;8 -->\n",
       "<g id=\"edge15\" class=\"edge\">\n",
       "<title>7&#45;&gt;8</title>\n",
       "<path fill=\"none\" stroke=\"black\" stroke-width=\"0.2\" d=\"M291,-83.97C291,-80.53 291,-76.16 291,-72.39\"/>\n",
       "<polygon fill=\"black\" stroke=\"black\" stroke-width=\"0.2\" points=\"291.7,-72.36 291,-70.36 290.3,-72.36 291.7,-72.36\"/>\n",
       "</g>\n",
       "<!-- 7&#45;&gt;9 -->\n",
       "<g id=\"edge16\" class=\"edge\">\n",
       "<title>7&#45;&gt;9</title>\n",
       "<path fill=\"none\" stroke=\"black\" stroke-width=\"0.2\" d=\"M298.77,-90.01C311.89,-89.57 338.15,-86.53 350,-70 355.5,-62.32 351.64,-51.3 347.82,-43.91\"/>\n",
       "<polygon fill=\"black\" stroke=\"black\" stroke-width=\"0.2\" points=\"348.42,-43.55 346.86,-42.11 347.19,-44.21 348.42,-43.55\"/>\n",
       "</g>\n",
       "<!-- 8&#45;&gt;3 -->\n",
       "<g id=\"edge17\" class=\"edge\">\n",
       "<title>8&#45;&gt;3</title>\n",
       "<path fill=\"none\" stroke=\"black\" stroke-width=\"0.2\" d=\"M286.2,-55.85C279.99,-48.28 268.49,-35.51 256,-28 244.91,-21.33 231.36,-16.63 219.75,-13.47\"/>\n",
       "<polygon fill=\"black\" stroke=\"black\" stroke-width=\"0.2\" points=\"219.87,-12.78 217.76,-12.94 219.51,-14.13 219.87,-12.78\"/>\n",
       "</g>\n",
       "<!-- 8&#45;&gt;9 -->\n",
       "<g id=\"edge18\" class=\"edge\">\n",
       "<title>8&#45;&gt;9</title>\n",
       "<path fill=\"none\" stroke=\"black\" stroke-width=\"0.2\" d=\"M296.18,-59.41C304.82,-55.09 322.33,-46.33 333.32,-40.84\"/>\n",
       "<polygon fill=\"black\" stroke=\"black\" stroke-width=\"0.2\" points=\"333.68,-41.44 335.16,-39.92 333.05,-40.19 333.68,-41.44\"/>\n",
       "</g>\n",
       "<!-- 8&#45;&gt;12 -->\n",
       "<g id=\"edge19\" class=\"edge\">\n",
       "<title>8&#45;&gt;12</title>\n",
       "<path fill=\"none\" stroke=\"black\" stroke-width=\"0.2\" d=\"M285.84,-61.07C264.64,-57.27 184.05,-42.82 155.83,-37.76\"/>\n",
       "<polygon fill=\"black\" stroke=\"black\" stroke-width=\"0.2\" points=\"155.67,-37.02 153.58,-37.36 155.42,-38.4 155.67,-37.02\"/>\n",
       "</g>\n",
       "<!-- 9&#45;&gt;3 -->\n",
       "<g id=\"edge20\" class=\"edge\">\n",
       "<title>9&#45;&gt;3</title>\n",
       "<path fill=\"none\" stroke=\"black\" stroke-width=\"0.2\" d=\"M335.41,-32.67C314.36,-29 254.54,-18.56 219.82,-12.5\"/>\n",
       "<polygon fill=\"black\" stroke=\"black\" stroke-width=\"0.2\" points=\"219.86,-11.8 217.77,-12.15 219.62,-13.18 219.86,-11.8\"/>\n",
       "</g>\n",
       "<!-- 10&#45;&gt;11 -->\n",
       "<g id=\"edge21\" class=\"edge\">\n",
       "<title>10&#45;&gt;11</title>\n",
       "<path fill=\"none\" stroke=\"black\" stroke-width=\"0.2\" d=\"M97,-83.97C97,-80.53 97,-76.16 97,-72.39\"/>\n",
       "<polygon fill=\"black\" stroke=\"black\" stroke-width=\"0.2\" points=\"97.7,-72.36 97,-70.36 96.3,-72.36 97.7,-72.36\"/>\n",
       "</g>\n",
       "<!-- 10&#45;&gt;12 -->\n",
       "<g id=\"edge22\" class=\"edge\">\n",
       "<title>10&#45;&gt;12</title>\n",
       "<path fill=\"none\" stroke=\"black\" stroke-width=\"0.2\" d=\"M90.93,-83.78C84.68,-76.59 76.67,-64.65 83,-56 95.27,-39.23 121.71,-36.18 136.13,-35.83\"/>\n",
       "<polygon fill=\"black\" stroke=\"black\" stroke-width=\"0.2\" points=\"136.18,-36.53 138.16,-35.79 136.15,-35.13 136.18,-36.53\"/>\n",
       "</g>\n",
       "<!-- 11&#45;&gt;3 -->\n",
       "<g id=\"edge23\" class=\"edge\">\n",
       "<title>11&#45;&gt;3</title>\n",
       "<path fill=\"none\" stroke=\"black\" stroke-width=\"0.2\" d=\"M101.44,-55.82C107.2,-48.21 117.95,-35.41 130,-28 141.62,-20.85 156.02,-16.05 168.21,-12.96\"/>\n",
       "<polygon fill=\"black\" stroke=\"black\" stroke-width=\"0.2\" points=\"168.53,-13.6 170.31,-12.43 168.2,-12.24 168.53,-13.6\"/>\n",
       "</g>\n",
       "<!-- 11&#45;&gt;12 -->\n",
       "<g id=\"edge24\" class=\"edge\">\n",
       "<title>11&#45;&gt;12</title>\n",
       "<path fill=\"none\" stroke=\"black\" stroke-width=\"0.2\" d=\"M102.24,-59.22C110.39,-54.89 126.21,-46.5 136.43,-41.08\"/>\n",
       "<polygon fill=\"black\" stroke=\"black\" stroke-width=\"0.2\" points=\"136.96,-41.59 138.4,-40.03 136.3,-40.35 136.96,-41.59\"/>\n",
       "</g>\n",
       "<!-- 12&#45;&gt;3 -->\n",
       "<g id=\"edge25\" class=\"edge\">\n",
       "<title>12&#45;&gt;3</title>\n",
       "<path fill=\"none\" stroke=\"black\" stroke-width=\"0.2\" d=\"M153.93,-29.71C161.19,-25.77 172.1,-19.86 180.7,-15.21\"/>\n",
       "<polygon fill=\"black\" stroke=\"black\" stroke-width=\"0.2\" points=\"181.4,-15.62 182.83,-14.05 180.74,-14.39 181.4,-15.62\"/>\n",
       "</g>\n",
       "</g>\n",
       "</svg>\n"
      ],
      "text/plain": [
       "\u001b[90m[\u001b[39m\u001b[94mconfig\u001b[39m\u001b[90m → \u001b[39m\u001b[94mW0\u001b[39m\u001b[90m → \u001b[39m\u001b[94mμ0\u001b[39m\u001b[90m → \u001b[39m\u001b[94mD\u001b[39m\u001b[90m → \u001b[39m\u001b[94m∘context\u001b[39m\u001b[90m → \u001b[39m\u001b[94mcontext\u001b[39m\u001b[90m → \u001b[39m\u001b[94mW\u001b[39m\u001b[90m → \u001b[39m\u001b[94mμ\u001b[39m\u001b[90m → \u001b[39m\u001b[94m⋆W\u001b[39m\u001b[90m → \u001b[39m\u001b[94m⋆μ\u001b[39m\u001b[90m → \u001b[39m\u001b[94mt\u001b[39m\u001b[90m → \u001b[39m\u001b[94m⋆context\u001b[39m\u001b[90m]\u001b[39m"
      ]
     },
     "execution_count": 37,
     "metadata": {},
     "output_type": "execute_result"
    }
   ],
   "source": [
    "Cropbox.dependency(Gomp)"
   ]
  },
  {
   "cell_type": "code",
   "execution_count": 38,
   "metadata": {
    "tags": []
   },
   "outputs": [
    {
     "data": {
      "image/svg+xml": [
       "<?xml version=\"1.0\" encoding=\"UTF-8\"?>\n",
       "<svg xmlns=\"http://www.w3.org/2000/svg\"\n",
       "     xmlns:xlink=\"http://www.w3.org/1999/xlink\"\n",
       "     xmlns:gadfly=\"http://www.gadflyjl.org/ns\"\n",
       "     version=\"1.2\"\n",
       "     width=\"141.42mm\" height=\"100mm\" viewBox=\"0 0 141.42 100\"\n",
       "     stroke=\"none\"\n",
       "     fill=\"#000000\"\n",
       "     stroke-width=\"0.3\"\n",
       "     font-size=\"3.88\"\n",
       ">\n",
       "<defs>\n",
       "  <marker id=\"arrow\" markerWidth=\"15\" markerHeight=\"7\" refX=\"5\" refY=\"3.5\" orient=\"auto\" markerUnits=\"strokeWidth\">\n",
       "    <path d=\"M0,0 L15,3.5 L0,7 z\" stroke=\"context-stroke\" fill=\"context-stroke\"/>\n",
       "  </marker>\n",
       "</defs>\n",
       "<g stroke=\"#000000\" stroke-opacity=\"0.000\" fill=\"#FFFFFF\" id=\"img-23811049-1\">\n",
       "  <g transform=\"translate(70.71,50)\">\n",
       "    <path d=\"M-70.71,-50 L70.71,-50 70.71,50 -70.71,50  z\" class=\"primitive\"/>\n",
       "  </g>\n",
       "</g>\n",
       "<g class=\"plotroot xscalable yscalable\" id=\"img-23811049-2\">\n",
       "  <g font-size=\"3.53\" font-family=\"'PT Sans','Helvetica Neue','Helvetica',sans-serif\" fill=\"#564A55\" stroke=\"#000000\" stroke-opacity=\"0.000\" id=\"img-23811049-3\">\n",
       "    <g transform=\"translate(70.37,93.72)\">\n",
       "      <g class=\"primitive\">\n",
       "        <text text-anchor=\"middle\" dy=\"0.6em\">t</text>\n",
       "      </g>\n",
       "    </g>\n",
       "  </g>\n",
       "  <g class=\"guide xlabels\" font-size=\"2.82\" font-family=\"'PT Sans Caption','Helvetica Neue','Helvetica',sans-serif\" fill=\"#6C606B\" id=\"img-23811049-4\">\n",
       "    <g transform=\"translate(13.02,87.04)\">\n",
       "      <g class=\"primitive\">\n",
       "        <text text-anchor=\"middle\" dy=\"0.6em\">0</text>\n",
       "      </g>\n",
       "    </g>\n",
       "    <g transform=\"translate(35.96,87.04)\">\n",
       "      <g class=\"primitive\">\n",
       "        <text text-anchor=\"middle\" dy=\"0.6em\">10</text>\n",
       "      </g>\n",
       "    </g>\n",
       "    <g transform=\"translate(58.9,87.04)\">\n",
       "      <g class=\"primitive\">\n",
       "        <text text-anchor=\"middle\" dy=\"0.6em\">20</text>\n",
       "      </g>\n",
       "    </g>\n",
       "    <g transform=\"translate(81.84,87.04)\">\n",
       "      <g class=\"primitive\">\n",
       "        <text text-anchor=\"middle\" dy=\"0.6em\">30</text>\n",
       "      </g>\n",
       "    </g>\n",
       "    <g transform=\"translate(104.78,87.04)\">\n",
       "      <g class=\"primitive\">\n",
       "        <text text-anchor=\"middle\" dy=\"0.6em\">40</text>\n",
       "      </g>\n",
       "    </g>\n",
       "    <g transform=\"translate(127.72,87.04)\">\n",
       "      <g class=\"primitive\">\n",
       "        <text text-anchor=\"middle\" dy=\"0.6em\">50</text>\n",
       "      </g>\n",
       "    </g>\n",
       "  </g>\n",
       "  <g class=\"guide colorkey\" id=\"img-23811049-5\">\n",
       "    <g fill=\"#4C404B\" font-size=\"2.82\" font-family=\"'PT Sans','Helvetica Neue','Helvetica',sans-serif\" id=\"img-23811049-6\">\n",
       "      <g transform=\"translate(134.35,47.75)\" id=\"img-23811049-7\">\n",
       "        <g class=\"primitive\">\n",
       "          <text dy=\"0.35em\">μ</text>\n",
       "        </g>\n",
       "      </g>\n",
       "    </g>\n",
       "    <g stroke-width=\"0.3\" id=\"img-23811049-8\">\n",
       "      <g stroke=\"#FFFFFF\" stroke-opacity=\"0.000\" fill-opacity=\"1\" fill=\"#00BFFF\" id=\"img-23811049-9\">\n",
       "        <g transform=\"translate(131.53,47.75)\" id=\"img-23811049-10\">\n",
       "          <circle cx=\"0\" cy=\"0\" r=\"0.7\" class=\"primitive\"/>\n",
       "        </g>\n",
       "      </g>\n",
       "    </g>\n",
       "    <g fill=\"#362A35\" font-size=\"3.18\" font-family=\"'PT Sans','Helvetica Neue','Helvetica',sans-serif\" stroke=\"#000000\" stroke-opacity=\"0.000\" id=\"img-23811049-11\">\n",
       "      <g transform=\"translate(130.72,44.44)\" id=\"img-23811049-12\">\n",
       "        <g class=\"primitive\">\n",
       "          <text dy=\"-0em\"></text>\n",
       "        </g>\n",
       "      </g>\n",
       "    </g>\n",
       "  </g>\n",
       "  <g clip-path=\"url(#img-23811049-13)\">\n",
       "    <g id=\"img-23811049-14\">\n",
       "      <g pointer-events=\"visible\" stroke-width=\"0.3\" fill=\"#000000\" fill-opacity=\"0.000\" stroke=\"#000000\" stroke-opacity=\"0.000\" class=\"guide background\" id=\"img-23811049-15\">\n",
       "        <g transform=\"translate(70.37,45.52)\" id=\"img-23811049-16\">\n",
       "          <path d=\"M-59.35,-40.52 L59.35,-40.52 59.35,40.52 -59.35,40.52  z\" class=\"primitive\"/>\n",
       "        </g>\n",
       "      </g>\n",
       "      <g class=\"guide ygridlines xfixed\" stroke-dasharray=\"0.5,0.5\" stroke-width=\"0.2\" stroke=\"#D0D0E0\" id=\"img-23811049-17\">\n",
       "        <g transform=\"translate(70.37,84.04)\" id=\"img-23811049-18\">\n",
       "          <path fill=\"none\" d=\"M-59.35,0 L59.35,0 \" class=\"primitive\"/>\n",
       "        </g>\n",
       "        <g transform=\"translate(70.37,45.52)\" id=\"img-23811049-19\">\n",
       "          <path fill=\"none\" d=\"M-59.35,0 L59.35,0 \" class=\"primitive\"/>\n",
       "        </g>\n",
       "        <g transform=\"translate(70.37,7)\" id=\"img-23811049-20\">\n",
       "          <path fill=\"none\" d=\"M-59.35,0 L59.35,0 \" class=\"primitive\"/>\n",
       "        </g>\n",
       "      </g>\n",
       "      <g class=\"guide xgridlines yfixed\" stroke-dasharray=\"0.5,0.5\" stroke-width=\"0.2\" stroke=\"#D0D0E0\" id=\"img-23811049-21\">\n",
       "        <g transform=\"translate(13.02,45.52)\" id=\"img-23811049-22\">\n",
       "          <path fill=\"none\" d=\"M0,-40.52 L0,40.52 \" class=\"primitive\"/>\n",
       "        </g>\n",
       "        <g transform=\"translate(35.96,45.52)\" id=\"img-23811049-23\">\n",
       "          <path fill=\"none\" d=\"M0,-40.52 L0,40.52 \" class=\"primitive\"/>\n",
       "        </g>\n",
       "        <g transform=\"translate(58.9,45.52)\" id=\"img-23811049-24\">\n",
       "          <path fill=\"none\" d=\"M0,-40.52 L0,40.52 \" class=\"primitive\"/>\n",
       "        </g>\n",
       "        <g transform=\"translate(81.84,45.52)\" id=\"img-23811049-25\">\n",
       "          <path fill=\"none\" d=\"M0,-40.52 L0,40.52 \" class=\"primitive\"/>\n",
       "        </g>\n",
       "        <g transform=\"translate(104.78,45.52)\" id=\"img-23811049-26\">\n",
       "          <path fill=\"none\" d=\"M0,-40.52 L0,40.52 \" class=\"primitive\"/>\n",
       "        </g>\n",
       "        <g transform=\"translate(127.72,45.52)\" id=\"img-23811049-27\">\n",
       "          <path fill=\"none\" d=\"M0,-40.52 L0,40.52 \" class=\"primitive\"/>\n",
       "        </g>\n",
       "      </g>\n",
       "      <g class=\"plotpanel\" id=\"img-23811049-28\">\n",
       "        <metadata>\n",
       "          <boundingbox value=\"11.019999999999996mm 5.0mm 118.70135623730951mm 81.04333333333334mm\"/>\n",
       "          <unitbox value=\"-0.8718292728213834 1.0259594167784363 51.74365854564277 -1.0519188335568728\"/>\n",
       "        </metadata>\n",
       "        <g stroke-width=\"0.3\" fill=\"#000000\" fill-opacity=\"0.000\" class=\"geometry\" id=\"img-23811049-29\">\n",
       "          <g class=\"color_LCHab{Float32}(70.0f0,60.0f0,240.0f0)\" stroke-dasharray=\"none\" stroke-opacity=\"1\" stroke=\"#00BFFF\" id=\"img-23811049-30\">\n",
       "            <g transform=\"translate(70.37,76.81)\" id=\"img-23811049-31\">\n",
       "              <path fill=\"none\" d=\"M-57.35,-15.88 L-55.06,-14.49 -52.76,-13.19 -50.47,-11.97 -48.17,-10.81 -45.88,-9.73 -43.59,-8.71 -41.29,-7.76 -39,-6.86 -36.7,-6.01 -34.41,-5.22 -32.12,-4.47 -29.82,-3.77 -27.53,-3.11 -25.23,-2.49 -22.94,-1.9 -20.65,-1.36 -18.35,-0.84 -16.06,-0.36 -13.76,0.1 -11.47,0.53 -9.18,0.93 -6.88,1.31 -4.59,1.66 -2.29,2 0,2.31 2.29,2.61 4.59,2.88 6.88,3.14 9.18,3.39 11.47,3.62 13.76,3.84 16.06,4.04 18.35,4.23 20.65,4.41 22.94,4.58 25.23,4.74 27.53,4.89 29.82,5.03 32.12,5.16 34.41,5.29 36.7,5.4 39,5.51 41.29,5.62 43.59,5.71 45.88,5.8 48.17,5.89 50.47,5.97 52.76,6.05 55.06,6.12 57.35,6.18 \" class=\"primitive\"/>\n",
       "            </g>\n",
       "          </g>\n",
       "        </g>\n",
       "      </g>\n",
       "    </g>\n",
       "  </g>\n",
       "  <g class=\"guide ylabels\" font-size=\"2.82\" font-family=\"'PT Sans Caption','Helvetica Neue','Helvetica',sans-serif\" fill=\"#6C606B\" id=\"img-23811049-32\">\n",
       "    <g transform=\"translate(10.02,84.04)\" id=\"img-23811049-33\">\n",
       "      <g class=\"primitive\">\n",
       "        <text text-anchor=\"end\" dy=\"0.35em\">0.0</text>\n",
       "      </g>\n",
       "    </g>\n",
       "    <g transform=\"translate(10.02,45.52)\" id=\"img-23811049-34\">\n",
       "      <g class=\"primitive\">\n",
       "        <text text-anchor=\"end\" dy=\"0.35em\">0.5</text>\n",
       "      </g>\n",
       "    </g>\n",
       "    <g transform=\"translate(10.02,7)\" id=\"img-23811049-35\">\n",
       "      <g class=\"primitive\">\n",
       "        <text text-anchor=\"end\" dy=\"0.35em\">1.0</text>\n",
       "      </g>\n",
       "    </g>\n",
       "  </g>\n",
       "</g>\n",
       "<defs>\n",
       "  <clipPath id=\"img-23811049-13\">\n",
       "    <path d=\"M11.02,5 L129.72,5 129.72,86.04 11.02,86.04 \" />\n",
       "  </clipPath>\n",
       "</defs>\n",
       "</svg>\n"
      ],
      "text/html": [
       "<?xml version=\"1.0\" encoding=\"UTF-8\"?>\n",
       "<svg xmlns=\"http://www.w3.org/2000/svg\"\n",
       "     xmlns:xlink=\"http://www.w3.org/1999/xlink\"\n",
       "     xmlns:gadfly=\"http://www.gadflyjl.org/ns\"\n",
       "     version=\"1.2\"\n",
       "     width=\"141.42mm\" height=\"100mm\" viewBox=\"0 0 141.42 100\"\n",
       "     stroke=\"none\"\n",
       "     fill=\"#000000\"\n",
       "     stroke-width=\"0.3\"\n",
       "     font-size=\"3.88\"\n",
       ">\n",
       "<defs>\n",
       "  <marker id=\"arrow\" markerWidth=\"15\" markerHeight=\"7\" refX=\"5\" refY=\"3.5\" orient=\"auto\" markerUnits=\"strokeWidth\">\n",
       "    <path d=\"M0,0 L15,3.5 L0,7 z\" stroke=\"context-stroke\" fill=\"context-stroke\"/>\n",
       "  </marker>\n",
       "</defs>\n",
       "<g stroke=\"#000000\" stroke-opacity=\"0.000\" fill=\"#FFFFFF\" id=\"img-83a030eb-1\">\n",
       "  <g transform=\"translate(70.71,50)\">\n",
       "    <path d=\"M-70.71,-50 L70.71,-50 70.71,50 -70.71,50  z\" class=\"primitive\"/>\n",
       "  </g>\n",
       "</g>\n",
       "<g class=\"plotroot xscalable yscalable\" id=\"img-83a030eb-2\">\n",
       "  <g font-size=\"3.53\" font-family=\"'PT Sans','Helvetica Neue','Helvetica',sans-serif\" fill=\"#564A55\" stroke=\"#000000\" stroke-opacity=\"0.000\" id=\"img-83a030eb-3\">\n",
       "    <g transform=\"translate(70.37,93.72)\">\n",
       "      <g class=\"primitive\">\n",
       "        <text text-anchor=\"middle\" dy=\"0.6em\">t</text>\n",
       "      </g>\n",
       "    </g>\n",
       "  </g>\n",
       "  <g class=\"guide xlabels\" font-size=\"2.82\" font-family=\"'PT Sans Caption','Helvetica Neue','Helvetica',sans-serif\" fill=\"#6C606B\" id=\"img-83a030eb-4\">\n",
       "    <g transform=\"translate(13.02,87.04)\">\n",
       "      <g class=\"primitive\">\n",
       "        <text text-anchor=\"middle\" dy=\"0.6em\">0</text>\n",
       "      </g>\n",
       "    </g>\n",
       "    <g transform=\"translate(35.96,87.04)\">\n",
       "      <g class=\"primitive\">\n",
       "        <text text-anchor=\"middle\" dy=\"0.6em\">10</text>\n",
       "      </g>\n",
       "    </g>\n",
       "    <g transform=\"translate(58.9,87.04)\">\n",
       "      <g class=\"primitive\">\n",
       "        <text text-anchor=\"middle\" dy=\"0.6em\">20</text>\n",
       "      </g>\n",
       "    </g>\n",
       "    <g transform=\"translate(81.84,87.04)\">\n",
       "      <g class=\"primitive\">\n",
       "        <text text-anchor=\"middle\" dy=\"0.6em\">30</text>\n",
       "      </g>\n",
       "    </g>\n",
       "    <g transform=\"translate(104.78,87.04)\">\n",
       "      <g class=\"primitive\">\n",
       "        <text text-anchor=\"middle\" dy=\"0.6em\">40</text>\n",
       "      </g>\n",
       "    </g>\n",
       "    <g transform=\"translate(127.72,87.04)\">\n",
       "      <g class=\"primitive\">\n",
       "        <text text-anchor=\"middle\" dy=\"0.6em\">50</text>\n",
       "      </g>\n",
       "    </g>\n",
       "  </g>\n",
       "  <g class=\"guide colorkey\" id=\"img-83a030eb-5\">\n",
       "    <g fill=\"#4C404B\" font-size=\"2.82\" font-family=\"'PT Sans','Helvetica Neue','Helvetica',sans-serif\" id=\"img-83a030eb-6\">\n",
       "      <g transform=\"translate(134.35,47.75)\" id=\"img-83a030eb-7\">\n",
       "        <g class=\"primitive\">\n",
       "          <text dy=\"0.35em\">μ</text>\n",
       "        </g>\n",
       "      </g>\n",
       "    </g>\n",
       "    <g stroke-width=\"0.3\" id=\"img-83a030eb-8\">\n",
       "      <g stroke=\"#FFFFFF\" stroke-opacity=\"0.000\" fill-opacity=\"1\" fill=\"#00BFFF\" id=\"img-83a030eb-9\">\n",
       "        <g transform=\"translate(131.53,47.75)\" id=\"img-83a030eb-10\">\n",
       "          <circle cx=\"0\" cy=\"0\" r=\"0.7\" class=\"primitive\"/>\n",
       "        </g>\n",
       "      </g>\n",
       "    </g>\n",
       "    <g fill=\"#362A35\" font-size=\"3.18\" font-family=\"'PT Sans','Helvetica Neue','Helvetica',sans-serif\" stroke=\"#000000\" stroke-opacity=\"0.000\" id=\"img-83a030eb-11\">\n",
       "      <g transform=\"translate(130.72,44.44)\" id=\"img-83a030eb-12\">\n",
       "        <g class=\"primitive\">\n",
       "          <text dy=\"-0em\"></text>\n",
       "        </g>\n",
       "      </g>\n",
       "    </g>\n",
       "  </g>\n",
       "  <g clip-path=\"url(#img-83a030eb-13)\">\n",
       "    <g id=\"img-83a030eb-14\">\n",
       "      <g pointer-events=\"visible\" stroke-width=\"0.3\" fill=\"#000000\" fill-opacity=\"0.000\" stroke=\"#000000\" stroke-opacity=\"0.000\" class=\"guide background\" id=\"img-83a030eb-15\">\n",
       "        <g transform=\"translate(70.37,45.52)\" id=\"img-83a030eb-16\">\n",
       "          <path d=\"M-59.35,-40.52 L59.35,-40.52 59.35,40.52 -59.35,40.52  z\" class=\"primitive\"/>\n",
       "        </g>\n",
       "      </g>\n",
       "      <g class=\"guide ygridlines xfixed\" stroke-dasharray=\"0.5,0.5\" stroke-width=\"0.2\" stroke=\"#D0D0E0\" id=\"img-83a030eb-17\">\n",
       "        <g transform=\"translate(70.37,84.04)\" id=\"img-83a030eb-18\">\n",
       "          <path fill=\"none\" d=\"M-59.35,0 L59.35,0 \" class=\"primitive\"/>\n",
       "        </g>\n",
       "        <g transform=\"translate(70.37,45.52)\" id=\"img-83a030eb-19\">\n",
       "          <path fill=\"none\" d=\"M-59.35,0 L59.35,0 \" class=\"primitive\"/>\n",
       "        </g>\n",
       "        <g transform=\"translate(70.37,7)\" id=\"img-83a030eb-20\">\n",
       "          <path fill=\"none\" d=\"M-59.35,0 L59.35,0 \" class=\"primitive\"/>\n",
       "        </g>\n",
       "      </g>\n",
       "      <g class=\"guide xgridlines yfixed\" stroke-dasharray=\"0.5,0.5\" stroke-width=\"0.2\" stroke=\"#D0D0E0\" id=\"img-83a030eb-21\">\n",
       "        <g transform=\"translate(13.02,45.52)\" id=\"img-83a030eb-22\">\n",
       "          <path fill=\"none\" d=\"M0,-40.52 L0,40.52 \" class=\"primitive\"/>\n",
       "        </g>\n",
       "        <g transform=\"translate(35.96,45.52)\" id=\"img-83a030eb-23\">\n",
       "          <path fill=\"none\" d=\"M0,-40.52 L0,40.52 \" class=\"primitive\"/>\n",
       "        </g>\n",
       "        <g transform=\"translate(58.9,45.52)\" id=\"img-83a030eb-24\">\n",
       "          <path fill=\"none\" d=\"M0,-40.52 L0,40.52 \" class=\"primitive\"/>\n",
       "        </g>\n",
       "        <g transform=\"translate(81.84,45.52)\" id=\"img-83a030eb-25\">\n",
       "          <path fill=\"none\" d=\"M0,-40.52 L0,40.52 \" class=\"primitive\"/>\n",
       "        </g>\n",
       "        <g transform=\"translate(104.78,45.52)\" id=\"img-83a030eb-26\">\n",
       "          <path fill=\"none\" d=\"M0,-40.52 L0,40.52 \" class=\"primitive\"/>\n",
       "        </g>\n",
       "        <g transform=\"translate(127.72,45.52)\" id=\"img-83a030eb-27\">\n",
       "          <path fill=\"none\" d=\"M0,-40.52 L0,40.52 \" class=\"primitive\"/>\n",
       "        </g>\n",
       "      </g>\n",
       "      <g class=\"plotpanel\" id=\"img-83a030eb-28\">\n",
       "        <metadata>\n",
       "          <boundingbox value=\"11.019999999999996mm 5.0mm 118.70135623730951mm 81.04333333333334mm\"/>\n",
       "          <unitbox value=\"-0.8718292728213834 1.0259594167784363 51.74365854564277 -1.0519188335568728\"/>\n",
       "        </metadata>\n",
       "        <g stroke-width=\"0.3\" fill=\"#000000\" fill-opacity=\"0.000\" class=\"geometry\" id=\"img-83a030eb-29\">\n",
       "          <g class=\"color_LCHab{Float32}(70.0f0,60.0f0,240.0f0)\" stroke-dasharray=\"none\" stroke-opacity=\"1\" stroke=\"#00BFFF\" id=\"img-83a030eb-30\">\n",
       "            <g transform=\"translate(70.37,76.81)\" id=\"img-83a030eb-31\">\n",
       "              <path fill=\"none\" d=\"M-57.35,-15.88 L-55.06,-14.49 -52.76,-13.19 -50.47,-11.97 -48.17,-10.81 -45.88,-9.73 -43.59,-8.71 -41.29,-7.76 -39,-6.86 -36.7,-6.01 -34.41,-5.22 -32.12,-4.47 -29.82,-3.77 -27.53,-3.11 -25.23,-2.49 -22.94,-1.9 -20.65,-1.36 -18.35,-0.84 -16.06,-0.36 -13.76,0.1 -11.47,0.53 -9.18,0.93 -6.88,1.31 -4.59,1.66 -2.29,2 0,2.31 2.29,2.61 4.59,2.88 6.88,3.14 9.18,3.39 11.47,3.62 13.76,3.84 16.06,4.04 18.35,4.23 20.65,4.41 22.94,4.58 25.23,4.74 27.53,4.89 29.82,5.03 32.12,5.16 34.41,5.29 36.7,5.4 39,5.51 41.29,5.62 43.59,5.71 45.88,5.8 48.17,5.89 50.47,5.97 52.76,6.05 55.06,6.12 57.35,6.18 \" class=\"primitive\"/>\n",
       "            </g>\n",
       "          </g>\n",
       "        </g>\n",
       "      </g>\n",
       "    </g>\n",
       "  </g>\n",
       "  <g class=\"guide ylabels\" font-size=\"2.82\" font-family=\"'PT Sans Caption','Helvetica Neue','Helvetica',sans-serif\" fill=\"#6C606B\" id=\"img-83a030eb-32\">\n",
       "    <g transform=\"translate(10.02,84.04)\" id=\"img-83a030eb-33\">\n",
       "      <g class=\"primitive\">\n",
       "        <text text-anchor=\"end\" dy=\"0.35em\">0.0</text>\n",
       "      </g>\n",
       "    </g>\n",
       "    <g transform=\"translate(10.02,45.52)\" id=\"img-83a030eb-34\">\n",
       "      <g class=\"primitive\">\n",
       "        <text text-anchor=\"end\" dy=\"0.35em\">0.5</text>\n",
       "      </g>\n",
       "    </g>\n",
       "    <g transform=\"translate(10.02,7)\" id=\"img-83a030eb-35\">\n",
       "      <g class=\"primitive\">\n",
       "        <text text-anchor=\"end\" dy=\"0.35em\">1.0</text>\n",
       "      </g>\n",
       "    </g>\n",
       "  </g>\n",
       "</g>\n",
       "<defs>\n",
       "  <clipPath id=\"img-83a030eb-13\">\n",
       "    <path d=\"M11.02,5 L129.72,5 129.72,86.04 11.02,86.04 \" />\n",
       "  </clipPath>\n",
       "</defs>\n",
       "</svg>\n"
      ],
      "text/plain": [
       "\"<Cropbox.Plot{Gadfly.Plot}>\""
      ]
     },
     "execution_count": 38,
     "metadata": {},
     "output_type": "execute_result"
    }
   ],
   "source": [
    "visualize(r14, :t, :μ, kind = :line)"
   ]
  },
  {
   "cell_type": "code",
   "execution_count": 36,
   "metadata": {
    "tags": []
   },
   "outputs": [
    {
     "data": {
      "image/svg+xml": [
       "<?xml version=\"1.0\" encoding=\"UTF-8\"?>\n",
       "<svg xmlns=\"http://www.w3.org/2000/svg\"\n",
       "     xmlns:xlink=\"http://www.w3.org/1999/xlink\"\n",
       "     xmlns:gadfly=\"http://www.gadflyjl.org/ns\"\n",
       "     version=\"1.2\"\n",
       "     width=\"141.42mm\" height=\"100mm\" viewBox=\"0 0 141.42 100\"\n",
       "     stroke=\"none\"\n",
       "     fill=\"#000000\"\n",
       "     stroke-width=\"0.3\"\n",
       "     font-size=\"3.88\"\n",
       ">\n",
       "<defs>\n",
       "  <marker id=\"arrow\" markerWidth=\"15\" markerHeight=\"7\" refX=\"5\" refY=\"3.5\" orient=\"auto\" markerUnits=\"strokeWidth\">\n",
       "    <path d=\"M0,0 L15,3.5 L0,7 z\" stroke=\"context-stroke\" fill=\"context-stroke\"/>\n",
       "  </marker>\n",
       "</defs>\n",
       "<g stroke=\"#000000\" stroke-opacity=\"0.000\" fill=\"#FFFFFF\" id=\"img-5424e294-1\">\n",
       "  <g transform=\"translate(70.71,50)\">\n",
       "    <path d=\"M-70.71,-50 L70.71,-50 70.71,50 -70.71,50  z\" class=\"primitive\"/>\n",
       "  </g>\n",
       "</g>\n",
       "<g class=\"plotroot xscalable yscalable\" id=\"img-5424e294-2\">\n",
       "  <g font-size=\"3.53\" font-family=\"'PT Sans','Helvetica Neue','Helvetica',sans-serif\" fill=\"#564A55\" stroke=\"#000000\" stroke-opacity=\"0.000\" id=\"img-5424e294-3\">\n",
       "    <g transform=\"translate(69.9,93.72)\">\n",
       "      <g class=\"primitive\">\n",
       "        <text text-anchor=\"middle\" dy=\"0.6em\">t</text>\n",
       "      </g>\n",
       "    </g>\n",
       "  </g>\n",
       "  <g class=\"guide xlabels\" font-size=\"2.82\" font-family=\"'PT Sans Caption','Helvetica Neue','Helvetica',sans-serif\" fill=\"#6C606B\" id=\"img-5424e294-4\">\n",
       "    <g transform=\"translate(12.35,87.04)\">\n",
       "      <g class=\"primitive\">\n",
       "        <text text-anchor=\"middle\" dy=\"0.6em\">0</text>\n",
       "      </g>\n",
       "    </g>\n",
       "    <g transform=\"translate(35.37,87.04)\">\n",
       "      <g class=\"primitive\">\n",
       "        <text text-anchor=\"middle\" dy=\"0.6em\">10</text>\n",
       "      </g>\n",
       "    </g>\n",
       "    <g transform=\"translate(58.39,87.04)\">\n",
       "      <g class=\"primitive\">\n",
       "        <text text-anchor=\"middle\" dy=\"0.6em\">20</text>\n",
       "      </g>\n",
       "    </g>\n",
       "    <g transform=\"translate(81.42,87.04)\">\n",
       "      <g class=\"primitive\">\n",
       "        <text text-anchor=\"middle\" dy=\"0.6em\">30</text>\n",
       "      </g>\n",
       "    </g>\n",
       "    <g transform=\"translate(104.44,87.04)\">\n",
       "      <g class=\"primitive\">\n",
       "        <text text-anchor=\"middle\" dy=\"0.6em\">40</text>\n",
       "      </g>\n",
       "    </g>\n",
       "    <g transform=\"translate(127.46,87.04)\">\n",
       "      <g class=\"primitive\">\n",
       "        <text text-anchor=\"middle\" dy=\"0.6em\">50</text>\n",
       "      </g>\n",
       "    </g>\n",
       "  </g>\n",
       "  <g class=\"guide colorkey\" id=\"img-5424e294-5\">\n",
       "    <g fill=\"#4C404B\" font-size=\"2.82\" font-family=\"'PT Sans','Helvetica Neue','Helvetica',sans-serif\" id=\"img-5424e294-6\">\n",
       "      <g transform=\"translate(134.09,47.75)\" id=\"img-5424e294-7\">\n",
       "        <g class=\"primitive\">\n",
       "          <text dy=\"0.35em\">W</text>\n",
       "        </g>\n",
       "      </g>\n",
       "    </g>\n",
       "    <g stroke-width=\"0.3\" id=\"img-5424e294-8\">\n",
       "      <g stroke=\"#FFFFFF\" stroke-opacity=\"0.000\" fill-opacity=\"1\" fill=\"#00BFFF\" id=\"img-5424e294-9\">\n",
       "        <g transform=\"translate(131.27,47.75)\" id=\"img-5424e294-10\">\n",
       "          <circle cx=\"0\" cy=\"0\" r=\"0.7\" class=\"primitive\"/>\n",
       "        </g>\n",
       "      </g>\n",
       "    </g>\n",
       "    <g fill=\"#362A35\" font-size=\"3.18\" font-family=\"'PT Sans','Helvetica Neue','Helvetica',sans-serif\" stroke=\"#000000\" stroke-opacity=\"0.000\" id=\"img-5424e294-11\">\n",
       "      <g transform=\"translate(130.46,44.44)\" id=\"img-5424e294-12\">\n",
       "        <g class=\"primitive\">\n",
       "          <text dy=\"-0em\"></text>\n",
       "        </g>\n",
       "      </g>\n",
       "    </g>\n",
       "  </g>\n",
       "  <g clip-path=\"url(#img-5424e294-13)\">\n",
       "    <g id=\"img-5424e294-14\">\n",
       "      <g pointer-events=\"visible\" stroke-width=\"0.3\" fill=\"#000000\" fill-opacity=\"0.000\" stroke=\"#000000\" stroke-opacity=\"0.000\" class=\"guide background\" id=\"img-5424e294-15\">\n",
       "        <g transform=\"translate(69.9,45.52)\" id=\"img-5424e294-16\">\n",
       "          <path d=\"M-59.56,-40.52 L59.56,-40.52 59.56,40.52 -59.56,40.52  z\" class=\"primitive\"/>\n",
       "        </g>\n",
       "      </g>\n",
       "      <g class=\"guide ygridlines xfixed\" stroke-dasharray=\"0.5,0.5\" stroke-width=\"0.2\" stroke=\"#D0D0E0\" id=\"img-5424e294-17\">\n",
       "        <g transform=\"translate(69.9,39.1)\" id=\"img-5424e294-18\">\n",
       "          <path fill=\"none\" d=\"M-59.56,0 L59.56,0 \" class=\"primitive\"/>\n",
       "        </g>\n",
       "      </g>\n",
       "      <g class=\"guide xgridlines yfixed\" stroke-dasharray=\"0.5,0.5\" stroke-width=\"0.2\" stroke=\"#D0D0E0\" id=\"img-5424e294-19\">\n",
       "        <g transform=\"translate(12.35,45.52)\" id=\"img-5424e294-20\">\n",
       "          <path fill=\"none\" d=\"M0,-40.52 L0,40.52 \" class=\"primitive\"/>\n",
       "        </g>\n",
       "        <g transform=\"translate(35.37,45.52)\" id=\"img-5424e294-21\">\n",
       "          <path fill=\"none\" d=\"M0,-40.52 L0,40.52 \" class=\"primitive\"/>\n",
       "        </g>\n",
       "        <g transform=\"translate(58.39,45.52)\" id=\"img-5424e294-22\">\n",
       "          <path fill=\"none\" d=\"M0,-40.52 L0,40.52 \" class=\"primitive\"/>\n",
       "        </g>\n",
       "        <g transform=\"translate(81.42,45.52)\" id=\"img-5424e294-23\">\n",
       "          <path fill=\"none\" d=\"M0,-40.52 L0,40.52 \" class=\"primitive\"/>\n",
       "        </g>\n",
       "        <g transform=\"translate(104.44,45.52)\" id=\"img-5424e294-24\">\n",
       "          <path fill=\"none\" d=\"M0,-40.52 L0,40.52 \" class=\"primitive\"/>\n",
       "        </g>\n",
       "        <g transform=\"translate(127.46,45.52)\" id=\"img-5424e294-25\">\n",
       "          <path fill=\"none\" d=\"M0,-40.52 L0,40.52 \" class=\"primitive\"/>\n",
       "        </g>\n",
       "      </g>\n",
       "      <g class=\"plotpanel\" id=\"img-5424e294-26\">\n",
       "        <metadata>\n",
       "          <boundingbox value=\"10.346666666666664mm 5.0mm 119.11468957064284mm 81.04333333333334mm\"/>\n",
       "          <unitbox value=\"-0.8686988634811253 87.18059100938865 51.73739772696225 -88.36118201877731\"/>\n",
       "        </metadata>\n",
       "        <g stroke-width=\"0.3\" fill=\"#000000\" fill-opacity=\"0.000\" class=\"geometry\" id=\"img-5424e294-27\">\n",
       "          <g class=\"color_LCHab{Float32}(70.0f0,60.0f0,240.0f0)\" stroke-dasharray=\"none\" stroke-opacity=\"1\" stroke=\"#00BFFF\" id=\"img-5424e294-28\">\n",
       "            <g transform=\"translate(69.9,49.4)\" id=\"img-5424e294-29\">\n",
       "              <path fill=\"none\" d=\"M-57.56,34.65 L-55.26,34.37 -52.95,34.03 -50.65,33.63 -48.35,33.15 -46.05,32.58 -43.74,31.93 -41.44,31.17 -39.14,30.32 -36.84,29.36 -34.53,28.29 -32.23,27.12 -29.93,25.84 -27.63,24.45 -25.33,22.95 -23.02,21.36 -20.72,19.68 -18.42,17.91 -16.12,16.06 -13.81,14.14 -11.51,12.15 -9.21,10.12 -6.91,8.04 -4.6,5.92 -2.3,3.78 0,1.62 2.3,-0.55 4.6,-2.72 6.91,-4.88 9.21,-7.03 11.51,-9.15 13.81,-11.25 16.12,-13.31 18.42,-15.33 20.72,-17.32 23.02,-19.25 25.33,-21.14 27.63,-22.97 29.93,-24.75 32.23,-26.47 34.53,-28.14 36.84,-29.75 39.14,-31.3 41.44,-32.79 43.74,-34.22 46.05,-35.6 48.35,-36.92 50.65,-38.18 52.95,-39.39 55.26,-40.54 57.56,-41.64 \" class=\"primitive\"/>\n",
       "            </g>\n",
       "          </g>\n",
       "        </g>\n",
       "      </g>\n",
       "    </g>\n",
       "  </g>\n",
       "  <g class=\"guide ylabels\" font-size=\"2.82\" font-family=\"'PT Sans Caption','Helvetica Neue','Helvetica',sans-serif\" fill=\"#6C606B\" id=\"img-5424e294-30\">\n",
       "    <g transform=\"translate(9.35,39.1)\" id=\"img-5424e294-31\">\n",
       "      <g class=\"primitive\">\n",
       "        <text text-anchor=\"end\" dy=\"0.35em\">50</text>\n",
       "      </g>\n",
       "    </g>\n",
       "  </g>\n",
       "</g>\n",
       "<defs>\n",
       "  <clipPath id=\"img-5424e294-13\">\n",
       "    <path d=\"M10.35,5 L129.46,5 129.46,86.04 10.35,86.04 \" />\n",
       "  </clipPath>\n",
       "</defs>\n",
       "</svg>\n"
      ],
      "text/html": [
       "<?xml version=\"1.0\" encoding=\"UTF-8\"?>\n",
       "<svg xmlns=\"http://www.w3.org/2000/svg\"\n",
       "     xmlns:xlink=\"http://www.w3.org/1999/xlink\"\n",
       "     xmlns:gadfly=\"http://www.gadflyjl.org/ns\"\n",
       "     version=\"1.2\"\n",
       "     width=\"141.42mm\" height=\"100mm\" viewBox=\"0 0 141.42 100\"\n",
       "     stroke=\"none\"\n",
       "     fill=\"#000000\"\n",
       "     stroke-width=\"0.3\"\n",
       "     font-size=\"3.88\"\n",
       ">\n",
       "<defs>\n",
       "  <marker id=\"arrow\" markerWidth=\"15\" markerHeight=\"7\" refX=\"5\" refY=\"3.5\" orient=\"auto\" markerUnits=\"strokeWidth\">\n",
       "    <path d=\"M0,0 L15,3.5 L0,7 z\" stroke=\"context-stroke\" fill=\"context-stroke\"/>\n",
       "  </marker>\n",
       "</defs>\n",
       "<g stroke=\"#000000\" stroke-opacity=\"0.000\" fill=\"#FFFFFF\" id=\"img-903b3f6d-1\">\n",
       "  <g transform=\"translate(70.71,50)\">\n",
       "    <path d=\"M-70.71,-50 L70.71,-50 70.71,50 -70.71,50  z\" class=\"primitive\"/>\n",
       "  </g>\n",
       "</g>\n",
       "<g class=\"plotroot xscalable yscalable\" id=\"img-903b3f6d-2\">\n",
       "  <g font-size=\"3.53\" font-family=\"'PT Sans','Helvetica Neue','Helvetica',sans-serif\" fill=\"#564A55\" stroke=\"#000000\" stroke-opacity=\"0.000\" id=\"img-903b3f6d-3\">\n",
       "    <g transform=\"translate(69.9,93.72)\">\n",
       "      <g class=\"primitive\">\n",
       "        <text text-anchor=\"middle\" dy=\"0.6em\">t</text>\n",
       "      </g>\n",
       "    </g>\n",
       "  </g>\n",
       "  <g class=\"guide xlabels\" font-size=\"2.82\" font-family=\"'PT Sans Caption','Helvetica Neue','Helvetica',sans-serif\" fill=\"#6C606B\" id=\"img-903b3f6d-4\">\n",
       "    <g transform=\"translate(12.35,87.04)\">\n",
       "      <g class=\"primitive\">\n",
       "        <text text-anchor=\"middle\" dy=\"0.6em\">0</text>\n",
       "      </g>\n",
       "    </g>\n",
       "    <g transform=\"translate(35.37,87.04)\">\n",
       "      <g class=\"primitive\">\n",
       "        <text text-anchor=\"middle\" dy=\"0.6em\">10</text>\n",
       "      </g>\n",
       "    </g>\n",
       "    <g transform=\"translate(58.39,87.04)\">\n",
       "      <g class=\"primitive\">\n",
       "        <text text-anchor=\"middle\" dy=\"0.6em\">20</text>\n",
       "      </g>\n",
       "    </g>\n",
       "    <g transform=\"translate(81.42,87.04)\">\n",
       "      <g class=\"primitive\">\n",
       "        <text text-anchor=\"middle\" dy=\"0.6em\">30</text>\n",
       "      </g>\n",
       "    </g>\n",
       "    <g transform=\"translate(104.44,87.04)\">\n",
       "      <g class=\"primitive\">\n",
       "        <text text-anchor=\"middle\" dy=\"0.6em\">40</text>\n",
       "      </g>\n",
       "    </g>\n",
       "    <g transform=\"translate(127.46,87.04)\">\n",
       "      <g class=\"primitive\">\n",
       "        <text text-anchor=\"middle\" dy=\"0.6em\">50</text>\n",
       "      </g>\n",
       "    </g>\n",
       "  </g>\n",
       "  <g class=\"guide colorkey\" id=\"img-903b3f6d-5\">\n",
       "    <g fill=\"#4C404B\" font-size=\"2.82\" font-family=\"'PT Sans','Helvetica Neue','Helvetica',sans-serif\" id=\"img-903b3f6d-6\">\n",
       "      <g transform=\"translate(134.09,47.75)\" id=\"img-903b3f6d-7\">\n",
       "        <g class=\"primitive\">\n",
       "          <text dy=\"0.35em\">W</text>\n",
       "        </g>\n",
       "      </g>\n",
       "    </g>\n",
       "    <g stroke-width=\"0.3\" id=\"img-903b3f6d-8\">\n",
       "      <g stroke=\"#FFFFFF\" stroke-opacity=\"0.000\" fill-opacity=\"1\" fill=\"#00BFFF\" id=\"img-903b3f6d-9\">\n",
       "        <g transform=\"translate(131.27,47.75)\" id=\"img-903b3f6d-10\">\n",
       "          <circle cx=\"0\" cy=\"0\" r=\"0.7\" class=\"primitive\"/>\n",
       "        </g>\n",
       "      </g>\n",
       "    </g>\n",
       "    <g fill=\"#362A35\" font-size=\"3.18\" font-family=\"'PT Sans','Helvetica Neue','Helvetica',sans-serif\" stroke=\"#000000\" stroke-opacity=\"0.000\" id=\"img-903b3f6d-11\">\n",
       "      <g transform=\"translate(130.46,44.44)\" id=\"img-903b3f6d-12\">\n",
       "        <g class=\"primitive\">\n",
       "          <text dy=\"-0em\"></text>\n",
       "        </g>\n",
       "      </g>\n",
       "    </g>\n",
       "  </g>\n",
       "  <g clip-path=\"url(#img-903b3f6d-13)\">\n",
       "    <g id=\"img-903b3f6d-14\">\n",
       "      <g pointer-events=\"visible\" stroke-width=\"0.3\" fill=\"#000000\" fill-opacity=\"0.000\" stroke=\"#000000\" stroke-opacity=\"0.000\" class=\"guide background\" id=\"img-903b3f6d-15\">\n",
       "        <g transform=\"translate(69.9,45.52)\" id=\"img-903b3f6d-16\">\n",
       "          <path d=\"M-59.56,-40.52 L59.56,-40.52 59.56,40.52 -59.56,40.52  z\" class=\"primitive\"/>\n",
       "        </g>\n",
       "      </g>\n",
       "      <g class=\"guide ygridlines xfixed\" stroke-dasharray=\"0.5,0.5\" stroke-width=\"0.2\" stroke=\"#D0D0E0\" id=\"img-903b3f6d-17\">\n",
       "        <g transform=\"translate(69.9,39.1)\" id=\"img-903b3f6d-18\">\n",
       "          <path fill=\"none\" d=\"M-59.56,0 L59.56,0 \" class=\"primitive\"/>\n",
       "        </g>\n",
       "      </g>\n",
       "      <g class=\"guide xgridlines yfixed\" stroke-dasharray=\"0.5,0.5\" stroke-width=\"0.2\" stroke=\"#D0D0E0\" id=\"img-903b3f6d-19\">\n",
       "        <g transform=\"translate(12.35,45.52)\" id=\"img-903b3f6d-20\">\n",
       "          <path fill=\"none\" d=\"M0,-40.52 L0,40.52 \" class=\"primitive\"/>\n",
       "        </g>\n",
       "        <g transform=\"translate(35.37,45.52)\" id=\"img-903b3f6d-21\">\n",
       "          <path fill=\"none\" d=\"M0,-40.52 L0,40.52 \" class=\"primitive\"/>\n",
       "        </g>\n",
       "        <g transform=\"translate(58.39,45.52)\" id=\"img-903b3f6d-22\">\n",
       "          <path fill=\"none\" d=\"M0,-40.52 L0,40.52 \" class=\"primitive\"/>\n",
       "        </g>\n",
       "        <g transform=\"translate(81.42,45.52)\" id=\"img-903b3f6d-23\">\n",
       "          <path fill=\"none\" d=\"M0,-40.52 L0,40.52 \" class=\"primitive\"/>\n",
       "        </g>\n",
       "        <g transform=\"translate(104.44,45.52)\" id=\"img-903b3f6d-24\">\n",
       "          <path fill=\"none\" d=\"M0,-40.52 L0,40.52 \" class=\"primitive\"/>\n",
       "        </g>\n",
       "        <g transform=\"translate(127.46,45.52)\" id=\"img-903b3f6d-25\">\n",
       "          <path fill=\"none\" d=\"M0,-40.52 L0,40.52 \" class=\"primitive\"/>\n",
       "        </g>\n",
       "      </g>\n",
       "      <g class=\"plotpanel\" id=\"img-903b3f6d-26\">\n",
       "        <metadata>\n",
       "          <boundingbox value=\"10.346666666666664mm 5.0mm 119.11468957064284mm 81.04333333333334mm\"/>\n",
       "          <unitbox value=\"-0.8686988634811253 87.18059100938865 51.73739772696225 -88.36118201877731\"/>\n",
       "        </metadata>\n",
       "        <g stroke-width=\"0.3\" fill=\"#000000\" fill-opacity=\"0.000\" class=\"geometry\" id=\"img-903b3f6d-27\">\n",
       "          <g class=\"color_LCHab{Float32}(70.0f0,60.0f0,240.0f0)\" stroke-dasharray=\"none\" stroke-opacity=\"1\" stroke=\"#00BFFF\" id=\"img-903b3f6d-28\">\n",
       "            <g transform=\"translate(69.9,49.4)\" id=\"img-903b3f6d-29\">\n",
       "              <path fill=\"none\" d=\"M-57.56,34.65 L-55.26,34.37 -52.95,34.03 -50.65,33.63 -48.35,33.15 -46.05,32.58 -43.74,31.93 -41.44,31.17 -39.14,30.32 -36.84,29.36 -34.53,28.29 -32.23,27.12 -29.93,25.84 -27.63,24.45 -25.33,22.95 -23.02,21.36 -20.72,19.68 -18.42,17.91 -16.12,16.06 -13.81,14.14 -11.51,12.15 -9.21,10.12 -6.91,8.04 -4.6,5.92 -2.3,3.78 0,1.62 2.3,-0.55 4.6,-2.72 6.91,-4.88 9.21,-7.03 11.51,-9.15 13.81,-11.25 16.12,-13.31 18.42,-15.33 20.72,-17.32 23.02,-19.25 25.33,-21.14 27.63,-22.97 29.93,-24.75 32.23,-26.47 34.53,-28.14 36.84,-29.75 39.14,-31.3 41.44,-32.79 43.74,-34.22 46.05,-35.6 48.35,-36.92 50.65,-38.18 52.95,-39.39 55.26,-40.54 57.56,-41.64 \" class=\"primitive\"/>\n",
       "            </g>\n",
       "          </g>\n",
       "        </g>\n",
       "      </g>\n",
       "    </g>\n",
       "  </g>\n",
       "  <g class=\"guide ylabels\" font-size=\"2.82\" font-family=\"'PT Sans Caption','Helvetica Neue','Helvetica',sans-serif\" fill=\"#6C606B\" id=\"img-903b3f6d-30\">\n",
       "    <g transform=\"translate(9.35,39.1)\" id=\"img-903b3f6d-31\">\n",
       "      <g class=\"primitive\">\n",
       "        <text text-anchor=\"end\" dy=\"0.35em\">50</text>\n",
       "      </g>\n",
       "    </g>\n",
       "  </g>\n",
       "</g>\n",
       "<defs>\n",
       "  <clipPath id=\"img-903b3f6d-13\">\n",
       "    <path d=\"M10.35,5 L129.46,5 129.46,86.04 10.35,86.04 \" />\n",
       "  </clipPath>\n",
       "</defs>\n",
       "</svg>\n"
      ],
      "text/plain": [
       "\"<Cropbox.Plot{Gadfly.Plot}>\""
      ]
     },
     "execution_count": 36,
     "metadata": {},
     "output_type": "execute_result"
    }
   ],
   "source": [
    "visualize(r14, :t, :W, kind = :line)"
   ]
  },
  {
   "cell_type": "code",
   "execution_count": null,
   "metadata": {},
   "outputs": [],
   "source": [
    "parameter의 sensetive를 "
   ]
  },
  {
   "cell_type": "code",
   "execution_count": 20,
   "metadata": {
    "tags": []
   },
   "outputs": [
    {
     "data": {
      "application/vnd.webio.node+json": {
       "children": [
        {
         "children": [
          "Gomp"
         ],
         "instanceArgs": {
          "namespace": "html",
          "tag": "div"
         },
         "nodeType": "DOM",
         "props": {
          "style": {
           "color": "rebeccapurple",
           "font-family": "monospace"
          }
         },
         "type": "node"
        },
        {
         "children": [
          {
           "children": [
            {
             "children": [
              {
               "children": [
                {
                 "children": [
                  "μ0"
                 ],
                 "instanceArgs": {
                  "namespace": "html",
                  "tag": "label"
                 },
                 "nodeType": "DOM",
                 "props": {
                  "className": "interact ",
                  "style": {
                   "color": "royalblue",
                   "padding": "5px 10px 0px 10px",
                   "white-space": "nowrap"
                  }
                 },
                 "type": "node"
                }
               ],
               "instanceArgs": {
                "namespace": "html",
                "tag": "div"
               },
               "nodeType": "DOM",
               "props": {
                "className": "interact-flex-row-left"
               },
               "type": "node"
              },
              {
               "children": [
                {
                 "children": [],
                 "instanceArgs": {
                  "namespace": "html",
                  "tag": "input"
                 },
                 "nodeType": "DOM",
                 "props": {
                  "attributes": {
                   "data-bind": "numericValue: index, valueUpdate: 'input', event: {change: function (){this.changes(this.changes()+1)}}",
                   "orient": "horizontal",
                   "type": "range"
                  },
                  "className": "slider slider is-fullwidth",
                  "max": 51,
                  "min": 1,
                  "step": 1,
                  "style": {}
                 },
                 "type": "node"
                }
               ],
               "instanceArgs": {
                "namespace": "html",
                "tag": "div"
               },
               "nodeType": "DOM",
               "props": {
                "className": "interact-flex-row-center"
               },
               "type": "node"
              },
              {
               "children": [
                {
                 "children": [],
                 "instanceArgs": {
                  "namespace": "html",
                  "tag": "p"
                 },
                 "nodeType": "DOM",
                 "props": {
                  "attributes": {
                   "data-bind": "text: formatted_val"
                  }
                 },
                 "type": "node"
                }
               ],
               "instanceArgs": {
                "namespace": "html",
                "tag": "div"
               },
               "nodeType": "DOM",
               "props": {
                "className": "interact-flex-row-right"
               },
               "type": "node"
              }
             ],
             "instanceArgs": {
              "namespace": "html",
              "tag": "div"
             },
             "nodeType": "DOM",
             "props": {
              "className": "interact-flex-row interact-widget",
              "style": {
               "font-family": "monospace",
               "width": "80%"
              }
             },
             "type": "node"
            }
           ],
           "instanceArgs": {
            "handlers": {
             "changes": [
              "(function (val){return (val!=this.model[\"changes\"]()) ? (this.valueFromJulia[\"changes\"]=true, this.model[\"changes\"](val)) : undefined})"
             ],
             "index": [
              "(function (val){return (val!=this.model[\"index\"]()) ? (this.valueFromJulia[\"index\"]=true, this.model[\"index\"](val)) : undefined})"
             ]
            },
            "id": "3625359290336637690",
            "imports": {
             "data": [
              {
               "name": "knockout",
               "type": "js",
               "url": "/assetserver/d749de49a15576291e39755d819be2408bf7f995-knockout.js"
              },
              {
               "name": "knockout_punches",
               "type": "js",
               "url": "/assetserver/9f5c86158cf79faf331cfb32636cb08a9b1f0dc2-knockout_punches.js"
              },
              {
               "name": null,
               "type": "js",
               "url": "/assetserver/96a65e6078e018eef9bba5cd6ed02b2635164c53-all.js"
              },
              {
               "name": null,
               "type": "css",
               "url": "/assetserver/98c9b8e9cfeaa0be2a6f3aa79abc5da0680c3037-style.css"
              },
              {
               "name": null,
               "type": "css",
               "url": "/assetserver/c5a1211d10b2f10049d85486a98c5e9063cad849-bulma_confined.min.css"
              }
             ],
             "type": "async_block"
            },
            "mount_callbacks": [
             "function () {\n    var handler = (function (ko, koPunches) {\n    ko.punches.enableAll();\n    ko.bindingHandlers.numericValue = {\n        init: function(element, valueAccessor, allBindings, data, context) {\n            var stringified = ko.observable(ko.unwrap(valueAccessor()));\n            stringified.subscribe(function(value) {\n                var val = parseFloat(value);\n                if (!isNaN(val)) {\n                    valueAccessor()(val);\n                }\n            });\n            valueAccessor().subscribe(function(value) {\n                var str = JSON.stringify(value);\n                if ((str == \"0\") && ([\"-0\", \"-0.\"].indexOf(stringified()) >= 0))\n                     return;\n                 if ([\"null\", \"\"].indexOf(str) >= 0)\n                     return;\n                stringified(str);\n            });\n            ko.applyBindingsToNode(\n                element,\n                {\n                    value: stringified,\n                    valueUpdate: allBindings.get('valueUpdate'),\n                },\n                context,\n            );\n        }\n    };\n    var json_data = {\"formatted_vals\":[\"0.0\",\"0.01\",\"0.02\",\"0.03\",\"0.04\",\"0.05\",\"0.06\",\"0.07\",\"0.08\",\"0.09\",\"0.1\",\"0.11\",\"0.12\",\"0.13\",\"0.14\",\"0.15\",\"0.16\",\"0.17\",\"0.18\",\"0.19\",\"0.2\",\"0.21\",\"0.22\",\"0.23\",\"0.24\",\"0.25\",\"0.26\",\"0.27\",\"0.28\",\"0.29\",\"0.3\",\"0.31\",\"0.32\",\"0.33\",\"0.34\",\"0.35\",\"0.36\",\"0.37\",\"0.38\",\"0.39\",\"0.4\",\"0.41\",\"0.42\",\"0.43\",\"0.44\",\"0.45\",\"0.46\",\"0.47\",\"0.48\",\"0.49\",\"0.5\"],\"changes\":WebIO.getval({\"name\":\"changes\",\"scope\":\"3625359290336637690\",\"id\":\"5862894902307827095\",\"type\":\"observable\"}),\"index\":WebIO.getval({\"name\":\"index\",\"scope\":\"3625359290336637690\",\"id\":\"14409393654357043784\",\"type\":\"observable\"})};\n    var self = this;\n    function AppViewModel() {\n        for (var key in json_data) {\n            var el = json_data[key];\n            this[key] = Array.isArray(el) ? ko.observableArray(el) : ko.observable(el);\n        }\n        \n        [this[\"formatted_val\"]=ko.computed(    function(){\n        return this.formatted_vals()[parseInt(this.index())-(1)];\n    }\n,this)]\n        [this[\"changes\"].subscribe((function (val){!(this.valueFromJulia[\"changes\"]) ? (WebIO.setval({\"name\":\"changes\",\"scope\":\"3625359290336637690\",\"id\":\"5862894902307827095\",\"type\":\"observable\"},val)) : undefined; return this.valueFromJulia[\"changes\"]=false}),self),this[\"index\"].subscribe((function (val){!(this.valueFromJulia[\"index\"]) ? (WebIO.setval({\"name\":\"index\",\"scope\":\"3625359290336637690\",\"id\":\"14409393654357043784\",\"type\":\"observable\"},val)) : undefined; return this.valueFromJulia[\"index\"]=false}),self)]\n        \n    }\n    self.model = new AppViewModel();\n    self.valueFromJulia = {};\n    for (var key in json_data) {\n        self.valueFromJulia[key] = false;\n    }\n    ko.applyBindings(self.model, self.dom);\n}\n);\n    (WebIO.importBlock({\"data\":[{\"name\":\"knockout\",\"type\":\"js\",\"url\":\"/assetserver/d749de49a15576291e39755d819be2408bf7f995-knockout.js\"},{\"name\":\"knockout_punches\",\"type\":\"js\",\"url\":\"/assetserver/9f5c86158cf79faf331cfb32636cb08a9b1f0dc2-knockout_punches.js\"}],\"type\":\"async_block\"})).then((imports) => handler.apply(this, imports));\n}\n"
            ],
            "observables": {
             "changes": {
              "id": "5862894902307827095",
              "sync": true,
              "value": 0
             },
             "index": {
              "id": "14409393654357043784",
              "sync": true,
              "value": 26
             }
            },
            "systemjs_options": null
           },
           "nodeType": "Scope",
           "props": {},
           "type": "node"
          }
         ],
         "instanceArgs": {
          "namespace": "html",
          "tag": "div"
         },
         "nodeType": "DOM",
         "props": {
          "className": "field interact-widget"
         },
         "type": "node"
        },
        {
         "children": [
          {
           "children": [
            {
             "children": [
              {
               "children": [
                {
                 "children": [
                  "D"
                 ],
                 "instanceArgs": {
                  "namespace": "html",
                  "tag": "label"
                 },
                 "nodeType": "DOM",
                 "props": {
                  "className": "interact ",
                  "style": {
                   "color": "royalblue",
                   "padding": "5px 10px 0px 10px",
                   "white-space": "nowrap"
                  }
                 },
                 "type": "node"
                }
               ],
               "instanceArgs": {
                "namespace": "html",
                "tag": "div"
               },
               "nodeType": "DOM",
               "props": {
                "className": "interact-flex-row-left"
               },
               "type": "node"
              },
              {
               "children": [
                {
                 "children": [],
                 "instanceArgs": {
                  "namespace": "html",
                  "tag": "input"
                 },
                 "nodeType": "DOM",
                 "props": {
                  "attributes": {
                   "data-bind": "numericValue: index, valueUpdate: 'input', event: {change: function (){this.changes(this.changes()+1)}}",
                   "orient": "horizontal",
                   "type": "range"
                  },
                  "className": "slider slider is-fullwidth",
                  "max": 21,
                  "min": 1,
                  "step": 1,
                  "style": {}
                 },
                 "type": "node"
                }
               ],
               "instanceArgs": {
                "namespace": "html",
                "tag": "div"
               },
               "nodeType": "DOM",
               "props": {
                "className": "interact-flex-row-center"
               },
               "type": "node"
              },
              {
               "children": [
                {
                 "children": [],
                 "instanceArgs": {
                  "namespace": "html",
                  "tag": "p"
                 },
                 "nodeType": "DOM",
                 "props": {
                  "attributes": {
                   "data-bind": "text: formatted_val"
                  }
                 },
                 "type": "node"
                }
               ],
               "instanceArgs": {
                "namespace": "html",
                "tag": "div"
               },
               "nodeType": "DOM",
               "props": {
                "className": "interact-flex-row-right"
               },
               "type": "node"
              }
             ],
             "instanceArgs": {
              "namespace": "html",
              "tag": "div"
             },
             "nodeType": "DOM",
             "props": {
              "className": "interact-flex-row interact-widget",
              "style": {
               "font-family": "monospace",
               "width": "80%"
              }
             },
             "type": "node"
            }
           ],
           "instanceArgs": {
            "handlers": {
             "changes": [
              "(function (val){return (val!=this.model[\"changes\"]()) ? (this.valueFromJulia[\"changes\"]=true, this.model[\"changes\"](val)) : undefined})"
             ],
             "index": [
              "(function (val){return (val!=this.model[\"index\"]()) ? (this.valueFromJulia[\"index\"]=true, this.model[\"index\"](val)) : undefined})"
             ]
            },
            "id": "2740424874649263323",
            "imports": {
             "data": [
              {
               "name": "knockout",
               "type": "js",
               "url": "/assetserver/d749de49a15576291e39755d819be2408bf7f995-knockout.js"
              },
              {
               "name": "knockout_punches",
               "type": "js",
               "url": "/assetserver/9f5c86158cf79faf331cfb32636cb08a9b1f0dc2-knockout_punches.js"
              },
              {
               "name": null,
               "type": "js",
               "url": "/assetserver/96a65e6078e018eef9bba5cd6ed02b2635164c53-all.js"
              },
              {
               "name": null,
               "type": "css",
               "url": "/assetserver/98c9b8e9cfeaa0be2a6f3aa79abc5da0680c3037-style.css"
              },
              {
               "name": null,
               "type": "css",
               "url": "/assetserver/c5a1211d10b2f10049d85486a98c5e9063cad849-bulma_confined.min.css"
              }
             ],
             "type": "async_block"
            },
            "mount_callbacks": [
             "function () {\n    var handler = (function (ko, koPunches) {\n    ko.punches.enableAll();\n    ko.bindingHandlers.numericValue = {\n        init: function(element, valueAccessor, allBindings, data, context) {\n            var stringified = ko.observable(ko.unwrap(valueAccessor()));\n            stringified.subscribe(function(value) {\n                var val = parseFloat(value);\n                if (!isNaN(val)) {\n                    valueAccessor()(val);\n                }\n            });\n            valueAccessor().subscribe(function(value) {\n                var str = JSON.stringify(value);\n                if ((str == \"0\") && ([\"-0\", \"-0.\"].indexOf(stringified()) >= 0))\n                     return;\n                 if ([\"null\", \"\"].indexOf(str) >= 0)\n                     return;\n                stringified(str);\n            });\n            ko.applyBindingsToNode(\n                element,\n                {\n                    value: stringified,\n                    valueUpdate: allBindings.get('valueUpdate'),\n                },\n                context,\n            );\n        }\n    };\n    var json_data = {\"formatted_vals\":[\"0.0\",\"0.01\",\"0.02\",\"0.03\",\"0.04\",\"0.05\",\"0.06\",\"0.07\",\"0.08\",\"0.09\",\"0.1\",\"0.11\",\"0.12\",\"0.13\",\"0.14\",\"0.15\",\"0.16\",\"0.17\",\"0.18\",\"0.19\",\"0.2\"],\"changes\":WebIO.getval({\"name\":\"changes\",\"scope\":\"2740424874649263323\",\"id\":\"10391632895912620594\",\"type\":\"observable\"}),\"index\":WebIO.getval({\"name\":\"index\",\"scope\":\"2740424874649263323\",\"id\":\"2667056621875383176\",\"type\":\"observable\"})};\n    var self = this;\n    function AppViewModel() {\n        for (var key in json_data) {\n            var el = json_data[key];\n            this[key] = Array.isArray(el) ? ko.observableArray(el) : ko.observable(el);\n        }\n        \n        [this[\"formatted_val\"]=ko.computed(    function(){\n        return this.formatted_vals()[parseInt(this.index())-(1)];\n    }\n,this)]\n        [this[\"changes\"].subscribe((function (val){!(this.valueFromJulia[\"changes\"]) ? (WebIO.setval({\"name\":\"changes\",\"scope\":\"2740424874649263323\",\"id\":\"10391632895912620594\",\"type\":\"observable\"},val)) : undefined; return this.valueFromJulia[\"changes\"]=false}),self),this[\"index\"].subscribe((function (val){!(this.valueFromJulia[\"index\"]) ? (WebIO.setval({\"name\":\"index\",\"scope\":\"2740424874649263323\",\"id\":\"2667056621875383176\",\"type\":\"observable\"},val)) : undefined; return this.valueFromJulia[\"index\"]=false}),self)]\n        \n    }\n    self.model = new AppViewModel();\n    self.valueFromJulia = {};\n    for (var key in json_data) {\n        self.valueFromJulia[key] = false;\n    }\n    ko.applyBindings(self.model, self.dom);\n}\n);\n    (WebIO.importBlock({\"data\":[{\"name\":\"knockout\",\"type\":\"js\",\"url\":\"/assetserver/d749de49a15576291e39755d819be2408bf7f995-knockout.js\"},{\"name\":\"knockout_punches\",\"type\":\"js\",\"url\":\"/assetserver/9f5c86158cf79faf331cfb32636cb08a9b1f0dc2-knockout_punches.js\"}],\"type\":\"async_block\"})).then((imports) => handler.apply(this, imports));\n}\n"
            ],
            "observables": {
             "changes": {
              "id": "10391632895912620594",
              "sync": true,
              "value": 0
             },
             "index": {
              "id": "2667056621875383176",
              "sync": true,
              "value": 11
             }
            },
            "systemjs_options": null
           },
           "nodeType": "Scope",
           "props": {},
           "type": "node"
          }
         ],
         "instanceArgs": {
          "namespace": "html",
          "tag": "div"
         },
         "nodeType": "DOM",
         "props": {
          "className": "field interact-widget"
         },
         "type": "node"
        },
        {
         "children": [
          {
           "children": [
            {
             "children": [
              {
               "children": [
                {
                 "children": [
                  "W0"
                 ],
                 "instanceArgs": {
                  "namespace": "html",
                  "tag": "label"
                 },
                 "nodeType": "DOM",
                 "props": {
                  "className": "interact ",
                  "style": {
                   "color": "royalblue",
                   "padding": "5px 10px 0px 10px",
                   "white-space": "nowrap"
                  }
                 },
                 "type": "node"
                }
               ],
               "instanceArgs": {
                "namespace": "html",
                "tag": "div"
               },
               "nodeType": "DOM",
               "props": {
                "className": "interact-flex-row-left"
               },
               "type": "node"
              },
              {
               "children": [
                {
                 "children": [],
                 "instanceArgs": {
                  "namespace": "html",
                  "tag": "input"
                 },
                 "nodeType": "DOM",
                 "props": {
                  "attributes": {
                   "data-bind": "numericValue: index, valueUpdate: 'input', event: {change: function (){this.changes(this.changes()+1)}}",
                   "orient": "horizontal",
                   "type": "range"
                  },
                  "className": "slider slider is-fullwidth",
                  "max": 101,
                  "min": 1,
                  "step": 1,
                  "style": {}
                 },
                 "type": "node"
                }
               ],
               "instanceArgs": {
                "namespace": "html",
                "tag": "div"
               },
               "nodeType": "DOM",
               "props": {
                "className": "interact-flex-row-center"
               },
               "type": "node"
              },
              {
               "children": [
                {
                 "children": [],
                 "instanceArgs": {
                  "namespace": "html",
                  "tag": "p"
                 },
                 "nodeType": "DOM",
                 "props": {
                  "attributes": {
                   "data-bind": "text: formatted_val"
                  }
                 },
                 "type": "node"
                }
               ],
               "instanceArgs": {
                "namespace": "html",
                "tag": "div"
               },
               "nodeType": "DOM",
               "props": {
                "className": "interact-flex-row-right"
               },
               "type": "node"
              }
             ],
             "instanceArgs": {
              "namespace": "html",
              "tag": "div"
             },
             "nodeType": "DOM",
             "props": {
              "className": "interact-flex-row interact-widget",
              "style": {
               "font-family": "monospace",
               "width": "80%"
              }
             },
             "type": "node"
            }
           ],
           "instanceArgs": {
            "handlers": {
             "changes": [
              "(function (val){return (val!=this.model[\"changes\"]()) ? (this.valueFromJulia[\"changes\"]=true, this.model[\"changes\"](val)) : undefined})"
             ],
             "index": [
              "(function (val){return (val!=this.model[\"index\"]()) ? (this.valueFromJulia[\"index\"]=true, this.model[\"index\"](val)) : undefined})"
             ]
            },
            "id": "8174863025626627151",
            "imports": {
             "data": [
              {
               "name": "knockout",
               "type": "js",
               "url": "/assetserver/d749de49a15576291e39755d819be2408bf7f995-knockout.js"
              },
              {
               "name": "knockout_punches",
               "type": "js",
               "url": "/assetserver/9f5c86158cf79faf331cfb32636cb08a9b1f0dc2-knockout_punches.js"
              },
              {
               "name": null,
               "type": "js",
               "url": "/assetserver/96a65e6078e018eef9bba5cd6ed02b2635164c53-all.js"
              },
              {
               "name": null,
               "type": "css",
               "url": "/assetserver/98c9b8e9cfeaa0be2a6f3aa79abc5da0680c3037-style.css"
              },
              {
               "name": null,
               "type": "css",
               "url": "/assetserver/c5a1211d10b2f10049d85486a98c5e9063cad849-bulma_confined.min.css"
              }
             ],
             "type": "async_block"
            },
            "mount_callbacks": [
             "function () {\n    var handler = (function (ko, koPunches) {\n    ko.punches.enableAll();\n    ko.bindingHandlers.numericValue = {\n        init: function(element, valueAccessor, allBindings, data, context) {\n            var stringified = ko.observable(ko.unwrap(valueAccessor()));\n            stringified.subscribe(function(value) {\n                var val = parseFloat(value);\n                if (!isNaN(val)) {\n                    valueAccessor()(val);\n                }\n            });\n            valueAccessor().subscribe(function(value) {\n                var str = JSON.stringify(value);\n                if ((str == \"0\") && ([\"-0\", \"-0.\"].indexOf(stringified()) >= 0))\n                     return;\n                 if ([\"null\", \"\"].indexOf(str) >= 0)\n                     return;\n                stringified(str);\n            });\n            ko.applyBindingsToNode(\n                element,\n                {\n                    value: stringified,\n                    valueUpdate: allBindings.get('valueUpdate'),\n                },\n                context,\n            );\n        }\n    };\n    var json_data = {\"formatted_vals\":[\"0.0\",\"0.1\",\"0.2\",\"0.3\",\"0.4\",\"0.5\",\"0.6\",\"0.7\",\"0.8\",\"0.9\",\"1.0\",\"1.1\",\"1.2\",\"1.3\",\"1.4\",\"1.5\",\"1.6\",\"1.7\",\"1.8\",\"1.9\",\"2.0\",\"2.1\",\"2.2\",\"2.3\",\"2.4\",\"2.5\",\"2.6\",\"2.7\",\"2.8\",\"2.9\",\"3.0\",\"3.1\",\"3.2\",\"3.3\",\"3.4\",\"3.5\",\"3.6\",\"3.7\",\"3.8\",\"3.9\",\"4.0\",\"4.1\",\"4.2\",\"4.3\",\"4.4\",\"4.5\",\"4.6\",\"4.7\",\"4.8\",\"4.9\",\"5.0\",\"5.1\",\"5.2\",\"5.3\",\"5.4\",\"5.5\",\"5.6\",\"5.7\",\"5.8\",\"5.9\",\"6.0\",\"6.1\",\"6.2\",\"6.3\",\"6.4\",\"6.5\",\"6.6\",\"6.7\",\"6.8\",\"6.9\",\"7.0\",\"7.1\",\"7.2\",\"7.3\",\"7.4\",\"7.5\",\"7.6\",\"7.7\",\"7.8\",\"7.9\",\"8.0\",\"8.1\",\"8.2\",\"8.3\",\"8.4\",\"8.5\",\"8.6\",\"8.7\",\"8.8\",\"8.9\",\"9.0\",\"9.1\",\"9.2\",\"9.3\",\"9.4\",\"9.5\",\"9.6\",\"9.7\",\"9.8\",\"9.9\",\"10.0\"],\"changes\":WebIO.getval({\"name\":\"changes\",\"scope\":\"8174863025626627151\",\"id\":\"4623685479074123224\",\"type\":\"observable\"}),\"index\":WebIO.getval({\"name\":\"index\",\"scope\":\"8174863025626627151\",\"id\":\"3089685589449289157\",\"type\":\"observable\"})};\n    var self = this;\n    function AppViewModel() {\n        for (var key in json_data) {\n            var el = json_data[key];\n            this[key] = Array.isArray(el) ? ko.observableArray(el) : ko.observable(el);\n        }\n        \n        [this[\"formatted_val\"]=ko.computed(    function(){\n        return this.formatted_vals()[parseInt(this.index())-(1)];\n    }\n,this)]\n        [this[\"changes\"].subscribe((function (val){!(this.valueFromJulia[\"changes\"]) ? (WebIO.setval({\"name\":\"changes\",\"scope\":\"8174863025626627151\",\"id\":\"4623685479074123224\",\"type\":\"observable\"},val)) : undefined; return this.valueFromJulia[\"changes\"]=false}),self),this[\"index\"].subscribe((function (val){!(this.valueFromJulia[\"index\"]) ? (WebIO.setval({\"name\":\"index\",\"scope\":\"8174863025626627151\",\"id\":\"3089685589449289157\",\"type\":\"observable\"},val)) : undefined; return this.valueFromJulia[\"index\"]=false}),self)]\n        \n    }\n    self.model = new AppViewModel();\n    self.valueFromJulia = {};\n    for (var key in json_data) {\n        self.valueFromJulia[key] = false;\n    }\n    ko.applyBindings(self.model, self.dom);\n}\n);\n    (WebIO.importBlock({\"data\":[{\"name\":\"knockout\",\"type\":\"js\",\"url\":\"/assetserver/d749de49a15576291e39755d819be2408bf7f995-knockout.js\"},{\"name\":\"knockout_punches\",\"type\":\"js\",\"url\":\"/assetserver/9f5c86158cf79faf331cfb32636cb08a9b1f0dc2-knockout_punches.js\"}],\"type\":\"async_block\"})).then((imports) => handler.apply(this, imports));\n}\n"
            ],
            "observables": {
             "changes": {
              "id": "4623685479074123224",
              "sync": true,
              "value": 0
             },
             "index": {
              "id": "3089685589449289157",
              "sync": true,
              "value": 51
             }
            },
            "systemjs_options": null
           },
           "nodeType": "Scope",
           "props": {},
           "type": "node"
          }
         ],
         "instanceArgs": {
          "namespace": "html",
          "tag": "div"
         },
         "nodeType": "DOM",
         "props": {
          "className": "field interact-widget"
         },
         "type": "node"
        },
        {
         "children": [
          {
           "children": [],
           "instanceArgs": {
            "namespace": "html",
            "tag": "div"
           },
           "nodeType": "DOM",
           "props": {
            "className": "webio-observable",
            "setInnerHtml": "<?xml version=\"1.0\" encoding=\"UTF-8\"?>\n<svg xmlns=\"http://www.w3.org/2000/svg\"\n     xmlns:xlink=\"http://www.w3.org/1999/xlink\"\n     xmlns:gadfly=\"http://www.gadflyjl.org/ns\"\n     version=\"1.2\"\n     width=\"141.42mm\" height=\"100mm\" viewBox=\"0 0 141.42 100\"\n     stroke=\"none\"\n     fill=\"#000000\"\n     stroke-width=\"0.3\"\n     font-size=\"3.88\"\n>\n<defs>\n  <marker id=\"arrow\" markerWidth=\"15\" markerHeight=\"7\" refX=\"5\" refY=\"3.5\" orient=\"auto\" markerUnits=\"strokeWidth\">\n    <path d=\"M0,0 L15,3.5 L0,7 z\" stroke=\"context-stroke\" fill=\"context-stroke\"/>\n  </marker>\n</defs>\n<g stroke=\"#000000\" stroke-opacity=\"0.000\" fill=\"#FFFFFF\" id=\"img-4a8c58d8-1\">\n  <g transform=\"translate(70.71,50)\">\n    <path d=\"M-70.71,-50 L70.71,-50 70.71,50 -70.71,50  z\" class=\"primitive\"/>\n  </g>\n</g>\n<g class=\"plotroot xscalable yscalable\" id=\"img-4a8c58d8-2\">\n  <g font-size=\"3.53\" font-family=\"'PT Sans','Helvetica Neue','Helvetica',sans-serif\" fill=\"#564A55\" stroke=\"#000000\" stroke-opacity=\"0.000\" id=\"img-4a8c58d8-3\">\n    <g transform=\"translate(77.68,93.72)\">\n      <g class=\"primitive\">\n        <text text-anchor=\"middle\" dy=\"0.6em\">t</text>\n      </g>\n    </g>\n  </g>\n  <g class=\"guide xlabels\" font-size=\"2.82\" font-family=\"'PT Sans Caption','Helvetica Neue','Helvetica',sans-serif\" fill=\"#6C606B\" id=\"img-4a8c58d8-4\">\n    <g transform=\"translate(20.94,87.04)\">\n      <g class=\"primitive\">\n        <text text-anchor=\"middle\" dy=\"0.6em\">0</text>\n      </g>\n    </g>\n    <g transform=\"translate(77.68,87.04)\">\n      <g class=\"primitive\">\n        <text text-anchor=\"middle\" dy=\"0.6em\">50</text>\n      </g>\n    </g>\n    <g transform=\"translate(134.42,87.04)\">\n      <g class=\"primitive\">\n        <text text-anchor=\"middle\" dy=\"0.6em\">100</text>\n      </g>\n    </g>\n  </g>\n  <g clip-path=\"url(#img-4a8c58d8-5)\">\n    <g id=\"img-4a8c58d8-6\">\n      <g pointer-events=\"visible\" stroke-width=\"0.3\" fill=\"#000000\" fill-opacity=\"0.000\" stroke=\"#000000\" stroke-opacity=\"0.000\" class=\"guide background\" id=\"img-4a8c58d8-7\">\n        <g transform=\"translate(77.68,45.52)\" id=\"img-4a8c58d8-8\">\n          <path d=\"M-58.74,-40.52 L58.74,-40.52 58.74,40.52 -58.74,40.52  z\" class=\"primitive\"/>\n        </g>\n      </g>\n      <g class=\"guide ygridlines xfixed\" stroke-dasharray=\"0.5,0.5\" stroke-width=\"0.2\" stroke=\"#D0D0E0\" id=\"img-4a8c58d8-9\">\n        <g transform=\"translate(77.68,84.04)\" id=\"img-4a8c58d8-10\">\n          <path fill=\"none\" d=\"M-58.74,0 L58.74,0 \" class=\"primitive\"/>\n        </g>\n        <g transform=\"translate(77.68,64.78)\" id=\"img-4a8c58d8-11\">\n          <path fill=\"none\" d=\"M-58.74,0 L58.74,0 \" class=\"primitive\"/>\n        </g>\n        <g transform=\"translate(77.68,45.52)\" id=\"img-4a8c58d8-12\">\n          <path fill=\"none\" d=\"M-58.74,0 L58.74,0 \" class=\"primitive\"/>\n        </g>\n        <g transform=\"translate(77.68,26.26)\" id=\"img-4a8c58d8-13\">\n          <path fill=\"none\" d=\"M-58.74,0 L58.74,0 \" class=\"primitive\"/>\n        </g>\n        <g transform=\"translate(77.68,7)\" id=\"img-4a8c58d8-14\">\n          <path fill=\"none\" d=\"M-58.74,0 L58.74,0 \" class=\"primitive\"/>\n        </g>\n      </g>\n      <g class=\"guide xgridlines yfixed\" stroke-dasharray=\"0.5,0.5\" stroke-width=\"0.2\" stroke=\"#D0D0E0\" id=\"img-4a8c58d8-15\">\n        <g transform=\"translate(20.94,45.52)\" id=\"img-4a8c58d8-16\">\n          <path fill=\"none\" d=\"M0,-40.52 L0,40.52 \" class=\"primitive\"/>\n        </g>\n        <g transform=\"translate(77.68,45.52)\" id=\"img-4a8c58d8-17\">\n          <path fill=\"none\" d=\"M0,-40.52 L0,40.52 \" class=\"primitive\"/>\n        </g>\n        <g transform=\"translate(134.42,45.52)\" id=\"img-4a8c58d8-18\">\n          <path fill=\"none\" d=\"M0,-40.52 L0,40.52 \" class=\"primitive\"/>\n        </g>\n      </g>\n      <g class=\"plotpanel\" id=\"img-4a8c58d8-19\">\n        <metadata>\n          <boundingbox value=\"18.936666666666667mm 5.0mm 117.48468957064284mm 81.04333333333335mm\"/>\n          <unitbox value=\"-1.762352267576169 205.19188335568728 103.52470453515235 -210.38376671137456\"/>\n        </metadata>\n        <g stroke-width=\"0.3\" fill=\"#000000\" fill-opacity=\"0.000\" class=\"geometry\" id=\"img-4a8c58d8-20\">\n          <g class=\"color_LCHab{Float32}(70.0f0,60.0f0,240.0f0)\" stroke-dasharray=\"none\" stroke-opacity=\"1\" stroke=\"#00BFFF\" id=\"img-4a8c58d8-21\">\n            <g transform=\"translate(77.68,66.75)\" id=\"img-4a8c58d8-22\">\n              <path fill=\"none\" d=\"M-56.74,15.37 L-55.61,14.89 -54.47,14.35 -53.34,13.75 -52.2,13.11 -51.07,12.42 -49.93,11.7 -48.8,10.95 -47.66,10.19 -46.53,9.43 -45.39,8.67 -44.26,7.91 -43.12,7.18 -41.99,6.46 -40.85,5.78 -39.72,5.12 -38.58,4.49 -37.45,3.9 -36.32,3.34 -35.18,2.81 -34.05,2.32 -32.91,1.87 -31.78,1.45 -30.64,1.06 -29.51,0.7 -28.37,0.37 -27.24,0.06 -26.1,-0.22 -24.97,-0.47 -23.83,-0.7 -22.7,-0.91 -21.56,-1.11 -20.43,-1.28 -19.29,-1.44 -18.16,-1.59 -17.02,-1.72 -15.89,-1.84 -14.75,-1.95 -13.62,-2.04 -12.48,-2.13 -11.35,-2.21 -10.21,-2.28 -9.08,-2.35 -7.94,-2.41 -6.81,-2.46 -5.67,-2.51 -4.54,-2.55 -3.4,-2.59 -2.27,-2.63 -1.13,-2.66 0,-2.69 1.13,-2.71 2.27,-2.73 3.4,-2.76 4.54,-2.77 5.67,-2.79 6.81,-2.81 7.94,-2.82 9.08,-2.83 10.21,-2.84 11.35,-2.85 12.48,-2.86 13.62,-2.87 14.75,-2.88 15.89,-2.89 17.02,-2.89 18.16,-2.9 19.29,-2.9 20.43,-2.91 21.56,-2.91 22.7,-2.91 23.83,-2.92 24.97,-2.92 26.1,-2.92 27.24,-2.92 28.37,-2.93 29.51,-2.93 30.64,-2.93 31.78,-2.93 32.91,-2.93 34.05,-2.93 35.18,-2.93 36.32,-2.94 37.45,-2.94 38.58,-2.94 39.72,-2.94 40.85,-2.94 41.99,-2.94 43.12,-2.94 44.26,-2.94 45.39,-2.94 46.53,-2.94 47.66,-2.94 48.8,-2.94 49.93,-2.94 51.07,-2.94 52.2,-2.94 53.34,-2.94 54.47,-2.94 55.61,-2.94 56.74,-2.94 \" class=\"primitive\"/>\n            </g>\n          </g>\n        </g>\n      </g>\n    </g>\n  </g>\n  <g class=\"guide ylabels\" font-size=\"2.82\" font-family=\"'PT Sans Caption','Helvetica Neue','Helvetica',sans-serif\" fill=\"#6C606B\" id=\"img-4a8c58d8-23\">\n    <g transform=\"translate(17.94,84.04)\" id=\"img-4a8c58d8-24\">\n      <g class=\"primitive\">\n        <text text-anchor=\"end\" dy=\"0.35em\">0</text>\n      </g>\n    </g>\n    <g transform=\"translate(17.94,64.78)\" id=\"img-4a8c58d8-25\">\n      <g class=\"primitive\">\n        <text text-anchor=\"end\" dy=\"0.35em\">50</text>\n      </g>\n    </g>\n    <g transform=\"translate(17.94,45.52)\" id=\"img-4a8c58d8-26\">\n      <g class=\"primitive\">\n        <text text-anchor=\"end\" dy=\"0.35em\">100</text>\n      </g>\n    </g>\n    <g transform=\"translate(17.94,26.26)\" id=\"img-4a8c58d8-27\">\n      <g class=\"primitive\">\n        <text text-anchor=\"end\" dy=\"0.35em\">150</text>\n      </g>\n    </g>\n    <g transform=\"translate(17.94,7)\" id=\"img-4a8c58d8-28\">\n      <g class=\"primitive\">\n        <text text-anchor=\"end\" dy=\"0.35em\">200</text>\n      </g>\n    </g>\n  </g>\n  <g font-size=\"3.53\" font-family=\"'PT Sans','Helvetica Neue','Helvetica',sans-serif\" fill=\"#564A55\" stroke=\"#000000\" stroke-opacity=\"0.000\" id=\"img-4a8c58d8-29\">\n    <g transform=\"translate(9.92,45.52)\" id=\"img-4a8c58d8-30\">\n      <g class=\"primitive\">\n        <text text-anchor=\"end\" dy=\"0.35em\">W</text>\n      </g>\n    </g>\n  </g>\n</g>\n<defs>\n  <clipPath id=\"img-4a8c58d8-5\">\n    <path d=\"M18.94,5 L136.42,5 136.42,86.04 18.94,86.04 \" />\n  </clipPath>\n</defs>\n</svg>\n"
           },
           "type": "node"
          }
         ],
         "instanceArgs": {
          "handlers": {
           "obs-output": [
            "function (value, scope) {\n    scope.setInnerHTML(value);\n}\n"
           ]
          },
          "id": "57811102251503837",
          "imports": {
           "data": [],
           "type": "async_block"
          },
          "mount_callbacks": [],
          "observables": {
           "obs-output": {
            "id": "13993508120438697339",
            "sync": false,
            "value": "<?xml version=\"1.0\" encoding=\"UTF-8\"?>\n<svg xmlns=\"http://www.w3.org/2000/svg\"\n     xmlns:xlink=\"http://www.w3.org/1999/xlink\"\n     xmlns:gadfly=\"http://www.gadflyjl.org/ns\"\n     version=\"1.2\"\n     width=\"141.42mm\" height=\"100mm\" viewBox=\"0 0 141.42 100\"\n     stroke=\"none\"\n     fill=\"#000000\"\n     stroke-width=\"0.3\"\n     font-size=\"3.88\"\n>\n<defs>\n  <marker id=\"arrow\" markerWidth=\"15\" markerHeight=\"7\" refX=\"5\" refY=\"3.5\" orient=\"auto\" markerUnits=\"strokeWidth\">\n    <path d=\"M0,0 L15,3.5 L0,7 z\" stroke=\"context-stroke\" fill=\"context-stroke\"/>\n  </marker>\n</defs>\n<g stroke=\"#000000\" stroke-opacity=\"0.000\" fill=\"#FFFFFF\" id=\"img-4a8c58d8-1\">\n  <g transform=\"translate(70.71,50)\">\n    <path d=\"M-70.71,-50 L70.71,-50 70.71,50 -70.71,50  z\" class=\"primitive\"/>\n  </g>\n</g>\n<g class=\"plotroot xscalable yscalable\" id=\"img-4a8c58d8-2\">\n  <g font-size=\"3.53\" font-family=\"'PT Sans','Helvetica Neue','Helvetica',sans-serif\" fill=\"#564A55\" stroke=\"#000000\" stroke-opacity=\"0.000\" id=\"img-4a8c58d8-3\">\n    <g transform=\"translate(77.68,93.72)\">\n      <g class=\"primitive\">\n        <text text-anchor=\"middle\" dy=\"0.6em\">t</text>\n      </g>\n    </g>\n  </g>\n  <g class=\"guide xlabels\" font-size=\"2.82\" font-family=\"'PT Sans Caption','Helvetica Neue','Helvetica',sans-serif\" fill=\"#6C606B\" id=\"img-4a8c58d8-4\">\n    <g transform=\"translate(20.94,87.04)\">\n      <g class=\"primitive\">\n        <text text-anchor=\"middle\" dy=\"0.6em\">0</text>\n      </g>\n    </g>\n    <g transform=\"translate(77.68,87.04)\">\n      <g class=\"primitive\">\n        <text text-anchor=\"middle\" dy=\"0.6em\">50</text>\n      </g>\n    </g>\n    <g transform=\"translate(134.42,87.04)\">\n      <g class=\"primitive\">\n        <text text-anchor=\"middle\" dy=\"0.6em\">100</text>\n      </g>\n    </g>\n  </g>\n  <g clip-path=\"url(#img-4a8c58d8-5)\">\n    <g id=\"img-4a8c58d8-6\">\n      <g pointer-events=\"visible\" stroke-width=\"0.3\" fill=\"#000000\" fill-opacity=\"0.000\" stroke=\"#000000\" stroke-opacity=\"0.000\" class=\"guide background\" id=\"img-4a8c58d8-7\">\n        <g transform=\"translate(77.68,45.52)\" id=\"img-4a8c58d8-8\">\n          <path d=\"M-58.74,-40.52 L58.74,-40.52 58.74,40.52 -58.74,40.52  z\" class=\"primitive\"/>\n        </g>\n      </g>\n      <g class=\"guide ygridlines xfixed\" stroke-dasharray=\"0.5,0.5\" stroke-width=\"0.2\" stroke=\"#D0D0E0\" id=\"img-4a8c58d8-9\">\n        <g transform=\"translate(77.68,84.04)\" id=\"img-4a8c58d8-10\">\n          <path fill=\"none\" d=\"M-58.74,0 L58.74,0 \" class=\"primitive\"/>\n        </g>\n        <g transform=\"translate(77.68,64.78)\" id=\"img-4a8c58d8-11\">\n          <path fill=\"none\" d=\"M-58.74,0 L58.74,0 \" class=\"primitive\"/>\n        </g>\n        <g transform=\"translate(77.68,45.52)\" id=\"img-4a8c58d8-12\">\n          <path fill=\"none\" d=\"M-58.74,0 L58.74,0 \" class=\"primitive\"/>\n        </g>\n        <g transform=\"translate(77.68,26.26)\" id=\"img-4a8c58d8-13\">\n          <path fill=\"none\" d=\"M-58.74,0 L58.74,0 \" class=\"primitive\"/>\n        </g>\n        <g transform=\"translate(77.68,7)\" id=\"img-4a8c58d8-14\">\n          <path fill=\"none\" d=\"M-58.74,0 L58.74,0 \" class=\"primitive\"/>\n        </g>\n      </g>\n      <g class=\"guide xgridlines yfixed\" stroke-dasharray=\"0.5,0.5\" stroke-width=\"0.2\" stroke=\"#D0D0E0\" id=\"img-4a8c58d8-15\">\n        <g transform=\"translate(20.94,45.52)\" id=\"img-4a8c58d8-16\">\n          <path fill=\"none\" d=\"M0,-40.52 L0,40.52 \" class=\"primitive\"/>\n        </g>\n        <g transform=\"translate(77.68,45.52)\" id=\"img-4a8c58d8-17\">\n          <path fill=\"none\" d=\"M0,-40.52 L0,40.52 \" class=\"primitive\"/>\n        </g>\n        <g transform=\"translate(134.42,45.52)\" id=\"img-4a8c58d8-18\">\n          <path fill=\"none\" d=\"M0,-40.52 L0,40.52 \" class=\"primitive\"/>\n        </g>\n      </g>\n      <g class=\"plotpanel\" id=\"img-4a8c58d8-19\">\n        <metadata>\n          <boundingbox value=\"18.936666666666667mm 5.0mm 117.48468957064284mm 81.04333333333335mm\"/>\n          <unitbox value=\"-1.762352267576169 205.19188335568728 103.52470453515235 -210.38376671137456\"/>\n        </metadata>\n        <g stroke-width=\"0.3\" fill=\"#000000\" fill-opacity=\"0.000\" class=\"geometry\" id=\"img-4a8c58d8-20\">\n          <g class=\"color_LCHab{Float32}(70.0f0,60.0f0,240.0f0)\" stroke-dasharray=\"none\" stroke-opacity=\"1\" stroke=\"#00BFFF\" id=\"img-4a8c58d8-21\">\n            <g transform=\"translate(77.68,66.75)\" id=\"img-4a8c58d8-22\">\n              <path fill=\"none\" d=\"M-56.74,15.37 L-55.61,14.89 -54.47,14.35 -53.34,13.75 -52.2,13.11 -51.07,12.42 -49.93,11.7 -48.8,10.95 -47.66,10.19 -46.53,9.43 -45.39,8.67 -44.26,7.91 -43.12,7.18 -41.99,6.46 -40.85,5.78 -39.72,5.12 -38.58,4.49 -37.45,3.9 -36.32,3.34 -35.18,2.81 -34.05,2.32 -32.91,1.87 -31.78,1.45 -30.64,1.06 -29.51,0.7 -28.37,0.37 -27.24,0.06 -26.1,-0.22 -24.97,-0.47 -23.83,-0.7 -22.7,-0.91 -21.56,-1.11 -20.43,-1.28 -19.29,-1.44 -18.16,-1.59 -17.02,-1.72 -15.89,-1.84 -14.75,-1.95 -13.62,-2.04 -12.48,-2.13 -11.35,-2.21 -10.21,-2.28 -9.08,-2.35 -7.94,-2.41 -6.81,-2.46 -5.67,-2.51 -4.54,-2.55 -3.4,-2.59 -2.27,-2.63 -1.13,-2.66 0,-2.69 1.13,-2.71 2.27,-2.73 3.4,-2.76 4.54,-2.77 5.67,-2.79 6.81,-2.81 7.94,-2.82 9.08,-2.83 10.21,-2.84 11.35,-2.85 12.48,-2.86 13.62,-2.87 14.75,-2.88 15.89,-2.89 17.02,-2.89 18.16,-2.9 19.29,-2.9 20.43,-2.91 21.56,-2.91 22.7,-2.91 23.83,-2.92 24.97,-2.92 26.1,-2.92 27.24,-2.92 28.37,-2.93 29.51,-2.93 30.64,-2.93 31.78,-2.93 32.91,-2.93 34.05,-2.93 35.18,-2.93 36.32,-2.94 37.45,-2.94 38.58,-2.94 39.72,-2.94 40.85,-2.94 41.99,-2.94 43.12,-2.94 44.26,-2.94 45.39,-2.94 46.53,-2.94 47.66,-2.94 48.8,-2.94 49.93,-2.94 51.07,-2.94 52.2,-2.94 53.34,-2.94 54.47,-2.94 55.61,-2.94 56.74,-2.94 \" class=\"primitive\"/>\n            </g>\n          </g>\n        </g>\n      </g>\n    </g>\n  </g>\n  <g class=\"guide ylabels\" font-size=\"2.82\" font-family=\"'PT Sans Caption','Helvetica Neue','Helvetica',sans-serif\" fill=\"#6C606B\" id=\"img-4a8c58d8-23\">\n    <g transform=\"translate(17.94,84.04)\" id=\"img-4a8c58d8-24\">\n      <g class=\"primitive\">\n        <text text-anchor=\"end\" dy=\"0.35em\">0</text>\n      </g>\n    </g>\n    <g transform=\"translate(17.94,64.78)\" id=\"img-4a8c58d8-25\">\n      <g class=\"primitive\">\n        <text text-anchor=\"end\" dy=\"0.35em\">50</text>\n      </g>\n    </g>\n    <g transform=\"translate(17.94,45.52)\" id=\"img-4a8c58d8-26\">\n      <g class=\"primitive\">\n        <text text-anchor=\"end\" dy=\"0.35em\">100</text>\n      </g>\n    </g>\n    <g transform=\"translate(17.94,26.26)\" id=\"img-4a8c58d8-27\">\n      <g class=\"primitive\">\n        <text text-anchor=\"end\" dy=\"0.35em\">150</text>\n      </g>\n    </g>\n    <g transform=\"translate(17.94,7)\" id=\"img-4a8c58d8-28\">\n      <g class=\"primitive\">\n        <text text-anchor=\"end\" dy=\"0.35em\">200</text>\n      </g>\n    </g>\n  </g>\n  <g font-size=\"3.53\" font-family=\"'PT Sans','Helvetica Neue','Helvetica',sans-serif\" fill=\"#564A55\" stroke=\"#000000\" stroke-opacity=\"0.000\" id=\"img-4a8c58d8-29\">\n    <g transform=\"translate(9.92,45.52)\" id=\"img-4a8c58d8-30\">\n      <g class=\"primitive\">\n        <text text-anchor=\"end\" dy=\"0.35em\">W</text>\n      </g>\n    </g>\n  </g>\n</g>\n<defs>\n  <clipPath id=\"img-4a8c58d8-5\">\n    <path d=\"M18.94,5 L136.42,5 136.42,86.04 18.94,86.04 \" />\n  </clipPath>\n</defs>\n</svg>\n"
           }
          },
          "systemjs_options": null
         },
         "nodeType": "Scope",
         "props": {},
         "type": "node"
        }
       ],
       "instanceArgs": {
        "namespace": "html",
        "tag": "div"
       },
       "nodeType": "DOM",
       "props": {
        "style": {
         "display": "flex",
         "flex-direction": "column"
        }
       },
       "type": "node"
      },
      "text/html": [
       "<div\n",
       "    class=\"webio-mountpoint\"\n",
       "    data-webio-mountpoint=\"7290148448283302644\"\n",
       ">\n",
       "    <script>\n",
       "    (function(){\n",
       "    // Some integrations (namely, IJulia/Jupyter) use an alternate render pathway than\n",
       "    // just putting the html on the page. If WebIO isn't defined, then it's pretty likely\n",
       "    // that we're in one of those situations and the integration just isn't installed\n",
       "    // correctly.\n",
       "    if (typeof window.WebIO === \"undefined\") {\n",
       "        document\n",
       "            .querySelector('[data-webio-mountpoint=\"7290148448283302644\"]')\n",
       "            .innerHTML = (\n",
       "                '<div style=\"padding: 1em; background-color: #f8d6da; border: 1px solid #f5c6cb; font-weight: bold;\">' +\n",
       "                '<p><strong>WebIO not detected.</strong></p>' +\n",
       "                '<p>Please read ' +\n",
       "                '<a href=\"https://juliagizmos.github.io/WebIO.jl/latest/troubleshooting/not-detected/\" target=\"_blank\">the troubleshooting guide</a> ' +\n",
       "                'for more information on how to resolve this issue.</p>' +\n",
       "                '<p><a href=\"https://juliagizmos.github.io/WebIO.jl/latest/troubleshooting/not-detected/\" target=\"_blank\">https://juliagizmos.github.io/WebIO.jl/latest/troubleshooting/not-detected/</a></p>' +\n",
       "                '</div>'\n",
       "            );\n",
       "        return;\n",
       "    }\n",
       "    WebIO.mount(\n",
       "        document.querySelector('[data-webio-mountpoint=\"7290148448283302644\"]'),\n",
       "        {\"props\":{\"style\":{\"display\":\"flex\",\"flex-direction\":\"column\"}},\"nodeType\":\"DOM\",\"type\":\"node\",\"instanceArgs\":{\"namespace\":\"html\",\"tag\":\"div\"},\"children\":[{\"props\":{\"style\":{\"color\":\"rebeccapurple\",\"font-family\":\"monospace\"}},\"nodeType\":\"DOM\",\"type\":\"node\",\"instanceArgs\":{\"namespace\":\"html\",\"tag\":\"div\"},\"children\":[\"Gomp\"]},{\"props\":{\"className\":\"field interact-widget\"},\"nodeType\":\"DOM\",\"type\":\"node\",\"instanceArgs\":{\"namespace\":\"html\",\"tag\":\"div\"},\"children\":[{\"props\":{},\"nodeType\":\"Scope\",\"type\":\"node\",\"instanceArgs\":{\"imports\":{\"data\":[{\"name\":\"knockout\",\"type\":\"js\",\"url\":\"\\/assetserver\\/d749de49a15576291e39755d819be2408bf7f995-knockout.js\"},{\"name\":\"knockout_punches\",\"type\":\"js\",\"url\":\"\\/assetserver\\/9f5c86158cf79faf331cfb32636cb08a9b1f0dc2-knockout_punches.js\"},{\"name\":null,\"type\":\"js\",\"url\":\"\\/assetserver\\/96a65e6078e018eef9bba5cd6ed02b2635164c53-all.js\"},{\"name\":null,\"type\":\"css\",\"url\":\"\\/assetserver\\/98c9b8e9cfeaa0be2a6f3aa79abc5da0680c3037-style.css\"},{\"name\":null,\"type\":\"css\",\"url\":\"\\/assetserver\\/c5a1211d10b2f10049d85486a98c5e9063cad849-bulma_confined.min.css\"}],\"type\":\"async_block\"},\"id\":\"3625359290336637690\",\"handlers\":{\"changes\":[\"(function (val){return (val!=this.model[\\\"changes\\\"]()) ? (this.valueFromJulia[\\\"changes\\\"]=true, this.model[\\\"changes\\\"](val)) : undefined})\"],\"index\":[\"(function (val){return (val!=this.model[\\\"index\\\"]()) ? (this.valueFromJulia[\\\"index\\\"]=true, this.model[\\\"index\\\"](val)) : undefined})\"]},\"systemjs_options\":null,\"mount_callbacks\":[\"function () {\\n    var handler = (function (ko, koPunches) {\\n    ko.punches.enableAll();\\n    ko.bindingHandlers.numericValue = {\\n        init: function(element, valueAccessor, allBindings, data, context) {\\n            var stringified = ko.observable(ko.unwrap(valueAccessor()));\\n            stringified.subscribe(function(value) {\\n                var val = parseFloat(value);\\n                if (!isNaN(val)) {\\n                    valueAccessor()(val);\\n                }\\n            });\\n            valueAccessor().subscribe(function(value) {\\n                var str = JSON.stringify(value);\\n                if ((str == \\\"0\\\") && ([\\\"-0\\\", \\\"-0.\\\"].indexOf(stringified()) >= 0))\\n                     return;\\n                 if ([\\\"null\\\", \\\"\\\"].indexOf(str) >= 0)\\n                     return;\\n                stringified(str);\\n            });\\n            ko.applyBindingsToNode(\\n                element,\\n                {\\n                    value: stringified,\\n                    valueUpdate: allBindings.get('valueUpdate'),\\n                },\\n                context,\\n            );\\n        }\\n    };\\n    var json_data = {\\\"formatted_vals\\\":[\\\"0.0\\\",\\\"0.01\\\",\\\"0.02\\\",\\\"0.03\\\",\\\"0.04\\\",\\\"0.05\\\",\\\"0.06\\\",\\\"0.07\\\",\\\"0.08\\\",\\\"0.09\\\",\\\"0.1\\\",\\\"0.11\\\",\\\"0.12\\\",\\\"0.13\\\",\\\"0.14\\\",\\\"0.15\\\",\\\"0.16\\\",\\\"0.17\\\",\\\"0.18\\\",\\\"0.19\\\",\\\"0.2\\\",\\\"0.21\\\",\\\"0.22\\\",\\\"0.23\\\",\\\"0.24\\\",\\\"0.25\\\",\\\"0.26\\\",\\\"0.27\\\",\\\"0.28\\\",\\\"0.29\\\",\\\"0.3\\\",\\\"0.31\\\",\\\"0.32\\\",\\\"0.33\\\",\\\"0.34\\\",\\\"0.35\\\",\\\"0.36\\\",\\\"0.37\\\",\\\"0.38\\\",\\\"0.39\\\",\\\"0.4\\\",\\\"0.41\\\",\\\"0.42\\\",\\\"0.43\\\",\\\"0.44\\\",\\\"0.45\\\",\\\"0.46\\\",\\\"0.47\\\",\\\"0.48\\\",\\\"0.49\\\",\\\"0.5\\\"],\\\"changes\\\":WebIO.getval({\\\"name\\\":\\\"changes\\\",\\\"scope\\\":\\\"3625359290336637690\\\",\\\"id\\\":\\\"5862894902307827095\\\",\\\"type\\\":\\\"observable\\\"}),\\\"index\\\":WebIO.getval({\\\"name\\\":\\\"index\\\",\\\"scope\\\":\\\"3625359290336637690\\\",\\\"id\\\":\\\"14409393654357043784\\\",\\\"type\\\":\\\"observable\\\"})};\\n    var self = this;\\n    function AppViewModel() {\\n        for (var key in json_data) {\\n            var el = json_data[key];\\n            this[key] = Array.isArray(el) ? ko.observableArray(el) : ko.observable(el);\\n        }\\n        \\n        [this[\\\"formatted_val\\\"]=ko.computed(    function(){\\n        return this.formatted_vals()[parseInt(this.index())-(1)];\\n    }\\n,this)]\\n        [this[\\\"changes\\\"].subscribe((function (val){!(this.valueFromJulia[\\\"changes\\\"]) ? (WebIO.setval({\\\"name\\\":\\\"changes\\\",\\\"scope\\\":\\\"3625359290336637690\\\",\\\"id\\\":\\\"5862894902307827095\\\",\\\"type\\\":\\\"observable\\\"},val)) : undefined; return this.valueFromJulia[\\\"changes\\\"]=false}),self),this[\\\"index\\\"].subscribe((function (val){!(this.valueFromJulia[\\\"index\\\"]) ? (WebIO.setval({\\\"name\\\":\\\"index\\\",\\\"scope\\\":\\\"3625359290336637690\\\",\\\"id\\\":\\\"14409393654357043784\\\",\\\"type\\\":\\\"observable\\\"},val)) : undefined; return this.valueFromJulia[\\\"index\\\"]=false}),self)]\\n        \\n    }\\n    self.model = new AppViewModel();\\n    self.valueFromJulia = {};\\n    for (var key in json_data) {\\n        self.valueFromJulia[key] = false;\\n    }\\n    ko.applyBindings(self.model, self.dom);\\n}\\n);\\n    (WebIO.importBlock({\\\"data\\\":[{\\\"name\\\":\\\"knockout\\\",\\\"type\\\":\\\"js\\\",\\\"url\\\":\\\"\\/assetserver\\/d749de49a15576291e39755d819be2408bf7f995-knockout.js\\\"},{\\\"name\\\":\\\"knockout_punches\\\",\\\"type\\\":\\\"js\\\",\\\"url\\\":\\\"\\/assetserver\\/9f5c86158cf79faf331cfb32636cb08a9b1f0dc2-knockout_punches.js\\\"}],\\\"type\\\":\\\"async_block\\\"})).then((imports) => handler.apply(this, imports));\\n}\\n\"],\"observables\":{\"changes\":{\"sync\":true,\"id\":\"5862894902307827095\",\"value\":0},\"index\":{\"sync\":true,\"id\":\"14409393654357043784\",\"value\":26}}},\"children\":[{\"props\":{\"className\":\"interact-flex-row interact-widget\",\"style\":{\"font-family\":\"monospace\",\"width\":\"80%\"}},\"nodeType\":\"DOM\",\"type\":\"node\",\"instanceArgs\":{\"namespace\":\"html\",\"tag\":\"div\"},\"children\":[{\"props\":{\"className\":\"interact-flex-row-left\"},\"nodeType\":\"DOM\",\"type\":\"node\",\"instanceArgs\":{\"namespace\":\"html\",\"tag\":\"div\"},\"children\":[{\"props\":{\"className\":\"interact \",\"style\":{\"padding\":\"5px 10px 0px 10px\",\"white-space\":\"nowrap\",\"color\":\"royalblue\"}},\"nodeType\":\"DOM\",\"type\":\"node\",\"instanceArgs\":{\"namespace\":\"html\",\"tag\":\"label\"},\"children\":[\"μ0\"]}]},{\"props\":{\"className\":\"interact-flex-row-center\"},\"nodeType\":\"DOM\",\"type\":\"node\",\"instanceArgs\":{\"namespace\":\"html\",\"tag\":\"div\"},\"children\":[{\"props\":{\"max\":51,\"min\":1,\"attributes\":{\"type\":\"range\",\"data-bind\":\"numericValue: index, valueUpdate: 'input', event: {change: function (){this.changes(this.changes()+1)}}\",\"orient\":\"horizontal\"},\"step\":1,\"className\":\"slider slider is-fullwidth\",\"style\":{}},\"nodeType\":\"DOM\",\"type\":\"node\",\"instanceArgs\":{\"namespace\":\"html\",\"tag\":\"input\"},\"children\":[]}]},{\"props\":{\"className\":\"interact-flex-row-right\"},\"nodeType\":\"DOM\",\"type\":\"node\",\"instanceArgs\":{\"namespace\":\"html\",\"tag\":\"div\"},\"children\":[{\"props\":{\"attributes\":{\"data-bind\":\"text: formatted_val\"}},\"nodeType\":\"DOM\",\"type\":\"node\",\"instanceArgs\":{\"namespace\":\"html\",\"tag\":\"p\"},\"children\":[]}]}]}]}]},{\"props\":{\"className\":\"field interact-widget\"},\"nodeType\":\"DOM\",\"type\":\"node\",\"instanceArgs\":{\"namespace\":\"html\",\"tag\":\"div\"},\"children\":[{\"props\":{},\"nodeType\":\"Scope\",\"type\":\"node\",\"instanceArgs\":{\"imports\":{\"data\":[{\"name\":\"knockout\",\"type\":\"js\",\"url\":\"\\/assetserver\\/d749de49a15576291e39755d819be2408bf7f995-knockout.js\"},{\"name\":\"knockout_punches\",\"type\":\"js\",\"url\":\"\\/assetserver\\/9f5c86158cf79faf331cfb32636cb08a9b1f0dc2-knockout_punches.js\"},{\"name\":null,\"type\":\"js\",\"url\":\"\\/assetserver\\/96a65e6078e018eef9bba5cd6ed02b2635164c53-all.js\"},{\"name\":null,\"type\":\"css\",\"url\":\"\\/assetserver\\/98c9b8e9cfeaa0be2a6f3aa79abc5da0680c3037-style.css\"},{\"name\":null,\"type\":\"css\",\"url\":\"\\/assetserver\\/c5a1211d10b2f10049d85486a98c5e9063cad849-bulma_confined.min.css\"}],\"type\":\"async_block\"},\"id\":\"2740424874649263323\",\"handlers\":{\"changes\":[\"(function (val){return (val!=this.model[\\\"changes\\\"]()) ? (this.valueFromJulia[\\\"changes\\\"]=true, this.model[\\\"changes\\\"](val)) : undefined})\"],\"index\":[\"(function (val){return (val!=this.model[\\\"index\\\"]()) ? (this.valueFromJulia[\\\"index\\\"]=true, this.model[\\\"index\\\"](val)) : undefined})\"]},\"systemjs_options\":null,\"mount_callbacks\":[\"function () {\\n    var handler = (function (ko, koPunches) {\\n    ko.punches.enableAll();\\n    ko.bindingHandlers.numericValue = {\\n        init: function(element, valueAccessor, allBindings, data, context) {\\n            var stringified = ko.observable(ko.unwrap(valueAccessor()));\\n            stringified.subscribe(function(value) {\\n                var val = parseFloat(value);\\n                if (!isNaN(val)) {\\n                    valueAccessor()(val);\\n                }\\n            });\\n            valueAccessor().subscribe(function(value) {\\n                var str = JSON.stringify(value);\\n                if ((str == \\\"0\\\") && ([\\\"-0\\\", \\\"-0.\\\"].indexOf(stringified()) >= 0))\\n                     return;\\n                 if ([\\\"null\\\", \\\"\\\"].indexOf(str) >= 0)\\n                     return;\\n                stringified(str);\\n            });\\n            ko.applyBindingsToNode(\\n                element,\\n                {\\n                    value: stringified,\\n                    valueUpdate: allBindings.get('valueUpdate'),\\n                },\\n                context,\\n            );\\n        }\\n    };\\n    var json_data = {\\\"formatted_vals\\\":[\\\"0.0\\\",\\\"0.01\\\",\\\"0.02\\\",\\\"0.03\\\",\\\"0.04\\\",\\\"0.05\\\",\\\"0.06\\\",\\\"0.07\\\",\\\"0.08\\\",\\\"0.09\\\",\\\"0.1\\\",\\\"0.11\\\",\\\"0.12\\\",\\\"0.13\\\",\\\"0.14\\\",\\\"0.15\\\",\\\"0.16\\\",\\\"0.17\\\",\\\"0.18\\\",\\\"0.19\\\",\\\"0.2\\\"],\\\"changes\\\":WebIO.getval({\\\"name\\\":\\\"changes\\\",\\\"scope\\\":\\\"2740424874649263323\\\",\\\"id\\\":\\\"10391632895912620594\\\",\\\"type\\\":\\\"observable\\\"}),\\\"index\\\":WebIO.getval({\\\"name\\\":\\\"index\\\",\\\"scope\\\":\\\"2740424874649263323\\\",\\\"id\\\":\\\"2667056621875383176\\\",\\\"type\\\":\\\"observable\\\"})};\\n    var self = this;\\n    function AppViewModel() {\\n        for (var key in json_data) {\\n            var el = json_data[key];\\n            this[key] = Array.isArray(el) ? ko.observableArray(el) : ko.observable(el);\\n        }\\n        \\n        [this[\\\"formatted_val\\\"]=ko.computed(    function(){\\n        return this.formatted_vals()[parseInt(this.index())-(1)];\\n    }\\n,this)]\\n        [this[\\\"changes\\\"].subscribe((function (val){!(this.valueFromJulia[\\\"changes\\\"]) ? (WebIO.setval({\\\"name\\\":\\\"changes\\\",\\\"scope\\\":\\\"2740424874649263323\\\",\\\"id\\\":\\\"10391632895912620594\\\",\\\"type\\\":\\\"observable\\\"},val)) : undefined; return this.valueFromJulia[\\\"changes\\\"]=false}),self),this[\\\"index\\\"].subscribe((function (val){!(this.valueFromJulia[\\\"index\\\"]) ? (WebIO.setval({\\\"name\\\":\\\"index\\\",\\\"scope\\\":\\\"2740424874649263323\\\",\\\"id\\\":\\\"2667056621875383176\\\",\\\"type\\\":\\\"observable\\\"},val)) : undefined; return this.valueFromJulia[\\\"index\\\"]=false}),self)]\\n        \\n    }\\n    self.model = new AppViewModel();\\n    self.valueFromJulia = {};\\n    for (var key in json_data) {\\n        self.valueFromJulia[key] = false;\\n    }\\n    ko.applyBindings(self.model, self.dom);\\n}\\n);\\n    (WebIO.importBlock({\\\"data\\\":[{\\\"name\\\":\\\"knockout\\\",\\\"type\\\":\\\"js\\\",\\\"url\\\":\\\"\\/assetserver\\/d749de49a15576291e39755d819be2408bf7f995-knockout.js\\\"},{\\\"name\\\":\\\"knockout_punches\\\",\\\"type\\\":\\\"js\\\",\\\"url\\\":\\\"\\/assetserver\\/9f5c86158cf79faf331cfb32636cb08a9b1f0dc2-knockout_punches.js\\\"}],\\\"type\\\":\\\"async_block\\\"})).then((imports) => handler.apply(this, imports));\\n}\\n\"],\"observables\":{\"changes\":{\"sync\":true,\"id\":\"10391632895912620594\",\"value\":0},\"index\":{\"sync\":true,\"id\":\"2667056621875383176\",\"value\":11}}},\"children\":[{\"props\":{\"className\":\"interact-flex-row interact-widget\",\"style\":{\"font-family\":\"monospace\",\"width\":\"80%\"}},\"nodeType\":\"DOM\",\"type\":\"node\",\"instanceArgs\":{\"namespace\":\"html\",\"tag\":\"div\"},\"children\":[{\"props\":{\"className\":\"interact-flex-row-left\"},\"nodeType\":\"DOM\",\"type\":\"node\",\"instanceArgs\":{\"namespace\":\"html\",\"tag\":\"div\"},\"children\":[{\"props\":{\"className\":\"interact \",\"style\":{\"padding\":\"5px 10px 0px 10px\",\"white-space\":\"nowrap\",\"color\":\"royalblue\"}},\"nodeType\":\"DOM\",\"type\":\"node\",\"instanceArgs\":{\"namespace\":\"html\",\"tag\":\"label\"},\"children\":[\"D\"]}]},{\"props\":{\"className\":\"interact-flex-row-center\"},\"nodeType\":\"DOM\",\"type\":\"node\",\"instanceArgs\":{\"namespace\":\"html\",\"tag\":\"div\"},\"children\":[{\"props\":{\"max\":21,\"min\":1,\"attributes\":{\"type\":\"range\",\"data-bind\":\"numericValue: index, valueUpdate: 'input', event: {change: function (){this.changes(this.changes()+1)}}\",\"orient\":\"horizontal\"},\"step\":1,\"className\":\"slider slider is-fullwidth\",\"style\":{}},\"nodeType\":\"DOM\",\"type\":\"node\",\"instanceArgs\":{\"namespace\":\"html\",\"tag\":\"input\"},\"children\":[]}]},{\"props\":{\"className\":\"interact-flex-row-right\"},\"nodeType\":\"DOM\",\"type\":\"node\",\"instanceArgs\":{\"namespace\":\"html\",\"tag\":\"div\"},\"children\":[{\"props\":{\"attributes\":{\"data-bind\":\"text: formatted_val\"}},\"nodeType\":\"DOM\",\"type\":\"node\",\"instanceArgs\":{\"namespace\":\"html\",\"tag\":\"p\"},\"children\":[]}]}]}]}]},{\"props\":{\"className\":\"field interact-widget\"},\"nodeType\":\"DOM\",\"type\":\"node\",\"instanceArgs\":{\"namespace\":\"html\",\"tag\":\"div\"},\"children\":[{\"props\":{},\"nodeType\":\"Scope\",\"type\":\"node\",\"instanceArgs\":{\"imports\":{\"data\":[{\"name\":\"knockout\",\"type\":\"js\",\"url\":\"\\/assetserver\\/d749de49a15576291e39755d819be2408bf7f995-knockout.js\"},{\"name\":\"knockout_punches\",\"type\":\"js\",\"url\":\"\\/assetserver\\/9f5c86158cf79faf331cfb32636cb08a9b1f0dc2-knockout_punches.js\"},{\"name\":null,\"type\":\"js\",\"url\":\"\\/assetserver\\/96a65e6078e018eef9bba5cd6ed02b2635164c53-all.js\"},{\"name\":null,\"type\":\"css\",\"url\":\"\\/assetserver\\/98c9b8e9cfeaa0be2a6f3aa79abc5da0680c3037-style.css\"},{\"name\":null,\"type\":\"css\",\"url\":\"\\/assetserver\\/c5a1211d10b2f10049d85486a98c5e9063cad849-bulma_confined.min.css\"}],\"type\":\"async_block\"},\"id\":\"8174863025626627151\",\"handlers\":{\"changes\":[\"(function (val){return (val!=this.model[\\\"changes\\\"]()) ? (this.valueFromJulia[\\\"changes\\\"]=true, this.model[\\\"changes\\\"](val)) : undefined})\"],\"index\":[\"(function (val){return (val!=this.model[\\\"index\\\"]()) ? (this.valueFromJulia[\\\"index\\\"]=true, this.model[\\\"index\\\"](val)) : undefined})\"]},\"systemjs_options\":null,\"mount_callbacks\":[\"function () {\\n    var handler = (function (ko, koPunches) {\\n    ko.punches.enableAll();\\n    ko.bindingHandlers.numericValue = {\\n        init: function(element, valueAccessor, allBindings, data, context) {\\n            var stringified = ko.observable(ko.unwrap(valueAccessor()));\\n            stringified.subscribe(function(value) {\\n                var val = parseFloat(value);\\n                if (!isNaN(val)) {\\n                    valueAccessor()(val);\\n                }\\n            });\\n            valueAccessor().subscribe(function(value) {\\n                var str = JSON.stringify(value);\\n                if ((str == \\\"0\\\") && ([\\\"-0\\\", \\\"-0.\\\"].indexOf(stringified()) >= 0))\\n                     return;\\n                 if ([\\\"null\\\", \\\"\\\"].indexOf(str) >= 0)\\n                     return;\\n                stringified(str);\\n            });\\n            ko.applyBindingsToNode(\\n                element,\\n                {\\n                    value: stringified,\\n                    valueUpdate: allBindings.get('valueUpdate'),\\n                },\\n                context,\\n            );\\n        }\\n    };\\n    var json_data = {\\\"formatted_vals\\\":[\\\"0.0\\\",\\\"0.1\\\",\\\"0.2\\\",\\\"0.3\\\",\\\"0.4\\\",\\\"0.5\\\",\\\"0.6\\\",\\\"0.7\\\",\\\"0.8\\\",\\\"0.9\\\",\\\"1.0\\\",\\\"1.1\\\",\\\"1.2\\\",\\\"1.3\\\",\\\"1.4\\\",\\\"1.5\\\",\\\"1.6\\\",\\\"1.7\\\",\\\"1.8\\\",\\\"1.9\\\",\\\"2.0\\\",\\\"2.1\\\",\\\"2.2\\\",\\\"2.3\\\",\\\"2.4\\\",\\\"2.5\\\",\\\"2.6\\\",\\\"2.7\\\",\\\"2.8\\\",\\\"2.9\\\",\\\"3.0\\\",\\\"3.1\\\",\\\"3.2\\\",\\\"3.3\\\",\\\"3.4\\\",\\\"3.5\\\",\\\"3.6\\\",\\\"3.7\\\",\\\"3.8\\\",\\\"3.9\\\",\\\"4.0\\\",\\\"4.1\\\",\\\"4.2\\\",\\\"4.3\\\",\\\"4.4\\\",\\\"4.5\\\",\\\"4.6\\\",\\\"4.7\\\",\\\"4.8\\\",\\\"4.9\\\",\\\"5.0\\\",\\\"5.1\\\",\\\"5.2\\\",\\\"5.3\\\",\\\"5.4\\\",\\\"5.5\\\",\\\"5.6\\\",\\\"5.7\\\",\\\"5.8\\\",\\\"5.9\\\",\\\"6.0\\\",\\\"6.1\\\",\\\"6.2\\\",\\\"6.3\\\",\\\"6.4\\\",\\\"6.5\\\",\\\"6.6\\\",\\\"6.7\\\",\\\"6.8\\\",\\\"6.9\\\",\\\"7.0\\\",\\\"7.1\\\",\\\"7.2\\\",\\\"7.3\\\",\\\"7.4\\\",\\\"7.5\\\",\\\"7.6\\\",\\\"7.7\\\",\\\"7.8\\\",\\\"7.9\\\",\\\"8.0\\\",\\\"8.1\\\",\\\"8.2\\\",\\\"8.3\\\",\\\"8.4\\\",\\\"8.5\\\",\\\"8.6\\\",\\\"8.7\\\",\\\"8.8\\\",\\\"8.9\\\",\\\"9.0\\\",\\\"9.1\\\",\\\"9.2\\\",\\\"9.3\\\",\\\"9.4\\\",\\\"9.5\\\",\\\"9.6\\\",\\\"9.7\\\",\\\"9.8\\\",\\\"9.9\\\",\\\"10.0\\\"],\\\"changes\\\":WebIO.getval({\\\"name\\\":\\\"changes\\\",\\\"scope\\\":\\\"8174863025626627151\\\",\\\"id\\\":\\\"4623685479074123224\\\",\\\"type\\\":\\\"observable\\\"}),\\\"index\\\":WebIO.getval({\\\"name\\\":\\\"index\\\",\\\"scope\\\":\\\"8174863025626627151\\\",\\\"id\\\":\\\"3089685589449289157\\\",\\\"type\\\":\\\"observable\\\"})};\\n    var self = this;\\n    function AppViewModel() {\\n        for (var key in json_data) {\\n            var el = json_data[key];\\n            this[key] = Array.isArray(el) ? ko.observableArray(el) : ko.observable(el);\\n        }\\n        \\n        [this[\\\"formatted_val\\\"]=ko.computed(    function(){\\n        return this.formatted_vals()[parseInt(this.index())-(1)];\\n    }\\n,this)]\\n        [this[\\\"changes\\\"].subscribe((function (val){!(this.valueFromJulia[\\\"changes\\\"]) ? (WebIO.setval({\\\"name\\\":\\\"changes\\\",\\\"scope\\\":\\\"8174863025626627151\\\",\\\"id\\\":\\\"4623685479074123224\\\",\\\"type\\\":\\\"observable\\\"},val)) : undefined; return this.valueFromJulia[\\\"changes\\\"]=false}),self),this[\\\"index\\\"].subscribe((function (val){!(this.valueFromJulia[\\\"index\\\"]) ? (WebIO.setval({\\\"name\\\":\\\"index\\\",\\\"scope\\\":\\\"8174863025626627151\\\",\\\"id\\\":\\\"3089685589449289157\\\",\\\"type\\\":\\\"observable\\\"},val)) : undefined; return this.valueFromJulia[\\\"index\\\"]=false}),self)]\\n        \\n    }\\n    self.model = new AppViewModel();\\n    self.valueFromJulia = {};\\n    for (var key in json_data) {\\n        self.valueFromJulia[key] = false;\\n    }\\n    ko.applyBindings(self.model, self.dom);\\n}\\n);\\n    (WebIO.importBlock({\\\"data\\\":[{\\\"name\\\":\\\"knockout\\\",\\\"type\\\":\\\"js\\\",\\\"url\\\":\\\"\\/assetserver\\/d749de49a15576291e39755d819be2408bf7f995-knockout.js\\\"},{\\\"name\\\":\\\"knockout_punches\\\",\\\"type\\\":\\\"js\\\",\\\"url\\\":\\\"\\/assetserver\\/9f5c86158cf79faf331cfb32636cb08a9b1f0dc2-knockout_punches.js\\\"}],\\\"type\\\":\\\"async_block\\\"})).then((imports) => handler.apply(this, imports));\\n}\\n\"],\"observables\":{\"changes\":{\"sync\":true,\"id\":\"4623685479074123224\",\"value\":0},\"index\":{\"sync\":true,\"id\":\"3089685589449289157\",\"value\":51}}},\"children\":[{\"props\":{\"className\":\"interact-flex-row interact-widget\",\"style\":{\"font-family\":\"monospace\",\"width\":\"80%\"}},\"nodeType\":\"DOM\",\"type\":\"node\",\"instanceArgs\":{\"namespace\":\"html\",\"tag\":\"div\"},\"children\":[{\"props\":{\"className\":\"interact-flex-row-left\"},\"nodeType\":\"DOM\",\"type\":\"node\",\"instanceArgs\":{\"namespace\":\"html\",\"tag\":\"div\"},\"children\":[{\"props\":{\"className\":\"interact \",\"style\":{\"padding\":\"5px 10px 0px 10px\",\"white-space\":\"nowrap\",\"color\":\"royalblue\"}},\"nodeType\":\"DOM\",\"type\":\"node\",\"instanceArgs\":{\"namespace\":\"html\",\"tag\":\"label\"},\"children\":[\"W0\"]}]},{\"props\":{\"className\":\"interact-flex-row-center\"},\"nodeType\":\"DOM\",\"type\":\"node\",\"instanceArgs\":{\"namespace\":\"html\",\"tag\":\"div\"},\"children\":[{\"props\":{\"max\":101,\"min\":1,\"attributes\":{\"type\":\"range\",\"data-bind\":\"numericValue: index, valueUpdate: 'input', event: {change: function (){this.changes(this.changes()+1)}}\",\"orient\":\"horizontal\"},\"step\":1,\"className\":\"slider slider is-fullwidth\",\"style\":{}},\"nodeType\":\"DOM\",\"type\":\"node\",\"instanceArgs\":{\"namespace\":\"html\",\"tag\":\"input\"},\"children\":[]}]},{\"props\":{\"className\":\"interact-flex-row-right\"},\"nodeType\":\"DOM\",\"type\":\"node\",\"instanceArgs\":{\"namespace\":\"html\",\"tag\":\"div\"},\"children\":[{\"props\":{\"attributes\":{\"data-bind\":\"text: formatted_val\"}},\"nodeType\":\"DOM\",\"type\":\"node\",\"instanceArgs\":{\"namespace\":\"html\",\"tag\":\"p\"},\"children\":[]}]}]}]}]},{\"props\":{},\"nodeType\":\"Scope\",\"type\":\"node\",\"instanceArgs\":{\"imports\":{\"data\":[],\"type\":\"async_block\"},\"id\":\"10344120258925240381\",\"handlers\":{\"obs-output\":[\"function (value, scope) {\\n    scope.setInnerHTML(value);\\n}\\n\"]},\"systemjs_options\":null,\"mount_callbacks\":[],\"observables\":{\"obs-output\":{\"sync\":false,\"id\":\"12257198806360581785\",\"value\":\"<?xml version=\\\"1.0\\\" encoding=\\\"UTF-8\\\"?>\\n<svg xmlns=\\\"http:\\/\\/www.w3.org\\/2000\\/svg\\\"\\n     xmlns:xlink=\\\"http:\\/\\/www.w3.org\\/1999\\/xlink\\\"\\n     xmlns:gadfly=\\\"http:\\/\\/www.gadflyjl.org\\/ns\\\"\\n     version=\\\"1.2\\\"\\n     width=\\\"141.42mm\\\" height=\\\"100mm\\\" viewBox=\\\"0 0 141.42 100\\\"\\n     stroke=\\\"none\\\"\\n     fill=\\\"#000000\\\"\\n     stroke-width=\\\"0.3\\\"\\n     font-size=\\\"3.88\\\"\\n>\\n<defs>\\n  <marker id=\\\"arrow\\\" markerWidth=\\\"15\\\" markerHeight=\\\"7\\\" refX=\\\"5\\\" refY=\\\"3.5\\\" orient=\\\"auto\\\" markerUnits=\\\"strokeWidth\\\">\\n    <path d=\\\"M0,0 L15,3.5 L0,7 z\\\" stroke=\\\"context-stroke\\\" fill=\\\"context-stroke\\\"\\/>\\n  <\\/marker>\\n<\\/defs>\\n<g stroke=\\\"#000000\\\" stroke-opacity=\\\"0.000\\\" fill=\\\"#FFFFFF\\\" id=\\\"img-20c89cd9-1\\\">\\n  <g transform=\\\"translate(70.71,50)\\\">\\n    <path d=\\\"M-70.71,-50 L70.71,-50 70.71,50 -70.71,50  z\\\" class=\\\"primitive\\\"\\/>\\n  <\\/g>\\n<\\/g>\\n<g class=\\\"plotroot xscalable yscalable\\\" id=\\\"img-20c89cd9-2\\\">\\n  <g font-size=\\\"3.53\\\" font-family=\\\"'PT Sans','Helvetica Neue','Helvetica',sans-serif\\\" fill=\\\"#564A55\\\" stroke=\\\"#000000\\\" stroke-opacity=\\\"0.000\\\" id=\\\"img-20c89cd9-3\\\">\\n    <g transform=\\\"translate(77.68,93.72)\\\">\\n      <g class=\\\"primitive\\\">\\n        <text text-anchor=\\\"middle\\\" dy=\\\"0.6em\\\">t<\\/text>\\n      <\\/g>\\n    <\\/g>\\n  <\\/g>\\n  <g class=\\\"guide xlabels\\\" font-size=\\\"2.82\\\" font-family=\\\"'PT Sans Caption','Helvetica Neue','Helvetica',sans-serif\\\" fill=\\\"#6C606B\\\" id=\\\"img-20c89cd9-4\\\">\\n    <g transform=\\\"translate(20.94,87.04)\\\">\\n      <g class=\\\"primitive\\\">\\n        <text text-anchor=\\\"middle\\\" dy=\\\"0.6em\\\">0<\\/text>\\n      <\\/g>\\n    <\\/g>\\n    <g transform=\\\"translate(77.68,87.04)\\\">\\n      <g class=\\\"primitive\\\">\\n        <text text-anchor=\\\"middle\\\" dy=\\\"0.6em\\\">50<\\/text>\\n      <\\/g>\\n    <\\/g>\\n    <g transform=\\\"translate(134.42,87.04)\\\">\\n      <g class=\\\"primitive\\\">\\n        <text text-anchor=\\\"middle\\\" dy=\\\"0.6em\\\">100<\\/text>\\n      <\\/g>\\n    <\\/g>\\n  <\\/g>\\n  <g clip-path=\\\"url(#img-20c89cd9-5)\\\">\\n    <g id=\\\"img-20c89cd9-6\\\">\\n      <g pointer-events=\\\"visible\\\" stroke-width=\\\"0.3\\\" fill=\\\"#000000\\\" fill-opacity=\\\"0.000\\\" stroke=\\\"#000000\\\" stroke-opacity=\\\"0.000\\\" class=\\\"guide background\\\" id=\\\"img-20c89cd9-7\\\">\\n        <g transform=\\\"translate(77.68,45.52)\\\" id=\\\"img-20c89cd9-8\\\">\\n          <path d=\\\"M-58.74,-40.52 L58.74,-40.52 58.74,40.52 -58.74,40.52  z\\\" class=\\\"primitive\\\"\\/>\\n        <\\/g>\\n      <\\/g>\\n      <g class=\\\"guide ygridlines xfixed\\\" stroke-dasharray=\\\"0.5,0.5\\\" stroke-width=\\\"0.2\\\" stroke=\\\"#D0D0E0\\\" id=\\\"img-20c89cd9-9\\\">\\n        <g transform=\\\"translate(77.68,84.04)\\\" id=\\\"img-20c89cd9-10\\\">\\n          <path fill=\\\"none\\\" d=\\\"M-58.74,0 L58.74,0 \\\" class=\\\"primitive\\\"\\/>\\n        <\\/g>\\n        <g transform=\\\"translate(77.68,64.78)\\\" id=\\\"img-20c89cd9-11\\\">\\n          <path fill=\\\"none\\\" d=\\\"M-58.74,0 L58.74,0 \\\" class=\\\"primitive\\\"\\/>\\n        <\\/g>\\n        <g transform=\\\"translate(77.68,45.52)\\\" id=\\\"img-20c89cd9-12\\\">\\n          <path fill=\\\"none\\\" d=\\\"M-58.74,0 L58.74,0 \\\" class=\\\"primitive\\\"\\/>\\n        <\\/g>\\n        <g transform=\\\"translate(77.68,26.26)\\\" id=\\\"img-20c89cd9-13\\\">\\n          <path fill=\\\"none\\\" d=\\\"M-58.74,0 L58.74,0 \\\" class=\\\"primitive\\\"\\/>\\n        <\\/g>\\n        <g transform=\\\"translate(77.68,7)\\\" id=\\\"img-20c89cd9-14\\\">\\n          <path fill=\\\"none\\\" d=\\\"M-58.74,0 L58.74,0 \\\" class=\\\"primitive\\\"\\/>\\n        <\\/g>\\n      <\\/g>\\n      <g class=\\\"guide xgridlines yfixed\\\" stroke-dasharray=\\\"0.5,0.5\\\" stroke-width=\\\"0.2\\\" stroke=\\\"#D0D0E0\\\" id=\\\"img-20c89cd9-15\\\">\\n        <g transform=\\\"translate(20.94,45.52)\\\" id=\\\"img-20c89cd9-16\\\">\\n          <path fill=\\\"none\\\" d=\\\"M0,-40.52 L0,40.52 \\\" class=\\\"primitive\\\"\\/>\\n        <\\/g>\\n        <g transform=\\\"translate(77.68,45.52)\\\" id=\\\"img-20c89cd9-17\\\">\\n          <path fill=\\\"none\\\" d=\\\"M0,-40.52 L0,40.52 \\\" class=\\\"primitive\\\"\\/>\\n        <\\/g>\\n        <g transform=\\\"translate(134.42,45.52)\\\" id=\\\"img-20c89cd9-18\\\">\\n          <path fill=\\\"none\\\" d=\\\"M0,-40.52 L0,40.52 \\\" class=\\\"primitive\\\"\\/>\\n        <\\/g>\\n      <\\/g>\\n      <g class=\\\"plotpanel\\\" id=\\\"img-20c89cd9-19\\\">\\n        <metadata>\\n          <boundingbox value=\\\"18.936666666666667mm 5.0mm 117.48468957064284mm 81.04333333333335mm\\\"\\/>\\n          <unitbox value=\\\"-1.762352267576169 205.19188335568728 103.52470453515235 -210.38376671137456\\\"\\/>\\n        <\\/metadata>\\n        <g stroke-width=\\\"0.3\\\" fill=\\\"#000000\\\" fill-opacity=\\\"0.000\\\" class=\\\"geometry\\\" id=\\\"img-20c89cd9-20\\\">\\n          <g class=\\\"color_LCHab{Float32}(70.0f0,60.0f0,240.0f0)\\\" stroke-dasharray=\\\"none\\\" stroke-opacity=\\\"1\\\" stroke=\\\"#00BFFF\\\" id=\\\"img-20c89cd9-21\\\">\\n            <g transform=\\\"translate(77.68,66.75)\\\" id=\\\"img-20c89cd9-22\\\">\\n              <path fill=\\\"none\\\" d=\\\"M-56.74,15.37 L-55.61,14.89 -54.47,14.35 -53.34,13.75 -52.2,13.11 -51.07,12.42 -49.93,11.7 -48.8,10.95 -47.66,10.19 -46.53,9.43 -45.39,8.67 -44.26,7.91 -43.12,7.18 -41.99,6.46 -40.85,5.78 -39.72,5.12 -38.58,4.49 -37.45,3.9 -36.32,3.34 -35.18,2.81 -34.05,2.32 -32.91,1.87 -31.78,1.45 -30.64,1.06 -29.51,0.7 -28.37,0.37 -27.24,0.06 -26.1,-0.22 -24.97,-0.47 -23.83,-0.7 -22.7,-0.91 -21.56,-1.11 -20.43,-1.28 -19.29,-1.44 -18.16,-1.59 -17.02,-1.72 -15.89,-1.84 -14.75,-1.95 -13.62,-2.04 -12.48,-2.13 -11.35,-2.21 -10.21,-2.28 -9.08,-2.35 -7.94,-2.41 -6.81,-2.46 -5.67,-2.51 -4.54,-2.55 -3.4,-2.59 -2.27,-2.63 -1.13,-2.66 0,-2.69 1.13,-2.71 2.27,-2.73 3.4,-2.76 4.54,-2.77 5.67,-2.79 6.81,-2.81 7.94,-2.82 9.08,-2.83 10.21,-2.84 11.35,-2.85 12.48,-2.86 13.62,-2.87 14.75,-2.88 15.89,-2.89 17.02,-2.89 18.16,-2.9 19.29,-2.9 20.43,-2.91 21.56,-2.91 22.7,-2.91 23.83,-2.92 24.97,-2.92 26.1,-2.92 27.24,-2.92 28.37,-2.93 29.51,-2.93 30.64,-2.93 31.78,-2.93 32.91,-2.93 34.05,-2.93 35.18,-2.93 36.32,-2.94 37.45,-2.94 38.58,-2.94 39.72,-2.94 40.85,-2.94 41.99,-2.94 43.12,-2.94 44.26,-2.94 45.39,-2.94 46.53,-2.94 47.66,-2.94 48.8,-2.94 49.93,-2.94 51.07,-2.94 52.2,-2.94 53.34,-2.94 54.47,-2.94 55.61,-2.94 56.74,-2.94 \\\" class=\\\"primitive\\\"\\/>\\n            <\\/g>\\n          <\\/g>\\n        <\\/g>\\n      <\\/g>\\n    <\\/g>\\n  <\\/g>\\n  <g class=\\\"guide ylabels\\\" font-size=\\\"2.82\\\" font-family=\\\"'PT Sans Caption','Helvetica Neue','Helvetica',sans-serif\\\" fill=\\\"#6C606B\\\" id=\\\"img-20c89cd9-23\\\">\\n    <g transform=\\\"translate(17.94,84.04)\\\" id=\\\"img-20c89cd9-24\\\">\\n      <g class=\\\"primitive\\\">\\n        <text text-anchor=\\\"end\\\" dy=\\\"0.35em\\\">0<\\/text>\\n      <\\/g>\\n    <\\/g>\\n    <g transform=\\\"translate(17.94,64.78)\\\" id=\\\"img-20c89cd9-25\\\">\\n      <g class=\\\"primitive\\\">\\n        <text text-anchor=\\\"end\\\" dy=\\\"0.35em\\\">50<\\/text>\\n      <\\/g>\\n    <\\/g>\\n    <g transform=\\\"translate(17.94,45.52)\\\" id=\\\"img-20c89cd9-26\\\">\\n      <g class=\\\"primitive\\\">\\n        <text text-anchor=\\\"end\\\" dy=\\\"0.35em\\\">100<\\/text>\\n      <\\/g>\\n    <\\/g>\\n    <g transform=\\\"translate(17.94,26.26)\\\" id=\\\"img-20c89cd9-27\\\">\\n      <g class=\\\"primitive\\\">\\n        <text text-anchor=\\\"end\\\" dy=\\\"0.35em\\\">150<\\/text>\\n      <\\/g>\\n    <\\/g>\\n    <g transform=\\\"translate(17.94,7)\\\" id=\\\"img-20c89cd9-28\\\">\\n      <g class=\\\"primitive\\\">\\n        <text text-anchor=\\\"end\\\" dy=\\\"0.35em\\\">200<\\/text>\\n      <\\/g>\\n    <\\/g>\\n  <\\/g>\\n  <g font-size=\\\"3.53\\\" font-family=\\\"'PT Sans','Helvetica Neue','Helvetica',sans-serif\\\" fill=\\\"#564A55\\\" stroke=\\\"#000000\\\" stroke-opacity=\\\"0.000\\\" id=\\\"img-20c89cd9-29\\\">\\n    <g transform=\\\"translate(9.92,45.52)\\\" id=\\\"img-20c89cd9-30\\\">\\n      <g class=\\\"primitive\\\">\\n        <text text-anchor=\\\"end\\\" dy=\\\"0.35em\\\">W<\\/text>\\n      <\\/g>\\n    <\\/g>\\n  <\\/g>\\n<\\/g>\\n<defs>\\n  <clipPath id=\\\"img-20c89cd9-5\\\">\\n    <path d=\\\"M18.94,5 L136.42,5 136.42,86.04 18.94,86.04 \\\" \\/>\\n  <\\/clipPath>\\n<\\/defs>\\n<\\/svg>\\n\"}}},\"children\":[{\"props\":{\"className\":\"webio-observable\",\"setInnerHtml\":\"<?xml version=\\\"1.0\\\" encoding=\\\"UTF-8\\\"?>\\n<svg xmlns=\\\"http:\\/\\/www.w3.org\\/2000\\/svg\\\"\\n     xmlns:xlink=\\\"http:\\/\\/www.w3.org\\/1999\\/xlink\\\"\\n     xmlns:gadfly=\\\"http:\\/\\/www.gadflyjl.org\\/ns\\\"\\n     version=\\\"1.2\\\"\\n     width=\\\"141.42mm\\\" height=\\\"100mm\\\" viewBox=\\\"0 0 141.42 100\\\"\\n     stroke=\\\"none\\\"\\n     fill=\\\"#000000\\\"\\n     stroke-width=\\\"0.3\\\"\\n     font-size=\\\"3.88\\\"\\n>\\n<defs>\\n  <marker id=\\\"arrow\\\" markerWidth=\\\"15\\\" markerHeight=\\\"7\\\" refX=\\\"5\\\" refY=\\\"3.5\\\" orient=\\\"auto\\\" markerUnits=\\\"strokeWidth\\\">\\n    <path d=\\\"M0,0 L15,3.5 L0,7 z\\\" stroke=\\\"context-stroke\\\" fill=\\\"context-stroke\\\"\\/>\\n  <\\/marker>\\n<\\/defs>\\n<g stroke=\\\"#000000\\\" stroke-opacity=\\\"0.000\\\" fill=\\\"#FFFFFF\\\" id=\\\"img-20c89cd9-1\\\">\\n  <g transform=\\\"translate(70.71,50)\\\">\\n    <path d=\\\"M-70.71,-50 L70.71,-50 70.71,50 -70.71,50  z\\\" class=\\\"primitive\\\"\\/>\\n  <\\/g>\\n<\\/g>\\n<g class=\\\"plotroot xscalable yscalable\\\" id=\\\"img-20c89cd9-2\\\">\\n  <g font-size=\\\"3.53\\\" font-family=\\\"'PT Sans','Helvetica Neue','Helvetica',sans-serif\\\" fill=\\\"#564A55\\\" stroke=\\\"#000000\\\" stroke-opacity=\\\"0.000\\\" id=\\\"img-20c89cd9-3\\\">\\n    <g transform=\\\"translate(77.68,93.72)\\\">\\n      <g class=\\\"primitive\\\">\\n        <text text-anchor=\\\"middle\\\" dy=\\\"0.6em\\\">t<\\/text>\\n      <\\/g>\\n    <\\/g>\\n  <\\/g>\\n  <g class=\\\"guide xlabels\\\" font-size=\\\"2.82\\\" font-family=\\\"'PT Sans Caption','Helvetica Neue','Helvetica',sans-serif\\\" fill=\\\"#6C606B\\\" id=\\\"img-20c89cd9-4\\\">\\n    <g transform=\\\"translate(20.94,87.04)\\\">\\n      <g class=\\\"primitive\\\">\\n        <text text-anchor=\\\"middle\\\" dy=\\\"0.6em\\\">0<\\/text>\\n      <\\/g>\\n    <\\/g>\\n    <g transform=\\\"translate(77.68,87.04)\\\">\\n      <g class=\\\"primitive\\\">\\n        <text text-anchor=\\\"middle\\\" dy=\\\"0.6em\\\">50<\\/text>\\n      <\\/g>\\n    <\\/g>\\n    <g transform=\\\"translate(134.42,87.04)\\\">\\n      <g class=\\\"primitive\\\">\\n        <text text-anchor=\\\"middle\\\" dy=\\\"0.6em\\\">100<\\/text>\\n      <\\/g>\\n    <\\/g>\\n  <\\/g>\\n  <g clip-path=\\\"url(#img-20c89cd9-5)\\\">\\n    <g id=\\\"img-20c89cd9-6\\\">\\n      <g pointer-events=\\\"visible\\\" stroke-width=\\\"0.3\\\" fill=\\\"#000000\\\" fill-opacity=\\\"0.000\\\" stroke=\\\"#000000\\\" stroke-opacity=\\\"0.000\\\" class=\\\"guide background\\\" id=\\\"img-20c89cd9-7\\\">\\n        <g transform=\\\"translate(77.68,45.52)\\\" id=\\\"img-20c89cd9-8\\\">\\n          <path d=\\\"M-58.74,-40.52 L58.74,-40.52 58.74,40.52 -58.74,40.52  z\\\" class=\\\"primitive\\\"\\/>\\n        <\\/g>\\n      <\\/g>\\n      <g class=\\\"guide ygridlines xfixed\\\" stroke-dasharray=\\\"0.5,0.5\\\" stroke-width=\\\"0.2\\\" stroke=\\\"#D0D0E0\\\" id=\\\"img-20c89cd9-9\\\">\\n        <g transform=\\\"translate(77.68,84.04)\\\" id=\\\"img-20c89cd9-10\\\">\\n          <path fill=\\\"none\\\" d=\\\"M-58.74,0 L58.74,0 \\\" class=\\\"primitive\\\"\\/>\\n        <\\/g>\\n        <g transform=\\\"translate(77.68,64.78)\\\" id=\\\"img-20c89cd9-11\\\">\\n          <path fill=\\\"none\\\" d=\\\"M-58.74,0 L58.74,0 \\\" class=\\\"primitive\\\"\\/>\\n        <\\/g>\\n        <g transform=\\\"translate(77.68,45.52)\\\" id=\\\"img-20c89cd9-12\\\">\\n          <path fill=\\\"none\\\" d=\\\"M-58.74,0 L58.74,0 \\\" class=\\\"primitive\\\"\\/>\\n        <\\/g>\\n        <g transform=\\\"translate(77.68,26.26)\\\" id=\\\"img-20c89cd9-13\\\">\\n          <path fill=\\\"none\\\" d=\\\"M-58.74,0 L58.74,0 \\\" class=\\\"primitive\\\"\\/>\\n        <\\/g>\\n        <g transform=\\\"translate(77.68,7)\\\" id=\\\"img-20c89cd9-14\\\">\\n          <path fill=\\\"none\\\" d=\\\"M-58.74,0 L58.74,0 \\\" class=\\\"primitive\\\"\\/>\\n        <\\/g>\\n      <\\/g>\\n      <g class=\\\"guide xgridlines yfixed\\\" stroke-dasharray=\\\"0.5,0.5\\\" stroke-width=\\\"0.2\\\" stroke=\\\"#D0D0E0\\\" id=\\\"img-20c89cd9-15\\\">\\n        <g transform=\\\"translate(20.94,45.52)\\\" id=\\\"img-20c89cd9-16\\\">\\n          <path fill=\\\"none\\\" d=\\\"M0,-40.52 L0,40.52 \\\" class=\\\"primitive\\\"\\/>\\n        <\\/g>\\n        <g transform=\\\"translate(77.68,45.52)\\\" id=\\\"img-20c89cd9-17\\\">\\n          <path fill=\\\"none\\\" d=\\\"M0,-40.52 L0,40.52 \\\" class=\\\"primitive\\\"\\/>\\n        <\\/g>\\n        <g transform=\\\"translate(134.42,45.52)\\\" id=\\\"img-20c89cd9-18\\\">\\n          <path fill=\\\"none\\\" d=\\\"M0,-40.52 L0,40.52 \\\" class=\\\"primitive\\\"\\/>\\n        <\\/g>\\n      <\\/g>\\n      <g class=\\\"plotpanel\\\" id=\\\"img-20c89cd9-19\\\">\\n        <metadata>\\n          <boundingbox value=\\\"18.936666666666667mm 5.0mm 117.48468957064284mm 81.04333333333335mm\\\"\\/>\\n          <unitbox value=\\\"-1.762352267576169 205.19188335568728 103.52470453515235 -210.38376671137456\\\"\\/>\\n        <\\/metadata>\\n        <g stroke-width=\\\"0.3\\\" fill=\\\"#000000\\\" fill-opacity=\\\"0.000\\\" class=\\\"geometry\\\" id=\\\"img-20c89cd9-20\\\">\\n          <g class=\\\"color_LCHab{Float32}(70.0f0,60.0f0,240.0f0)\\\" stroke-dasharray=\\\"none\\\" stroke-opacity=\\\"1\\\" stroke=\\\"#00BFFF\\\" id=\\\"img-20c89cd9-21\\\">\\n            <g transform=\\\"translate(77.68,66.75)\\\" id=\\\"img-20c89cd9-22\\\">\\n              <path fill=\\\"none\\\" d=\\\"M-56.74,15.37 L-55.61,14.89 -54.47,14.35 -53.34,13.75 -52.2,13.11 -51.07,12.42 -49.93,11.7 -48.8,10.95 -47.66,10.19 -46.53,9.43 -45.39,8.67 -44.26,7.91 -43.12,7.18 -41.99,6.46 -40.85,5.78 -39.72,5.12 -38.58,4.49 -37.45,3.9 -36.32,3.34 -35.18,2.81 -34.05,2.32 -32.91,1.87 -31.78,1.45 -30.64,1.06 -29.51,0.7 -28.37,0.37 -27.24,0.06 -26.1,-0.22 -24.97,-0.47 -23.83,-0.7 -22.7,-0.91 -21.56,-1.11 -20.43,-1.28 -19.29,-1.44 -18.16,-1.59 -17.02,-1.72 -15.89,-1.84 -14.75,-1.95 -13.62,-2.04 -12.48,-2.13 -11.35,-2.21 -10.21,-2.28 -9.08,-2.35 -7.94,-2.41 -6.81,-2.46 -5.67,-2.51 -4.54,-2.55 -3.4,-2.59 -2.27,-2.63 -1.13,-2.66 0,-2.69 1.13,-2.71 2.27,-2.73 3.4,-2.76 4.54,-2.77 5.67,-2.79 6.81,-2.81 7.94,-2.82 9.08,-2.83 10.21,-2.84 11.35,-2.85 12.48,-2.86 13.62,-2.87 14.75,-2.88 15.89,-2.89 17.02,-2.89 18.16,-2.9 19.29,-2.9 20.43,-2.91 21.56,-2.91 22.7,-2.91 23.83,-2.92 24.97,-2.92 26.1,-2.92 27.24,-2.92 28.37,-2.93 29.51,-2.93 30.64,-2.93 31.78,-2.93 32.91,-2.93 34.05,-2.93 35.18,-2.93 36.32,-2.94 37.45,-2.94 38.58,-2.94 39.72,-2.94 40.85,-2.94 41.99,-2.94 43.12,-2.94 44.26,-2.94 45.39,-2.94 46.53,-2.94 47.66,-2.94 48.8,-2.94 49.93,-2.94 51.07,-2.94 52.2,-2.94 53.34,-2.94 54.47,-2.94 55.61,-2.94 56.74,-2.94 \\\" class=\\\"primitive\\\"\\/>\\n            <\\/g>\\n          <\\/g>\\n        <\\/g>\\n      <\\/g>\\n    <\\/g>\\n  <\\/g>\\n  <g class=\\\"guide ylabels\\\" font-size=\\\"2.82\\\" font-family=\\\"'PT Sans Caption','Helvetica Neue','Helvetica',sans-serif\\\" fill=\\\"#6C606B\\\" id=\\\"img-20c89cd9-23\\\">\\n    <g transform=\\\"translate(17.94,84.04)\\\" id=\\\"img-20c89cd9-24\\\">\\n      <g class=\\\"primitive\\\">\\n        <text text-anchor=\\\"end\\\" dy=\\\"0.35em\\\">0<\\/text>\\n      <\\/g>\\n    <\\/g>\\n    <g transform=\\\"translate(17.94,64.78)\\\" id=\\\"img-20c89cd9-25\\\">\\n      <g class=\\\"primitive\\\">\\n        <text text-anchor=\\\"end\\\" dy=\\\"0.35em\\\">50<\\/text>\\n      <\\/g>\\n    <\\/g>\\n    <g transform=\\\"translate(17.94,45.52)\\\" id=\\\"img-20c89cd9-26\\\">\\n      <g class=\\\"primitive\\\">\\n        <text text-anchor=\\\"end\\\" dy=\\\"0.35em\\\">100<\\/text>\\n      <\\/g>\\n    <\\/g>\\n    <g transform=\\\"translate(17.94,26.26)\\\" id=\\\"img-20c89cd9-27\\\">\\n      <g class=\\\"primitive\\\">\\n        <text text-anchor=\\\"end\\\" dy=\\\"0.35em\\\">150<\\/text>\\n      <\\/g>\\n    <\\/g>\\n    <g transform=\\\"translate(17.94,7)\\\" id=\\\"img-20c89cd9-28\\\">\\n      <g class=\\\"primitive\\\">\\n        <text text-anchor=\\\"end\\\" dy=\\\"0.35em\\\">200<\\/text>\\n      <\\/g>\\n    <\\/g>\\n  <\\/g>\\n  <g font-size=\\\"3.53\\\" font-family=\\\"'PT Sans','Helvetica Neue','Helvetica',sans-serif\\\" fill=\\\"#564A55\\\" stroke=\\\"#000000\\\" stroke-opacity=\\\"0.000\\\" id=\\\"img-20c89cd9-29\\\">\\n    <g transform=\\\"translate(9.92,45.52)\\\" id=\\\"img-20c89cd9-30\\\">\\n      <g class=\\\"primitive\\\">\\n        <text text-anchor=\\\"end\\\" dy=\\\"0.35em\\\">W<\\/text>\\n      <\\/g>\\n    <\\/g>\\n  <\\/g>\\n<\\/g>\\n<defs>\\n  <clipPath id=\\\"img-20c89cd9-5\\\">\\n    <path d=\\\"M18.94,5 L136.42,5 136.42,86.04 18.94,86.04 \\\" \\/>\\n  <\\/clipPath>\\n<\\/defs>\\n<\\/svg>\\n\"},\"nodeType\":\"DOM\",\"type\":\"node\",\"instanceArgs\":{\"namespace\":\"html\",\"tag\":\"div\"},\"children\":[]}]}]},\n",
       "        window,\n",
       "    );\n",
       "    })()\n",
       "    </script>\n",
       "</div>\n"
      ],
      "text/plain": [
       "WebIO.Node{WebIO.DOM}(WebIO.DOM(:html, :div), Any[WebIO.Node{WebIO.DOM}(WebIO.DOM(:html, :div), Any[\"Gomp\"], Dict{Symbol, Any}(:style => Dict{String, Any}(\"color\" => :rebeccapurple, \"font-family\" => \"monospace\"))), WebIO.Node{WebIO.DOM}(WebIO.DOM(:html, :div), Any[WebIO.Scope(WebIO.Node{WebIO.DOM}(WebIO.DOM(:html, :div), Any[WebIO.Node{WebIO.DOM}(WebIO.DOM(:html, :div), Any[WebIO.Node{WebIO.DOM}(WebIO.DOM(:html, :label), Any[\"μ0\"], Dict{Symbol, Any}(:className => \"interact \", :style => Dict{Any, Any}(:padding => \"5px 10px 0px 10px\", \"white-space\" => :nowrap, \"color\" => :royalblue)))], Dict{Symbol, Any}(:className => \"interact-flex-row-left\")), WebIO.Node{WebIO.DOM}(WebIO.DOM(:html, :div), Any[WebIO.Node{WebIO.DOM}(WebIO.DOM(:html, :input), Any[], Dict{Symbol, Any}(:max => 51, :min => 1, :attributes => Dict{Any, Any}(:type => \"range\", Symbol(\"data-bind\") => \"numericValue: index, valueUpdate: 'input', event: {change: function (){this.changes(this.changes()+1)}}\", \"orient\" => \"horizontal\"), :step => 1, :className => \"slider slider is-fullwidth\", :style => Dict{Any, Any}()))], Dict{Symbol, Any}(:className => \"interact-flex-row-center\")), WebIO.Node{WebIO.DOM}(WebIO.DOM(:html, :div), Any[WebIO.Node{WebIO.DOM}(WebIO.DOM(:html, :p), Any[], Dict{Symbol, Any}(:attributes => Dict(\"data-bind\" => \"text: formatted_val\")))], Dict{Symbol, Any}(:className => \"interact-flex-row-right\"))], Dict{Symbol, Any}(:className => \"interact-flex-row interact-widget\", :style => Dict(\"font-family\" => \"monospace\", \"width\" => \"80%\"))), Dict{String, Tuple{Observables.AbstractObservable, Union{Nothing, Bool}}}(\"changes\" => (Observable(0), nothing), \"index\" => (Observable{Any}(26), nothing)), Set{String}(), nothing, WebIO.Asset[WebIO.Asset(\"js\", \"knockout\", \"/opt/julia/packages/Knockout/HReiN/src/../assets/knockout.js\"), WebIO.Asset(\"js\", \"knockout_punches\", \"/opt/julia/packages/Knockout/HReiN/src/../assets/knockout_punches.js\"), WebIO.Asset(\"js\", nothing, \"/opt/julia/packages/InteractBase/LJXv3/src/../assets/all.js\"), WebIO.Asset(\"css\", nothing, \"/opt/julia/packages/InteractBase/LJXv3/src/../assets/style.css\"), WebIO.Asset(\"css\", nothing, \"/opt/julia/packages/Interact/PENUy/src/../assets/bulma_confined.min.css\")], Dict{Any, Any}(\"changes\" => Any[WebIO.JSString(\"(function (val){return (val!=this.model[\\\"changes\\\"]()) ? (this.valueFromJulia[\\\"changes\\\"]=true, this.model[\\\"changes\\\"](val)) : undefined})\")], \"index\" => Any[WebIO.JSString(\"(function (val){return (val!=this.model[\\\"index\\\"]()) ? (this.valueFromJulia[\\\"index\\\"]=true, this.model[\\\"index\\\"](val)) : undefined})\")]), WebIO.ConnectionPool(Channel{Any}(32), Set{WebIO.AbstractConnection}(), Base.GenericCondition{ReentrantLock}(Base.IntrusiveLinkedList{Task}(Task (runnable) @0x0000ffff5c6f5b30, Task (runnable) @0x0000ffff5c6f5b30), ReentrantLock(nothing, 0x00000000, 0x00, Base.GenericCondition{Base.Threads.SpinLock}(Base.IntrusiveLinkedList{Task}(nothing, nothing), Base.Threads.SpinLock(0)), (2, 281472228714000, 281472237734064)))), WebIO.JSString[WebIO.JSString(\"function () {\\n    var handler = (function (ko, koPunches) {\\n    ko.punches.enableAll();\\n    ko.bindingHandlers.numericValue = {\\n        init: function(element, valueAccessor, allBindings, data, context) {\\n            var stringified = ko.observable(ko.unwrap(valueAccessor()));\\n            stringified.subscribe(function(value) {\\n                var val = parseFloat(value);\\n                if (!isNaN(val)) {\\n                    valueAccessor()(val);\\n                }\\n            });\\n            valueAccessor().subscribe(function(value) {\\n                var str = JSON.stringify(value);\\n                if ((str == \\\"0\\\") && ([\\\"-0\\\", \\\"-0.\\\"].indexOf(stringified()) >= 0))\\n                     return;\\n                 if ([\\\"null\\\", \\\"\\\"].indexOf(str) >= 0)\\n                     return;\\n                stringified(str);\\n            });\\n            ko.applyBindingsToNode(\\n                element,\\n                {\\n                    value: stringified,\\n                    valueUpdate: allBindings.get('valueUpdate'),\\n                },\\n                context,\\n            );\\n        }\\n    };\\n    var json_data = {\\\"formatted_vals\\\":[\\\"0.0\\\",\\\"0.01\\\",\\\"0.02\\\",\\\"0.03\\\",\\\"0.04\\\",\\\"0.05\\\",\\\"0.06\\\",\\\"0.07\\\",\\\"0.08\\\",\\\"0.09\\\",\\\"0.1\\\",\\\"0.11\\\",\\\"0.12\\\",\\\"0.13\\\",\\\"0.14\\\",\\\"0.15\\\",\\\"0.16\\\",\\\"0.17\\\",\\\"0.18\\\",\\\"0.19\\\",\\\"0.2\\\",\\\"0.21\\\",\\\"0.22\\\",\\\"0.23\\\",\\\"0.24\\\",\\\"0.25\\\",\\\"0.26\\\",\\\"0.27\\\",\\\"0.28\\\",\\\"0.29\\\",\\\"0.3\\\",\\\"0.31\\\",\\\"0.32\\\",\\\"0.33\\\",\\\"0.34\\\",\\\"0.35\\\",\\\"0.36\\\",\\\"0.37\\\",\\\"0.38\\\",\\\"0.39\\\",\\\"0.4\\\",\\\"0.41\\\",\\\"0.42\\\",\\\"0.43\\\",\\\"0.44\\\",\\\"0.45\\\",\\\"0.46\\\",\\\"0.47\\\",\\\"0.48\\\",\\\"0.49\\\",\\\"0.5\\\"],\\\"changes\\\":WebIO.getval({\\\"name\\\":\\\"changes\\\",\\\"scope\\\":\\\"3625359290336637690\\\",\\\"id\\\":\\\"5862894902307827095\\\",\\\"type\\\":\\\"observable\\\"}),\\\"index\\\":WebIO.getval({\\\"name\\\":\\\"index\\\",\\\"scope\\\":\\\"3625359290336637690\\\",\\\"id\\\":\\\"14409393654357043784\\\",\\\"type\\\":\\\"observable\\\"})};\\n    var self = this;\\n    function AppViewModel() {\\n        for (var key in json_data) {\\n            var el = json_data[key];\\n            this[key] = Array.isArray(el) ? ko.observableArray(el) : ko.observable(el);\\n        }\\n        \\n        [this[\\\"formatted_val\\\"]=ko.computed(    function(){\\n        return this.formatted_vals()[parseInt(this.index())-(1)];\\n    }\\n,this)]\\n        [this[\\\"changes\\\"].subscribe((function (val){!(this.valueFromJulia[\\\"changes\\\"]) ? (WebIO.setval({\\\"name\\\":\\\"changes\\\",\\\"scope\\\":\\\"3625359290336637690\\\",\\\"id\\\":\\\"5862894902307827095\\\",\\\"type\\\":\\\"observable\\\"},val)) : undefined; return this.valueFromJulia[\\\"changes\\\"]=false}),self),this[\\\"index\\\"].subscribe((function (val){!(this.valueFromJulia[\\\"index\\\"]) ? (WebIO.setval({\\\"name\\\":\\\"index\\\",\\\"scope\\\":\\\"3625359290336637690\\\",\\\"id\\\":\\\"14409393654357043784\\\",\\\"type\\\":\\\"observable\\\"},val)) : undefined; return this.valueFromJulia[\\\"index\\\"]=false}),self)]\\n        \\n    }\\n    self.model = new AppViewModel();\\n    self.valueFromJulia = {};\\n    for (var key in json_data) {\\n        self.valueFromJulia[key] = false;\\n    }\\n    ko.applyBindings(self.model, self.dom);\\n}\\n);\\n    (WebIO.importBlock({\\\"data\\\":[{\\\"name\\\":\\\"knockout\\\",\\\"type\\\":\\\"js\\\",\\\"url\\\":\\\"/assetserver/d749de49a15576291e39755d819be2408bf7f995-knockout.js\\\"},{\\\"name\\\":\\\"knockout_punches\\\",\\\"type\\\":\\\"js\\\",\\\"url\\\":\\\"/assetserver/9f5c86158cf79faf331cfb32636cb08a9b1f0dc2-knockout_punches.js\\\"}],\\\"type\\\":\\\"async_block\\\"})).then((imports) => handler.apply(this, imports));\\n}\\n\")])], Dict{Symbol, Any}(:className => \"field interact-widget\")), WebIO.Node{WebIO.DOM}(WebIO.DOM(:html, :div), Any[WebIO.Scope(WebIO.Node{WebIO.DOM}(WebIO.DOM(:html, :div), Any[WebIO.Node{WebIO.DOM}(WebIO.DOM(:html, :div), Any[WebIO.Node{WebIO.DOM}(WebIO.DOM(:html, :label), Any[\"D\"], Dict{Symbol, Any}(:className => \"interact \", :style => Dict{Any, Any}(:padding => \"5px 10px 0px 10px\", \"white-space\" => :nowrap, \"color\" => :royalblue)))], Dict{Symbol, Any}(:className => \"interact-flex-row-left\")), WebIO.Node{WebIO.DOM}(WebIO.DOM(:html, :div), Any[WebIO.Node{WebIO.DOM}(WebIO.DOM(:html, :input), Any[], Dict{Symbol, Any}(:max => 21, :min => 1, :attributes => Dict{Any, Any}(:type => \"range\", Symbol(\"data-bind\") => \"numericValue: index, valueUpdate: 'input', event: {change: function (){this.changes(this.changes()+1)}}\", \"orient\" => \"horizontal\"), :step => 1, :className => \"slider slider is-fullwidth\", :style => Dict{Any, Any}()))], Dict{Symbol, Any}(:className => \"interact-flex-row-center\")), WebIO.Node{WebIO.DOM}(WebIO.DOM(:html, :div), Any[WebIO.Node{WebIO.DOM}(WebIO.DOM(:html, :p), Any[], Dict{Symbol, Any}(:attributes => Dict(\"data-bind\" => \"text: formatted_val\")))], Dict{Symbol, Any}(:className => \"interact-flex-row-right\"))], Dict{Symbol, Any}(:className => \"interact-flex-row interact-widget\", :style => Dict(\"font-family\" => \"monospace\", \"width\" => \"80%\"))), Dict{String, Tuple{Observables.AbstractObservable, Union{Nothing, Bool}}}(\"changes\" => (Observable(0), nothing), \"index\" => (Observable{Any}(11), nothing)), Set{String}(), nothing, WebIO.Asset[WebIO.Asset(\"js\", \"knockout\", \"/opt/julia/packages/Knockout/HReiN/src/../assets/knockout.js\"), WebIO.Asset(\"js\", \"knockout_punches\", \"/opt/julia/packages/Knockout/HReiN/src/../assets/knockout_punches.js\"), WebIO.Asset(\"js\", nothing, \"/opt/julia/packages/InteractBase/LJXv3/src/../assets/all.js\"), WebIO.Asset(\"css\", nothing, \"/opt/julia/packages/InteractBase/LJXv3/src/../assets/style.css\"), WebIO.Asset(\"css\", nothing, \"/opt/julia/packages/Interact/PENUy/src/../assets/bulma_confined.min.css\")], Dict{Any, Any}(\"changes\" => Any[WebIO.JSString(\"(function (val){return (val!=this.model[\\\"changes\\\"]()) ? (this.valueFromJulia[\\\"changes\\\"]=true, this.model[\\\"changes\\\"](val)) : undefined})\")], \"index\" => Any[WebIO.JSString(\"(function (val){return (val!=this.model[\\\"index\\\"]()) ? (this.valueFromJulia[\\\"index\\\"]=true, this.model[\\\"index\\\"](val)) : undefined})\")]), WebIO.ConnectionPool(Channel{Any}(32), Set{WebIO.AbstractConnection}(), Base.GenericCondition{ReentrantLock}(Base.IntrusiveLinkedList{Task}(Task (runnable) @0x0000ffff5c6f5d20, Task (runnable) @0x0000ffff5c6f5d20), ReentrantLock(nothing, 0x00000000, 0x00, Base.GenericCondition{Base.Threads.SpinLock}(Base.IntrusiveLinkedList{Task}(nothing, nothing), Base.Threads.SpinLock(0)), (8, 281472226116432, 4)))), WebIO.JSString[WebIO.JSString(\"function () {\\n    var handler = (function (ko, koPunches) {\\n    ko.punches.enableAll();\\n    ko.bindingHandlers.numericValue = {\\n        init: function(element, valueAccessor, allBindings, data, context) {\\n            var stringified = ko.observable(ko.unwrap(valueAccessor()));\\n            stringified.subscribe(function(value) {\\n                var val = parseFloat(value);\\n                if (!isNaN(val)) {\\n                    valueAccessor()(val);\\n                }\\n            });\\n            valueAccessor().subscribe(function(value) {\\n                var str = JSON.stringify(value);\\n                if ((str == \\\"0\\\") && ([\\\"-0\\\", \\\"-0.\\\"].indexOf(stringified()) >= 0))\\n                     return;\\n                 if ([\\\"null\\\", \\\"\\\"].indexOf(str) >= 0)\\n                     return;\\n                stringified(str);\\n            });\\n            ko.applyBindingsToNode(\\n                element,\\n                {\\n                    value: stringified,\\n                    valueUpdate: allBindings.get('valueUpdate'),\\n                },\\n                context,\\n            );\\n        }\\n    };\\n    var json_data = {\\\"formatted_vals\\\":[\\\"0.0\\\",\\\"0.01\\\",\\\"0.02\\\",\\\"0.03\\\",\\\"0.04\\\",\\\"0.05\\\",\\\"0.06\\\",\\\"0.07\\\",\\\"0.08\\\",\\\"0.09\\\",\\\"0.1\\\",\\\"0.11\\\",\\\"0.12\\\",\\\"0.13\\\",\\\"0.14\\\",\\\"0.15\\\",\\\"0.16\\\",\\\"0.17\\\",\\\"0.18\\\",\\\"0.19\\\",\\\"0.2\\\"],\\\"changes\\\":WebIO.getval({\\\"name\\\":\\\"changes\\\",\\\"scope\\\":\\\"2740424874649263323\\\",\\\"id\\\":\\\"10391632895912620594\\\",\\\"type\\\":\\\"observable\\\"}),\\\"index\\\":WebIO.getval({\\\"name\\\":\\\"index\\\",\\\"scope\\\":\\\"2740424874649263323\\\",\\\"id\\\":\\\"2667056621875383176\\\",\\\"type\\\":\\\"observable\\\"})};\\n    var self = this;\\n    function AppViewModel() {\\n        for (var key in json_data) {\\n            var el = json_data[key];\\n            this[key] = Array.isArray(el) ? ko.observableArray(el) : ko.observable(el);\\n        }\\n        \\n        [this[\\\"formatted_val\\\"]=ko.computed(    function(){\\n        return this.formatted_vals()[parseInt(this.index())-(1)];\\n    }\\n,this)]\\n        [this[\\\"changes\\\"].subscribe((function (val){!(this.valueFromJulia[\\\"changes\\\"]) ? (WebIO.setval({\\\"name\\\":\\\"changes\\\",\\\"scope\\\":\\\"2740424874649263323\\\",\\\"id\\\":\\\"10391632895912620594\\\",\\\"type\\\":\\\"observable\\\"},val)) : undefined; return this.valueFromJulia[\\\"changes\\\"]=false}),self),this[\\\"index\\\"].subscribe((function (val){!(this.valueFromJulia[\\\"index\\\"]) ? (WebIO.setval({\\\"name\\\":\\\"index\\\",\\\"scope\\\":\\\"2740424874649263323\\\",\\\"id\\\":\\\"2667056621875383176\\\",\\\"type\\\":\\\"observable\\\"},val)) : undefined; return this.valueFromJulia[\\\"index\\\"]=false}),self)]\\n        \\n    }\\n    self.model = new AppViewModel();\\n    self.valueFromJulia = {};\\n    for (var key in json_data) {\\n        self.valueFromJulia[key] = false;\\n    }\\n    ko.applyBindings(self.model, self.dom);\\n}\\n);\\n    (WebIO.importBlock({\\\"data\\\":[{\\\"name\\\":\\\"knockout\\\",\\\"type\\\":\\\"js\\\",\\\"url\\\":\\\"/assetserver/d749de49a15576291e39755d819be2408bf7f995-knockout.js\\\"},{\\\"name\\\":\\\"knockout_punches\\\",\\\"type\\\":\\\"js\\\",\\\"url\\\":\\\"/assetserver/9f5c86158cf79faf331cfb32636cb08a9b1f0dc2-knockout_punches.js\\\"}],\\\"type\\\":\\\"async_block\\\"})).then((imports) => handler.apply(this, imports));\\n}\\n\")])], Dict{Symbol, Any}(:className => \"field interact-widget\")), WebIO.Node{WebIO.DOM}(WebIO.DOM(:html, :div), Any[WebIO.Scope(WebIO.Node{WebIO.DOM}(WebIO.DOM(:html, :div), Any[WebIO.Node{WebIO.DOM}(WebIO.DOM(:html, :div), Any[WebIO.Node{WebIO.DOM}(WebIO.DOM(:html, :label), Any[\"W0\"], Dict{Symbol, Any}(:className => \"interact \", :style => Dict{Any, Any}(:padding => \"5px 10px 0px 10px\", \"white-space\" => :nowrap, \"color\" => :royalblue)))], Dict{Symbol, Any}(:className => \"interact-flex-row-left\")), WebIO.Node{WebIO.DOM}(WebIO.DOM(:html, :div), Any[WebIO.Node{WebIO.DOM}(WebIO.DOM(:html, :input), Any[], Dict{Symbol, Any}(:max => 101, :min => 1, :attributes => Dict{Any, Any}(:type => \"range\", Symbol(\"data-bind\") => \"numericValue: index, valueUpdate: 'input', event: {change: function (){this.changes(this.changes()+1)}}\", \"orient\" => \"horizontal\"), :step => 1, :className => \"slider slider is-fullwidth\", :style => Dict{Any, Any}()))], Dict{Symbol, Any}(:className => \"interact-flex-row-center\")), WebIO.Node{WebIO.DOM}(WebIO.DOM(:html, :div), Any[WebIO.Node{WebIO.DOM}(WebIO.DOM(:html, :p), Any[], Dict{Symbol, Any}(:attributes => Dict(\"data-bind\" => \"text: formatted_val\")))], Dict{Symbol, Any}(:className => \"interact-flex-row-right\"))], Dict{Symbol, Any}(:className => \"interact-flex-row interact-widget\", :style => Dict(\"font-family\" => \"monospace\", \"width\" => \"80%\"))), Dict{String, Tuple{Observables.AbstractObservable, Union{Nothing, Bool}}}(\"changes\" => (Observable(0), nothing), \"index\" => (Observable{Any}(51), nothing)), Set{String}(), nothing, WebIO.Asset[WebIO.Asset(\"js\", \"knockout\", \"/opt/julia/packages/Knockout/HReiN/src/../assets/knockout.js\"), WebIO.Asset(\"js\", \"knockout_punches\", \"/opt/julia/packages/Knockout/HReiN/src/../assets/knockout_punches.js\"), WebIO.Asset(\"js\", nothing, \"/opt/julia/packages/InteractBase/LJXv3/src/../assets/all.js\"), WebIO.Asset(\"css\", nothing, \"/opt/julia/packages/InteractBase/LJXv3/src/../assets/style.css\"), WebIO.Asset(\"css\", nothing, \"/opt/julia/packages/Interact/PENUy/src/../assets/bulma_confined.min.css\")], Dict{Any, Any}(\"changes\" => Any[WebIO.JSString(\"(function (val){return (val!=this.model[\\\"changes\\\"]()) ? (this.valueFromJulia[\\\"changes\\\"]=true, this.model[\\\"changes\\\"](val)) : undefined})\")], \"index\" => Any[WebIO.JSString(\"(function (val){return (val!=this.model[\\\"index\\\"]()) ? (this.valueFromJulia[\\\"index\\\"]=true, this.model[\\\"index\\\"](val)) : undefined})\")]), WebIO.ConnectionPool(Channel{Any}(32), Set{WebIO.AbstractConnection}(), Base.GenericCondition{ReentrantLock}(Base.IntrusiveLinkedList{Task}(Task (runnable) @0x0000ffff5c6f5f10, Task (runnable) @0x0000ffff5c6f5f10), ReentrantLock(nothing, 0x00000000, 0x00, Base.GenericCondition{Base.Threads.SpinLock}(Base.IntrusiveLinkedList{Task}(nothing, nothing), Base.Threads.SpinLock(0)), (2, 281472238221504, 281473038707584)))), WebIO.JSString[WebIO.JSString(\"function () {\\n    var handler = (function (ko, koPunches) {\\n    ko.punches.enableAll();\\n    ko.bindingHandlers.numericValue = {\\n        init: function(element, valueAccessor, allBindings, data, context) {\\n            var stringified = ko.observable(ko.unwrap(valueAccessor()));\\n            stringified.subscribe(function(value) {\\n                var val = parseFloat(value);\\n                if (!isNaN(val)) {\\n                    valueAccessor()(val);\\n                }\\n            });\\n            valueAccessor().subscribe(function(value) {\\n                var str = JSON.stringify(value);\\n                if ((str == \\\"0\\\") && ([\\\"-0\\\", \\\"-0.\\\"].indexOf(stringified()) >= 0))\\n                     return;\\n                 if ([\\\"null\\\", \\\"\\\"].indexOf(str) >= 0)\\n                     return;\\n                stringified(str);\\n            });\\n            ko.applyBindingsToNode(\\n                element,\\n                {\\n                    value: stringified,\\n                    valueUpdate: allBindings.get('valueUpdate'),\\n                },\\n                context,\\n            );\\n        }\\n    };\\n    var json_data = {\\\"formatted_vals\\\":[\\\"0.0\\\",\\\"0.1\\\",\\\"0.2\\\",\\\"0.3\\\",\\\"0.4\\\",\\\"0.5\\\",\\\"0.6\\\",\\\"0.7\\\",\\\"0.8\\\",\\\"0.9\\\",\\\"1.0\\\",\\\"1.1\\\",\\\"1.2\\\",\\\"1.3\\\",\\\"1.4\\\",\\\"1.5\\\",\\\"1.6\\\",\\\"1.7\\\",\\\"1.8\\\",\\\"1.9\\\",\\\"2.0\\\",\\\"2.1\\\",\\\"2.2\\\",\\\"2.3\\\",\\\"2.4\\\",\\\"2.5\\\",\\\"2.6\\\",\\\"2.7\\\",\\\"2.8\\\",\\\"2.9\\\",\\\"3.0\\\",\\\"3.1\\\",\\\"3.2\\\",\\\"3.3\\\",\\\"3.4\\\",\\\"3.5\\\",\\\"3.6\\\",\\\"3.7\\\",\\\"3.8\\\",\\\"3.9\\\",\\\"4.0\\\",\\\"4.1\\\",\\\"4.2\\\",\\\"4.3\\\",\\\"4.4\\\",\\\"4.5\\\",\\\"4.6\\\",\\\"4.7\\\",\\\"4.8\\\",\\\"4.9\\\",\\\"5.0\\\",\\\"5.1\\\",\\\"5.2\\\",\\\"5.3\\\",\\\"5.4\\\",\\\"5.5\\\",\\\"5.6\\\",\\\"5.7\\\",\\\"5.8\\\",\\\"5.9\\\",\\\"6.0\\\",\\\"6.1\\\",\\\"6.2\\\",\\\"6.3\\\",\\\"6.4\\\",\\\"6.5\\\",\\\"6.6\\\",\\\"6.7\\\",\\\"6.8\\\",\\\"6.9\\\",\\\"7.0\\\",\\\"7.1\\\",\\\"7.2\\\",\\\"7.3\\\",\\\"7.4\\\",\\\"7.5\\\",\\\"7.6\\\",\\\"7.7\\\",\\\"7.8\\\",\\\"7.9\\\",\\\"8.0\\\",\\\"8.1\\\",\\\"8.2\\\",\\\"8.3\\\",\\\"8.4\\\",\\\"8.5\\\",\\\"8.6\\\",\\\"8.7\\\",\\\"8.8\\\",\\\"8.9\\\",\\\"9.0\\\",\\\"9.1\\\",\\\"9.2\\\",\\\"9.3\\\",\\\"9.4\\\",\\\"9.5\\\",\\\"9.6\\\",\\\"9.7\\\",\\\"9.8\\\",\\\"9.9\\\",\\\"10.0\\\"],\\\"changes\\\":WebIO.getval({\\\"name\\\":\\\"changes\\\",\\\"scope\\\":\\\"8174863025626627151\\\",\\\"id\\\":\\\"4623685479074123224\\\",\\\"type\\\":\\\"observable\\\"}),\\\"index\\\":WebIO.getval({\\\"name\\\":\\\"index\\\",\\\"scope\\\":\\\"8174863025626627151\\\",\\\"id\\\":\\\"3089685589449289157\\\",\\\"type\\\":\\\"observable\\\"})};\\n    var self = this;\\n    function AppViewModel() {\\n        for (var key in json_data) {\\n            var el = json_data[key];\\n            this[key] = Array.isArray(el) ? ko.observableArray(el) : ko.observable(el);\\n        }\\n        \\n        [this[\\\"formatted_val\\\"]=ko.computed(    function(){\\n        return this.formatted_vals()[parseInt(this.index())-(1)];\\n    }\\n,this)]\\n        [this[\\\"changes\\\"].subscribe((function (val){!(this.valueFromJulia[\\\"changes\\\"]) ? (WebIO.setval({\\\"name\\\":\\\"changes\\\",\\\"scope\\\":\\\"8174863025626627151\\\",\\\"id\\\":\\\"4623685479074123224\\\",\\\"type\\\":\\\"observable\\\"},val)) : undefined; return this.valueFromJulia[\\\"changes\\\"]=false}),self),this[\\\"index\\\"].subscribe((function (val){!(this.valueFromJulia[\\\"index\\\"]) ? (WebIO.setval({\\\"name\\\":\\\"index\\\",\\\"scope\\\":\\\"8174863025626627151\\\",\\\"id\\\":\\\"3089685589449289157\\\",\\\"type\\\":\\\"observable\\\"},val)) : undefined; return this.valueFromJulia[\\\"index\\\"]=false}),self)]\\n        \\n    }\\n    self.model = new AppViewModel();\\n    self.valueFromJulia = {};\\n    for (var key in json_data) {\\n        self.valueFromJulia[key] = false;\\n    }\\n    ko.applyBindings(self.model, self.dom);\\n}\\n);\\n    (WebIO.importBlock({\\\"data\\\":[{\\\"name\\\":\\\"knockout\\\",\\\"type\\\":\\\"js\\\",\\\"url\\\":\\\"/assetserver/d749de49a15576291e39755d819be2408bf7f995-knockout.js\\\"},{\\\"name\\\":\\\"knockout_punches\\\",\\\"type\\\":\\\"js\\\",\\\"url\\\":\\\"/assetserver/9f5c86158cf79faf331cfb32636cb08a9b1f0dc2-knockout_punches.js\\\"}],\\\"type\\\":\\\"async_block\\\"})).then((imports) => handler.apply(this, imports));\\n}\\n\")])], Dict{Symbol, Any}(:className => \"field interact-widget\")), Observable(Gadfly.Plot(Gadfly.Layer[Gadfly.Layer(nothing, Dict{Symbol, Any}(:y => [5.0, 6.25, 7.65625, 9.206640625, 10.88455087890625, 12.669889336818848, 14.540250075443389, 16.472071335529318, 18.44170649961995, 20.426343985752517  …  52.5400711684242, 52.540971700163944, 52.541782192621234, 52.54251164708513, 52.54316816521715, 52.54375903891885, 52.544290831230576, 52.54476944915514, 52.54520020921094, 52.54558789643938], :x => [0.0, 1.0, 2.0, 3.0, 4.0, 5.0, 6.0, 7.0, 8.0, 9.0  …  91.0, 92.0, 93.0, 94.0, 95.0, 96.0, 97.0, 98.0, 99.0, 100.0]), Gadfly.StatisticElement[], Gadfly.Geom.LineGeometry(Gadfly.Stat.Identity(), false, 2, Symbol(\"\")), Gadfly.Theme(LCHab{Float32}(70.0f0,60.0f0,240.0f0), 0.7mm, 0.45mm, 1.8mm, Gadfly.Scale.default_discrete_sizes, Gadfly.Scale.default_continuous_sizes, Gadfly.Scale.default_discrete_colors, Function[Compose.circle, Gadfly.Shape.square, Gadfly.Shape.diamond, Gadfly.Shape.cross, Gadfly.Shape.xcross, Gadfly.Shape.utriangle, Gadfly.Shape.dtriangle, Gadfly.Shape.star1, Gadfly.Shape.star2, Gadfly.Shape.hexagon, Gadfly.Shape.octagon, Gadfly.Shape.hline, Gadfly.Shape.vline, Gadfly.Shape.ltriangle, Gadfly.Shape.rtriangle], 0.3mm, [:solid, :dash, :dot, :dashdot, :dashdotdot, :ldash, :ldashdash, :ldashdot, :ldashdashdot], [1.0, 0.9, 0.8, 0.7, 0.6, 0.5, 0.4, 0.3, 0.2, 0.1, 0.0], nothing, nothing, 0.3mm, 0.0, RGB{N0f8}(1.0,1.0,1.0), Measures.AbsoluteLength[5.0mm, 5.0mm, 5.0mm, 0.0mm], RGB{N0f8}(0.816,0.816,0.878), Measures.AbsoluteLength[0.5mm, 0.5mm], RGB{N0f8}(0.627,0.627,0.627), 0.2mm, 0, \"'PT Sans Caption','Helvetica Neue','Helvetica',sans-serif\", 2.822222222222222mm, RGB{N0f8}(0.424,0.376,0.42), \"'PT Sans','Helvetica Neue','Helvetica',sans-serif\", 3.5277777777777777mm, RGB{N0f8}(0.337,0.29,0.333), \"'PT Sans Caption','Helvetica Neue','Helvetica',sans-serif\", 2.822222222222222mm, RGB{N0f8}(0.298,0.251,0.294), \"'PT Sans','Helvetica Neue','Helvetica',sans-serif\", 3.175mm, RGB{N0f8}(0.212,0.165,0.208), \"'PT Sans','Helvetica Neue','Helvetica',sans-serif\", 2.822222222222222mm, RGB{N0f8}(0.298,0.251,0.294), 40, -0.05mm, 1.0mm, 3.0mm, Gadfly.default_stroke_color, 0.3mm, Cropbox.var\"#603#612\"(), Gadfly.default_continuous_highlight_color, Gadfly.default_lowlight_color, Gadfly.default_middle_color, 0.6mm, :left, :square, nothing, nothing, nothing, :right, nothing, 2.0mm, 1000, 10.0, 0.5, 0.2, 1.0mm, 4, Gadfly.Scale.DiscreteColorScale(Gadfly.Scale.default_discrete_colors, nothing, nothing, true), Gadfly.Scale.ContinuousColorScale(Gadfly.Scale.var\"#73#77\"{Int64, Int64, Int64, Int64, Float64, Int64}(100, 40, 260, 10, 1.5, 70), Gadfly.Scale.ContinuousScaleTransform(identity, identity, Gadfly.Scale.identity_formatter), nothing, nothing)), 1)], nothing, Data(\n",
       "  titles=Dict{Symbol, AbstractString}()\n",
       ")\n",
       ", Gadfly.ScaleElement[], Gadfly.StatisticElement[], Gadfly.Coord.Cartesian([:x, :xmin, :xmax, :xintercept], [:y, :ymin, :ymax, :yintercept, :middle, :lower_hinge, :upper_hinge, :lower_fence, :upper_fence, :outliers], 0.0, 100.0, 0, 200, false, false, false, nothing, false), Gadfly.GuideElement[Gadfly.Guide.Title(\"\"), Gadfly.Guide.XLabel(\"t\", :auto), Gadfly.Guide.YLabel(\"W\", :auto)], Gadfly.Theme(LCHab{Float32}(70.0f0,60.0f0,240.0f0), 0.7mm, 0.45mm, 1.8mm, Gadfly.Scale.default_discrete_sizes, Gadfly.Scale.default_continuous_sizes, Gadfly.Scale.default_discrete_colors, Function[Compose.circle, Gadfly.Shape.square, Gadfly.Shape.diamond, Gadfly.Shape.cross, Gadfly.Shape.xcross, Gadfly.Shape.utriangle, Gadfly.Shape.dtriangle, Gadfly.Shape.star1, Gadfly.Shape.star2, Gadfly.Shape.hexagon, Gadfly.Shape.octagon, Gadfly.Shape.hline, Gadfly.Shape.vline, Gadfly.Shape.ltriangle, Gadfly.Shape.rtriangle], 0.3mm, [:solid, :dash, :dot, :dashdot, :dashdotdot, :ldash, :ldashdash, :ldashdot, :ldashdashdot], [1.0, 0.9, 0.8, 0.7, 0.6, 0.5, 0.4, 0.3, 0.2, 0.1, 0.0], nothing, nothing, 0.3mm, 0.0, RGB{N0f8}(1.0,1.0,1.0), Measures.AbsoluteLength[5.0mm, 5.0mm, 5.0mm, 0.0mm], RGB{N0f8}(0.816,0.816,0.878), Measures.AbsoluteLength[0.5mm, 0.5mm], RGB{N0f8}(0.627,0.627,0.627), 0.2mm, 0, \"'PT Sans Caption','Helvetica Neue','Helvetica',sans-serif\", 2.822222222222222mm, RGB{N0f8}(0.424,0.376,0.42), \"'PT Sans','Helvetica Neue','Helvetica',sans-serif\", 3.5277777777777777mm, RGB{N0f8}(0.337,0.29,0.333), \"'PT Sans Caption','Helvetica Neue','Helvetica',sans-serif\", 2.822222222222222mm, RGB{N0f8}(0.298,0.251,0.294), \"'PT Sans','Helvetica Neue','Helvetica',sans-serif\", 3.175mm, RGB{N0f8}(0.212,0.165,0.208), \"'PT Sans','Helvetica Neue','Helvetica',sans-serif\", 2.822222222222222mm, RGB{N0f8}(0.298,0.251,0.294), 40, -0.05mm, 1.0mm, 3.0mm, Gadfly.default_stroke_color, 0.3mm, Cropbox.var\"#603#612\"(), Gadfly.default_continuous_highlight_color, Gadfly.default_lowlight_color, Gadfly.default_middle_color, 0.6mm, :left, :square, nothing, nothing, nothing, :right, nothing, 2.0mm, 1000, 10.0, 0.5, 0.2, 1.0mm, 4, Gadfly.Scale.DiscreteColorScale(Gadfly.Scale.default_discrete_colors, nothing, nothing, true), Gadfly.Scale.ContinuousColorScale(Gadfly.Scale.var\"#73#77\"{Int64, Int64, Int64, Int64, Float64, Int64}(100, 40, 260, 10, 1.5, 70), Gadfly.Scale.ContinuousScaleTransform(identity, identity, Gadfly.Scale.identity_formatter), nothing, nothing)), Dict{Symbol, Any}()))], Dict{Symbol, Any}(:style => Dict(\"display\" => \"flex\", \"flex-direction\" => \"column\")))"
      ]
     },
     "execution_count": 20,
     "metadata": {
      "@webio": {
       "kernelId": "d709139d-588b-4fee-8d6d-f916525c81c4"
      }
     },
     "output_type": "execute_result"
    }
   ],
   "source": [
    "manipulate(Gomp, :t, :W;\n",
    "    parameters = Gomp => (;\n",
    "        :μ0 => 0:0.01:0.5,\n",
    "        :D  => 0:0.01:0.2,\n",
    "        :W0 => 0:0.1:10,\n",
    "    ),\n",
    "    stop = 100,\n",
    "    kind = :line,\n",
    "    ylim = (0, 200),\n",
    ")"
   ]
  },
  {
   "cell_type": "markdown",
   "metadata": {},
   "source": [
    "## 1.5. Chanter Growth Equation\n",
    "\n",
    "- Eq\n",
    "\n",
    "$$\n",
    "\\frac{dW}{dt} = \\mu W \\left( 1 - \\frac{W}{B} \\right) e^{-D t}\n",
    "$$\n",
    "\n",
    "- Table\n",
    "\n",
    "| Symbol | Value | Units | Description |\n",
    "| :- | :- | :- | :- |\n",
    "| $t$ | - | - | Time unit used in the model |\n",
    "| $\\mu$ | 0.3 | - | Specific growth rate |\n",
    "| $B$ | 100 | - | Control parameter |\n",
    "| $D$ | 0.065 | - | Decay in the specific growth rate |\n",
    "| $W_0$ | 1 | - | Dry mass at time $t = 0$ |\n",
    "| $W$ | - | - | Current dry mass |"
   ]
  },
  {
   "cell_type": "code",
   "execution_count": 21,
   "metadata": {
    "tags": []
   },
   "outputs": [
    {
     "data": {
      "text/plain": [
       "Chan"
      ]
     },
     "execution_count": 21,
     "metadata": {},
     "output_type": "execute_result"
    }
   ],
   "source": [
    "@system Chan(Controller) begin\n",
    "    t(context.clock.tick) ~ track\n",
    "    \n",
    "    μ       => 0.3   ~ preserve(parameter)\n",
    "    B       => 100   ~ preserve(parameter)\n",
    "    D       => 0.065 ~ preserve(parameter)\n",
    "    W0      => 1     ~ preserve(parameter)\n",
    "\n",
    "    W(μ, W, B, D, t) => begin\n",
    "        μ*W * (1 - W/B) * ℯ^(-D*t)\n",
    "    end ~ accumulate(init = W0)\n",
    "end"
   ]
  },
  {
   "cell_type": "code",
   "execution_count": 22,
   "metadata": {
    "tags": []
   },
   "outputs": [
    {
     "data": {
      "text/html": [
       "<div><div style = \"float: left;\"><span>101×7 DataFrame</span></div><div style = \"float: right;\"><span style = \"font-style: italic;\">76 rows omitted</span></div><div style = \"clear: both;\"></div></div><div class = \"data-frame\" style = \"overflow-x: scroll;\"><table class = \"data-frame\" style = \"margin-bottom: 6px;\"><thead><tr class = \"header\"><th class = \"rowNumber\" style = \"font-weight: bold; text-align: right;\">Row</th><th style = \"text-align: left;\">time</th><th style = \"text-align: left;\">t</th><th style = \"text-align: left;\">μ</th><th style = \"text-align: left;\">B</th><th style = \"text-align: left;\">D</th><th style = \"text-align: left;\">W0</th><th style = \"text-align: left;\">W</th></tr><tr class = \"subheader headerLastRow\"><th class = \"rowNumber\" style = \"font-weight: bold; text-align: right;\"></th><th title = \"Unitful.Quantity{Float64, 𝐓, Unitful.FreeUnits{(hr,), 𝐓, nothing}}\" style = \"text-align: left;\">Quantity…</th><th title = \"Float64\" style = \"text-align: left;\">Float64</th><th title = \"Float64\" style = \"text-align: left;\">Float64</th><th title = \"Float64\" style = \"text-align: left;\">Float64</th><th title = \"Float64\" style = \"text-align: left;\">Float64</th><th title = \"Float64\" style = \"text-align: left;\">Float64</th><th title = \"Float64\" style = \"text-align: left;\">Float64</th></tr></thead><tbody><tr><td class = \"rowNumber\" style = \"font-weight: bold; text-align: right;\">1</td><td style = \"text-align: right;\">0.0 hr</td><td style = \"text-align: right;\">0.0</td><td style = \"text-align: right;\">0.3</td><td style = \"text-align: right;\">100.0</td><td style = \"text-align: right;\">0.065</td><td style = \"text-align: right;\">1.0</td><td style = \"text-align: right;\">1.0</td></tr><tr><td class = \"rowNumber\" style = \"font-weight: bold; text-align: right;\">2</td><td style = \"text-align: right;\">1.0 hr</td><td style = \"text-align: right;\">1.0</td><td style = \"text-align: right;\">0.3</td><td style = \"text-align: right;\">100.0</td><td style = \"text-align: right;\">0.065</td><td style = \"text-align: right;\">1.0</td><td style = \"text-align: right;\">1.297</td></tr><tr><td class = \"rowNumber\" style = \"font-weight: bold; text-align: right;\">3</td><td style = \"text-align: right;\">2.0 hr</td><td style = \"text-align: right;\">2.0</td><td style = \"text-align: right;\">0.3</td><td style = \"text-align: right;\">100.0</td><td style = \"text-align: right;\">0.065</td><td style = \"text-align: right;\">1.0</td><td style = \"text-align: right;\">1.65688</td></tr><tr><td class = \"rowNumber\" style = \"font-weight: bold; text-align: right;\">4</td><td style = \"text-align: right;\">3.0 hr</td><td style = \"text-align: right;\">3.0</td><td style = \"text-align: right;\">0.3</td><td style = \"text-align: right;\">100.0</td><td style = \"text-align: right;\">0.065</td><td style = \"text-align: right;\">1.0</td><td style = \"text-align: right;\">2.08612</td></tr><tr><td class = \"rowNumber\" style = \"font-weight: bold; text-align: right;\">5</td><td style = \"text-align: right;\">4.0 hr</td><td style = \"text-align: right;\">4.0</td><td style = \"text-align: right;\">0.3</td><td style = \"text-align: right;\">100.0</td><td style = \"text-align: right;\">0.065</td><td style = \"text-align: right;\">1.0</td><td style = \"text-align: right;\">2.59034</td></tr><tr><td class = \"rowNumber\" style = \"font-weight: bold; text-align: right;\">6</td><td style = \"text-align: right;\">5.0 hr</td><td style = \"text-align: right;\">5.0</td><td style = \"text-align: right;\">0.3</td><td style = \"text-align: right;\">100.0</td><td style = \"text-align: right;\">0.065</td><td style = \"text-align: right;\">1.0</td><td style = \"text-align: right;\">3.17401</td></tr><tr><td class = \"rowNumber\" style = \"font-weight: bold; text-align: right;\">7</td><td style = \"text-align: right;\">6.0 hr</td><td style = \"text-align: right;\">6.0</td><td style = \"text-align: right;\">0.3</td><td style = \"text-align: right;\">100.0</td><td style = \"text-align: right;\">0.065</td><td style = \"text-align: right;\">1.0</td><td style = \"text-align: right;\">3.84016</td></tr><tr><td class = \"rowNumber\" style = \"font-weight: bold; text-align: right;\">8</td><td style = \"text-align: right;\">7.0 hr</td><td style = \"text-align: right;\">7.0</td><td style = \"text-align: right;\">0.3</td><td style = \"text-align: right;\">100.0</td><td style = \"text-align: right;\">0.065</td><td style = \"text-align: right;\">1.0</td><td style = \"text-align: right;\">4.59021</td></tr><tr><td class = \"rowNumber\" style = \"font-weight: bold; text-align: right;\">9</td><td style = \"text-align: right;\">8.0 hr</td><td style = \"text-align: right;\">8.0</td><td style = \"text-align: right;\">0.3</td><td style = \"text-align: right;\">100.0</td><td style = \"text-align: right;\">0.065</td><td style = \"text-align: right;\">1.0</td><td style = \"text-align: right;\">5.42378</td></tr><tr><td class = \"rowNumber\" style = \"font-weight: bold; text-align: right;\">10</td><td style = \"text-align: right;\">9.0 hr</td><td style = \"text-align: right;\">9.0</td><td style = \"text-align: right;\">0.3</td><td style = \"text-align: right;\">100.0</td><td style = \"text-align: right;\">0.065</td><td style = \"text-align: right;\">1.0</td><td style = \"text-align: right;\">6.33868</td></tr><tr><td class = \"rowNumber\" style = \"font-weight: bold; text-align: right;\">11</td><td style = \"text-align: right;\">10.0 hr</td><td style = \"text-align: right;\">10.0</td><td style = \"text-align: right;\">0.3</td><td style = \"text-align: right;\">100.0</td><td style = \"text-align: right;\">0.065</td><td style = \"text-align: right;\">1.0</td><td style = \"text-align: right;\">7.33092</td></tr><tr><td class = \"rowNumber\" style = \"font-weight: bold; text-align: right;\">12</td><td style = \"text-align: right;\">11.0 hr</td><td style = \"text-align: right;\">11.0</td><td style = \"text-align: right;\">0.3</td><td style = \"text-align: right;\">100.0</td><td style = \"text-align: right;\">0.065</td><td style = \"text-align: right;\">1.0</td><td style = \"text-align: right;\">8.39487</td></tr><tr><td class = \"rowNumber\" style = \"font-weight: bold; text-align: right;\">13</td><td style = \"text-align: right;\">12.0 hr</td><td style = \"text-align: right;\">12.0</td><td style = \"text-align: right;\">0.3</td><td style = \"text-align: right;\">100.0</td><td style = \"text-align: right;\">0.065</td><td style = \"text-align: right;\">1.0</td><td style = \"text-align: right;\">9.52346</td></tr><tr><td style = \"text-align: right;\">&vellip;</td><td style = \"text-align: right;\">&vellip;</td><td style = \"text-align: right;\">&vellip;</td><td style = \"text-align: right;\">&vellip;</td><td style = \"text-align: right;\">&vellip;</td><td style = \"text-align: right;\">&vellip;</td><td style = \"text-align: right;\">&vellip;</td><td style = \"text-align: right;\">&vellip;</td></tr><tr><td class = \"rowNumber\" style = \"font-weight: bold; text-align: right;\">90</td><td style = \"text-align: right;\">89.0 hr</td><td style = \"text-align: right;\">89.0</td><td style = \"text-align: right;\">0.3</td><td style = \"text-align: right;\">100.0</td><td style = \"text-align: right;\">0.065</td><td style = \"text-align: right;\">1.0</td><td style = \"text-align: right;\">46.8189</td></tr><tr><td class = \"rowNumber\" style = \"font-weight: bold; text-align: right;\">91</td><td style = \"text-align: right;\">90.0 hr</td><td style = \"text-align: right;\">90.0</td><td style = \"text-align: right;\">0.3</td><td style = \"text-align: right;\">100.0</td><td style = \"text-align: right;\">0.065</td><td style = \"text-align: right;\">1.0</td><td style = \"text-align: right;\">46.8418</td></tr><tr><td class = \"rowNumber\" style = \"font-weight: bold; text-align: right;\">92</td><td style = \"text-align: right;\">91.0 hr</td><td style = \"text-align: right;\">91.0</td><td style = \"text-align: right;\">0.3</td><td style = \"text-align: right;\">100.0</td><td style = \"text-align: right;\">0.065</td><td style = \"text-align: right;\">1.0</td><td style = \"text-align: right;\">46.8633</td></tr><tr><td class = \"rowNumber\" style = \"font-weight: bold; text-align: right;\">93</td><td style = \"text-align: right;\">92.0 hr</td><td style = \"text-align: right;\">92.0</td><td style = \"text-align: right;\">0.3</td><td style = \"text-align: right;\">100.0</td><td style = \"text-align: right;\">0.065</td><td style = \"text-align: right;\">1.0</td><td style = \"text-align: right;\">46.8835</td></tr><tr><td class = \"rowNumber\" style = \"font-weight: bold; text-align: right;\">94</td><td style = \"text-align: right;\">93.0 hr</td><td style = \"text-align: right;\">93.0</td><td style = \"text-align: right;\">0.3</td><td style = \"text-align: right;\">100.0</td><td style = \"text-align: right;\">0.065</td><td style = \"text-align: right;\">1.0</td><td style = \"text-align: right;\">46.9024</td></tr><tr><td class = \"rowNumber\" style = \"font-weight: bold; text-align: right;\">95</td><td style = \"text-align: right;\">94.0 hr</td><td style = \"text-align: right;\">94.0</td><td style = \"text-align: right;\">0.3</td><td style = \"text-align: right;\">100.0</td><td style = \"text-align: right;\">0.065</td><td style = \"text-align: right;\">1.0</td><td style = \"text-align: right;\">46.9201</td></tr><tr><td class = \"rowNumber\" style = \"font-weight: bold; text-align: right;\">96</td><td style = \"text-align: right;\">95.0 hr</td><td style = \"text-align: right;\">95.0</td><td style = \"text-align: right;\">0.3</td><td style = \"text-align: right;\">100.0</td><td style = \"text-align: right;\">0.065</td><td style = \"text-align: right;\">1.0</td><td style = \"text-align: right;\">46.9367</td></tr><tr><td class = \"rowNumber\" style = \"font-weight: bold; text-align: right;\">97</td><td style = \"text-align: right;\">96.0 hr</td><td style = \"text-align: right;\">96.0</td><td style = \"text-align: right;\">0.3</td><td style = \"text-align: right;\">100.0</td><td style = \"text-align: right;\">0.065</td><td style = \"text-align: right;\">1.0</td><td style = \"text-align: right;\">46.9522</td></tr><tr><td class = \"rowNumber\" style = \"font-weight: bold; text-align: right;\">98</td><td style = \"text-align: right;\">97.0 hr</td><td style = \"text-align: right;\">97.0</td><td style = \"text-align: right;\">0.3</td><td style = \"text-align: right;\">100.0</td><td style = \"text-align: right;\">0.065</td><td style = \"text-align: right;\">1.0</td><td style = \"text-align: right;\">46.9668</td></tr><tr><td class = \"rowNumber\" style = \"font-weight: bold; text-align: right;\">99</td><td style = \"text-align: right;\">98.0 hr</td><td style = \"text-align: right;\">98.0</td><td style = \"text-align: right;\">0.3</td><td style = \"text-align: right;\">100.0</td><td style = \"text-align: right;\">0.065</td><td style = \"text-align: right;\">1.0</td><td style = \"text-align: right;\">46.9804</td></tr><tr><td class = \"rowNumber\" style = \"font-weight: bold; text-align: right;\">100</td><td style = \"text-align: right;\">99.0 hr</td><td style = \"text-align: right;\">99.0</td><td style = \"text-align: right;\">0.3</td><td style = \"text-align: right;\">100.0</td><td style = \"text-align: right;\">0.065</td><td style = \"text-align: right;\">1.0</td><td style = \"text-align: right;\">46.9932</td></tr><tr><td class = \"rowNumber\" style = \"font-weight: bold; text-align: right;\">101</td><td style = \"text-align: right;\">100.0 hr</td><td style = \"text-align: right;\">100.0</td><td style = \"text-align: right;\">0.3</td><td style = \"text-align: right;\">100.0</td><td style = \"text-align: right;\">0.065</td><td style = \"text-align: right;\">1.0</td><td style = \"text-align: right;\">47.0052</td></tr></tbody></table></div>"
      ],
      "text/latex": [
       "\\begin{tabular}{r|ccccccc}\n",
       "\t& time & t & μ & B & D & W0 & W\\\\\n",
       "\t\\hline\n",
       "\t& Quantity… & Float64 & Float64 & Float64 & Float64 & Float64 & Float64\\\\\n",
       "\t\\hline\n",
       "\t1 & 0.0 hr & 0.0 & 0.3 & 100.0 & 0.065 & 1.0 & 1.0 \\\\\n",
       "\t2 & 1.0 hr & 1.0 & 0.3 & 100.0 & 0.065 & 1.0 & 1.297 \\\\\n",
       "\t3 & 2.0 hr & 2.0 & 0.3 & 100.0 & 0.065 & 1.0 & 1.65688 \\\\\n",
       "\t4 & 3.0 hr & 3.0 & 0.3 & 100.0 & 0.065 & 1.0 & 2.08612 \\\\\n",
       "\t5 & 4.0 hr & 4.0 & 0.3 & 100.0 & 0.065 & 1.0 & 2.59034 \\\\\n",
       "\t6 & 5.0 hr & 5.0 & 0.3 & 100.0 & 0.065 & 1.0 & 3.17401 \\\\\n",
       "\t7 & 6.0 hr & 6.0 & 0.3 & 100.0 & 0.065 & 1.0 & 3.84016 \\\\\n",
       "\t8 & 7.0 hr & 7.0 & 0.3 & 100.0 & 0.065 & 1.0 & 4.59021 \\\\\n",
       "\t9 & 8.0 hr & 8.0 & 0.3 & 100.0 & 0.065 & 1.0 & 5.42378 \\\\\n",
       "\t10 & 9.0 hr & 9.0 & 0.3 & 100.0 & 0.065 & 1.0 & 6.33868 \\\\\n",
       "\t11 & 10.0 hr & 10.0 & 0.3 & 100.0 & 0.065 & 1.0 & 7.33092 \\\\\n",
       "\t12 & 11.0 hr & 11.0 & 0.3 & 100.0 & 0.065 & 1.0 & 8.39487 \\\\\n",
       "\t13 & 12.0 hr & 12.0 & 0.3 & 100.0 & 0.065 & 1.0 & 9.52346 \\\\\n",
       "\t14 & 13.0 hr & 13.0 & 0.3 & 100.0 & 0.065 & 1.0 & 10.7084 \\\\\n",
       "\t15 & 14.0 hr & 14.0 & 0.3 & 100.0 & 0.065 & 1.0 & 11.9406 \\\\\n",
       "\t16 & 15.0 hr & 15.0 & 0.3 & 100.0 & 0.065 & 1.0 & 13.2103 \\\\\n",
       "\t17 & 16.0 hr & 16.0 & 0.3 & 100.0 & 0.065 & 1.0 & 14.5077 \\\\\n",
       "\t18 & 17.0 hr & 17.0 & 0.3 & 100.0 & 0.065 & 1.0 & 15.8229 \\\\\n",
       "\t19 & 18.0 hr & 18.0 & 0.3 & 100.0 & 0.065 & 1.0 & 17.1463 \\\\\n",
       "\t20 & 19.0 hr & 19.0 & 0.3 & 100.0 & 0.065 & 1.0 & 18.4691 \\\\\n",
       "\t21 & 20.0 hr & 20.0 & 0.3 & 100.0 & 0.065 & 1.0 & 19.7829 \\\\\n",
       "\t22 & 21.0 hr & 21.0 & 0.3 & 100.0 & 0.065 & 1.0 & 21.0804 \\\\\n",
       "\t23 & 22.0 hr & 22.0 & 0.3 & 100.0 & 0.065 & 1.0 & 22.355 \\\\\n",
       "\t24 & 23.0 hr & 23.0 & 0.3 & 100.0 & 0.065 & 1.0 & 23.6011 \\\\\n",
       "\t25 & 24.0 hr & 24.0 & 0.3 & 100.0 & 0.065 & 1.0 & 24.8141 \\\\\n",
       "\t26 & 25.0 hr & 25.0 & 0.3 & 100.0 & 0.065 & 1.0 & 25.9903 \\\\\n",
       "\t27 & 26.0 hr & 26.0 & 0.3 & 100.0 & 0.065 & 1.0 & 27.1266 \\\\\n",
       "\t28 & 27.0 hr & 27.0 & 0.3 & 100.0 & 0.065 & 1.0 & 28.2209 \\\\\n",
       "\t29 & 28.0 hr & 28.0 & 0.3 & 100.0 & 0.065 & 1.0 & 29.2716 \\\\\n",
       "\t30 & 29.0 hr & 29.0 & 0.3 & 100.0 & 0.065 & 1.0 & 30.278 \\\\\n",
       "\t$\\dots$ & $\\dots$ & $\\dots$ & $\\dots$ & $\\dots$ & $\\dots$ & $\\dots$ & $\\dots$ \\\\\n",
       "\\end{tabular}\n"
      ],
      "text/plain": [
       "\u001b[1m101×7 DataFrame\n",
       "\u001b[1m Row │\u001b[1m time      \u001b[1m t       \u001b[1m μ       \u001b[1m B       \u001b[1m D       \u001b[1m W0      \u001b[1m W\n",
       "     │\u001b[90m Quantity… \u001b[90m Float64 \u001b[90m Float64 \u001b[90m Float64 \u001b[90m Float64 \u001b[90m Float64 \u001b[90m Float64\n",
       "─────┼──────────────────────────────────────────────────────────────────\n",
       "   1 │    0.0 hr      0.0      0.3    100.0    0.065      1.0   1.0\n",
       "   2 │    1.0 hr      1.0      0.3    100.0    0.065      1.0   1.297\n",
       "   3 │    2.0 hr      2.0      0.3    100.0    0.065      1.0   1.65688\n",
       "   4 │    3.0 hr      3.0      0.3    100.0    0.065      1.0   2.08612\n",
       "   5 │    4.0 hr      4.0      0.3    100.0    0.065      1.0   2.59034\n",
       "   6 │    5.0 hr      5.0      0.3    100.0    0.065      1.0   3.17401\n",
       "   7 │    6.0 hr      6.0      0.3    100.0    0.065      1.0   3.84016\n",
       "   8 │    7.0 hr      7.0      0.3    100.0    0.065      1.0   4.59021\n",
       "   9 │    8.0 hr      8.0      0.3    100.0    0.065      1.0   5.42378\n",
       "  10 │    9.0 hr      9.0      0.3    100.0    0.065      1.0   6.33868\n",
       "  11 │   10.0 hr     10.0      0.3    100.0    0.065      1.0   7.33092\n",
       "  ⋮  │     ⋮         ⋮        ⋮        ⋮        ⋮        ⋮        ⋮\n",
       "  92 │   91.0 hr     91.0      0.3    100.0    0.065      1.0  46.8633\n",
       "  93 │   92.0 hr     92.0      0.3    100.0    0.065      1.0  46.8835\n",
       "  94 │   93.0 hr     93.0      0.3    100.0    0.065      1.0  46.9024\n",
       "  95 │   94.0 hr     94.0      0.3    100.0    0.065      1.0  46.9201\n",
       "  96 │   95.0 hr     95.0      0.3    100.0    0.065      1.0  46.9367\n",
       "  97 │   96.0 hr     96.0      0.3    100.0    0.065      1.0  46.9522\n",
       "  98 │   97.0 hr     97.0      0.3    100.0    0.065      1.0  46.9668\n",
       "  99 │   98.0 hr     98.0      0.3    100.0    0.065      1.0  46.9804\n",
       " 100 │   99.0 hr     99.0      0.3    100.0    0.065      1.0  46.9932\n",
       " 101 │  100.0 hr    100.0      0.3    100.0    0.065      1.0  47.0052\n",
       "\u001b[36m                                                         80 rows omitted"
      ]
     },
     "execution_count": 22,
     "metadata": {},
     "output_type": "execute_result"
    }
   ],
   "source": [
    "r15 = simulate(Chan, stop = 100)"
   ]
  },
  {
   "cell_type": "code",
   "execution_count": 23,
   "metadata": {
    "tags": []
   },
   "outputs": [
    {
     "data": {
      "image/svg+xml": [
       "<?xml version=\"1.0\" encoding=\"UTF-8\"?>\n",
       "<svg xmlns=\"http://www.w3.org/2000/svg\"\n",
       "     xmlns:xlink=\"http://www.w3.org/1999/xlink\"\n",
       "     xmlns:gadfly=\"http://www.gadflyjl.org/ns\"\n",
       "     version=\"1.2\"\n",
       "     width=\"141.42mm\" height=\"100mm\" viewBox=\"0 0 141.42 100\"\n",
       "     stroke=\"none\"\n",
       "     fill=\"#000000\"\n",
       "     stroke-width=\"0.3\"\n",
       "     font-size=\"3.88\"\n",
       ">\n",
       "<defs>\n",
       "  <marker id=\"arrow\" markerWidth=\"15\" markerHeight=\"7\" refX=\"5\" refY=\"3.5\" orient=\"auto\" markerUnits=\"strokeWidth\">\n",
       "    <path d=\"M0,0 L15,3.5 L0,7 z\" stroke=\"context-stroke\" fill=\"context-stroke\"/>\n",
       "  </marker>\n",
       "</defs>\n",
       "<g stroke=\"#000000\" stroke-opacity=\"0.000\" fill=\"#FFFFFF\" id=\"img-07448046-1\">\n",
       "  <g transform=\"translate(70.71,50)\">\n",
       "    <path d=\"M-70.71,-50 L70.71,-50 70.71,50 -70.71,50  z\" class=\"primitive\"/>\n",
       "  </g>\n",
       "</g>\n",
       "<g class=\"plotroot xscalable yscalable\" id=\"img-07448046-2\">\n",
       "  <g font-size=\"3.53\" font-family=\"'PT Sans','Helvetica Neue','Helvetica',sans-serif\" fill=\"#564A55\" stroke=\"#000000\" stroke-opacity=\"0.000\" id=\"img-07448046-3\">\n",
       "    <g transform=\"translate(69.9,93.72)\">\n",
       "      <g class=\"primitive\">\n",
       "        <text text-anchor=\"middle\" dy=\"0.6em\">t</text>\n",
       "      </g>\n",
       "    </g>\n",
       "  </g>\n",
       "  <g class=\"guide xlabels\" font-size=\"2.82\" font-family=\"'PT Sans Caption','Helvetica Neue','Helvetica',sans-serif\" fill=\"#6C606B\" id=\"img-07448046-4\">\n",
       "    <g transform=\"translate(12.35,87.04)\">\n",
       "      <g class=\"primitive\">\n",
       "        <text text-anchor=\"middle\" dy=\"0.6em\">0</text>\n",
       "      </g>\n",
       "    </g>\n",
       "    <g transform=\"translate(69.9,87.04)\">\n",
       "      <g class=\"primitive\">\n",
       "        <text text-anchor=\"middle\" dy=\"0.6em\">50</text>\n",
       "      </g>\n",
       "    </g>\n",
       "    <g transform=\"translate(127.46,87.04)\">\n",
       "      <g class=\"primitive\">\n",
       "        <text text-anchor=\"middle\" dy=\"0.6em\">100</text>\n",
       "      </g>\n",
       "    </g>\n",
       "  </g>\n",
       "  <g class=\"guide colorkey\" id=\"img-07448046-5\">\n",
       "    <g fill=\"#4C404B\" font-size=\"2.82\" font-family=\"'PT Sans','Helvetica Neue','Helvetica',sans-serif\" id=\"img-07448046-6\">\n",
       "      <g transform=\"translate(134.09,47.75)\" id=\"img-07448046-7\">\n",
       "        <g class=\"primitive\">\n",
       "          <text dy=\"0.35em\">W</text>\n",
       "        </g>\n",
       "      </g>\n",
       "    </g>\n",
       "    <g stroke-width=\"0.3\" id=\"img-07448046-8\">\n",
       "      <g stroke=\"#FFFFFF\" stroke-opacity=\"0.000\" fill-opacity=\"1\" fill=\"#00BFFF\" id=\"img-07448046-9\">\n",
       "        <g transform=\"translate(131.27,47.75)\" id=\"img-07448046-10\">\n",
       "          <circle cx=\"0\" cy=\"0\" r=\"0.7\" class=\"primitive\"/>\n",
       "        </g>\n",
       "      </g>\n",
       "    </g>\n",
       "    <g fill=\"#362A35\" font-size=\"3.18\" font-family=\"'PT Sans','Helvetica Neue','Helvetica',sans-serif\" stroke=\"#000000\" stroke-opacity=\"0.000\" id=\"img-07448046-11\">\n",
       "      <g transform=\"translate(130.46,44.44)\" id=\"img-07448046-12\">\n",
       "        <g class=\"primitive\">\n",
       "          <text dy=\"-0em\"></text>\n",
       "        </g>\n",
       "      </g>\n",
       "    </g>\n",
       "  </g>\n",
       "  <g clip-path=\"url(#img-07448046-13)\">\n",
       "    <g id=\"img-07448046-14\">\n",
       "      <g pointer-events=\"visible\" stroke-width=\"0.3\" fill=\"#000000\" fill-opacity=\"0.000\" stroke=\"#000000\" stroke-opacity=\"0.000\" class=\"guide background\" id=\"img-07448046-15\">\n",
       "        <g transform=\"translate(69.9,45.52)\" id=\"img-07448046-16\">\n",
       "          <path d=\"M-59.56,-40.52 L59.56,-40.52 59.56,40.52 -59.56,40.52  z\" class=\"primitive\"/>\n",
       "        </g>\n",
       "      </g>\n",
       "      <g class=\"guide ygridlines xfixed\" stroke-dasharray=\"0.5,0.5\" stroke-width=\"0.2\" stroke=\"#D0D0E0\" id=\"img-07448046-17\">\n",
       "        <g transform=\"translate(69.9,69.29)\" id=\"img-07448046-18\">\n",
       "          <path fill=\"none\" d=\"M-59.56,0 L59.56,0 \" class=\"primitive\"/>\n",
       "        </g>\n",
       "        <g transform=\"translate(69.9,52.9)\" id=\"img-07448046-19\">\n",
       "          <path fill=\"none\" d=\"M-59.56,0 L59.56,0 \" class=\"primitive\"/>\n",
       "        </g>\n",
       "        <g transform=\"translate(69.9,36.51)\" id=\"img-07448046-20\">\n",
       "          <path fill=\"none\" d=\"M-59.56,0 L59.56,0 \" class=\"primitive\"/>\n",
       "        </g>\n",
       "        <g transform=\"translate(69.9,20.11)\" id=\"img-07448046-21\">\n",
       "          <path fill=\"none\" d=\"M-59.56,0 L59.56,0 \" class=\"primitive\"/>\n",
       "        </g>\n",
       "      </g>\n",
       "      <g class=\"guide xgridlines yfixed\" stroke-dasharray=\"0.5,0.5\" stroke-width=\"0.2\" stroke=\"#D0D0E0\" id=\"img-07448046-22\">\n",
       "        <g transform=\"translate(12.35,45.52)\" id=\"img-07448046-23\">\n",
       "          <path fill=\"none\" d=\"M0,-40.52 L0,40.52 \" class=\"primitive\"/>\n",
       "        </g>\n",
       "        <g transform=\"translate(69.9,45.52)\" id=\"img-07448046-24\">\n",
       "          <path fill=\"none\" d=\"M0,-40.52 L0,40.52 \" class=\"primitive\"/>\n",
       "        </g>\n",
       "        <g transform=\"translate(127.46,45.52)\" id=\"img-07448046-25\">\n",
       "          <path fill=\"none\" d=\"M0,-40.52 L0,40.52 \" class=\"primitive\"/>\n",
       "        </g>\n",
       "      </g>\n",
       "      <g class=\"plotpanel\" id=\"img-07448046-26\">\n",
       "        <metadata>\n",
       "          <boundingbox value=\"10.346666666666664mm 5.0mm 119.11468957064284mm 81.04333333333332mm\"/>\n",
       "          <unitbox value=\"-1.7373977269622507 49.22009258858651 103.4747954539245 -49.44018517717302\"/>\n",
       "        </metadata>\n",
       "        <g stroke-width=\"0.3\" fill=\"#000000\" fill-opacity=\"0.000\" class=\"geometry\" id=\"img-07448046-27\">\n",
       "          <g class=\"color_LCHab{Float32}(70.0f0,60.0f0,240.0f0)\" stroke-dasharray=\"none\" stroke-opacity=\"1\" stroke=\"#00BFFF\" id=\"img-07448046-28\">\n",
       "            <g transform=\"translate(69.9,28.84)\" id=\"img-07448046-29\">\n",
       "              <path fill=\"none\" d=\"M-57.56,55.2 L-56.41,54.71 -55.26,54.12 -54.1,53.42 -52.95,52.59 -51.8,51.64 -50.65,50.54 -49.5,49.31 -48.35,47.95 -47.2,46.45 -46.05,44.82 -44.89,43.08 -43.74,41.23 -42.59,39.28 -41.44,37.26 -40.29,35.18 -39.14,33.06 -37.99,30.9 -36.84,28.73 -35.69,26.56 -34.53,24.41 -33.38,22.28 -32.23,20.19 -31.08,18.15 -29.93,16.16 -28.78,14.23 -27.63,12.37 -26.48,10.58 -25.33,8.86 -24.17,7.21 -23.02,5.63 -21.87,4.13 -20.72,2.7 -19.57,1.34 -18.42,0.05 -17.27,-1.17 -16.12,-2.33 -14.96,-3.42 -13.81,-4.45 -12.66,-5.43 -11.51,-6.35 -10.36,-7.21 -9.21,-8.03 -8.06,-8.79 -6.91,-9.51 -5.76,-10.19 -4.6,-10.83 -3.45,-11.43 -2.3,-11.99 -1.15,-12.52 0,-13.02 1.15,-13.48 2.3,-13.92 3.45,-14.33 4.6,-14.72 5.76,-15.08 6.91,-15.42 8.06,-15.74 9.21,-16.04 10.36,-16.32 11.51,-16.58 12.66,-16.83 13.81,-17.06 14.96,-17.27 16.12,-17.48 17.27,-17.67 18.42,-17.84 19.57,-18.01 20.72,-18.17 21.87,-18.31 23.02,-18.45 24.17,-18.58 25.33,-18.7 26.48,-18.82 27.63,-18.92 28.78,-19.02 29.93,-19.11 31.08,-19.2 32.23,-19.28 33.38,-19.36 34.53,-19.43 35.69,-19.5 36.84,-19.56 37.99,-19.62 39.14,-19.68 40.29,-19.73 41.44,-19.78 42.59,-19.83 43.74,-19.87 44.89,-19.91 46.05,-19.95 47.2,-19.98 48.35,-20.01 49.5,-20.05 50.65,-20.07 51.8,-20.1 52.95,-20.13 54.1,-20.15 55.26,-20.17 56.41,-20.19 57.56,-20.21 \" class=\"primitive\"/>\n",
       "            </g>\n",
       "          </g>\n",
       "        </g>\n",
       "      </g>\n",
       "    </g>\n",
       "  </g>\n",
       "  <g class=\"guide ylabels\" font-size=\"2.82\" font-family=\"'PT Sans Caption','Helvetica Neue','Helvetica',sans-serif\" fill=\"#6C606B\" id=\"img-07448046-30\">\n",
       "    <g transform=\"translate(9.35,69.29)\" id=\"img-07448046-31\">\n",
       "      <g class=\"primitive\">\n",
       "        <text text-anchor=\"end\" dy=\"0.35em\">10</text>\n",
       "      </g>\n",
       "    </g>\n",
       "    <g transform=\"translate(9.35,52.9)\" id=\"img-07448046-32\">\n",
       "      <g class=\"primitive\">\n",
       "        <text text-anchor=\"end\" dy=\"0.35em\">20</text>\n",
       "      </g>\n",
       "    </g>\n",
       "    <g transform=\"translate(9.35,36.51)\" id=\"img-07448046-33\">\n",
       "      <g class=\"primitive\">\n",
       "        <text text-anchor=\"end\" dy=\"0.35em\">30</text>\n",
       "      </g>\n",
       "    </g>\n",
       "    <g transform=\"translate(9.35,20.11)\" id=\"img-07448046-34\">\n",
       "      <g class=\"primitive\">\n",
       "        <text text-anchor=\"end\" dy=\"0.35em\">40</text>\n",
       "      </g>\n",
       "    </g>\n",
       "  </g>\n",
       "</g>\n",
       "<defs>\n",
       "  <clipPath id=\"img-07448046-13\">\n",
       "    <path d=\"M10.35,5 L129.46,5 129.46,86.04 10.35,86.04 \" />\n",
       "  </clipPath>\n",
       "</defs>\n",
       "</svg>\n"
      ],
      "text/html": [
       "<?xml version=\"1.0\" encoding=\"UTF-8\"?>\n",
       "<svg xmlns=\"http://www.w3.org/2000/svg\"\n",
       "     xmlns:xlink=\"http://www.w3.org/1999/xlink\"\n",
       "     xmlns:gadfly=\"http://www.gadflyjl.org/ns\"\n",
       "     version=\"1.2\"\n",
       "     width=\"141.42mm\" height=\"100mm\" viewBox=\"0 0 141.42 100\"\n",
       "     stroke=\"none\"\n",
       "     fill=\"#000000\"\n",
       "     stroke-width=\"0.3\"\n",
       "     font-size=\"3.88\"\n",
       ">\n",
       "<defs>\n",
       "  <marker id=\"arrow\" markerWidth=\"15\" markerHeight=\"7\" refX=\"5\" refY=\"3.5\" orient=\"auto\" markerUnits=\"strokeWidth\">\n",
       "    <path d=\"M0,0 L15,3.5 L0,7 z\" stroke=\"context-stroke\" fill=\"context-stroke\"/>\n",
       "  </marker>\n",
       "</defs>\n",
       "<g stroke=\"#000000\" stroke-opacity=\"0.000\" fill=\"#FFFFFF\" id=\"img-14c87751-1\">\n",
       "  <g transform=\"translate(70.71,50)\">\n",
       "    <path d=\"M-70.71,-50 L70.71,-50 70.71,50 -70.71,50  z\" class=\"primitive\"/>\n",
       "  </g>\n",
       "</g>\n",
       "<g class=\"plotroot xscalable yscalable\" id=\"img-14c87751-2\">\n",
       "  <g font-size=\"3.53\" font-family=\"'PT Sans','Helvetica Neue','Helvetica',sans-serif\" fill=\"#564A55\" stroke=\"#000000\" stroke-opacity=\"0.000\" id=\"img-14c87751-3\">\n",
       "    <g transform=\"translate(69.9,93.72)\">\n",
       "      <g class=\"primitive\">\n",
       "        <text text-anchor=\"middle\" dy=\"0.6em\">t</text>\n",
       "      </g>\n",
       "    </g>\n",
       "  </g>\n",
       "  <g class=\"guide xlabels\" font-size=\"2.82\" font-family=\"'PT Sans Caption','Helvetica Neue','Helvetica',sans-serif\" fill=\"#6C606B\" id=\"img-14c87751-4\">\n",
       "    <g transform=\"translate(12.35,87.04)\">\n",
       "      <g class=\"primitive\">\n",
       "        <text text-anchor=\"middle\" dy=\"0.6em\">0</text>\n",
       "      </g>\n",
       "    </g>\n",
       "    <g transform=\"translate(69.9,87.04)\">\n",
       "      <g class=\"primitive\">\n",
       "        <text text-anchor=\"middle\" dy=\"0.6em\">50</text>\n",
       "      </g>\n",
       "    </g>\n",
       "    <g transform=\"translate(127.46,87.04)\">\n",
       "      <g class=\"primitive\">\n",
       "        <text text-anchor=\"middle\" dy=\"0.6em\">100</text>\n",
       "      </g>\n",
       "    </g>\n",
       "  </g>\n",
       "  <g class=\"guide colorkey\" id=\"img-14c87751-5\">\n",
       "    <g fill=\"#4C404B\" font-size=\"2.82\" font-family=\"'PT Sans','Helvetica Neue','Helvetica',sans-serif\" id=\"img-14c87751-6\">\n",
       "      <g transform=\"translate(134.09,47.75)\" id=\"img-14c87751-7\">\n",
       "        <g class=\"primitive\">\n",
       "          <text dy=\"0.35em\">W</text>\n",
       "        </g>\n",
       "      </g>\n",
       "    </g>\n",
       "    <g stroke-width=\"0.3\" id=\"img-14c87751-8\">\n",
       "      <g stroke=\"#FFFFFF\" stroke-opacity=\"0.000\" fill-opacity=\"1\" fill=\"#00BFFF\" id=\"img-14c87751-9\">\n",
       "        <g transform=\"translate(131.27,47.75)\" id=\"img-14c87751-10\">\n",
       "          <circle cx=\"0\" cy=\"0\" r=\"0.7\" class=\"primitive\"/>\n",
       "        </g>\n",
       "      </g>\n",
       "    </g>\n",
       "    <g fill=\"#362A35\" font-size=\"3.18\" font-family=\"'PT Sans','Helvetica Neue','Helvetica',sans-serif\" stroke=\"#000000\" stroke-opacity=\"0.000\" id=\"img-14c87751-11\">\n",
       "      <g transform=\"translate(130.46,44.44)\" id=\"img-14c87751-12\">\n",
       "        <g class=\"primitive\">\n",
       "          <text dy=\"-0em\"></text>\n",
       "        </g>\n",
       "      </g>\n",
       "    </g>\n",
       "  </g>\n",
       "  <g clip-path=\"url(#img-14c87751-13)\">\n",
       "    <g id=\"img-14c87751-14\">\n",
       "      <g pointer-events=\"visible\" stroke-width=\"0.3\" fill=\"#000000\" fill-opacity=\"0.000\" stroke=\"#000000\" stroke-opacity=\"0.000\" class=\"guide background\" id=\"img-14c87751-15\">\n",
       "        <g transform=\"translate(69.9,45.52)\" id=\"img-14c87751-16\">\n",
       "          <path d=\"M-59.56,-40.52 L59.56,-40.52 59.56,40.52 -59.56,40.52  z\" class=\"primitive\"/>\n",
       "        </g>\n",
       "      </g>\n",
       "      <g class=\"guide ygridlines xfixed\" stroke-dasharray=\"0.5,0.5\" stroke-width=\"0.2\" stroke=\"#D0D0E0\" id=\"img-14c87751-17\">\n",
       "        <g transform=\"translate(69.9,69.29)\" id=\"img-14c87751-18\">\n",
       "          <path fill=\"none\" d=\"M-59.56,0 L59.56,0 \" class=\"primitive\"/>\n",
       "        </g>\n",
       "        <g transform=\"translate(69.9,52.9)\" id=\"img-14c87751-19\">\n",
       "          <path fill=\"none\" d=\"M-59.56,0 L59.56,0 \" class=\"primitive\"/>\n",
       "        </g>\n",
       "        <g transform=\"translate(69.9,36.51)\" id=\"img-14c87751-20\">\n",
       "          <path fill=\"none\" d=\"M-59.56,0 L59.56,0 \" class=\"primitive\"/>\n",
       "        </g>\n",
       "        <g transform=\"translate(69.9,20.11)\" id=\"img-14c87751-21\">\n",
       "          <path fill=\"none\" d=\"M-59.56,0 L59.56,0 \" class=\"primitive\"/>\n",
       "        </g>\n",
       "      </g>\n",
       "      <g class=\"guide xgridlines yfixed\" stroke-dasharray=\"0.5,0.5\" stroke-width=\"0.2\" stroke=\"#D0D0E0\" id=\"img-14c87751-22\">\n",
       "        <g transform=\"translate(12.35,45.52)\" id=\"img-14c87751-23\">\n",
       "          <path fill=\"none\" d=\"M0,-40.52 L0,40.52 \" class=\"primitive\"/>\n",
       "        </g>\n",
       "        <g transform=\"translate(69.9,45.52)\" id=\"img-14c87751-24\">\n",
       "          <path fill=\"none\" d=\"M0,-40.52 L0,40.52 \" class=\"primitive\"/>\n",
       "        </g>\n",
       "        <g transform=\"translate(127.46,45.52)\" id=\"img-14c87751-25\">\n",
       "          <path fill=\"none\" d=\"M0,-40.52 L0,40.52 \" class=\"primitive\"/>\n",
       "        </g>\n",
       "      </g>\n",
       "      <g class=\"plotpanel\" id=\"img-14c87751-26\">\n",
       "        <metadata>\n",
       "          <boundingbox value=\"10.346666666666664mm 5.0mm 119.11468957064284mm 81.04333333333332mm\"/>\n",
       "          <unitbox value=\"-1.7373977269622507 49.22009258858651 103.4747954539245 -49.44018517717302\"/>\n",
       "        </metadata>\n",
       "        <g stroke-width=\"0.3\" fill=\"#000000\" fill-opacity=\"0.000\" class=\"geometry\" id=\"img-14c87751-27\">\n",
       "          <g class=\"color_LCHab{Float32}(70.0f0,60.0f0,240.0f0)\" stroke-dasharray=\"none\" stroke-opacity=\"1\" stroke=\"#00BFFF\" id=\"img-14c87751-28\">\n",
       "            <g transform=\"translate(69.9,28.84)\" id=\"img-14c87751-29\">\n",
       "              <path fill=\"none\" d=\"M-57.56,55.2 L-56.41,54.71 -55.26,54.12 -54.1,53.42 -52.95,52.59 -51.8,51.64 -50.65,50.54 -49.5,49.31 -48.35,47.95 -47.2,46.45 -46.05,44.82 -44.89,43.08 -43.74,41.23 -42.59,39.28 -41.44,37.26 -40.29,35.18 -39.14,33.06 -37.99,30.9 -36.84,28.73 -35.69,26.56 -34.53,24.41 -33.38,22.28 -32.23,20.19 -31.08,18.15 -29.93,16.16 -28.78,14.23 -27.63,12.37 -26.48,10.58 -25.33,8.86 -24.17,7.21 -23.02,5.63 -21.87,4.13 -20.72,2.7 -19.57,1.34 -18.42,0.05 -17.27,-1.17 -16.12,-2.33 -14.96,-3.42 -13.81,-4.45 -12.66,-5.43 -11.51,-6.35 -10.36,-7.21 -9.21,-8.03 -8.06,-8.79 -6.91,-9.51 -5.76,-10.19 -4.6,-10.83 -3.45,-11.43 -2.3,-11.99 -1.15,-12.52 0,-13.02 1.15,-13.48 2.3,-13.92 3.45,-14.33 4.6,-14.72 5.76,-15.08 6.91,-15.42 8.06,-15.74 9.21,-16.04 10.36,-16.32 11.51,-16.58 12.66,-16.83 13.81,-17.06 14.96,-17.27 16.12,-17.48 17.27,-17.67 18.42,-17.84 19.57,-18.01 20.72,-18.17 21.87,-18.31 23.02,-18.45 24.17,-18.58 25.33,-18.7 26.48,-18.82 27.63,-18.92 28.78,-19.02 29.93,-19.11 31.08,-19.2 32.23,-19.28 33.38,-19.36 34.53,-19.43 35.69,-19.5 36.84,-19.56 37.99,-19.62 39.14,-19.68 40.29,-19.73 41.44,-19.78 42.59,-19.83 43.74,-19.87 44.89,-19.91 46.05,-19.95 47.2,-19.98 48.35,-20.01 49.5,-20.05 50.65,-20.07 51.8,-20.1 52.95,-20.13 54.1,-20.15 55.26,-20.17 56.41,-20.19 57.56,-20.21 \" class=\"primitive\"/>\n",
       "            </g>\n",
       "          </g>\n",
       "        </g>\n",
       "      </g>\n",
       "    </g>\n",
       "  </g>\n",
       "  <g class=\"guide ylabels\" font-size=\"2.82\" font-family=\"'PT Sans Caption','Helvetica Neue','Helvetica',sans-serif\" fill=\"#6C606B\" id=\"img-14c87751-30\">\n",
       "    <g transform=\"translate(9.35,69.29)\" id=\"img-14c87751-31\">\n",
       "      <g class=\"primitive\">\n",
       "        <text text-anchor=\"end\" dy=\"0.35em\">10</text>\n",
       "      </g>\n",
       "    </g>\n",
       "    <g transform=\"translate(9.35,52.9)\" id=\"img-14c87751-32\">\n",
       "      <g class=\"primitive\">\n",
       "        <text text-anchor=\"end\" dy=\"0.35em\">20</text>\n",
       "      </g>\n",
       "    </g>\n",
       "    <g transform=\"translate(9.35,36.51)\" id=\"img-14c87751-33\">\n",
       "      <g class=\"primitive\">\n",
       "        <text text-anchor=\"end\" dy=\"0.35em\">30</text>\n",
       "      </g>\n",
       "    </g>\n",
       "    <g transform=\"translate(9.35,20.11)\" id=\"img-14c87751-34\">\n",
       "      <g class=\"primitive\">\n",
       "        <text text-anchor=\"end\" dy=\"0.35em\">40</text>\n",
       "      </g>\n",
       "    </g>\n",
       "  </g>\n",
       "</g>\n",
       "<defs>\n",
       "  <clipPath id=\"img-14c87751-13\">\n",
       "    <path d=\"M10.35,5 L129.46,5 129.46,86.04 10.35,86.04 \" />\n",
       "  </clipPath>\n",
       "</defs>\n",
       "</svg>\n"
      ],
      "text/plain": [
       "\"<Cropbox.Plot{Gadfly.Plot}>\""
      ]
     },
     "execution_count": 23,
     "metadata": {},
     "output_type": "execute_result"
    }
   ],
   "source": [
    "visualize(r15, :t, :W, kind = :line)"
   ]
  },
  {
   "cell_type": "code",
   "execution_count": 24,
   "metadata": {
    "tags": []
   },
   "outputs": [
    {
     "data": {
      "text/html": [
       "<p style=\"font-family: monospace\">Config for 1 system:</p>\n",
       "<table style=\"font-family: monospace\">\n",
       "<tr style=\"background-color: transparent\">\n",
       "<td colspan=\"3\" style=\"text-align: left; padding: 2px; padding-left: 20px; color: rebeccapurple\">Chan</th>\n",
       "</tr>\n",
       "<tr style=\"background-color: transparent\"><td style=\"text-align: left; padding: 2px; padding-left: 40px; color: royalblue\">D</td><td style=\"text-align: center; padding: 2px 10px 2px 10px; color: gray\">=</td><td style=\"text-align: left; padding: 2px;\">0</td></tr>\n",
       "<tr style=\"background-color: transparent\"><td style=\"text-align: left; padding: 2px; padding-left: 40px; color: royalblue\">B</td><td style=\"text-align: center; padding: 2px 10px 2px 10px; color: gray\">=</td><td style=\"text-align: left; padding: 2px;\">100</td></tr>\n",
       "</table>\n"
      ],
      "text/plain": [
       "Config for 1 system:\n",
       "  \u001b[95mChan\u001b[39m\n",
       "    \u001b[94mD\u001b[39m\u001b[90m = \u001b[39m0\n",
       "    \u001b[94mB\u001b[39m\u001b[90m = \u001b[39m100"
      ]
     },
     "execution_count": 24,
     "metadata": {},
     "output_type": "execute_result"
    }
   ],
   "source": [
    "c15L = @config Chan => (; D = 0, B = 100)"
   ]
  },
  {
   "cell_type": "code",
   "execution_count": 25,
   "metadata": {
    "tags": []
   },
   "outputs": [
    {
     "data": {
      "text/html": [
       "<p style=\"font-family: monospace\">Config for 1 system:</p>\n",
       "<table style=\"font-family: monospace\">\n",
       "<tr style=\"background-color: transparent\">\n",
       "<td colspan=\"3\" style=\"text-align: left; padding: 2px; padding-left: 20px; color: rebeccapurple\">Chan</th>\n",
       "</tr>\n",
       "<tr style=\"background-color: transparent\"><td style=\"text-align: left; padding: 2px; padding-left: 40px; color: royalblue\">D</td><td style=\"text-align: center; padding: 2px 10px 2px 10px; color: gray\">=</td><td style=\"text-align: left; padding: 2px;\">0.065</td></tr>\n",
       "<tr style=\"background-color: transparent\"><td style=\"text-align: left; padding: 2px; padding-left: 40px; color: royalblue\">B</td><td style=\"text-align: center; padding: 2px 10px 2px 10px; color: gray\">=</td><td style=\"text-align: left; padding: 2px;\">Inf</td></tr>\n",
       "</table>\n"
      ],
      "text/plain": [
       "Config for 1 system:\n",
       "  \u001b[95mChan\u001b[39m\n",
       "    \u001b[94mD\u001b[39m\u001b[90m = \u001b[39m0.065\n",
       "    \u001b[94mB\u001b[39m\u001b[90m = \u001b[39mInf"
      ]
     },
     "execution_count": 25,
     "metadata": {},
     "output_type": "execute_result"
    }
   ],
   "source": [
    "c15G = @config Chan => (; D = 0.065, B = Inf)"
   ]
  },
  {
   "cell_type": "code",
   "execution_count": 26,
   "metadata": {
    "tags": []
   },
   "outputs": [
    {
     "data": {
      "text/html": [
       "<p style=\"font-family: monospace\">Config for 1 system:</p>\n",
       "<table style=\"font-family: monospace\">\n",
       "<tr style=\"background-color: transparent\">\n",
       "<td colspan=\"3\" style=\"text-align: left; padding: 2px; padding-left: 20px; color: rebeccapurple\">Chan</th>\n",
       "</tr>\n",
       "<tr style=\"background-color: transparent\"><td style=\"text-align: left; padding: 2px; padding-left: 40px; color: royalblue\">D</td><td style=\"text-align: center; padding: 2px 10px 2px 10px; color: gray\">=</td><td style=\"text-align: left; padding: 2px;\">0.03</td></tr>\n",
       "<tr style=\"background-color: transparent\"><td style=\"text-align: left; padding: 2px; padding-left: 40px; color: royalblue\">B</td><td style=\"text-align: center; padding: 2px 10px 2px 10px; color: gray\">=</td><td style=\"text-align: left; padding: 2px;\">100</td></tr>\n",
       "</table>\n"
      ],
      "text/plain": [
       "Config for 1 system:\n",
       "  \u001b[95mChan\u001b[39m\n",
       "    \u001b[94mD\u001b[39m\u001b[90m = \u001b[39m0.03\n",
       "    \u001b[94mB\u001b[39m\u001b[90m = \u001b[39m100"
      ]
     },
     "execution_count": 26,
     "metadata": {},
     "output_type": "execute_result"
    }
   ],
   "source": [
    "c15I = @config Chan => (; D = 0.03, B = 100)"
   ]
  },
  {
   "cell_type": "code",
   "execution_count": 27,
   "metadata": {
    "tags": []
   },
   "outputs": [
    {
     "data": {
      "image/svg+xml": [
       "<?xml version=\"1.0\" encoding=\"UTF-8\"?>\n",
       "<svg xmlns=\"http://www.w3.org/2000/svg\"\n",
       "     xmlns:xlink=\"http://www.w3.org/1999/xlink\"\n",
       "     xmlns:gadfly=\"http://www.gadflyjl.org/ns\"\n",
       "     version=\"1.2\"\n",
       "     width=\"141.42mm\" height=\"100mm\" viewBox=\"0 0 141.42 100\"\n",
       "     stroke=\"none\"\n",
       "     fill=\"#000000\"\n",
       "     stroke-width=\"0.3\"\n",
       "     font-size=\"3.88\"\n",
       ">\n",
       "<defs>\n",
       "  <marker id=\"arrow\" markerWidth=\"15\" markerHeight=\"7\" refX=\"5\" refY=\"3.5\" orient=\"auto\" markerUnits=\"strokeWidth\">\n",
       "    <path d=\"M0,0 L15,3.5 L0,7 z\" stroke=\"context-stroke\" fill=\"context-stroke\"/>\n",
       "  </marker>\n",
       "</defs>\n",
       "<g stroke=\"#000000\" stroke-opacity=\"0.000\" fill=\"#FFFFFF\" id=\"img-81cbb617-1\">\n",
       "  <g transform=\"translate(70.71,50)\">\n",
       "    <path d=\"M-70.71,-50 L70.71,-50 70.71,50 -70.71,50  z\" class=\"primitive\"/>\n",
       "  </g>\n",
       "</g>\n",
       "<g class=\"plotroot xscalable yscalable\" id=\"img-81cbb617-2\">\n",
       "  <g font-size=\"3.53\" font-family=\"'PT Sans','Helvetica Neue','Helvetica',sans-serif\" fill=\"#564A55\" stroke=\"#000000\" stroke-opacity=\"0.000\" id=\"img-81cbb617-3\">\n",
       "    <g transform=\"translate(74.64,93.72)\">\n",
       "      <g class=\"primitive\">\n",
       "        <text text-anchor=\"middle\" dy=\"0.6em\">t</text>\n",
       "      </g>\n",
       "    </g>\n",
       "  </g>\n",
       "  <g class=\"guide xlabels\" font-size=\"2.82\" font-family=\"'PT Sans Caption','Helvetica Neue','Helvetica',sans-serif\" fill=\"#6C606B\" id=\"img-81cbb617-4\">\n",
       "    <g transform=\"translate(20.94,87.04)\">\n",
       "      <g class=\"primitive\">\n",
       "        <text text-anchor=\"middle\" dy=\"0.6em\">0</text>\n",
       "      </g>\n",
       "    </g>\n",
       "    <g transform=\"translate(42.42,87.04)\">\n",
       "      <g class=\"primitive\">\n",
       "        <text text-anchor=\"middle\" dy=\"0.6em\">10</text>\n",
       "      </g>\n",
       "    </g>\n",
       "    <g transform=\"translate(63.9,87.04)\">\n",
       "      <g class=\"primitive\">\n",
       "        <text text-anchor=\"middle\" dy=\"0.6em\">20</text>\n",
       "      </g>\n",
       "    </g>\n",
       "    <g transform=\"translate(85.38,87.04)\">\n",
       "      <g class=\"primitive\">\n",
       "        <text text-anchor=\"middle\" dy=\"0.6em\">30</text>\n",
       "      </g>\n",
       "    </g>\n",
       "    <g transform=\"translate(106.86,87.04)\">\n",
       "      <g class=\"primitive\">\n",
       "        <text text-anchor=\"middle\" dy=\"0.6em\">40</text>\n",
       "      </g>\n",
       "    </g>\n",
       "    <g transform=\"translate(128.33,87.04)\">\n",
       "      <g class=\"primitive\">\n",
       "        <text text-anchor=\"middle\" dy=\"0.6em\">50</text>\n",
       "      </g>\n",
       "    </g>\n",
       "  </g>\n",
       "  <g class=\"guide colorkey\" id=\"img-81cbb617-5\">\n",
       "    <g fill=\"#4C404B\" font-size=\"2.82\" font-family=\"'PT Sans','Helvetica Neue','Helvetica',sans-serif\" id=\"img-81cbb617-6\">\n",
       "      <g transform=\"translate(134.96,47.75)\" id=\"img-81cbb617-7\">\n",
       "        <g class=\"primitive\">\n",
       "          <text dy=\"0.35em\">L</text>\n",
       "        </g>\n",
       "      </g>\n",
       "    </g>\n",
       "    <g stroke-width=\"0.3\" id=\"img-81cbb617-8\">\n",
       "      <g stroke=\"#FFFFFF\" stroke-opacity=\"0.000\" fill-opacity=\"1\" fill=\"#00BFFF\" id=\"img-81cbb617-9\">\n",
       "        <g transform=\"translate(132.15,47.75)\" id=\"img-81cbb617-10\">\n",
       "          <circle cx=\"0\" cy=\"0\" r=\"0.7\" class=\"primitive\"/>\n",
       "        </g>\n",
       "      </g>\n",
       "    </g>\n",
       "    <g fill=\"#362A35\" font-size=\"3.18\" font-family=\"'PT Sans','Helvetica Neue','Helvetica',sans-serif\" stroke=\"#000000\" stroke-opacity=\"0.000\" id=\"img-81cbb617-11\">\n",
       "      <g transform=\"translate(131.33,44.44)\" id=\"img-81cbb617-12\">\n",
       "        <g class=\"primitive\">\n",
       "          <text dy=\"-0em\"></text>\n",
       "        </g>\n",
       "      </g>\n",
       "    </g>\n",
       "  </g>\n",
       "  <g clip-path=\"url(#img-81cbb617-13)\">\n",
       "    <g id=\"img-81cbb617-14\">\n",
       "      <g pointer-events=\"visible\" stroke-width=\"0.3\" fill=\"#000000\" fill-opacity=\"0.000\" stroke=\"#000000\" stroke-opacity=\"0.000\" class=\"guide background\" id=\"img-81cbb617-15\">\n",
       "        <g transform=\"translate(74.64,45.52)\" id=\"img-81cbb617-16\">\n",
       "          <path d=\"M-55.7,-40.52 L55.7,-40.52 55.7,40.52 -55.7,40.52  z\" class=\"primitive\"/>\n",
       "        </g>\n",
       "      </g>\n",
       "      <g class=\"guide ygridlines xfixed\" stroke-dasharray=\"0.5,0.5\" stroke-width=\"0.2\" stroke=\"#D0D0E0\" id=\"img-81cbb617-17\">\n",
       "        <g transform=\"translate(74.64,45.91)\" id=\"img-81cbb617-18\">\n",
       "          <path fill=\"none\" d=\"M-55.7,0 L55.7,0 \" class=\"primitive\"/>\n",
       "        </g>\n",
       "        <g transform=\"translate(74.64,7)\" id=\"img-81cbb617-19\">\n",
       "          <path fill=\"none\" d=\"M-55.7,0 L55.7,0 \" class=\"primitive\"/>\n",
       "        </g>\n",
       "      </g>\n",
       "      <g class=\"guide xgridlines yfixed\" stroke-dasharray=\"0.5,0.5\" stroke-width=\"0.2\" stroke=\"#D0D0E0\" id=\"img-81cbb617-20\">\n",
       "        <g transform=\"translate(20.94,45.52)\" id=\"img-81cbb617-21\">\n",
       "          <path fill=\"none\" d=\"M0,-40.52 L0,40.52 \" class=\"primitive\"/>\n",
       "        </g>\n",
       "        <g transform=\"translate(42.42,45.52)\" id=\"img-81cbb617-22\">\n",
       "          <path fill=\"none\" d=\"M0,-40.52 L0,40.52 \" class=\"primitive\"/>\n",
       "        </g>\n",
       "        <g transform=\"translate(63.9,45.52)\" id=\"img-81cbb617-23\">\n",
       "          <path fill=\"none\" d=\"M0,-40.52 L0,40.52 \" class=\"primitive\"/>\n",
       "        </g>\n",
       "        <g transform=\"translate(85.38,45.52)\" id=\"img-81cbb617-24\">\n",
       "          <path fill=\"none\" d=\"M0,-40.52 L0,40.52 \" class=\"primitive\"/>\n",
       "        </g>\n",
       "        <g transform=\"translate(106.86,45.52)\" id=\"img-81cbb617-25\">\n",
       "          <path fill=\"none\" d=\"M0,-40.52 L0,40.52 \" class=\"primitive\"/>\n",
       "        </g>\n",
       "        <g transform=\"translate(128.33,45.52)\" id=\"img-81cbb617-26\">\n",
       "          <path fill=\"none\" d=\"M0,-40.52 L0,40.52 \" class=\"primitive\"/>\n",
       "        </g>\n",
       "      </g>\n",
       "      <g class=\"plotpanel\" id=\"img-81cbb617-27\">\n",
       "        <metadata>\n",
       "          <boundingbox value=\"18.936666666666667mm 5.0mm 111.39802290397617mm 81.04333333333334mm\"/>\n",
       "          <unitbox value=\"-0.9311158371081869 102.5699822610652 51.862231674216375 -104.1399645221304\"/>\n",
       "        </metadata>\n",
       "        <g stroke-width=\"0.3\" fill=\"#000000\" fill-opacity=\"0.000\" class=\"geometry\" id=\"img-81cbb617-28\">\n",
       "          <g class=\"color_LCHab{Float32}(70.0f0,60.0f0,240.0f0)\" stroke-dasharray=\"none\" stroke-opacity=\"1\" stroke=\"#00BFFF\" id=\"img-81cbb617-29\">\n",
       "            <g transform=\"translate(74.64,33.13)\" id=\"img-81cbb617-30\">\n",
       "              <path fill=\"none\" d=\"M-53.7,50.92 L-51.55,50.69 -49.4,50.39 -47.26,50 -45.11,49.5 -42.96,48.87 -40.81,48.05 -38.66,47 -36.52,45.68 -34.37,44.02 -32.22,41.94 -30.07,39.38 -27.92,36.27 -25.78,32.56 -23.63,28.23 -21.48,23.32 -19.33,17.91 -17.18,12.17 -15.04,6.34 -12.89,0.66 -10.74,-4.61 -8.59,-9.28 -6.44,-13.24 -4.3,-16.47 -2.15,-19 0,-20.94 2.15,-22.4 4.3,-23.46 6.44,-24.23 8.59,-24.79 10.74,-25.18 12.89,-25.46 15.04,-25.66 17.18,-25.8 19.33,-25.9 21.48,-25.96 23.63,-26.01 25.78,-26.05 27.92,-26.07 30.07,-26.09 32.22,-26.1 34.37,-26.11 36.52,-26.11 38.66,-26.12 40.81,-26.12 42.96,-26.12 45.11,-26.12 47.26,-26.12 49.4,-26.12 51.55,-26.12 53.7,-26.12 \" class=\"primitive\"/>\n",
       "            </g>\n",
       "          </g>\n",
       "        </g>\n",
       "      </g>\n",
       "    </g>\n",
       "  </g>\n",
       "  <g class=\"guide ylabels\" font-size=\"2.82\" font-family=\"'PT Sans Caption','Helvetica Neue','Helvetica',sans-serif\" fill=\"#6C606B\" id=\"img-81cbb617-31\">\n",
       "    <g transform=\"translate(17.94,45.91)\" id=\"img-81cbb617-32\">\n",
       "      <g class=\"primitive\">\n",
       "        <text text-anchor=\"end\" dy=\"0.35em\">50</text>\n",
       "      </g>\n",
       "    </g>\n",
       "    <g transform=\"translate(17.94,7)\" id=\"img-81cbb617-33\">\n",
       "      <g class=\"primitive\">\n",
       "        <text text-anchor=\"end\" dy=\"0.35em\">100</text>\n",
       "      </g>\n",
       "    </g>\n",
       "  </g>\n",
       "  <g font-size=\"3.53\" font-family=\"'PT Sans','Helvetica Neue','Helvetica',sans-serif\" fill=\"#564A55\" stroke=\"#000000\" stroke-opacity=\"0.000\" id=\"img-81cbb617-34\">\n",
       "    <g transform=\"translate(9.92,45.52)\" id=\"img-81cbb617-35\">\n",
       "      <g class=\"primitive\">\n",
       "        <text text-anchor=\"end\" dy=\"0.35em\">W</text>\n",
       "      </g>\n",
       "    </g>\n",
       "  </g>\n",
       "</g>\n",
       "<defs>\n",
       "  <clipPath id=\"img-81cbb617-13\">\n",
       "    <path d=\"M18.94,5 L130.33,5 130.33,86.04 18.94,86.04 \" />\n",
       "  </clipPath>\n",
       "</defs>\n",
       "</svg>\n"
      ],
      "text/html": [
       "<?xml version=\"1.0\" encoding=\"UTF-8\"?>\n",
       "<svg xmlns=\"http://www.w3.org/2000/svg\"\n",
       "     xmlns:xlink=\"http://www.w3.org/1999/xlink\"\n",
       "     xmlns:gadfly=\"http://www.gadflyjl.org/ns\"\n",
       "     version=\"1.2\"\n",
       "     width=\"141.42mm\" height=\"100mm\" viewBox=\"0 0 141.42 100\"\n",
       "     stroke=\"none\"\n",
       "     fill=\"#000000\"\n",
       "     stroke-width=\"0.3\"\n",
       "     font-size=\"3.88\"\n",
       ">\n",
       "<defs>\n",
       "  <marker id=\"arrow\" markerWidth=\"15\" markerHeight=\"7\" refX=\"5\" refY=\"3.5\" orient=\"auto\" markerUnits=\"strokeWidth\">\n",
       "    <path d=\"M0,0 L15,3.5 L0,7 z\" stroke=\"context-stroke\" fill=\"context-stroke\"/>\n",
       "  </marker>\n",
       "</defs>\n",
       "<g stroke=\"#000000\" stroke-opacity=\"0.000\" fill=\"#FFFFFF\" id=\"img-ebc39524-1\">\n",
       "  <g transform=\"translate(70.71,50)\">\n",
       "    <path d=\"M-70.71,-50 L70.71,-50 70.71,50 -70.71,50  z\" class=\"primitive\"/>\n",
       "  </g>\n",
       "</g>\n",
       "<g class=\"plotroot xscalable yscalable\" id=\"img-ebc39524-2\">\n",
       "  <g font-size=\"3.53\" font-family=\"'PT Sans','Helvetica Neue','Helvetica',sans-serif\" fill=\"#564A55\" stroke=\"#000000\" stroke-opacity=\"0.000\" id=\"img-ebc39524-3\">\n",
       "    <g transform=\"translate(74.64,93.72)\">\n",
       "      <g class=\"primitive\">\n",
       "        <text text-anchor=\"middle\" dy=\"0.6em\">t</text>\n",
       "      </g>\n",
       "    </g>\n",
       "  </g>\n",
       "  <g class=\"guide xlabels\" font-size=\"2.82\" font-family=\"'PT Sans Caption','Helvetica Neue','Helvetica',sans-serif\" fill=\"#6C606B\" id=\"img-ebc39524-4\">\n",
       "    <g transform=\"translate(20.94,87.04)\">\n",
       "      <g class=\"primitive\">\n",
       "        <text text-anchor=\"middle\" dy=\"0.6em\">0</text>\n",
       "      </g>\n",
       "    </g>\n",
       "    <g transform=\"translate(42.42,87.04)\">\n",
       "      <g class=\"primitive\">\n",
       "        <text text-anchor=\"middle\" dy=\"0.6em\">10</text>\n",
       "      </g>\n",
       "    </g>\n",
       "    <g transform=\"translate(63.9,87.04)\">\n",
       "      <g class=\"primitive\">\n",
       "        <text text-anchor=\"middle\" dy=\"0.6em\">20</text>\n",
       "      </g>\n",
       "    </g>\n",
       "    <g transform=\"translate(85.38,87.04)\">\n",
       "      <g class=\"primitive\">\n",
       "        <text text-anchor=\"middle\" dy=\"0.6em\">30</text>\n",
       "      </g>\n",
       "    </g>\n",
       "    <g transform=\"translate(106.86,87.04)\">\n",
       "      <g class=\"primitive\">\n",
       "        <text text-anchor=\"middle\" dy=\"0.6em\">40</text>\n",
       "      </g>\n",
       "    </g>\n",
       "    <g transform=\"translate(128.33,87.04)\">\n",
       "      <g class=\"primitive\">\n",
       "        <text text-anchor=\"middle\" dy=\"0.6em\">50</text>\n",
       "      </g>\n",
       "    </g>\n",
       "  </g>\n",
       "  <g class=\"guide colorkey\" id=\"img-ebc39524-5\">\n",
       "    <g fill=\"#4C404B\" font-size=\"2.82\" font-family=\"'PT Sans','Helvetica Neue','Helvetica',sans-serif\" id=\"img-ebc39524-6\">\n",
       "      <g transform=\"translate(134.96,47.75)\" id=\"img-ebc39524-7\">\n",
       "        <g class=\"primitive\">\n",
       "          <text dy=\"0.35em\">L</text>\n",
       "        </g>\n",
       "      </g>\n",
       "    </g>\n",
       "    <g stroke-width=\"0.3\" id=\"img-ebc39524-8\">\n",
       "      <g stroke=\"#FFFFFF\" stroke-opacity=\"0.000\" fill-opacity=\"1\" fill=\"#00BFFF\" id=\"img-ebc39524-9\">\n",
       "        <g transform=\"translate(132.15,47.75)\" id=\"img-ebc39524-10\">\n",
       "          <circle cx=\"0\" cy=\"0\" r=\"0.7\" class=\"primitive\"/>\n",
       "        </g>\n",
       "      </g>\n",
       "    </g>\n",
       "    <g fill=\"#362A35\" font-size=\"3.18\" font-family=\"'PT Sans','Helvetica Neue','Helvetica',sans-serif\" stroke=\"#000000\" stroke-opacity=\"0.000\" id=\"img-ebc39524-11\">\n",
       "      <g transform=\"translate(131.33,44.44)\" id=\"img-ebc39524-12\">\n",
       "        <g class=\"primitive\">\n",
       "          <text dy=\"-0em\"></text>\n",
       "        </g>\n",
       "      </g>\n",
       "    </g>\n",
       "  </g>\n",
       "  <g clip-path=\"url(#img-ebc39524-13)\">\n",
       "    <g id=\"img-ebc39524-14\">\n",
       "      <g pointer-events=\"visible\" stroke-width=\"0.3\" fill=\"#000000\" fill-opacity=\"0.000\" stroke=\"#000000\" stroke-opacity=\"0.000\" class=\"guide background\" id=\"img-ebc39524-15\">\n",
       "        <g transform=\"translate(74.64,45.52)\" id=\"img-ebc39524-16\">\n",
       "          <path d=\"M-55.7,-40.52 L55.7,-40.52 55.7,40.52 -55.7,40.52  z\" class=\"primitive\"/>\n",
       "        </g>\n",
       "      </g>\n",
       "      <g class=\"guide ygridlines xfixed\" stroke-dasharray=\"0.5,0.5\" stroke-width=\"0.2\" stroke=\"#D0D0E0\" id=\"img-ebc39524-17\">\n",
       "        <g transform=\"translate(74.64,45.91)\" id=\"img-ebc39524-18\">\n",
       "          <path fill=\"none\" d=\"M-55.7,0 L55.7,0 \" class=\"primitive\"/>\n",
       "        </g>\n",
       "        <g transform=\"translate(74.64,7)\" id=\"img-ebc39524-19\">\n",
       "          <path fill=\"none\" d=\"M-55.7,0 L55.7,0 \" class=\"primitive\"/>\n",
       "        </g>\n",
       "      </g>\n",
       "      <g class=\"guide xgridlines yfixed\" stroke-dasharray=\"0.5,0.5\" stroke-width=\"0.2\" stroke=\"#D0D0E0\" id=\"img-ebc39524-20\">\n",
       "        <g transform=\"translate(20.94,45.52)\" id=\"img-ebc39524-21\">\n",
       "          <path fill=\"none\" d=\"M0,-40.52 L0,40.52 \" class=\"primitive\"/>\n",
       "        </g>\n",
       "        <g transform=\"translate(42.42,45.52)\" id=\"img-ebc39524-22\">\n",
       "          <path fill=\"none\" d=\"M0,-40.52 L0,40.52 \" class=\"primitive\"/>\n",
       "        </g>\n",
       "        <g transform=\"translate(63.9,45.52)\" id=\"img-ebc39524-23\">\n",
       "          <path fill=\"none\" d=\"M0,-40.52 L0,40.52 \" class=\"primitive\"/>\n",
       "        </g>\n",
       "        <g transform=\"translate(85.38,45.52)\" id=\"img-ebc39524-24\">\n",
       "          <path fill=\"none\" d=\"M0,-40.52 L0,40.52 \" class=\"primitive\"/>\n",
       "        </g>\n",
       "        <g transform=\"translate(106.86,45.52)\" id=\"img-ebc39524-25\">\n",
       "          <path fill=\"none\" d=\"M0,-40.52 L0,40.52 \" class=\"primitive\"/>\n",
       "        </g>\n",
       "        <g transform=\"translate(128.33,45.52)\" id=\"img-ebc39524-26\">\n",
       "          <path fill=\"none\" d=\"M0,-40.52 L0,40.52 \" class=\"primitive\"/>\n",
       "        </g>\n",
       "      </g>\n",
       "      <g class=\"plotpanel\" id=\"img-ebc39524-27\">\n",
       "        <metadata>\n",
       "          <boundingbox value=\"18.936666666666667mm 5.0mm 111.39802290397617mm 81.04333333333334mm\"/>\n",
       "          <unitbox value=\"-0.9311158371081869 102.5699822610652 51.862231674216375 -104.1399645221304\"/>\n",
       "        </metadata>\n",
       "        <g stroke-width=\"0.3\" fill=\"#000000\" fill-opacity=\"0.000\" class=\"geometry\" id=\"img-ebc39524-28\">\n",
       "          <g class=\"color_LCHab{Float32}(70.0f0,60.0f0,240.0f0)\" stroke-dasharray=\"none\" stroke-opacity=\"1\" stroke=\"#00BFFF\" id=\"img-ebc39524-29\">\n",
       "            <g transform=\"translate(74.64,33.13)\" id=\"img-ebc39524-30\">\n",
       "              <path fill=\"none\" d=\"M-53.7,50.92 L-51.55,50.69 -49.4,50.39 -47.26,50 -45.11,49.5 -42.96,48.87 -40.81,48.05 -38.66,47 -36.52,45.68 -34.37,44.02 -32.22,41.94 -30.07,39.38 -27.92,36.27 -25.78,32.56 -23.63,28.23 -21.48,23.32 -19.33,17.91 -17.18,12.17 -15.04,6.34 -12.89,0.66 -10.74,-4.61 -8.59,-9.28 -6.44,-13.24 -4.3,-16.47 -2.15,-19 0,-20.94 2.15,-22.4 4.3,-23.46 6.44,-24.23 8.59,-24.79 10.74,-25.18 12.89,-25.46 15.04,-25.66 17.18,-25.8 19.33,-25.9 21.48,-25.96 23.63,-26.01 25.78,-26.05 27.92,-26.07 30.07,-26.09 32.22,-26.1 34.37,-26.11 36.52,-26.11 38.66,-26.12 40.81,-26.12 42.96,-26.12 45.11,-26.12 47.26,-26.12 49.4,-26.12 51.55,-26.12 53.7,-26.12 \" class=\"primitive\"/>\n",
       "            </g>\n",
       "          </g>\n",
       "        </g>\n",
       "      </g>\n",
       "    </g>\n",
       "  </g>\n",
       "  <g class=\"guide ylabels\" font-size=\"2.82\" font-family=\"'PT Sans Caption','Helvetica Neue','Helvetica',sans-serif\" fill=\"#6C606B\" id=\"img-ebc39524-31\">\n",
       "    <g transform=\"translate(17.94,45.91)\" id=\"img-ebc39524-32\">\n",
       "      <g class=\"primitive\">\n",
       "        <text text-anchor=\"end\" dy=\"0.35em\">50</text>\n",
       "      </g>\n",
       "    </g>\n",
       "    <g transform=\"translate(17.94,7)\" id=\"img-ebc39524-33\">\n",
       "      <g class=\"primitive\">\n",
       "        <text text-anchor=\"end\" dy=\"0.35em\">100</text>\n",
       "      </g>\n",
       "    </g>\n",
       "  </g>\n",
       "  <g font-size=\"3.53\" font-family=\"'PT Sans','Helvetica Neue','Helvetica',sans-serif\" fill=\"#564A55\" stroke=\"#000000\" stroke-opacity=\"0.000\" id=\"img-ebc39524-34\">\n",
       "    <g transform=\"translate(9.92,45.52)\" id=\"img-ebc39524-35\">\n",
       "      <g class=\"primitive\">\n",
       "        <text text-anchor=\"end\" dy=\"0.35em\">W</text>\n",
       "      </g>\n",
       "    </g>\n",
       "  </g>\n",
       "</g>\n",
       "<defs>\n",
       "  <clipPath id=\"img-ebc39524-13\">\n",
       "    <path d=\"M18.94,5 L130.33,5 130.33,86.04 18.94,86.04 \" />\n",
       "  </clipPath>\n",
       "</defs>\n",
       "</svg>\n"
      ],
      "text/plain": [
       "\"<Cropbox.Plot{Gadfly.Plot}>\""
      ]
     },
     "execution_count": 27,
     "metadata": {},
     "output_type": "execute_result"
    }
   ],
   "source": [
    "p15 = visualize(Chan, :t, :W, config = c15L, stop = 50, kind = :line, name = \"L\")"
   ]
  },
  {
   "cell_type": "code",
   "execution_count": 28,
   "metadata": {
    "tags": []
   },
   "outputs": [
    {
     "data": {
      "image/svg+xml": [
       "<?xml version=\"1.0\" encoding=\"UTF-8\"?>\n",
       "<svg xmlns=\"http://www.w3.org/2000/svg\"\n",
       "     xmlns:xlink=\"http://www.w3.org/1999/xlink\"\n",
       "     xmlns:gadfly=\"http://www.gadflyjl.org/ns\"\n",
       "     version=\"1.2\"\n",
       "     width=\"141.42mm\" height=\"100mm\" viewBox=\"0 0 141.42 100\"\n",
       "     stroke=\"none\"\n",
       "     fill=\"#000000\"\n",
       "     stroke-width=\"0.3\"\n",
       "     font-size=\"3.88\"\n",
       ">\n",
       "<defs>\n",
       "  <marker id=\"arrow\" markerWidth=\"15\" markerHeight=\"7\" refX=\"5\" refY=\"3.5\" orient=\"auto\" markerUnits=\"strokeWidth\">\n",
       "    <path d=\"M0,0 L15,3.5 L0,7 z\" stroke=\"context-stroke\" fill=\"context-stroke\"/>\n",
       "  </marker>\n",
       "</defs>\n",
       "<g stroke=\"#000000\" stroke-opacity=\"0.000\" fill=\"#FFFFFF\" id=\"img-6ee1f7db-1\">\n",
       "  <g transform=\"translate(70.71,50)\">\n",
       "    <path d=\"M-70.71,-50 L70.71,-50 70.71,50 -70.71,50  z\" class=\"primitive\"/>\n",
       "  </g>\n",
       "</g>\n",
       "<g class=\"plotroot xscalable yscalable\" id=\"img-6ee1f7db-2\">\n",
       "  <g font-size=\"3.53\" font-family=\"'PT Sans','Helvetica Neue','Helvetica',sans-serif\" fill=\"#564A55\" stroke=\"#000000\" stroke-opacity=\"0.000\" id=\"img-6ee1f7db-3\">\n",
       "    <g transform=\"translate(74.5,93.72)\">\n",
       "      <g class=\"primitive\">\n",
       "        <text text-anchor=\"middle\" dy=\"0.6em\">t</text>\n",
       "      </g>\n",
       "    </g>\n",
       "  </g>\n",
       "  <g class=\"guide xlabels\" font-size=\"2.82\" font-family=\"'PT Sans Caption','Helvetica Neue','Helvetica',sans-serif\" fill=\"#6C606B\" id=\"img-6ee1f7db-4\">\n",
       "    <g transform=\"translate(20.94,87.04)\">\n",
       "      <g class=\"primitive\">\n",
       "        <text text-anchor=\"middle\" dy=\"0.6em\">0</text>\n",
       "      </g>\n",
       "    </g>\n",
       "    <g transform=\"translate(42.36,87.04)\">\n",
       "      <g class=\"primitive\">\n",
       "        <text text-anchor=\"middle\" dy=\"0.6em\">10</text>\n",
       "      </g>\n",
       "    </g>\n",
       "    <g transform=\"translate(63.79,87.04)\">\n",
       "      <g class=\"primitive\">\n",
       "        <text text-anchor=\"middle\" dy=\"0.6em\">20</text>\n",
       "      </g>\n",
       "    </g>\n",
       "    <g transform=\"translate(85.22,87.04)\">\n",
       "      <g class=\"primitive\">\n",
       "        <text text-anchor=\"middle\" dy=\"0.6em\">30</text>\n",
       "      </g>\n",
       "    </g>\n",
       "    <g transform=\"translate(106.64,87.04)\">\n",
       "      <g class=\"primitive\">\n",
       "        <text text-anchor=\"middle\" dy=\"0.6em\">40</text>\n",
       "      </g>\n",
       "    </g>\n",
       "    <g transform=\"translate(128.07,87.04)\">\n",
       "      <g class=\"primitive\">\n",
       "        <text text-anchor=\"middle\" dy=\"0.6em\">50</text>\n",
       "      </g>\n",
       "    </g>\n",
       "  </g>\n",
       "  <g class=\"guide colorkey\" id=\"img-6ee1f7db-5\">\n",
       "    <g fill=\"#4C404B\" font-size=\"2.82\" font-family=\"'PT Sans','Helvetica Neue','Helvetica',sans-serif\" id=\"img-6ee1f7db-6\">\n",
       "      <g transform=\"translate(134.69,45.94)\" id=\"img-6ee1f7db-7\">\n",
       "        <g class=\"primitive\">\n",
       "          <text dy=\"0.35em\">L</text>\n",
       "        </g>\n",
       "      </g>\n",
       "      <g transform=\"translate(134.69,49.56)\" id=\"img-6ee1f7db-8\">\n",
       "        <g class=\"primitive\">\n",
       "          <text dy=\"0.35em\">G</text>\n",
       "        </g>\n",
       "      </g>\n",
       "    </g>\n",
       "    <g stroke-width=\"0.3\" id=\"img-6ee1f7db-9\">\n",
       "      <g stroke=\"#FFFFFF\" stroke-opacity=\"0.000\" fill-opacity=\"1\" fill=\"#D4CA3A\" id=\"img-6ee1f7db-10\">\n",
       "        <g transform=\"translate(131.88,49.56)\" id=\"img-6ee1f7db-11\">\n",
       "          <circle cx=\"0\" cy=\"0\" r=\"0.7\" class=\"primitive\"/>\n",
       "        </g>\n",
       "      </g>\n",
       "      <g stroke=\"#FFFFFF\" stroke-opacity=\"0.000\" fill-opacity=\"1\" fill=\"#00BFFF\" id=\"img-6ee1f7db-12\">\n",
       "        <g transform=\"translate(131.88,45.94)\" id=\"img-6ee1f7db-13\">\n",
       "          <circle cx=\"0\" cy=\"0\" r=\"0.7\" class=\"primitive\"/>\n",
       "        </g>\n",
       "      </g>\n",
       "    </g>\n",
       "    <g fill=\"#362A35\" font-size=\"3.18\" font-family=\"'PT Sans','Helvetica Neue','Helvetica',sans-serif\" stroke=\"#000000\" stroke-opacity=\"0.000\" id=\"img-6ee1f7db-14\">\n",
       "      <g transform=\"translate(131.07,42.62)\" id=\"img-6ee1f7db-15\">\n",
       "        <g class=\"primitive\">\n",
       "          <text dy=\"-0em\"></text>\n",
       "        </g>\n",
       "      </g>\n",
       "    </g>\n",
       "  </g>\n",
       "  <g clip-path=\"url(#img-6ee1f7db-16)\">\n",
       "    <g id=\"img-6ee1f7db-17\">\n",
       "      <g pointer-events=\"visible\" stroke-width=\"0.3\" fill=\"#000000\" fill-opacity=\"0.000\" stroke=\"#000000\" stroke-opacity=\"0.000\" class=\"guide background\" id=\"img-6ee1f7db-18\">\n",
       "        <g transform=\"translate(74.5,45.52)\" id=\"img-6ee1f7db-19\">\n",
       "          <path d=\"M-55.57,-40.52 L55.57,-40.52 55.57,40.52 -55.57,40.52  z\" class=\"primitive\"/>\n",
       "        </g>\n",
       "      </g>\n",
       "      <g class=\"guide ygridlines xfixed\" stroke-dasharray=\"0.5,0.5\" stroke-width=\"0.2\" stroke=\"#D0D0E0\" id=\"img-6ee1f7db-20\">\n",
       "        <g transform=\"translate(74.5,45.91)\" id=\"img-6ee1f7db-21\">\n",
       "          <path fill=\"none\" d=\"M-55.57,0 L55.57,0 \" class=\"primitive\"/>\n",
       "        </g>\n",
       "        <g transform=\"translate(74.5,7)\" id=\"img-6ee1f7db-22\">\n",
       "          <path fill=\"none\" d=\"M-55.57,0 L55.57,0 \" class=\"primitive\"/>\n",
       "        </g>\n",
       "      </g>\n",
       "      <g class=\"guide xgridlines yfixed\" stroke-dasharray=\"0.5,0.5\" stroke-width=\"0.2\" stroke=\"#D0D0E0\" id=\"img-6ee1f7db-23\">\n",
       "        <g transform=\"translate(20.94,45.52)\" id=\"img-6ee1f7db-24\">\n",
       "          <path fill=\"none\" d=\"M0,-40.52 L0,40.52 \" class=\"primitive\"/>\n",
       "        </g>\n",
       "        <g transform=\"translate(42.36,45.52)\" id=\"img-6ee1f7db-25\">\n",
       "          <path fill=\"none\" d=\"M0,-40.52 L0,40.52 \" class=\"primitive\"/>\n",
       "        </g>\n",
       "        <g transform=\"translate(63.79,45.52)\" id=\"img-6ee1f7db-26\">\n",
       "          <path fill=\"none\" d=\"M0,-40.52 L0,40.52 \" class=\"primitive\"/>\n",
       "        </g>\n",
       "        <g transform=\"translate(85.22,45.52)\" id=\"img-6ee1f7db-27\">\n",
       "          <path fill=\"none\" d=\"M0,-40.52 L0,40.52 \" class=\"primitive\"/>\n",
       "        </g>\n",
       "        <g transform=\"translate(106.64,45.52)\" id=\"img-6ee1f7db-28\">\n",
       "          <path fill=\"none\" d=\"M0,-40.52 L0,40.52 \" class=\"primitive\"/>\n",
       "        </g>\n",
       "        <g transform=\"translate(128.07,45.52)\" id=\"img-6ee1f7db-29\">\n",
       "          <path fill=\"none\" d=\"M0,-40.52 L0,40.52 \" class=\"primitive\"/>\n",
       "        </g>\n",
       "      </g>\n",
       "      <g class=\"plotpanel\" id=\"img-6ee1f7db-30\">\n",
       "        <metadata>\n",
       "          <boundingbox value=\"18.936666666666667mm 5.0mm 111.13135623730952mm 81.04333333333334mm\"/>\n",
       "          <unitbox value=\"-0.9334335297546998 102.5699822610652 51.8668670595094 -104.1399645221304\"/>\n",
       "        </metadata>\n",
       "        <g stroke-width=\"0.3\" fill=\"#000000\" fill-opacity=\"0.000\" class=\"geometry\" id=\"img-6ee1f7db-31\">\n",
       "          <g class=\"color_LCHab{Float32}(70.0f0,60.0f0,240.0f0)\" stroke-dasharray=\"none\" stroke-opacity=\"1\" stroke=\"#00BFFF\" id=\"img-6ee1f7db-32\">\n",
       "            <g transform=\"translate(74.5,33.13)\" id=\"img-6ee1f7db-33\">\n",
       "              <path fill=\"none\" d=\"M-53.57,50.92 L-51.42,50.69 -49.28,50.39 -47.14,50 -45,49.5 -42.85,48.87 -40.71,48.05 -38.57,47 -36.42,45.68 -34.28,44.02 -32.14,41.94 -30,39.38 -27.85,36.27 -25.71,32.56 -23.57,28.23 -21.43,23.32 -19.28,17.91 -17.14,12.17 -15,6.34 -12.86,0.66 -10.71,-4.61 -8.57,-9.28 -6.43,-13.24 -4.29,-16.47 -2.14,-19 0,-20.94 2.14,-22.4 4.29,-23.46 6.43,-24.23 8.57,-24.79 10.71,-25.18 12.86,-25.46 15,-25.66 17.14,-25.8 19.28,-25.9 21.43,-25.96 23.57,-26.01 25.71,-26.05 27.85,-26.07 30,-26.09 32.14,-26.1 34.28,-26.11 36.42,-26.11 38.57,-26.12 40.71,-26.12 42.85,-26.12 45,-26.12 47.14,-26.12 49.28,-26.12 51.42,-26.12 53.57,-26.12 \" class=\"primitive\"/>\n",
       "            </g>\n",
       "          </g>\n",
       "        </g>\n",
       "        <g stroke-width=\"0.3\" fill=\"#000000\" fill-opacity=\"0.000\" class=\"geometry\" id=\"img-6ee1f7db-34\">\n",
       "          <g class=\"color_LCHab{Float32}(80.0f0,70.000015f0,100.43479f0)\" stroke-dasharray=\"none\" stroke-opacity=\"1\" stroke=\"#D4CA3A\" id=\"img-6ee1f7db-35\">\n",
       "            <g transform=\"translate(74.5,58.35)\" id=\"img-6ee1f7db-36\">\n",
       "              <path fill=\"none\" d=\"M-53.57,25.7 L-51.42,25.46 -49.28,25.18 -47.14,24.84 -45,24.43 -42.85,23.96 -40.71,23.42 -38.57,22.79 -36.42,22.09 -34.28,21.31 -32.14,20.45 -30,19.51 -27.85,18.48 -25.71,17.38 -23.57,16.21 -21.43,14.97 -19.28,13.67 -17.14,12.32 -15,10.91 -12.86,9.46 -10.71,7.97 -8.57,6.46 -6.43,4.93 -4.29,3.38 -2.14,1.83 0,0.27 2.14,-1.27 4.29,-2.81 6.43,-4.33 8.57,-5.83 10.71,-7.3 12.86,-8.74 15,-10.15 17.14,-11.52 19.28,-12.85 21.43,-14.15 23.57,-15.4 25.71,-16.61 27.85,-17.78 30,-18.9 32.14,-19.98 34.28,-21.01 36.42,-22.01 38.57,-22.95 40.71,-23.86 42.85,-24.73 45,-25.55 47.14,-26.34 49.28,-27.08 51.42,-27.79 53.57,-28.46 \" class=\"primitive\"/>\n",
       "            </g>\n",
       "          </g>\n",
       "        </g>\n",
       "      </g>\n",
       "    </g>\n",
       "  </g>\n",
       "  <g class=\"guide ylabels\" font-size=\"2.82\" font-family=\"'PT Sans Caption','Helvetica Neue','Helvetica',sans-serif\" fill=\"#6C606B\" id=\"img-6ee1f7db-37\">\n",
       "    <g transform=\"translate(17.94,45.91)\" id=\"img-6ee1f7db-38\">\n",
       "      <g class=\"primitive\">\n",
       "        <text text-anchor=\"end\" dy=\"0.35em\">50</text>\n",
       "      </g>\n",
       "    </g>\n",
       "    <g transform=\"translate(17.94,7)\" id=\"img-6ee1f7db-39\">\n",
       "      <g class=\"primitive\">\n",
       "        <text text-anchor=\"end\" dy=\"0.35em\">100</text>\n",
       "      </g>\n",
       "    </g>\n",
       "  </g>\n",
       "  <g font-size=\"3.53\" font-family=\"'PT Sans','Helvetica Neue','Helvetica',sans-serif\" fill=\"#564A55\" stroke=\"#000000\" stroke-opacity=\"0.000\" id=\"img-6ee1f7db-40\">\n",
       "    <g transform=\"translate(9.92,45.52)\" id=\"img-6ee1f7db-41\">\n",
       "      <g class=\"primitive\">\n",
       "        <text text-anchor=\"end\" dy=\"0.35em\">W</text>\n",
       "      </g>\n",
       "    </g>\n",
       "  </g>\n",
       "</g>\n",
       "<defs>\n",
       "  <clipPath id=\"img-6ee1f7db-16\">\n",
       "    <path d=\"M18.94,5 L130.07,5 130.07,86.04 18.94,86.04 \" />\n",
       "  </clipPath>\n",
       "</defs>\n",
       "</svg>\n"
      ],
      "text/html": [
       "<?xml version=\"1.0\" encoding=\"UTF-8\"?>\n",
       "<svg xmlns=\"http://www.w3.org/2000/svg\"\n",
       "     xmlns:xlink=\"http://www.w3.org/1999/xlink\"\n",
       "     xmlns:gadfly=\"http://www.gadflyjl.org/ns\"\n",
       "     version=\"1.2\"\n",
       "     width=\"141.42mm\" height=\"100mm\" viewBox=\"0 0 141.42 100\"\n",
       "     stroke=\"none\"\n",
       "     fill=\"#000000\"\n",
       "     stroke-width=\"0.3\"\n",
       "     font-size=\"3.88\"\n",
       ">\n",
       "<defs>\n",
       "  <marker id=\"arrow\" markerWidth=\"15\" markerHeight=\"7\" refX=\"5\" refY=\"3.5\" orient=\"auto\" markerUnits=\"strokeWidth\">\n",
       "    <path d=\"M0,0 L15,3.5 L0,7 z\" stroke=\"context-stroke\" fill=\"context-stroke\"/>\n",
       "  </marker>\n",
       "</defs>\n",
       "<g stroke=\"#000000\" stroke-opacity=\"0.000\" fill=\"#FFFFFF\" id=\"img-84fecb32-1\">\n",
       "  <g transform=\"translate(70.71,50)\">\n",
       "    <path d=\"M-70.71,-50 L70.71,-50 70.71,50 -70.71,50  z\" class=\"primitive\"/>\n",
       "  </g>\n",
       "</g>\n",
       "<g class=\"plotroot xscalable yscalable\" id=\"img-84fecb32-2\">\n",
       "  <g font-size=\"3.53\" font-family=\"'PT Sans','Helvetica Neue','Helvetica',sans-serif\" fill=\"#564A55\" stroke=\"#000000\" stroke-opacity=\"0.000\" id=\"img-84fecb32-3\">\n",
       "    <g transform=\"translate(74.5,93.72)\">\n",
       "      <g class=\"primitive\">\n",
       "        <text text-anchor=\"middle\" dy=\"0.6em\">t</text>\n",
       "      </g>\n",
       "    </g>\n",
       "  </g>\n",
       "  <g class=\"guide xlabels\" font-size=\"2.82\" font-family=\"'PT Sans Caption','Helvetica Neue','Helvetica',sans-serif\" fill=\"#6C606B\" id=\"img-84fecb32-4\">\n",
       "    <g transform=\"translate(20.94,87.04)\">\n",
       "      <g class=\"primitive\">\n",
       "        <text text-anchor=\"middle\" dy=\"0.6em\">0</text>\n",
       "      </g>\n",
       "    </g>\n",
       "    <g transform=\"translate(42.36,87.04)\">\n",
       "      <g class=\"primitive\">\n",
       "        <text text-anchor=\"middle\" dy=\"0.6em\">10</text>\n",
       "      </g>\n",
       "    </g>\n",
       "    <g transform=\"translate(63.79,87.04)\">\n",
       "      <g class=\"primitive\">\n",
       "        <text text-anchor=\"middle\" dy=\"0.6em\">20</text>\n",
       "      </g>\n",
       "    </g>\n",
       "    <g transform=\"translate(85.22,87.04)\">\n",
       "      <g class=\"primitive\">\n",
       "        <text text-anchor=\"middle\" dy=\"0.6em\">30</text>\n",
       "      </g>\n",
       "    </g>\n",
       "    <g transform=\"translate(106.64,87.04)\">\n",
       "      <g class=\"primitive\">\n",
       "        <text text-anchor=\"middle\" dy=\"0.6em\">40</text>\n",
       "      </g>\n",
       "    </g>\n",
       "    <g transform=\"translate(128.07,87.04)\">\n",
       "      <g class=\"primitive\">\n",
       "        <text text-anchor=\"middle\" dy=\"0.6em\">50</text>\n",
       "      </g>\n",
       "    </g>\n",
       "  </g>\n",
       "  <g class=\"guide colorkey\" id=\"img-84fecb32-5\">\n",
       "    <g fill=\"#4C404B\" font-size=\"2.82\" font-family=\"'PT Sans','Helvetica Neue','Helvetica',sans-serif\" id=\"img-84fecb32-6\">\n",
       "      <g transform=\"translate(134.69,45.94)\" id=\"img-84fecb32-7\">\n",
       "        <g class=\"primitive\">\n",
       "          <text dy=\"0.35em\">L</text>\n",
       "        </g>\n",
       "      </g>\n",
       "      <g transform=\"translate(134.69,49.56)\" id=\"img-84fecb32-8\">\n",
       "        <g class=\"primitive\">\n",
       "          <text dy=\"0.35em\">G</text>\n",
       "        </g>\n",
       "      </g>\n",
       "    </g>\n",
       "    <g stroke-width=\"0.3\" id=\"img-84fecb32-9\">\n",
       "      <g stroke=\"#FFFFFF\" stroke-opacity=\"0.000\" fill-opacity=\"1\" fill=\"#D4CA3A\" id=\"img-84fecb32-10\">\n",
       "        <g transform=\"translate(131.88,49.56)\" id=\"img-84fecb32-11\">\n",
       "          <circle cx=\"0\" cy=\"0\" r=\"0.7\" class=\"primitive\"/>\n",
       "        </g>\n",
       "      </g>\n",
       "      <g stroke=\"#FFFFFF\" stroke-opacity=\"0.000\" fill-opacity=\"1\" fill=\"#00BFFF\" id=\"img-84fecb32-12\">\n",
       "        <g transform=\"translate(131.88,45.94)\" id=\"img-84fecb32-13\">\n",
       "          <circle cx=\"0\" cy=\"0\" r=\"0.7\" class=\"primitive\"/>\n",
       "        </g>\n",
       "      </g>\n",
       "    </g>\n",
       "    <g fill=\"#362A35\" font-size=\"3.18\" font-family=\"'PT Sans','Helvetica Neue','Helvetica',sans-serif\" stroke=\"#000000\" stroke-opacity=\"0.000\" id=\"img-84fecb32-14\">\n",
       "      <g transform=\"translate(131.07,42.62)\" id=\"img-84fecb32-15\">\n",
       "        <g class=\"primitive\">\n",
       "          <text dy=\"-0em\"></text>\n",
       "        </g>\n",
       "      </g>\n",
       "    </g>\n",
       "  </g>\n",
       "  <g clip-path=\"url(#img-84fecb32-16)\">\n",
       "    <g id=\"img-84fecb32-17\">\n",
       "      <g pointer-events=\"visible\" stroke-width=\"0.3\" fill=\"#000000\" fill-opacity=\"0.000\" stroke=\"#000000\" stroke-opacity=\"0.000\" class=\"guide background\" id=\"img-84fecb32-18\">\n",
       "        <g transform=\"translate(74.5,45.52)\" id=\"img-84fecb32-19\">\n",
       "          <path d=\"M-55.57,-40.52 L55.57,-40.52 55.57,40.52 -55.57,40.52  z\" class=\"primitive\"/>\n",
       "        </g>\n",
       "      </g>\n",
       "      <g class=\"guide ygridlines xfixed\" stroke-dasharray=\"0.5,0.5\" stroke-width=\"0.2\" stroke=\"#D0D0E0\" id=\"img-84fecb32-20\">\n",
       "        <g transform=\"translate(74.5,45.91)\" id=\"img-84fecb32-21\">\n",
       "          <path fill=\"none\" d=\"M-55.57,0 L55.57,0 \" class=\"primitive\"/>\n",
       "        </g>\n",
       "        <g transform=\"translate(74.5,7)\" id=\"img-84fecb32-22\">\n",
       "          <path fill=\"none\" d=\"M-55.57,0 L55.57,0 \" class=\"primitive\"/>\n",
       "        </g>\n",
       "      </g>\n",
       "      <g class=\"guide xgridlines yfixed\" stroke-dasharray=\"0.5,0.5\" stroke-width=\"0.2\" stroke=\"#D0D0E0\" id=\"img-84fecb32-23\">\n",
       "        <g transform=\"translate(20.94,45.52)\" id=\"img-84fecb32-24\">\n",
       "          <path fill=\"none\" d=\"M0,-40.52 L0,40.52 \" class=\"primitive\"/>\n",
       "        </g>\n",
       "        <g transform=\"translate(42.36,45.52)\" id=\"img-84fecb32-25\">\n",
       "          <path fill=\"none\" d=\"M0,-40.52 L0,40.52 \" class=\"primitive\"/>\n",
       "        </g>\n",
       "        <g transform=\"translate(63.79,45.52)\" id=\"img-84fecb32-26\">\n",
       "          <path fill=\"none\" d=\"M0,-40.52 L0,40.52 \" class=\"primitive\"/>\n",
       "        </g>\n",
       "        <g transform=\"translate(85.22,45.52)\" id=\"img-84fecb32-27\">\n",
       "          <path fill=\"none\" d=\"M0,-40.52 L0,40.52 \" class=\"primitive\"/>\n",
       "        </g>\n",
       "        <g transform=\"translate(106.64,45.52)\" id=\"img-84fecb32-28\">\n",
       "          <path fill=\"none\" d=\"M0,-40.52 L0,40.52 \" class=\"primitive\"/>\n",
       "        </g>\n",
       "        <g transform=\"translate(128.07,45.52)\" id=\"img-84fecb32-29\">\n",
       "          <path fill=\"none\" d=\"M0,-40.52 L0,40.52 \" class=\"primitive\"/>\n",
       "        </g>\n",
       "      </g>\n",
       "      <g class=\"plotpanel\" id=\"img-84fecb32-30\">\n",
       "        <metadata>\n",
       "          <boundingbox value=\"18.936666666666667mm 5.0mm 111.13135623730952mm 81.04333333333334mm\"/>\n",
       "          <unitbox value=\"-0.9334335297546998 102.5699822610652 51.8668670595094 -104.1399645221304\"/>\n",
       "        </metadata>\n",
       "        <g stroke-width=\"0.3\" fill=\"#000000\" fill-opacity=\"0.000\" class=\"geometry\" id=\"img-84fecb32-31\">\n",
       "          <g class=\"color_LCHab{Float32}(70.0f0,60.0f0,240.0f0)\" stroke-dasharray=\"none\" stroke-opacity=\"1\" stroke=\"#00BFFF\" id=\"img-84fecb32-32\">\n",
       "            <g transform=\"translate(74.5,33.13)\" id=\"img-84fecb32-33\">\n",
       "              <path fill=\"none\" d=\"M-53.57,50.92 L-51.42,50.69 -49.28,50.39 -47.14,50 -45,49.5 -42.85,48.87 -40.71,48.05 -38.57,47 -36.42,45.68 -34.28,44.02 -32.14,41.94 -30,39.38 -27.85,36.27 -25.71,32.56 -23.57,28.23 -21.43,23.32 -19.28,17.91 -17.14,12.17 -15,6.34 -12.86,0.66 -10.71,-4.61 -8.57,-9.28 -6.43,-13.24 -4.29,-16.47 -2.14,-19 0,-20.94 2.14,-22.4 4.29,-23.46 6.43,-24.23 8.57,-24.79 10.71,-25.18 12.86,-25.46 15,-25.66 17.14,-25.8 19.28,-25.9 21.43,-25.96 23.57,-26.01 25.71,-26.05 27.85,-26.07 30,-26.09 32.14,-26.1 34.28,-26.11 36.42,-26.11 38.57,-26.12 40.71,-26.12 42.85,-26.12 45,-26.12 47.14,-26.12 49.28,-26.12 51.42,-26.12 53.57,-26.12 \" class=\"primitive\"/>\n",
       "            </g>\n",
       "          </g>\n",
       "        </g>\n",
       "        <g stroke-width=\"0.3\" fill=\"#000000\" fill-opacity=\"0.000\" class=\"geometry\" id=\"img-84fecb32-34\">\n",
       "          <g class=\"color_LCHab{Float32}(80.0f0,70.000015f0,100.43479f0)\" stroke-dasharray=\"none\" stroke-opacity=\"1\" stroke=\"#D4CA3A\" id=\"img-84fecb32-35\">\n",
       "            <g transform=\"translate(74.5,58.35)\" id=\"img-84fecb32-36\">\n",
       "              <path fill=\"none\" d=\"M-53.57,25.7 L-51.42,25.46 -49.28,25.18 -47.14,24.84 -45,24.43 -42.85,23.96 -40.71,23.42 -38.57,22.79 -36.42,22.09 -34.28,21.31 -32.14,20.45 -30,19.51 -27.85,18.48 -25.71,17.38 -23.57,16.21 -21.43,14.97 -19.28,13.67 -17.14,12.32 -15,10.91 -12.86,9.46 -10.71,7.97 -8.57,6.46 -6.43,4.93 -4.29,3.38 -2.14,1.83 0,0.27 2.14,-1.27 4.29,-2.81 6.43,-4.33 8.57,-5.83 10.71,-7.3 12.86,-8.74 15,-10.15 17.14,-11.52 19.28,-12.85 21.43,-14.15 23.57,-15.4 25.71,-16.61 27.85,-17.78 30,-18.9 32.14,-19.98 34.28,-21.01 36.42,-22.01 38.57,-22.95 40.71,-23.86 42.85,-24.73 45,-25.55 47.14,-26.34 49.28,-27.08 51.42,-27.79 53.57,-28.46 \" class=\"primitive\"/>\n",
       "            </g>\n",
       "          </g>\n",
       "        </g>\n",
       "      </g>\n",
       "    </g>\n",
       "  </g>\n",
       "  <g class=\"guide ylabels\" font-size=\"2.82\" font-family=\"'PT Sans Caption','Helvetica Neue','Helvetica',sans-serif\" fill=\"#6C606B\" id=\"img-84fecb32-37\">\n",
       "    <g transform=\"translate(17.94,45.91)\" id=\"img-84fecb32-38\">\n",
       "      <g class=\"primitive\">\n",
       "        <text text-anchor=\"end\" dy=\"0.35em\">50</text>\n",
       "      </g>\n",
       "    </g>\n",
       "    <g transform=\"translate(17.94,7)\" id=\"img-84fecb32-39\">\n",
       "      <g class=\"primitive\">\n",
       "        <text text-anchor=\"end\" dy=\"0.35em\">100</text>\n",
       "      </g>\n",
       "    </g>\n",
       "  </g>\n",
       "  <g font-size=\"3.53\" font-family=\"'PT Sans','Helvetica Neue','Helvetica',sans-serif\" fill=\"#564A55\" stroke=\"#000000\" stroke-opacity=\"0.000\" id=\"img-84fecb32-40\">\n",
       "    <g transform=\"translate(9.92,45.52)\" id=\"img-84fecb32-41\">\n",
       "      <g class=\"primitive\">\n",
       "        <text text-anchor=\"end\" dy=\"0.35em\">W</text>\n",
       "      </g>\n",
       "    </g>\n",
       "  </g>\n",
       "</g>\n",
       "<defs>\n",
       "  <clipPath id=\"img-84fecb32-16\">\n",
       "    <path d=\"M18.94,5 L130.07,5 130.07,86.04 18.94,86.04 \" />\n",
       "  </clipPath>\n",
       "</defs>\n",
       "</svg>\n"
      ],
      "text/plain": [
       "\"<Cropbox.Plot{Gadfly.Plot}>\""
      ]
     },
     "execution_count": 28,
     "metadata": {},
     "output_type": "execute_result"
    }
   ],
   "source": [
    "visualize!(p15, Chan, :t, :W, config = c15G, stop = 50, kind = :line, name = \"G\")"
   ]
  },
  {
   "cell_type": "code",
   "execution_count": 29,
   "metadata": {
    "tags": []
   },
   "outputs": [
    {
     "data": {
      "image/svg+xml": [
       "<?xml version=\"1.0\" encoding=\"UTF-8\"?>\n",
       "<svg xmlns=\"http://www.w3.org/2000/svg\"\n",
       "     xmlns:xlink=\"http://www.w3.org/1999/xlink\"\n",
       "     xmlns:gadfly=\"http://www.gadflyjl.org/ns\"\n",
       "     version=\"1.2\"\n",
       "     width=\"141.42mm\" height=\"100mm\" viewBox=\"0 0 141.42 100\"\n",
       "     stroke=\"none\"\n",
       "     fill=\"#000000\"\n",
       "     stroke-width=\"0.3\"\n",
       "     font-size=\"3.88\"\n",
       ">\n",
       "<defs>\n",
       "  <marker id=\"arrow\" markerWidth=\"15\" markerHeight=\"7\" refX=\"5\" refY=\"3.5\" orient=\"auto\" markerUnits=\"strokeWidth\">\n",
       "    <path d=\"M0,0 L15,3.5 L0,7 z\" stroke=\"context-stroke\" fill=\"context-stroke\"/>\n",
       "  </marker>\n",
       "</defs>\n",
       "<g stroke=\"#000000\" stroke-opacity=\"0.000\" fill=\"#FFFFFF\" id=\"img-0afdd8bc-1\">\n",
       "  <g transform=\"translate(70.71,50)\">\n",
       "    <path d=\"M-70.71,-50 L70.71,-50 70.71,50 -70.71,50  z\" class=\"primitive\"/>\n",
       "  </g>\n",
       "</g>\n",
       "<g class=\"plotroot xscalable yscalable\" id=\"img-0afdd8bc-2\">\n",
       "  <g font-size=\"3.53\" font-family=\"'PT Sans','Helvetica Neue','Helvetica',sans-serif\" fill=\"#564A55\" stroke=\"#000000\" stroke-opacity=\"0.000\" id=\"img-0afdd8bc-3\">\n",
       "    <g transform=\"translate(74.5,93.72)\">\n",
       "      <g class=\"primitive\">\n",
       "        <text text-anchor=\"middle\" dy=\"0.6em\">t</text>\n",
       "      </g>\n",
       "    </g>\n",
       "  </g>\n",
       "  <g class=\"guide xlabels\" font-size=\"2.82\" font-family=\"'PT Sans Caption','Helvetica Neue','Helvetica',sans-serif\" fill=\"#6C606B\" id=\"img-0afdd8bc-4\">\n",
       "    <g transform=\"translate(20.94,87.04)\">\n",
       "      <g class=\"primitive\">\n",
       "        <text text-anchor=\"middle\" dy=\"0.6em\">0</text>\n",
       "      </g>\n",
       "    </g>\n",
       "    <g transform=\"translate(42.36,87.04)\">\n",
       "      <g class=\"primitive\">\n",
       "        <text text-anchor=\"middle\" dy=\"0.6em\">10</text>\n",
       "      </g>\n",
       "    </g>\n",
       "    <g transform=\"translate(63.79,87.04)\">\n",
       "      <g class=\"primitive\">\n",
       "        <text text-anchor=\"middle\" dy=\"0.6em\">20</text>\n",
       "      </g>\n",
       "    </g>\n",
       "    <g transform=\"translate(85.22,87.04)\">\n",
       "      <g class=\"primitive\">\n",
       "        <text text-anchor=\"middle\" dy=\"0.6em\">30</text>\n",
       "      </g>\n",
       "    </g>\n",
       "    <g transform=\"translate(106.64,87.04)\">\n",
       "      <g class=\"primitive\">\n",
       "        <text text-anchor=\"middle\" dy=\"0.6em\">40</text>\n",
       "      </g>\n",
       "    </g>\n",
       "    <g transform=\"translate(128.07,87.04)\">\n",
       "      <g class=\"primitive\">\n",
       "        <text text-anchor=\"middle\" dy=\"0.6em\">50</text>\n",
       "      </g>\n",
       "    </g>\n",
       "  </g>\n",
       "  <g class=\"guide colorkey\" id=\"img-0afdd8bc-5\">\n",
       "    <g fill=\"#4C404B\" font-size=\"2.82\" font-family=\"'PT Sans','Helvetica Neue','Helvetica',sans-serif\" id=\"img-0afdd8bc-6\">\n",
       "      <g transform=\"translate(134.69,44.12)\" id=\"img-0afdd8bc-7\">\n",
       "        <g class=\"primitive\">\n",
       "          <text dy=\"0.35em\">L</text>\n",
       "        </g>\n",
       "      </g>\n",
       "      <g transform=\"translate(134.69,47.75)\" id=\"img-0afdd8bc-8\">\n",
       "        <g class=\"primitive\">\n",
       "          <text dy=\"0.35em\">G</text>\n",
       "        </g>\n",
       "      </g>\n",
       "      <g transform=\"translate(134.69,51.38)\" id=\"img-0afdd8bc-9\">\n",
       "        <g class=\"primitive\">\n",
       "          <text dy=\"0.35em\">I</text>\n",
       "        </g>\n",
       "      </g>\n",
       "    </g>\n",
       "    <g stroke-width=\"0.3\" id=\"img-0afdd8bc-10\">\n",
       "      <g stroke=\"#FFFFFF\" stroke-opacity=\"0.000\" fill-opacity=\"1\" fill=\"#FF6DAE\" id=\"img-0afdd8bc-11\">\n",
       "        <g transform=\"translate(131.88,51.38)\" id=\"img-0afdd8bc-12\">\n",
       "          <circle cx=\"0\" cy=\"0\" r=\"0.7\" class=\"primitive\"/>\n",
       "        </g>\n",
       "      </g>\n",
       "      <g stroke=\"#FFFFFF\" stroke-opacity=\"0.000\" fill-opacity=\"1\" fill=\"#D4CA3A\" id=\"img-0afdd8bc-13\">\n",
       "        <g transform=\"translate(131.88,47.75)\" id=\"img-0afdd8bc-14\">\n",
       "          <circle cx=\"0\" cy=\"0\" r=\"0.7\" class=\"primitive\"/>\n",
       "        </g>\n",
       "      </g>\n",
       "      <g stroke=\"#FFFFFF\" stroke-opacity=\"0.000\" fill-opacity=\"1\" fill=\"#00BFFF\" id=\"img-0afdd8bc-15\">\n",
       "        <g transform=\"translate(131.88,44.12)\" id=\"img-0afdd8bc-16\">\n",
       "          <circle cx=\"0\" cy=\"0\" r=\"0.7\" class=\"primitive\"/>\n",
       "        </g>\n",
       "      </g>\n",
       "    </g>\n",
       "    <g fill=\"#362A35\" font-size=\"3.18\" font-family=\"'PT Sans','Helvetica Neue','Helvetica',sans-serif\" stroke=\"#000000\" stroke-opacity=\"0.000\" id=\"img-0afdd8bc-17\">\n",
       "      <g transform=\"translate(131.07,40.81)\" id=\"img-0afdd8bc-18\">\n",
       "        <g class=\"primitive\">\n",
       "          <text dy=\"-0em\"></text>\n",
       "        </g>\n",
       "      </g>\n",
       "    </g>\n",
       "  </g>\n",
       "  <g clip-path=\"url(#img-0afdd8bc-19)\">\n",
       "    <g id=\"img-0afdd8bc-20\">\n",
       "      <g pointer-events=\"visible\" stroke-width=\"0.3\" fill=\"#000000\" fill-opacity=\"0.000\" stroke=\"#000000\" stroke-opacity=\"0.000\" class=\"guide background\" id=\"img-0afdd8bc-21\">\n",
       "        <g transform=\"translate(74.5,45.52)\" id=\"img-0afdd8bc-22\">\n",
       "          <path d=\"M-55.57,-40.52 L55.57,-40.52 55.57,40.52 -55.57,40.52  z\" class=\"primitive\"/>\n",
       "        </g>\n",
       "      </g>\n",
       "      <g class=\"guide ygridlines xfixed\" stroke-dasharray=\"0.5,0.5\" stroke-width=\"0.2\" stroke=\"#D0D0E0\" id=\"img-0afdd8bc-23\">\n",
       "        <g transform=\"translate(74.5,45.91)\" id=\"img-0afdd8bc-24\">\n",
       "          <path fill=\"none\" d=\"M-55.57,0 L55.57,0 \" class=\"primitive\"/>\n",
       "        </g>\n",
       "        <g transform=\"translate(74.5,7)\" id=\"img-0afdd8bc-25\">\n",
       "          <path fill=\"none\" d=\"M-55.57,0 L55.57,0 \" class=\"primitive\"/>\n",
       "        </g>\n",
       "      </g>\n",
       "      <g class=\"guide xgridlines yfixed\" stroke-dasharray=\"0.5,0.5\" stroke-width=\"0.2\" stroke=\"#D0D0E0\" id=\"img-0afdd8bc-26\">\n",
       "        <g transform=\"translate(20.94,45.52)\" id=\"img-0afdd8bc-27\">\n",
       "          <path fill=\"none\" d=\"M0,-40.52 L0,40.52 \" class=\"primitive\"/>\n",
       "        </g>\n",
       "        <g transform=\"translate(42.36,45.52)\" id=\"img-0afdd8bc-28\">\n",
       "          <path fill=\"none\" d=\"M0,-40.52 L0,40.52 \" class=\"primitive\"/>\n",
       "        </g>\n",
       "        <g transform=\"translate(63.79,45.52)\" id=\"img-0afdd8bc-29\">\n",
       "          <path fill=\"none\" d=\"M0,-40.52 L0,40.52 \" class=\"primitive\"/>\n",
       "        </g>\n",
       "        <g transform=\"translate(85.22,45.52)\" id=\"img-0afdd8bc-30\">\n",
       "          <path fill=\"none\" d=\"M0,-40.52 L0,40.52 \" class=\"primitive\"/>\n",
       "        </g>\n",
       "        <g transform=\"translate(106.64,45.52)\" id=\"img-0afdd8bc-31\">\n",
       "          <path fill=\"none\" d=\"M0,-40.52 L0,40.52 \" class=\"primitive\"/>\n",
       "        </g>\n",
       "        <g transform=\"translate(128.07,45.52)\" id=\"img-0afdd8bc-32\">\n",
       "          <path fill=\"none\" d=\"M0,-40.52 L0,40.52 \" class=\"primitive\"/>\n",
       "        </g>\n",
       "      </g>\n",
       "      <g class=\"plotpanel\" id=\"img-0afdd8bc-33\">\n",
       "        <metadata>\n",
       "          <boundingbox value=\"18.936666666666667mm 5.0mm 111.13135623730952mm 81.04333333333335mm\"/>\n",
       "          <unitbox value=\"-0.9334335297546998 102.5699822610652 51.8668670595094 -104.1399645221304\"/>\n",
       "        </metadata>\n",
       "        <g stroke-width=\"0.3\" fill=\"#000000\" fill-opacity=\"0.000\" class=\"geometry\" id=\"img-0afdd8bc-34\">\n",
       "          <g class=\"color_LCHab{Float32}(70.0f0,60.0f0,240.0f0)\" stroke-dasharray=\"none\" stroke-opacity=\"1\" stroke=\"#00BFFF\" id=\"img-0afdd8bc-35\">\n",
       "            <g transform=\"translate(74.5,33.13)\" id=\"img-0afdd8bc-36\">\n",
       "              <path fill=\"none\" d=\"M-53.57,50.92 L-51.42,50.69 -49.28,50.39 -47.14,50 -45,49.5 -42.85,48.87 -40.71,48.05 -38.57,47 -36.42,45.68 -34.28,44.02 -32.14,41.94 -30,39.38 -27.85,36.27 -25.71,32.56 -23.57,28.23 -21.43,23.32 -19.28,17.91 -17.14,12.17 -15,6.34 -12.86,0.66 -10.71,-4.61 -8.57,-9.28 -6.43,-13.24 -4.29,-16.47 -2.14,-19 0,-20.94 2.14,-22.4 4.29,-23.46 6.43,-24.23 8.57,-24.79 10.71,-25.18 12.86,-25.46 15,-25.66 17.14,-25.8 19.28,-25.9 21.43,-25.96 23.57,-26.01 25.71,-26.05 27.85,-26.07 30,-26.09 32.14,-26.1 34.28,-26.11 36.42,-26.11 38.57,-26.12 40.71,-26.12 42.85,-26.12 45,-26.12 47.14,-26.12 49.28,-26.12 51.42,-26.12 53.57,-26.12 \" class=\"primitive\"/>\n",
       "            </g>\n",
       "          </g>\n",
       "        </g>\n",
       "        <g stroke-width=\"0.3\" fill=\"#000000\" fill-opacity=\"0.000\" class=\"geometry\" id=\"img-0afdd8bc-37\">\n",
       "          <g class=\"color_LCHab{Float32}(80.0f0,70.000015f0,100.43479f0)\" stroke-dasharray=\"none\" stroke-opacity=\"1\" stroke=\"#D4CA3A\" id=\"img-0afdd8bc-38\">\n",
       "            <g transform=\"translate(74.5,58.35)\" id=\"img-0afdd8bc-39\">\n",
       "              <path fill=\"none\" d=\"M-53.57,25.7 L-51.42,25.46 -49.28,25.18 -47.14,24.84 -45,24.43 -42.85,23.96 -40.71,23.42 -38.57,22.79 -36.42,22.09 -34.28,21.31 -32.14,20.45 -30,19.51 -27.85,18.48 -25.71,17.38 -23.57,16.21 -21.43,14.97 -19.28,13.67 -17.14,12.32 -15,10.91 -12.86,9.46 -10.71,7.97 -8.57,6.46 -6.43,4.93 -4.29,3.38 -2.14,1.83 0,0.27 2.14,-1.27 4.29,-2.81 6.43,-4.33 8.57,-5.83 10.71,-7.3 12.86,-8.74 15,-10.15 17.14,-11.52 19.28,-12.85 21.43,-14.15 23.57,-15.4 25.71,-16.61 27.85,-17.78 30,-18.9 32.14,-19.98 34.28,-21.01 36.42,-22.01 38.57,-22.95 40.71,-23.86 42.85,-24.73 45,-25.55 47.14,-26.34 49.28,-27.08 51.42,-27.79 53.57,-28.46 \" class=\"primitive\"/>\n",
       "            </g>\n",
       "          </g>\n",
       "        </g>\n",
       "        <g stroke-width=\"0.3\" fill=\"#000000\" fill-opacity=\"0.000\" class=\"geometry\" id=\"img-0afdd8bc-40\">\n",
       "          <g class=\"color_LCHab{Float32}(65.89944f0,62.21457f0,353.99814f0)\" stroke-dasharray=\"none\" stroke-opacity=\"1\" stroke=\"#FF6DAE\" id=\"img-0afdd8bc-41\">\n",
       "            <g transform=\"translate(74.5,44.12)\" id=\"img-0afdd8bc-42\">\n",
       "              <path fill=\"none\" d=\"M-53.57,39.92 L-51.42,39.69 -49.28,39.4 -47.14,39.04 -45,38.6 -42.85,38.05 -40.71,37.39 -38.57,36.59 -36.42,35.65 -34.28,34.53 -32.14,33.23 -30,31.73 -27.85,30.02 -25.71,28.09 -23.57,25.95 -21.43,23.59 -19.28,21.04 -17.14,18.31 -15,15.43 -12.86,12.45 -10.71,9.4 -8.57,6.32 -6.43,3.25 -4.29,0.24 -2.14,-2.68 0,-5.49 2.14,-8.15 4.29,-10.65 6.43,-12.98 8.57,-15.14 10.71,-17.12 12.86,-18.93 15,-20.58 17.14,-22.08 19.28,-23.43 21.43,-24.65 23.57,-25.75 25.71,-26.74 27.85,-27.63 30,-28.43 32.14,-29.15 34.28,-29.79 36.42,-30.38 38.57,-30.9 40.71,-31.37 42.85,-31.8 45,-32.18 47.14,-32.53 49.28,-32.85 51.42,-33.14 53.57,-33.4 \" class=\"primitive\"/>\n",
       "            </g>\n",
       "          </g>\n",
       "        </g>\n",
       "      </g>\n",
       "    </g>\n",
       "  </g>\n",
       "  <g class=\"guide ylabels\" font-size=\"2.82\" font-family=\"'PT Sans Caption','Helvetica Neue','Helvetica',sans-serif\" fill=\"#6C606B\" id=\"img-0afdd8bc-43\">\n",
       "    <g transform=\"translate(17.94,45.91)\" id=\"img-0afdd8bc-44\">\n",
       "      <g class=\"primitive\">\n",
       "        <text text-anchor=\"end\" dy=\"0.35em\">50</text>\n",
       "      </g>\n",
       "    </g>\n",
       "    <g transform=\"translate(17.94,7)\" id=\"img-0afdd8bc-45\">\n",
       "      <g class=\"primitive\">\n",
       "        <text text-anchor=\"end\" dy=\"0.35em\">100</text>\n",
       "      </g>\n",
       "    </g>\n",
       "  </g>\n",
       "  <g font-size=\"3.53\" font-family=\"'PT Sans','Helvetica Neue','Helvetica',sans-serif\" fill=\"#564A55\" stroke=\"#000000\" stroke-opacity=\"0.000\" id=\"img-0afdd8bc-46\">\n",
       "    <g transform=\"translate(9.92,45.52)\" id=\"img-0afdd8bc-47\">\n",
       "      <g class=\"primitive\">\n",
       "        <text text-anchor=\"end\" dy=\"0.35em\">W</text>\n",
       "      </g>\n",
       "    </g>\n",
       "  </g>\n",
       "</g>\n",
       "<defs>\n",
       "  <clipPath id=\"img-0afdd8bc-19\">\n",
       "    <path d=\"M18.94,5 L130.07,5 130.07,86.04 18.94,86.04 \" />\n",
       "  </clipPath>\n",
       "</defs>\n",
       "</svg>\n"
      ],
      "text/html": [
       "<?xml version=\"1.0\" encoding=\"UTF-8\"?>\n",
       "<svg xmlns=\"http://www.w3.org/2000/svg\"\n",
       "     xmlns:xlink=\"http://www.w3.org/1999/xlink\"\n",
       "     xmlns:gadfly=\"http://www.gadflyjl.org/ns\"\n",
       "     version=\"1.2\"\n",
       "     width=\"141.42mm\" height=\"100mm\" viewBox=\"0 0 141.42 100\"\n",
       "     stroke=\"none\"\n",
       "     fill=\"#000000\"\n",
       "     stroke-width=\"0.3\"\n",
       "     font-size=\"3.88\"\n",
       ">\n",
       "<defs>\n",
       "  <marker id=\"arrow\" markerWidth=\"15\" markerHeight=\"7\" refX=\"5\" refY=\"3.5\" orient=\"auto\" markerUnits=\"strokeWidth\">\n",
       "    <path d=\"M0,0 L15,3.5 L0,7 z\" stroke=\"context-stroke\" fill=\"context-stroke\"/>\n",
       "  </marker>\n",
       "</defs>\n",
       "<g stroke=\"#000000\" stroke-opacity=\"0.000\" fill=\"#FFFFFF\" id=\"img-9fac3146-1\">\n",
       "  <g transform=\"translate(70.71,50)\">\n",
       "    <path d=\"M-70.71,-50 L70.71,-50 70.71,50 -70.71,50  z\" class=\"primitive\"/>\n",
       "  </g>\n",
       "</g>\n",
       "<g class=\"plotroot xscalable yscalable\" id=\"img-9fac3146-2\">\n",
       "  <g font-size=\"3.53\" font-family=\"'PT Sans','Helvetica Neue','Helvetica',sans-serif\" fill=\"#564A55\" stroke=\"#000000\" stroke-opacity=\"0.000\" id=\"img-9fac3146-3\">\n",
       "    <g transform=\"translate(74.5,93.72)\">\n",
       "      <g class=\"primitive\">\n",
       "        <text text-anchor=\"middle\" dy=\"0.6em\">t</text>\n",
       "      </g>\n",
       "    </g>\n",
       "  </g>\n",
       "  <g class=\"guide xlabels\" font-size=\"2.82\" font-family=\"'PT Sans Caption','Helvetica Neue','Helvetica',sans-serif\" fill=\"#6C606B\" id=\"img-9fac3146-4\">\n",
       "    <g transform=\"translate(20.94,87.04)\">\n",
       "      <g class=\"primitive\">\n",
       "        <text text-anchor=\"middle\" dy=\"0.6em\">0</text>\n",
       "      </g>\n",
       "    </g>\n",
       "    <g transform=\"translate(42.36,87.04)\">\n",
       "      <g class=\"primitive\">\n",
       "        <text text-anchor=\"middle\" dy=\"0.6em\">10</text>\n",
       "      </g>\n",
       "    </g>\n",
       "    <g transform=\"translate(63.79,87.04)\">\n",
       "      <g class=\"primitive\">\n",
       "        <text text-anchor=\"middle\" dy=\"0.6em\">20</text>\n",
       "      </g>\n",
       "    </g>\n",
       "    <g transform=\"translate(85.22,87.04)\">\n",
       "      <g class=\"primitive\">\n",
       "        <text text-anchor=\"middle\" dy=\"0.6em\">30</text>\n",
       "      </g>\n",
       "    </g>\n",
       "    <g transform=\"translate(106.64,87.04)\">\n",
       "      <g class=\"primitive\">\n",
       "        <text text-anchor=\"middle\" dy=\"0.6em\">40</text>\n",
       "      </g>\n",
       "    </g>\n",
       "    <g transform=\"translate(128.07,87.04)\">\n",
       "      <g class=\"primitive\">\n",
       "        <text text-anchor=\"middle\" dy=\"0.6em\">50</text>\n",
       "      </g>\n",
       "    </g>\n",
       "  </g>\n",
       "  <g class=\"guide colorkey\" id=\"img-9fac3146-5\">\n",
       "    <g fill=\"#4C404B\" font-size=\"2.82\" font-family=\"'PT Sans','Helvetica Neue','Helvetica',sans-serif\" id=\"img-9fac3146-6\">\n",
       "      <g transform=\"translate(134.69,44.12)\" id=\"img-9fac3146-7\">\n",
       "        <g class=\"primitive\">\n",
       "          <text dy=\"0.35em\">L</text>\n",
       "        </g>\n",
       "      </g>\n",
       "      <g transform=\"translate(134.69,47.75)\" id=\"img-9fac3146-8\">\n",
       "        <g class=\"primitive\">\n",
       "          <text dy=\"0.35em\">G</text>\n",
       "        </g>\n",
       "      </g>\n",
       "      <g transform=\"translate(134.69,51.38)\" id=\"img-9fac3146-9\">\n",
       "        <g class=\"primitive\">\n",
       "          <text dy=\"0.35em\">I</text>\n",
       "        </g>\n",
       "      </g>\n",
       "    </g>\n",
       "    <g stroke-width=\"0.3\" id=\"img-9fac3146-10\">\n",
       "      <g stroke=\"#FFFFFF\" stroke-opacity=\"0.000\" fill-opacity=\"1\" fill=\"#FF6DAE\" id=\"img-9fac3146-11\">\n",
       "        <g transform=\"translate(131.88,51.38)\" id=\"img-9fac3146-12\">\n",
       "          <circle cx=\"0\" cy=\"0\" r=\"0.7\" class=\"primitive\"/>\n",
       "        </g>\n",
       "      </g>\n",
       "      <g stroke=\"#FFFFFF\" stroke-opacity=\"0.000\" fill-opacity=\"1\" fill=\"#D4CA3A\" id=\"img-9fac3146-13\">\n",
       "        <g transform=\"translate(131.88,47.75)\" id=\"img-9fac3146-14\">\n",
       "          <circle cx=\"0\" cy=\"0\" r=\"0.7\" class=\"primitive\"/>\n",
       "        </g>\n",
       "      </g>\n",
       "      <g stroke=\"#FFFFFF\" stroke-opacity=\"0.000\" fill-opacity=\"1\" fill=\"#00BFFF\" id=\"img-9fac3146-15\">\n",
       "        <g transform=\"translate(131.88,44.12)\" id=\"img-9fac3146-16\">\n",
       "          <circle cx=\"0\" cy=\"0\" r=\"0.7\" class=\"primitive\"/>\n",
       "        </g>\n",
       "      </g>\n",
       "    </g>\n",
       "    <g fill=\"#362A35\" font-size=\"3.18\" font-family=\"'PT Sans','Helvetica Neue','Helvetica',sans-serif\" stroke=\"#000000\" stroke-opacity=\"0.000\" id=\"img-9fac3146-17\">\n",
       "      <g transform=\"translate(131.07,40.81)\" id=\"img-9fac3146-18\">\n",
       "        <g class=\"primitive\">\n",
       "          <text dy=\"-0em\"></text>\n",
       "        </g>\n",
       "      </g>\n",
       "    </g>\n",
       "  </g>\n",
       "  <g clip-path=\"url(#img-9fac3146-19)\">\n",
       "    <g id=\"img-9fac3146-20\">\n",
       "      <g pointer-events=\"visible\" stroke-width=\"0.3\" fill=\"#000000\" fill-opacity=\"0.000\" stroke=\"#000000\" stroke-opacity=\"0.000\" class=\"guide background\" id=\"img-9fac3146-21\">\n",
       "        <g transform=\"translate(74.5,45.52)\" id=\"img-9fac3146-22\">\n",
       "          <path d=\"M-55.57,-40.52 L55.57,-40.52 55.57,40.52 -55.57,40.52  z\" class=\"primitive\"/>\n",
       "        </g>\n",
       "      </g>\n",
       "      <g class=\"guide ygridlines xfixed\" stroke-dasharray=\"0.5,0.5\" stroke-width=\"0.2\" stroke=\"#D0D0E0\" id=\"img-9fac3146-23\">\n",
       "        <g transform=\"translate(74.5,45.91)\" id=\"img-9fac3146-24\">\n",
       "          <path fill=\"none\" d=\"M-55.57,0 L55.57,0 \" class=\"primitive\"/>\n",
       "        </g>\n",
       "        <g transform=\"translate(74.5,7)\" id=\"img-9fac3146-25\">\n",
       "          <path fill=\"none\" d=\"M-55.57,0 L55.57,0 \" class=\"primitive\"/>\n",
       "        </g>\n",
       "      </g>\n",
       "      <g class=\"guide xgridlines yfixed\" stroke-dasharray=\"0.5,0.5\" stroke-width=\"0.2\" stroke=\"#D0D0E0\" id=\"img-9fac3146-26\">\n",
       "        <g transform=\"translate(20.94,45.52)\" id=\"img-9fac3146-27\">\n",
       "          <path fill=\"none\" d=\"M0,-40.52 L0,40.52 \" class=\"primitive\"/>\n",
       "        </g>\n",
       "        <g transform=\"translate(42.36,45.52)\" id=\"img-9fac3146-28\">\n",
       "          <path fill=\"none\" d=\"M0,-40.52 L0,40.52 \" class=\"primitive\"/>\n",
       "        </g>\n",
       "        <g transform=\"translate(63.79,45.52)\" id=\"img-9fac3146-29\">\n",
       "          <path fill=\"none\" d=\"M0,-40.52 L0,40.52 \" class=\"primitive\"/>\n",
       "        </g>\n",
       "        <g transform=\"translate(85.22,45.52)\" id=\"img-9fac3146-30\">\n",
       "          <path fill=\"none\" d=\"M0,-40.52 L0,40.52 \" class=\"primitive\"/>\n",
       "        </g>\n",
       "        <g transform=\"translate(106.64,45.52)\" id=\"img-9fac3146-31\">\n",
       "          <path fill=\"none\" d=\"M0,-40.52 L0,40.52 \" class=\"primitive\"/>\n",
       "        </g>\n",
       "        <g transform=\"translate(128.07,45.52)\" id=\"img-9fac3146-32\">\n",
       "          <path fill=\"none\" d=\"M0,-40.52 L0,40.52 \" class=\"primitive\"/>\n",
       "        </g>\n",
       "      </g>\n",
       "      <g class=\"plotpanel\" id=\"img-9fac3146-33\">\n",
       "        <metadata>\n",
       "          <boundingbox value=\"18.936666666666667mm 5.0mm 111.13135623730952mm 81.04333333333335mm\"/>\n",
       "          <unitbox value=\"-0.9334335297546998 102.5699822610652 51.8668670595094 -104.1399645221304\"/>\n",
       "        </metadata>\n",
       "        <g stroke-width=\"0.3\" fill=\"#000000\" fill-opacity=\"0.000\" class=\"geometry\" id=\"img-9fac3146-34\">\n",
       "          <g class=\"color_LCHab{Float32}(70.0f0,60.0f0,240.0f0)\" stroke-dasharray=\"none\" stroke-opacity=\"1\" stroke=\"#00BFFF\" id=\"img-9fac3146-35\">\n",
       "            <g transform=\"translate(74.5,33.13)\" id=\"img-9fac3146-36\">\n",
       "              <path fill=\"none\" d=\"M-53.57,50.92 L-51.42,50.69 -49.28,50.39 -47.14,50 -45,49.5 -42.85,48.87 -40.71,48.05 -38.57,47 -36.42,45.68 -34.28,44.02 -32.14,41.94 -30,39.38 -27.85,36.27 -25.71,32.56 -23.57,28.23 -21.43,23.32 -19.28,17.91 -17.14,12.17 -15,6.34 -12.86,0.66 -10.71,-4.61 -8.57,-9.28 -6.43,-13.24 -4.29,-16.47 -2.14,-19 0,-20.94 2.14,-22.4 4.29,-23.46 6.43,-24.23 8.57,-24.79 10.71,-25.18 12.86,-25.46 15,-25.66 17.14,-25.8 19.28,-25.9 21.43,-25.96 23.57,-26.01 25.71,-26.05 27.85,-26.07 30,-26.09 32.14,-26.1 34.28,-26.11 36.42,-26.11 38.57,-26.12 40.71,-26.12 42.85,-26.12 45,-26.12 47.14,-26.12 49.28,-26.12 51.42,-26.12 53.57,-26.12 \" class=\"primitive\"/>\n",
       "            </g>\n",
       "          </g>\n",
       "        </g>\n",
       "        <g stroke-width=\"0.3\" fill=\"#000000\" fill-opacity=\"0.000\" class=\"geometry\" id=\"img-9fac3146-37\">\n",
       "          <g class=\"color_LCHab{Float32}(80.0f0,70.000015f0,100.43479f0)\" stroke-dasharray=\"none\" stroke-opacity=\"1\" stroke=\"#D4CA3A\" id=\"img-9fac3146-38\">\n",
       "            <g transform=\"translate(74.5,58.35)\" id=\"img-9fac3146-39\">\n",
       "              <path fill=\"none\" d=\"M-53.57,25.7 L-51.42,25.46 -49.28,25.18 -47.14,24.84 -45,24.43 -42.85,23.96 -40.71,23.42 -38.57,22.79 -36.42,22.09 -34.28,21.31 -32.14,20.45 -30,19.51 -27.85,18.48 -25.71,17.38 -23.57,16.21 -21.43,14.97 -19.28,13.67 -17.14,12.32 -15,10.91 -12.86,9.46 -10.71,7.97 -8.57,6.46 -6.43,4.93 -4.29,3.38 -2.14,1.83 0,0.27 2.14,-1.27 4.29,-2.81 6.43,-4.33 8.57,-5.83 10.71,-7.3 12.86,-8.74 15,-10.15 17.14,-11.52 19.28,-12.85 21.43,-14.15 23.57,-15.4 25.71,-16.61 27.85,-17.78 30,-18.9 32.14,-19.98 34.28,-21.01 36.42,-22.01 38.57,-22.95 40.71,-23.86 42.85,-24.73 45,-25.55 47.14,-26.34 49.28,-27.08 51.42,-27.79 53.57,-28.46 \" class=\"primitive\"/>\n",
       "            </g>\n",
       "          </g>\n",
       "        </g>\n",
       "        <g stroke-width=\"0.3\" fill=\"#000000\" fill-opacity=\"0.000\" class=\"geometry\" id=\"img-9fac3146-40\">\n",
       "          <g class=\"color_LCHab{Float32}(65.89944f0,62.21457f0,353.99814f0)\" stroke-dasharray=\"none\" stroke-opacity=\"1\" stroke=\"#FF6DAE\" id=\"img-9fac3146-41\">\n",
       "            <g transform=\"translate(74.5,44.12)\" id=\"img-9fac3146-42\">\n",
       "              <path fill=\"none\" d=\"M-53.57,39.92 L-51.42,39.69 -49.28,39.4 -47.14,39.04 -45,38.6 -42.85,38.05 -40.71,37.39 -38.57,36.59 -36.42,35.65 -34.28,34.53 -32.14,33.23 -30,31.73 -27.85,30.02 -25.71,28.09 -23.57,25.95 -21.43,23.59 -19.28,21.04 -17.14,18.31 -15,15.43 -12.86,12.45 -10.71,9.4 -8.57,6.32 -6.43,3.25 -4.29,0.24 -2.14,-2.68 0,-5.49 2.14,-8.15 4.29,-10.65 6.43,-12.98 8.57,-15.14 10.71,-17.12 12.86,-18.93 15,-20.58 17.14,-22.08 19.28,-23.43 21.43,-24.65 23.57,-25.75 25.71,-26.74 27.85,-27.63 30,-28.43 32.14,-29.15 34.28,-29.79 36.42,-30.38 38.57,-30.9 40.71,-31.37 42.85,-31.8 45,-32.18 47.14,-32.53 49.28,-32.85 51.42,-33.14 53.57,-33.4 \" class=\"primitive\"/>\n",
       "            </g>\n",
       "          </g>\n",
       "        </g>\n",
       "      </g>\n",
       "    </g>\n",
       "  </g>\n",
       "  <g class=\"guide ylabels\" font-size=\"2.82\" font-family=\"'PT Sans Caption','Helvetica Neue','Helvetica',sans-serif\" fill=\"#6C606B\" id=\"img-9fac3146-43\">\n",
       "    <g transform=\"translate(17.94,45.91)\" id=\"img-9fac3146-44\">\n",
       "      <g class=\"primitive\">\n",
       "        <text text-anchor=\"end\" dy=\"0.35em\">50</text>\n",
       "      </g>\n",
       "    </g>\n",
       "    <g transform=\"translate(17.94,7)\" id=\"img-9fac3146-45\">\n",
       "      <g class=\"primitive\">\n",
       "        <text text-anchor=\"end\" dy=\"0.35em\">100</text>\n",
       "      </g>\n",
       "    </g>\n",
       "  </g>\n",
       "  <g font-size=\"3.53\" font-family=\"'PT Sans','Helvetica Neue','Helvetica',sans-serif\" fill=\"#564A55\" stroke=\"#000000\" stroke-opacity=\"0.000\" id=\"img-9fac3146-46\">\n",
       "    <g transform=\"translate(9.92,45.52)\" id=\"img-9fac3146-47\">\n",
       "      <g class=\"primitive\">\n",
       "        <text text-anchor=\"end\" dy=\"0.35em\">W</text>\n",
       "      </g>\n",
       "    </g>\n",
       "  </g>\n",
       "</g>\n",
       "<defs>\n",
       "  <clipPath id=\"img-9fac3146-19\">\n",
       "    <path d=\"M18.94,5 L130.07,5 130.07,86.04 18.94,86.04 \" />\n",
       "  </clipPath>\n",
       "</defs>\n",
       "</svg>\n"
      ],
      "text/plain": [
       "\"<Cropbox.Plot{Gadfly.Plot}>\""
      ]
     },
     "execution_count": 29,
     "metadata": {},
     "output_type": "execute_result"
    }
   ],
   "source": [
    "visualize!(p15, Chan, :t, :W, config = c15I, stop = 50, kind = :line, name = \"I\")"
   ]
  },
  {
   "cell_type": "markdown",
   "metadata": {},
   "source": [
    "## 2. Derivative vs. Analytic Forms"
   ]
  },
  {
   "cell_type": "markdown",
   "metadata": {},
   "source": [
    "### 2.1. Exponential Growth Equation (Analytic Form)\n",
    "\n",
    "- Eq\n",
    "\n",
    "$$\n",
    "W = W_0 e^{\\mu t}\n",
    "$$\n",
    "\n",
    "- Table\n",
    "\n",
    "| Symbol | Value | Units | Description |\n",
    "| :- | :- | :- | :- |\n",
    "| $t$ | - | - | Time unit used in the model |\n",
    "| $\\mu$ | 0.3 | - | Specific growth rate |\n",
    "| $W_0$ | 1 | - | Dry mass at time $t = 0$ |\n",
    "| $W$ | - | - | Current dry mass |"
   ]
  },
  {
   "cell_type": "code",
   "execution_count": 30,
   "metadata": {
    "tags": []
   },
   "outputs": [
    {
     "data": {
      "text/plain": [
       "ExpoA"
      ]
     },
     "execution_count": 30,
     "metadata": {},
     "output_type": "execute_result"
    }
   ],
   "source": [
    "@system ExpoA(Controller) begin\n",
    "    t(context.clock.tick)       ~ track\n",
    "    μ           => 0.3          ~ preserve(parameter)\n",
    "    W0          => 1            ~ preserve(parameter)\n",
    "    W(W0, μ, t) => W0 * ℯ^(μ*t) ~ track\n",
    "end"
   ]
  },
  {
   "cell_type": "code",
   "execution_count": 31,
   "metadata": {
    "tags": []
   },
   "outputs": [
    {
     "data": {
      "text/plain": [
       "quote\n",
       "    \u001b[90m#= In[3]:2 =#\u001b[39m\n",
       "    μ => 0.3 ~ preserve(parameter)\n",
       "    \u001b[90m#= In[3]:3 =#\u001b[39m\n",
       "    W0 => 1 ~ preserve(parameter)\n",
       "    \u001b[90m#= In[3]:4 =#\u001b[39m\n",
       "    W(μ, W) => μ * W ~ accumulate(init = W0)\n",
       "    \u001b[90m#= In[3]:6 =#\u001b[39m\n",
       "    t(context.clock.tick) ~ track\n",
       "end"
      ]
     },
     "execution_count": 31,
     "metadata": {},
     "output_type": "execute_result"
    }
   ],
   "source": [
    "Cropbox.source(Expo)"
   ]
  },
  {
   "cell_type": "code",
   "execution_count": 32,
   "metadata": {
    "tags": []
   },
   "outputs": [
    {
     "data": {
      "text/html": [
       "<div><div style = \"float: left;\"><span>11×5 DataFrame</span></div><div style = \"clear: both;\"></div></div><div class = \"data-frame\" style = \"overflow-x: scroll;\"><table class = \"data-frame\" style = \"margin-bottom: 6px;\"><thead><tr class = \"header\"><th class = \"rowNumber\" style = \"font-weight: bold; text-align: right;\">Row</th><th style = \"text-align: left;\">time</th><th style = \"text-align: left;\">t</th><th style = \"text-align: left;\">μ</th><th style = \"text-align: left;\">W0</th><th style = \"text-align: left;\">W</th></tr><tr class = \"subheader headerLastRow\"><th class = \"rowNumber\" style = \"font-weight: bold; text-align: right;\"></th><th title = \"Unitful.Quantity{Float64, 𝐓, Unitful.FreeUnits{(hr,), 𝐓, nothing}}\" style = \"text-align: left;\">Quantity…</th><th title = \"Float64\" style = \"text-align: left;\">Float64</th><th title = \"Float64\" style = \"text-align: left;\">Float64</th><th title = \"Float64\" style = \"text-align: left;\">Float64</th><th title = \"Float64\" style = \"text-align: left;\">Float64</th></tr></thead><tbody><tr><td class = \"rowNumber\" style = \"font-weight: bold; text-align: right;\">1</td><td style = \"text-align: right;\">0.0 hr</td><td style = \"text-align: right;\">0.0</td><td style = \"text-align: right;\">0.3</td><td style = \"text-align: right;\">1.0</td><td style = \"text-align: right;\">1.0</td></tr><tr><td class = \"rowNumber\" style = \"font-weight: bold; text-align: right;\">2</td><td style = \"text-align: right;\">1.0 hr</td><td style = \"text-align: right;\">1.0</td><td style = \"text-align: right;\">0.3</td><td style = \"text-align: right;\">1.0</td><td style = \"text-align: right;\">1.34986</td></tr><tr><td class = \"rowNumber\" style = \"font-weight: bold; text-align: right;\">3</td><td style = \"text-align: right;\">2.0 hr</td><td style = \"text-align: right;\">2.0</td><td style = \"text-align: right;\">0.3</td><td style = \"text-align: right;\">1.0</td><td style = \"text-align: right;\">1.82212</td></tr><tr><td class = \"rowNumber\" style = \"font-weight: bold; text-align: right;\">4</td><td style = \"text-align: right;\">3.0 hr</td><td style = \"text-align: right;\">3.0</td><td style = \"text-align: right;\">0.3</td><td style = \"text-align: right;\">1.0</td><td style = \"text-align: right;\">2.4596</td></tr><tr><td class = \"rowNumber\" style = \"font-weight: bold; text-align: right;\">5</td><td style = \"text-align: right;\">4.0 hr</td><td style = \"text-align: right;\">4.0</td><td style = \"text-align: right;\">0.3</td><td style = \"text-align: right;\">1.0</td><td style = \"text-align: right;\">3.32012</td></tr><tr><td class = \"rowNumber\" style = \"font-weight: bold; text-align: right;\">6</td><td style = \"text-align: right;\">5.0 hr</td><td style = \"text-align: right;\">5.0</td><td style = \"text-align: right;\">0.3</td><td style = \"text-align: right;\">1.0</td><td style = \"text-align: right;\">4.48169</td></tr><tr><td class = \"rowNumber\" style = \"font-weight: bold; text-align: right;\">7</td><td style = \"text-align: right;\">6.0 hr</td><td style = \"text-align: right;\">6.0</td><td style = \"text-align: right;\">0.3</td><td style = \"text-align: right;\">1.0</td><td style = \"text-align: right;\">6.04965</td></tr><tr><td class = \"rowNumber\" style = \"font-weight: bold; text-align: right;\">8</td><td style = \"text-align: right;\">7.0 hr</td><td style = \"text-align: right;\">7.0</td><td style = \"text-align: right;\">0.3</td><td style = \"text-align: right;\">1.0</td><td style = \"text-align: right;\">8.16617</td></tr><tr><td class = \"rowNumber\" style = \"font-weight: bold; text-align: right;\">9</td><td style = \"text-align: right;\">8.0 hr</td><td style = \"text-align: right;\">8.0</td><td style = \"text-align: right;\">0.3</td><td style = \"text-align: right;\">1.0</td><td style = \"text-align: right;\">11.0232</td></tr><tr><td class = \"rowNumber\" style = \"font-weight: bold; text-align: right;\">10</td><td style = \"text-align: right;\">9.0 hr</td><td style = \"text-align: right;\">9.0</td><td style = \"text-align: right;\">0.3</td><td style = \"text-align: right;\">1.0</td><td style = \"text-align: right;\">14.8797</td></tr><tr><td class = \"rowNumber\" style = \"font-weight: bold; text-align: right;\">11</td><td style = \"text-align: right;\">10.0 hr</td><td style = \"text-align: right;\">10.0</td><td style = \"text-align: right;\">0.3</td><td style = \"text-align: right;\">1.0</td><td style = \"text-align: right;\">20.0855</td></tr></tbody></table></div>"
      ],
      "text/latex": [
       "\\begin{tabular}{r|ccccc}\n",
       "\t& time & t & μ & W0 & W\\\\\n",
       "\t\\hline\n",
       "\t& Quantity… & Float64 & Float64 & Float64 & Float64\\\\\n",
       "\t\\hline\n",
       "\t1 & 0.0 hr & 0.0 & 0.3 & 1.0 & 1.0 \\\\\n",
       "\t2 & 1.0 hr & 1.0 & 0.3 & 1.0 & 1.34986 \\\\\n",
       "\t3 & 2.0 hr & 2.0 & 0.3 & 1.0 & 1.82212 \\\\\n",
       "\t4 & 3.0 hr & 3.0 & 0.3 & 1.0 & 2.4596 \\\\\n",
       "\t5 & 4.0 hr & 4.0 & 0.3 & 1.0 & 3.32012 \\\\\n",
       "\t6 & 5.0 hr & 5.0 & 0.3 & 1.0 & 4.48169 \\\\\n",
       "\t7 & 6.0 hr & 6.0 & 0.3 & 1.0 & 6.04965 \\\\\n",
       "\t8 & 7.0 hr & 7.0 & 0.3 & 1.0 & 8.16617 \\\\\n",
       "\t9 & 8.0 hr & 8.0 & 0.3 & 1.0 & 11.0232 \\\\\n",
       "\t10 & 9.0 hr & 9.0 & 0.3 & 1.0 & 14.8797 \\\\\n",
       "\t11 & 10.0 hr & 10.0 & 0.3 & 1.0 & 20.0855 \\\\\n",
       "\\end{tabular}\n"
      ],
      "text/plain": [
       "\u001b[1m11×5 DataFrame\n",
       "\u001b[1m Row │\u001b[1m time      \u001b[1m t       \u001b[1m μ       \u001b[1m W0      \u001b[1m W\n",
       "     │\u001b[90m Quantity… \u001b[90m Float64 \u001b[90m Float64 \u001b[90m Float64 \u001b[90m Float64\n",
       "─────┼────────────────────────────────────────────────\n",
       "   1 │    0.0 hr      0.0      0.3      1.0   1.0\n",
       "   2 │    1.0 hr      1.0      0.3      1.0   1.34986\n",
       "   3 │    2.0 hr      2.0      0.3      1.0   1.82212\n",
       "   4 │    3.0 hr      3.0      0.3      1.0   2.4596\n",
       "   5 │    4.0 hr      4.0      0.3      1.0   3.32012\n",
       "   6 │    5.0 hr      5.0      0.3      1.0   4.48169\n",
       "   7 │    6.0 hr      6.0      0.3      1.0   6.04965\n",
       "   8 │    7.0 hr      7.0      0.3      1.0   8.16617\n",
       "   9 │    8.0 hr      8.0      0.3      1.0  11.0232\n",
       "  10 │    9.0 hr      9.0      0.3      1.0  14.8797\n",
       "  11 │   10.0 hr     10.0      0.3      1.0  20.0855"
      ]
     },
     "execution_count": 32,
     "metadata": {},
     "output_type": "execute_result"
    }
   ],
   "source": [
    "r21 = simulate(ExpoA, stop = 10)"
   ]
  },
  {
   "cell_type": "code",
   "execution_count": 33,
   "metadata": {
    "tags": []
   },
   "outputs": [
    {
     "data": {
      "image/svg+xml": [
       "<?xml version=\"1.0\" encoding=\"UTF-8\"?>\n",
       "<svg xmlns=\"http://www.w3.org/2000/svg\"\n",
       "     xmlns:xlink=\"http://www.w3.org/1999/xlink\"\n",
       "     xmlns:gadfly=\"http://www.gadflyjl.org/ns\"\n",
       "     version=\"1.2\"\n",
       "     width=\"141.42mm\" height=\"100mm\" viewBox=\"0 0 141.42 100\"\n",
       "     stroke=\"none\"\n",
       "     fill=\"#000000\"\n",
       "     stroke-width=\"0.3\"\n",
       "     font-size=\"3.88\"\n",
       ">\n",
       "<defs>\n",
       "  <marker id=\"arrow\" markerWidth=\"15\" markerHeight=\"7\" refX=\"5\" refY=\"3.5\" orient=\"auto\" markerUnits=\"strokeWidth\">\n",
       "    <path d=\"M0,0 L15,3.5 L0,7 z\" stroke=\"context-stroke\" fill=\"context-stroke\"/>\n",
       "  </marker>\n",
       "</defs>\n",
       "<g stroke=\"#000000\" stroke-opacity=\"0.000\" fill=\"#FFFFFF\" id=\"img-450d23c4-1\">\n",
       "  <g transform=\"translate(70.71,50)\">\n",
       "    <path d=\"M-70.71,-50 L70.71,-50 70.71,50 -70.71,50  z\" class=\"primitive\"/>\n",
       "  </g>\n",
       "</g>\n",
       "<g class=\"plotroot xscalable yscalable\" id=\"img-450d23c4-2\">\n",
       "  <g font-size=\"3.53\" font-family=\"'PT Sans','Helvetica Neue','Helvetica',sans-serif\" fill=\"#564A55\" stroke=\"#000000\" stroke-opacity=\"0.000\" id=\"img-450d23c4-3\">\n",
       "    <g transform=\"translate(69.9,93.72)\">\n",
       "      <g class=\"primitive\">\n",
       "        <text text-anchor=\"middle\" dy=\"0.6em\">t</text>\n",
       "      </g>\n",
       "    </g>\n",
       "  </g>\n",
       "  <g class=\"guide xlabels\" font-size=\"2.82\" font-family=\"'PT Sans Caption','Helvetica Neue','Helvetica',sans-serif\" fill=\"#6C606B\" id=\"img-450d23c4-4\">\n",
       "    <g transform=\"translate(12.35,87.04)\">\n",
       "      <g class=\"primitive\">\n",
       "        <text text-anchor=\"middle\" dy=\"0.6em\">0</text>\n",
       "      </g>\n",
       "    </g>\n",
       "    <g transform=\"translate(69.9,87.04)\">\n",
       "      <g class=\"primitive\">\n",
       "        <text text-anchor=\"middle\" dy=\"0.6em\">5</text>\n",
       "      </g>\n",
       "    </g>\n",
       "    <g transform=\"translate(127.46,87.04)\">\n",
       "      <g class=\"primitive\">\n",
       "        <text text-anchor=\"middle\" dy=\"0.6em\">10</text>\n",
       "      </g>\n",
       "    </g>\n",
       "  </g>\n",
       "  <g class=\"guide colorkey\" id=\"img-450d23c4-5\">\n",
       "    <g fill=\"#4C404B\" font-size=\"2.82\" font-family=\"'PT Sans','Helvetica Neue','Helvetica',sans-serif\" id=\"img-450d23c4-6\">\n",
       "      <g transform=\"translate(134.09,47.75)\" id=\"img-450d23c4-7\">\n",
       "        <g class=\"primitive\">\n",
       "          <text dy=\"0.35em\">W</text>\n",
       "        </g>\n",
       "      </g>\n",
       "    </g>\n",
       "    <g stroke-width=\"0.3\" id=\"img-450d23c4-8\">\n",
       "      <g stroke=\"#FFFFFF\" stroke-opacity=\"0.000\" fill-opacity=\"1\" fill=\"#00BFFF\" id=\"img-450d23c4-9\">\n",
       "        <g transform=\"translate(131.27,47.75)\" id=\"img-450d23c4-10\">\n",
       "          <circle cx=\"0\" cy=\"0\" r=\"0.7\" class=\"primitive\"/>\n",
       "        </g>\n",
       "      </g>\n",
       "    </g>\n",
       "    <g fill=\"#362A35\" font-size=\"3.18\" font-family=\"'PT Sans','Helvetica Neue','Helvetica',sans-serif\" stroke=\"#000000\" stroke-opacity=\"0.000\" id=\"img-450d23c4-11\">\n",
       "      <g transform=\"translate(130.46,44.44)\" id=\"img-450d23c4-12\">\n",
       "        <g class=\"primitive\">\n",
       "          <text dy=\"-0em\"></text>\n",
       "        </g>\n",
       "      </g>\n",
       "    </g>\n",
       "  </g>\n",
       "  <g clip-path=\"url(#img-450d23c4-13)\">\n",
       "    <g id=\"img-450d23c4-14\">\n",
       "      <g pointer-events=\"visible\" stroke-width=\"0.3\" fill=\"#000000\" fill-opacity=\"0.000\" stroke=\"#000000\" stroke-opacity=\"0.000\" class=\"guide background\" id=\"img-450d23c4-15\">\n",
       "        <g transform=\"translate(69.9,45.52)\" id=\"img-450d23c4-16\">\n",
       "          <path d=\"M-59.56,-40.52 L59.56,-40.52 59.56,40.52 -59.56,40.52  z\" class=\"primitive\"/>\n",
       "        </g>\n",
       "      </g>\n",
       "      <g class=\"guide ygridlines xfixed\" stroke-dasharray=\"0.5,0.5\" stroke-width=\"0.2\" stroke=\"#D0D0E0\" id=\"img-450d23c4-17\">\n",
       "        <g transform=\"translate(69.9,68.63)\" id=\"img-450d23c4-18\">\n",
       "          <path fill=\"none\" d=\"M-59.56,0 L59.56,0 \" class=\"primitive\"/>\n",
       "        </g>\n",
       "        <g transform=\"translate(69.9,49.37)\" id=\"img-450d23c4-19\">\n",
       "          <path fill=\"none\" d=\"M-59.56,0 L59.56,0 \" class=\"primitive\"/>\n",
       "        </g>\n",
       "        <g transform=\"translate(69.9,30.11)\" id=\"img-450d23c4-20\">\n",
       "          <path fill=\"none\" d=\"M-59.56,0 L59.56,0 \" class=\"primitive\"/>\n",
       "        </g>\n",
       "        <g transform=\"translate(69.9,10.85)\" id=\"img-450d23c4-21\">\n",
       "          <path fill=\"none\" d=\"M-59.56,0 L59.56,0 \" class=\"primitive\"/>\n",
       "        </g>\n",
       "      </g>\n",
       "      <g class=\"guide xgridlines yfixed\" stroke-dasharray=\"0.5,0.5\" stroke-width=\"0.2\" stroke=\"#D0D0E0\" id=\"img-450d23c4-22\">\n",
       "        <g transform=\"translate(12.35,45.52)\" id=\"img-450d23c4-23\">\n",
       "          <path fill=\"none\" d=\"M0,-40.52 L0,40.52 \" class=\"primitive\"/>\n",
       "        </g>\n",
       "        <g transform=\"translate(69.9,45.52)\" id=\"img-450d23c4-24\">\n",
       "          <path fill=\"none\" d=\"M0,-40.52 L0,40.52 \" class=\"primitive\"/>\n",
       "        </g>\n",
       "        <g transform=\"translate(127.46,45.52)\" id=\"img-450d23c4-25\">\n",
       "          <path fill=\"none\" d=\"M0,-40.52 L0,40.52 \" class=\"primitive\"/>\n",
       "        </g>\n",
       "      </g>\n",
       "      <g class=\"plotpanel\" id=\"img-450d23c4-26\">\n",
       "        <metadata>\n",
       "          <boundingbox value=\"10.346666666666664mm 5.0mm 119.11468957064285mm 81.04333333333332mm\"/>\n",
       "          <unitbox value=\"-0.1737397726962251 21.519188335568728 10.347479545392451 -21.038376671137456\"/>\n",
       "        </metadata>\n",
       "        <g stroke-width=\"0.3\" fill=\"#000000\" fill-opacity=\"0.000\" class=\"geometry\" id=\"img-450d23c4-27\">\n",
       "          <g class=\"color_LCHab{Float32}(70.0f0,60.0f0,240.0f0)\" stroke-dasharray=\"none\" stroke-opacity=\"1\" stroke=\"#00BFFF\" id=\"img-450d23c4-28\">\n",
       "            <g transform=\"translate(69.9,61.76)\" id=\"img-450d23c4-29\">\n",
       "              <path fill=\"none\" d=\"M-57.56,22.29 L-46.05,20.94 -34.53,19.12 -23.02,16.66 -11.51,13.35 0,8.87 11.51,2.83 23.02,-5.32 34.53,-16.33 46.05,-31.18 57.56,-51.23 \" class=\"primitive\"/>\n",
       "            </g>\n",
       "          </g>\n",
       "        </g>\n",
       "      </g>\n",
       "    </g>\n",
       "  </g>\n",
       "  <g class=\"guide ylabels\" font-size=\"2.82\" font-family=\"'PT Sans Caption','Helvetica Neue','Helvetica',sans-serif\" fill=\"#6C606B\" id=\"img-450d23c4-30\">\n",
       "    <g transform=\"translate(9.35,68.63)\" id=\"img-450d23c4-31\">\n",
       "      <g class=\"primitive\">\n",
       "        <text text-anchor=\"end\" dy=\"0.35em\">5</text>\n",
       "      </g>\n",
       "    </g>\n",
       "    <g transform=\"translate(9.35,49.37)\" id=\"img-450d23c4-32\">\n",
       "      <g class=\"primitive\">\n",
       "        <text text-anchor=\"end\" dy=\"0.35em\">10</text>\n",
       "      </g>\n",
       "    </g>\n",
       "    <g transform=\"translate(9.35,30.11)\" id=\"img-450d23c4-33\">\n",
       "      <g class=\"primitive\">\n",
       "        <text text-anchor=\"end\" dy=\"0.35em\">15</text>\n",
       "      </g>\n",
       "    </g>\n",
       "    <g transform=\"translate(9.35,10.85)\" id=\"img-450d23c4-34\">\n",
       "      <g class=\"primitive\">\n",
       "        <text text-anchor=\"end\" dy=\"0.35em\">20</text>\n",
       "      </g>\n",
       "    </g>\n",
       "  </g>\n",
       "</g>\n",
       "<defs>\n",
       "  <clipPath id=\"img-450d23c4-13\">\n",
       "    <path d=\"M10.35,5 L129.46,5 129.46,86.04 10.35,86.04 \" />\n",
       "  </clipPath>\n",
       "</defs>\n",
       "</svg>\n"
      ],
      "text/html": [
       "<?xml version=\"1.0\" encoding=\"UTF-8\"?>\n",
       "<svg xmlns=\"http://www.w3.org/2000/svg\"\n",
       "     xmlns:xlink=\"http://www.w3.org/1999/xlink\"\n",
       "     xmlns:gadfly=\"http://www.gadflyjl.org/ns\"\n",
       "     version=\"1.2\"\n",
       "     width=\"141.42mm\" height=\"100mm\" viewBox=\"0 0 141.42 100\"\n",
       "     stroke=\"none\"\n",
       "     fill=\"#000000\"\n",
       "     stroke-width=\"0.3\"\n",
       "     font-size=\"3.88\"\n",
       ">\n",
       "<defs>\n",
       "  <marker id=\"arrow\" markerWidth=\"15\" markerHeight=\"7\" refX=\"5\" refY=\"3.5\" orient=\"auto\" markerUnits=\"strokeWidth\">\n",
       "    <path d=\"M0,0 L15,3.5 L0,7 z\" stroke=\"context-stroke\" fill=\"context-stroke\"/>\n",
       "  </marker>\n",
       "</defs>\n",
       "<g stroke=\"#000000\" stroke-opacity=\"0.000\" fill=\"#FFFFFF\" id=\"img-c0141dc2-1\">\n",
       "  <g transform=\"translate(70.71,50)\">\n",
       "    <path d=\"M-70.71,-50 L70.71,-50 70.71,50 -70.71,50  z\" class=\"primitive\"/>\n",
       "  </g>\n",
       "</g>\n",
       "<g class=\"plotroot xscalable yscalable\" id=\"img-c0141dc2-2\">\n",
       "  <g font-size=\"3.53\" font-family=\"'PT Sans','Helvetica Neue','Helvetica',sans-serif\" fill=\"#564A55\" stroke=\"#000000\" stroke-opacity=\"0.000\" id=\"img-c0141dc2-3\">\n",
       "    <g transform=\"translate(69.9,93.72)\">\n",
       "      <g class=\"primitive\">\n",
       "        <text text-anchor=\"middle\" dy=\"0.6em\">t</text>\n",
       "      </g>\n",
       "    </g>\n",
       "  </g>\n",
       "  <g class=\"guide xlabels\" font-size=\"2.82\" font-family=\"'PT Sans Caption','Helvetica Neue','Helvetica',sans-serif\" fill=\"#6C606B\" id=\"img-c0141dc2-4\">\n",
       "    <g transform=\"translate(12.35,87.04)\">\n",
       "      <g class=\"primitive\">\n",
       "        <text text-anchor=\"middle\" dy=\"0.6em\">0</text>\n",
       "      </g>\n",
       "    </g>\n",
       "    <g transform=\"translate(69.9,87.04)\">\n",
       "      <g class=\"primitive\">\n",
       "        <text text-anchor=\"middle\" dy=\"0.6em\">5</text>\n",
       "      </g>\n",
       "    </g>\n",
       "    <g transform=\"translate(127.46,87.04)\">\n",
       "      <g class=\"primitive\">\n",
       "        <text text-anchor=\"middle\" dy=\"0.6em\">10</text>\n",
       "      </g>\n",
       "    </g>\n",
       "  </g>\n",
       "  <g class=\"guide colorkey\" id=\"img-c0141dc2-5\">\n",
       "    <g fill=\"#4C404B\" font-size=\"2.82\" font-family=\"'PT Sans','Helvetica Neue','Helvetica',sans-serif\" id=\"img-c0141dc2-6\">\n",
       "      <g transform=\"translate(134.09,47.75)\" id=\"img-c0141dc2-7\">\n",
       "        <g class=\"primitive\">\n",
       "          <text dy=\"0.35em\">W</text>\n",
       "        </g>\n",
       "      </g>\n",
       "    </g>\n",
       "    <g stroke-width=\"0.3\" id=\"img-c0141dc2-8\">\n",
       "      <g stroke=\"#FFFFFF\" stroke-opacity=\"0.000\" fill-opacity=\"1\" fill=\"#00BFFF\" id=\"img-c0141dc2-9\">\n",
       "        <g transform=\"translate(131.27,47.75)\" id=\"img-c0141dc2-10\">\n",
       "          <circle cx=\"0\" cy=\"0\" r=\"0.7\" class=\"primitive\"/>\n",
       "        </g>\n",
       "      </g>\n",
       "    </g>\n",
       "    <g fill=\"#362A35\" font-size=\"3.18\" font-family=\"'PT Sans','Helvetica Neue','Helvetica',sans-serif\" stroke=\"#000000\" stroke-opacity=\"0.000\" id=\"img-c0141dc2-11\">\n",
       "      <g transform=\"translate(130.46,44.44)\" id=\"img-c0141dc2-12\">\n",
       "        <g class=\"primitive\">\n",
       "          <text dy=\"-0em\"></text>\n",
       "        </g>\n",
       "      </g>\n",
       "    </g>\n",
       "  </g>\n",
       "  <g clip-path=\"url(#img-c0141dc2-13)\">\n",
       "    <g id=\"img-c0141dc2-14\">\n",
       "      <g pointer-events=\"visible\" stroke-width=\"0.3\" fill=\"#000000\" fill-opacity=\"0.000\" stroke=\"#000000\" stroke-opacity=\"0.000\" class=\"guide background\" id=\"img-c0141dc2-15\">\n",
       "        <g transform=\"translate(69.9,45.52)\" id=\"img-c0141dc2-16\">\n",
       "          <path d=\"M-59.56,-40.52 L59.56,-40.52 59.56,40.52 -59.56,40.52  z\" class=\"primitive\"/>\n",
       "        </g>\n",
       "      </g>\n",
       "      <g class=\"guide ygridlines xfixed\" stroke-dasharray=\"0.5,0.5\" stroke-width=\"0.2\" stroke=\"#D0D0E0\" id=\"img-c0141dc2-17\">\n",
       "        <g transform=\"translate(69.9,68.63)\" id=\"img-c0141dc2-18\">\n",
       "          <path fill=\"none\" d=\"M-59.56,0 L59.56,0 \" class=\"primitive\"/>\n",
       "        </g>\n",
       "        <g transform=\"translate(69.9,49.37)\" id=\"img-c0141dc2-19\">\n",
       "          <path fill=\"none\" d=\"M-59.56,0 L59.56,0 \" class=\"primitive\"/>\n",
       "        </g>\n",
       "        <g transform=\"translate(69.9,30.11)\" id=\"img-c0141dc2-20\">\n",
       "          <path fill=\"none\" d=\"M-59.56,0 L59.56,0 \" class=\"primitive\"/>\n",
       "        </g>\n",
       "        <g transform=\"translate(69.9,10.85)\" id=\"img-c0141dc2-21\">\n",
       "          <path fill=\"none\" d=\"M-59.56,0 L59.56,0 \" class=\"primitive\"/>\n",
       "        </g>\n",
       "      </g>\n",
       "      <g class=\"guide xgridlines yfixed\" stroke-dasharray=\"0.5,0.5\" stroke-width=\"0.2\" stroke=\"#D0D0E0\" id=\"img-c0141dc2-22\">\n",
       "        <g transform=\"translate(12.35,45.52)\" id=\"img-c0141dc2-23\">\n",
       "          <path fill=\"none\" d=\"M0,-40.52 L0,40.52 \" class=\"primitive\"/>\n",
       "        </g>\n",
       "        <g transform=\"translate(69.9,45.52)\" id=\"img-c0141dc2-24\">\n",
       "          <path fill=\"none\" d=\"M0,-40.52 L0,40.52 \" class=\"primitive\"/>\n",
       "        </g>\n",
       "        <g transform=\"translate(127.46,45.52)\" id=\"img-c0141dc2-25\">\n",
       "          <path fill=\"none\" d=\"M0,-40.52 L0,40.52 \" class=\"primitive\"/>\n",
       "        </g>\n",
       "      </g>\n",
       "      <g class=\"plotpanel\" id=\"img-c0141dc2-26\">\n",
       "        <metadata>\n",
       "          <boundingbox value=\"10.346666666666664mm 5.0mm 119.11468957064285mm 81.04333333333332mm\"/>\n",
       "          <unitbox value=\"-0.1737397726962251 21.519188335568728 10.347479545392451 -21.038376671137456\"/>\n",
       "        </metadata>\n",
       "        <g stroke-width=\"0.3\" fill=\"#000000\" fill-opacity=\"0.000\" class=\"geometry\" id=\"img-c0141dc2-27\">\n",
       "          <g class=\"color_LCHab{Float32}(70.0f0,60.0f0,240.0f0)\" stroke-dasharray=\"none\" stroke-opacity=\"1\" stroke=\"#00BFFF\" id=\"img-c0141dc2-28\">\n",
       "            <g transform=\"translate(69.9,61.76)\" id=\"img-c0141dc2-29\">\n",
       "              <path fill=\"none\" d=\"M-57.56,22.29 L-46.05,20.94 -34.53,19.12 -23.02,16.66 -11.51,13.35 0,8.87 11.51,2.83 23.02,-5.32 34.53,-16.33 46.05,-31.18 57.56,-51.23 \" class=\"primitive\"/>\n",
       "            </g>\n",
       "          </g>\n",
       "        </g>\n",
       "      </g>\n",
       "    </g>\n",
       "  </g>\n",
       "  <g class=\"guide ylabels\" font-size=\"2.82\" font-family=\"'PT Sans Caption','Helvetica Neue','Helvetica',sans-serif\" fill=\"#6C606B\" id=\"img-c0141dc2-30\">\n",
       "    <g transform=\"translate(9.35,68.63)\" id=\"img-c0141dc2-31\">\n",
       "      <g class=\"primitive\">\n",
       "        <text text-anchor=\"end\" dy=\"0.35em\">5</text>\n",
       "      </g>\n",
       "    </g>\n",
       "    <g transform=\"translate(9.35,49.37)\" id=\"img-c0141dc2-32\">\n",
       "      <g class=\"primitive\">\n",
       "        <text text-anchor=\"end\" dy=\"0.35em\">10</text>\n",
       "      </g>\n",
       "    </g>\n",
       "    <g transform=\"translate(9.35,30.11)\" id=\"img-c0141dc2-33\">\n",
       "      <g class=\"primitive\">\n",
       "        <text text-anchor=\"end\" dy=\"0.35em\">15</text>\n",
       "      </g>\n",
       "    </g>\n",
       "    <g transform=\"translate(9.35,10.85)\" id=\"img-c0141dc2-34\">\n",
       "      <g class=\"primitive\">\n",
       "        <text text-anchor=\"end\" dy=\"0.35em\">20</text>\n",
       "      </g>\n",
       "    </g>\n",
       "  </g>\n",
       "</g>\n",
       "<defs>\n",
       "  <clipPath id=\"img-c0141dc2-13\">\n",
       "    <path d=\"M10.35,5 L129.46,5 129.46,86.04 10.35,86.04 \" />\n",
       "  </clipPath>\n",
       "</defs>\n",
       "</svg>\n"
      ],
      "text/plain": [
       "\"<Cropbox.Plot{Gadfly.Plot}>\""
      ]
     },
     "execution_count": 33,
     "metadata": {},
     "output_type": "execute_result"
    }
   ],
   "source": [
    "visualize(r21, :t, :W, kind = :line)"
   ]
  },
  {
   "cell_type": "code",
   "execution_count": 34,
   "metadata": {
    "tags": []
   },
   "outputs": [
    {
     "data": {
      "image/svg+xml": [
       "<?xml version=\"1.0\" encoding=\"UTF-8\"?>\n",
       "<svg xmlns=\"http://www.w3.org/2000/svg\"\n",
       "     xmlns:xlink=\"http://www.w3.org/1999/xlink\"\n",
       "     xmlns:gadfly=\"http://www.gadflyjl.org/ns\"\n",
       "     version=\"1.2\"\n",
       "     width=\"141.42mm\" height=\"100mm\" viewBox=\"0 0 141.42 100\"\n",
       "     stroke=\"none\"\n",
       "     fill=\"#000000\"\n",
       "     stroke-width=\"0.3\"\n",
       "     font-size=\"3.88\"\n",
       ">\n",
       "<defs>\n",
       "  <marker id=\"arrow\" markerWidth=\"15\" markerHeight=\"7\" refX=\"5\" refY=\"3.5\" orient=\"auto\" markerUnits=\"strokeWidth\">\n",
       "    <path d=\"M0,0 L15,3.5 L0,7 z\" stroke=\"context-stroke\" fill=\"context-stroke\"/>\n",
       "  </marker>\n",
       "</defs>\n",
       "<g stroke=\"#000000\" stroke-opacity=\"0.000\" fill=\"#FFFFFF\" id=\"img-60b0c830-1\">\n",
       "  <g transform=\"translate(70.71,50)\">\n",
       "    <path d=\"M-70.71,-50 L70.71,-50 70.71,50 -70.71,50  z\" class=\"primitive\"/>\n",
       "  </g>\n",
       "</g>\n",
       "<g class=\"plotroot xscalable yscalable\" id=\"img-60b0c830-2\">\n",
       "  <g font-size=\"3.53\" font-family=\"'PT Sans','Helvetica Neue','Helvetica',sans-serif\" fill=\"#564A55\" stroke=\"#000000\" stroke-opacity=\"0.000\" id=\"img-60b0c830-3\">\n",
       "    <g transform=\"translate(70.7,93.72)\">\n",
       "      <g class=\"primitive\">\n",
       "        <text text-anchor=\"middle\" dy=\"0.6em\">t</text>\n",
       "      </g>\n",
       "    </g>\n",
       "  </g>\n",
       "  <g class=\"guide xlabels\" font-size=\"2.82\" font-family=\"'PT Sans Caption','Helvetica Neue','Helvetica',sans-serif\" fill=\"#6C606B\" id=\"img-60b0c830-4\">\n",
       "    <g transform=\"translate(19.26,87.04)\">\n",
       "      <g class=\"primitive\">\n",
       "        <text text-anchor=\"middle\" dy=\"0.6em\">0</text>\n",
       "      </g>\n",
       "    </g>\n",
       "    <g transform=\"translate(70.7,87.04)\">\n",
       "      <g class=\"primitive\">\n",
       "        <text text-anchor=\"middle\" dy=\"0.6em\">5</text>\n",
       "      </g>\n",
       "    </g>\n",
       "    <g transform=\"translate(122.13,87.04)\">\n",
       "      <g class=\"primitive\">\n",
       "        <text text-anchor=\"middle\" dy=\"0.6em\">10</text>\n",
       "      </g>\n",
       "    </g>\n",
       "  </g>\n",
       "  <g class=\"guide colorkey\" id=\"img-60b0c830-5\">\n",
       "    <g fill=\"#4C404B\" font-size=\"2.82\" font-family=\"'PT Sans','Helvetica Neue','Helvetica',sans-serif\" id=\"img-60b0c830-6\">\n",
       "      <g transform=\"translate(128.76,45.94)\" id=\"img-60b0c830-7\">\n",
       "        <g class=\"primitive\">\n",
       "          <text dy=\"0.35em\">Expo</text>\n",
       "        </g>\n",
       "      </g>\n",
       "      <g transform=\"translate(128.76,49.56)\" id=\"img-60b0c830-8\">\n",
       "        <g class=\"primitive\">\n",
       "          <text dy=\"0.35em\">ExpoA</text>\n",
       "        </g>\n",
       "      </g>\n",
       "    </g>\n",
       "    <g stroke-width=\"0.3\" id=\"img-60b0c830-9\">\n",
       "      <g stroke=\"#FFFFFF\" stroke-opacity=\"0.000\" fill-opacity=\"1\" fill=\"#D4CA3A\" id=\"img-60b0c830-10\">\n",
       "        <g transform=\"translate(125.95,49.56)\" id=\"img-60b0c830-11\">\n",
       "          <circle cx=\"0\" cy=\"0\" r=\"0.7\" class=\"primitive\"/>\n",
       "        </g>\n",
       "      </g>\n",
       "      <g stroke=\"#FFFFFF\" stroke-opacity=\"0.000\" fill-opacity=\"1\" fill=\"#00BFFF\" id=\"img-60b0c830-12\">\n",
       "        <g transform=\"translate(125.95,45.94)\" id=\"img-60b0c830-13\">\n",
       "          <circle cx=\"0\" cy=\"0\" r=\"0.7\" class=\"primitive\"/>\n",
       "        </g>\n",
       "      </g>\n",
       "    </g>\n",
       "    <g fill=\"#362A35\" font-size=\"3.18\" font-family=\"'PT Sans','Helvetica Neue','Helvetica',sans-serif\" stroke=\"#000000\" stroke-opacity=\"0.000\" id=\"img-60b0c830-14\">\n",
       "      <g transform=\"translate(125.13,42.62)\" id=\"img-60b0c830-15\">\n",
       "        <g class=\"primitive\">\n",
       "          <text dy=\"-0em\"></text>\n",
       "        </g>\n",
       "      </g>\n",
       "    </g>\n",
       "  </g>\n",
       "  <g clip-path=\"url(#img-60b0c830-16)\">\n",
       "    <g id=\"img-60b0c830-17\">\n",
       "      <g pointer-events=\"visible\" stroke-width=\"0.3\" fill=\"#000000\" fill-opacity=\"0.000\" stroke=\"#000000\" stroke-opacity=\"0.000\" class=\"guide background\" id=\"img-60b0c830-18\">\n",
       "        <g transform=\"translate(70.7,45.52)\" id=\"img-60b0c830-19\">\n",
       "          <path d=\"M-53.44,-40.52 L53.44,-40.52 53.44,40.52 -53.44,40.52  z\" class=\"primitive\"/>\n",
       "        </g>\n",
       "      </g>\n",
       "      <g class=\"guide ygridlines xfixed\" stroke-dasharray=\"0.5,0.5\" stroke-width=\"0.2\" stroke=\"#D0D0E0\" id=\"img-60b0c830-20\">\n",
       "        <g transform=\"translate(70.7,60.34)\" id=\"img-60b0c830-21\">\n",
       "          <path fill=\"none\" d=\"M-53.44,0 L53.44,0 \" class=\"primitive\"/>\n",
       "        </g>\n",
       "        <g transform=\"translate(70.7,30.71)\" id=\"img-60b0c830-22\">\n",
       "          <path fill=\"none\" d=\"M-53.44,0 L53.44,0 \" class=\"primitive\"/>\n",
       "        </g>\n",
       "      </g>\n",
       "      <g class=\"guide xgridlines yfixed\" stroke-dasharray=\"0.5,0.5\" stroke-width=\"0.2\" stroke=\"#D0D0E0\" id=\"img-60b0c830-23\">\n",
       "        <g transform=\"translate(19.26,45.52)\" id=\"img-60b0c830-24\">\n",
       "          <path fill=\"none\" d=\"M0,-40.52 L0,40.52 \" class=\"primitive\"/>\n",
       "        </g>\n",
       "        <g transform=\"translate(70.7,45.52)\" id=\"img-60b0c830-25\">\n",
       "          <path fill=\"none\" d=\"M0,-40.52 L0,40.52 \" class=\"primitive\"/>\n",
       "        </g>\n",
       "        <g transform=\"translate(122.13,45.52)\" id=\"img-60b0c830-26\">\n",
       "          <path fill=\"none\" d=\"M0,-40.52 L0,40.52 \" class=\"primitive\"/>\n",
       "        </g>\n",
       "      </g>\n",
       "      <g class=\"plotpanel\" id=\"img-60b0c830-27\">\n",
       "        <metadata>\n",
       "          <boundingbox value=\"17.263333333333335mm 5.0mm 106.87135623730951mm 81.04333333333334mm\"/>\n",
       "          <unitbox value=\"-0.19441757872680185 14.337472418119672 10.388835157453604 -13.674944836239346\"/>\n",
       "        </metadata>\n",
       "        <g stroke-width=\"0.3\" fill=\"#000000\" fill-opacity=\"0.000\" class=\"geometry\" id=\"img-60b0c830-28\">\n",
       "          <g class=\"color_LCHab{Float32}(70.0f0,60.0f0,240.0f0)\" stroke-dasharray=\"none\" stroke-opacity=\"1\" stroke=\"#00BFFF\" id=\"img-60b0c830-29\">\n",
       "            <g transform=\"translate(70.7,59.58)\" id=\"img-60b0c830-30\">\n",
       "              <path fill=\"none\" d=\"M-51.44,24.46 L-41.15,22.68 -30.86,20.37 -20.57,17.37 -10.29,13.46 0,8.38 10.29,1.78 20.57,-6.8 30.86,-17.95 41.15,-32.46 51.44,-51.31 \" class=\"primitive\"/>\n",
       "            </g>\n",
       "          </g>\n",
       "        </g>\n",
       "        <g stroke-width=\"0.3\" fill=\"#000000\" fill-opacity=\"0.000\" class=\"geometry\" id=\"img-60b0c830-31\">\n",
       "          <g class=\"color_LCHab{Float32}(80.0f0,70.000015f0,100.43479f0)\" stroke-dasharray=\"none\" stroke-opacity=\"1\" stroke=\"#D4CA3A\" id=\"img-60b0c830-32\">\n",
       "            <g transform=\"translate(70.7,49.76)\" id=\"img-60b0c830-33\">\n",
       "              <path fill=\"none\" d=\"M-51.44,34.29 L-41.15,32.21 -30.86,29.41 -20.57,25.64 -10.29,20.54 0,13.65 10.29,4.36 20.57,-8.18 30.86,-25.12 41.15,-47.97 51.44,-78.82 \" class=\"primitive\"/>\n",
       "            </g>\n",
       "          </g>\n",
       "        </g>\n",
       "      </g>\n",
       "    </g>\n",
       "  </g>\n",
       "  <g class=\"guide ylabels\" font-size=\"2.82\" font-family=\"'PT Sans Caption','Helvetica Neue','Helvetica',sans-serif\" fill=\"#6C606B\" id=\"img-60b0c830-34\">\n",
       "    <g transform=\"translate(16.26,60.34)\" id=\"img-60b0c830-35\">\n",
       "      <g class=\"primitive\">\n",
       "        <text text-anchor=\"end\" dy=\"0.35em\">5</text>\n",
       "      </g>\n",
       "    </g>\n",
       "    <g transform=\"translate(16.26,30.71)\" id=\"img-60b0c830-36\">\n",
       "      <g class=\"primitive\">\n",
       "        <text text-anchor=\"end\" dy=\"0.35em\">10</text>\n",
       "      </g>\n",
       "    </g>\n",
       "  </g>\n",
       "  <g font-size=\"3.53\" font-family=\"'PT Sans','Helvetica Neue','Helvetica',sans-serif\" fill=\"#564A55\" stroke=\"#000000\" stroke-opacity=\"0.000\" id=\"img-60b0c830-37\">\n",
       "    <g transform=\"translate(9.92,45.52)\" id=\"img-60b0c830-38\">\n",
       "      <g class=\"primitive\">\n",
       "        <text text-anchor=\"end\" dy=\"0.35em\">W</text>\n",
       "      </g>\n",
       "    </g>\n",
       "  </g>\n",
       "</g>\n",
       "<defs>\n",
       "  <clipPath id=\"img-60b0c830-16\">\n",
       "    <path d=\"M17.26,5 L124.13,5 124.13,86.04 17.26,86.04 \" />\n",
       "  </clipPath>\n",
       "</defs>\n",
       "</svg>\n"
      ],
      "text/html": [
       "<?xml version=\"1.0\" encoding=\"UTF-8\"?>\n",
       "<svg xmlns=\"http://www.w3.org/2000/svg\"\n",
       "     xmlns:xlink=\"http://www.w3.org/1999/xlink\"\n",
       "     xmlns:gadfly=\"http://www.gadflyjl.org/ns\"\n",
       "     version=\"1.2\"\n",
       "     width=\"141.42mm\" height=\"100mm\" viewBox=\"0 0 141.42 100\"\n",
       "     stroke=\"none\"\n",
       "     fill=\"#000000\"\n",
       "     stroke-width=\"0.3\"\n",
       "     font-size=\"3.88\"\n",
       ">\n",
       "<defs>\n",
       "  <marker id=\"arrow\" markerWidth=\"15\" markerHeight=\"7\" refX=\"5\" refY=\"3.5\" orient=\"auto\" markerUnits=\"strokeWidth\">\n",
       "    <path d=\"M0,0 L15,3.5 L0,7 z\" stroke=\"context-stroke\" fill=\"context-stroke\"/>\n",
       "  </marker>\n",
       "</defs>\n",
       "<g stroke=\"#000000\" stroke-opacity=\"0.000\" fill=\"#FFFFFF\" id=\"img-1cd6da57-1\">\n",
       "  <g transform=\"translate(70.71,50)\">\n",
       "    <path d=\"M-70.71,-50 L70.71,-50 70.71,50 -70.71,50  z\" class=\"primitive\"/>\n",
       "  </g>\n",
       "</g>\n",
       "<g class=\"plotroot xscalable yscalable\" id=\"img-1cd6da57-2\">\n",
       "  <g font-size=\"3.53\" font-family=\"'PT Sans','Helvetica Neue','Helvetica',sans-serif\" fill=\"#564A55\" stroke=\"#000000\" stroke-opacity=\"0.000\" id=\"img-1cd6da57-3\">\n",
       "    <g transform=\"translate(70.7,93.72)\">\n",
       "      <g class=\"primitive\">\n",
       "        <text text-anchor=\"middle\" dy=\"0.6em\">t</text>\n",
       "      </g>\n",
       "    </g>\n",
       "  </g>\n",
       "  <g class=\"guide xlabels\" font-size=\"2.82\" font-family=\"'PT Sans Caption','Helvetica Neue','Helvetica',sans-serif\" fill=\"#6C606B\" id=\"img-1cd6da57-4\">\n",
       "    <g transform=\"translate(19.26,87.04)\">\n",
       "      <g class=\"primitive\">\n",
       "        <text text-anchor=\"middle\" dy=\"0.6em\">0</text>\n",
       "      </g>\n",
       "    </g>\n",
       "    <g transform=\"translate(70.7,87.04)\">\n",
       "      <g class=\"primitive\">\n",
       "        <text text-anchor=\"middle\" dy=\"0.6em\">5</text>\n",
       "      </g>\n",
       "    </g>\n",
       "    <g transform=\"translate(122.13,87.04)\">\n",
       "      <g class=\"primitive\">\n",
       "        <text text-anchor=\"middle\" dy=\"0.6em\">10</text>\n",
       "      </g>\n",
       "    </g>\n",
       "  </g>\n",
       "  <g class=\"guide colorkey\" id=\"img-1cd6da57-5\">\n",
       "    <g fill=\"#4C404B\" font-size=\"2.82\" font-family=\"'PT Sans','Helvetica Neue','Helvetica',sans-serif\" id=\"img-1cd6da57-6\">\n",
       "      <g transform=\"translate(128.76,45.94)\" id=\"img-1cd6da57-7\">\n",
       "        <g class=\"primitive\">\n",
       "          <text dy=\"0.35em\">Expo</text>\n",
       "        </g>\n",
       "      </g>\n",
       "      <g transform=\"translate(128.76,49.56)\" id=\"img-1cd6da57-8\">\n",
       "        <g class=\"primitive\">\n",
       "          <text dy=\"0.35em\">ExpoA</text>\n",
       "        </g>\n",
       "      </g>\n",
       "    </g>\n",
       "    <g stroke-width=\"0.3\" id=\"img-1cd6da57-9\">\n",
       "      <g stroke=\"#FFFFFF\" stroke-opacity=\"0.000\" fill-opacity=\"1\" fill=\"#D4CA3A\" id=\"img-1cd6da57-10\">\n",
       "        <g transform=\"translate(125.95,49.56)\" id=\"img-1cd6da57-11\">\n",
       "          <circle cx=\"0\" cy=\"0\" r=\"0.7\" class=\"primitive\"/>\n",
       "        </g>\n",
       "      </g>\n",
       "      <g stroke=\"#FFFFFF\" stroke-opacity=\"0.000\" fill-opacity=\"1\" fill=\"#00BFFF\" id=\"img-1cd6da57-12\">\n",
       "        <g transform=\"translate(125.95,45.94)\" id=\"img-1cd6da57-13\">\n",
       "          <circle cx=\"0\" cy=\"0\" r=\"0.7\" class=\"primitive\"/>\n",
       "        </g>\n",
       "      </g>\n",
       "    </g>\n",
       "    <g fill=\"#362A35\" font-size=\"3.18\" font-family=\"'PT Sans','Helvetica Neue','Helvetica',sans-serif\" stroke=\"#000000\" stroke-opacity=\"0.000\" id=\"img-1cd6da57-14\">\n",
       "      <g transform=\"translate(125.13,42.62)\" id=\"img-1cd6da57-15\">\n",
       "        <g class=\"primitive\">\n",
       "          <text dy=\"-0em\"></text>\n",
       "        </g>\n",
       "      </g>\n",
       "    </g>\n",
       "  </g>\n",
       "  <g clip-path=\"url(#img-1cd6da57-16)\">\n",
       "    <g id=\"img-1cd6da57-17\">\n",
       "      <g pointer-events=\"visible\" stroke-width=\"0.3\" fill=\"#000000\" fill-opacity=\"0.000\" stroke=\"#000000\" stroke-opacity=\"0.000\" class=\"guide background\" id=\"img-1cd6da57-18\">\n",
       "        <g transform=\"translate(70.7,45.52)\" id=\"img-1cd6da57-19\">\n",
       "          <path d=\"M-53.44,-40.52 L53.44,-40.52 53.44,40.52 -53.44,40.52  z\" class=\"primitive\"/>\n",
       "        </g>\n",
       "      </g>\n",
       "      <g class=\"guide ygridlines xfixed\" stroke-dasharray=\"0.5,0.5\" stroke-width=\"0.2\" stroke=\"#D0D0E0\" id=\"img-1cd6da57-20\">\n",
       "        <g transform=\"translate(70.7,60.34)\" id=\"img-1cd6da57-21\">\n",
       "          <path fill=\"none\" d=\"M-53.44,0 L53.44,0 \" class=\"primitive\"/>\n",
       "        </g>\n",
       "        <g transform=\"translate(70.7,30.71)\" id=\"img-1cd6da57-22\">\n",
       "          <path fill=\"none\" d=\"M-53.44,0 L53.44,0 \" class=\"primitive\"/>\n",
       "        </g>\n",
       "      </g>\n",
       "      <g class=\"guide xgridlines yfixed\" stroke-dasharray=\"0.5,0.5\" stroke-width=\"0.2\" stroke=\"#D0D0E0\" id=\"img-1cd6da57-23\">\n",
       "        <g transform=\"translate(19.26,45.52)\" id=\"img-1cd6da57-24\">\n",
       "          <path fill=\"none\" d=\"M0,-40.52 L0,40.52 \" class=\"primitive\"/>\n",
       "        </g>\n",
       "        <g transform=\"translate(70.7,45.52)\" id=\"img-1cd6da57-25\">\n",
       "          <path fill=\"none\" d=\"M0,-40.52 L0,40.52 \" class=\"primitive\"/>\n",
       "        </g>\n",
       "        <g transform=\"translate(122.13,45.52)\" id=\"img-1cd6da57-26\">\n",
       "          <path fill=\"none\" d=\"M0,-40.52 L0,40.52 \" class=\"primitive\"/>\n",
       "        </g>\n",
       "      </g>\n",
       "      <g class=\"plotpanel\" id=\"img-1cd6da57-27\">\n",
       "        <metadata>\n",
       "          <boundingbox value=\"17.263333333333335mm 5.0mm 106.87135623730951mm 81.04333333333334mm\"/>\n",
       "          <unitbox value=\"-0.19441757872680185 14.337472418119672 10.388835157453604 -13.674944836239346\"/>\n",
       "        </metadata>\n",
       "        <g stroke-width=\"0.3\" fill=\"#000000\" fill-opacity=\"0.000\" class=\"geometry\" id=\"img-1cd6da57-28\">\n",
       "          <g class=\"color_LCHab{Float32}(70.0f0,60.0f0,240.0f0)\" stroke-dasharray=\"none\" stroke-opacity=\"1\" stroke=\"#00BFFF\" id=\"img-1cd6da57-29\">\n",
       "            <g transform=\"translate(70.7,59.58)\" id=\"img-1cd6da57-30\">\n",
       "              <path fill=\"none\" d=\"M-51.44,24.46 L-41.15,22.68 -30.86,20.37 -20.57,17.37 -10.29,13.46 0,8.38 10.29,1.78 20.57,-6.8 30.86,-17.95 41.15,-32.46 51.44,-51.31 \" class=\"primitive\"/>\n",
       "            </g>\n",
       "          </g>\n",
       "        </g>\n",
       "        <g stroke-width=\"0.3\" fill=\"#000000\" fill-opacity=\"0.000\" class=\"geometry\" id=\"img-1cd6da57-31\">\n",
       "          <g class=\"color_LCHab{Float32}(80.0f0,70.000015f0,100.43479f0)\" stroke-dasharray=\"none\" stroke-opacity=\"1\" stroke=\"#D4CA3A\" id=\"img-1cd6da57-32\">\n",
       "            <g transform=\"translate(70.7,49.76)\" id=\"img-1cd6da57-33\">\n",
       "              <path fill=\"none\" d=\"M-51.44,34.29 L-41.15,32.21 -30.86,29.41 -20.57,25.64 -10.29,20.54 0,13.65 10.29,4.36 20.57,-8.18 30.86,-25.12 41.15,-47.97 51.44,-78.82 \" class=\"primitive\"/>\n",
       "            </g>\n",
       "          </g>\n",
       "        </g>\n",
       "      </g>\n",
       "    </g>\n",
       "  </g>\n",
       "  <g class=\"guide ylabels\" font-size=\"2.82\" font-family=\"'PT Sans Caption','Helvetica Neue','Helvetica',sans-serif\" fill=\"#6C606B\" id=\"img-1cd6da57-34\">\n",
       "    <g transform=\"translate(16.26,60.34)\" id=\"img-1cd6da57-35\">\n",
       "      <g class=\"primitive\">\n",
       "        <text text-anchor=\"end\" dy=\"0.35em\">5</text>\n",
       "      </g>\n",
       "    </g>\n",
       "    <g transform=\"translate(16.26,30.71)\" id=\"img-1cd6da57-36\">\n",
       "      <g class=\"primitive\">\n",
       "        <text text-anchor=\"end\" dy=\"0.35em\">10</text>\n",
       "      </g>\n",
       "    </g>\n",
       "  </g>\n",
       "  <g font-size=\"3.53\" font-family=\"'PT Sans','Helvetica Neue','Helvetica',sans-serif\" fill=\"#564A55\" stroke=\"#000000\" stroke-opacity=\"0.000\" id=\"img-1cd6da57-37\">\n",
       "    <g transform=\"translate(9.92,45.52)\" id=\"img-1cd6da57-38\">\n",
       "      <g class=\"primitive\">\n",
       "        <text text-anchor=\"end\" dy=\"0.35em\">W</text>\n",
       "      </g>\n",
       "    </g>\n",
       "  </g>\n",
       "</g>\n",
       "<defs>\n",
       "  <clipPath id=\"img-1cd6da57-16\">\n",
       "    <path d=\"M17.26,5 L124.13,5 124.13,86.04 17.26,86.04 \" />\n",
       "  </clipPath>\n",
       "</defs>\n",
       "</svg>\n"
      ],
      "text/plain": [
       "\"<Cropbox.Plot{Gadfly.Plot}>\""
      ]
     },
     "execution_count": 34,
     "metadata": {},
     "output_type": "execute_result"
    }
   ],
   "source": [
    "visualize([Expo, ExpoA], :t, :W; stop = 10, kind = :line)"
   ]
  }
 ],
 "metadata": {
  "@webio": {
   "lastCommId": "e180cbb1-bfc9-4a00-a044-5f71e4e0fcbb",
   "lastKernelId": "a151eabc-a42f-40a5-845a-50f8469e74ba"
  },
  "kernelspec": {
   "display_name": "Julia 1.9.2",
   "language": "julia",
   "name": "julia-1.9"
  },
  "language_info": {
   "file_extension": ".jl",
   "mimetype": "application/julia",
   "name": "julia",
   "version": "1.9.2"
  }
 },
 "nbformat": 4,
 "nbformat_minor": 4
}
